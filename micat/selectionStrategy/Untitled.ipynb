{
 "cells": [
  {
   "cell_type": "code",
   "execution_count": null,
   "id": "78fd0dd2-948d-41f7-957a-1885b18020dd",
   "metadata": {},
   "outputs": [],
   "source": []
  }
 ],
 "metadata": {
  "kernelspec": {
   "display_name": "pytorch-gpu-2.7.0_py3.12.10",
   "language": "python",
   "name": "module-conda-env-pytorch-gpu-2.7.0_py3.12.10"
  },
  "language_info": {
   "name": ""
  }
 },
 "nbformat": 4,
 "nbformat_minor": 5
}
