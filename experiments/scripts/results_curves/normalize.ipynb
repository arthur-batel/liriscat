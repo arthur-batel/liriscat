{
 "cells": [
  {
   "cell_type": "code",
   "execution_count": 12,
   "id": "a35d5939-cef5-4c92-a217-df9dda825a74",
   "metadata": {},
   "outputs": [],
   "source": [
    "#!/usr/bin/env python3\n",
    "import numpy as np\n",
    "import pandas as pd\n",
    "import matplotlib.pyplot as plt\n",
    "from autorank import autorank, create_report, plot_stats \n",
    "import json\n",
    "import glob\n",
    "import re\n",
    "import os\n",
    "\n",
    "# Configuration\n",
    "algorithms = [\"Adam\", \"MAML\", \"Approx_GAP\", \"Beta_cd\", \"MICAT\"]\n",
    "datasets = [\"algebra\", \"assist0910\", \"math2\"]\n",
    "subalgos = [\"IMPACT\", \"NCDM\"]\n",
    "metrics = [\"mi_acc\",\"rmse\",\"mae\",\"mi_prec\",\"mi_rec\",\"mi_f_b\",\"mi_auc\",\"ma_prec\",\"ma_rec\",\"ma_f_b\",'meta_doa','pc-er','rm']\n",
    "pattern = re.compile(\n",
    "    r\"^CAT_launch_\"\n",
    "    r\"(?P<dataset>.+?)_\"\n",
    "    r\"(?P<subalgo>.+?)_\"\n",
    "    r\"(?P<algorithm>.+?)_\"\n",
    "    r\"\\d+_all_results\\.json$\"\n",
    ")\n",
    "\n",
    "output_dir = \"cd_plots\"\n",
    "os.makedirs(output_dir, exist_ok=True)"
   ]
  },
  {
   "cell_type": "code",
   "execution_count": 13,
   "id": "131cc1ac-2f88-482b-8ea8-c4f0154fb790",
   "metadata": {},
   "outputs": [
    {
     "name": "stdout",
     "output_type": "stream",
     "text": [
      "[INFO] Found 28 candidate result files.\n"
     ]
    }
   ],
   "source": [
    "# Collect metric values across all valid datasets/subalgos/folds/steps\n",
    "results = {m: {ds: {fold: {a: {sub : [] for a in algorithms} for sub in ['NCDM','IMPACT']} for fold in range(5)} for ds in datasets} for m in metrics}\n",
    "files = glob.glob(\"CAT_launch_*_IMPACT_*_all_results.json\") + \\\n",
    "        glob.glob(\"CAT_launch_*_NCDM_*_all_results.json\")\n",
    "print(f\"[INFO] Found {len(files)} candidate result files.\")\n",
    "\n",
    "for file in files:\n",
    "    m = pattern.match(os.path.basename(file))\n",
    "    if not m:\n",
    "        print(f\"[WARN] Filename does not match expected pattern: {file}\")\n",
    "        continue\n",
    "    ds, subalgo, algo = m[\"dataset\"], m[\"subalgo\"], m[\"algorithm\"]\n",
    "    if ds not in datasets or algo not in algorithms:\n",
    "        print(f\"[WARN] Skipping file due to unmatched dataset/algo: {ds}, {algo}\")\n",
    "        continue\n",
    "    if ds==\"algebra\" and subalgo==\"NCDM\":\n",
    "        continue\n",
    "    try:\n",
    "        with open(file, \"r\") as f:\n",
    "            folds = json.load(f)\n",
    "        for fold_idx, (pred, meta) in enumerate(folds):\n",
    "            for step in pred:\n",
    "                for metric in metrics:\n",
    "                    value = pred[step].get(metric)\n",
    "                    if value is None or np.isnan(value):\n",
    "                        value = meta[step].get(metric)\n",
    "                    if value is not None and not np.isnan(value):\n",
    "                        value_acc[metric] += value \n",
    "                    elif metric == 'pc-er' :\n",
    "                        value_acc[metric] += -2 \n",
    "                    results[metric][ds][fold_idx][algo]\n",
    "            for metric in metrics :\n",
    "                results[metric][algo].append(value_acc[metric])\n",
    "    except Exception as e:\n",
    "        print(f\"[ERROR] Failed to process {file}: {e}\")"
   ]
  },
  {
   "cell_type": "code",
   "execution_count": null,
   "id": "810a230c-b1e7-4ed6-ab34-6f82a6421bf3",
   "metadata": {},
   "outputs": [],
   "source": []
  },
  {
   "cell_type": "code",
   "execution_count": null,
   "id": "a64f0e77-9367-48cd-9aa8-f6474a4fc9a4",
   "metadata": {},
   "outputs": [],
   "source": [
    "import numpy as np\n",
    "nb_methods = len(results.keys())\n",
    "A = np.zeros((nb_methods,nb_methods))\n",
    "    \n",
    "\n",
    "for i_folds in range(5) : \n",
    "    for method in results.keys(): \n",
    "        A"
   ]
  },
  {
   "cell_type": "code",
   "execution_count": 9,
   "id": "40d5f9db-a382-4af5-b247-8c4ffcee652f",
   "metadata": {},
   "outputs": [
    {
     "data": {
      "text/plain": [
       "{'mi_acc': 0.7809749245643616,\n",
       " 'rmse': 0.46800121665000916,\n",
       " 'mae': 0.2190251350402832,\n",
       " 'mi_prec': 0.93740314245224,\n",
       " 'mi_rec': 0.7871454358100891,\n",
       " 'mi_f_b': 0.8557283878326416,\n",
       " 'mi_auc': 0.7694941055596793,\n",
       " 'ma_prec': 0.6826875805854797,\n",
       " 'ma_rec': 0.7694940567016602,\n",
       " 'ma_f_b': 0.7005914449691772}"
      ]
     },
     "execution_count": 9,
     "metadata": {},
     "output_type": "execute_result"
    }
   ],
   "source": [
    "results['MICAT'][0][0]['1']['mi_acc']"
   ]
  },
  {
   "cell_type": "code",
   "execution_count": 12,
   "id": "0e379c42-f55b-46f0-98d6-b5c25f53b206",
   "metadata": {},
   "outputs": [],
   "source": [
    "import numpy as np\n",
    "r1 = {m : {step:[] for step in range(16)} for m in results.keys()}\n",
    "std = {m : {step:0 for step in range(16)} for m in results.keys()}\n",
    "for method in results.keys():\n",
    "    for i_fold, fold in enumerate(results[method]) : \n",
    "        for step, values in fold[0].items() :\n",
    "            r1[method][int(step)].append(values['mi_acc'])\n",
    "for method in results.keys():\n",
    "    for step, values in fold[0].items() :\n",
    "            std[method][int(step)] = (np.array(r1[method][int(step)])).std()\n",
    "    "
   ]
  },
  {
   "cell_type": "code",
   "execution_count": 13,
   "id": "4c074647-c061-4fef-a233-ecc1b0c05c87",
   "metadata": {},
   "outputs": [
    {
     "name": "stdout",
     "output_type": "stream",
     "text": [
      "{'MICAT_INIT': {0: np.float64(0.015311678450248684), 1: np.float64(0.015576789025920842), 2: np.float64(0.015385880968059398), 3: np.float64(0.015385880968059398), 4: np.float64(0.01495398426626826), 5: np.float64(0.014447691130185122), 6: np.float64(0.014166756134757501), 7: np.float64(0.01413022158120815), 8: np.float64(0.013919491153503964), 9: np.float64(0.013765917490149899), 10: np.float64(0.014344688140669363), 11: np.float64(0.014208522056182345), 12: np.float64(0.014023492916829298), 13: np.float64(0.013899481730962938), 14: np.float64(0.013429734904105307), 15: np.float64(0.012630633313053757)}, 'MICAT_INIT_REG': {0: np.float64(0.015311678450248684), 1: np.float64(0.015576789025920842), 2: np.float64(0.015385880968059398), 3: np.float64(0.015385880968059398), 4: np.float64(0.01495398426626826), 5: np.float64(0.014447691130185122), 6: np.float64(0.014166756134757501), 7: np.float64(0.01413022158120815), 8: np.float64(0.013919491153503964), 9: np.float64(0.013765917490149899), 10: np.float64(0.014344688140669363), 11: np.float64(0.014208522056182345), 12: np.float64(0.014023492916829298), 13: np.float64(0.013899481730962938), 14: np.float64(0.013429734904105307), 15: np.float64(0.012630633313053757)}, 'MICAT': {0: np.float64(0.015216980498969785), 1: np.float64(0.014192082520814272), 2: np.float64(0.015372074369917521), 3: np.float64(0.015398719706421564), 4: np.float64(0.012265929074737003), 5: np.float64(0.012976740272916345), 6: np.float64(0.011694195089922038), 7: np.float64(0.013454312796757009), 8: np.float64(0.012000512401617841), 9: np.float64(0.013300570361993176), 10: np.float64(0.013101972972580084), 11: np.float64(0.01283475928179454), 12: np.float64(0.012312326739099771), 13: np.float64(0.011749377369319323), 14: np.float64(0.011456079338596561), 15: np.float64(0.010087496205834965)}, 'MICAT_INIT_TERM': {0: np.float64(0.015216980498969785), 1: np.float64(0.014192082520814272), 2: np.float64(0.015372074369917521), 3: np.float64(0.015398719706421564), 4: np.float64(0.012265929074737003), 5: np.float64(0.012976740272916345), 6: np.float64(0.011694195089922038), 7: np.float64(0.013454312796757009), 8: np.float64(0.012000512401617841), 9: np.float64(0.013300570361993176), 10: np.float64(0.013101972972580084), 11: np.float64(0.01283475928179454), 12: np.float64(0.012312326739099771), 13: np.float64(0.011749377369319323), 14: np.float64(0.011456079338596561), 15: np.float64(0.010087496205834965)}, 'MICAT_REG_TERM': {0: np.float64(0.015216980498969785), 1: np.float64(0.014192082520814272), 2: np.float64(0.015372074369917521), 3: np.float64(0.015398719706421564), 4: np.float64(0.012265929074737003), 5: np.float64(0.012976740272916345), 6: np.float64(0.011694195089922038), 7: np.float64(0.013454312796757009), 8: np.float64(0.012000512401617841), 9: np.float64(0.013300570361993176), 10: np.float64(0.013101972972580084), 11: np.float64(0.01283475928179454), 12: np.float64(0.012312326739099771), 13: np.float64(0.011749377369319323), 14: np.float64(0.011456079338596561), 15: np.float64(0.010087496205834965)}, 'MICAT_TERM': {0: np.float64(0.015216980498969785), 1: np.float64(0.014192082520814272), 2: np.float64(0.015372074369917521), 3: np.float64(0.015398719706421564), 4: np.float64(0.012265929074737003), 5: np.float64(0.012976740272916345), 6: np.float64(0.011694195089922038), 7: np.float64(0.013454312796757009), 8: np.float64(0.012000512401617841), 9: np.float64(0.013300570361993176), 10: np.float64(0.013101972972580084), 11: np.float64(0.01283475928179454), 12: np.float64(0.012312326739099771), 13: np.float64(0.011749377369319323), 14: np.float64(0.011456079338596561), 15: np.float64(0.010087496205834965)}, 'MICAT_REG': {0: np.float64(0.015311678450248684), 1: np.float64(0.015576789025920842), 2: np.float64(0.015385880968059398), 3: np.float64(0.015385880968059398), 4: np.float64(0.01495398426626826), 5: np.float64(0.014447691130185122), 6: np.float64(0.014166756134757501), 7: np.float64(0.01413022158120815), 8: np.float64(0.013919491153503964), 9: np.float64(0.013765917490149899), 10: np.float64(0.014344688140669363), 11: np.float64(0.014208522056182345), 12: np.float64(0.014023492916829298), 13: np.float64(0.013899481730962938), 14: np.float64(0.013429734904105307), 15: np.float64(0.012630633313053757)}}\n"
     ]
    }
   ],
   "source": [
    "print(std)"
   ]
  },
  {
   "cell_type": "code",
   "execution_count": 4,
   "id": "aad23fa4-9e56-446e-8bd3-1010c46a3190",
   "metadata": {},
   "outputs": [],
   "source": [
    "r2 = {m : {step:0 for step in range(16)} for m in results.keys()}\n",
    "for method in results.keys():\n",
    "    for i_fold, fold in enumerate(results[method]) : \n",
    "        for step, values in fold[0].items() :\n",
    "            r2[method][int(step)] += (values['mi_acc']/results['MICAT'][i_fold][0][step]['mi_acc'])*100/5\n",
    "    "
   ]
  },
  {
   "cell_type": "code",
   "execution_count": 5,
   "id": "5dfbeaf0-28e9-4801-a7d9-4957ef82987b",
   "metadata": {},
   "outputs": [
    {
     "data": {
      "text/plain": [
       "{'MICAT_INIT': {0: 99.02847874213727,\n",
       "  1: 98.84867825206221,\n",
       "  2: 98.39380254768244,\n",
       "  3: 98.00012132891382,\n",
       "  4: 97.60249170416606,\n",
       "  5: 97.39125053835295,\n",
       "  6: 96.96062956547573,\n",
       "  7: 96.64777311696423,\n",
       "  8: 96.06787518520221,\n",
       "  9: 95.11942855436175,\n",
       "  10: 95.11093716472195,\n",
       "  11: 94.71310027009267,\n",
       "  12: 94.0451955942788,\n",
       "  13: 93.51124520596912,\n",
       "  14: 93.41915007648996,\n",
       "  15: 93.32953257486933},\n",
       " 'MICAT_INIT_REG': {0: 99.02847874213727,\n",
       "  1: 98.84867825206221,\n",
       "  2: 98.39380254768244,\n",
       "  3: 98.00012132891382,\n",
       "  4: 97.60249170416606,\n",
       "  5: 97.39125053835295,\n",
       "  6: 96.96062956547573,\n",
       "  7: 96.64777311696423,\n",
       "  8: 96.06787518520221,\n",
       "  9: 95.11942855436175,\n",
       "  10: 95.11093716472195,\n",
       "  11: 94.71310027009267,\n",
       "  12: 94.0451955942788,\n",
       "  13: 93.51124520596912,\n",
       "  14: 93.41915007648996,\n",
       "  15: 93.32953257486933},\n",
       " 'MICAT': {0: 100.0,\n",
       "  1: 100.0,\n",
       "  2: 100.0,\n",
       "  3: 100.0,\n",
       "  4: 100.0,\n",
       "  5: 100.0,\n",
       "  6: 100.0,\n",
       "  7: 100.0,\n",
       "  8: 100.0,\n",
       "  9: 100.0,\n",
       "  10: 100.0,\n",
       "  11: 100.0,\n",
       "  12: 100.0,\n",
       "  13: 100.0,\n",
       "  14: 100.0,\n",
       "  15: 100.0},\n",
       " 'MICAT_INIT_TERM': {0: 100.0,\n",
       "  1: 100.0,\n",
       "  2: 100.0,\n",
       "  3: 100.0,\n",
       "  4: 100.0,\n",
       "  5: 100.0,\n",
       "  6: 100.0,\n",
       "  7: 100.0,\n",
       "  8: 100.0,\n",
       "  9: 100.0,\n",
       "  10: 100.0,\n",
       "  11: 100.0,\n",
       "  12: 100.0,\n",
       "  13: 100.0,\n",
       "  14: 100.0,\n",
       "  15: 100.0},\n",
       " 'MICAT_REG_TERM': {0: 100.0,\n",
       "  1: 100.0,\n",
       "  2: 100.0,\n",
       "  3: 100.0,\n",
       "  4: 100.0,\n",
       "  5: 100.0,\n",
       "  6: 100.0,\n",
       "  7: 100.0,\n",
       "  8: 100.0,\n",
       "  9: 100.0,\n",
       "  10: 100.0,\n",
       "  11: 100.0,\n",
       "  12: 100.0,\n",
       "  13: 100.0,\n",
       "  14: 100.0,\n",
       "  15: 100.0},\n",
       " 'MICAT_TERM': {0: 100.0,\n",
       "  1: 100.0,\n",
       "  2: 100.0,\n",
       "  3: 100.0,\n",
       "  4: 100.0,\n",
       "  5: 100.0,\n",
       "  6: 100.0,\n",
       "  7: 100.0,\n",
       "  8: 100.0,\n",
       "  9: 100.0,\n",
       "  10: 100.0,\n",
       "  11: 100.0,\n",
       "  12: 100.0,\n",
       "  13: 100.0,\n",
       "  14: 100.0,\n",
       "  15: 100.0},\n",
       " 'MICAT_REG': {0: 99.02847874213727,\n",
       "  1: 98.84867825206221,\n",
       "  2: 98.39380254768244,\n",
       "  3: 98.00012132891382,\n",
       "  4: 97.60249170416606,\n",
       "  5: 97.39125053835295,\n",
       "  6: 96.96062956547573,\n",
       "  7: 96.64777311696423,\n",
       "  8: 96.06787518520221,\n",
       "  9: 95.11942855436175,\n",
       "  10: 95.11093716472195,\n",
       "  11: 94.71310027009267,\n",
       "  12: 94.0451955942788,\n",
       "  13: 93.51124520596912,\n",
       "  14: 93.41915007648996,\n",
       "  15: 93.32953257486933}}"
      ]
     },
     "execution_count": 5,
     "metadata": {},
     "output_type": "execute_result"
    }
   ],
   "source": [
    "r2"
   ]
  },
  {
   "cell_type": "code",
   "execution_count": null,
   "id": "d017a1d0-4619-487a-96cb-32b9d2551996",
   "metadata": {},
   "outputs": [],
   "source": []
  }
 ],
 "metadata": {
  "kernelspec": {
   "display_name": "pytorch-gpu-2.7.0_py3.12.10",
   "language": "python",
   "name": "module-conda-env-pytorch-gpu-2.7.0_py3.12.10"
  },
  "language_info": {
   "codemirror_mode": {
    "name": "ipython",
    "version": 3
   },
   "file_extension": ".py",
   "mimetype": "text/x-python",
   "name": "python",
   "nbconvert_exporter": "python",
   "pygments_lexer": "ipython3",
   "version": "3.12.10"
  }
 },
 "nbformat": 4,
 "nbformat_minor": 5
}