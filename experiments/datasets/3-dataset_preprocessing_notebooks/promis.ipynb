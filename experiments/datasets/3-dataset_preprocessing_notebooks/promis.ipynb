{
 "cells": [
  {
   "cell_type": "markdown",
   "id": "3f91591122382be0",
   "metadata": {},
   "source": [
    "# promis dataset preprocessing\n",
    "### Import"
   ]
  },
  {
   "cell_type": "code",
   "execution_count": 1,
   "id": "5c572fedcc3d884",
   "metadata": {
    "ExecuteTime": {
     "end_time": "2025-05-13T13:53:20.179459Z",
     "start_time": "2025-05-13T13:53:20.171391Z"
    }
   },
   "outputs": [],
   "source": [
    "%load_ext autoreload\n",
    "%autoreload 2"
   ]
  },
  {
   "cell_type": "code",
   "execution_count": 2,
   "id": "763506e3fc4c3ef3",
   "metadata": {
    "ExecuteTime": {
     "end_time": "2025-05-13T13:53:22.129141Z",
     "start_time": "2025-05-13T13:53:20.214351Z"
    }
   },
   "outputs": [
    {
     "name": "stdout",
     "output_type": "stream",
     "text": [
      "CUDA is not available. Skipping CUDA seed setting.\n",
      "CUDA is not available. Skipping CUDA seed setting.\n"
     ]
    }
   ],
   "source": [
    "import json\n",
    "import pandas as pd\n",
    "import numpy as np\n",
    "from liriscat.dataset.preprocessing_utilities import *\n",
    "from liriscat.utils import utils\n",
    "import torch\n",
    "utils.set_seed(0)"
   ]
  },
  {
   "cell_type": "markdown",
   "id": "2c6ffc9f3b1e2e5c",
   "metadata": {},
   "source": [
    "### Load and merge dataset"
   ]
  },
  {
   "cell_type": "code",
   "execution_count": 3,
   "id": "eae9427ff89ef0a3",
   "metadata": {
    "ExecuteTime": {
     "end_time": "2025-05-13T13:53:32.947924Z",
     "start_time": "2025-05-13T13:53:22.201270Z"
    }
   },
   "outputs": [
    {
     "data": {
      "text/html": [
       "<div>\n",
       "<style scoped>\n",
       "    .dataframe tbody tr th:only-of-type {\n",
       "        vertical-align: middle;\n",
       "    }\n",
       "\n",
       "    .dataframe tbody tr th {\n",
       "        vertical-align: top;\n",
       "    }\n",
       "\n",
       "    .dataframe thead th {\n",
       "        text-align: right;\n",
       "    }\n",
       "</style>\n",
       "<table border=\"1\" class=\"dataframe\">\n",
       "  <thead>\n",
       "    <tr style=\"text-align: right;\">\n",
       "      <th></th>\n",
       "      <th>user_id</th>\n",
       "      <th>item_id</th>\n",
       "      <th>correct</th>\n",
       "      <th>supdimension_id</th>\n",
       "      <th>dimension_id</th>\n",
       "    </tr>\n",
       "  </thead>\n",
       "  <tbody>\n",
       "    <tr>\n",
       "      <th>0</th>\n",
       "      <td>84</td>\n",
       "      <td>EDANG55</td>\n",
       "      <td>NaN</td>\n",
       "      <td>Emotional Distress</td>\n",
       "      <td>Anger Items</td>\n",
       "    </tr>\n",
       "    <tr>\n",
       "      <th>1</th>\n",
       "      <td>85</td>\n",
       "      <td>EDANG55</td>\n",
       "      <td>NaN</td>\n",
       "      <td>Emotional Distress</td>\n",
       "      <td>Anger Items</td>\n",
       "    </tr>\n",
       "    <tr>\n",
       "      <th>2</th>\n",
       "      <td>86</td>\n",
       "      <td>EDANG55</td>\n",
       "      <td>NaN</td>\n",
       "      <td>Emotional Distress</td>\n",
       "      <td>Anger Items</td>\n",
       "    </tr>\n",
       "    <tr>\n",
       "      <th>3</th>\n",
       "      <td>87</td>\n",
       "      <td>EDANG55</td>\n",
       "      <td>NaN</td>\n",
       "      <td>Emotional Distress</td>\n",
       "      <td>Anger Items</td>\n",
       "    </tr>\n",
       "    <tr>\n",
       "      <th>4</th>\n",
       "      <td>88</td>\n",
       "      <td>EDANG55</td>\n",
       "      <td>NaN</td>\n",
       "      <td>Emotional Distress</td>\n",
       "      <td>Anger Items</td>\n",
       "    </tr>\n",
       "  </tbody>\n",
       "</table>\n",
       "</div>"
      ],
      "text/plain": [
       "   user_id  item_id  correct     supdimension_id dimension_id\n",
       "0       84  EDANG55      NaN  Emotional Distress  Anger Items\n",
       "1       85  EDANG55      NaN  Emotional Distress  Anger Items\n",
       "2       86  EDANG55      NaN  Emotional Distress  Anger Items\n",
       "3       87  EDANG55      NaN  Emotional Distress  Anger Items\n",
       "4       88  EDANG55      NaN  Emotional Distress  Anger Items"
      ]
     },
     "execution_count": 3,
     "metadata": {},
     "output_type": "execute_result"
    }
   ],
   "source": [
    "raw_data = pd.read_csv('../1-raw_data/promis_flipped.csv', encoding=\"ISO-8859-15\", low_memory=False)\n",
    "\n",
    "raw_data = raw_data.drop(columns=['Unnamed: 0','Unnamed: 0.1'])\n",
    "\n",
    "raw_data =  raw_data.rename(columns={\"caseid\": \"user_id\", \"dimension_id\":\"supdimension_id\", \"subdimension_id\":\"dimension_id\",\"question_id\":\"item_id\"})\n",
    "raw_data.head()"
   ]
  },
  {
   "cell_type": "code",
   "execution_count": 4,
   "id": "d6b0feeae63d2c54",
   "metadata": {
    "ExecuteTime": {
     "end_time": "2025-05-13T13:53:34.698427Z",
     "start_time": "2025-05-13T13:53:32.975700Z"
    }
   },
   "outputs": [
    {
     "name": "stdout",
     "output_type": "stream",
     "text": [
      "21957187\n",
      "2256115\n"
     ]
    }
   ],
   "source": [
    "print(len(raw_data))\n",
    "all_data = raw_data.dropna(subset=['user_id','item_id','correct','dimension_id'])\n",
    "print(len(all_data))"
   ]
  },
  {
   "cell_type": "code",
   "execution_count": 5,
   "id": "75ad853c5e6327ab",
   "metadata": {
    "ExecuteTime": {
     "end_time": "2025-05-13T13:53:35.157979Z",
     "start_time": "2025-05-13T13:53:34.719015Z"
    }
   },
   "outputs": [
    {
     "name": "stdout",
     "output_type": "stream",
     "text": [
      "Total length: 2256115\n",
      "Number of unique [user_id,item_id]: 2256115\n",
      "Number of unique user_id: 21096\n",
      "Number of unique item_id: 941\n",
      "Number of unique dimension_id: 29\n"
     ]
    }
   ],
   "source": [
    "stat_unique(all_data, None)\n",
    "stat_unique(all_data, ['user_id', 'item_id'])\n",
    "stat_unique(all_data, 'user_id')\n",
    "stat_unique(all_data, 'item_id')\n",
    "stat_unique(all_data, 'dimension_id')"
   ]
  },
  {
   "cell_type": "markdown",
   "id": "9d2a99907e563075",
   "metadata": {},
   "source": [
    "### Clean Nan values"
   ]
  },
  {
   "cell_type": "code",
   "execution_count": 6,
   "id": "10b1e79bf17e1a46",
   "metadata": {
    "ExecuteTime": {
     "end_time": "2025-05-13T13:53:35.355504Z",
     "start_time": "2025-05-13T13:53:35.160269Z"
    }
   },
   "outputs": [],
   "source": [
    "cleaned_data = all_data.dropna(subset=['user_id','item_id','correct','dimension_id'], axis='index')"
   ]
  },
  {
   "cell_type": "markdown",
   "id": "1cf51a190511d02f",
   "metadata": {},
   "source": [
    "### Remove duplicated user and id rows"
   ]
  },
  {
   "cell_type": "code",
   "execution_count": 7,
   "id": "128895437c128e14",
   "metadata": {
    "ExecuteTime": {
     "end_time": "2025-05-13T13:53:36.607238Z",
     "start_time": "2025-05-13T13:53:35.363401Z"
    }
   },
   "outputs": [],
   "source": [
    "unduplicated_data = remove_duplicates(cleaned_data,key_attrs=['user_id','item_id','dimension_id'],agg_attrs=[])"
   ]
  },
  {
   "cell_type": "markdown",
   "id": "4a633bb837a7af3b",
   "metadata": {},
   "source": [
    "### Filter Data"
   ]
  },
  {
   "cell_type": "code",
   "execution_count": 8,
   "id": "62388835388d50d8",
   "metadata": {
    "ExecuteTime": {
     "end_time": "2025-05-13T13:53:38.424823Z",
     "start_time": "2025-05-13T13:53:36.617673Z"
    }
   },
   "outputs": [
    {
     "name": "stdout",
     "output_type": "stream",
     "text": [
      "filter 151 item_id\n",
      "filter 4217 user_id\n",
      "filter 0 dimension_id\n",
      "filter 0 item_id\n",
      "filter 0 user_id\n",
      "filter 0 dimension_id\n",
      "Total length: 1805842\n",
      "Number of unique [user_id,item_id]: 1805842\n",
      "Number of unique user_id: 16879\n",
      "Number of unique item_id: 790\n",
      "Number of unique dimension_id: 15\n",
      "Number of unique supdimension_id: 6\n"
     ]
    }
   ],
   "source": [
    "filtered_data_0 = unduplicated_data\n",
    "filtered_q_nb = 1\n",
    "filtered_u_nb = 0\n",
    "filtered_d_nb = 0\n",
    "while filtered_q_nb!=0 or filtered_u_nb!=0 or filtered_d_nb!=0 : \n",
    "    # filter items\n",
    "    filtered_data_1, filtered_q_nb = densify(filtered_data_0,'item_id','user_id',1835)\n",
    "    # filter users\n",
    "    min_nb_users_logs = 102\n",
    "    filtered_data_2, filtered_u_nb = densify(filtered_data_1,'user_id','item_id',min_nb_users_logs)\n",
    "    # filter knowledges\n",
    "    filtered_data_3, filtered_d_nb = densify(filtered_data_2,'dimension_id','item_id',1)\n",
    "    filtered_data_0 = filtered_data_3\n",
    "    \n",
    "stat_unique(filtered_data_0, None)\n",
    "stat_unique(filtered_data_0, ['user_id', 'item_id'])\n",
    "stat_unique(filtered_data_0, 'user_id')\n",
    "stat_unique(filtered_data_0, 'item_id')\n",
    "stat_unique(filtered_data_0, 'dimension_id')\n",
    "stat_unique(filtered_data_0, 'supdimension_id')"
   ]
  },
  {
   "cell_type": "markdown",
   "id": "5f38b00b83903cf8",
   "metadata": {},
   "source": [
    "### Encoding"
   ]
  },
  {
   "cell_type": "code",
   "execution_count": 9,
   "id": "461aaa3f05f101f3",
   "metadata": {
    "ExecuteTime": {
     "end_time": "2025-05-13T13:54:32.894245Z",
     "start_time": "2025-05-13T13:53:38.438232Z"
    }
   },
   "outputs": [],
   "source": [
    "# renumber the users\n",
    "u_enc_data, u2n = encode_attr(filtered_data_0, \"user_id\")"
   ]
  },
  {
   "cell_type": "code",
   "execution_count": 10,
   "id": "4ad08e7dad6b96ac",
   "metadata": {
    "ExecuteTime": {
     "end_time": "2025-05-13T13:55:27.330240Z",
     "start_time": "2025-05-13T13:54:32.909286Z"
    }
   },
   "outputs": [],
   "source": [
    "# renumber the items\n",
    "q_enc_data, q2n = encode_attr(u_enc_data, \"item_id\")"
   ]
  },
  {
   "cell_type": "code",
   "execution_count": 11,
   "id": "9d3b2c3dff642633",
   "metadata": {
    "ExecuteTime": {
     "end_time": "2025-05-13T13:56:21.372351Z",
     "start_time": "2025-05-13T13:55:27.346282Z"
    }
   },
   "outputs": [],
   "source": [
    "# renumber the dimensions\n",
    "d_enc_data, d2n = encode_attr(q_enc_data, \"dimension_id\")"
   ]
  },
  {
   "cell_type": "code",
   "execution_count": 12,
   "id": "50d6afb4d25d2837",
   "metadata": {
    "ExecuteTime": {
     "end_time": "2025-05-13T13:57:15.147386Z",
     "start_time": "2025-05-13T13:56:21.389447Z"
    }
   },
   "outputs": [],
   "source": [
    "# renumber the subdimensions\n",
    "sd_enc_data, sd2n = encode_attr(d_enc_data, \"supdimension_id\")"
   ]
  },
  {
   "cell_type": "markdown",
   "id": "3b9e92e115b938bd",
   "metadata": {},
   "source": [
    "### Maps creation"
   ]
  },
  {
   "cell_type": "code",
   "execution_count": 13,
   "id": "124352496823ae86",
   "metadata": {
    "ExecuteTime": {
     "end_time": "2025-05-13T13:57:15.237486Z",
     "start_time": "2025-05-13T13:57:15.165454Z"
    }
   },
   "outputs": [],
   "source": [
    "q2k, k2q = create_q2k(d_enc_data)"
   ]
  },
  {
   "cell_type": "raw",
   "id": "ee851851285a3551",
   "metadata": {},
   "source": [
    "### Rescaling responses"
   ]
  },
  {
   "cell_type": "code",
   "execution_count": 14,
   "id": "648b4b164f32f772",
   "metadata": {
    "ExecuteTime": {
     "end_time": "2025-05-13T13:57:15.308605Z",
     "start_time": "2025-05-13T13:57:15.256081Z"
    }
   },
   "outputs": [
    {
     "name": "stdout",
     "output_type": "stream",
     "text": [
      "'clinic01' were removed from dataset\n",
      "'clinic02' were removed from dataset\n",
      "'clinic03' were removed from dataset\n",
      "'clinic04' were removed from dataset\n",
      "'clinic05' were removed from dataset\n",
      "'clinic06' were removed from dataset\n",
      "'clinic07' were removed from dataset\n",
      "'clinic08' were removed from dataset\n",
      "'clinic09' were removed from dataset\n",
      "'clinic10' were removed from dataset\n",
      "'clinic11' were removed from dataset\n",
      "'clinic12' were removed from dataset\n",
      "'clinic14' were removed from dataset\n",
      "'clinic15' were removed from dataset\n",
      "'clinic16' were removed from dataset\n",
      "'clinic17' were removed from dataset\n",
      "'clinic18' were removed from dataset\n",
      "'clinic19' were removed from dataset\n",
      "'clinic20' were removed from dataset\n",
      "'clinic119' were removed from dataset\n",
      "'clinic120' were removed from dataset\n",
      "'clinic21' were removed from dataset\n",
      "'clinic22' were removed from dataset\n",
      "'clinic23' were removed from dataset\n",
      "'clinic24' were removed from dataset\n",
      "'clinic25' were removed from dataset\n",
      "'clinic26' were removed from dataset\n",
      "'clinic28' were removed from dataset\n",
      "'clinic29' were removed from dataset\n",
      "'clinic30' were removed from dataset\n",
      "'clinic31' were removed from dataset\n",
      "'clinic32' were removed from dataset\n",
      "'clinic34' were removed from dataset\n",
      "'clinic35' were removed from dataset\n",
      "'clinic36' were removed from dataset\n",
      "'clinic37' were removed from dataset\n",
      "'clinic39' were removed from dataset\n",
      "'clinic40' were removed from dataset\n",
      "'clinic41' were removed from dataset\n",
      "'clinic42' were removed from dataset\n",
      "'clinic43' were removed from dataset\n",
      "'clinic44' were removed from dataset\n",
      "'clinic45' were removed from dataset\n",
      "'clinic46' were removed from dataset\n",
      "'clinic47' were removed from dataset\n",
      "'clinic48' were removed from dataset\n",
      "'clinic49' were removed from dataset\n",
      "'clinic50' were removed from dataset\n",
      "'clinic51' were removed from dataset\n",
      "'clinic52' were removed from dataset\n",
      "'clinic53' were removed from dataset\n",
      "'clinic54' were removed from dataset\n",
      "'clinic55' were removed from dataset\n",
      "'clinic56' were removed from dataset\n",
      "'clinic57' were removed from dataset\n",
      "'clinic58' were removed from dataset\n",
      "'clinic59' were removed from dataset\n",
      "'clinic60' were removed from dataset\n",
      "'clinic62' were removed from dataset\n",
      "'clinic64' were removed from dataset\n",
      "'clinic65' were removed from dataset\n",
      "'clinic66' were removed from dataset\n",
      "'clinic67' were removed from dataset\n",
      "'clinic68' were removed from dataset\n",
      "'clinic69' were removed from dataset\n",
      "'clinic70' were removed from dataset\n",
      "'clinic71' were removed from dataset\n",
      "'clinic72' were removed from dataset\n",
      "'clinic73' were removed from dataset\n",
      "'clinic74' were removed from dataset\n",
      "'clinic75' were removed from dataset\n",
      "'clinic76' were removed from dataset\n",
      "'clinic78' were removed from dataset\n",
      "'clinic79' were removed from dataset\n",
      "'clinic80' were removed from dataset\n",
      "'clinic82' were removed from dataset\n",
      "'clinic83' were removed from dataset\n",
      "'clinic84' were removed from dataset\n",
      "'clinic86' were removed from dataset\n",
      "'clinic87' were removed from dataset\n",
      "'clinic88' were removed from dataset\n",
      "'clinic91' were removed from dataset\n",
      "'clinic92' were removed from dataset\n",
      "'clinic93' were removed from dataset\n",
      "'clinic95' were removed from dataset\n",
      "'clinic96' were removed from dataset\n",
      "'clinic97' were removed from dataset\n",
      "'socio03' were removed from dataset\n",
      "'socio04' were removed from dataset\n",
      "'socio06' were removed from dataset\n",
      "'socio09' were removed from dataset\n",
      "'socio12' were removed from dataset\n",
      "'socio13' were removed from dataset\n",
      "'socio14' were removed from dataset\n",
      "'socio15' were removed from dataset\n",
      "'socio16' were removed from dataset\n",
      "'socio17' were removed from dataset\n",
      "'global01' were removed from dataset\n",
      "'global02' were removed from dataset\n",
      "'global03' were removed from dataset\n",
      "'global04' were removed from dataset\n",
      "'global05' were removed from dataset\n",
      "'global06' were removed from dataset\n",
      "'global07' were removed from dataset\n",
      "'global08' were removed from dataset\n",
      "'global09' were removed from dataset\n",
      "'global10' were removed from dataset\n",
      "'MASQ1' were removed from dataset\n",
      "'MASQ2' were removed from dataset\n",
      "'MASQ3' were removed from dataset\n",
      "'MASQ4' were removed from dataset\n",
      "'MASQ5' were removed from dataset\n",
      "'MASQ6' were removed from dataset\n",
      "'MASQ7' were removed from dataset\n",
      "'MASQ8' were removed from dataset\n",
      "'MASQ9' were removed from dataset\n",
      "'MASQ10' were removed from dataset\n",
      "'MASQ11' were removed from dataset\n",
      "'CESD1' were removed from dataset\n",
      "'CESD3' were removed from dataset\n",
      "'CESD4' were removed from dataset\n",
      "'CESD5' were removed from dataset\n",
      "'CESD6' were removed from dataset\n",
      "'CESD7' were removed from dataset\n",
      "'CESD8' were removed from dataset\n",
      "'CESD9' were removed from dataset\n",
      "'CESD10' were removed from dataset\n",
      "'CESD11' were removed from dataset\n",
      "'CESD12' were removed from dataset\n",
      "'CESD13' were removed from dataset\n",
      "'CESD14' were removed from dataset\n",
      "'CESD15' were removed from dataset\n",
      "'CESD16' were removed from dataset\n",
      "'CESD17' were removed from dataset\n",
      "'CESD18' were removed from dataset\n",
      "'CESD19' were removed from dataset\n",
      "'CESD20' were removed from dataset\n",
      "'MH01' were removed from dataset\n",
      "'MH02' were removed from dataset\n",
      "'MH03' were removed from dataset\n",
      "'MH04' were removed from dataset\n",
      "'MH05' were removed from dataset\n",
      "'AQ1' were removed from dataset\n",
      "'AQ2' were removed from dataset\n",
      "'AQ3' were removed from dataset\n",
      "'AQ4' were removed from dataset\n",
      "'AQ5' were removed from dataset\n",
      "'AQ6' were removed from dataset\n",
      "'AQ7' were removed from dataset\n",
      "'AQ8' were removed from dataset\n",
      "'AQ9' were removed from dataset\n",
      "'AQ10' were removed from dataset\n",
      "'AQ11' were removed from dataset\n",
      "'AQ12' were removed from dataset\n",
      "'AUDIT1' were removed from dataset\n",
      "'AUDIT2' were removed from dataset\n",
      "'AUDIT3' were removed from dataset\n",
      "'AUDIT4' were removed from dataset\n",
      "'AUDIT5' were removed from dataset\n",
      "'AUDIT6' were removed from dataset\n",
      "'AUDIT7' were removed from dataset\n",
      "'AUDIT8' were removed from dataset\n",
      "'AUDIT9' were removed from dataset\n",
      "'AUDIT10' were removed from dataset\n",
      "'HAQ1a' were removed from dataset\n",
      "'HAQ1b' were removed from dataset\n",
      "'HAQ2a' were removed from dataset\n",
      "'HAQ2b' were removed from dataset\n",
      "'HAQ3a' were removed from dataset\n",
      "'HAQ3b' were removed from dataset\n",
      "'HAQ3c' were removed from dataset\n",
      "'HAQ4a' were removed from dataset\n",
      "'HAQ4b' were removed from dataset\n",
      "'HAQ5a' were removed from dataset\n",
      "'HAQ5b' were removed from dataset\n",
      "'HAQ5c' were removed from dataset\n",
      "'HAQ6a' were removed from dataset\n",
      "'HAQ6b' were removed from dataset\n",
      "'HAQ7a' were removed from dataset\n",
      "'HAQ7b' were removed from dataset\n",
      "'HAQ7c' were removed from dataset\n",
      "'HAQ8a' were removed from dataset\n",
      "'HAQ8b' were removed from dataset\n",
      "'HAQ8c' were removed from dataset\n",
      "'HAQ9' were removed from dataset\n",
      "'HAQ10' were removed from dataset\n",
      "'HAQ11' were removed from dataset\n",
      "'HAQ12' were removed from dataset\n",
      "'PF01' were removed from dataset\n",
      "'PF02' were removed from dataset\n",
      "'PF03' were removed from dataset\n",
      "'PF04' were removed from dataset\n",
      "'PF05' were removed from dataset\n",
      "'PF06' were removed from dataset\n",
      "'PF07' were removed from dataset\n",
      "'PF08' were removed from dataset\n",
      "'PF09' were removed from dataset\n",
      "'PF10' were removed from dataset\n",
      "'HI7' were removed from dataset\n",
      "'HI12' were removed from dataset\n",
      "'An1' were removed from dataset\n",
      "'An2' were removed from dataset\n",
      "'An3' were removed from dataset\n",
      "'An4' were removed from dataset\n",
      "'An5' were removed from dataset\n",
      "'An7' were removed from dataset\n",
      "'An8' were removed from dataset\n",
      "'An12' were removed from dataset\n",
      "'An14' were removed from dataset\n",
      "'An15' were removed from dataset\n",
      "'An16' were removed from dataset\n",
      "'VT01' were removed from dataset\n",
      "'VT02' were removed from dataset\n",
      "'VT03' were removed from dataset\n",
      "'VT04' were removed from dataset\n",
      "'gf1' were removed from dataset\n",
      "'gf2' were removed from dataset\n",
      "'gf3' were removed from dataset\n",
      "'gf5' were removed from dataset\n",
      "'gf6' were removed from dataset\n",
      "'gf7' were removed from dataset\n",
      "'rp01' were removed from dataset\n",
      "'rp02' were removed from dataset\n",
      "'rp03' were removed from dataset\n",
      "'rp04' were removed from dataset\n",
      "'re01' were removed from dataset\n",
      "'re02' were removed from dataset\n",
      "'re03' were removed from dataset\n",
      "'sf01' were removed from dataset\n",
      "'sf02' were removed from dataset\n",
      "'BPI12' were removed from dataset\n",
      "'BPI13' were removed from dataset\n",
      "'BPI14' were removed from dataset\n",
      "'BPI15' were removed from dataset\n",
      "'BPI23a' were removed from dataset\n",
      "'BPI23b' were removed from dataset\n",
      "'BPI23c' were removed from dataset\n",
      "'BPI23d' were removed from dataset\n",
      "'BPI23e' were removed from dataset\n",
      "'BPI23f' were removed from dataset\n",
      "'BPI23g' were removed from dataset\n",
      "'BP01' were removed from dataset\n",
      "'BP02' were removed from dataset\n",
      "'HAQ1a' were removed from dataset\n",
      "'HAQ1b' were removed from dataset\n",
      "'HAQ2a' were removed from dataset\n",
      "'HAQ2b' were removed from dataset\n",
      "'HAQ3a' were removed from dataset\n",
      "'HAQ3b' were removed from dataset\n",
      "'HAQ3c' were removed from dataset\n",
      "'HAQ4a' were removed from dataset\n",
      "'HAQ4b' were removed from dataset\n",
      "'HAQ5a' were removed from dataset\n",
      "'HAQ5b' were removed from dataset\n",
      "'HAQ5c' were removed from dataset\n",
      "'HAQ6a' were removed from dataset\n",
      "'HAQ6b' were removed from dataset\n",
      "'HAQ7a' were removed from dataset\n",
      "'HAQ7b' were removed from dataset\n",
      "'HAQ7c' were removed from dataset\n",
      "'HAQ8a' were removed from dataset\n",
      "'HAQ8b' were removed from dataset\n",
      "'HAQ8c' were removed from dataset\n",
      "'HAQ9' were removed from dataset\n",
      "'HAQ10' were removed from dataset\n",
      "'HAQ11' were removed from dataset\n",
      "'HAQ12' were removed from dataset\n",
      "'GH01' were removed from dataset\n",
      "'HT' were removed from dataset\n",
      "'GH02' were removed from dataset\n",
      "'GH03' were removed from dataset\n",
      "'GH04' were removed from dataset\n",
      "'GH05' were removed from dataset\n"
     ]
    }
   ],
   "source": [
    "# Create an empty dictionary to store the item ID and response range\n",
    "promis_metadata = pd.read_csv(\"../1-raw_data/promis_complete_metadata.csv\")\n",
    "\n",
    "[response_range_dict, min_response_dict, max_response_dict] = rescaling_dict(promis_metadata,q2n)"
   ]
  },
  {
   "cell_type": "code",
   "execution_count": 15,
   "id": "1dc71f7d04f621a4",
   "metadata": {
    "ExecuteTime": {
     "end_time": "2025-05-13T13:57:26.169728Z",
     "start_time": "2025-05-13T13:57:15.330492Z"
    }
   },
   "outputs": [
    {
     "name": "stdout",
     "output_type": "stream",
     "text": [
      "min value : 1.0, max value : 2.0\n"
     ]
    }
   ],
   "source": [
    "# resc_data = d_enc_data\n",
    "# resc_data['correct'] = resc_data['correct'].astype(float)\n",
    "# min_val = resc_data['correct'].min()\n",
    "# max_val = resc_data['correct'].max()\n",
    "# resc_data['correct'] = (resc_data['correct']-min_val)/(max_val-min_val) +1\n",
    "# print(f'min value : {resc_data[\"correct\"].min()}, max value : {resc_data[\"correct\"].max()}')\n",
    "\n",
    "sd_enc_data['correct'] = sd_enc_data.apply(lambda x : (x['correct']-min_response_dict[x['item_id']])/response_range_dict[x['item_id']]+1, axis=1 )\n",
    "scaled_data = sd_enc_data\n",
    "print(f'min value : {scaled_data[\"correct\"].min()}, max value : {scaled_data[\"correct\"].max()}')"
   ]
  },
  {
   "cell_type": "raw",
   "id": "37979c1797013a28",
   "metadata": {},
   "source": [
    "### Get final stats and create metadata"
   ]
  },
  {
   "cell_type": "code",
   "execution_count": 23,
   "id": "d3ce35f2a3d57db3",
   "metadata": {
    "ExecuteTime": {
     "end_time": "2025-05-13T14:08:29.417614Z",
     "start_time": "2025-05-13T14:08:28.719308Z"
    }
   },
   "outputs": [
    {
     "name": "stdout",
     "output_type": "stream",
     "text": [
      "Total length: 1805842\n",
      "Number of unique [user_id,item_id]: 1805842\n",
      "Number of unique user_id: 16879\n",
      "Number of unique item_id: 790\n",
      "Number of unique dimension_id: 15\n",
      "Number of unique correct: 9\n",
      "#questions/category: 6 & 53 &  56\n",
      "#users/category: 12007 & 12348 &  16559\n",
      "#categorys/question: 1 & 1 &  1\n",
      "#users/question: 1839 & 2286 &  16558\n",
      "#questions/users: 102 & 107 &  118\n",
      "#categorys/users: 2 & 11 &  15\n"
     ]
    }
   ],
   "source": [
    "stat_unique(scaled_data, None)\n",
    "stat_unique(scaled_data, ['user_id', 'item_id'])\n",
    "stat_unique(scaled_data, 'user_id')\n",
    "stat_unique(scaled_data, 'item_id')\n",
    "stat_unique(scaled_data, 'dimension_id')\n",
    "stat_unique(scaled_data, 'correct')\n",
    "\n",
    "scaled_data_dim_grouped_items = scaled_data.groupby(\"dimension_id\")[\"item_id\"].nunique()\n",
    "scaled_data_dim_grouped_users = scaled_data.groupby(\"dimension_id\")[\"user_id\"].nunique()\n",
    "print('#questions/category: {} & {} &  {}'.format(np.min(scaled_data_dim_grouped_items),int(np.round(np.mean(scaled_data_dim_grouped_items))),np.max(scaled_data_dim_grouped_items)))\n",
    "print('#users/category: {} & {} &  {}'.format(np.min(scaled_data_dim_grouped_users),int(np.round(np.mean(scaled_data_dim_grouped_users))),np.max(scaled_data_dim_grouped_users)))\n",
    "\n",
    "scaled_data_dim_grouped_items = scaled_data.groupby(\"item_id\")[\"dimension_id\"].nunique()\n",
    "scaled_data_dim_grouped_users = scaled_data.groupby(\"item_id\")[\"user_id\"].nunique()\n",
    "print('#categorys/question: {} & {} &  {}'.format(np.min(scaled_data_dim_grouped_items),int(np.round(np.mean(scaled_data_dim_grouped_items))),np.max(scaled_data_dim_grouped_items)))\n",
    "print('#users/question: {} & {} &  {}'.format(np.min(scaled_data_dim_grouped_users),int(np.round(np.mean(scaled_data_dim_grouped_users))),np.max(scaled_data_dim_grouped_users)))\n",
    "\n",
    "scaled_data_dim_grouped_items = scaled_data.groupby(\"user_id\")[\"item_id\"].nunique()\n",
    "scaled_data_dim_grouped_users = scaled_data.groupby(\"user_id\")[\"dimension_id\"].nunique()\n",
    "max_nb_q_per_users = np.max(scaled_data_dim_grouped_items)\n",
    "print('#questions/users: {} & {} &  {}'.format(np.min(scaled_data_dim_grouped_items),int(np.round(np.mean(scaled_data_dim_grouped_items))),np.max(scaled_data_dim_grouped_items)))\n",
    "print('#categorys/users: {} & {} &  {}'.format(np.min(scaled_data_dim_grouped_users),int(np.round(np.mean(scaled_data_dim_grouped_users))),np.max(scaled_data_dim_grouped_users)))"
   ]
  },
  {
   "cell_type": "code",
   "execution_count": 25,
   "id": "96b9fda0f0c947ba",
   "metadata": {
    "ExecuteTime": {
     "end_time": "2025-05-13T14:09:07.036600Z",
     "start_time": "2025-05-13T14:09:06.830653Z"
    }
   },
   "outputs": [
    {
     "data": {
      "image/png": "[encoded data removed]",
      "text/plain": [
       "<Figure size 640x480 with 1 Axes>"
      ]
     },
     "metadata": {},
     "output_type": "display_data"
    }
   ],
   "source": [
    "import matplotlib.pyplot as plt\n",
    "\n",
    "# draw a histogram of the age column\n",
    "(scaled_data['correct']-1).hist(bins=20)\n",
    "\n",
    "# add labels and title\n",
    "plt.xlabel('Responses')\n",
    "plt.ylabel('Number')\n",
    "plt.title('Distribution of Responses')\n",
    "plt.savefig('../4-figs/distribution_promis.png')\n"
   ]
  },
  {
   "cell_type": "code",
   "execution_count": 27,
   "id": "1420cf5a2ffcaf83",
   "metadata": {
    "ExecuteTime": {
     "end_time": "2025-05-13T14:09:25.309315Z",
     "start_time": "2025-05-13T14:09:25.076457Z"
    }
   },
   "outputs": [],
   "source": [
    "scaled_data_dim_grouped_items = scaled_data.groupby(\"item_id\")[\"dimension_id\"].nunique()\n",
    "scaled_data_dim_grouped_users = scaled_data.groupby(\"item_id\")[\"user_id\"].nunique()\n",
    "metadata = get_metadata(scaled_data,[\"user_id\", \"item_id\", \"dimension_id\"])\n",
    "metadata['min_nb_users_logs'] = min_nb_users_logs\n",
    "metadata['max_nb_categories_per_question'] = int(np.max(scaled_data_dim_grouped_items))\n",
    "metadata['max_nb_questions_per_user'] = int(max_nb_q_per_users)"
   ]
  },
  {
   "cell_type": "markdown",
   "id": "7b3d5b11-88fd-4330-b7f7-69e6db25c48b",
   "metadata": {},
   "source": [
    "### Compute nb of modalities per item"
   ]
  },
  {
   "cell_type": "code",
   "execution_count": 28,
   "id": "a35a5487-a7e8-4e19-90c6-51f23dd8ea88",
   "metadata": {
    "ExecuteTime": {
     "end_time": "2025-05-13T14:09:28.660601Z",
     "start_time": "2025-05-13T14:09:28.258517Z"
    }
   },
   "outputs": [],
   "source": [
    "nb_modalities = get_modalities_nb(scaled_data, metadata)"
   ]
  },
  {
   "cell_type": "markdown",
   "id": "ca882650e10862e7",
   "metadata": {},
   "source": [
    "### Save data, concept map, metadata and nb_modalities"
   ]
  },
  {
   "cell_type": "code",
   "execution_count": 29,
   "id": "2711f76ebb0f8c75",
   "metadata": {
    "ExecuteTime": {
     "end_time": "2025-05-13T14:09:41.792381Z",
     "start_time": "2025-05-13T14:09:41.756291Z"
    }
   },
   "outputs": [],
   "source": [
    "new_order = ['user_id','item_id', 'correct', 'dimension_id']\n",
    "resc_data = scaled_data[new_order]"
   ]
  },
  {
   "cell_type": "code",
   "execution_count": 30,
   "id": "9314705046e62dcb",
   "metadata": {
    "ExecuteTime": {
     "end_time": "2025-05-13T14:09:44.086230Z",
     "start_time": "2025-05-13T14:09:42.589120Z"
    }
   },
   "outputs": [],
   "source": [
    "# save selected data\n",
    "resc_data.to_csv('../1-raw_data/promis_selected_data.csv', index=False)"
   ]
  },
  {
   "cell_type": "code",
   "execution_count": 31,
   "id": "d57fbdcefd9ed82",
   "metadata": {
    "ExecuteTime": {
     "end_time": "2025-05-13T14:09:50.067088Z",
     "start_time": "2025-05-13T14:09:50.046620Z"
    }
   },
   "outputs": [],
   "source": [
    "# Convert int64 keys to str\n",
    "q2k_str_keys = {str(key): value for key, value in q2k.items()}\n",
    "\n",
    "# Convert sets to lists in the dictionary\n",
    "q2k_json_serializable = {}\n",
    "for key, value in q2k_str_keys.items():\n",
    "    if isinstance(value, set):\n",
    "        q2k_json_serializable[key] = list(value)\n",
    "    else:\n",
    "        q2k_json_serializable[key] = value\n",
    "\n",
    "# Save concept map\n",
    "with open('../2-preprocessed_data/promis_concept_map.json', 'w') as f:\n",
    "    json.dump(q2k_json_serializable, f)"
   ]
  },
  {
   "cell_type": "code",
   "execution_count": 32,
   "id": "6fdbebe69540c57c",
   "metadata": {
    "ExecuteTime": {
     "end_time": "2025-05-13T14:09:52.956880Z",
     "start_time": "2025-05-13T14:09:52.939569Z"
    }
   },
   "outputs": [],
   "source": [
    "# save metadata\n",
    "with open('../2-preprocessed_data/promis_metadata.json', 'w') as f:\n",
    "    json.dump(metadata, f)"
   ]
  },
  {
   "cell_type": "code",
   "execution_count": 33,
   "id": "46932b68-b0a7-4fe1-a090-af21cfd03cc3",
   "metadata": {
    "ExecuteTime": {
     "end_time": "2025-05-13T14:09:54.092087Z",
     "start_time": "2025-05-13T14:09:54.075017Z"
    }
   },
   "outputs": [],
   "source": [
    "# save metadata\n",
    "torch.save(nb_modalities,'../2-preprocessed_data/promis_nb_modalities.pkl')"
   ]
  },
  {
   "cell_type": "raw",
   "id": "6054d831b256bac5",
   "metadata": {},
   "source": [
    "## parse data"
   ]
  },
  {
   "cell_type": "code",
   "execution_count": 34,
   "id": "850280e1dfdda1b9",
   "metadata": {
    "ExecuteTime": {
     "end_time": "2025-05-13T14:09:58.407793Z",
     "start_time": "2025-05-13T14:09:58.390656Z"
    }
   },
   "outputs": [
    {
     "name": "stdout",
     "output_type": "stream",
     "text": [
      "The autoreload extension is already loaded. To reload it, use:\n",
      "  %reload_ext autoreload\n"
     ]
    }
   ],
   "source": [
    "%load_ext autoreload\n",
    "%autoreload 2"
   ]
  },
  {
   "cell_type": "code",
   "execution_count": 35,
   "id": "3b97a578bdb0ec0b",
   "metadata": {
    "ExecuteTime": {
     "end_time": "2025-05-13T14:10:02.318078Z",
     "start_time": "2025-05-13T14:10:02.300610Z"
    }
   },
   "outputs": [
    {
     "name": "stdout",
     "output_type": "stream",
     "text": [
      "CUDA is not available. Skipping CUDA seed setting.\n"
     ]
    }
   ],
   "source": [
    "from liriscat import utils\n",
    "utils.setuplogger(verbose = True,log_path = \"../../logs/\", log_name=\"liriscat\")\n",
    "utils.set_seed(0)"
   ]
  },
  {
   "cell_type": "code",
   "execution_count": 36,
   "id": "2e4e3ad90376b31",
   "metadata": {
    "ExecuteTime": {
     "end_time": "2025-05-13T14:10:03.068729Z",
     "start_time": "2025-05-13T14:10:02.826880Z"
    }
   },
   "outputs": [],
   "source": [
    "import pandas as pd\n",
    "from liriscat.dataset.preprocessing_utilities import *\n",
    "resc_data = pd.read_csv('../1-raw_data/promis_selected_data.csv')"
   ]
  },
  {
   "cell_type": "code",
   "execution_count": 37,
   "id": "53610eb7a85babfb",
   "metadata": {
    "ExecuteTime": {
     "end_time": "2025-05-13T14:10:03.945914Z",
     "start_time": "2025-05-13T14:10:03.638258Z"
    }
   },
   "outputs": [],
   "source": [
    "train, valid, test = split_users(resc_data, 5)"
   ]
  },
  {
   "cell_type": "markdown",
   "id": "f915b75def104ab9",
   "metadata": {},
   "source": [
    "## save data"
   ]
  },
  {
   "cell_type": "code",
   "execution_count": null,
   "id": "3cd91d1f1e2665cf",
   "metadata": {
    "ExecuteTime": {
     "end_time": "2025-05-13T14:13:27.522133Z",
     "start_time": "2025-05-13T14:10:06.927461Z"
    }
   },
   "outputs": [],
   "source": [
    "for i_fold, train_fold in enumerate(train):\n",
    "    save_df_to_csv(train[i_fold], f'../2-preprocessed_data/promis_train_{i_fold}.csv')\n",
    "    save_df_to_csv(valid[i_fold], f'../2-preprocessed_data/promis_valid_{i_fold}.csv')\n",
    "    save_df_to_csv(test[i_fold], f'../2-preprocessed_data/promis_test_{i_fold}.csv')\n",
    "\n",
    "    train_valid_df = pd.concat([train[i_fold], valid[i_fold]])\n",
    "    # Split the merged data horizontally into train and validation sets.\n",
    "\n",
    "    quadruplet = quadruplet_format(train_valid_df)\n",
    "    vertical_train, vertical_valid = split_data_vertically_unique_fold(quadruplet, valid_prop=0.1)\n",
    "\n",
    "    save_df_to_csv(vertical_train, f'../2-preprocessed_data/promis_vert_train_{i_fold}.csv')\n",
    "    save_df_to_csv(vertical_valid, f'../2-preprocessed_data/promis_vert_valid_{i_fold}.csv')"
   ]
  }
 ],
 "metadata": {
  "kernelspec": {
   "display_name": "Python 3 (ipykernel)",
   "language": "python",
   "name": "python3"
  },
  "language_info": {
   "codemirror_mode": {
    "name": "ipython",
    "version": 3
   },
   "file_extension": ".py",
   "mimetype": "text/x-python",
   "name": "python",
   "nbconvert_exporter": "python",
   "pygments_lexer": "ipython3",
   "version": "3.11.11"
  }
 },
 "nbformat": 4,
 "nbformat_minor": 5
}
