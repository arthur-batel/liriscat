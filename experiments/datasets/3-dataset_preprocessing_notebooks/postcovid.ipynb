{
 "cells": [
  {
   "cell_type": "markdown",
   "id": "eeb7bafb40cc2079",
   "metadata": {},
   "source": [
    "# postcovid dataset preprocessing\n",
    "### Import"
   ]
  },
  {
   "cell_type": "code",
   "id": "5c572fedcc3d884",
   "metadata": {
    "ExecuteTime": {
     "end_time": "2025-05-12T12:28:09.912794Z",
     "start_time": "2025-05-12T12:28:09.904958Z"
    }
   },
   "source": [
    "%load_ext autoreload\n",
    "%autoreload 2"
   ],
   "outputs": [],
   "execution_count": 1
  },
  {
   "cell_type": "code",
   "id": "763506e3fc4c3ef3",
   "metadata": {
    "ExecuteTime": {
     "end_time": "2025-05-12T12:28:11.820799Z",
     "start_time": "2025-05-12T12:28:09.952064Z"
    }
   },
   "source": [
    "import json\n",
    "import pandas as pd\n",
    "import numpy as np\n",
    "from liriscat.dataset.preprocessing_utilities import *\n",
    "from liriscat.utils import utils\n",
    "import torch\n",
    "utils.set_seed(0)"
   ],
   "outputs": [
    {
     "name": "stdout",
     "output_type": "stream",
     "text": [
      "CUDA is not available. Skipping CUDA seed setting.\n",
      "CUDA is not available. Skipping CUDA seed setting.\n"
     ]
    }
   ],
   "execution_count": 2
  },
  {
   "cell_type": "markdown",
   "id": "2c6ffc9f3b1e2e5c",
   "metadata": {},
   "source": [
    "### Load and merge dataset"
   ]
  },
  {
   "cell_type": "code",
   "id": "eae9427ff89ef0a3",
   "metadata": {
    "ExecuteTime": {
     "end_time": "2025-05-12T12:28:12.013821Z",
     "start_time": "2025-05-12T12:28:11.892822Z"
    }
   },
   "source": [
    "raw_data = pd.read_csv('../1-raw_data/postcovid.csv', encoding=\"ISO-8859-15\", low_memory=False)\n",
    "\n",
    "raw_data = raw_data.drop(columns=['Unnamed: 0.2', 'Unnamed: 0',\n",
    "       'Unnamed: 0.1', 'start_time', 'qr',\n",
    "       'qr_compl'])\n",
    "\n",
    "raw_data =  raw_data.rename(columns={\"skill_id\": \"dimension_id\"})\n",
    "raw_data.head()\n"
   ],
   "outputs": [
    {
     "data": {
      "text/plain": [
       "  dimension_id  user_id  item_id  correct  UX_answer  \\\n",
       "0          {9}        0        3      1.0          2   \n",
       "1          {9}        0       12      3.0          4   \n",
       "2          {9}        0       20      2.0          3   \n",
       "3          {9}        0       27      3.0          4   \n",
       "4          {9}        0       34      1.0          2   \n",
       "\n",
       "                                              result  \\\n",
       "0  {'score': 21, 'symptom': 'memoryAndConcentrati...   \n",
       "1  {'score': 21, 'symptom': 'memoryAndConcentrati...   \n",
       "2  {'score': 21, 'symptom': 'memoryAndConcentrati...   \n",
       "3  {'score': 21, 'symptom': 'memoryAndConcentrati...   \n",
       "4  {'score': 21, 'symptom': 'memoryAndConcentrati...   \n",
       "\n",
       "                                             answers itemnaireId  \\\n",
       "0  {'itemId': 'Q10', 'answer': {'modalityId': 'M1...   MCNAIR-FR   \n",
       "1  {'itemId': 'Q11', 'answer': {'modalityId': 'M1...   MCNAIR-FR   \n",
       "2  {'itemId': 'Q12', 'answer': {'modalityId': 'M1...   MCNAIR-FR   \n",
       "3  {'itemId': 'Q13', 'answer': {'modalityId': 'M1...   MCNAIR-FR   \n",
       "4  {'itemId': 'Q14', 'answer': {'modalityId': 'M1...   MCNAIR-FR   \n",
       "\n",
       "                               userIdAndCreationDate  \n",
       "0  userId#000c7fcd-26e6-4145-b3c5-fa501fb79738__c...  \n",
       "1  userId#000c7fcd-26e6-4145-b3c5-fa501fb79738__c...  \n",
       "2  userId#000c7fcd-26e6-4145-b3c5-fa501fb79738__c...  \n",
       "3  userId#000c7fcd-26e6-4145-b3c5-fa501fb79738__c...  \n",
       "4  userId#000c7fcd-26e6-4145-b3c5-fa501fb79738__c...  "
      ],
      "text/html": [
       "<div>\n",
       "<style scoped>\n",
       "    .dataframe tbody tr th:only-of-type {\n",
       "        vertical-align: middle;\n",
       "    }\n",
       "\n",
       "    .dataframe tbody tr th {\n",
       "        vertical-align: top;\n",
       "    }\n",
       "\n",
       "    .dataframe thead th {\n",
       "        text-align: right;\n",
       "    }\n",
       "</style>\n",
       "<table border=\"1\" class=\"dataframe\">\n",
       "  <thead>\n",
       "    <tr style=\"text-align: right;\">\n",
       "      <th></th>\n",
       "      <th>dimension_id</th>\n",
       "      <th>user_id</th>\n",
       "      <th>item_id</th>\n",
       "      <th>correct</th>\n",
       "      <th>UX_answer</th>\n",
       "      <th>result</th>\n",
       "      <th>answers</th>\n",
       "      <th>itemnaireId</th>\n",
       "      <th>userIdAndCreationDate</th>\n",
       "    </tr>\n",
       "  </thead>\n",
       "  <tbody>\n",
       "    <tr>\n",
       "      <th>0</th>\n",
       "      <td>{9}</td>\n",
       "      <td>0</td>\n",
       "      <td>3</td>\n",
       "      <td>1.0</td>\n",
       "      <td>2</td>\n",
       "      <td>{'score': 21, 'symptom': 'memoryAndConcentrati...</td>\n",
       "      <td>{'itemId': 'Q10', 'answer': {'modalityId': 'M1...</td>\n",
       "      <td>MCNAIR-FR</td>\n",
       "      <td>userId#000c7fcd-26e6-4145-b3c5-fa501fb79738__c...</td>\n",
       "    </tr>\n",
       "    <tr>\n",
       "      <th>1</th>\n",
       "      <td>{9}</td>\n",
       "      <td>0</td>\n",
       "      <td>12</td>\n",
       "      <td>3.0</td>\n",
       "      <td>4</td>\n",
       "      <td>{'score': 21, 'symptom': 'memoryAndConcentrati...</td>\n",
       "      <td>{'itemId': 'Q11', 'answer': {'modalityId': 'M1...</td>\n",
       "      <td>MCNAIR-FR</td>\n",
       "      <td>userId#000c7fcd-26e6-4145-b3c5-fa501fb79738__c...</td>\n",
       "    </tr>\n",
       "    <tr>\n",
       "      <th>2</th>\n",
       "      <td>{9}</td>\n",
       "      <td>0</td>\n",
       "      <td>20</td>\n",
       "      <td>2.0</td>\n",
       "      <td>3</td>\n",
       "      <td>{'score': 21, 'symptom': 'memoryAndConcentrati...</td>\n",
       "      <td>{'itemId': 'Q12', 'answer': {'modalityId': 'M1...</td>\n",
       "      <td>MCNAIR-FR</td>\n",
       "      <td>userId#000c7fcd-26e6-4145-b3c5-fa501fb79738__c...</td>\n",
       "    </tr>\n",
       "    <tr>\n",
       "      <th>3</th>\n",
       "      <td>{9}</td>\n",
       "      <td>0</td>\n",
       "      <td>27</td>\n",
       "      <td>3.0</td>\n",
       "      <td>4</td>\n",
       "      <td>{'score': 21, 'symptom': 'memoryAndConcentrati...</td>\n",
       "      <td>{'itemId': 'Q13', 'answer': {'modalityId': 'M1...</td>\n",
       "      <td>MCNAIR-FR</td>\n",
       "      <td>userId#000c7fcd-26e6-4145-b3c5-fa501fb79738__c...</td>\n",
       "    </tr>\n",
       "    <tr>\n",
       "      <th>4</th>\n",
       "      <td>{9}</td>\n",
       "      <td>0</td>\n",
       "      <td>34</td>\n",
       "      <td>1.0</td>\n",
       "      <td>2</td>\n",
       "      <td>{'score': 21, 'symptom': 'memoryAndConcentrati...</td>\n",
       "      <td>{'itemId': 'Q14', 'answer': {'modalityId': 'M1...</td>\n",
       "      <td>MCNAIR-FR</td>\n",
       "      <td>userId#000c7fcd-26e6-4145-b3c5-fa501fb79738__c...</td>\n",
       "    </tr>\n",
       "  </tbody>\n",
       "</table>\n",
       "</div>"
      ]
     },
     "execution_count": 3,
     "metadata": {},
     "output_type": "execute_result"
    }
   ],
   "execution_count": 3
  },
  {
   "cell_type": "markdown",
   "id": "70d36cb174851667",
   "metadata": {},
   "source": [
    "### Split rows with several dimensions"
   ]
  },
  {
   "cell_type": "code",
   "id": "48baada5ec363a41",
   "metadata": {
    "ExecuteTime": {
     "end_time": "2025-05-12T12:28:12.128101Z",
     "start_time": "2025-05-12T12:28:12.038433Z"
    }
   },
   "source": [
    "raw_data['dimension_id'] = raw_data['dimension_id'].apply(lambda x: set(map(int, x.strip('{}').split(', '))))\n",
    "df_expanded = raw_data.explode('dimension_id').reset_index(drop=True)\n",
    "df_expanded.head()"
   ],
   "outputs": [
    {
     "data": {
      "text/plain": [
       "  dimension_id  user_id  item_id  correct  UX_answer  \\\n",
       "0            9        0        3      1.0          2   \n",
       "1            9        0       12      3.0          4   \n",
       "2            9        0       20      2.0          3   \n",
       "3            9        0       27      3.0          4   \n",
       "4            9        0       34      1.0          2   \n",
       "\n",
       "                                              result  \\\n",
       "0  {'score': 21, 'symptom': 'memoryAndConcentrati...   \n",
       "1  {'score': 21, 'symptom': 'memoryAndConcentrati...   \n",
       "2  {'score': 21, 'symptom': 'memoryAndConcentrati...   \n",
       "3  {'score': 21, 'symptom': 'memoryAndConcentrati...   \n",
       "4  {'score': 21, 'symptom': 'memoryAndConcentrati...   \n",
       "\n",
       "                                             answers itemnaireId  \\\n",
       "0  {'itemId': 'Q10', 'answer': {'modalityId': 'M1...   MCNAIR-FR   \n",
       "1  {'itemId': 'Q11', 'answer': {'modalityId': 'M1...   MCNAIR-FR   \n",
       "2  {'itemId': 'Q12', 'answer': {'modalityId': 'M1...   MCNAIR-FR   \n",
       "3  {'itemId': 'Q13', 'answer': {'modalityId': 'M1...   MCNAIR-FR   \n",
       "4  {'itemId': 'Q14', 'answer': {'modalityId': 'M1...   MCNAIR-FR   \n",
       "\n",
       "                               userIdAndCreationDate  \n",
       "0  userId#000c7fcd-26e6-4145-b3c5-fa501fb79738__c...  \n",
       "1  userId#000c7fcd-26e6-4145-b3c5-fa501fb79738__c...  \n",
       "2  userId#000c7fcd-26e6-4145-b3c5-fa501fb79738__c...  \n",
       "3  userId#000c7fcd-26e6-4145-b3c5-fa501fb79738__c...  \n",
       "4  userId#000c7fcd-26e6-4145-b3c5-fa501fb79738__c...  "
      ],
      "text/html": [
       "<div>\n",
       "<style scoped>\n",
       "    .dataframe tbody tr th:only-of-type {\n",
       "        vertical-align: middle;\n",
       "    }\n",
       "\n",
       "    .dataframe tbody tr th {\n",
       "        vertical-align: top;\n",
       "    }\n",
       "\n",
       "    .dataframe thead th {\n",
       "        text-align: right;\n",
       "    }\n",
       "</style>\n",
       "<table border=\"1\" class=\"dataframe\">\n",
       "  <thead>\n",
       "    <tr style=\"text-align: right;\">\n",
       "      <th></th>\n",
       "      <th>dimension_id</th>\n",
       "      <th>user_id</th>\n",
       "      <th>item_id</th>\n",
       "      <th>correct</th>\n",
       "      <th>UX_answer</th>\n",
       "      <th>result</th>\n",
       "      <th>answers</th>\n",
       "      <th>itemnaireId</th>\n",
       "      <th>userIdAndCreationDate</th>\n",
       "    </tr>\n",
       "  </thead>\n",
       "  <tbody>\n",
       "    <tr>\n",
       "      <th>0</th>\n",
       "      <td>9</td>\n",
       "      <td>0</td>\n",
       "      <td>3</td>\n",
       "      <td>1.0</td>\n",
       "      <td>2</td>\n",
       "      <td>{'score': 21, 'symptom': 'memoryAndConcentrati...</td>\n",
       "      <td>{'itemId': 'Q10', 'answer': {'modalityId': 'M1...</td>\n",
       "      <td>MCNAIR-FR</td>\n",
       "      <td>userId#000c7fcd-26e6-4145-b3c5-fa501fb79738__c...</td>\n",
       "    </tr>\n",
       "    <tr>\n",
       "      <th>1</th>\n",
       "      <td>9</td>\n",
       "      <td>0</td>\n",
       "      <td>12</td>\n",
       "      <td>3.0</td>\n",
       "      <td>4</td>\n",
       "      <td>{'score': 21, 'symptom': 'memoryAndConcentrati...</td>\n",
       "      <td>{'itemId': 'Q11', 'answer': {'modalityId': 'M1...</td>\n",
       "      <td>MCNAIR-FR</td>\n",
       "      <td>userId#000c7fcd-26e6-4145-b3c5-fa501fb79738__c...</td>\n",
       "    </tr>\n",
       "    <tr>\n",
       "      <th>2</th>\n",
       "      <td>9</td>\n",
       "      <td>0</td>\n",
       "      <td>20</td>\n",
       "      <td>2.0</td>\n",
       "      <td>3</td>\n",
       "      <td>{'score': 21, 'symptom': 'memoryAndConcentrati...</td>\n",
       "      <td>{'itemId': 'Q12', 'answer': {'modalityId': 'M1...</td>\n",
       "      <td>MCNAIR-FR</td>\n",
       "      <td>userId#000c7fcd-26e6-4145-b3c5-fa501fb79738__c...</td>\n",
       "    </tr>\n",
       "    <tr>\n",
       "      <th>3</th>\n",
       "      <td>9</td>\n",
       "      <td>0</td>\n",
       "      <td>27</td>\n",
       "      <td>3.0</td>\n",
       "      <td>4</td>\n",
       "      <td>{'score': 21, 'symptom': 'memoryAndConcentrati...</td>\n",
       "      <td>{'itemId': 'Q13', 'answer': {'modalityId': 'M1...</td>\n",
       "      <td>MCNAIR-FR</td>\n",
       "      <td>userId#000c7fcd-26e6-4145-b3c5-fa501fb79738__c...</td>\n",
       "    </tr>\n",
       "    <tr>\n",
       "      <th>4</th>\n",
       "      <td>9</td>\n",
       "      <td>0</td>\n",
       "      <td>34</td>\n",
       "      <td>1.0</td>\n",
       "      <td>2</td>\n",
       "      <td>{'score': 21, 'symptom': 'memoryAndConcentrati...</td>\n",
       "      <td>{'itemId': 'Q14', 'answer': {'modalityId': 'M1...</td>\n",
       "      <td>MCNAIR-FR</td>\n",
       "      <td>userId#000c7fcd-26e6-4145-b3c5-fa501fb79738__c...</td>\n",
       "    </tr>\n",
       "  </tbody>\n",
       "</table>\n",
       "</div>"
      ]
     },
     "execution_count": 4,
     "metadata": {},
     "output_type": "execute_result"
    }
   ],
   "execution_count": 4
  },
  {
   "cell_type": "markdown",
   "id": "f532d0b094164b01",
   "metadata": {},
   "source": [
    "### Early stats"
   ]
  },
  {
   "cell_type": "code",
   "id": "d6b0feeae63d2c54",
   "metadata": {
    "ExecuteTime": {
     "end_time": "2025-05-12T12:28:12.212514Z",
     "start_time": "2025-05-12T12:28:12.194674Z"
    }
   },
   "source": [
    "print(len(df_expanded))\n",
    "all_data = df_expanded.dropna(subset=['user_id','item_id','correct','dimension_id'])\n",
    "print(len(all_data))"
   ],
   "outputs": [
    {
     "name": "stdout",
     "output_type": "stream",
     "text": [
      "51690\n",
      "51690\n"
     ]
    }
   ],
   "execution_count": 5
  },
  {
   "cell_type": "code",
   "id": "75ad853c5e6327ab",
   "metadata": {
    "ExecuteTime": {
     "end_time": "2025-05-12T12:28:12.376107Z",
     "start_time": "2025-05-12T12:28:12.353923Z"
    }
   },
   "source": [
    "stat_unique(all_data, None)\n",
    "stat_unique(all_data, ['user_id', 'item_id'])\n",
    "stat_unique(all_data, 'user_id')\n",
    "stat_unique(all_data, 'item_id')\n",
    "stat_unique(all_data, 'dimension_id')"
   ],
   "outputs": [
    {
     "name": "stdout",
     "output_type": "stream",
     "text": [
      "Total length: 51690\n",
      "Number of unique [user_id,item_id]: 37390\n",
      "Number of unique user_id: 917\n",
      "Number of unique item_id: 184\n",
      "Number of unique dimension_id: 18\n"
     ]
    }
   ],
   "execution_count": 6
  },
  {
   "cell_type": "markdown",
   "id": "9d2a99907e563075",
   "metadata": {},
   "source": [
    "### Clean Nan values"
   ]
  },
  {
   "cell_type": "code",
   "id": "10b1e79bf17e1a46",
   "metadata": {
    "ExecuteTime": {
     "end_time": "2025-05-12T12:28:13.328578Z",
     "start_time": "2025-05-12T12:28:13.298606Z"
    }
   },
   "source": [
    "cleaned_data = all_data.dropna(subset=['user_id','item_id','correct','dimension_id'], axis='index')\n",
    "cleaned_data"
   ],
   "outputs": [
    {
     "data": {
      "text/plain": [
       "      dimension_id  user_id  item_id  correct  UX_answer  \\\n",
       "0                9        0        3      1.0          2   \n",
       "1                9        0       12      3.0          4   \n",
       "2                9        0       20      2.0          3   \n",
       "3                9        0       27      3.0          4   \n",
       "4                9        0       34      1.0          2   \n",
       "...            ...      ...      ...      ...        ...   \n",
       "51685            3      916      158      1.0          1   \n",
       "51686            5      916      163      6.0          6   \n",
       "51687            3      916      170      2.0          2   \n",
       "51688            5      916      174      6.0          6   \n",
       "51689            3      916      181      1.0          1   \n",
       "\n",
       "                                                  result  \\\n",
       "0      {'score': 21, 'symptom': 'memoryAndConcentrati...   \n",
       "1      {'score': 21, 'symptom': 'memoryAndConcentrati...   \n",
       "2      {'score': 21, 'symptom': 'memoryAndConcentrati...   \n",
       "3      {'score': 21, 'symptom': 'memoryAndConcentrati...   \n",
       "4      {'score': 21, 'symptom': 'memoryAndConcentrati...   \n",
       "...                                                  ...   \n",
       "51685             {'score': 68, 'symptom': 'depression'}   \n",
       "51686                 {'score': 6, 'symptom': 'fatigue'}   \n",
       "51687             {'score': 68, 'symptom': 'depression'}   \n",
       "51688                 {'score': 6, 'symptom': 'fatigue'}   \n",
       "51689             {'score': 68, 'symptom': 'depression'}   \n",
       "\n",
       "                                                 answers itemnaireId  \\\n",
       "0      {'itemId': 'Q10', 'answer': {'modalityId': 'M1...   MCNAIR-FR   \n",
       "1      {'itemId': 'Q11', 'answer': {'modalityId': 'M1...   MCNAIR-FR   \n",
       "2      {'itemId': 'Q12', 'answer': {'modalityId': 'M1...   MCNAIR-FR   \n",
       "3      {'itemId': 'Q13', 'answer': {'modalityId': 'M1...   MCNAIR-FR   \n",
       "4      {'itemId': 'Q14', 'answer': {'modalityId': 'M1...   MCNAIR-FR   \n",
       "...                                                  ...         ...   \n",
       "51685  {'questionId': 'Q7', 'answer': {'modalityId': ...      SDS-FR   \n",
       "51686  {'questionId': 'Q8', 'answer': {'modalityId': ...      FSS-FR   \n",
       "51687  {'questionId': 'Q8', 'answer': {'modalityId': ...      SDS-FR   \n",
       "51688  {'questionId': 'Q9', 'answer': {'modalityId': ...      FSS-FR   \n",
       "51689  {'questionId': 'Q9', 'answer': {'modalityId': ...      SDS-FR   \n",
       "\n",
       "                                   userIdAndCreationDate  \n",
       "0      userId#000c7fcd-26e6-4145-b3c5-fa501fb79738__c...  \n",
       "1      userId#000c7fcd-26e6-4145-b3c5-fa501fb79738__c...  \n",
       "2      userId#000c7fcd-26e6-4145-b3c5-fa501fb79738__c...  \n",
       "3      userId#000c7fcd-26e6-4145-b3c5-fa501fb79738__c...  \n",
       "4      userId#000c7fcd-26e6-4145-b3c5-fa501fb79738__c...  \n",
       "...                                                  ...  \n",
       "51685  userId#ffba72c7-6b91-4daf-ab9f-7dc59cd987ca__c...  \n",
       "51686  userId#ffba72c7-6b91-4daf-ab9f-7dc59cd987ca__c...  \n",
       "51687  userId#ffba72c7-6b91-4daf-ab9f-7dc59cd987ca__c...  \n",
       "51688  userId#ffba72c7-6b91-4daf-ab9f-7dc59cd987ca__c...  \n",
       "51689  userId#ffba72c7-6b91-4daf-ab9f-7dc59cd987ca__c...  \n",
       "\n",
       "[51690 rows x 9 columns]"
      ],
      "text/html": [
       "<div>\n",
       "<style scoped>\n",
       "    .dataframe tbody tr th:only-of-type {\n",
       "        vertical-align: middle;\n",
       "    }\n",
       "\n",
       "    .dataframe tbody tr th {\n",
       "        vertical-align: top;\n",
       "    }\n",
       "\n",
       "    .dataframe thead th {\n",
       "        text-align: right;\n",
       "    }\n",
       "</style>\n",
       "<table border=\"1\" class=\"dataframe\">\n",
       "  <thead>\n",
       "    <tr style=\"text-align: right;\">\n",
       "      <th></th>\n",
       "      <th>dimension_id</th>\n",
       "      <th>user_id</th>\n",
       "      <th>item_id</th>\n",
       "      <th>correct</th>\n",
       "      <th>UX_answer</th>\n",
       "      <th>result</th>\n",
       "      <th>answers</th>\n",
       "      <th>itemnaireId</th>\n",
       "      <th>userIdAndCreationDate</th>\n",
       "    </tr>\n",
       "  </thead>\n",
       "  <tbody>\n",
       "    <tr>\n",
       "      <th>0</th>\n",
       "      <td>9</td>\n",
       "      <td>0</td>\n",
       "      <td>3</td>\n",
       "      <td>1.0</td>\n",
       "      <td>2</td>\n",
       "      <td>{'score': 21, 'symptom': 'memoryAndConcentrati...</td>\n",
       "      <td>{'itemId': 'Q10', 'answer': {'modalityId': 'M1...</td>\n",
       "      <td>MCNAIR-FR</td>\n",
       "      <td>userId#000c7fcd-26e6-4145-b3c5-fa501fb79738__c...</td>\n",
       "    </tr>\n",
       "    <tr>\n",
       "      <th>1</th>\n",
       "      <td>9</td>\n",
       "      <td>0</td>\n",
       "      <td>12</td>\n",
       "      <td>3.0</td>\n",
       "      <td>4</td>\n",
       "      <td>{'score': 21, 'symptom': 'memoryAndConcentrati...</td>\n",
       "      <td>{'itemId': 'Q11', 'answer': {'modalityId': 'M1...</td>\n",
       "      <td>MCNAIR-FR</td>\n",
       "      <td>userId#000c7fcd-26e6-4145-b3c5-fa501fb79738__c...</td>\n",
       "    </tr>\n",
       "    <tr>\n",
       "      <th>2</th>\n",
       "      <td>9</td>\n",
       "      <td>0</td>\n",
       "      <td>20</td>\n",
       "      <td>2.0</td>\n",
       "      <td>3</td>\n",
       "      <td>{'score': 21, 'symptom': 'memoryAndConcentrati...</td>\n",
       "      <td>{'itemId': 'Q12', 'answer': {'modalityId': 'M1...</td>\n",
       "      <td>MCNAIR-FR</td>\n",
       "      <td>userId#000c7fcd-26e6-4145-b3c5-fa501fb79738__c...</td>\n",
       "    </tr>\n",
       "    <tr>\n",
       "      <th>3</th>\n",
       "      <td>9</td>\n",
       "      <td>0</td>\n",
       "      <td>27</td>\n",
       "      <td>3.0</td>\n",
       "      <td>4</td>\n",
       "      <td>{'score': 21, 'symptom': 'memoryAndConcentrati...</td>\n",
       "      <td>{'itemId': 'Q13', 'answer': {'modalityId': 'M1...</td>\n",
       "      <td>MCNAIR-FR</td>\n",
       "      <td>userId#000c7fcd-26e6-4145-b3c5-fa501fb79738__c...</td>\n",
       "    </tr>\n",
       "    <tr>\n",
       "      <th>4</th>\n",
       "      <td>9</td>\n",
       "      <td>0</td>\n",
       "      <td>34</td>\n",
       "      <td>1.0</td>\n",
       "      <td>2</td>\n",
       "      <td>{'score': 21, 'symptom': 'memoryAndConcentrati...</td>\n",
       "      <td>{'itemId': 'Q14', 'answer': {'modalityId': 'M1...</td>\n",
       "      <td>MCNAIR-FR</td>\n",
       "      <td>userId#000c7fcd-26e6-4145-b3c5-fa501fb79738__c...</td>\n",
       "    </tr>\n",
       "    <tr>\n",
       "      <th>...</th>\n",
       "      <td>...</td>\n",
       "      <td>...</td>\n",
       "      <td>...</td>\n",
       "      <td>...</td>\n",
       "      <td>...</td>\n",
       "      <td>...</td>\n",
       "      <td>...</td>\n",
       "      <td>...</td>\n",
       "      <td>...</td>\n",
       "    </tr>\n",
       "    <tr>\n",
       "      <th>51685</th>\n",
       "      <td>3</td>\n",
       "      <td>916</td>\n",
       "      <td>158</td>\n",
       "      <td>1.0</td>\n",
       "      <td>1</td>\n",
       "      <td>{'score': 68, 'symptom': 'depression'}</td>\n",
       "      <td>{'questionId': 'Q7', 'answer': {'modalityId': ...</td>\n",
       "      <td>SDS-FR</td>\n",
       "      <td>userId#ffba72c7-6b91-4daf-ab9f-7dc59cd987ca__c...</td>\n",
       "    </tr>\n",
       "    <tr>\n",
       "      <th>51686</th>\n",
       "      <td>5</td>\n",
       "      <td>916</td>\n",
       "      <td>163</td>\n",
       "      <td>6.0</td>\n",
       "      <td>6</td>\n",
       "      <td>{'score': 6, 'symptom': 'fatigue'}</td>\n",
       "      <td>{'questionId': 'Q8', 'answer': {'modalityId': ...</td>\n",
       "      <td>FSS-FR</td>\n",
       "      <td>userId#ffba72c7-6b91-4daf-ab9f-7dc59cd987ca__c...</td>\n",
       "    </tr>\n",
       "    <tr>\n",
       "      <th>51687</th>\n",
       "      <td>3</td>\n",
       "      <td>916</td>\n",
       "      <td>170</td>\n",
       "      <td>2.0</td>\n",
       "      <td>2</td>\n",
       "      <td>{'score': 68, 'symptom': 'depression'}</td>\n",
       "      <td>{'questionId': 'Q8', 'answer': {'modalityId': ...</td>\n",
       "      <td>SDS-FR</td>\n",
       "      <td>userId#ffba72c7-6b91-4daf-ab9f-7dc59cd987ca__c...</td>\n",
       "    </tr>\n",
       "    <tr>\n",
       "      <th>51688</th>\n",
       "      <td>5</td>\n",
       "      <td>916</td>\n",
       "      <td>174</td>\n",
       "      <td>6.0</td>\n",
       "      <td>6</td>\n",
       "      <td>{'score': 6, 'symptom': 'fatigue'}</td>\n",
       "      <td>{'questionId': 'Q9', 'answer': {'modalityId': ...</td>\n",
       "      <td>FSS-FR</td>\n",
       "      <td>userId#ffba72c7-6b91-4daf-ab9f-7dc59cd987ca__c...</td>\n",
       "    </tr>\n",
       "    <tr>\n",
       "      <th>51689</th>\n",
       "      <td>3</td>\n",
       "      <td>916</td>\n",
       "      <td>181</td>\n",
       "      <td>1.0</td>\n",
       "      <td>1</td>\n",
       "      <td>{'score': 68, 'symptom': 'depression'}</td>\n",
       "      <td>{'questionId': 'Q9', 'answer': {'modalityId': ...</td>\n",
       "      <td>SDS-FR</td>\n",
       "      <td>userId#ffba72c7-6b91-4daf-ab9f-7dc59cd987ca__c...</td>\n",
       "    </tr>\n",
       "  </tbody>\n",
       "</table>\n",
       "<p>51690 rows × 9 columns</p>\n",
       "</div>"
      ]
     },
     "execution_count": 7,
     "metadata": {},
     "output_type": "execute_result"
    }
   ],
   "execution_count": 7
  },
  {
   "cell_type": "markdown",
   "id": "1cf51a190511d02f",
   "metadata": {},
   "source": [
    "### Remove duplicated user and id rows"
   ]
  },
  {
   "cell_type": "code",
   "id": "128895437c128e14",
   "metadata": {
    "ExecuteTime": {
     "end_time": "2025-05-12T12:28:13.641540Z",
     "start_time": "2025-05-12T12:28:13.584633Z"
    }
   },
   "source": [
    "unduplicated_data = remove_duplicates(cleaned_data,key_attrs=['user_id','item_id','dimension_id'],agg_attrs=[])"
   ],
   "outputs": [],
   "execution_count": 8
  },
  {
   "cell_type": "markdown",
   "id": "4a633bb837a7af3b",
   "metadata": {},
   "source": [
    "### Filter Data"
   ]
  },
  {
   "cell_type": "code",
   "id": "62388835388d50d8",
   "metadata": {
    "ExecuteTime": {
     "end_time": "2025-05-12T12:28:13.886779Z",
     "start_time": "2025-05-12T12:28:13.843565Z"
    }
   },
   "source": [
    "filtered_data_0 = unduplicated_data\n",
    "filtered_q_nb = 1\n",
    "filtered_u_nb = 0\n",
    "filtered_d_nb = 0\n",
    "while filtered_q_nb!=0 or filtered_u_nb!=0 or filtered_d_nb!=0 :\n",
    "\n",
    "    # filter items\n",
    "    filtered_data_1, filtered_q_nb = densify(filtered_data_0,'item_id','user_id',20)\n",
    "    # filter users\n",
    "    min_nb_users_logs = 20\n",
    "    filtered_data_2, filtered_u_nb = densify(filtered_data_1,'user_id','item_id',min_nb_users_logs)\n",
    "    # filter knowledges\n",
    "    filtered_data_3, filtered_d_nb = densify(filtered_data_2,'dimension_id','item_id',5)\n",
    "    filtered_data_0 = filtered_data_3\n",
    "    \n",
    "stat_unique(filtered_data_0, None)\n",
    "stat_unique(filtered_data_0, ['user_id', 'item_id'])\n",
    "stat_unique(filtered_data_0, 'user_id')\n",
    "stat_unique(filtered_data_0, 'item_id')\n",
    "stat_unique(filtered_data_0, 'dimension_id')"
   ],
   "outputs": [
    {
     "name": "stdout",
     "output_type": "stream",
     "text": [
      "filter 0 item_id\n",
      "filter 171 user_id\n",
      "filter 1 dimension_id\n",
      "filter 0 item_id\n",
      "filter 0 user_id\n",
      "filter 0 dimension_id\n",
      "Total length: 48583\n",
      "Number of unique [user_id,item_id]: 34563\n",
      "Number of unique user_id: 746\n",
      "Number of unique item_id: 180\n",
      "Number of unique dimension_id: 17\n"
     ]
    }
   ],
   "execution_count": 9
  },
  {
   "cell_type": "markdown",
   "id": "5f38b00b83903cf8",
   "metadata": {},
   "source": [
    "### Encoding"
   ]
  },
  {
   "cell_type": "code",
   "id": "461aaa3f05f101f3",
   "metadata": {
    "ExecuteTime": {
     "end_time": "2025-05-12T12:28:15.586777Z",
     "start_time": "2025-05-12T12:28:14.089670Z"
    }
   },
   "source": [
    "# renumber the users\n",
    "u_enc_data, u2n = encode_attr(filtered_data_0, \"user_id\")"
   ],
   "outputs": [],
   "execution_count": 10
  },
  {
   "cell_type": "code",
   "id": "4ad08e7dad6b96ac",
   "metadata": {
    "ExecuteTime": {
     "end_time": "2025-05-12T12:28:17.074550Z",
     "start_time": "2025-05-12T12:28:15.589271Z"
    }
   },
   "source": [
    "# renumber the items\n",
    "q_enc_data, q2n = encode_attr(u_enc_data, \"item_id\")"
   ],
   "outputs": [],
   "execution_count": 11
  },
  {
   "cell_type": "code",
   "id": "9d3b2c3dff642633",
   "metadata": {
    "ExecuteTime": {
     "end_time": "2025-05-12T12:28:18.606410Z",
     "start_time": "2025-05-12T12:28:17.095993Z"
    }
   },
   "source": [
    "# renumber the dimensions\n",
    "d_enc_data, d2n = encode_attr(q_enc_data, \"dimension_id\")"
   ],
   "outputs": [],
   "execution_count": 12
  },
  {
   "cell_type": "markdown",
   "id": "3b9e92e115b938bd",
   "metadata": {},
   "source": [
    "### Maps creation"
   ]
  },
  {
   "cell_type": "code",
   "id": "124352496823ae86",
   "metadata": {
    "ExecuteTime": {
     "end_time": "2025-05-12T12:28:18.650670Z",
     "start_time": "2025-05-12T12:28:18.628613Z"
    }
   },
   "source": [
    "q2k, k2q = create_q2k(d_enc_data)"
   ],
   "outputs": [],
   "execution_count": 13
  },
  {
   "cell_type": "markdown",
   "id": "d9bbf26af710c979",
   "metadata": {},
   "source": [
    "### Rescaling responses"
   ]
  },
  {
   "cell_type": "code",
   "id": "16227ddf196496e7",
   "metadata": {
    "ExecuteTime": {
     "end_time": "2025-05-12T12:28:18.692871Z",
     "start_time": "2025-05-12T12:28:18.673515Z"
    }
   },
   "source": [
    "d_enc_data['correct'] = d_enc_data['correct'].astype(float)\n",
    "\n",
    "min_val = d_enc_data.groupby('item_id')['correct'].transform('min')\n",
    "max_val = d_enc_data.groupby('item_id')['correct'].transform('max')\n",
    "\n",
    "# Rescale 'correct' values per 'item_id'\n",
    "d_enc_data['correct'] = (d_enc_data['correct'] - min_val) / (max_val - min_val) + 1\n",
    "\n",
    "# Assign the rescaled data to 'rescaled_data'\n",
    "resc_data = d_enc_data\n",
    "print(f'min value : {resc_data.groupby(\"item_id\")[\"correct\"].min()}, max value : {resc_data.groupby(\"item_id\")[\"correct\"].max()}')"
   ],
   "outputs": [
    {
     "name": "stdout",
     "output_type": "stream",
     "text": [
      "min value : item_id\n",
      "0      1.0\n",
      "1      1.0\n",
      "2      1.0\n",
      "3      1.0\n",
      "4      1.0\n",
      "      ... \n",
      "175    1.0\n",
      "176    1.0\n",
      "177    1.0\n",
      "178    1.0\n",
      "179    1.0\n",
      "Name: correct, Length: 180, dtype: float64, max value : item_id\n",
      "0      2.0\n",
      "1      2.0\n",
      "2      2.0\n",
      "3      2.0\n",
      "4      2.0\n",
      "      ... \n",
      "175    2.0\n",
      "176    2.0\n",
      "177    2.0\n",
      "178    2.0\n",
      "179    2.0\n",
      "Name: correct, Length: 180, dtype: float64\n"
     ]
    }
   ],
   "execution_count": 14
  },
  {
   "cell_type": "markdown",
   "id": "d887c5e72037c54",
   "metadata": {},
   "source": [
    "### Get final stats and create metadata"
   ]
  },
  {
   "cell_type": "code",
   "id": "d3ce35f2a3d57db3",
   "metadata": {
    "ExecuteTime": {
     "end_time": "2025-05-12T12:28:18.748228Z",
     "start_time": "2025-05-12T12:28:18.719768Z"
    }
   },
   "source": [
    "stat_unique(resc_data, None)\n",
    "stat_unique(resc_data, ['user_id', 'item_id'])\n",
    "stat_unique(resc_data, 'user_id')\n",
    "stat_unique(resc_data, 'item_id')\n",
    "stat_unique(resc_data, 'dimension_id')\n",
    "stat_unique(resc_data, 'correct')\n",
    "\n",
    "resc_data_dim_grouped_items = resc_data.groupby(\"dimension_id\")[\"item_id\"].nunique()\n",
    "resc_data_dim_grouped_users = resc_data.groupby(\"dimension_id\")[\"user_id\"].nunique()\n",
    "print('#questions/category: {} & {} &  {}'.format(np.min(resc_data_dim_grouped_items),int(np.round(np.mean(resc_data_dim_grouped_items))),np.max(resc_data_dim_grouped_items)))\n",
    "print('#users/category: {} & {} &  {}'.format(np.min(resc_data_dim_grouped_users),int(np.round(np.mean(resc_data_dim_grouped_users))),np.max(resc_data_dim_grouped_users)))\n",
    "\n",
    "resc_data_dim_grouped_items = resc_data.groupby(\"item_id\")[\"dimension_id\"].nunique()\n",
    "resc_data_dim_grouped_users = resc_data.groupby(\"item_id\")[\"user_id\"].nunique()\n",
    "print('#categorys/question: {} & {} &  {}'.format(np.min(resc_data_dim_grouped_items),int(np.round(np.mean(resc_data_dim_grouped_items))),np.max(resc_data_dim_grouped_items)))\n",
    "print('#users/question: {} & {} &  {}'.format(np.min(resc_data_dim_grouped_users),int(np.round(np.mean(resc_data_dim_grouped_users))),np.max(resc_data_dim_grouped_users)))\n",
    "\n",
    "resc_data_dim_grouped_items = resc_data.groupby(\"user_id\")[\"item_id\"].nunique()\n",
    "resc_data_dim_grouped_users = resc_data.groupby(\"user_id\")[\"dimension_id\"].nunique()\n",
    "print('#questions/users: {} & {} &  {}'.format(np.min(resc_data_dim_grouped_items),int(np.round(np.mean(resc_data_dim_grouped_items))),np.max(resc_data_dim_grouped_items)))\n",
    "print('#categorys/users: {} & {} &  {}'.format(np.min(resc_data_dim_grouped_users),int(np.round(np.mean(resc_data_dim_grouped_users))),np.max(resc_data_dim_grouped_users)))"
   ],
   "outputs": [
    {
     "name": "stdout",
     "output_type": "stream",
     "text": [
      "Total length: 48583\n",
      "Number of unique [user_id,item_id]: 34563\n",
      "Number of unique user_id: 746\n",
      "Number of unique item_id: 180\n",
      "Number of unique dimension_id: 17\n",
      "Number of unique correct: 22\n",
      "#questions/category: 7 & 14 &  22\n",
      "#users/category: 38 & 206 &  460\n",
      "#categorys/question: 1 & 1 &  3\n",
      "#users/question: 38 & 192 &  460\n",
      "#questions/users: 20 & 46 &  92\n",
      "#categorys/users: 1 & 5 &  10\n"
     ]
    }
   ],
   "execution_count": 15
  },
  {
   "cell_type": "code",
   "id": "96b9fda0f0c947ba",
   "metadata": {
    "ExecuteTime": {
     "end_time": "2025-05-12T12:28:19.259620Z",
     "start_time": "2025-05-12T12:28:18.773186Z"
    }
   },
   "source": [
    "import matplotlib.pyplot as plt\n",
    "\n",
    "# draw a histogram of the age column\n",
    "(resc_data['correct']-1).hist(bins=20)\n",
    "\n",
    "# add labels and title\n",
    "plt.xlabel('Responses')\n",
    "plt.ylabel('Number')\n",
    "plt.title('Distribution of Responses')\n",
    "plt.savefig('../4-figs/distribution_postcovid.png')\n"
   ],
   "outputs": [
    {
     "data": {
      "text/plain": [
       "<Figure size 640x480 with 1 Axes>"
      ],
      "image/png": "[encoded data removed]"
     },
     "metadata": {},
     "output_type": "display_data"
    }
   ],
   "execution_count": 16
  },
  {
   "cell_type": "code",
   "id": "1420cf5a2ffcaf83",
   "metadata": {
    "ExecuteTime": {
     "end_time": "2025-05-12T12:28:19.303061Z",
     "start_time": "2025-05-12T12:28:19.285952Z"
    }
   },
   "source": [
    "resc_data_dim_grouped_items = resc_data.groupby(\"item_id\")[\"dimension_id\"].nunique()\n",
    "resc_data_dim_grouped_users = resc_data.groupby(\"item_id\")[\"user_id\"].nunique()\n",
    "metadata = get_metadata(resc_data,[\"user_id\", \"item_id\", \"dimension_id\"])\n",
    "metadata['min_nb_users_logs'] = min_nb_users_logs\n",
    "metadata['max_nb_categories_per_question'] = int(np.max(resc_data_dim_grouped_items))"
   ],
   "outputs": [],
   "execution_count": 17
  },
  {
   "cell_type": "markdown",
   "id": "7b3d5b11-88fd-4330-b7f7-69e6db25c48b",
   "metadata": {},
   "source": [
    "### Compute nb of modalities per item"
   ]
  },
  {
   "cell_type": "code",
   "id": "a35a5487-a7e8-4e19-90c6-51f23dd8ea88",
   "metadata": {
    "ExecuteTime": {
     "end_time": "2025-05-12T12:28:19.362711Z",
     "start_time": "2025-05-12T12:28:19.329535Z"
    }
   },
   "source": [
    "nb_modalities = get_modalities_nb(resc_data, metadata)"
   ],
   "outputs": [],
   "execution_count": 18
  },
  {
   "cell_type": "markdown",
   "id": "af2a1ef2455361fa",
   "metadata": {},
   "source": [
    "### Save data, concept map, metadata and nb_modalities"
   ]
  },
  {
   "cell_type": "code",
   "id": "2711f76ebb0f8c75",
   "metadata": {
    "ExecuteTime": {
     "end_time": "2025-05-12T12:28:19.441548Z",
     "start_time": "2025-05-12T12:28:19.422910Z"
    }
   },
   "source": [
    "new_order = ['user_id','item_id', 'correct', 'dimension_id']\n",
    "resc_data = resc_data[new_order]"
   ],
   "outputs": [],
   "execution_count": 19
  },
  {
   "cell_type": "code",
   "id": "9314705046e62dcb",
   "metadata": {
    "ExecuteTime": {
     "end_time": "2025-05-12T12:28:19.538173Z",
     "start_time": "2025-05-12T12:28:19.446883Z"
    }
   },
   "source": [
    "# save selected data\n",
    "resc_data.to_csv('../1-raw_data/postcovid_selected_data.csv', index=False)"
   ],
   "outputs": [],
   "execution_count": 20
  },
  {
   "cell_type": "code",
   "id": "d57fbdcefd9ed82",
   "metadata": {
    "ExecuteTime": {
     "end_time": "2025-05-12T12:28:19.577226Z",
     "start_time": "2025-05-12T12:28:19.563493Z"
    }
   },
   "source": [
    "# Convert int64 keys to str\n",
    "q2k_str_keys = {str(key): value for key, value in q2k.items()}\n",
    "\n",
    "# Convert sets to lists in the dictionary\n",
    "q2k_json_serializable = {}\n",
    "for key, value in q2k_str_keys.items():\n",
    "    if isinstance(value, set):\n",
    "        q2k_json_serializable[key] = list(value)\n",
    "    else:\n",
    "        q2k_json_serializable[key] = value\n",
    "\n",
    "# Save concept map\n",
    "with open('../2-preprocessed_data/postcovid_concept_map.json', 'w') as f:\n",
    "    json.dump(q2k_json_serializable, f)"
   ],
   "outputs": [],
   "execution_count": 21
  },
  {
   "cell_type": "code",
   "id": "6fdbebe69540c57c",
   "metadata": {
    "ExecuteTime": {
     "end_time": "2025-05-12T12:28:19.619527Z",
     "start_time": "2025-05-12T12:28:19.605540Z"
    }
   },
   "source": [
    "# save metadata\n",
    "with open('../2-preprocessed_data/postcovid_metadata.json', 'w') as f:\n",
    "    json.dump(metadata, f)"
   ],
   "outputs": [],
   "execution_count": 22
  },
  {
   "cell_type": "code",
   "id": "46932b68-b0a7-4fe1-a090-af21cfd03cc3",
   "metadata": {
    "ExecuteTime": {
     "end_time": "2025-05-12T12:28:19.664246Z",
     "start_time": "2025-05-12T12:28:19.650087Z"
    }
   },
   "source": [
    "# save metadata\n",
    "torch.save(nb_modalities,'../2-preprocessed_data/postcovid_nb_modalities.pkl')"
   ],
   "outputs": [],
   "execution_count": 23
  },
  {
   "cell_type": "markdown",
   "id": "db9f1ae6fa56cfa1",
   "metadata": {},
   "source": [
    "## parse data"
   ]
  },
  {
   "cell_type": "code",
   "id": "850280e1dfdda1b9",
   "metadata": {
    "ExecuteTime": {
     "end_time": "2025-05-12T12:28:19.710845Z",
     "start_time": "2025-05-12T12:28:19.696509Z"
    }
   },
   "source": [
    "%load_ext autoreload\n",
    "%autoreload 2"
   ],
   "outputs": [
    {
     "name": "stdout",
     "output_type": "stream",
     "text": [
      "The autoreload extension is already loaded. To reload it, use:\n",
      "  %reload_ext autoreload\n"
     ]
    }
   ],
   "execution_count": 24
  },
  {
   "cell_type": "code",
   "id": "3b97a578bdb0ec0b",
   "metadata": {
    "ExecuteTime": {
     "end_time": "2025-05-12T12:28:19.757988Z",
     "start_time": "2025-05-12T12:28:19.743396Z"
    }
   },
   "source": [
    "from liriscat import utils\n",
    "utils.setuplogger(verbose = True,log_path = \"../../logs/\", log_name=\"liriscat\", os='Windows')\n",
    "utils.set_seed(0)"
   ],
   "outputs": [
    {
     "name": "stdout",
     "output_type": "stream",
     "text": [
      "CUDA is not available. Skipping CUDA seed setting.\n"
     ]
    }
   ],
   "execution_count": 25
  },
  {
   "cell_type": "code",
   "id": "2e4e3ad90376b31",
   "metadata": {
    "ExecuteTime": {
     "end_time": "2025-05-12T12:28:19.811840Z",
     "start_time": "2025-05-12T12:28:19.788922Z"
    }
   },
   "source": [
    "import pandas as pd\n",
    "from liriscat.dataset.preprocessing_utilities import *\n",
    "resc_data = pd.read_csv('../1-raw_data/postcovid_selected_data.csv')"
   ],
   "outputs": [],
   "execution_count": 26
  },
  {
   "cell_type": "code",
   "id": "53610eb7a85babfb",
   "metadata": {
    "ExecuteTime": {
     "end_time": "2025-05-12T12:28:19.865834Z",
     "start_time": "2025-05-12T12:28:19.840951Z"
    }
   },
   "source": [
    "train, valid, test = split_users(resc_data, 5)"
   ],
   "outputs": [],
   "execution_count": 27
  },
  {
   "metadata": {
    "ExecuteTime": {
     "end_time": "2025-05-12T12:28:25.234037Z",
     "start_time": "2025-05-12T12:28:19.901483Z"
    }
   },
   "cell_type": "code",
   "source": [
    "for i_fold, train_fold in enumerate(train):\n",
    "    save_df_to_csv(train[i_fold], f'../2-preprocessed_data/postcovid_train_{i_fold}.csv')\n",
    "    save_df_to_csv(valid[i_fold], f'../2-preprocessed_data/postcovid_valid_{i_fold}.csv')\n",
    "    save_df_to_csv(test[i_fold], f'../2-preprocessed_data/postcovid_test_{i_fold}.csv')\n",
    "\n",
    "    train_valid_df = pd.concat([train[i_fold], valid[i_fold]])\n",
    "    # Split the merged data horizontally into train and validation sets.\n",
    "\n",
    "    quadruplet = quadruplet_format(train_valid_df)\n",
    "    vertical_train, vertical_valid = split_data_vertically_unique_fold(quadruplet, valid_prop=0.1)\n",
    "\n",
    "    save_df_to_csv(vertical_train, f'../2-preprocessed_data/postcovid_vert_train_{i_fold}.csv')\n",
    "    save_df_to_csv(vertical_valid, f'../2-preprocessed_data/postcovid_vert_valid_{i_fold}.csv')\n",
    "\n"
   ],
   "id": "ca71ed28e67ab07d",
   "outputs": [],
   "execution_count": 28
  }
 ],
 "metadata": {
  "kernelspec": {
   "display_name": "Python 3 (ipykernel)",
   "language": "python",
   "name": "python3"
  },
  "language_info": {
   "codemirror_mode": {
    "name": "ipython",
    "version": 3
   },
   "file_extension": ".py",
   "mimetype": "text/x-python",
   "name": "python",
   "nbconvert_exporter": "python",
   "pygments_lexer": "ipython3",
   "version": "3.12.9"
  }
 },
 "nbformat": 4,
 "nbformat_minor": 5
}
