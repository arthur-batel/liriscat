{
 "cells": [
  {
   "cell_type": "markdown",
   "id": "eeb7bafb40cc2079",
   "metadata": {},
   "source": [
    "# postcovid dataset preprocessing\n",
    "### Import"
   ]
  },
  {
   "cell_type": "code",
   "id": "5c572fedcc3d884",
   "metadata": {
    "ExecuteTime": {
     "end_time": "2025-04-18T13:43:59.112396Z",
     "start_time": "2025-04-18T13:43:59.096934Z"
    }
   },
   "source": [
    "%load_ext autoreload\n",
    "%autoreload 2"
   ],
   "outputs": [],
   "execution_count": 1
  },
  {
   "cell_type": "code",
   "id": "763506e3fc4c3ef3",
   "metadata": {
    "ExecuteTime": {
     "end_time": "2025-04-18T13:44:02.966009Z",
     "start_time": "2025-04-18T13:44:00.006944Z"
    }
   },
   "source": [
    "import json\n",
    "import pandas as pd\n",
    "import numpy as np\n",
    "from liriscat.dataset.preprocessing_utilities import *\n",
    "from liriscat.utils import utils\n",
    "import torch\n",
    "utils.set_seed(0)"
   ],
   "outputs": [
    {
     "name": "stdout",
     "output_type": "stream",
     "text": [
      "CUDA is not available. Skipping CUDA seed setting.\n"
     ]
    }
   ],
   "execution_count": 2
  },
  {
   "cell_type": "markdown",
   "id": "2c6ffc9f3b1e2e5c",
   "metadata": {},
   "source": [
    "### Load and merge dataset"
   ]
  },
  {
   "cell_type": "code",
   "id": "eae9427ff89ef0a3",
   "metadata": {
    "ExecuteTime": {
     "end_time": "2025-04-18T13:44:04.594994Z",
     "start_time": "2025-04-18T13:44:04.387277Z"
    }
   },
   "source": [
    "raw_data = pd.read_csv('../1-raw_data/postcovid.csv', encoding=\"ISO-8859-15\", low_memory=False)\n",
    "\n",
    "raw_data = raw_data.drop(columns=['Unnamed: 0.2', 'Unnamed: 0',\n",
    "       'Unnamed: 0.1', 'start_time', 'qr',\n",
    "       'qr_compl'])\n",
    "\n",
    "raw_data =  raw_data.rename(columns={\"skill_id\": \"dimension_id\"})\n",
    "raw_data.head()\n"
   ],
   "outputs": [
    {
     "data": {
      "text/plain": [
       "  dimension_id  user_id  item_id  correct  UX_answer  \\\n",
       "0          {9}        0        3      1.0          2   \n",
       "1          {9}        0       12      3.0          4   \n",
       "2          {9}        0       20      2.0          3   \n",
       "3          {9}        0       27      3.0          4   \n",
       "4          {9}        0       34      1.0          2   \n",
       "\n",
       "                                              result  \\\n",
       "0  {'score': 21, 'symptom': 'memoryAndConcentrati...   \n",
       "1  {'score': 21, 'symptom': 'memoryAndConcentrati...   \n",
       "2  {'score': 21, 'symptom': 'memoryAndConcentrati...   \n",
       "3  {'score': 21, 'symptom': 'memoryAndConcentrati...   \n",
       "4  {'score': 21, 'symptom': 'memoryAndConcentrati...   \n",
       "\n",
       "                                             answers itemnaireId  \\\n",
       "0  {'itemId': 'Q10', 'answer': {'modalityId': 'M1...   MCNAIR-FR   \n",
       "1  {'itemId': 'Q11', 'answer': {'modalityId': 'M1...   MCNAIR-FR   \n",
       "2  {'itemId': 'Q12', 'answer': {'modalityId': 'M1...   MCNAIR-FR   \n",
       "3  {'itemId': 'Q13', 'answer': {'modalityId': 'M1...   MCNAIR-FR   \n",
       "4  {'itemId': 'Q14', 'answer': {'modalityId': 'M1...   MCNAIR-FR   \n",
       "\n",
       "                               userIdAndCreationDate  \n",
       "0  userId#000c7fcd-26e6-4145-b3c5-fa501fb79738__c...  \n",
       "1  userId#000c7fcd-26e6-4145-b3c5-fa501fb79738__c...  \n",
       "2  userId#000c7fcd-26e6-4145-b3c5-fa501fb79738__c...  \n",
       "3  userId#000c7fcd-26e6-4145-b3c5-fa501fb79738__c...  \n",
       "4  userId#000c7fcd-26e6-4145-b3c5-fa501fb79738__c...  "
      ],
      "text/html": [
       "<div>\n",
       "<style scoped>\n",
       "    .dataframe tbody tr th:only-of-type {\n",
       "        vertical-align: middle;\n",
       "    }\n",
       "\n",
       "    .dataframe tbody tr th {\n",
       "        vertical-align: top;\n",
       "    }\n",
       "\n",
       "    .dataframe thead th {\n",
       "        text-align: right;\n",
       "    }\n",
       "</style>\n",
       "<table border=\"1\" class=\"dataframe\">\n",
       "  <thead>\n",
       "    <tr style=\"text-align: right;\">\n",
       "      <th></th>\n",
       "      <th>dimension_id</th>\n",
       "      <th>user_id</th>\n",
       "      <th>item_id</th>\n",
       "      <th>correct</th>\n",
       "      <th>UX_answer</th>\n",
       "      <th>result</th>\n",
       "      <th>answers</th>\n",
       "      <th>itemnaireId</th>\n",
       "      <th>userIdAndCreationDate</th>\n",
       "    </tr>\n",
       "  </thead>\n",
       "  <tbody>\n",
       "    <tr>\n",
       "      <th>0</th>\n",
       "      <td>{9}</td>\n",
       "      <td>0</td>\n",
       "      <td>3</td>\n",
       "      <td>1.0</td>\n",
       "      <td>2</td>\n",
       "      <td>{'score': 21, 'symptom': 'memoryAndConcentrati...</td>\n",
       "      <td>{'itemId': 'Q10', 'answer': {'modalityId': 'M1...</td>\n",
       "      <td>MCNAIR-FR</td>\n",
       "      <td>userId#000c7fcd-26e6-4145-b3c5-fa501fb79738__c...</td>\n",
       "    </tr>\n",
       "    <tr>\n",
       "      <th>1</th>\n",
       "      <td>{9}</td>\n",
       "      <td>0</td>\n",
       "      <td>12</td>\n",
       "      <td>3.0</td>\n",
       "      <td>4</td>\n",
       "      <td>{'score': 21, 'symptom': 'memoryAndConcentrati...</td>\n",
       "      <td>{'itemId': 'Q11', 'answer': {'modalityId': 'M1...</td>\n",
       "      <td>MCNAIR-FR</td>\n",
       "      <td>userId#000c7fcd-26e6-4145-b3c5-fa501fb79738__c...</td>\n",
       "    </tr>\n",
       "    <tr>\n",
       "      <th>2</th>\n",
       "      <td>{9}</td>\n",
       "      <td>0</td>\n",
       "      <td>20</td>\n",
       "      <td>2.0</td>\n",
       "      <td>3</td>\n",
       "      <td>{'score': 21, 'symptom': 'memoryAndConcentrati...</td>\n",
       "      <td>{'itemId': 'Q12', 'answer': {'modalityId': 'M1...</td>\n",
       "      <td>MCNAIR-FR</td>\n",
       "      <td>userId#000c7fcd-26e6-4145-b3c5-fa501fb79738__c...</td>\n",
       "    </tr>\n",
       "    <tr>\n",
       "      <th>3</th>\n",
       "      <td>{9}</td>\n",
       "      <td>0</td>\n",
       "      <td>27</td>\n",
       "      <td>3.0</td>\n",
       "      <td>4</td>\n",
       "      <td>{'score': 21, 'symptom': 'memoryAndConcentrati...</td>\n",
       "      <td>{'itemId': 'Q13', 'answer': {'modalityId': 'M1...</td>\n",
       "      <td>MCNAIR-FR</td>\n",
       "      <td>userId#000c7fcd-26e6-4145-b3c5-fa501fb79738__c...</td>\n",
       "    </tr>\n",
       "    <tr>\n",
       "      <th>4</th>\n",
       "      <td>{9}</td>\n",
       "      <td>0</td>\n",
       "      <td>34</td>\n",
       "      <td>1.0</td>\n",
       "      <td>2</td>\n",
       "      <td>{'score': 21, 'symptom': 'memoryAndConcentrati...</td>\n",
       "      <td>{'itemId': 'Q14', 'answer': {'modalityId': 'M1...</td>\n",
       "      <td>MCNAIR-FR</td>\n",
       "      <td>userId#000c7fcd-26e6-4145-b3c5-fa501fb79738__c...</td>\n",
       "    </tr>\n",
       "  </tbody>\n",
       "</table>\n",
       "</div>"
      ]
     },
     "execution_count": 3,
     "metadata": {},
     "output_type": "execute_result"
    }
   ],
   "execution_count": 3
  },
  {
   "cell_type": "markdown",
   "id": "70d36cb174851667",
   "metadata": {},
   "source": [
    "### Split rows with several dimensions"
   ]
  },
  {
   "cell_type": "code",
   "id": "48baada5ec363a41",
   "metadata": {
    "ExecuteTime": {
     "end_time": "2025-04-18T13:44:11.758539Z",
     "start_time": "2025-04-18T13:44:11.657114Z"
    }
   },
   "source": [
    "raw_data['dimension_id'] = raw_data['dimension_id'].apply(lambda x: set(map(int, x.strip('{}').split(', '))))\n",
    "df_expanded = raw_data.explode('dimension_id').reset_index(drop=True)\n",
    "df_expanded.head()"
   ],
   "outputs": [
    {
     "ename": "AttributeError",
     "evalue": "'set' object has no attribute 'strip'",
     "output_type": "error",
     "traceback": [
      "\u001B[0;31m---------------------------------------------------------------------------\u001B[0m",
      "\u001B[0;31mAttributeError\u001B[0m                            Traceback (most recent call last)",
      "Cell \u001B[0;32mIn[6], line 1\u001B[0m\n\u001B[0;32m----> 1\u001B[0m raw_data[\u001B[38;5;124m'\u001B[39m\u001B[38;5;124mdimension_id\u001B[39m\u001B[38;5;124m'\u001B[39m] \u001B[38;5;241m=\u001B[39m raw_data[\u001B[38;5;124m'\u001B[39m\u001B[38;5;124mdimension_id\u001B[39m\u001B[38;5;124m'\u001B[39m]\u001B[38;5;241m.\u001B[39mapply(\u001B[38;5;28;01mlambda\u001B[39;00m x: \u001B[38;5;28mset\u001B[39m(\u001B[38;5;28mmap\u001B[39m(\u001B[38;5;28mint\u001B[39m, x\u001B[38;5;241m.\u001B[39mstrip(\u001B[38;5;124m'\u001B[39m\u001B[38;5;132;01m{}\u001B[39;00m\u001B[38;5;124m'\u001B[39m)\u001B[38;5;241m.\u001B[39msplit(\u001B[38;5;124m'\u001B[39m\u001B[38;5;124m, \u001B[39m\u001B[38;5;124m'\u001B[39m))))\n\u001B[1;32m      2\u001B[0m df_expanded \u001B[38;5;241m=\u001B[39m raw_data\u001B[38;5;241m.\u001B[39mexplode(\u001B[38;5;124m'\u001B[39m\u001B[38;5;124mdimension_id\u001B[39m\u001B[38;5;124m'\u001B[39m)\u001B[38;5;241m.\u001B[39mreset_index(drop\u001B[38;5;241m=\u001B[39m\u001B[38;5;28;01mTrue\u001B[39;00m)\n\u001B[1;32m      3\u001B[0m df_expanded\u001B[38;5;241m.\u001B[39mhead()\n",
      "File \u001B[0;32m~/miniconda3/envs/IMPACT/lib/python3.12/site-packages/pandas/core/series.py:4924\u001B[0m, in \u001B[0;36mSeries.apply\u001B[0;34m(self, func, convert_dtype, args, by_row, **kwargs)\u001B[0m\n\u001B[1;32m   4789\u001B[0m \u001B[38;5;28;01mdef\u001B[39;00m\u001B[38;5;250m \u001B[39m\u001B[38;5;21mapply\u001B[39m(\n\u001B[1;32m   4790\u001B[0m     \u001B[38;5;28mself\u001B[39m,\n\u001B[1;32m   4791\u001B[0m     func: AggFuncType,\n\u001B[0;32m   (...)\u001B[0m\n\u001B[1;32m   4796\u001B[0m     \u001B[38;5;241m*\u001B[39m\u001B[38;5;241m*\u001B[39mkwargs,\n\u001B[1;32m   4797\u001B[0m ) \u001B[38;5;241m-\u001B[39m\u001B[38;5;241m>\u001B[39m DataFrame \u001B[38;5;241m|\u001B[39m Series:\n\u001B[1;32m   4798\u001B[0m \u001B[38;5;250m    \u001B[39m\u001B[38;5;124;03m\"\"\"\u001B[39;00m\n\u001B[1;32m   4799\u001B[0m \u001B[38;5;124;03m    Invoke function on values of Series.\u001B[39;00m\n\u001B[1;32m   4800\u001B[0m \n\u001B[0;32m   (...)\u001B[0m\n\u001B[1;32m   4915\u001B[0m \u001B[38;5;124;03m    dtype: float64\u001B[39;00m\n\u001B[1;32m   4916\u001B[0m \u001B[38;5;124;03m    \"\"\"\u001B[39;00m\n\u001B[1;32m   4917\u001B[0m     \u001B[38;5;28;01mreturn\u001B[39;00m SeriesApply(\n\u001B[1;32m   4918\u001B[0m         \u001B[38;5;28mself\u001B[39m,\n\u001B[1;32m   4919\u001B[0m         func,\n\u001B[1;32m   4920\u001B[0m         convert_dtype\u001B[38;5;241m=\u001B[39mconvert_dtype,\n\u001B[1;32m   4921\u001B[0m         by_row\u001B[38;5;241m=\u001B[39mby_row,\n\u001B[1;32m   4922\u001B[0m         args\u001B[38;5;241m=\u001B[39margs,\n\u001B[1;32m   4923\u001B[0m         kwargs\u001B[38;5;241m=\u001B[39mkwargs,\n\u001B[0;32m-> 4924\u001B[0m     )\u001B[38;5;241m.\u001B[39mapply()\n",
      "File \u001B[0;32m~/miniconda3/envs/IMPACT/lib/python3.12/site-packages/pandas/core/apply.py:1427\u001B[0m, in \u001B[0;36mSeriesApply.apply\u001B[0;34m(self)\u001B[0m\n\u001B[1;32m   1424\u001B[0m     \u001B[38;5;28;01mreturn\u001B[39;00m \u001B[38;5;28mself\u001B[39m\u001B[38;5;241m.\u001B[39mapply_compat()\n\u001B[1;32m   1426\u001B[0m \u001B[38;5;66;03m# self.func is Callable\u001B[39;00m\n\u001B[0;32m-> 1427\u001B[0m \u001B[38;5;28;01mreturn\u001B[39;00m \u001B[38;5;28mself\u001B[39m\u001B[38;5;241m.\u001B[39mapply_standard()\n",
      "File \u001B[0;32m~/miniconda3/envs/IMPACT/lib/python3.12/site-packages/pandas/core/apply.py:1507\u001B[0m, in \u001B[0;36mSeriesApply.apply_standard\u001B[0;34m(self)\u001B[0m\n\u001B[1;32m   1501\u001B[0m \u001B[38;5;66;03m# row-wise access\u001B[39;00m\n\u001B[1;32m   1502\u001B[0m \u001B[38;5;66;03m# apply doesn't have a `na_action` keyword and for backward compat reasons\u001B[39;00m\n\u001B[1;32m   1503\u001B[0m \u001B[38;5;66;03m# we need to give `na_action=\"ignore\"` for categorical data.\u001B[39;00m\n\u001B[1;32m   1504\u001B[0m \u001B[38;5;66;03m# TODO: remove the `na_action=\"ignore\"` when that default has been changed in\u001B[39;00m\n\u001B[1;32m   1505\u001B[0m \u001B[38;5;66;03m#  Categorical (GH51645).\u001B[39;00m\n\u001B[1;32m   1506\u001B[0m action \u001B[38;5;241m=\u001B[39m \u001B[38;5;124m\"\u001B[39m\u001B[38;5;124mignore\u001B[39m\u001B[38;5;124m\"\u001B[39m \u001B[38;5;28;01mif\u001B[39;00m \u001B[38;5;28misinstance\u001B[39m(obj\u001B[38;5;241m.\u001B[39mdtype, CategoricalDtype) \u001B[38;5;28;01melse\u001B[39;00m \u001B[38;5;28;01mNone\u001B[39;00m\n\u001B[0;32m-> 1507\u001B[0m mapped \u001B[38;5;241m=\u001B[39m obj\u001B[38;5;241m.\u001B[39m_map_values(\n\u001B[1;32m   1508\u001B[0m     mapper\u001B[38;5;241m=\u001B[39mcurried, na_action\u001B[38;5;241m=\u001B[39maction, convert\u001B[38;5;241m=\u001B[39m\u001B[38;5;28mself\u001B[39m\u001B[38;5;241m.\u001B[39mconvert_dtype\n\u001B[1;32m   1509\u001B[0m )\n\u001B[1;32m   1511\u001B[0m \u001B[38;5;28;01mif\u001B[39;00m \u001B[38;5;28mlen\u001B[39m(mapped) \u001B[38;5;129;01mand\u001B[39;00m \u001B[38;5;28misinstance\u001B[39m(mapped[\u001B[38;5;241m0\u001B[39m], ABCSeries):\n\u001B[1;32m   1512\u001B[0m     \u001B[38;5;66;03m# GH#43986 Need to do list(mapped) in order to get treated as nested\u001B[39;00m\n\u001B[1;32m   1513\u001B[0m     \u001B[38;5;66;03m#  See also GH#25959 regarding EA support\u001B[39;00m\n\u001B[1;32m   1514\u001B[0m     \u001B[38;5;28;01mreturn\u001B[39;00m obj\u001B[38;5;241m.\u001B[39m_constructor_expanddim(\u001B[38;5;28mlist\u001B[39m(mapped), index\u001B[38;5;241m=\u001B[39mobj\u001B[38;5;241m.\u001B[39mindex)\n",
      "File \u001B[0;32m~/miniconda3/envs/IMPACT/lib/python3.12/site-packages/pandas/core/base.py:921\u001B[0m, in \u001B[0;36mIndexOpsMixin._map_values\u001B[0;34m(self, mapper, na_action, convert)\u001B[0m\n\u001B[1;32m    918\u001B[0m \u001B[38;5;28;01mif\u001B[39;00m \u001B[38;5;28misinstance\u001B[39m(arr, ExtensionArray):\n\u001B[1;32m    919\u001B[0m     \u001B[38;5;28;01mreturn\u001B[39;00m arr\u001B[38;5;241m.\u001B[39mmap(mapper, na_action\u001B[38;5;241m=\u001B[39mna_action)\n\u001B[0;32m--> 921\u001B[0m \u001B[38;5;28;01mreturn\u001B[39;00m algorithms\u001B[38;5;241m.\u001B[39mmap_array(arr, mapper, na_action\u001B[38;5;241m=\u001B[39mna_action, convert\u001B[38;5;241m=\u001B[39mconvert)\n",
      "File \u001B[0;32m~/miniconda3/envs/IMPACT/lib/python3.12/site-packages/pandas/core/algorithms.py:1743\u001B[0m, in \u001B[0;36mmap_array\u001B[0;34m(arr, mapper, na_action, convert)\u001B[0m\n\u001B[1;32m   1741\u001B[0m values \u001B[38;5;241m=\u001B[39m arr\u001B[38;5;241m.\u001B[39mastype(\u001B[38;5;28mobject\u001B[39m, copy\u001B[38;5;241m=\u001B[39m\u001B[38;5;28;01mFalse\u001B[39;00m)\n\u001B[1;32m   1742\u001B[0m \u001B[38;5;28;01mif\u001B[39;00m na_action \u001B[38;5;129;01mis\u001B[39;00m \u001B[38;5;28;01mNone\u001B[39;00m:\n\u001B[0;32m-> 1743\u001B[0m     \u001B[38;5;28;01mreturn\u001B[39;00m lib\u001B[38;5;241m.\u001B[39mmap_infer(values, mapper, convert\u001B[38;5;241m=\u001B[39mconvert)\n\u001B[1;32m   1744\u001B[0m \u001B[38;5;28;01melse\u001B[39;00m:\n\u001B[1;32m   1745\u001B[0m     \u001B[38;5;28;01mreturn\u001B[39;00m lib\u001B[38;5;241m.\u001B[39mmap_infer_mask(\n\u001B[1;32m   1746\u001B[0m         values, mapper, mask\u001B[38;5;241m=\u001B[39misna(values)\u001B[38;5;241m.\u001B[39mview(np\u001B[38;5;241m.\u001B[39muint8), convert\u001B[38;5;241m=\u001B[39mconvert\n\u001B[1;32m   1747\u001B[0m     )\n",
      "File \u001B[0;32mlib.pyx:2972\u001B[0m, in \u001B[0;36mpandas._libs.lib.map_infer\u001B[0;34m()\u001B[0m\n",
      "Cell \u001B[0;32mIn[6], line 1\u001B[0m, in \u001B[0;36m<lambda>\u001B[0;34m(x)\u001B[0m\n\u001B[0;32m----> 1\u001B[0m raw_data[\u001B[38;5;124m'\u001B[39m\u001B[38;5;124mdimension_id\u001B[39m\u001B[38;5;124m'\u001B[39m] \u001B[38;5;241m=\u001B[39m raw_data[\u001B[38;5;124m'\u001B[39m\u001B[38;5;124mdimension_id\u001B[39m\u001B[38;5;124m'\u001B[39m]\u001B[38;5;241m.\u001B[39mapply(\u001B[38;5;28;01mlambda\u001B[39;00m x: \u001B[38;5;28mset\u001B[39m(\u001B[38;5;28mmap\u001B[39m(\u001B[38;5;28mint\u001B[39m, x\u001B[38;5;241m.\u001B[39mstrip(\u001B[38;5;124m'\u001B[39m\u001B[38;5;132;01m{}\u001B[39;00m\u001B[38;5;124m'\u001B[39m)\u001B[38;5;241m.\u001B[39msplit(\u001B[38;5;124m'\u001B[39m\u001B[38;5;124m, \u001B[39m\u001B[38;5;124m'\u001B[39m))))\n\u001B[1;32m      2\u001B[0m df_expanded \u001B[38;5;241m=\u001B[39m raw_data\u001B[38;5;241m.\u001B[39mexplode(\u001B[38;5;124m'\u001B[39m\u001B[38;5;124mdimension_id\u001B[39m\u001B[38;5;124m'\u001B[39m)\u001B[38;5;241m.\u001B[39mreset_index(drop\u001B[38;5;241m=\u001B[39m\u001B[38;5;28;01mTrue\u001B[39;00m)\n\u001B[1;32m      3\u001B[0m df_expanded\u001B[38;5;241m.\u001B[39mhead()\n",
      "\u001B[0;31mAttributeError\u001B[0m: 'set' object has no attribute 'strip'"
     ]
    }
   ],
   "execution_count": 6
  },
  {
   "cell_type": "markdown",
   "id": "f532d0b094164b01",
   "metadata": {},
   "source": [
    "### Early stats"
   ]
  },
  {
   "cell_type": "code",
   "id": "d6b0feeae63d2c54",
   "metadata": {
    "ExecuteTime": {
     "end_time": "2025-04-18T07:51:47.816183Z",
     "start_time": "2025-04-18T07:51:47.796436Z"
    }
   },
   "source": [
    "print(len(df_expanded))\n",
    "all_data = df_expanded.dropna(subset=['user_id','item_id','correct','dimension_id'])\n",
    "print(len(all_data))"
   ],
   "outputs": [
    {
     "name": "stdout",
     "output_type": "stream",
     "text": [
      "51690\n",
      "51690\n"
     ]
    }
   ],
   "execution_count": 5
  },
  {
   "cell_type": "code",
   "id": "75ad853c5e6327ab",
   "metadata": {
    "ExecuteTime": {
     "end_time": "2025-04-18T07:51:49.507896Z",
     "start_time": "2025-04-18T07:51:49.487095Z"
    }
   },
   "source": [
    "stat_unique(all_data, None)\n",
    "stat_unique(all_data, ['user_id', 'item_id'])\n",
    "stat_unique(all_data, 'user_id')\n",
    "stat_unique(all_data, 'item_id')\n",
    "stat_unique(all_data, 'dimension_id')"
   ],
   "outputs": [
    {
     "name": "stdout",
     "output_type": "stream",
     "text": [
      "Total length: 51690\n",
      "Number of unique [user_id,item_id]: 37390\n",
      "Number of unique user_id: 917\n",
      "Number of unique item_id: 184\n",
      "Number of unique dimension_id: 18\n"
     ]
    }
   ],
   "execution_count": 6
  },
  {
   "cell_type": "markdown",
   "id": "9d2a99907e563075",
   "metadata": {},
   "source": [
    "### Clean Nan values"
   ]
  },
  {
   "cell_type": "code",
   "id": "10b1e79bf17e1a46",
   "metadata": {
    "ExecuteTime": {
     "end_time": "2025-04-18T07:51:51.649069Z",
     "start_time": "2025-04-18T07:51:51.627029Z"
    }
   },
   "source": [
    "cleaned_data = all_data.dropna(subset=['user_id','item_id','correct','dimension_id'], axis='index')\n",
    "cleaned_data"
   ],
   "outputs": [
    {
     "data": {
      "text/plain": [
       "      dimension_id  user_id  item_id  correct  UX_answer  \\\n",
       "0                9        0        3      1.0          2   \n",
       "1                9        0       12      3.0          4   \n",
       "2                9        0       20      2.0          3   \n",
       "3                9        0       27      3.0          4   \n",
       "4                9        0       34      1.0          2   \n",
       "...            ...      ...      ...      ...        ...   \n",
       "51685            3      916      158      1.0          1   \n",
       "51686            5      916      163      6.0          6   \n",
       "51687            3      916      170      2.0          2   \n",
       "51688            5      916      174      6.0          6   \n",
       "51689            3      916      181      1.0          1   \n",
       "\n",
       "                                                  result  \\\n",
       "0      {'score': 21, 'symptom': 'memoryAndConcentrati...   \n",
       "1      {'score': 21, 'symptom': 'memoryAndConcentrati...   \n",
       "2      {'score': 21, 'symptom': 'memoryAndConcentrati...   \n",
       "3      {'score': 21, 'symptom': 'memoryAndConcentrati...   \n",
       "4      {'score': 21, 'symptom': 'memoryAndConcentrati...   \n",
       "...                                                  ...   \n",
       "51685             {'score': 68, 'symptom': 'depression'}   \n",
       "51686                 {'score': 6, 'symptom': 'fatigue'}   \n",
       "51687             {'score': 68, 'symptom': 'depression'}   \n",
       "51688                 {'score': 6, 'symptom': 'fatigue'}   \n",
       "51689             {'score': 68, 'symptom': 'depression'}   \n",
       "\n",
       "                                                 answers itemnaireId  \\\n",
       "0      {'itemId': 'Q10', 'answer': {'modalityId': 'M1...   MCNAIR-FR   \n",
       "1      {'itemId': 'Q11', 'answer': {'modalityId': 'M1...   MCNAIR-FR   \n",
       "2      {'itemId': 'Q12', 'answer': {'modalityId': 'M1...   MCNAIR-FR   \n",
       "3      {'itemId': 'Q13', 'answer': {'modalityId': 'M1...   MCNAIR-FR   \n",
       "4      {'itemId': 'Q14', 'answer': {'modalityId': 'M1...   MCNAIR-FR   \n",
       "...                                                  ...         ...   \n",
       "51685  {'questionId': 'Q7', 'answer': {'modalityId': ...      SDS-FR   \n",
       "51686  {'questionId': 'Q8', 'answer': {'modalityId': ...      FSS-FR   \n",
       "51687  {'questionId': 'Q8', 'answer': {'modalityId': ...      SDS-FR   \n",
       "51688  {'questionId': 'Q9', 'answer': {'modalityId': ...      FSS-FR   \n",
       "51689  {'questionId': 'Q9', 'answer': {'modalityId': ...      SDS-FR   \n",
       "\n",
       "                                   userIdAndCreationDate  \n",
       "0      userId#000c7fcd-26e6-4145-b3c5-fa501fb79738__c...  \n",
       "1      userId#000c7fcd-26e6-4145-b3c5-fa501fb79738__c...  \n",
       "2      userId#000c7fcd-26e6-4145-b3c5-fa501fb79738__c...  \n",
       "3      userId#000c7fcd-26e6-4145-b3c5-fa501fb79738__c...  \n",
       "4      userId#000c7fcd-26e6-4145-b3c5-fa501fb79738__c...  \n",
       "...                                                  ...  \n",
       "51685  userId#ffba72c7-6b91-4daf-ab9f-7dc59cd987ca__c...  \n",
       "51686  userId#ffba72c7-6b91-4daf-ab9f-7dc59cd987ca__c...  \n",
       "51687  userId#ffba72c7-6b91-4daf-ab9f-7dc59cd987ca__c...  \n",
       "51688  userId#ffba72c7-6b91-4daf-ab9f-7dc59cd987ca__c...  \n",
       "51689  userId#ffba72c7-6b91-4daf-ab9f-7dc59cd987ca__c...  \n",
       "\n",
       "[51690 rows x 9 columns]"
      ],
      "text/html": [
       "<div>\n",
       "<style scoped>\n",
       "    .dataframe tbody tr th:only-of-type {\n",
       "        vertical-align: middle;\n",
       "    }\n",
       "\n",
       "    .dataframe tbody tr th {\n",
       "        vertical-align: top;\n",
       "    }\n",
       "\n",
       "    .dataframe thead th {\n",
       "        text-align: right;\n",
       "    }\n",
       "</style>\n",
       "<table border=\"1\" class=\"dataframe\">\n",
       "  <thead>\n",
       "    <tr style=\"text-align: right;\">\n",
       "      <th></th>\n",
       "      <th>dimension_id</th>\n",
       "      <th>user_id</th>\n",
       "      <th>item_id</th>\n",
       "      <th>correct</th>\n",
       "      <th>UX_answer</th>\n",
       "      <th>result</th>\n",
       "      <th>answers</th>\n",
       "      <th>itemnaireId</th>\n",
       "      <th>userIdAndCreationDate</th>\n",
       "    </tr>\n",
       "  </thead>\n",
       "  <tbody>\n",
       "    <tr>\n",
       "      <th>0</th>\n",
       "      <td>9</td>\n",
       "      <td>0</td>\n",
       "      <td>3</td>\n",
       "      <td>1.0</td>\n",
       "      <td>2</td>\n",
       "      <td>{'score': 21, 'symptom': 'memoryAndConcentrati...</td>\n",
       "      <td>{'itemId': 'Q10', 'answer': {'modalityId': 'M1...</td>\n",
       "      <td>MCNAIR-FR</td>\n",
       "      <td>userId#000c7fcd-26e6-4145-b3c5-fa501fb79738__c...</td>\n",
       "    </tr>\n",
       "    <tr>\n",
       "      <th>1</th>\n",
       "      <td>9</td>\n",
       "      <td>0</td>\n",
       "      <td>12</td>\n",
       "      <td>3.0</td>\n",
       "      <td>4</td>\n",
       "      <td>{'score': 21, 'symptom': 'memoryAndConcentrati...</td>\n",
       "      <td>{'itemId': 'Q11', 'answer': {'modalityId': 'M1...</td>\n",
       "      <td>MCNAIR-FR</td>\n",
       "      <td>userId#000c7fcd-26e6-4145-b3c5-fa501fb79738__c...</td>\n",
       "    </tr>\n",
       "    <tr>\n",
       "      <th>2</th>\n",
       "      <td>9</td>\n",
       "      <td>0</td>\n",
       "      <td>20</td>\n",
       "      <td>2.0</td>\n",
       "      <td>3</td>\n",
       "      <td>{'score': 21, 'symptom': 'memoryAndConcentrati...</td>\n",
       "      <td>{'itemId': 'Q12', 'answer': {'modalityId': 'M1...</td>\n",
       "      <td>MCNAIR-FR</td>\n",
       "      <td>userId#000c7fcd-26e6-4145-b3c5-fa501fb79738__c...</td>\n",
       "    </tr>\n",
       "    <tr>\n",
       "      <th>3</th>\n",
       "      <td>9</td>\n",
       "      <td>0</td>\n",
       "      <td>27</td>\n",
       "      <td>3.0</td>\n",
       "      <td>4</td>\n",
       "      <td>{'score': 21, 'symptom': 'memoryAndConcentrati...</td>\n",
       "      <td>{'itemId': 'Q13', 'answer': {'modalityId': 'M1...</td>\n",
       "      <td>MCNAIR-FR</td>\n",
       "      <td>userId#000c7fcd-26e6-4145-b3c5-fa501fb79738__c...</td>\n",
       "    </tr>\n",
       "    <tr>\n",
       "      <th>4</th>\n",
       "      <td>9</td>\n",
       "      <td>0</td>\n",
       "      <td>34</td>\n",
       "      <td>1.0</td>\n",
       "      <td>2</td>\n",
       "      <td>{'score': 21, 'symptom': 'memoryAndConcentrati...</td>\n",
       "      <td>{'itemId': 'Q14', 'answer': {'modalityId': 'M1...</td>\n",
       "      <td>MCNAIR-FR</td>\n",
       "      <td>userId#000c7fcd-26e6-4145-b3c5-fa501fb79738__c...</td>\n",
       "    </tr>\n",
       "    <tr>\n",
       "      <th>...</th>\n",
       "      <td>...</td>\n",
       "      <td>...</td>\n",
       "      <td>...</td>\n",
       "      <td>...</td>\n",
       "      <td>...</td>\n",
       "      <td>...</td>\n",
       "      <td>...</td>\n",
       "      <td>...</td>\n",
       "      <td>...</td>\n",
       "    </tr>\n",
       "    <tr>\n",
       "      <th>51685</th>\n",
       "      <td>3</td>\n",
       "      <td>916</td>\n",
       "      <td>158</td>\n",
       "      <td>1.0</td>\n",
       "      <td>1</td>\n",
       "      <td>{'score': 68, 'symptom': 'depression'}</td>\n",
       "      <td>{'questionId': 'Q7', 'answer': {'modalityId': ...</td>\n",
       "      <td>SDS-FR</td>\n",
       "      <td>userId#ffba72c7-6b91-4daf-ab9f-7dc59cd987ca__c...</td>\n",
       "    </tr>\n",
       "    <tr>\n",
       "      <th>51686</th>\n",
       "      <td>5</td>\n",
       "      <td>916</td>\n",
       "      <td>163</td>\n",
       "      <td>6.0</td>\n",
       "      <td>6</td>\n",
       "      <td>{'score': 6, 'symptom': 'fatigue'}</td>\n",
       "      <td>{'questionId': 'Q8', 'answer': {'modalityId': ...</td>\n",
       "      <td>FSS-FR</td>\n",
       "      <td>userId#ffba72c7-6b91-4daf-ab9f-7dc59cd987ca__c...</td>\n",
       "    </tr>\n",
       "    <tr>\n",
       "      <th>51687</th>\n",
       "      <td>3</td>\n",
       "      <td>916</td>\n",
       "      <td>170</td>\n",
       "      <td>2.0</td>\n",
       "      <td>2</td>\n",
       "      <td>{'score': 68, 'symptom': 'depression'}</td>\n",
       "      <td>{'questionId': 'Q8', 'answer': {'modalityId': ...</td>\n",
       "      <td>SDS-FR</td>\n",
       "      <td>userId#ffba72c7-6b91-4daf-ab9f-7dc59cd987ca__c...</td>\n",
       "    </tr>\n",
       "    <tr>\n",
       "      <th>51688</th>\n",
       "      <td>5</td>\n",
       "      <td>916</td>\n",
       "      <td>174</td>\n",
       "      <td>6.0</td>\n",
       "      <td>6</td>\n",
       "      <td>{'score': 6, 'symptom': 'fatigue'}</td>\n",
       "      <td>{'questionId': 'Q9', 'answer': {'modalityId': ...</td>\n",
       "      <td>FSS-FR</td>\n",
       "      <td>userId#ffba72c7-6b91-4daf-ab9f-7dc59cd987ca__c...</td>\n",
       "    </tr>\n",
       "    <tr>\n",
       "      <th>51689</th>\n",
       "      <td>3</td>\n",
       "      <td>916</td>\n",
       "      <td>181</td>\n",
       "      <td>1.0</td>\n",
       "      <td>1</td>\n",
       "      <td>{'score': 68, 'symptom': 'depression'}</td>\n",
       "      <td>{'questionId': 'Q9', 'answer': {'modalityId': ...</td>\n",
       "      <td>SDS-FR</td>\n",
       "      <td>userId#ffba72c7-6b91-4daf-ab9f-7dc59cd987ca__c...</td>\n",
       "    </tr>\n",
       "  </tbody>\n",
       "</table>\n",
       "<p>51690 rows × 9 columns</p>\n",
       "</div>"
      ]
     },
     "execution_count": 7,
     "metadata": {},
     "output_type": "execute_result"
    }
   ],
   "execution_count": 7
  },
  {
   "cell_type": "markdown",
   "id": "1cf51a190511d02f",
   "metadata": {},
   "source": [
    "### Remove duplicated user and id rows"
   ]
  },
  {
   "cell_type": "code",
   "id": "128895437c128e14",
   "metadata": {
    "ExecuteTime": {
     "end_time": "2025-04-18T07:51:54.419198Z",
     "start_time": "2025-04-18T07:51:54.360489Z"
    }
   },
   "source": [
    "unduplicated_data = remove_duplicates(cleaned_data,key_attrs=['user_id','item_id','dimension_id'],agg_attrs=[])"
   ],
   "outputs": [],
   "execution_count": 8
  },
  {
   "cell_type": "markdown",
   "id": "4a633bb837a7af3b",
   "metadata": {},
   "source": [
    "### Filter Data"
   ]
  },
  {
   "cell_type": "code",
   "execution_count": 18,
   "id": "62388835388d50d8",
   "metadata": {
    "ExecuteTime": {
     "end_time": "2025-04-16T12:01:52.925926Z",
     "start_time": "2025-04-16T12:01:52.878759Z"
    }
   },
   "outputs": [
    {
     "name": "stdout",
     "output_type": "stream",
     "text": [
      "filter 0 item_id\n",
      "filter 171 user_id\n",
      "filter 1 dimension_id\n",
      "filter 0 item_id\n",
      "filter 0 user_id\n",
      "filter 0 dimension_id\n",
      "Total length: 48583\n",
      "Number of unique [user_id,item_id]: 34563\n",
      "Number of unique user_id: 746\n",
      "Number of unique item_id: 180\n",
      "Number of unique dimension_id: 17\n"
     ]
    }
   ],
   "source": [
    "filtered_data_0 = unduplicated_data\n",
    "filtered_q_nb = 1\n",
    "filtered_u_nb = 0\n",
    "filtered_d_nb = 0\n",
    "while filtered_q_nb!=0 or filtered_u_nb!=0 or filtered_d_nb!=0 :\n",
    "\n",
    "    # filter items\n",
    "    filtered_data_1, filtered_q_nb = densify(filtered_data_0,'item_id','user_id',20)\n",
    "    # filter users\n",
    "    min_nb_users_logs = 20\n",
    "    filtered_data_2, filtered_u_nb = densify(filtered_data_1,'user_id','item_id',min_nb_users_logs)\n",
    "    # filter knowledges\n",
    "    filtered_data_3, filtered_d_nb = densify(filtered_data_2,'dimension_id','item_id',5)\n",
    "    filtered_data_0 = filtered_data_3\n",
    "    \n",
    "stat_unique(filtered_data_0, None)\n",
    "stat_unique(filtered_data_0, ['user_id', 'item_id'])\n",
    "stat_unique(filtered_data_0, 'user_id')\n",
    "stat_unique(filtered_data_0, 'item_id')\n",
    "stat_unique(filtered_data_0, 'dimension_id')"
   ]
  },
  {
   "cell_type": "markdown",
   "id": "5f38b00b83903cf8",
   "metadata": {},
   "source": [
    "### Encoding"
   ]
  },
  {
   "cell_type": "code",
   "execution_count": 19,
   "id": "461aaa3f05f101f3",
   "metadata": {
    "ExecuteTime": {
     "end_time": "2025-04-16T12:01:57.936445Z",
     "start_time": "2025-04-16T12:01:56.426935Z"
    }
   },
   "outputs": [],
   "source": [
    "# renumber the users\n",
    "u_enc_data, u2n = encode_attr(filtered_data_0, \"user_id\")"
   ]
  },
  {
   "cell_type": "code",
   "execution_count": 20,
   "id": "4ad08e7dad6b96ac",
   "metadata": {
    "ExecuteTime": {
     "end_time": "2025-04-16T12:02:00.730680Z",
     "start_time": "2025-04-16T12:01:59.237146Z"
    }
   },
   "outputs": [],
   "source": [
    "# renumber the items\n",
    "q_enc_data, q2n = encode_attr(u_enc_data, \"item_id\")"
   ]
  },
  {
   "cell_type": "code",
   "execution_count": 21,
   "id": "9d3b2c3dff642633",
   "metadata": {
    "ExecuteTime": {
     "end_time": "2025-04-16T12:02:03.398983Z",
     "start_time": "2025-04-16T12:02:01.886016Z"
    }
   },
   "outputs": [],
   "source": [
    "# renumber the dimensions\n",
    "d_enc_data, d2n = encode_attr(q_enc_data, \"dimension_id\")"
   ]
  },
  {
   "cell_type": "markdown",
   "id": "3b9e92e115b938bd",
   "metadata": {},
   "source": [
    "### Maps creation"
   ]
  },
  {
   "cell_type": "code",
   "execution_count": 22,
   "id": "124352496823ae86",
   "metadata": {
    "ExecuteTime": {
     "end_time": "2025-04-16T12:02:05.879524Z",
     "start_time": "2025-04-16T12:02:05.852406Z"
    }
   },
   "outputs": [],
   "source": [
    "q2k, k2q = create_q2k(d_enc_data)"
   ]
  },
  {
   "cell_type": "markdown",
   "id": "d9bbf26af710c979",
   "metadata": {},
   "source": [
    "### Rescaling responses"
   ]
  },
  {
   "cell_type": "code",
   "execution_count": 23,
   "id": "16227ddf196496e7",
   "metadata": {
    "ExecuteTime": {
     "end_time": "2025-04-16T12:02:07.883816Z",
     "start_time": "2025-04-16T12:02:07.862157Z"
    }
   },
   "outputs": [
    {
     "name": "stdout",
     "output_type": "stream",
     "text": [
      "min value : item_id\n",
      "0      1.0\n",
      "1      1.0\n",
      "2      1.0\n",
      "3      1.0\n",
      "4      1.0\n",
      "      ... \n",
      "175    1.0\n",
      "176    1.0\n",
      "177    1.0\n",
      "178    1.0\n",
      "179    1.0\n",
      "Name: correct, Length: 180, dtype: float64, max value : item_id\n",
      "0      2.0\n",
      "1      2.0\n",
      "2      2.0\n",
      "3      2.0\n",
      "4      2.0\n",
      "      ... \n",
      "175    2.0\n",
      "176    2.0\n",
      "177    2.0\n",
      "178    2.0\n",
      "179    2.0\n",
      "Name: correct, Length: 180, dtype: float64\n"
     ]
    }
   ],
   "source": [
    "d_enc_data['correct'] = d_enc_data['correct'].astype(float)\n",
    "\n",
    "min_val = d_enc_data.groupby('item_id')['correct'].transform('min')\n",
    "max_val = d_enc_data.groupby('item_id')['correct'].transform('max')\n",
    "\n",
    "# Rescale 'correct' values per 'item_id'\n",
    "d_enc_data['correct'] = (d_enc_data['correct'] - min_val) / (max_val - min_val) + 1\n",
    "\n",
    "# Assign the rescaled data to 'rescaled_data'\n",
    "resc_data = d_enc_data\n",
    "print(f'min value : {resc_data.groupby(\"item_id\")[\"correct\"].min()}, max value : {resc_data.groupby(\"item_id\")[\"correct\"].max()}')"
   ]
  },
  {
   "cell_type": "markdown",
   "id": "d887c5e72037c54",
   "metadata": {},
   "source": [
    "### Get final stats and create metadata"
   ]
  },
  {
   "cell_type": "code",
   "execution_count": 24,
   "id": "d3ce35f2a3d57db3",
   "metadata": {
    "ExecuteTime": {
     "end_time": "2025-04-16T12:02:14.188825Z",
     "start_time": "2025-04-16T12:02:14.155116Z"
    }
   },
   "outputs": [
    {
     "name": "stdout",
     "output_type": "stream",
     "text": [
      "Total length: 48583\n",
      "Number of unique [user_id,item_id]: 34563\n",
      "Number of unique user_id: 746\n",
      "Number of unique item_id: 180\n",
      "Number of unique dimension_id: 17\n",
      "Number of unique correct: 22\n",
      "#questions/category: 7 & 14 &  22\n",
      "#users/category: 38 & 206 &  460\n",
      "#categorys/question: 1 & 1 &  3\n",
      "#users/question: 38 & 192 &  460\n",
      "#questions/users: 20 & 46 &  92\n",
      "#categorys/users: 1 & 5 &  10\n"
     ]
    }
   ],
   "source": [
    "stat_unique(resc_data, None)\n",
    "stat_unique(resc_data, ['user_id', 'item_id'])\n",
    "stat_unique(resc_data, 'user_id')\n",
    "stat_unique(resc_data, 'item_id')\n",
    "stat_unique(resc_data, 'dimension_id')\n",
    "stat_unique(resc_data, 'correct')\n",
    "\n",
    "resc_data_dim_grouped_items = resc_data.groupby(\"dimension_id\")[\"item_id\"].nunique()\n",
    "resc_data_dim_grouped_users = resc_data.groupby(\"dimension_id\")[\"user_id\"].nunique()\n",
    "print('#questions/category: {} & {} &  {}'.format(np.min(resc_data_dim_grouped_items),int(np.round(np.mean(resc_data_dim_grouped_items))),np.max(resc_data_dim_grouped_items)))\n",
    "print('#users/category: {} & {} &  {}'.format(np.min(resc_data_dim_grouped_users),int(np.round(np.mean(resc_data_dim_grouped_users))),np.max(resc_data_dim_grouped_users)))\n",
    "\n",
    "resc_data_dim_grouped_items = resc_data.groupby(\"item_id\")[\"dimension_id\"].nunique()\n",
    "resc_data_dim_grouped_users = resc_data.groupby(\"item_id\")[\"user_id\"].nunique()\n",
    "print('#categorys/question: {} & {} &  {}'.format(np.min(resc_data_dim_grouped_items),int(np.round(np.mean(resc_data_dim_grouped_items))),np.max(resc_data_dim_grouped_items)))\n",
    "print('#users/question: {} & {} &  {}'.format(np.min(resc_data_dim_grouped_users),int(np.round(np.mean(resc_data_dim_grouped_users))),np.max(resc_data_dim_grouped_users)))\n",
    "\n",
    "resc_data_dim_grouped_items = resc_data.groupby(\"user_id\")[\"item_id\"].nunique()\n",
    "resc_data_dim_grouped_users = resc_data.groupby(\"user_id\")[\"dimension_id\"].nunique()\n",
    "print('#questions/users: {} & {} &  {}'.format(np.min(resc_data_dim_grouped_items),int(np.round(np.mean(resc_data_dim_grouped_items))),np.max(resc_data_dim_grouped_items)))\n",
    "print('#categorys/users: {} & {} &  {}'.format(np.min(resc_data_dim_grouped_users),int(np.round(np.mean(resc_data_dim_grouped_users))),np.max(resc_data_dim_grouped_users)))"
   ]
  },
  {
   "cell_type": "code",
   "execution_count": 26,
   "id": "96b9fda0f0c947ba",
   "metadata": {
    "ExecuteTime": {
     "end_time": "2025-04-16T12:03:00.931109Z",
     "start_time": "2025-04-16T12:02:59.090005Z"
    }
   },
   "outputs": [
    {
     "data": {
      "image/png": "[encoded data removed]",
      "text/plain": [
       "<Figure size 640x480 with 1 Axes>"
      ]
     },
     "metadata": {},
     "output_type": "display_data"
    }
   ],
   "source": [
    "import matplotlib.pyplot as plt\n",
    "\n",
    "# draw a histogram of the age column\n",
    "(resc_data['correct']-1).hist(bins=20)\n",
    "\n",
    "# add labels and title\n",
    "plt.xlabel('Responses')\n",
    "plt.ylabel('Number')\n",
    "plt.title('Distribution of Responses')\n",
    "plt.savefig('../4-figs/distribution_postcovid.png')\n"
   ]
  },
  {
   "cell_type": "code",
   "execution_count": 27,
   "id": "1420cf5a2ffcaf83",
   "metadata": {
    "ExecuteTime": {
     "end_time": "2025-04-16T12:03:07.606138Z",
     "start_time": "2025-04-16T12:03:07.578819Z"
    }
   },
   "outputs": [],
   "source": [
    "resc_data_dim_grouped_items = resc_data.groupby(\"item_id\")[\"dimension_id\"].nunique()\n",
    "resc_data_dim_grouped_users = resc_data.groupby(\"item_id\")[\"user_id\"].nunique()\n",
    "metadata = get_metadata(resc_data,[\"user_id\", \"item_id\", \"dimension_id\"])\n",
    "metadata['min_nb_users_logs'] = min_nb_users_logs\n",
    "metadata['max_nb_categories_per_question'] = int(np.max(resc_data_dim_grouped_items))"
   ]
  },
  {
   "cell_type": "markdown",
   "id": "7b3d5b11-88fd-4330-b7f7-69e6db25c48b",
   "metadata": {},
   "source": [
    "### Compute nb of modalities per item"
   ]
  },
  {
   "cell_type": "code",
   "execution_count": 28,
   "id": "a35a5487-a7e8-4e19-90c6-51f23dd8ea88",
   "metadata": {
    "ExecuteTime": {
     "end_time": "2025-04-16T12:03:11.977004Z",
     "start_time": "2025-04-16T12:03:11.939554Z"
    }
   },
   "outputs": [],
   "source": [
    "nb_modalities = get_modalities_nb(resc_data, metadata)"
   ]
  },
  {
   "cell_type": "markdown",
   "id": "af2a1ef2455361fa",
   "metadata": {},
   "source": [
    "### Save data, concept map, metadata and nb_modalities"
   ]
  },
  {
   "cell_type": "code",
   "execution_count": 29,
   "id": "2711f76ebb0f8c75",
   "metadata": {
    "ExecuteTime": {
     "end_time": "2025-04-16T12:03:15.946836Z",
     "start_time": "2025-04-16T12:03:15.930269Z"
    }
   },
   "outputs": [],
   "source": [
    "new_order = ['user_id','item_id', 'correct', 'dimension_id']\n",
    "resc_data = resc_data[new_order]"
   ]
  },
  {
   "cell_type": "code",
   "execution_count": 30,
   "id": "9314705046e62dcb",
   "metadata": {
    "ExecuteTime": {
     "end_time": "2025-04-16T12:03:19.510424Z",
     "start_time": "2025-04-16T12:03:19.425047Z"
    }
   },
   "outputs": [],
   "source": [
    "# save selected data\n",
    "resc_data.to_csv('../1-raw_data/postcovid_selected_data.csv', index=False)"
   ]
  },
  {
   "cell_type": "code",
   "execution_count": 32,
   "id": "d57fbdcefd9ed82",
   "metadata": {
    "ExecuteTime": {
     "end_time": "2025-04-16T12:03:49.159223Z",
     "start_time": "2025-04-16T12:03:49.142019Z"
    }
   },
   "outputs": [],
   "source": [
    "# Convert int64 keys to str\n",
    "q2k_str_keys = {str(key): value for key, value in q2k.items()}\n",
    "\n",
    "# Convert sets to lists in the dictionary\n",
    "q2k_json_serializable = {}\n",
    "for key, value in q2k_str_keys.items():\n",
    "    if isinstance(value, set):\n",
    "        q2k_json_serializable[key] = list(value)\n",
    "    else:\n",
    "        q2k_json_serializable[key] = value\n",
    "\n",
    "# Save concept map\n",
    "with open('../2-preprocessed_data/postcovid_concept_map.json', 'w') as f:\n",
    "    json.dump(q2k_json_serializable, f)"
   ]
  },
  {
   "cell_type": "code",
   "execution_count": 33,
   "id": "6fdbebe69540c57c",
   "metadata": {
    "ExecuteTime": {
     "end_time": "2025-04-16T12:03:51.158886Z",
     "start_time": "2025-04-16T12:03:51.143191Z"
    }
   },
   "outputs": [],
   "source": [
    "# save metadata\n",
    "with open('../2-preprocessed_data/postcovid_metadata.json', 'w') as f:\n",
    "    json.dump(metadata, f)"
   ]
  },
  {
   "cell_type": "code",
   "execution_count": 34,
   "id": "46932b68-b0a7-4fe1-a090-af21cfd03cc3",
   "metadata": {
    "ExecuteTime": {
     "end_time": "2025-04-16T12:03:53.163117Z",
     "start_time": "2025-04-16T12:03:53.147192Z"
    }
   },
   "outputs": [],
   "source": [
    "# save metadata\n",
    "torch.save(nb_modalities,'../2-preprocessed_data/postcovid_nb_modalities.pkl')"
   ]
  },
  {
   "cell_type": "markdown",
   "id": "db9f1ae6fa56cfa1",
   "metadata": {},
   "source": [
    "## parse data"
   ]
  },
  {
   "cell_type": "code",
   "execution_count": 35,
   "id": "850280e1dfdda1b9",
   "metadata": {
    "ExecuteTime": {
     "end_time": "2025-04-16T12:03:55.181590Z",
     "start_time": "2025-04-16T12:03:55.165222Z"
    }
   },
   "outputs": [
    {
     "name": "stdout",
     "output_type": "stream",
     "text": [
      "The autoreload extension is already loaded. To reload it, use:\n",
      "  %reload_ext autoreload\n"
     ]
    }
   ],
   "source": [
    "%load_ext autoreload\n",
    "%autoreload 2"
   ]
  },
  {
   "cell_type": "code",
   "execution_count": 36,
   "id": "3b97a578bdb0ec0b",
   "metadata": {
    "ExecuteTime": {
     "end_time": "2025-04-16T12:03:57.653557Z",
     "start_time": "2025-04-16T12:03:57.633722Z"
    }
   },
   "outputs": [
    {
     "name": "stdout",
     "output_type": "stream",
     "text": [
      "CUDA is not available. Skipping CUDA seed setting.\n"
     ]
    }
   ],
   "source": [
    "from liriscat import utils\n",
    "utils.setuplogger(verbose = True,log_path = \"../../logs/\", log_name=\"liriscat\", os='Windows')\n",
    "utils.set_seed(0)"
   ]
  },
  {
   "cell_type": "code",
   "execution_count": 37,
   "id": "2e4e3ad90376b31",
   "metadata": {
    "ExecuteTime": {
     "end_time": "2025-04-16T12:04:04.672040Z",
     "start_time": "2025-04-16T12:04:04.645424Z"
    }
   },
   "outputs": [],
   "source": [
    "import pandas as pd\n",
    "from liriscat.dataset.preprocessing_utilities import *\n",
    "resc_data = pd.read_csv('../1-raw_data/postcovid_selected_data.csv')"
   ]
  },
  {
   "cell_type": "code",
   "execution_count": 38,
   "id": "53610eb7a85babfb",
   "metadata": {
    "ExecuteTime": {
     "end_time": "2025-04-16T12:04:06.361843Z",
     "start_time": "2025-04-16T12:04:06.332176Z"
    }
   },
   "outputs": [],
   "source": [
    "train, valid, test = split_users(resc_data, 5)"
   ]
  },
  {
   "cell_type": "markdown",
   "id": "f915b75def104ab9",
   "metadata": {},
   "source": [
    "## save data"
   ]
  },
  {
   "cell_type": "code",
   "execution_count": 39,
   "id": "3cd91d1f1e2665cf",
   "metadata": {
    "ExecuteTime": {
     "end_time": "2025-04-16T12:04:08.968023Z",
     "start_time": "2025-04-16T12:04:08.654449Z"
    }
   },
   "outputs": [],
   "source": [
    "for i_fold, train_fold in enumerate(train):\n",
    "    save_df_to_csv(train[i_fold], f'../2-preprocessed_data/postcovid_train_{i_fold}.csv')\n",
    "    save_df_to_csv(valid[i_fold], f'../2-preprocessed_data/postcovid_valid_{i_fold}.csv')\n",
    "    save_df_to_csv(test[i_fold], f'../2-preprocessed_data/postcovid_test_{i_fold}.csv')"
   ]
  },
  {
   "cell_type": "markdown",
   "id": "cf73aca8db70d3b1",
   "metadata": {},
   "source": [
    "## Train IMPACT model"
   ]
  },
  {
   "cell_type": "code",
   "execution_count": 40,
   "id": "a33306919a97d5b",
   "metadata": {
    "ExecuteTime": {
     "end_time": "2025-04-16T12:04:14.651936Z",
     "start_time": "2025-04-16T12:04:14.632642Z"
    }
   },
   "outputs": [
    {
     "name": "stdout",
     "output_type": "stream",
     "text": [
      "CUDA is not available. Using CPU.\n"
     ]
    }
   ],
   "source": [
    "from liriscat.utils import generate_eval_config\n",
    "import json\n",
    "from IMPACT.dataset import LoaderDataset as IMPACT_dataset\n",
    "from liriscat.CDM import *\n",
    "from IMPACT import model\n",
    "from liriscat.dataset.preprocessing_utilities import *\n",
    "\n",
    "\n",
    "folds_nb = 1\n",
    "dataset_name=\"postcovid\"\n",
    "\n",
    "# Set all the required parameters ---------------\n",
    "IMPACT_config = generate_eval_config(num_epochs=200, save_params=True, dataset_name=dataset_name, embs_path=\"../../embs/\"+dataset_name, params_path=\"../../ckpt/\"+dataset_name,  learning_rate=0.01885, lambda_=2e-7, batch_size=2048,valid_metric='mi_acc', pred_metrics=[\"mi_acc\"])\n",
    "\n",
    "concept_map = json.load(open(f'../2-preprocessed_data/{IMPACT_config[\"dataset_name\"]}_concept_map.json', 'r'))\n",
    "concept_map = {int(k): [int(x) for x in v] for k, v in concept_map.items()} #parameter\n",
    "metadata = json.load(open(f'../2-preprocessed_data/{IMPACT_config[\"dataset_name\"]}_metadata.json', 'r'))\n",
    "nb_modalities = torch.load(f'../2-preprocessed_data/{IMPACT_config[\"dataset_name\"]}_nb_modalities.pkl',weights_only=True)\n",
    "\n",
    "# Conversion helper that builds a DataFrame with specific dtypes and returns records.\n",
    "def convert_to_records(data):\n",
    "    df = pd.DataFrame(data, columns={'user_id': int, 'item_id': int, 'category_id': int,'correct': float, })\n",
    "    return df.to_records(index=False, column_dtypes={'user_id': int, 'item_id': int, 'correct': float, 'category_id': int})"
   ]
  },
  {
   "cell_type": "code",
   "execution_count": 41,
   "id": "57f46a6fa28b0de3",
   "metadata": {
    "ExecuteTime": {
     "end_time": "2025-04-16T12:05:19.879752Z",
     "start_time": "2025-04-16T12:04:18.365Z"
    }
   },
   "outputs": [
    {
     "name": "stdout",
     "output_type": "stream",
     "text": [
      "CUDA is not available. Skipping CUDA seed setting.\n",
      "[INFO 04-22] train on cpu\n",
      "[INFO 04-22] -- START Training --\n"
     ]
    },
    {
     "name": "stderr",
     "output_type": "stream",
     "text": [
      " 60%|██████    | 121/200 [00:56<00:37,  2.13it/s]"
     ]
    },
    {
     "name": "stdout",
     "output_type": "stream",
     "text": [
      "[INFO 05-19] -- END Training --\n",
      "[INFO 05-19] Params saved\n",
      "{'mi_acc': 0.8395308256149292, 'preds': tensor([1., 1., 1.,  ..., 1., 1., 1.], dtype=torch.float64), 'labels': tensor([1., 1., 1.,  ..., 2., 1., 1.], dtype=torch.float64)}\n"
     ]
    },
    {
     "name": "stderr",
     "output_type": "stream",
     "text": [
      "\n"
     ]
    }
   ],
   "source": [
    "for i in range(folds_nb):\n",
    "    # Merge the training and validation data for the current fold.\n",
    "    train_valid_df = pd.concat([train[i], valid[i]])\n",
    "    # Split the merged data horizontally into train and validation sets.\n",
    "\n",
    "    quadruplet = quadruplet_format(train_valid_df)\n",
    "    train_data, valid_data, test_data = split_data_vertically(quadruplet, test_prop=0.2,valid_prop=0.1,folds_nb=5)\n",
    "\n",
    "    # Convert each split in one step using the helper.\n",
    "    horizontal_train = convert_to_records(train_data[0])\n",
    "    horizontal_valid = convert_to_records(valid_data[0])\n",
    "    horizontal_test = convert_to_records(test_data[0])\n",
    "\n",
    "    impact_train_data = IMPACT_dataset(horizontal_train, concept_map, metadata, nb_modalities)\n",
    "    impact_valid_data = IMPACT_dataset(horizontal_valid, concept_map, metadata, nb_modalities) # <---\n",
    "    impact_test_data = IMPACT_dataset(horizontal_test, concept_map, metadata, nb_modalities)\n",
    "\n",
    "    IMPACT_config['i_fold'] = i\n",
    "    algo = model.IMPACT(**IMPACT_config)\n",
    "    algo.init_model(impact_train_data, impact_valid_data)\n",
    "    algo.train(impact_train_data, impact_valid_data)\n",
    "    print(algo.evaluate_predictions(impact_test_data))"
   ]
  },
  {
   "metadata": {
    "ExecuteTime": {
     "end_time": "2025-04-16T12:33:22.977957Z",
     "start_time": "2025-04-16T12:33:22.959547Z"
    }
   },
   "cell_type": "code",
   "source": "nb_modalities",
   "id": "7479f185a8797e54",
   "outputs": [
    {
     "data": {
      "text/plain": [
       "tensor([ 4,  4,  4,  4,  4,  4,  5,  4, 11,  5,  4,  5,  5,  4, 11,  5,  4,  5,\n",
       "         5,  4, 11,  5,  4,  5,  5,  4,  8,  4,  5,  4,  4,  5,  5,  4,  4,  5,\n",
       "         4,  4,  5,  4,  5,  4,  5,  4,  4,  4,  4,  4,  4,  5,  3,  5,  5,  4,\n",
       "         4,  4,  5,  4,  5,  5,  4,  5,  4,  5,  5,  4,  5,  4,  5,  5,  4,  5,\n",
       "         4,  5,  5,  4,  5,  3,  5,  5,  4,  5,  4,  5,  5,  4,  5,  4,  5,  5,\n",
       "         4,  4,  5,  5,  4,  4,  4,  4,  4,  4,  4,  4,  4,  4,  4,  7,  4,  4,\n",
       "         7,  4,  7,  4,  7,  4,  7,  4,  7,  4,  7,  4,  7,  4,  7,  4,  5,  5,\n",
       "         5,  5,  5,  5,  5,  5,  5,  5,  5,  5,  5,  5,  5,  5,  5,  5,  5,  5,\n",
       "         4,  4,  4,  4,  4,  4,  4,  4,  4,  4,  4,  4,  4,  4,  5,  5,  5,  5,\n",
       "         5,  5,  5,  5,  5,  5,  5,  5,  5,  5,  5,  5,  5,  5,  5,  5,  4,  5])"
      ]
     },
     "execution_count": 44,
     "metadata": {},
     "output_type": "execute_result"
    }
   ],
   "execution_count": 44
  },
  {
   "cell_type": "code",
   "id": "688393a7-50ba-402c-bedd-a966bca887e7",
   "metadata": {
    "ExecuteTime": {
     "end_time": "2025-04-16T12:34:48.300043Z",
     "start_time": "2025-04-16T12:34:46.500148Z"
    }
   },
   "source": [
    "import os\n",
    "os.environ[\"PYTORCH_CUDA_ALLOC_CONF\"] = \"expandable_segments:True\"\n",
    "\n",
    "from liriscat import utils\n",
    "utils.set_seed(0)\n",
    "from liriscat import dataset\n",
    "from liriscat import selectionStrategy\n",
    "from liriscat import CDM\n",
    "\n",
    "import logging\n",
    "import gc\n",
    "import json\n",
    "import torch\n",
    "import pandas as pd\n",
    "from importlib import reload\n",
    "import IMPACT\n",
    "\n",
    "import warnings\n",
    "import numpy as np\n",
    "\n",
    "gc.collect()\n",
    "torch.cuda.empty_cache()\n",
    "\n",
    "reload(utils)\n",
    "reload(selectionStrategy)\n",
    "reload(CDM)\n",
    "reload(dataset)\n",
    "\n",
    "config = utils.generate_eval_config(i_fold = 0,\n",
    "                                    num_epochs=1,\n",
    "                                    load_params=True,\n",
    "                                    inner_user_lr=0.0001,\n",
    "                                    esc = 'error',\n",
    "                                    valid_metric= 'mi_acc',\n",
    "                                    pred_metrics = [\"mi_acc\"],\n",
    "                                    profile_metrics = ['doa'],\n",
    "                                    save_params=False,\n",
    "                                    n_query=5,\n",
    "                                    batch_size=512)\n",
    "utils.set_seed(config[\"seed\"])\n",
    "\n",
    "config[\"dataset_name\"] = \"postcovid\"\n",
    "logging.info(config[\"dataset_name\"])\n",
    "config['learning_rate'] = 0.02026\n",
    "config['lambda'] = 1.2e-5\n",
    "config['d_in'] = 4\n",
    "config['num_responses'] = 12\n",
    "#pred_metrics,df_interp = test(config)\n",
    "\n",
    "logging.info(f'#### {config[\"dataset_name\"]} ####')\n",
    "logging.info(f'#### config : {config} ####')\n",
    "config['embs_path']='../../embs/'+str(config[\"dataset_name\"])\n",
    "config['params_path']='../../ckpt/'+str(config[\"dataset_name\"])\n",
    "\n",
    "pred_metrics = {m:[] for m in config['pred_metrics']}\n",
    "profile_metrics = {m:[] for m in config['profile_metrics']}\n",
    "\n",
    "gc.collect()\n",
    "torch.cuda.empty_cache()\n",
    "\n",
    "# Dataset downloading for doa and rm\n",
    "warnings.filterwarnings(\"ignore\", message=\"invalid value encountered in divide\")\n",
    "warnings.filterwarnings(\"ignore\", category=RuntimeWarning)\n",
    "\n",
    "## Concept map format : {question_id : [category_id1, category_id2, ...]}outside model initialization\n",
    "concept_map = json.load(open(f'../2-preprocessed_data/{config[\"dataset_name\"]}_concept_map.json', 'r'))\n",
    "concept_map = {int(k): [int(x) for x in v] for k, v in concept_map.items()}\n",
    "\n",
    "## Metadata map format : {\"num_user_id\": ..., \"num_item_id\": ..., \"num_dimension_id\": ...}\n",
    "metadata = json.load(open(f'../2-preprocessed_data/{config[\"dataset_name\"]}_metadata.json', 'r'))\n",
    "\n",
    "i_fold = 0\n",
    "## Dataframe columns : (user_id, question_id, response, category_id)\n",
    "train_df = pd.read_csv(\n",
    "    f'../2-preprocessed_data/{config[\"dataset_name\"]}_train_{i_fold}.csv',\n",
    "    encoding='utf-8', dtype={'student_id': int, 'item_id': int, \"correct\": float,\n",
    "                                                             \"dimension_id\": int})\n",
    "valid_df = pd.read_csv(\n",
    "    f'../2-preprocessed_data/{config[\"dataset_name\"]}_valid_{i_fold}.csv',\n",
    "    encoding='utf-8', dtype={'student_id': int, 'item_id': int, \"correct\": float,\n",
    "                                                             \"dimension_id\": int})\n",
    "test_df = pd.read_csv(\n",
    "    f'../2-preprocessed_data/{config[\"dataset_name\"]}_test_{i_fold}.csv',\n",
    "    encoding='utf-8', dtype={'student_id': int, 'item_id': int, \"correct\": float,\n",
    "                                                             \"dimension_id\": int})\n",
    "train_data = dataset.CATDataset(train_df, concept_map, metadata, config, nb_modalities)\n",
    "valid_data = dataset.EvalDataset(valid_df, concept_map, metadata, config, nb_modalities)\n",
    "test_data = dataset.EvalDataset(test_df, concept_map, metadata, config, nb_modalities)\n",
    "\n",
    "S = selectionStrategy.Random(metadata,**config)"
   ],
   "outputs": [
    {
     "name": "stdout",
     "output_type": "stream",
     "text": [
      "CUDA is not available. Skipping CUDA seed setting.\n",
      "CUDA is not available. Using CPU.\n",
      "CUDA is not available. Skipping CUDA seed setting.\n",
      "[INFO 34-46] postcovid\n",
      "[INFO 34-46] #### postcovid ####\n",
      "[INFO 34-46] #### config : {'seed': 0, 'dataset_name': 'postcovid', 'load_params': True, 'save_params': False, 'embs_path': '../embs/', 'params_path': '../ckpt/', 'early_stopping': True, 'esc': 'error', 'verbose_early_stopping': False, 'disable_tqdm': False, 'valid_metric': 'mi_acc', 'learning_rate': 0.02026, 'batch_size': 512, 'valid_batch_size': 10000, 'num_epochs': 1, 'eval_freq': 1, 'patience': 30, 'device': device(type='cpu'), 'lambda': 1.2e-05, 'tensorboard': False, 'flush_freq': True, 'pred_metrics': ['mi_acc'], 'profile_metrics': ['doa'], 'num_responses': 12, 'low_mem': False, 'n_query': 5, 'CDM': 'impact', 'i_fold': 0, 'num_inner_users_epochs': 10, 'num_inner_epochs': 10, 'inner_lr': 0.0001, 'inner_user_lr': 0.0001, 'd_in': 4} ####\n",
      "CUDA is not available. Skipping CUDA seed setting.\n",
      "CUDA is not available. Skipping CUDA seed setting.\n",
      "[INFO 34-48] Random_cont_model\n"
     ]
    }
   ],
   "execution_count": 45
  },
  {
   "cell_type": "code",
   "id": "b490a908-2265-44f3-854a-59166b199f23",
   "metadata": {
    "ExecuteTime": {
     "end_time": "2025-04-16T12:35:02.612300Z",
     "start_time": "2025-04-16T12:35:01.842383Z"
    }
   },
   "source": "S.init_models(train_data, valid_data)",
   "outputs": [
    {
     "name": "stdout",
     "output_type": "stream",
     "text": [
      "compiling CDM model\n",
      "compiling selection model\n"
     ]
    }
   ],
   "execution_count": 46
  },
  {
   "cell_type": "code",
   "id": "a5f95c28-dd26-4460-ba12-27a9cbf79f17",
   "metadata": {
    "ExecuteTime": {
     "end_time": "2025-04-16T12:35:16.507638Z",
     "start_time": "2025-04-16T12:35:11.440227Z"
    }
   },
   "source": [
    "S.evaluate_test(test_data)"
   ],
   "outputs": [
    {
     "name": "stderr",
     "output_type": "stream",
     "text": [
      "/home/mbensafi/miniconda3/envs/IMPACT/lib/python3.12/site-packages/torch/amp/autocast_mode.py:266: UserWarning: User provided device_type of 'cuda', but CUDA is not available. Disabling\n",
      "  warnings.warn(\n",
      "  0%|          | 0/5 [00:01<?, ?it/s]\n"
     ]
    },
    {
     "ename": "BackendCompilerFailed",
     "evalue": "backend='inductor' raised:\nInvalidCxxCompiler: No working C++ compiler found in torch._inductor.config.cpp.cxx: (None, 'g++')\n\nSet TORCH_LOGS=\"+dynamo\" and TORCHDYNAMO_VERBOSE=1 for more information\n\n\nYou can suppress this exception and fall back to eager by setting:\n    import torch._dynamo\n    torch._dynamo.config.suppress_errors = True\n",
     "output_type": "error",
     "traceback": [
      "\u001B[0;31m---------------------------------------------------------------------------\u001B[0m",
      "\u001B[0;31mBackendCompilerFailed\u001B[0m                     Traceback (most recent call last)",
      "Cell \u001B[0;32mIn[47], line 1\u001B[0m\n\u001B[0;32m----> 1\u001B[0m S\u001B[38;5;241m.\u001B[39mevaluate_test(test_data)\n",
      "File \u001B[0;32m~/PycharmProjects/liriscat/liriscat/selectionStrategy/abstract_selection_strategy.py:142\u001B[0m, in \u001B[0;36mAbstractSelectionStrategy.evaluation_state.<locals>.wrapper\u001B[0;34m(*args, **kwargs)\u001B[0m\n\u001B[1;32m    140\u001B[0m     \u001B[38;5;28mself\u001B[39m\u001B[38;5;241m.\u001B[39mmodel\u001B[38;5;241m.\u001B[39meval() \u001B[38;5;66;03m# todo : putting in eval mode again\u001B[39;00m\n\u001B[1;32m    141\u001B[0m     \u001B[38;5;28;01mwith\u001B[39;00m torch\u001B[38;5;241m.\u001B[39mno_grad(), torch\u001B[38;5;241m.\u001B[39mamp\u001B[38;5;241m.\u001B[39mautocast(\u001B[38;5;124m'\u001B[39m\u001B[38;5;124mcuda\u001B[39m\u001B[38;5;124m'\u001B[39m):\n\u001B[0;32m--> 142\u001B[0m         result \u001B[38;5;241m=\u001B[39m func(\u001B[38;5;241m*\u001B[39margs, \u001B[38;5;241m*\u001B[39m\u001B[38;5;241m*\u001B[39mkwargs)\n\u001B[1;32m    143\u001B[0m \u001B[38;5;28;01mfinally\u001B[39;00m:\n\u001B[1;32m    144\u001B[0m     \u001B[38;5;66;03m# Restore the previous state after method execution\u001B[39;00m\n\u001B[1;32m    145\u001B[0m     \u001B[38;5;28mself\u001B[39m\u001B[38;5;241m.\u001B[39mCDM\u001B[38;5;241m.\u001B[39mmodel\u001B[38;5;241m.\u001B[39mtrain()\n",
      "File \u001B[0;32m~/PycharmProjects/liriscat/liriscat/selectionStrategy/abstract_selection_strategy.py:233\u001B[0m, in \u001B[0;36mAbstractSelectionStrategy.evaluate_test\u001B[0;34m(self, test_dataset)\u001B[0m\n\u001B[1;32m    231\u001B[0m \u001B[38;5;28;01mwith\u001B[39;00m torch\u001B[38;5;241m.\u001B[39menable_grad():\n\u001B[1;32m    232\u001B[0m     \u001B[38;5;28mself\u001B[39m\u001B[38;5;241m.\u001B[39mCDM\u001B[38;5;241m.\u001B[39mmodel\u001B[38;5;241m.\u001B[39mtrain()\n\u001B[0;32m--> 233\u001B[0m     \u001B[38;5;28mself\u001B[39m\u001B[38;5;241m.\u001B[39mCDM\u001B[38;5;241m.\u001B[39mupdate_users(test_query_env\u001B[38;5;241m.\u001B[39mfeed_IMPACT_sub(),(m_user_ids, m_question_ids, m_category_ids),m_labels)\n\u001B[1;32m    234\u001B[0m     \u001B[38;5;28mself\u001B[39m\u001B[38;5;241m.\u001B[39mCDM\u001B[38;5;241m.\u001B[39mmodel\u001B[38;5;241m.\u001B[39meval()\n\u001B[1;32m    237\u001B[0m preds \u001B[38;5;241m=\u001B[39m \u001B[38;5;28mself\u001B[39m\u001B[38;5;241m.\u001B[39mCDM\u001B[38;5;241m.\u001B[39mmodel(m_user_ids, m_question_ids, m_category_ids)\n",
      "File \u001B[0;32m~/PycharmProjects/liriscat/liriscat/CDM/IMPACT.py:98\u001B[0m, in \u001B[0;36mCATIMPACT.update_users\u001B[0;34m(self, query_data, meta_data, meta_labels)\u001B[0m\n\u001B[1;32m     95\u001B[0m labels \u001B[38;5;241m=\u001B[39m batch[\u001B[38;5;124m\"\u001B[39m\u001B[38;5;124mlabels\u001B[39m\u001B[38;5;124m\"\u001B[39m]\n\u001B[1;32m     96\u001B[0m category_ids \u001B[38;5;241m=\u001B[39m batch[\u001B[38;5;124m\"\u001B[39m\u001B[38;5;124mcategory_ids\u001B[39m\u001B[38;5;124m\"\u001B[39m]\n\u001B[0;32m---> 98\u001B[0m preds \u001B[38;5;241m=\u001B[39m \u001B[38;5;28mself\u001B[39m\u001B[38;5;241m.\u001B[39mmodel(m_user_ids, m_question_ids, m_category_ids)\n\u001B[1;32m    100\u001B[0m \u001B[38;5;28mprint\u001B[39m(\u001B[38;5;124m\"\u001B[39m\u001B[38;5;124mmeta mi_acc = \u001B[39m\u001B[38;5;124m\"\u001B[39m, utils\u001B[38;5;241m.\u001B[39mmicro_ave_accuracy(meta_labels, preds))\n\u001B[1;32m    102\u001B[0m user_params_optimizer\u001B[38;5;241m.\u001B[39mzero_grad()\n",
      "File \u001B[0;32m~/miniconda3/envs/IMPACT/lib/python3.12/site-packages/torch/nn/modules/module.py:1739\u001B[0m, in \u001B[0;36mModule._wrapped_call_impl\u001B[0;34m(self, *args, **kwargs)\u001B[0m\n\u001B[1;32m   1737\u001B[0m     \u001B[38;5;28;01mreturn\u001B[39;00m \u001B[38;5;28mself\u001B[39m\u001B[38;5;241m.\u001B[39m_compiled_call_impl(\u001B[38;5;241m*\u001B[39margs, \u001B[38;5;241m*\u001B[39m\u001B[38;5;241m*\u001B[39mkwargs)  \u001B[38;5;66;03m# type: ignore[misc]\u001B[39;00m\n\u001B[1;32m   1738\u001B[0m \u001B[38;5;28;01melse\u001B[39;00m:\n\u001B[0;32m-> 1739\u001B[0m     \u001B[38;5;28;01mreturn\u001B[39;00m \u001B[38;5;28mself\u001B[39m\u001B[38;5;241m.\u001B[39m_call_impl(\u001B[38;5;241m*\u001B[39margs, \u001B[38;5;241m*\u001B[39m\u001B[38;5;241m*\u001B[39mkwargs)\n",
      "File \u001B[0;32m~/miniconda3/envs/IMPACT/lib/python3.12/site-packages/torch/nn/modules/module.py:1750\u001B[0m, in \u001B[0;36mModule._call_impl\u001B[0;34m(self, *args, **kwargs)\u001B[0m\n\u001B[1;32m   1745\u001B[0m \u001B[38;5;66;03m# If we don't have any hooks, we want to skip the rest of the logic in\u001B[39;00m\n\u001B[1;32m   1746\u001B[0m \u001B[38;5;66;03m# this function, and just call forward.\u001B[39;00m\n\u001B[1;32m   1747\u001B[0m \u001B[38;5;28;01mif\u001B[39;00m \u001B[38;5;129;01mnot\u001B[39;00m (\u001B[38;5;28mself\u001B[39m\u001B[38;5;241m.\u001B[39m_backward_hooks \u001B[38;5;129;01mor\u001B[39;00m \u001B[38;5;28mself\u001B[39m\u001B[38;5;241m.\u001B[39m_backward_pre_hooks \u001B[38;5;129;01mor\u001B[39;00m \u001B[38;5;28mself\u001B[39m\u001B[38;5;241m.\u001B[39m_forward_hooks \u001B[38;5;129;01mor\u001B[39;00m \u001B[38;5;28mself\u001B[39m\u001B[38;5;241m.\u001B[39m_forward_pre_hooks\n\u001B[1;32m   1748\u001B[0m         \u001B[38;5;129;01mor\u001B[39;00m _global_backward_pre_hooks \u001B[38;5;129;01mor\u001B[39;00m _global_backward_hooks\n\u001B[1;32m   1749\u001B[0m         \u001B[38;5;129;01mor\u001B[39;00m _global_forward_hooks \u001B[38;5;129;01mor\u001B[39;00m _global_forward_pre_hooks):\n\u001B[0;32m-> 1750\u001B[0m     \u001B[38;5;28;01mreturn\u001B[39;00m forward_call(\u001B[38;5;241m*\u001B[39margs, \u001B[38;5;241m*\u001B[39m\u001B[38;5;241m*\u001B[39mkwargs)\n\u001B[1;32m   1752\u001B[0m result \u001B[38;5;241m=\u001B[39m \u001B[38;5;28;01mNone\u001B[39;00m\n\u001B[1;32m   1753\u001B[0m called_always_called_hooks \u001B[38;5;241m=\u001B[39m \u001B[38;5;28mset\u001B[39m()\n",
      "File \u001B[0;32m~/miniconda3/envs/IMPACT/lib/python3.12/site-packages/torch/_dynamo/eval_frame.py:574\u001B[0m, in \u001B[0;36m_TorchDynamoContext.__call__.<locals>._fn\u001B[0;34m(*args, **kwargs)\u001B[0m\n\u001B[1;32m    569\u001B[0m saved_dynamic_layer_stack_depth \u001B[38;5;241m=\u001B[39m (\n\u001B[1;32m    570\u001B[0m     torch\u001B[38;5;241m.\u001B[39m_C\u001B[38;5;241m.\u001B[39m_functorch\u001B[38;5;241m.\u001B[39mget_dynamic_layer_stack_depth()\n\u001B[1;32m    571\u001B[0m )\n\u001B[1;32m    573\u001B[0m \u001B[38;5;28;01mtry\u001B[39;00m:\n\u001B[0;32m--> 574\u001B[0m     \u001B[38;5;28;01mreturn\u001B[39;00m fn(\u001B[38;5;241m*\u001B[39margs, \u001B[38;5;241m*\u001B[39m\u001B[38;5;241m*\u001B[39mkwargs)\n\u001B[1;32m    575\u001B[0m \u001B[38;5;28;01mfinally\u001B[39;00m:\n\u001B[1;32m    576\u001B[0m     \u001B[38;5;66;03m# Restore the dynamic layer stack depth if necessary.\u001B[39;00m\n\u001B[1;32m    577\u001B[0m     torch\u001B[38;5;241m.\u001B[39m_C\u001B[38;5;241m.\u001B[39m_functorch\u001B[38;5;241m.\u001B[39mpop_dynamic_layer_stack_and_undo_to_depth(\n\u001B[1;32m    578\u001B[0m         saved_dynamic_layer_stack_depth\n\u001B[1;32m    579\u001B[0m     )\n",
      "File \u001B[0;32m~/miniconda3/envs/IMPACT/lib/python3.12/site-packages/torch/nn/modules/module.py:1739\u001B[0m, in \u001B[0;36mModule._wrapped_call_impl\u001B[0;34m(self, *args, **kwargs)\u001B[0m\n\u001B[1;32m   1737\u001B[0m     \u001B[38;5;28;01mreturn\u001B[39;00m \u001B[38;5;28mself\u001B[39m\u001B[38;5;241m.\u001B[39m_compiled_call_impl(\u001B[38;5;241m*\u001B[39margs, \u001B[38;5;241m*\u001B[39m\u001B[38;5;241m*\u001B[39mkwargs)  \u001B[38;5;66;03m# type: ignore[misc]\u001B[39;00m\n\u001B[1;32m   1738\u001B[0m \u001B[38;5;28;01melse\u001B[39;00m:\n\u001B[0;32m-> 1739\u001B[0m     \u001B[38;5;28;01mreturn\u001B[39;00m \u001B[38;5;28mself\u001B[39m\u001B[38;5;241m.\u001B[39m_call_impl(\u001B[38;5;241m*\u001B[39margs, \u001B[38;5;241m*\u001B[39m\u001B[38;5;241m*\u001B[39mkwargs)\n",
      "File \u001B[0;32m~/miniconda3/envs/IMPACT/lib/python3.12/site-packages/torch/nn/modules/module.py:1750\u001B[0m, in \u001B[0;36mModule._call_impl\u001B[0;34m(self, *args, **kwargs)\u001B[0m\n\u001B[1;32m   1745\u001B[0m \u001B[38;5;66;03m# If we don't have any hooks, we want to skip the rest of the logic in\u001B[39;00m\n\u001B[1;32m   1746\u001B[0m \u001B[38;5;66;03m# this function, and just call forward.\u001B[39;00m\n\u001B[1;32m   1747\u001B[0m \u001B[38;5;28;01mif\u001B[39;00m \u001B[38;5;129;01mnot\u001B[39;00m (\u001B[38;5;28mself\u001B[39m\u001B[38;5;241m.\u001B[39m_backward_hooks \u001B[38;5;129;01mor\u001B[39;00m \u001B[38;5;28mself\u001B[39m\u001B[38;5;241m.\u001B[39m_backward_pre_hooks \u001B[38;5;129;01mor\u001B[39;00m \u001B[38;5;28mself\u001B[39m\u001B[38;5;241m.\u001B[39m_forward_hooks \u001B[38;5;129;01mor\u001B[39;00m \u001B[38;5;28mself\u001B[39m\u001B[38;5;241m.\u001B[39m_forward_pre_hooks\n\u001B[1;32m   1748\u001B[0m         \u001B[38;5;129;01mor\u001B[39;00m _global_backward_pre_hooks \u001B[38;5;129;01mor\u001B[39;00m _global_backward_hooks\n\u001B[1;32m   1749\u001B[0m         \u001B[38;5;129;01mor\u001B[39;00m _global_forward_hooks \u001B[38;5;129;01mor\u001B[39;00m _global_forward_pre_hooks):\n\u001B[0;32m-> 1750\u001B[0m     \u001B[38;5;28;01mreturn\u001B[39;00m forward_call(\u001B[38;5;241m*\u001B[39margs, \u001B[38;5;241m*\u001B[39m\u001B[38;5;241m*\u001B[39mkwargs)\n\u001B[1;32m   1752\u001B[0m result \u001B[38;5;241m=\u001B[39m \u001B[38;5;28;01mNone\u001B[39;00m\n\u001B[1;32m   1753\u001B[0m called_always_called_hooks \u001B[38;5;241m=\u001B[39m \u001B[38;5;28mset\u001B[39m()\n",
      "File \u001B[0;32m~/miniconda3/envs/IMPACT/lib/python3.12/site-packages/torch/_dynamo/convert_frame.py:1380\u001B[0m, in \u001B[0;36mCatchErrorsWrapper.__call__\u001B[0;34m(self, frame, cache_entry, frame_state)\u001B[0m\n\u001B[1;32m   1374\u001B[0m             \u001B[38;5;28;01mreturn\u001B[39;00m hijacked_callback(\n\u001B[1;32m   1375\u001B[0m                 frame, cache_entry, \u001B[38;5;28mself\u001B[39m\u001B[38;5;241m.\u001B[39mhooks, frame_state\n\u001B[1;32m   1376\u001B[0m             )\n\u001B[1;32m   1378\u001B[0m \u001B[38;5;28;01mwith\u001B[39;00m compile_lock, _disable_current_modes():\n\u001B[1;32m   1379\u001B[0m     \u001B[38;5;66;03m# skip=1: skip this frame\u001B[39;00m\n\u001B[0;32m-> 1380\u001B[0m     \u001B[38;5;28;01mreturn\u001B[39;00m \u001B[38;5;28mself\u001B[39m\u001B[38;5;241m.\u001B[39m_torchdynamo_orig_callable(\n\u001B[1;32m   1381\u001B[0m         frame, cache_entry, \u001B[38;5;28mself\u001B[39m\u001B[38;5;241m.\u001B[39mhooks, frame_state, skip\u001B[38;5;241m=\u001B[39m\u001B[38;5;241m1\u001B[39m\n\u001B[1;32m   1382\u001B[0m     )\n",
      "File \u001B[0;32m~/miniconda3/envs/IMPACT/lib/python3.12/site-packages/torch/_dynamo/convert_frame.py:1164\u001B[0m, in \u001B[0;36mConvertFrame.__call__\u001B[0;34m(self, frame, cache_entry, hooks, frame_state, skip)\u001B[0m\n\u001B[1;32m   1162\u001B[0m counters[\u001B[38;5;124m\"\u001B[39m\u001B[38;5;124mframes\u001B[39m\u001B[38;5;124m\"\u001B[39m][\u001B[38;5;124m\"\u001B[39m\u001B[38;5;124mtotal\u001B[39m\u001B[38;5;124m\"\u001B[39m] \u001B[38;5;241m+\u001B[39m\u001B[38;5;241m=\u001B[39m \u001B[38;5;241m1\u001B[39m\n\u001B[1;32m   1163\u001B[0m \u001B[38;5;28;01mtry\u001B[39;00m:\n\u001B[0;32m-> 1164\u001B[0m     result \u001B[38;5;241m=\u001B[39m \u001B[38;5;28mself\u001B[39m\u001B[38;5;241m.\u001B[39m_inner_convert(\n\u001B[1;32m   1165\u001B[0m         frame, cache_entry, hooks, frame_state, skip\u001B[38;5;241m=\u001B[39mskip \u001B[38;5;241m+\u001B[39m \u001B[38;5;241m1\u001B[39m\n\u001B[1;32m   1166\u001B[0m     )\n\u001B[1;32m   1167\u001B[0m     counters[\u001B[38;5;124m\"\u001B[39m\u001B[38;5;124mframes\u001B[39m\u001B[38;5;124m\"\u001B[39m][\u001B[38;5;124m\"\u001B[39m\u001B[38;5;124mok\u001B[39m\u001B[38;5;124m\"\u001B[39m] \u001B[38;5;241m+\u001B[39m\u001B[38;5;241m=\u001B[39m \u001B[38;5;241m1\u001B[39m\n\u001B[1;32m   1168\u001B[0m     \u001B[38;5;28;01mreturn\u001B[39;00m result\n",
      "File \u001B[0;32m~/miniconda3/envs/IMPACT/lib/python3.12/site-packages/torch/_dynamo/convert_frame.py:547\u001B[0m, in \u001B[0;36mConvertFrameAssert.__call__\u001B[0;34m(self, frame, cache_entry, hooks, frame_state, skip)\u001B[0m\n\u001B[1;32m    544\u001B[0m     dynamo_tls\u001B[38;5;241m.\u001B[39mtraced_frame_infos\u001B[38;5;241m.\u001B[39mappend(info)\n\u001B[1;32m    546\u001B[0m \u001B[38;5;28;01mwith\u001B[39;00m compile_context(CompileContext(compile_id)):\n\u001B[0;32m--> 547\u001B[0m     \u001B[38;5;28;01mreturn\u001B[39;00m _compile(\n\u001B[1;32m    548\u001B[0m         frame\u001B[38;5;241m.\u001B[39mf_code,\n\u001B[1;32m    549\u001B[0m         frame\u001B[38;5;241m.\u001B[39mf_globals,\n\u001B[1;32m    550\u001B[0m         frame\u001B[38;5;241m.\u001B[39mf_locals,\n\u001B[1;32m    551\u001B[0m         frame\u001B[38;5;241m.\u001B[39mf_builtins,\n\u001B[1;32m    552\u001B[0m         frame\u001B[38;5;241m.\u001B[39mclosure,\n\u001B[1;32m    553\u001B[0m         \u001B[38;5;28mself\u001B[39m\u001B[38;5;241m.\u001B[39m_torchdynamo_orig_callable,\n\u001B[1;32m    554\u001B[0m         \u001B[38;5;28mself\u001B[39m\u001B[38;5;241m.\u001B[39m_one_graph,\n\u001B[1;32m    555\u001B[0m         \u001B[38;5;28mself\u001B[39m\u001B[38;5;241m.\u001B[39m_export,\n\u001B[1;32m    556\u001B[0m         \u001B[38;5;28mself\u001B[39m\u001B[38;5;241m.\u001B[39m_export_constraints,\n\u001B[1;32m    557\u001B[0m         hooks,\n\u001B[1;32m    558\u001B[0m         cache_entry,\n\u001B[1;32m    559\u001B[0m         cache_size,\n\u001B[1;32m    560\u001B[0m         frame,\n\u001B[1;32m    561\u001B[0m         frame_state\u001B[38;5;241m=\u001B[39mframe_state,\n\u001B[1;32m    562\u001B[0m         compile_id\u001B[38;5;241m=\u001B[39mcompile_id,\n\u001B[1;32m    563\u001B[0m         skip\u001B[38;5;241m=\u001B[39mskip \u001B[38;5;241m+\u001B[39m \u001B[38;5;241m1\u001B[39m,\n\u001B[1;32m    564\u001B[0m     )\n",
      "File \u001B[0;32m~/miniconda3/envs/IMPACT/lib/python3.12/site-packages/torch/_dynamo/convert_frame.py:986\u001B[0m, in \u001B[0;36m_compile\u001B[0;34m(code, globals, locals, builtins, closure, compiler_fn, one_graph, export, export_constraints, hooks, cache_entry, cache_size, frame, frame_state, compile_id, skip)\u001B[0m\n\u001B[1;32m    984\u001B[0m guarded_code \u001B[38;5;241m=\u001B[39m \u001B[38;5;28;01mNone\u001B[39;00m\n\u001B[1;32m    985\u001B[0m \u001B[38;5;28;01mtry\u001B[39;00m:\n\u001B[0;32m--> 986\u001B[0m     guarded_code \u001B[38;5;241m=\u001B[39m compile_inner(code, one_graph, hooks, transform)\n\u001B[1;32m    988\u001B[0m     \u001B[38;5;66;03m# NB: We only put_code_state in success case.  Success case here\u001B[39;00m\n\u001B[1;32m    989\u001B[0m     \u001B[38;5;66;03m# does include graph breaks; specifically, if a graph break still\u001B[39;00m\n\u001B[1;32m    990\u001B[0m     \u001B[38;5;66;03m# resulted in a partially compiled graph, we WILL return here.  An\u001B[39;00m\n\u001B[0;32m   (...)\u001B[0m\n\u001B[1;32m    995\u001B[0m     \u001B[38;5;66;03m# to upload for graph break though, because this can prevent\u001B[39;00m\n\u001B[1;32m    996\u001B[0m     \u001B[38;5;66;03m# extra graph break compilations.)\u001B[39;00m\n\u001B[1;32m    997\u001B[0m     put_code_state()\n",
      "File \u001B[0;32m~/miniconda3/envs/IMPACT/lib/python3.12/site-packages/torch/_dynamo/convert_frame.py:715\u001B[0m, in \u001B[0;36m_compile.<locals>.compile_inner\u001B[0;34m(code, one_graph, hooks, transform)\u001B[0m\n\u001B[1;32m    713\u001B[0m     stack\u001B[38;5;241m.\u001B[39menter_context(torch\u001B[38;5;241m.\u001B[39m_dynamo\u001B[38;5;241m.\u001B[39mcallback_handler\u001B[38;5;241m.\u001B[39minstall_callbacks())\n\u001B[1;32m    714\u001B[0m     stack\u001B[38;5;241m.\u001B[39menter_context(CompileTimeInstructionCounter\u001B[38;5;241m.\u001B[39mrecord())\n\u001B[0;32m--> 715\u001B[0m     \u001B[38;5;28;01mreturn\u001B[39;00m _compile_inner(code, one_graph, hooks, transform)\n\u001B[1;32m    717\u001B[0m \u001B[38;5;28;01mreturn\u001B[39;00m \u001B[38;5;28;01mNone\u001B[39;00m\n",
      "File \u001B[0;32m~/miniconda3/envs/IMPACT/lib/python3.12/site-packages/torch/_utils_internal.py:95\u001B[0m, in \u001B[0;36mcompile_time_strobelight_meta.<locals>.compile_time_strobelight_meta_inner.<locals>.wrapper_function\u001B[0;34m(*args, **kwargs)\u001B[0m\n\u001B[1;32m     92\u001B[0m     kwargs[\u001B[38;5;124m\"\u001B[39m\u001B[38;5;124mskip\u001B[39m\u001B[38;5;124m\"\u001B[39m] \u001B[38;5;241m=\u001B[39m skip \u001B[38;5;241m+\u001B[39m \u001B[38;5;241m1\u001B[39m\n\u001B[1;32m     94\u001B[0m \u001B[38;5;28;01mif\u001B[39;00m \u001B[38;5;129;01mnot\u001B[39;00m StrobelightCompileTimeProfiler\u001B[38;5;241m.\u001B[39menabled:\n\u001B[0;32m---> 95\u001B[0m     \u001B[38;5;28;01mreturn\u001B[39;00m function(\u001B[38;5;241m*\u001B[39margs, \u001B[38;5;241m*\u001B[39m\u001B[38;5;241m*\u001B[39mkwargs)\n\u001B[1;32m     97\u001B[0m \u001B[38;5;28;01mreturn\u001B[39;00m StrobelightCompileTimeProfiler\u001B[38;5;241m.\u001B[39mprofile_compile_time(\n\u001B[1;32m     98\u001B[0m     function, phase_name, \u001B[38;5;241m*\u001B[39margs, \u001B[38;5;241m*\u001B[39m\u001B[38;5;241m*\u001B[39mkwargs\n\u001B[1;32m     99\u001B[0m )\n",
      "File \u001B[0;32m~/miniconda3/envs/IMPACT/lib/python3.12/site-packages/torch/_dynamo/convert_frame.py:750\u001B[0m, in \u001B[0;36m_compile.<locals>._compile_inner\u001B[0;34m(code, one_graph, hooks, transform)\u001B[0m\n\u001B[1;32m    748\u001B[0m CompileContext\u001B[38;5;241m.\u001B[39mget()\u001B[38;5;241m.\u001B[39mattempt \u001B[38;5;241m=\u001B[39m attempt\n\u001B[1;32m    749\u001B[0m \u001B[38;5;28;01mtry\u001B[39;00m:\n\u001B[0;32m--> 750\u001B[0m     out_code \u001B[38;5;241m=\u001B[39m transform_code_object(code, transform)\n\u001B[1;32m    751\u001B[0m     \u001B[38;5;28;01mbreak\u001B[39;00m\n\u001B[1;32m    752\u001B[0m \u001B[38;5;28;01mexcept\u001B[39;00m exc\u001B[38;5;241m.\u001B[39mRestartAnalysis \u001B[38;5;28;01mas\u001B[39;00m e:\n",
      "File \u001B[0;32m~/miniconda3/envs/IMPACT/lib/python3.12/site-packages/torch/_dynamo/bytecode_transformation.py:1361\u001B[0m, in \u001B[0;36mtransform_code_object\u001B[0;34m(code, transformations, safe)\u001B[0m\n\u001B[1;32m   1358\u001B[0m instructions \u001B[38;5;241m=\u001B[39m cleaned_instructions(code, safe)\n\u001B[1;32m   1359\u001B[0m propagate_line_nums(instructions)\n\u001B[0;32m-> 1361\u001B[0m transformations(instructions, code_options)\n\u001B[1;32m   1362\u001B[0m \u001B[38;5;28;01mreturn\u001B[39;00m clean_and_assemble_instructions(instructions, keys, code_options)[\u001B[38;5;241m1\u001B[39m]\n",
      "File \u001B[0;32m~/miniconda3/envs/IMPACT/lib/python3.12/site-packages/torch/_dynamo/convert_frame.py:231\u001B[0m, in \u001B[0;36mpreserve_global_state.<locals>._fn\u001B[0;34m(*args, **kwargs)\u001B[0m\n\u001B[1;32m    229\u001B[0m exit_stack\u001B[38;5;241m.\u001B[39menter_context(torch_function_mode_stack_state_mgr)\n\u001B[1;32m    230\u001B[0m \u001B[38;5;28;01mtry\u001B[39;00m:\n\u001B[0;32m--> 231\u001B[0m     \u001B[38;5;28;01mreturn\u001B[39;00m fn(\u001B[38;5;241m*\u001B[39margs, \u001B[38;5;241m*\u001B[39m\u001B[38;5;241m*\u001B[39mkwargs)\n\u001B[1;32m    232\u001B[0m \u001B[38;5;28;01mfinally\u001B[39;00m:\n\u001B[1;32m    233\u001B[0m     cleanup\u001B[38;5;241m.\u001B[39mclose()\n",
      "File \u001B[0;32m~/miniconda3/envs/IMPACT/lib/python3.12/site-packages/torch/_dynamo/convert_frame.py:662\u001B[0m, in \u001B[0;36m_compile.<locals>.transform\u001B[0;34m(instructions, code_options)\u001B[0m\n\u001B[1;32m    660\u001B[0m \u001B[38;5;28;01mtry\u001B[39;00m:\n\u001B[1;32m    661\u001B[0m     \u001B[38;5;28;01mwith\u001B[39;00m tracing(tracer\u001B[38;5;241m.\u001B[39moutput\u001B[38;5;241m.\u001B[39mtracing_context), tracer\u001B[38;5;241m.\u001B[39mset_current_tx():\n\u001B[0;32m--> 662\u001B[0m         tracer\u001B[38;5;241m.\u001B[39mrun()\n\u001B[1;32m    663\u001B[0m \u001B[38;5;28;01mexcept\u001B[39;00m exc\u001B[38;5;241m.\u001B[39mUnspecializeRestartAnalysis:\n\u001B[1;32m    664\u001B[0m     speculation_log\u001B[38;5;241m.\u001B[39mclear()\n",
      "File \u001B[0;32m~/miniconda3/envs/IMPACT/lib/python3.12/site-packages/torch/_dynamo/symbolic_convert.py:2868\u001B[0m, in \u001B[0;36mInstructionTranslator.run\u001B[0;34m(self)\u001B[0m\n\u001B[1;32m   2867\u001B[0m \u001B[38;5;28;01mdef\u001B[39;00m\u001B[38;5;250m \u001B[39m\u001B[38;5;21mrun\u001B[39m(\u001B[38;5;28mself\u001B[39m):\n\u001B[0;32m-> 2868\u001B[0m     \u001B[38;5;28msuper\u001B[39m()\u001B[38;5;241m.\u001B[39mrun()\n",
      "File \u001B[0;32m~/miniconda3/envs/IMPACT/lib/python3.12/site-packages/torch/_dynamo/symbolic_convert.py:1052\u001B[0m, in \u001B[0;36mInstructionTranslatorBase.run\u001B[0;34m(self)\u001B[0m\n\u001B[1;32m   1050\u001B[0m \u001B[38;5;28;01mtry\u001B[39;00m:\n\u001B[1;32m   1051\u001B[0m     \u001B[38;5;28mself\u001B[39m\u001B[38;5;241m.\u001B[39moutput\u001B[38;5;241m.\u001B[39mpush_tx(\u001B[38;5;28mself\u001B[39m)\n\u001B[0;32m-> 1052\u001B[0m     \u001B[38;5;28;01mwhile\u001B[39;00m \u001B[38;5;28mself\u001B[39m\u001B[38;5;241m.\u001B[39mstep():\n\u001B[1;32m   1053\u001B[0m         \u001B[38;5;28;01mpass\u001B[39;00m\n\u001B[1;32m   1054\u001B[0m \u001B[38;5;28;01mexcept\u001B[39;00m TensorifyScalarRestartAnalysis:\n",
      "File \u001B[0;32m~/miniconda3/envs/IMPACT/lib/python3.12/site-packages/torch/_dynamo/symbolic_convert.py:962\u001B[0m, in \u001B[0;36mInstructionTranslatorBase.step\u001B[0;34m(self)\u001B[0m\n\u001B[1;32m    959\u001B[0m \u001B[38;5;28mself\u001B[39m\u001B[38;5;241m.\u001B[39mupdate_block_stack(inst)\n\u001B[1;32m    961\u001B[0m \u001B[38;5;28;01mtry\u001B[39;00m:\n\u001B[0;32m--> 962\u001B[0m     \u001B[38;5;28mself\u001B[39m\u001B[38;5;241m.\u001B[39mdispatch_table[inst\u001B[38;5;241m.\u001B[39mopcode](\u001B[38;5;28mself\u001B[39m, inst)\n\u001B[1;32m    963\u001B[0m     \u001B[38;5;28;01mreturn\u001B[39;00m \u001B[38;5;129;01mnot\u001B[39;00m \u001B[38;5;28mself\u001B[39m\u001B[38;5;241m.\u001B[39moutput\u001B[38;5;241m.\u001B[39mshould_exit\n\u001B[1;32m    964\u001B[0m \u001B[38;5;28;01mexcept\u001B[39;00m TensorifyScalarRestartAnalysis:\n",
      "File \u001B[0;32m~/miniconda3/envs/IMPACT/lib/python3.12/site-packages/torch/_dynamo/symbolic_convert.py:3048\u001B[0m, in \u001B[0;36mInstructionTranslator.RETURN_VALUE\u001B[0;34m(self, inst)\u001B[0m\n\u001B[1;32m   3047\u001B[0m \u001B[38;5;28;01mdef\u001B[39;00m\u001B[38;5;250m \u001B[39m\u001B[38;5;21mRETURN_VALUE\u001B[39m(\u001B[38;5;28mself\u001B[39m, inst):\n\u001B[0;32m-> 3048\u001B[0m     \u001B[38;5;28mself\u001B[39m\u001B[38;5;241m.\u001B[39m_return(inst)\n",
      "File \u001B[0;32m~/miniconda3/envs/IMPACT/lib/python3.12/site-packages/torch/_dynamo/symbolic_convert.py:3033\u001B[0m, in \u001B[0;36mInstructionTranslator._return\u001B[0;34m(self, inst)\u001B[0m\n\u001B[1;32m   3028\u001B[0m _step_logger()(\n\u001B[1;32m   3029\u001B[0m     logging\u001B[38;5;241m.\u001B[39mINFO,\n\u001B[1;32m   3030\u001B[0m     \u001B[38;5;124mf\u001B[39m\u001B[38;5;124m\"\u001B[39m\u001B[38;5;124mtorchdynamo done tracing \u001B[39m\u001B[38;5;132;01m{\u001B[39;00m\u001B[38;5;28mself\u001B[39m\u001B[38;5;241m.\u001B[39mf_code\u001B[38;5;241m.\u001B[39mco_name\u001B[38;5;132;01m}\u001B[39;00m\u001B[38;5;124m (\u001B[39m\u001B[38;5;132;01m{\u001B[39;00minst\u001B[38;5;241m.\u001B[39mopname\u001B[38;5;132;01m}\u001B[39;00m\u001B[38;5;124m)\u001B[39m\u001B[38;5;124m\"\u001B[39m,\n\u001B[1;32m   3031\u001B[0m )\n\u001B[1;32m   3032\u001B[0m log\u001B[38;5;241m.\u001B[39mdebug(\u001B[38;5;124m\"\u001B[39m\u001B[38;5;132;01m%s\u001B[39;00m\u001B[38;5;124m triggered compile\u001B[39m\u001B[38;5;124m\"\u001B[39m, inst\u001B[38;5;241m.\u001B[39mopname)\n\u001B[0;32m-> 3033\u001B[0m \u001B[38;5;28mself\u001B[39m\u001B[38;5;241m.\u001B[39moutput\u001B[38;5;241m.\u001B[39mcompile_subgraph(\n\u001B[1;32m   3034\u001B[0m     \u001B[38;5;28mself\u001B[39m,\n\u001B[1;32m   3035\u001B[0m     reason\u001B[38;5;241m=\u001B[39mGraphCompileReason(\n\u001B[1;32m   3036\u001B[0m         \u001B[38;5;124m\"\u001B[39m\u001B[38;5;124mreturn_value\u001B[39m\u001B[38;5;124m\"\u001B[39m, [\u001B[38;5;28mself\u001B[39m\u001B[38;5;241m.\u001B[39mframe_summary()], graph_break\u001B[38;5;241m=\u001B[39m\u001B[38;5;28;01mFalse\u001B[39;00m\n\u001B[1;32m   3037\u001B[0m     ),\n\u001B[1;32m   3038\u001B[0m )\n\u001B[1;32m   3039\u001B[0m return_inst \u001B[38;5;241m=\u001B[39m (\n\u001B[1;32m   3040\u001B[0m     create_instruction(\u001B[38;5;124m\"\u001B[39m\u001B[38;5;124mRETURN_VALUE\u001B[39m\u001B[38;5;124m\"\u001B[39m)\n\u001B[1;32m   3041\u001B[0m     \u001B[38;5;28;01mif\u001B[39;00m inst\u001B[38;5;241m.\u001B[39mopname \u001B[38;5;241m==\u001B[39m \u001B[38;5;124m\"\u001B[39m\u001B[38;5;124mRETURN_VALUE\u001B[39m\u001B[38;5;124m\"\u001B[39m\n\u001B[1;32m   3042\u001B[0m     \u001B[38;5;28;01melse\u001B[39;00m create_instruction(\u001B[38;5;124m\"\u001B[39m\u001B[38;5;124mRETURN_CONST\u001B[39m\u001B[38;5;124m\"\u001B[39m, argval\u001B[38;5;241m=\u001B[39minst\u001B[38;5;241m.\u001B[39margval)\n\u001B[1;32m   3043\u001B[0m )\n\u001B[1;32m   3044\u001B[0m \u001B[38;5;28mself\u001B[39m\u001B[38;5;241m.\u001B[39moutput\u001B[38;5;241m.\u001B[39madd_output_instructions([return_inst])\n",
      "File \u001B[0;32m~/miniconda3/envs/IMPACT/lib/python3.12/site-packages/torch/_dynamo/output_graph.py:1101\u001B[0m, in \u001B[0;36mOutputGraph.compile_subgraph\u001B[0;34m(self, tx, partial_convert, reason)\u001B[0m\n\u001B[1;32m   1098\u001B[0m append_prefix_insts()\n\u001B[1;32m   1099\u001B[0m \u001B[38;5;66;03m# optimization to generate better code in a common case\u001B[39;00m\n\u001B[1;32m   1100\u001B[0m \u001B[38;5;28mself\u001B[39m\u001B[38;5;241m.\u001B[39madd_output_instructions(\n\u001B[0;32m-> 1101\u001B[0m     \u001B[38;5;28mself\u001B[39m\u001B[38;5;241m.\u001B[39mcompile_and_call_fx_graph(\n\u001B[1;32m   1102\u001B[0m         tx, \u001B[38;5;28mlist\u001B[39m(\u001B[38;5;28mreversed\u001B[39m(stack_values)), root, output_replacements\n\u001B[1;32m   1103\u001B[0m     )\n\u001B[1;32m   1104\u001B[0m     \u001B[38;5;241m+\u001B[39m [create_instruction(\u001B[38;5;124m\"\u001B[39m\u001B[38;5;124mUNPACK_SEQUENCE\u001B[39m\u001B[38;5;124m\"\u001B[39m, arg\u001B[38;5;241m=\u001B[39m\u001B[38;5;28mlen\u001B[39m(stack_values))]\n\u001B[1;32m   1105\u001B[0m )\n\u001B[1;32m   1106\u001B[0m \u001B[38;5;66;03m# restore all the live local vars\u001B[39;00m\n\u001B[1;32m   1107\u001B[0m \u001B[38;5;28mself\u001B[39m\u001B[38;5;241m.\u001B[39madd_output_instructions(\n\u001B[1;32m   1108\u001B[0m     [\n\u001B[1;32m   1109\u001B[0m         PyCodegen(tx, overridden_sources\u001B[38;5;241m=\u001B[39moverridden_sources)\u001B[38;5;241m.\u001B[39mcreate_store(\n\u001B[0;32m   (...)\u001B[0m\n\u001B[1;32m   1113\u001B[0m     ]\n\u001B[1;32m   1114\u001B[0m )\n",
      "File \u001B[0;32m~/miniconda3/envs/IMPACT/lib/python3.12/site-packages/torch/_dynamo/output_graph.py:1382\u001B[0m, in \u001B[0;36mOutputGraph.compile_and_call_fx_graph\u001B[0;34m(self, tx, rv, root, replaced_outputs)\u001B[0m\n\u001B[1;32m   1379\u001B[0m     \u001B[38;5;28mself\u001B[39m\u001B[38;5;241m.\u001B[39mtracing_context\u001B[38;5;241m.\u001B[39mfake_mode \u001B[38;5;241m=\u001B[39m backend_fake_mode\n\u001B[1;32m   1381\u001B[0m \u001B[38;5;28;01mwith\u001B[39;00m \u001B[38;5;28mself\u001B[39m\u001B[38;5;241m.\u001B[39mrestore_global_state():\n\u001B[0;32m-> 1382\u001B[0m     compiled_fn \u001B[38;5;241m=\u001B[39m \u001B[38;5;28mself\u001B[39m\u001B[38;5;241m.\u001B[39mcall_user_compiler(gm)\n\u001B[1;32m   1384\u001B[0m \u001B[38;5;28;01mfrom\u001B[39;00m\u001B[38;5;250m \u001B[39m\u001B[38;5;21;01mtorch\u001B[39;00m\u001B[38;5;21;01m.\u001B[39;00m\u001B[38;5;21;01mfx\u001B[39;00m\u001B[38;5;21;01m.\u001B[39;00m\u001B[38;5;21;01m_lazy_graph_module\u001B[39;00m\u001B[38;5;250m \u001B[39m\u001B[38;5;28;01mimport\u001B[39;00m _LazyGraphModule\n\u001B[1;32m   1386\u001B[0m \u001B[38;5;28;01mif\u001B[39;00m \u001B[38;5;28misinstance\u001B[39m(compiled_fn, _LazyGraphModule) \u001B[38;5;129;01mor\u001B[39;00m (\n\u001B[1;32m   1387\u001B[0m     \u001B[38;5;28misinstance\u001B[39m(\u001B[38;5;28mgetattr\u001B[39m(compiled_fn, \u001B[38;5;124m\"\u001B[39m\u001B[38;5;124m__self__\u001B[39m\u001B[38;5;124m\"\u001B[39m, \u001B[38;5;28;01mNone\u001B[39;00m), _LazyGraphModule)\n\u001B[1;32m   1388\u001B[0m     \u001B[38;5;129;01mand\u001B[39;00m compiled_fn\u001B[38;5;241m.\u001B[39m\u001B[38;5;18m__name__\u001B[39m \u001B[38;5;241m==\u001B[39m \u001B[38;5;124m\"\u001B[39m\u001B[38;5;124m_lazy_forward\u001B[39m\u001B[38;5;124m\"\u001B[39m  \u001B[38;5;66;03m# type: ignore[attr-defined]\u001B[39;00m\n\u001B[0;32m   (...)\u001B[0m\n\u001B[1;32m   1392\u001B[0m     \u001B[38;5;66;03m# this is a _LazyGraphModule. This makes it easier for dynamo to\u001B[39;00m\n\u001B[1;32m   1393\u001B[0m     \u001B[38;5;66;03m# optimize a _LazyGraphModule.\u001B[39;00m\n",
      "File \u001B[0;32m~/miniconda3/envs/IMPACT/lib/python3.12/site-packages/torch/_dynamo/output_graph.py:1432\u001B[0m, in \u001B[0;36mOutputGraph.call_user_compiler\u001B[0;34m(self, gm)\u001B[0m\n\u001B[1;32m   1425\u001B[0m \u001B[38;5;28;01mdef\u001B[39;00m\u001B[38;5;250m \u001B[39m\u001B[38;5;21mcall_user_compiler\u001B[39m(\u001B[38;5;28mself\u001B[39m, gm: fx\u001B[38;5;241m.\u001B[39mGraphModule) \u001B[38;5;241m-\u001B[39m\u001B[38;5;241m>\u001B[39m CompiledFn:\n\u001B[1;32m   1426\u001B[0m     \u001B[38;5;28;01mwith\u001B[39;00m dynamo_timed(\n\u001B[1;32m   1427\u001B[0m         \u001B[38;5;124m\"\u001B[39m\u001B[38;5;124mOutputGraph.call_user_compiler\u001B[39m\u001B[38;5;124m\"\u001B[39m,\n\u001B[1;32m   1428\u001B[0m         phase_name\u001B[38;5;241m=\u001B[39m\u001B[38;5;124m\"\u001B[39m\u001B[38;5;124mbackend_compile\u001B[39m\u001B[38;5;124m\"\u001B[39m,\n\u001B[1;32m   1429\u001B[0m         log_pt2_compile_event\u001B[38;5;241m=\u001B[39m\u001B[38;5;28;01mTrue\u001B[39;00m,\n\u001B[1;32m   1430\u001B[0m         dynamo_compile_column_us\u001B[38;5;241m=\u001B[39m\u001B[38;5;124m\"\u001B[39m\u001B[38;5;124maot_autograd_cumulative_compile_time_us\u001B[39m\u001B[38;5;124m\"\u001B[39m,\n\u001B[1;32m   1431\u001B[0m     ):\n\u001B[0;32m-> 1432\u001B[0m         \u001B[38;5;28;01mreturn\u001B[39;00m \u001B[38;5;28mself\u001B[39m\u001B[38;5;241m.\u001B[39m_call_user_compiler(gm)\n",
      "File \u001B[0;32m~/miniconda3/envs/IMPACT/lib/python3.12/site-packages/torch/_dynamo/output_graph.py:1483\u001B[0m, in \u001B[0;36mOutputGraph._call_user_compiler\u001B[0;34m(self, gm)\u001B[0m\n\u001B[1;32m   1481\u001B[0m     \u001B[38;5;28;01mraise\u001B[39;00m e\n\u001B[1;32m   1482\u001B[0m \u001B[38;5;28;01mexcept\u001B[39;00m \u001B[38;5;167;01mException\u001B[39;00m \u001B[38;5;28;01mas\u001B[39;00m e:\n\u001B[0;32m-> 1483\u001B[0m     \u001B[38;5;28;01mraise\u001B[39;00m BackendCompilerFailed(\u001B[38;5;28mself\u001B[39m\u001B[38;5;241m.\u001B[39mcompiler_fn, e)\u001B[38;5;241m.\u001B[39mwith_traceback(\n\u001B[1;32m   1484\u001B[0m         e\u001B[38;5;241m.\u001B[39m__traceback__\n\u001B[1;32m   1485\u001B[0m     ) \u001B[38;5;28;01mfrom\u001B[39;00m\u001B[38;5;250m \u001B[39m\u001B[38;5;28;01mNone\u001B[39;00m\n\u001B[1;32m   1487\u001B[0m signpost_event(\n\u001B[1;32m   1488\u001B[0m     \u001B[38;5;124m\"\u001B[39m\u001B[38;5;124mdynamo\u001B[39m\u001B[38;5;124m\"\u001B[39m,\n\u001B[1;32m   1489\u001B[0m     \u001B[38;5;124m\"\u001B[39m\u001B[38;5;124mOutputGraph.call_user_compiler\u001B[39m\u001B[38;5;124m\"\u001B[39m,\n\u001B[0;32m   (...)\u001B[0m\n\u001B[1;32m   1495\u001B[0m     },\n\u001B[1;32m   1496\u001B[0m )\n\u001B[1;32m   1498\u001B[0m \u001B[38;5;28;01mreturn\u001B[39;00m compiled_fn\n",
      "File \u001B[0;32m~/miniconda3/envs/IMPACT/lib/python3.12/site-packages/torch/_dynamo/output_graph.py:1462\u001B[0m, in \u001B[0;36mOutputGraph._call_user_compiler\u001B[0;34m(self, gm)\u001B[0m\n\u001B[1;32m   1460\u001B[0m \u001B[38;5;28;01mif\u001B[39;00m config\u001B[38;5;241m.\u001B[39mverify_correctness:\n\u001B[1;32m   1461\u001B[0m     compiler_fn \u001B[38;5;241m=\u001B[39m WrapperBackend(compiler_fn)\n\u001B[0;32m-> 1462\u001B[0m compiled_fn \u001B[38;5;241m=\u001B[39m compiler_fn(gm, \u001B[38;5;28mself\u001B[39m\u001B[38;5;241m.\u001B[39mexample_inputs())\n\u001B[1;32m   1463\u001B[0m _step_logger()(logging\u001B[38;5;241m.\u001B[39mINFO, \u001B[38;5;124mf\u001B[39m\u001B[38;5;124m\"\u001B[39m\u001B[38;5;124mdone compiler function \u001B[39m\u001B[38;5;132;01m{\u001B[39;00mname\u001B[38;5;132;01m}\u001B[39;00m\u001B[38;5;124m\"\u001B[39m)\n\u001B[1;32m   1464\u001B[0m \u001B[38;5;28;01massert\u001B[39;00m \u001B[38;5;28mcallable\u001B[39m(compiled_fn), \u001B[38;5;124m\"\u001B[39m\u001B[38;5;124mcompiler_fn did not return callable\u001B[39m\u001B[38;5;124m\"\u001B[39m\n",
      "File \u001B[0;32m~/miniconda3/envs/IMPACT/lib/python3.12/site-packages/torch/_dynamo/repro/after_dynamo.py:130\u001B[0m, in \u001B[0;36mWrapBackendDebug.__call__\u001B[0;34m(self, gm, example_inputs, **kwargs)\u001B[0m\n\u001B[1;32m    128\u001B[0m             \u001B[38;5;28;01mraise\u001B[39;00m\n\u001B[1;32m    129\u001B[0m \u001B[38;5;28;01melse\u001B[39;00m:\n\u001B[0;32m--> 130\u001B[0m     compiled_gm \u001B[38;5;241m=\u001B[39m compiler_fn(gm, example_inputs)\n\u001B[1;32m    132\u001B[0m \u001B[38;5;28;01mreturn\u001B[39;00m compiled_gm\n",
      "File \u001B[0;32m~/miniconda3/envs/IMPACT/lib/python3.12/site-packages/torch/__init__.py:2340\u001B[0m, in \u001B[0;36m_TorchCompileInductorWrapper.__call__\u001B[0;34m(self, model_, inputs_)\u001B[0m\n\u001B[1;32m   2337\u001B[0m \u001B[38;5;28;01mdef\u001B[39;00m\u001B[38;5;250m \u001B[39m\u001B[38;5;21m__call__\u001B[39m(\u001B[38;5;28mself\u001B[39m, model_, inputs_):\n\u001B[1;32m   2338\u001B[0m     \u001B[38;5;28;01mfrom\u001B[39;00m\u001B[38;5;250m \u001B[39m\u001B[38;5;21;01mtorch\u001B[39;00m\u001B[38;5;21;01m.\u001B[39;00m\u001B[38;5;21;01m_inductor\u001B[39;00m\u001B[38;5;21;01m.\u001B[39;00m\u001B[38;5;21;01mcompile_fx\u001B[39;00m\u001B[38;5;250m \u001B[39m\u001B[38;5;28;01mimport\u001B[39;00m compile_fx\n\u001B[0;32m-> 2340\u001B[0m     \u001B[38;5;28;01mreturn\u001B[39;00m compile_fx(model_, inputs_, config_patches\u001B[38;5;241m=\u001B[39m\u001B[38;5;28mself\u001B[39m\u001B[38;5;241m.\u001B[39mconfig)\n",
      "File \u001B[0;32m~/miniconda3/envs/IMPACT/lib/python3.12/site-packages/torch/_inductor/compile_fx.py:1863\u001B[0m, in \u001B[0;36mcompile_fx\u001B[0;34m(model_, example_inputs_, inner_compile, config_patches, decompositions)\u001B[0m\n\u001B[1;32m   1856\u001B[0m         \u001B[38;5;28;01mreturn\u001B[39;00m inference_compiler(unlifted_gm, example_inputs_)\n\u001B[1;32m   1858\u001B[0m \u001B[38;5;28;01mwith\u001B[39;00m V\u001B[38;5;241m.\u001B[39mset_fake_mode(fake_mode), torch\u001B[38;5;241m.\u001B[39m_guards\u001B[38;5;241m.\u001B[39mtracing(\n\u001B[1;32m   1859\u001B[0m     tracing_context\n\u001B[1;32m   1860\u001B[0m ), compiled_autograd\u001B[38;5;241m.\u001B[39m_disable(), functorch_config\u001B[38;5;241m.\u001B[39mpatch(\n\u001B[1;32m   1861\u001B[0m     unlift_effect_tokens\u001B[38;5;241m=\u001B[39m\u001B[38;5;28;01mTrue\u001B[39;00m\n\u001B[1;32m   1862\u001B[0m ):\n\u001B[0;32m-> 1863\u001B[0m     \u001B[38;5;28;01mreturn\u001B[39;00m aot_autograd(\n\u001B[1;32m   1864\u001B[0m         fw_compiler\u001B[38;5;241m=\u001B[39mfw_compiler,\n\u001B[1;32m   1865\u001B[0m         bw_compiler\u001B[38;5;241m=\u001B[39mbw_compiler,\n\u001B[1;32m   1866\u001B[0m         inference_compiler\u001B[38;5;241m=\u001B[39minference_compiler,\n\u001B[1;32m   1867\u001B[0m         decompositions\u001B[38;5;241m=\u001B[39mdecompositions,\n\u001B[1;32m   1868\u001B[0m         partition_fn\u001B[38;5;241m=\u001B[39mpartition_fn,\n\u001B[1;32m   1869\u001B[0m         keep_inference_input_mutations\u001B[38;5;241m=\u001B[39m\u001B[38;5;28;01mTrue\u001B[39;00m,\n\u001B[1;32m   1870\u001B[0m         cudagraphs\u001B[38;5;241m=\u001B[39mcudagraphs,\n\u001B[1;32m   1871\u001B[0m     )(model_, example_inputs_)\n",
      "File \u001B[0;32m~/miniconda3/envs/IMPACT/lib/python3.12/site-packages/torch/_dynamo/backends/common.py:83\u001B[0m, in \u001B[0;36mAotAutograd.__call__\u001B[0;34m(self, gm, example_inputs, **kwargs)\u001B[0m\n\u001B[1;32m     80\u001B[0m \u001B[38;5;28;01mtry\u001B[39;00m:\n\u001B[1;32m     81\u001B[0m     \u001B[38;5;66;03m# NB: NOT cloned!\u001B[39;00m\n\u001B[1;32m     82\u001B[0m     \u001B[38;5;28;01mwith\u001B[39;00m enable_aot_logging(), patch_config:\n\u001B[0;32m---> 83\u001B[0m         cg \u001B[38;5;241m=\u001B[39m aot_module_simplified(gm, example_inputs, \u001B[38;5;241m*\u001B[39m\u001B[38;5;241m*\u001B[39m\u001B[38;5;28mself\u001B[39m\u001B[38;5;241m.\u001B[39mkwargs)\n\u001B[1;32m     84\u001B[0m         counters[\u001B[38;5;124m\"\u001B[39m\u001B[38;5;124maot_autograd\u001B[39m\u001B[38;5;124m\"\u001B[39m][\u001B[38;5;124m\"\u001B[39m\u001B[38;5;124mok\u001B[39m\u001B[38;5;124m\"\u001B[39m] \u001B[38;5;241m+\u001B[39m\u001B[38;5;241m=\u001B[39m \u001B[38;5;241m1\u001B[39m\n\u001B[1;32m     85\u001B[0m         \u001B[38;5;28;01mreturn\u001B[39;00m disable(cg)\n",
      "File \u001B[0;32m~/miniconda3/envs/IMPACT/lib/python3.12/site-packages/torch/_functorch/aot_autograd.py:1155\u001B[0m, in \u001B[0;36maot_module_simplified\u001B[0;34m(mod, args, fw_compiler, bw_compiler, partition_fn, decompositions, keep_inference_input_mutations, inference_compiler, cudagraphs)\u001B[0m\n\u001B[1;32m   1145\u001B[0m     compiled_fn \u001B[38;5;241m=\u001B[39m AOTAutogradCache\u001B[38;5;241m.\u001B[39mload(\n\u001B[1;32m   1146\u001B[0m         dispatch_and_compile,\n\u001B[1;32m   1147\u001B[0m         mod,\n\u001B[0;32m   (...)\u001B[0m\n\u001B[1;32m   1152\u001B[0m         remote,\n\u001B[1;32m   1153\u001B[0m     )\n\u001B[1;32m   1154\u001B[0m \u001B[38;5;28;01melse\u001B[39;00m:\n\u001B[0;32m-> 1155\u001B[0m     compiled_fn \u001B[38;5;241m=\u001B[39m dispatch_and_compile()\n\u001B[1;32m   1157\u001B[0m \u001B[38;5;28;01mif\u001B[39;00m \u001B[38;5;28misinstance\u001B[39m(mod, torch\u001B[38;5;241m.\u001B[39m_dynamo\u001B[38;5;241m.\u001B[39mutils\u001B[38;5;241m.\u001B[39mGmWrapper):\n\u001B[1;32m   1158\u001B[0m     \u001B[38;5;66;03m# This function is called by the flatten_graph_inputs wrapper, which boxes\u001B[39;00m\n\u001B[1;32m   1159\u001B[0m     \u001B[38;5;66;03m# the inputs so that they can be freed before the end of this scope.\u001B[39;00m\n\u001B[1;32m   1160\u001B[0m     \u001B[38;5;66;03m# For overhead reasons, this is not the default wrapper, see comment:\u001B[39;00m\n\u001B[1;32m   1161\u001B[0m     \u001B[38;5;66;03m# https://github.com/pytorch/pytorch/pull/122535/files#r1560096481\u001B[39;00m\n\u001B[1;32m   1162\u001B[0m     \u001B[38;5;28;01mdef\u001B[39;00m\u001B[38;5;250m \u001B[39m\u001B[38;5;21mboxed_forward\u001B[39m(runtime_args: List[Any]):\n",
      "File \u001B[0;32m~/miniconda3/envs/IMPACT/lib/python3.12/site-packages/torch/_functorch/aot_autograd.py:1131\u001B[0m, in \u001B[0;36maot_module_simplified.<locals>.dispatch_and_compile\u001B[0;34m()\u001B[0m\n\u001B[1;32m   1129\u001B[0m functional_call \u001B[38;5;241m=\u001B[39m create_functional_call(mod, params_spec, params_len)\n\u001B[1;32m   1130\u001B[0m \u001B[38;5;28;01mwith\u001B[39;00m compiled_autograd\u001B[38;5;241m.\u001B[39m_disable():\n\u001B[0;32m-> 1131\u001B[0m     compiled_fn, _ \u001B[38;5;241m=\u001B[39m create_aot_dispatcher_function(\n\u001B[1;32m   1132\u001B[0m         functional_call,\n\u001B[1;32m   1133\u001B[0m         fake_flat_args,\n\u001B[1;32m   1134\u001B[0m         aot_config,\n\u001B[1;32m   1135\u001B[0m         fake_mode,\n\u001B[1;32m   1136\u001B[0m         shape_env,\n\u001B[1;32m   1137\u001B[0m     )\n\u001B[1;32m   1138\u001B[0m \u001B[38;5;28;01mreturn\u001B[39;00m compiled_fn\n",
      "File \u001B[0;32m~/miniconda3/envs/IMPACT/lib/python3.12/site-packages/torch/_functorch/aot_autograd.py:580\u001B[0m, in \u001B[0;36mcreate_aot_dispatcher_function\u001B[0;34m(flat_fn, fake_flat_args, aot_config, fake_mode, shape_env)\u001B[0m\n\u001B[1;32m    572\u001B[0m \u001B[38;5;28;01mdef\u001B[39;00m\u001B[38;5;250m \u001B[39m\u001B[38;5;21mcreate_aot_dispatcher_function\u001B[39m(\n\u001B[1;32m    573\u001B[0m     flat_fn,\n\u001B[1;32m    574\u001B[0m     fake_flat_args: FakifiedFlatArgs,\n\u001B[0;32m   (...)\u001B[0m\n\u001B[1;32m    577\u001B[0m     shape_env: Optional[ShapeEnv],\n\u001B[1;32m    578\u001B[0m ) \u001B[38;5;241m-\u001B[39m\u001B[38;5;241m>\u001B[39m Tuple[Callable, ViewAndMutationMeta]:\n\u001B[1;32m    579\u001B[0m     \u001B[38;5;28;01mwith\u001B[39;00m dynamo_timed(\u001B[38;5;124m\"\u001B[39m\u001B[38;5;124mcreate_aot_dispatcher_function\u001B[39m\u001B[38;5;124m\"\u001B[39m, log_pt2_compile_event\u001B[38;5;241m=\u001B[39m\u001B[38;5;28;01mTrue\u001B[39;00m):\n\u001B[0;32m--> 580\u001B[0m         \u001B[38;5;28;01mreturn\u001B[39;00m _create_aot_dispatcher_function(\n\u001B[1;32m    581\u001B[0m             flat_fn, fake_flat_args, aot_config, fake_mode, shape_env\n\u001B[1;32m    582\u001B[0m         )\n",
      "File \u001B[0;32m~/miniconda3/envs/IMPACT/lib/python3.12/site-packages/torch/_functorch/aot_autograd.py:830\u001B[0m, in \u001B[0;36m_create_aot_dispatcher_function\u001B[0;34m(flat_fn, fake_flat_args, aot_config, fake_mode, shape_env)\u001B[0m\n\u001B[1;32m    826\u001B[0m         \u001B[38;5;28;01mreturn\u001B[39;00m aot_dispatch_base\n\u001B[1;32m    828\u001B[0m compiler_fn \u001B[38;5;241m=\u001B[39m choose_dispatcher(needs_autograd, aot_config)\n\u001B[0;32m--> 830\u001B[0m compiled_fn, fw_metadata \u001B[38;5;241m=\u001B[39m compiler_fn(\n\u001B[1;32m    831\u001B[0m     flat_fn,\n\u001B[1;32m    832\u001B[0m     _dup_fake_script_obj(fake_flat_args),\n\u001B[1;32m    833\u001B[0m     aot_config,\n\u001B[1;32m    834\u001B[0m     fw_metadata\u001B[38;5;241m=\u001B[39mfw_metadata,\n\u001B[1;32m    835\u001B[0m )\n\u001B[1;32m    836\u001B[0m \u001B[38;5;28;01mreturn\u001B[39;00m compiled_fn, fw_metadata\n",
      "File \u001B[0;32m~/miniconda3/envs/IMPACT/lib/python3.12/site-packages/torch/_functorch/_aot_autograd/jit_compile_runtime_wrappers.py:203\u001B[0m, in \u001B[0;36maot_dispatch_base\u001B[0;34m(flat_fn, flat_args, aot_config, fw_metadata)\u001B[0m\n\u001B[1;32m    201\u001B[0m         \u001B[38;5;28;01massert\u001B[39;00m \u001B[38;5;28misinstance\u001B[39m(fw_module, GraphModule)\n\u001B[1;32m    202\u001B[0m         tensorify_python_scalars(fw_module, fake_mode\u001B[38;5;241m.\u001B[39mshape_env, fake_mode)\n\u001B[0;32m--> 203\u001B[0m     compiled_fw \u001B[38;5;241m=\u001B[39m compiler(fw_module, updated_flat_args)\n\u001B[1;32m    205\u001B[0m \u001B[38;5;28;01mif\u001B[39;00m fakified_out_wrapper\u001B[38;5;241m.\u001B[39mneeds_post_compile:\n\u001B[1;32m    206\u001B[0m     fakified_out_wrapper\u001B[38;5;241m.\u001B[39mset_fwd_output_strides(fwd_output_strides)\n",
      "File \u001B[0;32m~/miniconda3/envs/IMPACT/lib/python3.12/site-packages/torch/_functorch/aot_autograd.py:489\u001B[0m, in \u001B[0;36mSerializableAOTDispatchCompiler.__call__\u001B[0;34m(self, gm, example_inputs)\u001B[0m\n\u001B[1;32m    484\u001B[0m \u001B[38;5;28;01mdef\u001B[39;00m\u001B[38;5;250m \u001B[39m\u001B[38;5;21m__call__\u001B[39m(\n\u001B[1;32m    485\u001B[0m     \u001B[38;5;28mself\u001B[39m,\n\u001B[1;32m    486\u001B[0m     gm: torch\u001B[38;5;241m.\u001B[39mfx\u001B[38;5;241m.\u001B[39mGraphModule,\n\u001B[1;32m    487\u001B[0m     example_inputs: Sequence[InputType],\n\u001B[1;32m    488\u001B[0m ) \u001B[38;5;241m-\u001B[39m\u001B[38;5;241m>\u001B[39m OutputCode:\n\u001B[0;32m--> 489\u001B[0m     \u001B[38;5;28;01mreturn\u001B[39;00m \u001B[38;5;28mself\u001B[39m\u001B[38;5;241m.\u001B[39mcompiler_fn(gm, example_inputs)\n",
      "File \u001B[0;32m~/miniconda3/envs/IMPACT/lib/python3.12/site-packages/torch/_inductor/compile_fx.py:1741\u001B[0m, in \u001B[0;36mcompile_fx.<locals>.fw_compiler_base\u001B[0;34m(gm, example_inputs, is_inference)\u001B[0m\n\u001B[1;32m   1738\u001B[0m \u001B[38;5;28;01melse\u001B[39;00m:\n\u001B[1;32m   1739\u001B[0m     model_outputs_node\u001B[38;5;241m.\u001B[39mmeta[\u001B[38;5;124m\"\u001B[39m\u001B[38;5;124muser_visible_output_idxs\u001B[39m\u001B[38;5;124m\"\u001B[39m] \u001B[38;5;241m=\u001B[39m []\n\u001B[0;32m-> 1741\u001B[0m \u001B[38;5;28;01mreturn\u001B[39;00m inner_compile(\n\u001B[1;32m   1742\u001B[0m     gm,\n\u001B[1;32m   1743\u001B[0m     example_inputs,\n\u001B[1;32m   1744\u001B[0m     static_input_idxs\u001B[38;5;241m=\u001B[39mget_static_input_idxs(fixed),\n\u001B[1;32m   1745\u001B[0m     cudagraphs\u001B[38;5;241m=\u001B[39mcudagraphs,\n\u001B[1;32m   1746\u001B[0m     graph_id\u001B[38;5;241m=\u001B[39mgraph_id,\n\u001B[1;32m   1747\u001B[0m     is_inference\u001B[38;5;241m=\u001B[39mis_inference,\n\u001B[1;32m   1748\u001B[0m     boxed_forward_device_index\u001B[38;5;241m=\u001B[39mforward_device,\n\u001B[1;32m   1749\u001B[0m )\n",
      "File \u001B[0;32m~/miniconda3/envs/IMPACT/lib/python3.12/site-packages/torch/_inductor/compile_fx.py:569\u001B[0m, in \u001B[0;36mcompile_fx_inner\u001B[0;34m(gm, example_inputs, **kwargs)\u001B[0m\n\u001B[1;32m    562\u001B[0m stack\u001B[38;5;241m.\u001B[39menter_context(DebugContext())\n\u001B[1;32m    564\u001B[0m get_chromium_event_logger()\u001B[38;5;241m.\u001B[39madd_event_data(\n\u001B[1;32m    565\u001B[0m     \u001B[38;5;124m\"\u001B[39m\u001B[38;5;124minductor_compile\u001B[39m\u001B[38;5;124m\"\u001B[39m,\n\u001B[1;32m    566\u001B[0m     is_backward\u001B[38;5;241m=\u001B[39mkwargs[\u001B[38;5;124m\"\u001B[39m\u001B[38;5;124mis_backward\u001B[39m\u001B[38;5;124m\"\u001B[39m],\n\u001B[1;32m    567\u001B[0m )\n\u001B[0;32m--> 569\u001B[0m \u001B[38;5;28;01mreturn\u001B[39;00m wrap_compiler_debug(_compile_fx_inner, compiler_name\u001B[38;5;241m=\u001B[39m\u001B[38;5;124m\"\u001B[39m\u001B[38;5;124minductor\u001B[39m\u001B[38;5;124m\"\u001B[39m)(\n\u001B[1;32m    570\u001B[0m     gm,\n\u001B[1;32m    571\u001B[0m     example_inputs,\n\u001B[1;32m    572\u001B[0m     \u001B[38;5;241m*\u001B[39m\u001B[38;5;241m*\u001B[39mkwargs,\n\u001B[1;32m    573\u001B[0m )\n",
      "File \u001B[0;32m~/miniconda3/envs/IMPACT/lib/python3.12/site-packages/torch/_dynamo/repro/after_aot.py:102\u001B[0m, in \u001B[0;36mwrap_compiler_debug.<locals>.debug_wrapper\u001B[0;34m(gm, example_inputs, **kwargs)\u001B[0m\n\u001B[1;32m     97\u001B[0m \u001B[38;5;28;01massert\u001B[39;00m config\u001B[38;5;241m.\u001B[39mrepro_after \u001B[38;5;129;01min\u001B[39;00m (\u001B[38;5;124m\"\u001B[39m\u001B[38;5;124mdynamo\u001B[39m\u001B[38;5;124m\"\u001B[39m, \u001B[38;5;124m\"\u001B[39m\u001B[38;5;124maot\u001B[39m\u001B[38;5;124m\"\u001B[39m, \u001B[38;5;28;01mNone\u001B[39;00m)\n\u001B[1;32m     99\u001B[0m \u001B[38;5;28;01mtry\u001B[39;00m:\n\u001B[1;32m    100\u001B[0m     \u001B[38;5;66;03m# Call the compiler_fn - which is either aot_autograd or inductor\u001B[39;00m\n\u001B[1;32m    101\u001B[0m     \u001B[38;5;66;03m# with fake inputs\u001B[39;00m\n\u001B[0;32m--> 102\u001B[0m     inner_compiled_fn \u001B[38;5;241m=\u001B[39m compiler_fn(gm, example_inputs)\n\u001B[1;32m    103\u001B[0m \u001B[38;5;28;01mexcept\u001B[39;00m \u001B[38;5;167;01mException\u001B[39;00m \u001B[38;5;28;01mas\u001B[39;00m e:\n\u001B[1;32m    104\u001B[0m     \u001B[38;5;66;03m# TODO: Failures here are troublesome because no real inputs,\u001B[39;00m\n\u001B[1;32m    105\u001B[0m     \u001B[38;5;66;03m# need a different serialization strategy\u001B[39;00m\n\u001B[1;32m    106\u001B[0m     \u001B[38;5;28;01mif\u001B[39;00m config\u001B[38;5;241m.\u001B[39mrepro_after \u001B[38;5;241m==\u001B[39m \u001B[38;5;124m\"\u001B[39m\u001B[38;5;124maot\u001B[39m\u001B[38;5;124m\"\u001B[39m:\n",
      "File \u001B[0;32m~/miniconda3/envs/IMPACT/lib/python3.12/site-packages/torch/_inductor/compile_fx.py:685\u001B[0m, in \u001B[0;36m_compile_fx_inner\u001B[0;34m(gm, example_inputs, **graph_kwargs)\u001B[0m\n\u001B[1;32m    683\u001B[0m TritonBundler\u001B[38;5;241m.\u001B[39mbegin_compile()\n\u001B[1;32m    684\u001B[0m \u001B[38;5;28;01mtry\u001B[39;00m:\n\u001B[0;32m--> 685\u001B[0m     mb_compiled_graph \u001B[38;5;241m=\u001B[39m fx_codegen_and_compile(\n\u001B[1;32m    686\u001B[0m         gm, example_inputs, inputs_to_check, \u001B[38;5;241m*\u001B[39m\u001B[38;5;241m*\u001B[39mgraph_kwargs\n\u001B[1;32m    687\u001B[0m     )\n\u001B[1;32m    688\u001B[0m     \u001B[38;5;28;01massert\u001B[39;00m mb_compiled_graph \u001B[38;5;129;01mis\u001B[39;00m \u001B[38;5;129;01mnot\u001B[39;00m \u001B[38;5;28;01mNone\u001B[39;00m\n\u001B[1;32m    689\u001B[0m     mb_compiled_graph\u001B[38;5;241m.\u001B[39m_time_taken_ns \u001B[38;5;241m=\u001B[39m time\u001B[38;5;241m.\u001B[39mtime_ns() \u001B[38;5;241m-\u001B[39m start_time\n",
      "File \u001B[0;32m~/miniconda3/envs/IMPACT/lib/python3.12/site-packages/torch/_inductor/compile_fx.py:1129\u001B[0m, in \u001B[0;36mfx_codegen_and_compile\u001B[0;34m(gm, example_inputs, inputs_to_check, **graph_kwargs)\u001B[0m\n\u001B[1;32m   1119\u001B[0m \u001B[38;5;28;01mdef\u001B[39;00m\u001B[38;5;250m \u001B[39m\u001B[38;5;21mfx_codegen_and_compile\u001B[39m(\n\u001B[1;32m   1120\u001B[0m     gm: GraphModule,\n\u001B[1;32m   1121\u001B[0m     example_inputs: Sequence[InputType],\n\u001B[0;32m   (...)\u001B[0m\n\u001B[1;32m   1125\u001B[0m     \u001B[38;5;241m*\u001B[39m\u001B[38;5;241m*\u001B[39mgraph_kwargs: Unpack[_CompileFxKwargs],\n\u001B[1;32m   1126\u001B[0m ) \u001B[38;5;241m-\u001B[39m\u001B[38;5;241m>\u001B[39m OutputCode:\n\u001B[1;32m   1127\u001B[0m     scheme: FxCompile \u001B[38;5;241m=\u001B[39m _InProcessFxCompile()\n\u001B[0;32m-> 1129\u001B[0m     \u001B[38;5;28;01mreturn\u001B[39;00m scheme\u001B[38;5;241m.\u001B[39mcodegen_and_compile(gm, example_inputs, inputs_to_check, graph_kwargs)\n",
      "File \u001B[0;32m~/miniconda3/envs/IMPACT/lib/python3.12/site-packages/torch/_inductor/compile_fx.py:1044\u001B[0m, in \u001B[0;36m_InProcessFxCompile.codegen_and_compile\u001B[0;34m(self, gm, example_inputs, inputs_to_check, graph_kwargs)\u001B[0m\n\u001B[1;32m   1036\u001B[0m             compiled_fn \u001B[38;5;241m=\u001B[39m AotCodeCompiler\u001B[38;5;241m.\u001B[39mcompile(\n\u001B[1;32m   1037\u001B[0m                 graph,\n\u001B[1;32m   1038\u001B[0m                 code,\n\u001B[0;32m   (...)\u001B[0m\n\u001B[1;32m   1041\u001B[0m                 additional_files\u001B[38;5;241m=\u001B[39madditional_files,\n\u001B[1;32m   1042\u001B[0m             )\n\u001B[1;32m   1043\u001B[0m     \u001B[38;5;28;01melse\u001B[39;00m:\n\u001B[0;32m-> 1044\u001B[0m         compiled_fn \u001B[38;5;241m=\u001B[39m graph\u001B[38;5;241m.\u001B[39mcompile_to_module()\u001B[38;5;241m.\u001B[39mcall\n\u001B[1;32m   1046\u001B[0m num_bytes, nodes_num_elem, node_runtimes \u001B[38;5;241m=\u001B[39m graph\u001B[38;5;241m.\u001B[39mcount_bytes()\n\u001B[1;32m   1047\u001B[0m metrics\u001B[38;5;241m.\u001B[39mnum_bytes_accessed \u001B[38;5;241m+\u001B[39m\u001B[38;5;241m=\u001B[39m num_bytes\n",
      "File \u001B[0;32m~/miniconda3/envs/IMPACT/lib/python3.12/site-packages/torch/_inductor/graph.py:2027\u001B[0m, in \u001B[0;36mGraphLowering.compile_to_module\u001B[0;34m(self)\u001B[0m\n\u001B[1;32m   2020\u001B[0m \u001B[38;5;28;01mdef\u001B[39;00m\u001B[38;5;250m \u001B[39m\u001B[38;5;21mcompile_to_module\u001B[39m(\u001B[38;5;28mself\u001B[39m) \u001B[38;5;241m-\u001B[39m\u001B[38;5;241m>\u001B[39m ModuleType:\n\u001B[1;32m   2021\u001B[0m     \u001B[38;5;28;01mwith\u001B[39;00m dynamo_timed(\n\u001B[1;32m   2022\u001B[0m         \u001B[38;5;124m\"\u001B[39m\u001B[38;5;124mGraphLowering.compile_to_module\u001B[39m\u001B[38;5;124m\"\u001B[39m,\n\u001B[1;32m   2023\u001B[0m         phase_name\u001B[38;5;241m=\u001B[39m\u001B[38;5;124m\"\u001B[39m\u001B[38;5;124mcode_gen\u001B[39m\u001B[38;5;124m\"\u001B[39m,\n\u001B[1;32m   2024\u001B[0m         log_pt2_compile_event\u001B[38;5;241m=\u001B[39m\u001B[38;5;28;01mTrue\u001B[39;00m,\n\u001B[1;32m   2025\u001B[0m         dynamo_compile_column_us\u001B[38;5;241m=\u001B[39m\u001B[38;5;124m\"\u001B[39m\u001B[38;5;124minductor_code_gen_cumulative_compile_time_us\u001B[39m\u001B[38;5;124m\"\u001B[39m,\n\u001B[1;32m   2026\u001B[0m     ):\n\u001B[0;32m-> 2027\u001B[0m         \u001B[38;5;28;01mreturn\u001B[39;00m \u001B[38;5;28mself\u001B[39m\u001B[38;5;241m.\u001B[39m_compile_to_module()\n",
      "File \u001B[0;32m~/miniconda3/envs/IMPACT/lib/python3.12/site-packages/torch/_inductor/graph.py:2033\u001B[0m, in \u001B[0;36mGraphLowering._compile_to_module\u001B[0;34m(self)\u001B[0m\n\u001B[1;32m   2029\u001B[0m \u001B[38;5;28;01mdef\u001B[39;00m\u001B[38;5;250m \u001B[39m\u001B[38;5;21m_compile_to_module\u001B[39m(\u001B[38;5;28mself\u001B[39m) \u001B[38;5;241m-\u001B[39m\u001B[38;5;241m>\u001B[39m ModuleType:\n\u001B[1;32m   2030\u001B[0m     \u001B[38;5;28;01mfrom\u001B[39;00m\u001B[38;5;250m \u001B[39m\u001B[38;5;21;01m.\u001B[39;00m\u001B[38;5;21;01mcodecache\u001B[39;00m\u001B[38;5;250m \u001B[39m\u001B[38;5;28;01mimport\u001B[39;00m PyCodeCache\n\u001B[1;32m   2032\u001B[0m     code, linemap \u001B[38;5;241m=\u001B[39m (\n\u001B[0;32m-> 2033\u001B[0m         \u001B[38;5;28mself\u001B[39m\u001B[38;5;241m.\u001B[39mcodegen_with_cpp_wrapper() \u001B[38;5;28;01mif\u001B[39;00m \u001B[38;5;28mself\u001B[39m\u001B[38;5;241m.\u001B[39mcpp_wrapper \u001B[38;5;28;01melse\u001B[39;00m \u001B[38;5;28mself\u001B[39m\u001B[38;5;241m.\u001B[39mcodegen()\n\u001B[1;32m   2034\u001B[0m     )\n\u001B[1;32m   2035\u001B[0m     \u001B[38;5;28;01mif\u001B[39;00m config\u001B[38;5;241m.\u001B[39mtriton\u001B[38;5;241m.\u001B[39mautotune_at_compile_time:\n\u001B[1;32m   2036\u001B[0m         tuning_code \u001B[38;5;241m=\u001B[39m (\n\u001B[1;32m   2037\u001B[0m             \u001B[38;5;124m'\u001B[39m\u001B[38;5;124m\"\u001B[39m\u001B[38;5;124m\"\u001B[39m\u001B[38;5;124m\"\u001B[39m\u001B[38;5;130;01m\\n\u001B[39;00m\u001B[38;5;124m'\u001B[39m\n\u001B[1;32m   2038\u001B[0m             \u001B[38;5;241m+\u001B[39m \u001B[38;5;124m\"\u001B[39m\u001B[38;5;124mCompile-time auto-tuning block: \u001B[39m\u001B[38;5;130;01m\\n\u001B[39;00m\u001B[38;5;124m\"\u001B[39m\n\u001B[0;32m   (...)\u001B[0m\n\u001B[1;32m   2041\u001B[0m             \u001B[38;5;241m+\u001B[39m \u001B[38;5;124m'\u001B[39m\u001B[38;5;124m\"\u001B[39m\u001B[38;5;124m\"\u001B[39m\u001B[38;5;124m\"\u001B[39m\u001B[38;5;130;01m\\n\u001B[39;00m\u001B[38;5;124m'\u001B[39m\n\u001B[1;32m   2042\u001B[0m         )\n",
      "File \u001B[0;32m~/miniconda3/envs/IMPACT/lib/python3.12/site-packages/torch/_inductor/graph.py:1968\u001B[0m, in \u001B[0;36mGraphLowering.codegen\u001B[0;34m(self)\u001B[0m\n\u001B[1;32m   1965\u001B[0m V\u001B[38;5;241m.\u001B[39mdebug\u001B[38;5;241m.\u001B[39mdraw_orig_fx_graph(\u001B[38;5;28mself\u001B[39m\u001B[38;5;241m.\u001B[39morig_gm, \u001B[38;5;28mself\u001B[39m\u001B[38;5;241m.\u001B[39mscheduler\u001B[38;5;241m.\u001B[39mnodes)\n\u001B[1;32m   1967\u001B[0m \u001B[38;5;28mself\u001B[39m\u001B[38;5;241m.\u001B[39mwrapper_code\u001B[38;5;241m.\u001B[39mpush_codegened_graph(\u001B[38;5;28mself\u001B[39m)\n\u001B[0;32m-> 1968\u001B[0m \u001B[38;5;28mself\u001B[39m\u001B[38;5;241m.\u001B[39mscheduler\u001B[38;5;241m.\u001B[39mcodegen()\n\u001B[1;32m   1970\u001B[0m log\u001B[38;5;241m.\u001B[39mdebug(\n\u001B[1;32m   1971\u001B[0m     \u001B[38;5;124m\"\u001B[39m\u001B[38;5;124mFinished codegen for all nodes. The list of kernel names available: \u001B[39m\u001B[38;5;132;01m%s\u001B[39;00m\u001B[38;5;124m\"\u001B[39m,\n\u001B[1;32m   1972\u001B[0m     V\u001B[38;5;241m.\u001B[39mgraph\u001B[38;5;241m.\u001B[39mall_codegen_kernel_names,\n\u001B[1;32m   1973\u001B[0m )\n\u001B[1;32m   1975\u001B[0m result \u001B[38;5;241m=\u001B[39m \u001B[38;5;28mself\u001B[39m\u001B[38;5;241m.\u001B[39mwrapper_code\u001B[38;5;241m.\u001B[39mgenerate(\u001B[38;5;28mself\u001B[39m\u001B[38;5;241m.\u001B[39mis_inference)\n",
      "File \u001B[0;32m~/miniconda3/envs/IMPACT/lib/python3.12/site-packages/torch/_inductor/scheduler.py:3477\u001B[0m, in \u001B[0;36mScheduler.codegen\u001B[0;34m(self)\u001B[0m\n\u001B[1;32m   3475\u001B[0m \u001B[38;5;28;01mdef\u001B[39;00m\u001B[38;5;250m \u001B[39m\u001B[38;5;21mcodegen\u001B[39m(\u001B[38;5;28mself\u001B[39m) \u001B[38;5;241m-\u001B[39m\u001B[38;5;241m>\u001B[39m \u001B[38;5;28;01mNone\u001B[39;00m:\n\u001B[1;32m   3476\u001B[0m     \u001B[38;5;28;01mwith\u001B[39;00m dynamo_timed(\u001B[38;5;124m\"\u001B[39m\u001B[38;5;124mScheduler.codegen\u001B[39m\u001B[38;5;124m\"\u001B[39m):\n\u001B[0;32m-> 3477\u001B[0m         \u001B[38;5;28;01mreturn\u001B[39;00m \u001B[38;5;28mself\u001B[39m\u001B[38;5;241m.\u001B[39m_codegen()\n",
      "File \u001B[0;32m~/miniconda3/envs/IMPACT/lib/python3.12/site-packages/torch/_inductor/scheduler.py:3554\u001B[0m, in \u001B[0;36mScheduler._codegen\u001B[0;34m(self)\u001B[0m\n\u001B[1;32m   3552\u001B[0m     backend\u001B[38;5;241m.\u001B[39mcodegen_combo_kernel(node)\n\u001B[1;32m   3553\u001B[0m \u001B[38;5;28;01melif\u001B[39;00m \u001B[38;5;28misinstance\u001B[39m(node, (FusedSchedulerNode, SchedulerNode)):\n\u001B[0;32m-> 3554\u001B[0m     \u001B[38;5;28mself\u001B[39m\u001B[38;5;241m.\u001B[39mget_backend(device)\u001B[38;5;241m.\u001B[39mcodegen_node(node)\n\u001B[1;32m   3555\u001B[0m \u001B[38;5;28;01melse\u001B[39;00m:\n\u001B[1;32m   3556\u001B[0m     \u001B[38;5;28;01massert\u001B[39;00m \u001B[38;5;28misinstance\u001B[39m(node, NopKernelSchedulerNode)\n",
      "File \u001B[0;32m~/miniconda3/envs/IMPACT/lib/python3.12/site-packages/torch/_inductor/codegen/cpp.py:4777\u001B[0m, in \u001B[0;36mCppScheduling.codegen_node\u001B[0;34m(self, node)\u001B[0m\n\u001B[1;32m   4774\u001B[0m kernel_group \u001B[38;5;241m=\u001B[39m \u001B[38;5;28mself\u001B[39m\u001B[38;5;241m.\u001B[39mkernel_group\n\u001B[1;32m   4776\u001B[0m \u001B[38;5;28;01mif\u001B[39;00m \u001B[38;5;28misinstance\u001B[39m(node, OuterLoopFusedSchedulerNode):\n\u001B[0;32m-> 4777\u001B[0m     \u001B[38;5;28mself\u001B[39m\u001B[38;5;241m.\u001B[39mcodegen_outer_loop_node(node)\n\u001B[1;32m   4778\u001B[0m \u001B[38;5;28;01melse\u001B[39;00m:\n\u001B[1;32m   4779\u001B[0m     nodes: List[SchedulerNode] \u001B[38;5;241m=\u001B[39m node\u001B[38;5;241m.\u001B[39mget_nodes()  \u001B[38;5;66;03m# type: ignore[assignment]\u001B[39;00m\n",
      "File \u001B[0;32m~/miniconda3/envs/IMPACT/lib/python3.12/site-packages/torch/_inductor/codegen/cpp.py:4751\u001B[0m, in \u001B[0;36mCppScheduling.codegen_outer_loop_node\u001B[0;34m(self, node)\u001B[0m\n\u001B[1;32m   4744\u001B[0m         kernel_group\u001B[38;5;241m.\u001B[39mfinalize_kernel(\n\u001B[1;32m   4745\u001B[0m             outer_fusion_cpp_kernel_proxy,\n\u001B[1;32m   4746\u001B[0m             [_node \u001B[38;5;28;01mfor\u001B[39;00m _nodes \u001B[38;5;129;01min\u001B[39;00m nodes_list \u001B[38;5;28;01mfor\u001B[39;00m _node \u001B[38;5;129;01min\u001B[39;00m _nodes],\n\u001B[1;32m   4747\u001B[0m         )\n\u001B[1;32m   4749\u001B[0m     \u001B[38;5;28;01mreturn\u001B[39;00m \u001B[38;5;28;01mTrue\u001B[39;00m\n\u001B[0;32m-> 4751\u001B[0m \u001B[38;5;28;01mif\u001B[39;00m \u001B[38;5;129;01mnot\u001B[39;00m try_outer_loop_fusion_with_local_buf(node):\n\u001B[1;32m   4752\u001B[0m     \u001B[38;5;66;03m# Reset generated_cpp_vec_kernel_count to codegen again\u001B[39;00m\n\u001B[1;32m   4753\u001B[0m     metrics\u001B[38;5;241m.\u001B[39mgenerated_cpp_vec_kernel_count \u001B[38;5;241m=\u001B[39m generated_cpp_vec_kernel_count\n\u001B[1;32m   4754\u001B[0m     cpp_kernel_proxy_list\u001B[38;5;241m.\u001B[39mclear()\n",
      "File \u001B[0;32m~/miniconda3/envs/IMPACT/lib/python3.12/site-packages/torch/_inductor/codegen/cpp.py:4726\u001B[0m, in \u001B[0;36mCppScheduling.codegen_outer_loop_node.<locals>.try_outer_loop_fusion_with_local_buf\u001B[0;34m(node)\u001B[0m\n\u001B[1;32m   4724\u001B[0m \u001B[38;5;28;01mfor\u001B[39;00m _node \u001B[38;5;129;01min\u001B[39;00m node\u001B[38;5;241m.\u001B[39mget_outer_nodes():\n\u001B[1;32m   4725\u001B[0m     \u001B[38;5;28;01massert\u001B[39;00m \u001B[38;5;28misinstance\u001B[39m(_node, (FusedSchedulerNode, SchedulerNode))\n\u001B[0;32m-> 4726\u001B[0m     cpp_kernel_proxy \u001B[38;5;241m=\u001B[39m CppKernelProxy(kernel_group)\n\u001B[1;32m   4727\u001B[0m     cpp_kernel_proxy\u001B[38;5;241m.\u001B[39mcodegen_nodes(_node\u001B[38;5;241m.\u001B[39mget_nodes())  \u001B[38;5;66;03m# type: ignore[arg-type]\u001B[39;00m\n\u001B[1;32m   4728\u001B[0m     cpp_kernel_proxy_list\u001B[38;5;241m.\u001B[39mappend(cpp_kernel_proxy)\n",
      "File \u001B[0;32m~/miniconda3/envs/IMPACT/lib/python3.12/site-packages/torch/_inductor/codegen/cpp.py:3632\u001B[0m, in \u001B[0;36mCppKernelProxy.__init__\u001B[0;34m(self, kernel_group)\u001B[0m\n\u001B[1;32m   3630\u001B[0m \u001B[38;5;28mself\u001B[39m\u001B[38;5;241m.\u001B[39mloop_nest \u001B[38;5;241m=\u001B[39m \u001B[38;5;28;01mNone\u001B[39;00m\n\u001B[1;32m   3631\u001B[0m \u001B[38;5;28mself\u001B[39m\u001B[38;5;241m.\u001B[39mcall_ranges \u001B[38;5;241m=\u001B[39m \u001B[38;5;28;01mNone\u001B[39;00m\n\u001B[0;32m-> 3632\u001B[0m \u001B[38;5;28mself\u001B[39m\u001B[38;5;241m.\u001B[39mpicked_vec_isa: cpu_vec_isa\u001B[38;5;241m.\u001B[39mVecISA \u001B[38;5;241m=\u001B[39m cpu_vec_isa\u001B[38;5;241m.\u001B[39mpick_vec_isa()\n\u001B[1;32m   3633\u001B[0m \u001B[38;5;28mself\u001B[39m\u001B[38;5;241m.\u001B[39mkernels: List[CppKernel] \u001B[38;5;241m=\u001B[39m []\n",
      "File \u001B[0;32m~/miniconda3/envs/IMPACT/lib/python3.12/site-packages/torch/_inductor/cpu_vec_isa.py:414\u001B[0m, in \u001B[0;36mpick_vec_isa\u001B[0;34m()\u001B[0m\n\u001B[1;32m    411\u001B[0m \u001B[38;5;28;01mif\u001B[39;00m config\u001B[38;5;241m.\u001B[39mis_fbcode() \u001B[38;5;129;01mand\u001B[39;00m (platform\u001B[38;5;241m.\u001B[39mmachine() \u001B[38;5;129;01min\u001B[39;00m [\u001B[38;5;124m\"\u001B[39m\u001B[38;5;124mx86_64\u001B[39m\u001B[38;5;124m\"\u001B[39m, \u001B[38;5;124m\"\u001B[39m\u001B[38;5;124mAMD64\u001B[39m\u001B[38;5;124m\"\u001B[39m]):\n\u001B[1;32m    412\u001B[0m     \u001B[38;5;28;01mreturn\u001B[39;00m VecAVX2()\n\u001B[0;32m--> 414\u001B[0m _valid_vec_isa_list: List[VecISA] \u001B[38;5;241m=\u001B[39m valid_vec_isa_list()\n\u001B[1;32m    415\u001B[0m \u001B[38;5;28;01mif\u001B[39;00m \u001B[38;5;129;01mnot\u001B[39;00m _valid_vec_isa_list:\n\u001B[1;32m    416\u001B[0m     \u001B[38;5;28;01mreturn\u001B[39;00m invalid_vec_isa\n",
      "File \u001B[0;32m~/miniconda3/envs/IMPACT/lib/python3.12/site-packages/torch/_inductor/cpu_vec_isa.py:401\u001B[0m, in \u001B[0;36mvalid_vec_isa_list\u001B[0;34m()\u001B[0m\n\u001B[1;32m    397\u001B[0m \u001B[38;5;250m    \u001B[39m\u001B[38;5;124;03m\"\"\"\u001B[39;00m\n\u001B[1;32m    398\u001B[0m \u001B[38;5;124;03m    arch value is x86_64 on Linux, and the value is AMD64 on Windows.\u001B[39;00m\n\u001B[1;32m    399\u001B[0m \u001B[38;5;124;03m    \"\"\"\u001B[39;00m\n\u001B[1;32m    400\u001B[0m     _cpu_supported_x86_isa \u001B[38;5;241m=\u001B[39m x86_isa_checker()\n\u001B[0;32m--> 401\u001B[0m     isa_list\u001B[38;5;241m.\u001B[39mextend(\n\u001B[1;32m    402\u001B[0m         isa\n\u001B[1;32m    403\u001B[0m         \u001B[38;5;28;01mfor\u001B[39;00m isa \u001B[38;5;129;01min\u001B[39;00m supported_vec_isa_list\n\u001B[1;32m    404\u001B[0m         \u001B[38;5;28;01mif\u001B[39;00m \u001B[38;5;28mall\u001B[39m(flag \u001B[38;5;129;01min\u001B[39;00m _cpu_supported_x86_isa \u001B[38;5;28;01mfor\u001B[39;00m flag \u001B[38;5;129;01min\u001B[39;00m \u001B[38;5;28mstr\u001B[39m(isa)\u001B[38;5;241m.\u001B[39msplit()) \u001B[38;5;129;01mand\u001B[39;00m isa\n\u001B[1;32m    405\u001B[0m     )\n\u001B[1;32m    407\u001B[0m \u001B[38;5;28;01mreturn\u001B[39;00m isa_list\n",
      "File \u001B[0;32m~/miniconda3/envs/IMPACT/lib/python3.12/site-packages/torch/_inductor/cpu_vec_isa.py:404\u001B[0m, in \u001B[0;36m<genexpr>\u001B[0;34m(.0)\u001B[0m\n\u001B[1;32m    397\u001B[0m \u001B[38;5;250m    \u001B[39m\u001B[38;5;124;03m\"\"\"\u001B[39;00m\n\u001B[1;32m    398\u001B[0m \u001B[38;5;124;03m    arch value is x86_64 on Linux, and the value is AMD64 on Windows.\u001B[39;00m\n\u001B[1;32m    399\u001B[0m \u001B[38;5;124;03m    \"\"\"\u001B[39;00m\n\u001B[1;32m    400\u001B[0m     _cpu_supported_x86_isa \u001B[38;5;241m=\u001B[39m x86_isa_checker()\n\u001B[1;32m    401\u001B[0m     isa_list\u001B[38;5;241m.\u001B[39mextend(\n\u001B[1;32m    402\u001B[0m         isa\n\u001B[1;32m    403\u001B[0m         \u001B[38;5;28;01mfor\u001B[39;00m isa \u001B[38;5;129;01min\u001B[39;00m supported_vec_isa_list\n\u001B[0;32m--> 404\u001B[0m         \u001B[38;5;28;01mif\u001B[39;00m \u001B[38;5;28mall\u001B[39m(flag \u001B[38;5;129;01min\u001B[39;00m _cpu_supported_x86_isa \u001B[38;5;28;01mfor\u001B[39;00m flag \u001B[38;5;129;01min\u001B[39;00m \u001B[38;5;28mstr\u001B[39m(isa)\u001B[38;5;241m.\u001B[39msplit()) \u001B[38;5;129;01mand\u001B[39;00m isa\n\u001B[1;32m    405\u001B[0m     )\n\u001B[1;32m    407\u001B[0m \u001B[38;5;28;01mreturn\u001B[39;00m isa_list\n",
      "File \u001B[0;32m~/miniconda3/envs/IMPACT/lib/python3.12/site-packages/torch/_inductor/cpu_vec_isa.py:142\u001B[0m, in \u001B[0;36mVecISA.__bool__\u001B[0;34m(self)\u001B[0m\n\u001B[1;32m    141\u001B[0m \u001B[38;5;28;01mdef\u001B[39;00m\u001B[38;5;250m \u001B[39m\u001B[38;5;21m__bool__\u001B[39m(\u001B[38;5;28mself\u001B[39m) \u001B[38;5;241m-\u001B[39m\u001B[38;5;241m>\u001B[39m \u001B[38;5;28mbool\u001B[39m:\n\u001B[0;32m--> 142\u001B[0m     \u001B[38;5;28;01mreturn\u001B[39;00m \u001B[38;5;28mself\u001B[39m\u001B[38;5;241m.\u001B[39m__bool__impl(config\u001B[38;5;241m.\u001B[39mcpp\u001B[38;5;241m.\u001B[39mvec_isa_ok)\n",
      "File \u001B[0;32m~/miniconda3/envs/IMPACT/lib/python3.12/site-packages/torch/_inductor/cpu_vec_isa.py:152\u001B[0m, in \u001B[0;36mVecISA.__bool__impl\u001B[0;34m(self, vec_isa_ok)\u001B[0m\n\u001B[1;32m    149\u001B[0m \u001B[38;5;28;01mif\u001B[39;00m config\u001B[38;5;241m.\u001B[39mis_fbcode():\n\u001B[1;32m    150\u001B[0m     \u001B[38;5;28;01mreturn\u001B[39;00m \u001B[38;5;28;01mTrue\u001B[39;00m\n\u001B[0;32m--> 152\u001B[0m \u001B[38;5;28;01mreturn\u001B[39;00m \u001B[38;5;28mself\u001B[39m\u001B[38;5;241m.\u001B[39mcheck_build(VecISA\u001B[38;5;241m.\u001B[39m_avx_code)\n",
      "File \u001B[0;32m~/miniconda3/envs/IMPACT/lib/python3.12/site-packages/torch/_inductor/cpu_vec_isa.py:102\u001B[0m, in \u001B[0;36mVecISA.check_build\u001B[0;34m(self, code)\u001B[0m\n\u001B[1;32m     92\u001B[0m \u001B[38;5;28;01mfrom\u001B[39;00m\u001B[38;5;250m \u001B[39m\u001B[38;5;21;01mtorch\u001B[39;00m\u001B[38;5;21;01m.\u001B[39;00m\u001B[38;5;21;01m_inductor\u001B[39;00m\u001B[38;5;21;01m.\u001B[39;00m\u001B[38;5;21;01mcodecache\u001B[39;00m\u001B[38;5;250m \u001B[39m\u001B[38;5;28;01mimport\u001B[39;00m get_lock_dir, LOCK_TIMEOUT, write\n\u001B[1;32m     93\u001B[0m \u001B[38;5;28;01mfrom\u001B[39;00m\u001B[38;5;250m \u001B[39m\u001B[38;5;21;01mtorch\u001B[39;00m\u001B[38;5;21;01m.\u001B[39;00m\u001B[38;5;21;01m_inductor\u001B[39;00m\u001B[38;5;21;01m.\u001B[39;00m\u001B[38;5;21;01mcpp_builder\u001B[39;00m\u001B[38;5;250m \u001B[39m\u001B[38;5;28;01mimport\u001B[39;00m (\n\u001B[1;32m     94\u001B[0m     CppBuilder,\n\u001B[1;32m     95\u001B[0m     CppTorchOptions,\n\u001B[1;32m     96\u001B[0m     normalize_path_separator,\n\u001B[1;32m     97\u001B[0m )\n\u001B[1;32m     99\u001B[0m key, input_path \u001B[38;5;241m=\u001B[39m write(\n\u001B[1;32m    100\u001B[0m     code,\n\u001B[1;32m    101\u001B[0m     \u001B[38;5;124m\"\u001B[39m\u001B[38;5;124mcpp\u001B[39m\u001B[38;5;124m\"\u001B[39m,\n\u001B[0;32m--> 102\u001B[0m     extra\u001B[38;5;241m=\u001B[39m_get_isa_dry_compile_fingerprint(\u001B[38;5;28mself\u001B[39m\u001B[38;5;241m.\u001B[39m_arch_flags),\n\u001B[1;32m    103\u001B[0m )\n\u001B[1;32m    104\u001B[0m \u001B[38;5;28;01mfrom\u001B[39;00m\u001B[38;5;250m \u001B[39m\u001B[38;5;21;01mfilelock\u001B[39;00m\u001B[38;5;250m \u001B[39m\u001B[38;5;28;01mimport\u001B[39;00m FileLock\n\u001B[1;32m    106\u001B[0m lock_dir \u001B[38;5;241m=\u001B[39m get_lock_dir()\n",
      "File \u001B[0;32m~/miniconda3/envs/IMPACT/lib/python3.12/site-packages/torch/_inductor/cpu_vec_isa.py:28\u001B[0m, in \u001B[0;36m_get_isa_dry_compile_fingerprint\u001B[0;34m(isa_flags)\u001B[0m\n\u001B[1;32m     19\u001B[0m \u001B[38;5;28;01mdef\u001B[39;00m\u001B[38;5;250m \u001B[39m\u001B[38;5;21m_get_isa_dry_compile_fingerprint\u001B[39m(isa_flags: \u001B[38;5;28mstr\u001B[39m) \u001B[38;5;241m-\u001B[39m\u001B[38;5;241m>\u001B[39m \u001B[38;5;28mstr\u001B[39m:\n\u001B[1;32m     20\u001B[0m     \u001B[38;5;66;03m# ISA dry compile will cost about 1 sec time each startup time.\u001B[39;00m\n\u001B[1;32m     21\u001B[0m     \u001B[38;5;66;03m# Please check the issue: https://github.com/pytorch/pytorch/issues/100378\u001B[39;00m\n\u001B[0;32m   (...)\u001B[0m\n\u001B[1;32m     24\u001B[0m     \u001B[38;5;66;03m# and generated them to output binary hash path.\u001B[39;00m\n\u001B[1;32m     25\u001B[0m     \u001B[38;5;66;03m# It would optimize and skip compile existing binary.\u001B[39;00m\n\u001B[1;32m     26\u001B[0m     \u001B[38;5;28;01mfrom\u001B[39;00m\u001B[38;5;250m \u001B[39m\u001B[38;5;21;01mtorch\u001B[39;00m\u001B[38;5;21;01m.\u001B[39;00m\u001B[38;5;21;01m_inductor\u001B[39;00m\u001B[38;5;21;01m.\u001B[39;00m\u001B[38;5;21;01mcpp_builder\u001B[39;00m\u001B[38;5;250m \u001B[39m\u001B[38;5;28;01mimport\u001B[39;00m get_compiler_version_info, get_cpp_compiler\n\u001B[0;32m---> 28\u001B[0m     compiler_info \u001B[38;5;241m=\u001B[39m get_compiler_version_info(get_cpp_compiler())\n\u001B[1;32m     29\u001B[0m     torch_version \u001B[38;5;241m=\u001B[39m torch\u001B[38;5;241m.\u001B[39m__version__\n\u001B[1;32m     30\u001B[0m     fingerprint \u001B[38;5;241m=\u001B[39m \u001B[38;5;124mf\u001B[39m\u001B[38;5;124m\"\u001B[39m\u001B[38;5;132;01m{\u001B[39;00mcompiler_info\u001B[38;5;132;01m}\u001B[39;00m\u001B[38;5;124m=\u001B[39m\u001B[38;5;132;01m{\u001B[39;00misa_flags\u001B[38;5;132;01m}\u001B[39;00m\u001B[38;5;124m=\u001B[39m\u001B[38;5;132;01m{\u001B[39;00mtorch_version\u001B[38;5;132;01m}\u001B[39;00m\u001B[38;5;124m\"\u001B[39m\n",
      "File \u001B[0;32m~/miniconda3/envs/IMPACT/lib/python3.12/site-packages/torch/_inductor/cpp_builder.py:152\u001B[0m, in \u001B[0;36mget_cpp_compiler\u001B[0;34m()\u001B[0m\n\u001B[1;32m    150\u001B[0m     \u001B[38;5;28;01melse\u001B[39;00m:\n\u001B[1;32m    151\u001B[0m         search \u001B[38;5;241m=\u001B[39m (config\u001B[38;5;241m.\u001B[39mcpp\u001B[38;5;241m.\u001B[39mcxx,)\n\u001B[0;32m--> 152\u001B[0m     compiler \u001B[38;5;241m=\u001B[39m cpp_compiler_search(search)\n\u001B[1;32m    153\u001B[0m \u001B[38;5;28;01mreturn\u001B[39;00m compiler\n",
      "File \u001B[0;32m~/miniconda3/envs/IMPACT/lib/python3.12/site-packages/torch/_inductor/cpp_builder.py:94\u001B[0m, in \u001B[0;36mcpp_compiler_search\u001B[0;34m(search)\u001B[0m\n\u001B[1;32m     92\u001B[0m     \u001B[38;5;28;01mexcept\u001B[39;00m (subprocess\u001B[38;5;241m.\u001B[39mSubprocessError, \u001B[38;5;167;01mFileNotFoundError\u001B[39;00m, \u001B[38;5;167;01mImportError\u001B[39;00m):\n\u001B[1;32m     93\u001B[0m         \u001B[38;5;28;01mcontinue\u001B[39;00m\n\u001B[0;32m---> 94\u001B[0m \u001B[38;5;28;01mraise\u001B[39;00m exc\u001B[38;5;241m.\u001B[39mInvalidCxxCompiler\n",
      "\u001B[0;31mBackendCompilerFailed\u001B[0m: backend='inductor' raised:\nInvalidCxxCompiler: No working C++ compiler found in torch._inductor.config.cpp.cxx: (None, 'g++')\n\nSet TORCH_LOGS=\"+dynamo\" and TORCHDYNAMO_VERBOSE=1 for more information\n\n\nYou can suppress this exception and fall back to eager by setting:\n    import torch._dynamo\n    torch._dynamo.config.suppress_errors = True\n"
     ]
    }
   ],
   "execution_count": 47
  },
  {
   "cell_type": "code",
   "execution_count": 5,
   "id": "b1003d70-beb1-4170-9993-ee62dcff200a",
   "metadata": {},
   "outputs": [
    {
     "data": {
      "text/plain": [
       "tensor(0, device='cuda:0')"
      ]
     },
     "execution_count": 5,
     "metadata": {},
     "output_type": "execute_result"
    }
   ],
   "source": [
    "torch.sum(S.CDM.model.R!=0)"
   ]
  }
 ],
 "metadata": {
  "kernelspec": {
   "display_name": "Python 3 (ipykernel)",
   "language": "python",
   "name": "python3"
  },
  "language_info": {
   "codemirror_mode": {
    "name": "ipython",
    "version": 3
   },
   "file_extension": ".py",
   "mimetype": "text/x-python",
   "name": "python",
   "nbconvert_exporter": "python",
   "pygments_lexer": "ipython3",
   "version": "3.12.9"
  }
 },
 "nbformat": 4,
 "nbformat_minor": 5
}
