{
 "cells": [
  {
   "cell_type": "raw",
   "id": "681dc48cd241e981",
   "metadata": {},
   "source": [
    "{\n",
    " \"cells\": [\n",
    "  {\n",
    "   \"cell_type\": \"markdown\",\n",
    "   \"id\": \"3f91591122382be0\",\n",
    "   \"metadata\": {},\n",
    "   \"source\": [\n",
    "    \"# Assist0910 dataset preprocessing\\n\",\n",
    "    \"### Import\"\n",
    "   ]\n",
    "  },\n",
    "  {\n",
    "   \"cell_type\": \"code\",\n",
    "   \"id\": \"5c572fedcc3d884\",\n",
    "   \"metadata\": {\n",
    "    \"ExecuteTime\": {\n",
    "     \"end_time\": \"2025-03-20T15:07:04.451884Z\",\n",
    "     \"start_time\": \"2025-03-20T15:07:04.444887Z\"\n",
    "    }\n",
    "   },\n",
    "   \"source\": [\n",
    "    \"from os import times\\n\",\n",
    "    \"%load_ext autoreload\\n\",\n",
    "    \"%autoreload 2\"\n",
    "   ],\n",
    "   \"outputs\": [],\n",
    "   \"execution_count\": 1\n",
    "  },\n",
    "  {\n",
    "   \"cell_type\": \"code\",\n",
    "   \"id\": \"763506e3fc4c3ef3\",\n",
    "   \"metadata\": {\n",
    "    \"ExecuteTime\": {\n",
    "     \"end_time\": \"2025-03-20T15:07:06.202055Z\",\n",
    "     \"start_time\": \"2025-03-20T15:07:04.488964Z\"\n",
    "    }\n",
    "   },\n",
    "   \"source\": [\n",
    "    \"import json\\n\",\n",
    "    \"import matplotlib.pyplot as plt\\n\",\n",
    "    \"from liriscat.dataset.preprocessing_utilities import *\\n\",\n",
    "    \"from liriscat.utils import utils\\n\",\n",
    "    \"import torch\\n\",\n",
    "    \"utils.set_seed(0)\"\n",
    "   ]\n",
    "  },\n",
    "  {\n",
    "   \"cell_type\": \"markdown\",\n",
    "   \"id\": \"2c6ffc9f3b1e2e5c\",\n",
    "   \"metadata\": {},\n",
    "   \"source\": [\n",
    "    \"### Load and merge dataset\"\n",
    "   ]\n",
    "  },\n",
    "  {\n",
    "   \"cell_type\": \"code\",\n",
    "   \"id\": \"1a7130a281aaf6d8\",\n",
    "   \"metadata\": {\n",
    "    \"ExecuteTime\": {\n",
    "     \"end_time\": \"2025-03-20T15:07:07.965198Z\",\n",
    "     \"start_time\": \"2025-03-20T15:07:06.254974Z\"\n",
    "    }\n",
    "   },\n",
    "   \"source\": [\n",
    "    \"raw_data = pd.read_csv('../1-raw_data/assist0910.csv', encoding=\\\"ISO-8859-15\\\", low_memory=False)\\n\",\n",
    "    \"\\n\",\n",
    "    \"raw_data = raw_data.drop(columns=['order_id', 'assignment_id', 'assistment_id',\\n\",\n",
    "    \"       'original',  'attempt_count', 'ms_first_response', 'answer_type',\\n\",\n",
    "    \"       'tutor_mode', 'sequence_id', 'student_class_id',\\n\",\n",
    "    \"       'position', 'type', 'base_sequence_id',  'skill_name',\\n\",\n",
    "    \"       'teacher_id', 'school_id', 'hint_count', 'hint_total', 'overlap_time',\\n\",\n",
    "    \"       'template_id', 'answer_id', 'answer_text', 'first_action',\\n\",\n",
    "    \"       'bottom_hint', 'opportunity', 'opportunity_original'])\\n\",\n",
    "    \"\\n\",\n",
    "    \"raw_data =  raw_data.rename(columns={\\\"skill_id\\\": \\\"dimension_id\\\", \\\"problem_id\\\":\\\"item_id\\\"})\"\n",
    "   ],\n",
    "   \"outputs\": [],\n",
    "   \"execution_count\": 3\n",
    "  },\n",
    "  {\n",
    "   \"cell_type\": \"markdown\",\n",
    "   \"id\": \"70d36cb174851667\",\n",
    "   \"metadata\": {},\n",
    "   \"source\": [\n",
    "    \"### Split rows with several dimensions\"\n",
    "   ]\n",
    "  },\n",
    "  {\n",
    "   \"cell_type\": \"code\",\n",
    "   \"id\": \"48baada5ec363a41\",\n",
    "   \"metadata\": {\n",
    "    \"ExecuteTime\": {\n",
    "     \"end_time\": \"2025-03-20T15:07:08.062923Z\",\n",
    "     \"start_time\": \"2025-03-20T15:07:08.034450Z\"\n",
    "    }\n",
    "   },\n",
    "   \"source\": [\n",
    "    \"df_expanded = raw_data.explode('dimension_id').reset_index(drop=True)\\n\",\n",
    "    \"df_expanded.head()\"\n",
    "   ],\n",
    "   \"outputs\": [\n",
    "    {\n",
    "     \"data\": {\n",
    "      \"text/plain\": [\n",
    "       \"   user_id  item_id  correct  dimension_id\\n\",\n",
    "       \"0    64525    51424        1           1.0\\n\",\n",
    "       \"1    64525    51435        1           1.0\\n\",\n",
    "       \"2    70363    51444        0           1.0\\n\",\n",
    "       \"3    70363    51395        1           1.0\\n\",\n",
    "       \"4    70363    51481        0           1.0\"\n",
    "      ],\n",
    "      \"text/html\": [\n",
    "       \"<div>\\n\",\n",
    "       \"<style scoped>\\n\",\n",
    "       \"    .dataframe tbody tr th:only-of-type {\\n\",\n",
    "       \"        vertical-align: middle;\\n\",\n",
    "       \"    }\\n\",\n",
    "       \"\\n\",\n",
    "       \"    .dataframe tbody tr th {\\n\",\n",
    "       \"        vertical-align: top;\\n\",\n",
    "       \"    }\\n\",\n",
    "       \"\\n\",\n",
    "       \"    .dataframe thead th {\\n\",\n",
    "       \"        text-align: right;\\n\",\n",
    "       \"    }\\n\",\n",
    "       \"</style>\\n\",\n",
    "       \"<table border=\\\"1\\\" class=\\\"dataframe\\\">\\n\",\n",
    "       \"  <thead>\\n\",\n",
    "       \"    <tr style=\\\"text-align: right;\\\">\\n\",\n",
    "       \"      <th></th>\\n\",\n",
    "       \"      <th>user_id</th>\\n\",\n",
    "       \"      <th>item_id</th>\\n\",\n",
    "       \"      <th>correct</th>\\n\",\n",
    "       \"      <th>dimension_id</th>\\n\",\n",
    "       \"    </tr>\\n\",\n",
    "       \"  </thead>\\n\",\n",
    "       \"  <tbody>\\n\",\n",
    "       \"    <tr>\\n\",\n",
    "       \"      <th>0</th>\\n\",\n",
    "       \"      <td>64525</td>\\n\",\n",
    "       \"      <td>51424</td>\\n\",\n",
    "       \"      <td>1</td>\\n\",\n",
    "       \"      <td>1.0</td>\\n\",\n",
    "       \"    </tr>\\n\",\n",
    "       \"    <tr>\\n\",\n",
    "       \"      <th>1</th>\\n\",\n",
    "       \"      <td>64525</td>\\n\",\n",
    "       \"      <td>51435</td>\\n\",\n",
    "       \"      <td>1</td>\\n\",\n",
    "       \"      <td>1.0</td>\\n\",\n",
    "       \"    </tr>\\n\",\n",
    "       \"    <tr>\\n\",\n",
    "       \"      <th>2</th>\\n\",\n",
    "       \"      <td>70363</td>\\n\",\n",
    "       \"      <td>51444</td>\\n\",\n",
    "       \"      <td>0</td>\\n\",\n",
    "       \"      <td>1.0</td>\\n\",\n",
    "       \"    </tr>\\n\",\n",
    "       \"    <tr>\\n\",\n",
    "       \"      <th>3</th>\\n\",\n",
    "       \"      <td>70363</td>\\n\",\n",
    "       \"      <td>51395</td>\\n\",\n",
    "       \"      <td>1</td>\\n\",\n",
    "       \"      <td>1.0</td>\\n\",\n",
    "       \"    </tr>\\n\",\n",
    "       \"    <tr>\\n\",\n",
    "       \"      <th>4</th>\\n\",\n",
    "       \"      <td>70363</td>\\n\",\n",
    "       \"      <td>51481</td>\\n\",\n",
    "       \"      <td>0</td>\\n\",\n",
    "       \"      <td>1.0</td>\\n\",\n",
    "       \"    </tr>\\n\",\n",
    "       \"  </tbody>\\n\",\n",
    "       \"</table>\\n\",\n",
    "       \"</div>\"\n",
    "      ]\n",
    "     },\n",
    "     \"execution_count\": 4,\n",
    "     \"metadata\": {},\n",
    "     \"output_type\": \"execute_result\"\n",
    "    }\n",
    "   ],\n",
    "   \"execution_count\": 4\n",
    "  },\n",
    "  {\n",
    "   \"cell_type\": \"markdown\",\n",
    "   \"id\": \"f532d0b094164b01\",\n",
    "   \"metadata\": {},\n",
    "   \"source\": [\n",
    "    \"### Early stats\"\n",
    "   ]\n",
    "  },\n",
    "  {\n",
    "   \"cell_type\": \"code\",\n",
    "   \"id\": \"d6b0feeae63d2c54\",\n",
    "   \"metadata\": {\n",
    "    \"ExecuteTime\": {\n",
    "     \"end_time\": \"2025-03-20T15:07:08.117254Z\",\n",
    "     \"start_time\": \"2025-03-20T15:07:08.097271Z\"\n",
    "    }\n",
    "   },\n",
    "   \"source\": [\n",
    "    \"print(len(df_expanded))\\n\",\n",
    "    \"all_data = df_expanded.dropna(subset=['user_id','item_id','correct','dimension_id'])\\n\",\n",
    "    \"print(len(all_data))\"\n",
    "   ],\n",
    "   \"outputs\": [\n",
    "    {\n",
    "     \"name\": \"stdout\",\n",
    "     \"output_type\": \"stream\",\n",
    "     \"text\": [\n",
    "      \"401756\\n\",\n",
    "      \"338001\\n\"\n",
    "     ]\n",
    "    }\n",
    "   ],\n",
    "   \"execution_count\": 5\n",
    "  },\n",
    "  {\n",
    "   \"cell_type\": \"code\",\n",
    "   \"id\": \"75ad853c5e6327ab\",\n",
    "   \"metadata\": {\n",
    "    \"ExecuteTime\": {\n",
    "     \"end_time\": \"2025-03-20T15:07:08.172230Z\",\n",
    "     \"start_time\": \"2025-03-20T15:07:08.144358Z\"\n",
    "    }\n",
    "   },\n",
    "   \"source\": [\n",
    "    \"stat_unique(all_data, None)\\n\",\n",
    "    \"stat_unique(all_data, ['user_id', 'item_id'])\\n\",\n",
    "    \"stat_unique(all_data, 'user_id')\\n\",\n",
    "    \"stat_unique(all_data, 'item_id')\\n\",\n",
    "    \"stat_unique(all_data, 'dimension_id')\"\n",
    "   ],\n",
    "   \"outputs\": [\n",
    "    {\n",
    "     \"name\": \"stdout\",\n",
    "     \"output_type\": \"stream\",\n",
    "     \"text\": [\n",
    "      \"Total length: 338001\\n\",\n",
    "      \"Number of unique [user_id,item_id]: 278876\\n\",\n",
    "      \"Number of unique user_id: 4163\\n\",\n",
    "      \"Number of unique item_id: 17751\\n\",\n",
    "      \"Number of unique dimension_id: 123\\n\"\n",
    "     ]\n",
    "    }\n",
    "   ],\n",
    "   \"execution_count\": 6\n",
    "  },\n",
    "  {\n",
    "   \"cell_type\": \"markdown\",\n",
    "   \"id\": \"9d2a99907e563075\",\n",
    "   \"metadata\": {},\n",
    "   \"source\": [\n",
    "    \"### Clean Nan values\"\n",
    "   ]\n",
    "  },\n",
    "  {\n",
    "   \"cell_type\": \"code\",\n",
    "   \"id\": \"10b1e79bf17e1a46\",\n",
    "   \"metadata\": {\n",
    "    \"ExecuteTime\": {\n",
    "     \"end_time\": \"2025-03-20T15:07:08.287906Z\",\n",
    "     \"start_time\": \"2025-03-20T15:07:08.266049Z\"\n",
    "    }\n",
    "   },\n",
    "   \"source\": \"cleaned_data = all_data.dropna(subset=['user_id','item_id','dimension_id','correct'], axis='index')\",\n",
    "   \"outputs\": [],\n",
    "   \"execution_count\": 7\n",
    "  },\n",
    "  {\n",
    "   \"cell_type\": \"markdown\",\n",
    "   \"id\": \"1cf51a190511d02f\",\n",
    "   \"metadata\": {},\n",
    "   \"source\": [\n",
    "    \"### Remove duplicated user and id rows\"\n",
    "   ]\n",
    "  },\n",
    "  {\n",
    "   \"cell_type\": \"code\",\n",
    "   \"id\": \"128895437c128e14\",\n",
    "   \"metadata\": {\n",
    "    \"ExecuteTime\": {\n",
    "     \"end_time\": \"2025-03-20T15:07:08.376746Z\",\n",
    "     \"start_time\": \"2025-03-20T15:07:08.310303Z\"\n",
    "    }\n",
    "   },\n",
    "   \"source\": [\n",
    "    \"unduplicated_data = remove_duplicates(cleaned_data,key_attrs=['user_id','item_id','dimension_id'],agg_attrs=[])\"\n",
    "   ],\n",
    "   \"outputs\": [],\n",
    "   \"execution_count\": 8\n",
    "  },\n",
    "  {\n",
    "   \"cell_type\": \"markdown\",\n",
    "   \"id\": \"4a633bb837a7af3b\",\n",
    "   \"metadata\": {},\n",
    "   \"source\": [\n",
    "    \"### Filter Data\"\n",
    "   ]\n",
    "  },\n",
    "  {\n",
    "   \"cell_type\": \"code\",\n",
    "   \"id\": \"62388835388d50d8\",\n",
    "   \"metadata\": {\n",
    "    \"ExecuteTime\": {\n",
    "     \"end_time\": \"2025-03-20T15:07:09.661394Z\",\n",
    "     \"start_time\": \"2025-03-20T15:07:09.482597Z\"\n",
    "    }\n",
    "   },\n",
    "   \"source\": [\n",
    "    \"filtered_data_0 = unduplicated_data\\n\",\n",
    "    \"filtered_q_nb = 1\\n\",\n",
    "    \"filtered_u_nb = 0\\n\",\n",
    "    \"filtered_d_nb = 0\\n\",\n",
    "    \"while filtered_q_nb!=0 or filtered_u_nb!=0 or filtered_d_nb!=0 : \\n\",\n",
    "    \"    # filter items\\n\",\n",
    "    \"    filtered_data_1, filtered_q_nb = densify(filtered_data_0,'item_id','user_id',15)\\n\",\n",
    "    \"    # filter users\\n\",\n",
    "    \"    min_nb_users_logs = 25\\n\",\n",
    "    \"    filtered_data_2, filtered_u_nb = densify(filtered_data_1,'user_id','item_id',min_nb_users_logs)\\n\",\n",
    "    \"    # filter knowledges\\n\",\n",
    "    \"    filtered_data_3, filtered_d_nb = densify(filtered_data_2,'dimension_id','item_id',10)\\n\",\n",
    "    \"    filtered_data_0 = filtered_data_3\\n\",\n",
    "    \"    \\n\",\n",
    "    \"stat_unique(filtered_data_0, None)\\n\",\n",
    "    \"stat_unique(filtered_data_0, ['user_id', 'item_id'])\\n\",\n",
    "    \"stat_unique(filtered_data_0, 'user_id')\\n\",\n",
    "    \"stat_unique(filtered_data_0, 'item_id')\\n\",\n",
    "    \"stat_unique(filtered_data_0, 'dimension_id')\"\n",
    "   ],\n",
    "   \"outputs\": [\n",
    "    {\n",
    "     \"name\": \"stdout\",\n",
    "     \"output_type\": \"stream\",\n",
    "     \"text\": [\n",
    "      \"filter 11277 item_id\\n\",\n",
    "      \"filter 2389 user_id\\n\",\n",
    "      \"filter 21 dimension_id\\n\",\n",
    "      \"filter 709 item_id\\n\",\n",
    "      \"filter 100 user_id\\n\",\n",
    "      \"filter 5 dimension_id\\n\",\n",
    "      \"filter 117 item_id\\n\",\n",
    "      \"filter 16 user_id\\n\",\n",
    "      \"filter 0 dimension_id\\n\",\n",
    "      \"filter 25 item_id\\n\",\n",
    "      \"filter 1 user_id\\n\",\n",
    "      \"filter 0 dimension_id\\n\",\n",
    "      \"filter 1 item_id\\n\",\n",
    "      \"filter 0 user_id\\n\",\n",
    "      \"filter 0 dimension_id\\n\",\n",
    "      \"filter 0 item_id\\n\",\n",
    "      \"filter 0 user_id\\n\",\n",
    "      \"filter 0 dimension_id\\n\",\n",
    "      \"Total length: 207286\\n\",\n",
    "      \"Number of unique [user_id,item_id]: 172340\\n\",\n",
    "      \"Number of unique user_id: 1502\\n\",\n",
    "      \"Number of unique item_id: 5527\\n\",\n",
    "      \"Number of unique dimension_id: 63\\n\"\n",
    "     ]\n",
    "    }\n",
    "   ],\n",
    "   \"execution_count\": 9\n",
    "  },\n",
    "  {\n",
    "   \"cell_type\": \"markdown\",\n",
    "   \"id\": \"5f38b00b83903cf8\",\n",
    "   \"metadata\": {},\n",
    "   \"source\": [\n",
    "    \"### Encoding\"\n",
    "   ]\n",
    "  },\n",
    "  {\n",
    "   \"metadata\": {\n",
    "    \"ExecuteTime\": {\n",
    "     \"end_time\": \"2025-03-20T15:07:12.782150Z\",\n",
    "     \"start_time\": \"2025-03-20T15:07:10.999317Z\"\n",
    "    }\n",
    "   },\n",
    "   \"cell_type\": \"code\",\n",
    "   \"source\": [\n",
    "    \"# renumber the users\\n\",\n",
    "    \"u_enc_data, u2n = encode_attr(filtered_data_0, \\\"user_id\\\")\"\n",
    "   ],\n",
    "   \"id\": \"461aaa3f05f101f3\",\n",
    "   \"outputs\": [],\n",
    "   \"execution_count\": 10\n",
    "  },\n",
    "  {\n",
    "   \"metadata\": {\n",
    "    \"ExecuteTime\": {\n",
    "     \"end_time\": \"2025-03-20T15:07:14.632758Z\",\n",
    "     \"start_time\": \"2025-03-20T15:07:12.785974Z\"\n",
    "    }\n",
    "   },\n",
    "   \"cell_type\": \"code\",\n",
    "   \"source\": [\n",
    "    \"# renumber the items\\n\",\n",
    "    \"q_enc_data, q2n = encode_attr(u_enc_data, \\\"item_id\\\")\"\n",
    "   ],\n",
    "   \"id\": \"4ad08e7dad6b96ac\",\n",
    "   \"outputs\": [],\n",
    "   \"execution_count\": 11\n",
    "  },\n",
    "  {\n",
    "   \"metadata\": {\n",
    "    \"ExecuteTime\": {\n",
    "     \"end_time\": \"2025-03-20T15:07:16.369663Z\",\n",
    "     \"start_time\": \"2025-03-20T15:07:14.643416Z\"\n",
    "    }\n",
    "   },\n",
    "   \"cell_type\": \"code\",\n",
    "   \"source\": [\n",
    "    \"# renumber the dimensions\\n\",\n",
    "    \"d_enc_data, d2n = encode_attr(q_enc_data, \\\"dimension_id\\\")\"\n",
    "   ],\n",
    "   \"id\": \"9d3b2c3dff642633\",\n",
    "   \"outputs\": [],\n",
    "   \"execution_count\": 12\n",
    "  },\n",
    "  {\n",
    "   \"metadata\": {},\n",
    "   \"cell_type\": \"markdown\",\n",
    "   \"source\": \"### Maps creation\",\n",
    "   \"id\": \"3b9e92e115b938bd\"\n",
    "  },\n",
    "  {\n",
    "   \"metadata\": {\n",
    "    \"ExecuteTime\": {\n",
    "     \"end_time\": \"2025-03-20T15:07:16.459766Z\",\n",
    "     \"start_time\": \"2025-03-20T15:07:16.380171Z\"\n",
    "    }\n",
    "   },\n",
    "   \"cell_type\": \"code\",\n",
    "   \"source\": \"q2k, k2q = create_q2k(d_enc_data)\",\n",
    "   \"id\": \"124352496823ae86\",\n",
    "   \"outputs\": [],\n",
    "   \"execution_count\": 13\n",
    "  },\n",
    "  {\n",
    "   \"metadata\": {},\n",
    "   \"cell_type\": \"markdown\",\n",
    "   \"source\": \"### Rescaling responses\",\n",
    "   \"id\": \"d9bbf26af710c979\"\n",
    "  },\n",
    "  {\n",
    "   \"metadata\": {\n",
    "    \"ExecuteTime\": {\n",
    "     \"end_time\": \"2025-03-20T15:07:16.486357Z\",\n",
    "     \"start_time\": \"2025-03-20T15:07:16.470834Z\"\n",
    "    }\n",
    "   },\n",
    "   \"cell_type\": \"code\",\n",
    "   \"source\": [\n",
    "    \"resc_data = d_enc_data\\n\",\n",
    "    \"resc_data['correct'] = resc_data['correct'].astype(float)\\n\",\n",
    "    \"min_val = resc_data['correct'].min()\\n\",\n",
    "    \"max_val = resc_data['correct'].max()\\n\",\n",
    "    \"resc_data['correct'] = (resc_data['correct']-min_val)/(max_val-min_val) +1\\n\",\n",
    "    \"print(f'min value : {resc_data[\\\"correct\\\"].min()}, max value : {resc_data[\\\"correct\\\"].max()}')\"\n",
    "   ],\n",
    "   \"id\": \"16227ddf196496e7\",\n",
    "   \"outputs\": [\n",
    "    {\n",
    "     \"name\": \"stdout\",\n",
    "     \"output_type\": \"stream\",\n",
    "     \"text\": [\n",
    "      \"min value : 1.0, max value : 2.0\\n\"\n",
    "     ]\n",
    "    }\n",
    "   ],\n",
    "   \"execution_count\": 14\n",
    "  },\n",
    "  {\n",
    "   \"cell_type\": \"markdown\",\n",
    "   \"id\": \"d887c5e72037c54\",\n",
    "   \"metadata\": {},\n",
    "   \"source\": [\n",
    "    \"### Get final stats and create metadata\"\n",
    "   ]\n",
    "  },\n",
    "  {\n",
    "   \"cell_type\": \"code\",\n",
    "   \"id\": \"d3ce35f2a3d57db3\",\n",
    "   \"metadata\": {\n",
    "    \"ExecuteTime\": {\n",
    "     \"end_time\": \"2025-03-20T15:07:18.006022Z\",\n",
    "     \"start_time\": \"2025-03-20T15:07:17.956265Z\"\n",
    "    }\n",
    "   },\n",
    "   \"source\": [\n",
    "    \"stat_unique(resc_data, None)\\n\",\n",
    "    \"stat_unique(resc_data, ['user_id', 'item_id'])\\n\",\n",
    "    \"stat_unique(resc_data, 'user_id')\\n\",\n",
    "    \"stat_unique(resc_data, 'item_id')\\n\",\n",
    "    \"stat_unique(resc_data, 'dimension_id')\\n\",\n",
    "    \"stat_unique(resc_data, 'correct')\\n\",\n",
    "    \"\\n\",\n",
    "    \"resc_data_dim_grouped_items = resc_data.groupby(\\\"dimension_id\\\")[\\\"item_id\\\"].nunique()\\n\",\n",
    "    \"resc_data_dim_grouped_users = resc_data.groupby(\\\"dimension_id\\\")[\\\"user_id\\\"].nunique()\\n\",\n",
    "    \"print('#questions/category: {} & {} &  {}'.format(np.min(resc_data_dim_grouped_items),int(np.round(np.mean(resc_data_dim_grouped_items))),np.max(resc_data_dim_grouped_items)))\\n\",\n",
    "    \"print('#users/category: {} & {} &  {}'.format(np.min(resc_data_dim_grouped_users),int(np.round(np.mean(resc_data_dim_grouped_users))),np.max(resc_data_dim_grouped_users)))\\n\",\n",
    "    \"\\n\",\n",
    "    \"resc_data_dim_grouped_items = resc_data.groupby(\\\"item_id\\\")[\\\"dimension_id\\\"].nunique()\\n\",\n",
    "    \"resc_data_dim_grouped_users = resc_data.groupby(\\\"item_id\\\")[\\\"user_id\\\"].nunique()\\n\",\n",
    "    \"print('#categorys/question: {} & {} &  {}'.format(np.min(resc_data_dim_grouped_items),int(np.round(np.mean(resc_data_dim_grouped_items))),np.max(resc_data_dim_grouped_items)))\\n\",\n",
    "    \"print('#users/question: {} & {} &  {}'.format(np.min(resc_data_dim_grouped_users),int(np.round(np.mean(resc_data_dim_grouped_users))),np.max(resc_data_dim_grouped_users)))\\n\",\n",
    "    \"\\n\",\n",
    "    \"resc_data_dim_grouped_items = resc_data.groupby(\\\"user_id\\\")[\\\"item_id\\\"].nunique()\\n\",\n",
    "    \"resc_data_dim_grouped_users = resc_data.groupby(\\\"user_id\\\")[\\\"dimension_id\\\"].nunique()\\n\",\n",
    "    \"print('#questions/users: {} & {} &  {}'.format(np.min(resc_data_dim_grouped_items),int(np.round(np.mean(resc_data_dim_grouped_items))),np.max(resc_data_dim_grouped_items)))\\n\",\n",
    "    \"print('#categorys/users: {} & {} &  {}'.format(np.min(resc_data_dim_grouped_users),int(np.round(np.mean(resc_data_dim_grouped_users))),np.max(resc_data_dim_grouped_users)))\"\n",
    "   ],\n",
    "   \"outputs\": [\n",
    "    {\n",
    "     \"name\": \"stdout\",\n",
    "     \"output_type\": \"stream\",\n",
    "     \"text\": [\n",
    "      \"Total length: 207286\\n\",\n",
    "      \"Number of unique [user_id,item_id]: 172340\\n\",\n",
    "      \"Number of unique user_id: 1502\\n\",\n",
    "      \"Number of unique item_id: 5527\\n\",\n",
    "      \"Number of unique dimension_id: 63\\n\",\n",
    "      \"Number of unique correct: 2\\n\",\n",
    "      \"#questions/category: 10 & 107 &  516\\n\",\n",
    "      \"#users/category: 102 & 397 &  918\\n\",\n",
    "      \"#categorys/question: 1 & 1 &  4\\n\",\n",
    "      \"#users/question: 15 & 31 &  145\\n\",\n",
    "      \"#questions/users: 25 & 115 &  694\\n\",\n",
    "      \"#categorys/users: 1 & 17 &  62\\n\"\n",
    "     ]\n",
    "    }\n",
    "   ],\n",
    "   \"execution_count\": 15\n",
    "  },\n",
    "  {\n",
    "   \"cell_type\": \"code\",\n",
    "   \"id\": \"96b9fda0f0c947ba\",\n",
    "   \"metadata\": {\n",
    "    \"ExecuteTime\": {\n",
    "     \"end_time\": \"2025-03-20T15:07:21.090780Z\",\n",
    "     \"start_time\": \"2025-03-20T15:07:20.987336Z\"\n",
    "    }\n",
    "   },\n",
    "   \"source\": [\n",
    "    \"# draw a histogram of the age column\\n\",\n",
    "    \"(resc_data['correct']-1).hist(bins=20)\\n\",\n",
    "    \"\\n\",\n",
    "    \"# add labels and title\\n\",\n",
    "    \"plt.xlabel('Responses')\\n\",\n",
    "    \"plt.ylabel('Number')\\n\",\n",
    "    \"plt.title('Distribution of Responses')\\n\"\n",
    "   ],\n",
    "   \"outputs\": [\n",
    "    {\n",
    "     \"data\": {\n",
    "      \"text/plain\": [\n",
    "       \"Text(0.5, 1.0, 'Distribution of Responses')\"\n",
    "      ]\n",
    "     },\n",
    "     \"execution_count\": 16,\n",
    "     \"metadata\": {},\n",
    "     \"output_type\": \"execute_result\"\n",
    "    },\n",
    "    {\n",
    "     \"data\": {\n",
    "      \"text/plain\": [\n",
    "       \"<Figure size 640x480 with 1 Axes>\"\n",
    "      ],\n",
    "      \"image/png\": \"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\"\n",
    "     },\n",
    "     \"metadata\": {},\n",
    "     \"output_type\": \"display_data\"\n",
    "    }\n",
    "   ],\n",
    "   \"execution_count\": 16\n",
    "  },\n",
    "  {\n",
    "   \"cell_type\": \"code\",\n",
    "   \"id\": \"1420cf5a2ffcaf83\",\n",
    "   \"metadata\": {\n",
    "    \"ExecuteTime\": {\n",
    "     \"end_time\": \"2025-03-20T15:08:58.118285Z\",\n",
    "     \"start_time\": \"2025-03-20T15:08:58.085550Z\"\n",
    "    }\n",
    "   },\n",
    "   \"source\": [\n",
    "    \"resc_data_dim_grouped_items = resc_data.groupby(\\\"item_id\\\")[\\\"dimension_id\\\"].nunique()\\n\",\n",
    "    \"resc_data_dim_grouped_users = resc_data.groupby(\\\"item_id\\\")[\\\"user_id\\\"].nunique()\\n\",\n",
    "    \"metadata = get_metadata(resc_data,[\\\"user_id\\\", \\\"item_id\\\", \\\"dimension_id\\\"])\\n\",\n",
    "    \"metadata['min_nb_users_logs'] = min_nb_users_logs\\n\",\n",
    "    \"metadata['max_nb_categories_per_question'] = int(np.max(resc_data_dim_grouped_items))\"\n",
    "   ],\n",
    "   \"outputs\": [],\n",
    "   \"execution_count\": 18\n",
    "  },\n",
    "  {\n",
    "   \"cell_type\": \"markdown\",\n",
    "   \"id\": \"af2a1ef2455361fa\",\n",
    "   \"metadata\": {},\n",
    "   \"source\": [\n",
    "    \"### Save data, concept map and metadata\"\n",
    "   ]\n",
    "  },\n",
    "  {\n",
    "   \"cell_type\": \"code\",\n",
    "   \"id\": \"9314705046e62dcb\",\n",
    "   \"metadata\": {\n",
    "    \"ExecuteTime\": {\n",
    "     \"end_time\": \"2025-03-20T15:08:59.992422Z\",\n",
    "     \"start_time\": \"2025-03-20T15:08:59.858333Z\"\n",
    "    }\n",
    "   },\n",
    "   \"source\": [\n",
    "    \"# save selected data\\n\",\n",
    "    \"resc_data.to_csv('../1-raw_data/assist0910_selected_data.csv', index=False)\"\n",
    "   ],\n",
    "   \"outputs\": [],\n",
    "   \"execution_count\": 19\n",
    "  },\n",
    "  {\n",
    "   \"cell_type\": \"code\",\n",
    "   \"id\": \"d57fbdcefd9ed82\",\n",
    "   \"metadata\": {\n",
    "    \"ExecuteTime\": {\n",
    "     \"end_time\": \"2025-03-20T15:09:00.761734Z\",\n",
    "     \"start_time\": \"2025-03-20T15:09:00.742953Z\"\n",
    "    }\n",
    "   },\n",
    "   \"source\": [\n",
    "    \"# Convert int64 keys to str\\n\",\n",
    "    \"q2k_str_keys = {str(key): value for key, value in q2k.items()}\\n\",\n",
    "    \"\\n\",\n",
    "    \"# Convert sets to lists in the dictionary\\n\",\n",
    "    \"q2k_json_serializable = {}\\n\",\n",
    "    \"for key, value in q2k_str_keys.items():\\n\",\n",
    "    \"    if isinstance(value, set):\\n\",\n",
    "    \"        q2k_json_serializable[key] = list(value)\\n\",\n",
    "    \"    else:\\n\",\n",
    "    \"        q2k_json_serializable[key] = value\\n\",\n",
    "    \"\\n\",\n",
    "    \"# Save concept map\\n\",\n",
    "    \"with open('../2-preprocessed_data/assist0910_concept_map.json', 'w') as f:\\n\",\n",
    "    \"    json.dump(q2k_json_serializable, f)\"\n",
    "   ],\n",
    "   \"outputs\": [],\n",
    "   \"execution_count\": 20\n",
    "  },\n",
    "  {\n",
    "   \"cell_type\": \"code\",\n",
    "   \"id\": \"6fdbebe69540c57c\",\n",
    "   \"metadata\": {\n",
    "    \"ExecuteTime\": {\n",
    "     \"end_time\": \"2025-03-20T15:09:01.205970Z\",\n",
    "     \"start_time\": \"2025-03-20T15:09:01.192257Z\"\n",
    "    }\n",
    "   },\n",
    "   \"source\": [\n",
    "    \"# save metadata\\n\",\n",
    "    \"with open('../2-preprocessed_data/assist0910_metadata.json', 'w') as f:\\n\",\n",
    "    \"    json.dump(metadata, f)\"\n",
    "   ],\n",
    "   \"outputs\": [],\n",
    "   \"execution_count\": 21\n",
    "  },\n",
    "  {\n",
    "   \"cell_type\": \"markdown\",\n",
    "   \"id\": \"db9f1ae6fa56cfa1\",\n",
    "   \"metadata\": {},\n",
    "   \"source\": [\n",
    "    \"## parse data\"\n",
    "   ]\n",
    "  },\n",
    "  {\n",
    "   \"cell_type\": \"code\",\n",
    "   \"id\": \"3b97a578bdb0ec0b\",\n",
    "   \"metadata\": {\n",
    "    \"ExecuteTime\": {\n",
    "     \"end_time\": \"2025-03-20T15:09:02.710637Z\",\n",
    "     \"start_time\": \"2025-03-20T15:09:02.673795Z\"\n",
    "    }\n",
    "   },\n",
    "   \"source\": \"resc_data = pd.read_csv('../1-raw_data/assist0910_selected_data.csv')\",\n",
    "   \"outputs\": [],\n",
    "   \"execution_count\": 22\n",
    "  },\n",
    "  {\n",
    "   \"cell_type\": \"code\",\n",
    "   \"id\": \"664d88228a03713c\",\n",
    "   \"metadata\": {\n",
    "    \"ExecuteTime\": {\n",
    "     \"end_time\": \"2025-03-20T15:09:03.452779Z\",\n",
    "     \"start_time\": \"2025-03-20T15:09:03.413724Z\"\n",
    "    }\n",
    "   },\n",
    "   \"source\": [\n",
    "    \"# Users split\\n\",\n",
    "    \"train, valid, test = split_users(resc_data, 5)\"\n",
    "   ],\n",
    "   \"outputs\": [],\n",
    "   \"execution_count\": 23\n",
    "  },\n",
    "  {\n",
    "   \"metadata\": {},\n",
    "   \"cell_type\": \"markdown\",\n",
    "   \"source\": \"## save data\",\n",
    "   \"id\": \"eb9d52bc042dd09a\"\n",
    "  },\n",
    "  {\n",
    "   \"cell_type\": \"code\",\n",
    "   \"id\": \"2d6e135c1af1d59a\",\n",
    "   \"metadata\": {\n",
    "    \"ExecuteTime\": {\n",
    "     \"end_time\": \"2025-03-20T15:09:05.557165Z\",\n",
    "     \"start_time\": \"2025-03-20T15:09:04.670387Z\"\n",
    "    }\n",
    "   },\n",
    "   \"source\": [\n",
    "    \"for i_fold, train_fold in enumerate(train):\\n\",\n",
    "    \"    save_df_to_csv(train[i_fold], f'../2-preprocessed_data/assist0910_train_{i_fold}.csv')\\n\",\n",
    "    \"    save_df_to_csv(valid[i_fold], f'../2-preprocessed_data/assist0910_valid_{i_fold}.csv')\\n\",\n",
    "    \"    save_df_to_csv(test[i_fold], f'../2-preprocessed_data/assist0910_test_{i_fold}.csv')\"\n",
    "   ],\n",
    "   \"outputs\": [],\n",
    "   \"execution_count\": 24\n",
    "  },\n",
    "  {\n",
    "   \"metadata\": {},\n",
    "   \"cell_type\": \"code\",\n",
    "   \"outputs\": [],\n",
    "   \"execution_count\": null,\n",
    "   \"source\": \"\",\n",
    "   \"id\": \"25d2127ad3c62c24\"\n",
    "  }\n",
    " ],\n",
    " \"metadata\": {\n",
    "  \"kernelspec\": {\n",
    "   \"display_name\": \"Python 3 (ipykernel)\",\n",
    "   \"language\": \"python\",\n",
    "   \"name\": \"python3\"\n",
    "  },\n",
    "  \"language_info\": {\n",
    "   \"codemirror_mode\": {\n",
    "    \"name\": \"ipython\",\n",
    "    \"version\": 3\n",
    "   },\n",
    "   \"file_extension\": \".py\",\n",
    "   \"mimetype\": \"text/x-python\",\n",
    "   \"name\": \"python\",\n",
    "   \"nbconvert_exporter\": \"python\",\n",
    "   \"pygments_lexer\": \"ipython3\",\n",
    "   \"version\": \"3.11.9\"\n",
    "  }\n",
    " },\n",
    " \"nbformat\": 4,\n",
    " \"nbformat_minor\": 5\n",
    "}\n"
   ]
  },
  {
   "cell_type": "code",
   "execution_count": 1,
   "id": "5c572fedcc3d884",
   "metadata": {
    "ExecuteTime": {
     "end_time": "2025-04-10T09:27:13.595217Z",
     "start_time": "2025-04-10T09:27:13.555824Z"
    }
   },
   "outputs": [],
   "source": [
    "from os import times\n",
    "%load_ext autoreload\n",
    "%autoreload 2"
   ]
  },
  {
   "cell_type": "code",
   "execution_count": 2,
   "id": "763506e3fc4c3ef3",
   "metadata": {
    "ExecuteTime": {
     "end_time": "2025-04-10T09:27:16.344249Z",
     "start_time": "2025-04-10T09:27:13.611163Z"
    }
   },
   "outputs": [
    {
     "name": "stdout",
     "output_type": "stream",
     "text": [
      "CUDA is not available. Skipping CUDA seed setting.\n"
     ]
    }
   ],
   "source": [
    "import json\n",
    "import matplotlib.pyplot as plt\n",
    "from liriscat.dataset.preprocessing_utilities import *\n",
    "from liriscat.utils import *\n",
    "utils.set_seed(0)"
   ]
  },
  {
   "cell_type": "markdown",
   "id": "2c6ffc9f3b1e2e5c",
   "metadata": {},
   "source": [
    "### Load and merge dataset"
   ]
  },
  {
   "cell_type": "code",
   "execution_count": 3,
   "id": "1a7130a281aaf6d8",
   "metadata": {
    "ExecuteTime": {
     "end_time": "2025-04-01T14:12:21.659998Z",
     "start_time": "2025-04-01T14:12:18.108598Z"
    }
   },
   "outputs": [],
   "source": [
    "raw_data = pd.read_csv('../1-raw_data/assist0910.csv', encoding=\"ISO-8859-15\", low_memory=False)\n",
    "\n",
    "raw_data = raw_data.drop(columns=['order_id', 'assignment_id', 'assistment_id',\n",
    "       'original',  'attempt_count', 'ms_first_response', 'answer_type',\n",
    "       'tutor_mode', 'sequence_id', 'student_class_id',\n",
    "       'position', 'type', 'base_sequence_id',  'skill_name',\n",
    "       'teacher_id', 'school_id', 'hint_count', 'hint_total', 'overlap_time',\n",
    "       'template_id', 'answer_id', 'answer_text', 'first_action',\n",
    "       'bottom_hint', 'opportunity', 'opportunity_original'])\n",
    "\n",
    "raw_data =  raw_data.rename(columns={\"skill_id\": \"dimension_id\", \"problem_id\":\"item_id\"})"
   ]
  },
  {
   "cell_type": "markdown",
   "id": "70d36cb174851667",
   "metadata": {},
   "source": [
    "### Split rows with several dimensions"
   ]
  },
  {
   "cell_type": "code",
   "execution_count": 4,
   "id": "48baada5ec363a41",
   "metadata": {
    "ExecuteTime": {
     "end_time": "2025-04-01T14:12:21.836048Z",
     "start_time": "2025-04-01T14:12:21.785535Z"
    }
   },
   "outputs": [
    {
     "data": {
      "text/html": [
       "<div>\n",
       "<style scoped>\n",
       "    .dataframe tbody tr th:only-of-type {\n",
       "        vertical-align: middle;\n",
       "    }\n",
       "\n",
       "    .dataframe tbody tr th {\n",
       "        vertical-align: top;\n",
       "    }\n",
       "\n",
       "    .dataframe thead th {\n",
       "        text-align: right;\n",
       "    }\n",
       "</style>\n",
       "<table border=\"1\" class=\"dataframe\">\n",
       "  <thead>\n",
       "    <tr style=\"text-align: right;\">\n",
       "      <th></th>\n",
       "      <th>user_id</th>\n",
       "      <th>item_id</th>\n",
       "      <th>correct</th>\n",
       "      <th>dimension_id</th>\n",
       "    </tr>\n",
       "  </thead>\n",
       "  <tbody>\n",
       "    <tr>\n",
       "      <th>0</th>\n",
       "      <td>64525</td>\n",
       "      <td>51424</td>\n",
       "      <td>1</td>\n",
       "      <td>1.0</td>\n",
       "    </tr>\n",
       "    <tr>\n",
       "      <th>1</th>\n",
       "      <td>64525</td>\n",
       "      <td>51435</td>\n",
       "      <td>1</td>\n",
       "      <td>1.0</td>\n",
       "    </tr>\n",
       "    <tr>\n",
       "      <th>2</th>\n",
       "      <td>70363</td>\n",
       "      <td>51444</td>\n",
       "      <td>0</td>\n",
       "      <td>1.0</td>\n",
       "    </tr>\n",
       "    <tr>\n",
       "      <th>3</th>\n",
       "      <td>70363</td>\n",
       "      <td>51395</td>\n",
       "      <td>1</td>\n",
       "      <td>1.0</td>\n",
       "    </tr>\n",
       "    <tr>\n",
       "      <th>4</th>\n",
       "      <td>70363</td>\n",
       "      <td>51481</td>\n",
       "      <td>0</td>\n",
       "      <td>1.0</td>\n",
       "    </tr>\n",
       "  </tbody>\n",
       "</table>\n",
       "</div>"
      ],
      "text/plain": [
       "   user_id  item_id  correct  dimension_id\n",
       "0    64525    51424        1           1.0\n",
       "1    64525    51435        1           1.0\n",
       "2    70363    51444        0           1.0\n",
       "3    70363    51395        1           1.0\n",
       "4    70363    51481        0           1.0"
      ]
     },
     "execution_count": 4,
     "metadata": {},
     "output_type": "execute_result"
    }
   ],
   "source": [
    "df_expanded = raw_data.explode('dimension_id').reset_index(drop=True)\n",
    "df_expanded.head()"
   ]
  },
  {
   "cell_type": "markdown",
   "id": "f532d0b094164b01",
   "metadata": {},
   "source": [
    "### Early stats"
   ]
  },
  {
   "cell_type": "code",
   "execution_count": 5,
   "id": "d6b0feeae63d2c54",
   "metadata": {
    "ExecuteTime": {
     "end_time": "2025-04-01T14:12:21.912779Z",
     "start_time": "2025-04-01T14:12:21.883984Z"
    }
   },
   "outputs": [
    {
     "name": "stdout",
     "output_type": "stream",
     "text": [
      "401756\n",
      "338001\n"
     ]
    }
   ],
   "source": [
    "print(len(df_expanded))\n",
    "all_data = df_expanded.dropna(subset=['user_id','item_id','correct','dimension_id'])\n",
    "print(len(all_data))"
   ]
  },
  {
   "cell_type": "code",
   "execution_count": 6,
   "id": "75ad853c5e6327ab",
   "metadata": {
    "ExecuteTime": {
     "end_time": "2025-04-01T14:12:22.036453Z",
     "start_time": "2025-04-01T14:12:21.973491Z"
    }
   },
   "outputs": [
    {
     "name": "stdout",
     "output_type": "stream",
     "text": [
      "Total length: 338001\n",
      "Number of unique [user_id,item_id]: 278876\n",
      "Number of unique user_id: 4163\n",
      "Number of unique item_id: 17751\n",
      "Number of unique dimension_id: 123\n"
     ]
    }
   ],
   "source": [
    "stat_unique(all_data, None)\n",
    "stat_unique(all_data, ['user_id', 'item_id'])\n",
    "stat_unique(all_data, 'user_id')\n",
    "stat_unique(all_data, 'item_id')\n",
    "stat_unique(all_data, 'dimension_id')"
   ]
  },
  {
   "cell_type": "markdown",
   "id": "9d2a99907e563075",
   "metadata": {},
   "source": [
    "### Clean Nan values"
   ]
  },
  {
   "cell_type": "code",
   "execution_count": 7,
   "id": "10b1e79bf17e1a46",
   "metadata": {
    "ExecuteTime": {
     "end_time": "2025-04-01T14:12:22.094637Z",
     "start_time": "2025-04-01T14:12:22.068495Z"
    }
   },
   "outputs": [],
   "source": [
    "cleaned_data = all_data.dropna(subset=['user_id','item_id','dimension_id','correct'], axis='index')"
   ]
  },
  {
   "cell_type": "markdown",
   "id": "1cf51a190511d02f",
   "metadata": {},
   "source": [
    "### Remove duplicated user and id rows"
   ]
  },
  {
   "cell_type": "code",
   "execution_count": 8,
   "id": "128895437c128e14",
   "metadata": {
    "ExecuteTime": {
     "end_time": "2025-04-01T14:12:22.236347Z",
     "start_time": "2025-04-01T14:12:22.115099Z"
    }
   },
   "outputs": [],
   "source": [
    "unduplicated_data = remove_duplicates(cleaned_data,key_attrs=['user_id','item_id','dimension_id'],agg_attrs=[])"
   ]
  },
  {
   "cell_type": "markdown",
   "id": "4a633bb837a7af3b",
   "metadata": {},
   "source": [
    "### Filter Data"
   ]
  },
  {
   "cell_type": "code",
   "execution_count": 9,
   "id": "62388835388d50d8",
   "metadata": {
    "ExecuteTime": {
     "end_time": "2025-04-01T14:12:22.602334Z",
     "start_time": "2025-04-01T14:12:22.256857Z"
    }
   },
   "outputs": [
    {
     "name": "stdout",
     "output_type": "stream",
     "text": [
      "filter 11277 item_id\n",
      "filter 2389 user_id\n",
      "filter 21 dimension_id\n",
      "filter 709 item_id\n",
      "filter 100 user_id\n",
      "filter 5 dimension_id\n",
      "filter 117 item_id\n",
      "filter 16 user_id\n",
      "filter 0 dimension_id\n",
      "filter 25 item_id\n",
      "filter 1 user_id\n",
      "filter 0 dimension_id\n",
      "filter 1 item_id\n",
      "filter 0 user_id\n",
      "filter 0 dimension_id\n",
      "filter 0 item_id\n",
      "filter 0 user_id\n",
      "filter 0 dimension_id\n",
      "Total length: 207286\n",
      "Number of unique [user_id,item_id]: 172340\n",
      "Number of unique user_id: 1502\n",
      "Number of unique item_id: 5527\n",
      "Number of unique dimension_id: 63\n"
     ]
    }
   ],
   "source": [
    "filtered_data_0 = unduplicated_data\n",
    "filtered_q_nb = 1\n",
    "filtered_u_nb = 0\n",
    "filtered_d_nb = 0\n",
    "while filtered_q_nb!=0 or filtered_u_nb!=0 or filtered_d_nb!=0 : \n",
    "    # filter items\n",
    "    filtered_data_1, filtered_q_nb = densify(filtered_data_0,'item_id','user_id',15)\n",
    "    # filter users\n",
    "    min_nb_users_logs = 25\n",
    "    filtered_data_2, filtered_u_nb = densify(filtered_data_1,'user_id','item_id',min_nb_users_logs)\n",
    "    # filter knowledges\n",
    "    filtered_data_3, filtered_d_nb = densify(filtered_data_2,'dimension_id','item_id',10)\n",
    "    filtered_data_0 = filtered_data_3\n",
    "    \n",
    "stat_unique(filtered_data_0, None)\n",
    "stat_unique(filtered_data_0, ['user_id', 'item_id'])\n",
    "stat_unique(filtered_data_0, 'user_id')\n",
    "stat_unique(filtered_data_0, 'item_id')\n",
    "stat_unique(filtered_data_0, 'dimension_id')"
   ]
  },
  {
   "cell_type": "markdown",
   "id": "5f38b00b83903cf8",
   "metadata": {},
   "source": [
    "### Encoding"
   ]
  },
  {
   "cell_type": "code",
   "execution_count": 10,
   "id": "461aaa3f05f101f3",
   "metadata": {
    "ExecuteTime": {
     "end_time": "2025-04-01T14:12:27.900625Z",
     "start_time": "2025-04-01T14:12:22.622221Z"
    }
   },
   "outputs": [],
   "source": [
    "# renumber the users\n",
    "u_enc_data, u2n = encode_attr(filtered_data_0, \"user_id\")"
   ]
  },
  {
   "cell_type": "code",
   "execution_count": 11,
   "id": "4ad08e7dad6b96ac",
   "metadata": {
    "ExecuteTime": {
     "end_time": "2025-04-01T14:12:33.222606Z",
     "start_time": "2025-04-01T14:12:27.929156Z"
    }
   },
   "outputs": [],
   "source": [
    "# renumber the items\n",
    "q_enc_data, q2n = encode_attr(u_enc_data, \"item_id\")"
   ]
  },
  {
   "cell_type": "code",
   "execution_count": 26,
   "id": "9d3b2c3dff642633",
   "metadata": {
    "ExecuteTime": {
     "end_time": "2025-04-01T14:33:07.114092Z",
     "start_time": "2025-04-01T14:33:01.603733Z"
    }
   },
   "outputs": [],
   "source": [
    "# renumber the dimensions\n",
    "d_enc_data, d2n = encode_attr(q_enc_data, \"dimension_id\")"
   ]
  },
  {
   "cell_type": "markdown",
   "id": "3b9e92e115b938bd",
   "metadata": {},
   "source": [
    "### Maps creation"
   ]
  },
  {
   "cell_type": "code",
   "execution_count": 27,
   "id": "124352496823ae86",
   "metadata": {
    "ExecuteTime": {
     "end_time": "2025-04-01T14:33:07.326598Z",
     "start_time": "2025-04-01T14:33:07.120634Z"
    }
   },
   "outputs": [],
   "source": [
    "q2k, k2q = create_q2k(d_enc_data)"
   ]
  },
  {
   "cell_type": "markdown",
   "id": "d9bbf26af710c979",
   "metadata": {},
   "source": [
    "### Rescaling responses"
   ]
  },
  {
   "cell_type": "code",
   "execution_count": 28,
   "id": "16227ddf196496e7",
   "metadata": {
    "ExecuteTime": {
     "end_time": "2025-04-01T14:33:07.373178Z",
     "start_time": "2025-04-01T14:33:07.349978Z"
    }
   },
   "outputs": [
    {
     "name": "stdout",
     "output_type": "stream",
     "text": [
      "min value : 1.0, max value : 2.0\n"
     ]
    }
   ],
   "source": [
    "resc_data = d_enc_data\n",
    "resc_data['correct'] = resc_data['correct'].astype(float)\n",
    "min_val = resc_data['correct'].min()\n",
    "max_val = resc_data['correct'].max()\n",
    "resc_data['correct'] = (resc_data['correct']-min_val)/(max_val-min_val) +1\n",
    "print(f'min value : {resc_data[\"correct\"].min()}, max value : {resc_data[\"correct\"].max()}')"
   ]
  },
  {
   "cell_type": "markdown",
   "id": "d887c5e72037c54",
   "metadata": {},
   "source": [
    "### Get final stats and create metadata"
   ]
  },
  {
   "cell_type": "code",
   "execution_count": 29,
   "id": "d3ce35f2a3d57db3",
   "metadata": {
    "ExecuteTime": {
     "end_time": "2025-04-01T14:33:07.521279Z",
     "start_time": "2025-04-01T14:33:07.396643Z"
    }
   },
   "outputs": [
    {
     "name": "stdout",
     "output_type": "stream",
     "text": [
      "Total length: 207286\n",
      "Number of unique [user_id,item_id]: 172340\n",
      "Number of unique user_id: 1502\n",
      "Number of unique item_id: 5527\n",
      "Number of unique dimension_id: 63\n",
      "Number of unique correct: 2\n",
      "#questions/category: 10 & 107 &  516\n",
      "#users/category: 102 & 397 &  918\n",
      "#categorys/question: 1 & 1 &  4\n",
      "#users/question: 15 & 31 &  145\n",
      "#questions/users: 25 & 115 &  694\n",
      "#categorys/users: 1 & 17 &  62\n"
     ]
    }
   ],
   "source": [
    "stat_unique(resc_data, None)\n",
    "stat_unique(resc_data, ['user_id', 'item_id'])\n",
    "stat_unique(resc_data, 'user_id')\n",
    "stat_unique(resc_data, 'item_id')\n",
    "stat_unique(resc_data, 'dimension_id')\n",
    "stat_unique(resc_data, 'correct')\n",
    "\n",
    "resc_data_dim_grouped_items = resc_data.groupby(\"dimension_id\")[\"item_id\"].nunique()\n",
    "resc_data_dim_grouped_users = resc_data.groupby(\"dimension_id\")[\"user_id\"].nunique()\n",
    "print('#questions/category: {} & {} &  {}'.format(np.min(resc_data_dim_grouped_items),int(np.round(np.mean(resc_data_dim_grouped_items))),np.max(resc_data_dim_grouped_items)))\n",
    "print('#users/category: {} & {} &  {}'.format(np.min(resc_data_dim_grouped_users),int(np.round(np.mean(resc_data_dim_grouped_users))),np.max(resc_data_dim_grouped_users)))\n",
    "\n",
    "resc_data_dim_grouped_items = resc_data.groupby(\"item_id\")[\"dimension_id\"].nunique()\n",
    "resc_data_dim_grouped_users = resc_data.groupby(\"item_id\")[\"user_id\"].nunique()\n",
    "print('#categorys/question: {} & {} &  {}'.format(np.min(resc_data_dim_grouped_items),int(np.round(np.mean(resc_data_dim_grouped_items))),np.max(resc_data_dim_grouped_items)))\n",
    "print('#users/question: {} & {} &  {}'.format(np.min(resc_data_dim_grouped_users),int(np.round(np.mean(resc_data_dim_grouped_users))),np.max(resc_data_dim_grouped_users)))\n",
    "\n",
    "resc_data_dim_grouped_items = resc_data.groupby(\"user_id\")[\"item_id\"].nunique()\n",
    "resc_data_dim_grouped_users = resc_data.groupby(\"user_id\")[\"dimension_id\"].nunique()\n",
    "print('#questions/users: {} & {} &  {}'.format(np.min(resc_data_dim_grouped_items),int(np.round(np.mean(resc_data_dim_grouped_items))),np.max(resc_data_dim_grouped_items)))\n",
    "print('#categorys/users: {} & {} &  {}'.format(np.min(resc_data_dim_grouped_users),int(np.round(np.mean(resc_data_dim_grouped_users))),np.max(resc_data_dim_grouped_users)))"
   ]
  },
  {
   "cell_type": "code",
   "execution_count": 30,
   "id": "96b9fda0f0c947ba",
   "metadata": {
    "ExecuteTime": {
     "end_time": "2025-04-01T14:33:07.825978Z",
     "start_time": "2025-04-01T14:33:07.581676Z"
    }
   },
   "outputs": [
    {
     "data": {
      "text/plain": [
       "Text(0.5, 1.0, 'Distribution of Responses')"
      ]
     },
     "execution_count": 30,
     "metadata": {},
     "output_type": "execute_result"
    },
    {
     "data": {
      "image/png": "[encoded data removed]",
      "text/plain": [
       "<Figure size 640x480 with 1 Axes>"
      ]
     },
     "metadata": {},
     "output_type": "display_data"
    }
   ],
   "source": [
    "# draw a histogram of the age column\n",
    "(resc_data['correct']-1).hist(bins=20)\n",
    "\n",
    "# add labels and title\n",
    "plt.xlabel('Responses')\n",
    "plt.ylabel('Number')\n",
    "plt.title('Distribution of Responses')\n"
   ]
  },
  {
   "cell_type": "code",
   "execution_count": 31,
   "id": "1420cf5a2ffcaf83",
   "metadata": {
    "ExecuteTime": {
     "end_time": "2025-04-01T14:33:07.897823Z",
     "start_time": "2025-04-01T14:33:07.852817Z"
    }
   },
   "outputs": [],
   "source": [
    "resc_data_dim_grouped_items = resc_data.groupby(\"item_id\")[\"dimension_id\"].nunique()\n",
    "resc_data_dim_grouped_users = resc_data.groupby(\"item_id\")[\"user_id\"].nunique()\n",
    "metadata = get_metadata(resc_data,[\"user_id\", \"item_id\", \"dimension_id\"])\n",
    "metadata['min_nb_users_logs'] = min_nb_users_logs\n",
    "metadata['max_nb_categories_per_question'] = int(np.max(resc_data_dim_grouped_items))"
   ]
  },
  {
   "cell_type": "markdown",
   "id": "af2a1ef2455361fa",
   "metadata": {},
   "source": [
    "### Save data, concept map and metadata"
   ]
  },
  {
   "cell_type": "code",
   "execution_count": 33,
   "id": "884f3fb7cfa60bbb",
   "metadata": {
    "ExecuteTime": {
     "end_time": "2025-04-01T14:34:40.355583Z",
     "start_time": "2025-04-01T14:34:40.316997Z"
    }
   },
   "outputs": [],
   "source": [
    "new_order = ['user_id','item_id', 'correct', 'dimension_id']\n",
    "resc_data = resc_data[new_order]"
   ]
  },
  {
   "cell_type": "code",
   "execution_count": 34,
   "id": "9314705046e62dcb",
   "metadata": {
    "ExecuteTime": {
     "end_time": "2025-04-01T14:34:41.357744Z",
     "start_time": "2025-04-01T14:34:41.086882Z"
    }
   },
   "outputs": [],
   "source": [
    "# save selected data\n",
    "resc_data.to_csv('../1-raw_data/assist0910_selected_data.csv', index=False)"
   ]
  },
  {
   "cell_type": "code",
   "execution_count": 35,
   "id": "d57fbdcefd9ed82",
   "metadata": {
    "ExecuteTime": {
     "end_time": "2025-04-01T14:34:41.521074Z",
     "start_time": "2025-04-01T14:34:41.475093Z"
    }
   },
   "outputs": [],
   "source": [
    "# Convert int64 keys to str\n",
    "q2k_str_keys = {str(key): value for key, value in q2k.items()}\n",
    "\n",
    "# Convert sets to lists in the dictionary\n",
    "q2k_json_serializable = {}\n",
    "for key, value in q2k_str_keys.items():\n",
    "    if isinstance(value, set):\n",
    "        q2k_json_serializable[key] = list(value)\n",
    "    else:\n",
    "        q2k_json_serializable[key] = value\n",
    "\n",
    "# Save concept map\n",
    "with open('../2-preprocessed_data/assist0910_concept_map.json', 'w') as f:\n",
    "    json.dump(q2k_json_serializable, f)"
   ]
  },
  {
   "cell_type": "code",
   "execution_count": 36,
   "id": "6fdbebe69540c57c",
   "metadata": {
    "ExecuteTime": {
     "end_time": "2025-04-01T14:34:41.904850Z",
     "start_time": "2025-04-01T14:34:41.870952Z"
    }
   },
   "outputs": [],
   "source": [
    "# save metadata\n",
    "with open('../2-preprocessed_data/assist0910_metadata.json', 'w') as f:\n",
    "    json.dump(metadata, f)"
   ]
  },
  {
   "cell_type": "markdown",
   "id": "db9f1ae6fa56cfa1",
   "metadata": {},
   "source": [
    "## parse data"
   ]
  },
  {
   "cell_type": "code",
   "execution_count": 37,
   "id": "3b97a578bdb0ec0b",
   "metadata": {
    "ExecuteTime": {
     "end_time": "2025-04-01T14:34:43.056019Z",
     "start_time": "2025-04-01T14:34:42.970211Z"
    }
   },
   "outputs": [],
   "source": [
    "resc_data = pd.read_csv('../1-raw_data/assist0910_selected_data.csv')"
   ]
  },
  {
   "cell_type": "code",
   "execution_count": 38,
   "id": "664d88228a03713c",
   "metadata": {
    "ExecuteTime": {
     "end_time": "2025-04-01T14:34:43.493140Z",
     "start_time": "2025-04-01T14:34:43.408248Z"
    }
   },
   "outputs": [],
   "source": [
    "# Users split\n",
    "train, valid, test = split_users(resc_data, 5)"
   ]
  },
  {
   "cell_type": "markdown",
   "id": "eb9d52bc042dd09a",
   "metadata": {},
   "source": [
    "## save data"
   ]
  },
  {
   "cell_type": "code",
   "execution_count": 39,
   "id": "2d6e135c1af1d59a",
   "metadata": {
    "ExecuteTime": {
     "end_time": "2025-04-01T14:34:46.061074Z",
     "start_time": "2025-04-01T14:34:44.836934Z"
    }
   },
   "outputs": [],
   "source": [
    "for i_fold, train_fold in enumerate(train):\n",
    "    save_df_to_csv(train[i_fold], f'../2-preprocessed_data/assist0910_train_{i_fold}.csv')\n",
    "    save_df_to_csv(valid[i_fold], f'../2-preprocessed_data/assist0910_valid_{i_fold}.csv')\n",
    "    save_df_to_csv(test[i_fold], f'../2-preprocessed_data/assist0910_test_{i_fold}.csv')"
   ]
  }
 ],
 "metadata": {
  "kernelspec": {
   "display_name": "Python 3 (ipykernel)",
   "language": "python",
   "name": "python3"
  },
  "language_info": {
   "codemirror_mode": {
    "name": "ipython",
    "version": 3
   },
   "file_extension": ".py",
   "mimetype": "text/x-python",
   "name": "python",
   "nbconvert_exporter": "python",
   "pygments_lexer": "ipython3",
   "version": "3.12.9"
  }
 },
 "nbformat": 4,
 "nbformat_minor": 5
}
