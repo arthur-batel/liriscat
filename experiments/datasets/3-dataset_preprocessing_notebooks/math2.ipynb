{
 "cells": [
  {
   "cell_type": "markdown",
   "id": "3f91591122382be0",
   "metadata": {},
   "source": [
    "# Math2 dataset preprocessing\n",
    "### Import"
   ]
  },
  {
   "cell_type": "code",
   "execution_count": 1,
   "id": "5c572fedcc3d884",
   "metadata": {
    "ExecuteTime": {
     "end_time": "2025-05-13T11:37:05.762065Z",
     "start_time": "2025-05-13T11:37:05.732670Z"
    }
   },
   "outputs": [],
   "source": [
    "%load_ext autoreload\n",
    "%autoreload 2"
   ]
  },
  {
   "cell_type": "code",
   "execution_count": 2,
   "id": "763506e3fc4c3ef3",
   "metadata": {
    "ExecuteTime": {
     "end_time": "2025-05-13T11:37:09.762200Z",
     "start_time": "2025-05-13T11:37:05.777165Z"
    }
   },
   "outputs": [],
   "source": [
    "import json\n",
    "import pandas as pd\n",
    "import numpy as np\n",
    "from liriscat.dataset.preprocessing_utilities import *\n",
    "from liriscat.utils import utils\n",
    "import torch\n",
    "utils.set_seed(0)"
   ]
  },
  {
   "cell_type": "markdown",
   "id": "2c6ffc9f3b1e2e5c",
   "metadata": {},
   "source": [
    "### Load and merge dataset"
   ]
  },
  {
   "cell_type": "code",
   "execution_count": 3,
   "id": "eae9427ff89ef0a3",
   "metadata": {
    "ExecuteTime": {
     "end_time": "2025-05-13T11:37:10.008474Z",
     "start_time": "2025-05-13T11:37:09.879038Z"
    }
   },
   "outputs": [
    {
     "data": {
      "application/vnd.microsoft.datawrangler.viewer.v0+json": {
       "columns": [
        {
         "name": "index",
         "rawType": "int64",
         "type": "integer"
        },
        {
         "name": "dimension_id",
         "rawType": "object",
         "type": "string"
        },
        {
         "name": "user_id",
         "rawType": "int64",
         "type": "integer"
        },
        {
         "name": "item_id",
         "rawType": "int64",
         "type": "integer"
        },
        {
         "name": "correct",
         "rawType": "float64",
         "type": "float"
        }
       ],
       "ref": "7e2b3ff8-007a-4319-bebe-98e0275f8d50",
       "rows": [
        [
         "0",
         "{0, 13, 14}",
         "0",
         "0",
         "1.0"
        ],
        [
         "1",
         "{1, 12}",
         "0",
         "1",
         "0.0"
        ],
        [
         "2",
         "{11, 2, 3, 14}",
         "0",
         "2",
         "0.0"
        ],
        [
         "3",
         "{11, 4, 14}",
         "0",
         "3",
         "0.0"
        ],
        [
         "4",
         "{11, 4, 13, 14}",
         "0",
         "4",
         "1.0"
        ]
       ],
       "shape": {
        "columns": 4,
        "rows": 5
       }
      },
      "text/html": [
       "<div>\n",
       "<style scoped>\n",
       "    .dataframe tbody tr th:only-of-type {\n",
       "        vertical-align: middle;\n",
       "    }\n",
       "\n",
       "    .dataframe tbody tr th {\n",
       "        vertical-align: top;\n",
       "    }\n",
       "\n",
       "    .dataframe thead th {\n",
       "        text-align: right;\n",
       "    }\n",
       "</style>\n",
       "<table border=\"1\" class=\"dataframe\">\n",
       "  <thead>\n",
       "    <tr style=\"text-align: right;\">\n",
       "      <th></th>\n",
       "      <th>dimension_id</th>\n",
       "      <th>user_id</th>\n",
       "      <th>item_id</th>\n",
       "      <th>correct</th>\n",
       "    </tr>\n",
       "  </thead>\n",
       "  <tbody>\n",
       "    <tr>\n",
       "      <th>0</th>\n",
       "      <td>{0, 13, 14}</td>\n",
       "      <td>0</td>\n",
       "      <td>0</td>\n",
       "      <td>1.0</td>\n",
       "    </tr>\n",
       "    <tr>\n",
       "      <th>1</th>\n",
       "      <td>{1, 12}</td>\n",
       "      <td>0</td>\n",
       "      <td>1</td>\n",
       "      <td>0.0</td>\n",
       "    </tr>\n",
       "    <tr>\n",
       "      <th>2</th>\n",
       "      <td>{11, 2, 3, 14}</td>\n",
       "      <td>0</td>\n",
       "      <td>2</td>\n",
       "      <td>0.0</td>\n",
       "    </tr>\n",
       "    <tr>\n",
       "      <th>3</th>\n",
       "      <td>{11, 4, 14}</td>\n",
       "      <td>0</td>\n",
       "      <td>3</td>\n",
       "      <td>0.0</td>\n",
       "    </tr>\n",
       "    <tr>\n",
       "      <th>4</th>\n",
       "      <td>{11, 4, 13, 14}</td>\n",
       "      <td>0</td>\n",
       "      <td>4</td>\n",
       "      <td>1.0</td>\n",
       "    </tr>\n",
       "  </tbody>\n",
       "</table>\n",
       "</div>"
      ],
      "text/plain": [
       "      dimension_id  user_id  item_id  correct\n",
       "0      {0, 13, 14}        0        0      1.0\n",
       "1          {1, 12}        0        1      0.0\n",
       "2   {11, 2, 3, 14}        0        2      0.0\n",
       "3      {11, 4, 14}        0        3      0.0\n",
       "4  {11, 4, 13, 14}        0        4      1.0"
      ]
     },
     "execution_count": 3,
     "metadata": {},
     "output_type": "execute_result"
    }
   ],
   "source": [
    "raw_data = pd.read_csv('../1-raw_data/math_2.csv', encoding=\"ISO-8859-15\", low_memory=False)\n",
    "\n",
    "raw_data = raw_data.drop(columns=['Unnamed: 0.2', 'Unnamed: 0',\n",
    "       'Unnamed: 0.1', 'start_time', 'Unnamed: 0.1.1', 'qr',\n",
    "       'qr_compl'])\n",
    "\n",
    "raw_data =  raw_data.rename(columns={\"skill_id\": \"dimension_id\"})\n",
    "raw_data.head()"
   ]
  },
  {
   "cell_type": "markdown",
   "id": "70d36cb174851667",
   "metadata": {},
   "source": [
    "### Split rows with several dimensions"
   ]
  },
  {
   "cell_type": "code",
   "execution_count": 4,
   "id": "48baada5ec363a41",
   "metadata": {
    "ExecuteTime": {
     "end_time": "2025-05-13T11:37:10.637748Z",
     "start_time": "2025-05-13T11:37:10.063732Z"
    }
   },
   "outputs": [
    {
     "data": {
      "application/vnd.microsoft.datawrangler.viewer.v0+json": {
       "columns": [
        {
         "name": "index",
         "rawType": "int64",
         "type": "integer"
        },
        {
         "name": "dimension_id",
         "rawType": "object",
         "type": "unknown"
        },
        {
         "name": "user_id",
         "rawType": "int64",
         "type": "integer"
        },
        {
         "name": "item_id",
         "rawType": "int64",
         "type": "integer"
        },
        {
         "name": "correct",
         "rawType": "float64",
         "type": "float"
        }
       ],
       "ref": "d80601fa-2eb0-4f32-970f-fb27e0912a44",
       "rows": [
        [
         "0",
         "0",
         "0",
         "0",
         "1.0"
        ],
        [
         "1",
         "13",
         "0",
         "0",
         "1.0"
        ],
        [
         "2",
         "14",
         "0",
         "0",
         "1.0"
        ],
        [
         "3",
         "1",
         "0",
         "1",
         "0.0"
        ],
        [
         "4",
         "12",
         "0",
         "1",
         "0.0"
        ]
       ],
       "shape": {
        "columns": 4,
        "rows": 5
       }
      },
      "text/html": [
       "<div>\n",
       "<style scoped>\n",
       "    .dataframe tbody tr th:only-of-type {\n",
       "        vertical-align: middle;\n",
       "    }\n",
       "\n",
       "    .dataframe tbody tr th {\n",
       "        vertical-align: top;\n",
       "    }\n",
       "\n",
       "    .dataframe thead th {\n",
       "        text-align: right;\n",
       "    }\n",
       "</style>\n",
       "<table border=\"1\" class=\"dataframe\">\n",
       "  <thead>\n",
       "    <tr style=\"text-align: right;\">\n",
       "      <th></th>\n",
       "      <th>dimension_id</th>\n",
       "      <th>user_id</th>\n",
       "      <th>item_id</th>\n",
       "      <th>correct</th>\n",
       "    </tr>\n",
       "  </thead>\n",
       "  <tbody>\n",
       "    <tr>\n",
       "      <th>0</th>\n",
       "      <td>0</td>\n",
       "      <td>0</td>\n",
       "      <td>0</td>\n",
       "      <td>1.0</td>\n",
       "    </tr>\n",
       "    <tr>\n",
       "      <th>1</th>\n",
       "      <td>13</td>\n",
       "      <td>0</td>\n",
       "      <td>0</td>\n",
       "      <td>1.0</td>\n",
       "    </tr>\n",
       "    <tr>\n",
       "      <th>2</th>\n",
       "      <td>14</td>\n",
       "      <td>0</td>\n",
       "      <td>0</td>\n",
       "      <td>1.0</td>\n",
       "    </tr>\n",
       "    <tr>\n",
       "      <th>3</th>\n",
       "      <td>1</td>\n",
       "      <td>0</td>\n",
       "      <td>1</td>\n",
       "      <td>0.0</td>\n",
       "    </tr>\n",
       "    <tr>\n",
       "      <th>4</th>\n",
       "      <td>12</td>\n",
       "      <td>0</td>\n",
       "      <td>1</td>\n",
       "      <td>0.0</td>\n",
       "    </tr>\n",
       "  </tbody>\n",
       "</table>\n",
       "</div>"
      ],
      "text/plain": [
       "  dimension_id  user_id  item_id  correct\n",
       "0            0        0        0      1.0\n",
       "1           13        0        0      1.0\n",
       "2           14        0        0      1.0\n",
       "3            1        0        1      0.0\n",
       "4           12        0        1      0.0"
      ]
     },
     "execution_count": 4,
     "metadata": {},
     "output_type": "execute_result"
    }
   ],
   "source": [
    "raw_data['dimension_id'] = raw_data['dimension_id'].apply(lambda x: set(map(int, x.strip('{}').split(', '))))\n",
    "df_expanded = raw_data.explode('dimension_id').reset_index(drop=True)\n",
    "df_expanded.head()"
   ]
  },
  {
   "cell_type": "markdown",
   "id": "e5d4c71f",
   "metadata": {},
   "source": [
    "### Binarize all responses for homogeneity purpose"
   ]
  },
  {
   "cell_type": "code",
   "execution_count": 5,
   "id": "b5a0c0cb66778f1c",
   "metadata": {
    "ExecuteTime": {
     "end_time": "2025-05-13T11:50:02.859614Z",
     "start_time": "2025-05-13T11:50:02.818469Z"
    }
   },
   "outputs": [
    {
     "name": "stdout",
     "output_type": "stream",
     "text": [
      "250304\n"
     ]
    }
   ],
   "source": [
    "df_expanded['correct']=df_expanded['correct'].round()\n",
    "print(len(df_expanded))"
   ]
  },
  {
   "cell_type": "markdown",
   "id": "f532d0b094164b01",
   "metadata": {},
   "source": [
    "### Early stats"
   ]
  },
  {
   "cell_type": "code",
   "execution_count": 6,
   "id": "d6b0feeae63d2c54",
   "metadata": {
    "ExecuteTime": {
     "end_time": "2025-05-13T11:50:03.770074Z",
     "start_time": "2025-05-13T11:50:03.703820Z"
    }
   },
   "outputs": [
    {
     "name": "stdout",
     "output_type": "stream",
     "text": [
      "250304\n",
      "250304\n"
     ]
    }
   ],
   "source": [
    "print(len(df_expanded))\n",
    "all_data = df_expanded.dropna(subset=['user_id','item_id','correct','dimension_id'])\n",
    "print(len(all_data))"
   ]
  },
  {
   "cell_type": "code",
   "execution_count": 7,
   "id": "75ad853c5e6327ab",
   "metadata": {
    "ExecuteTime": {
     "end_time": "2025-05-13T11:50:04.299474Z",
     "start_time": "2025-05-13T11:50:04.231021Z"
    }
   },
   "outputs": [
    {
     "name": "stdout",
     "output_type": "stream",
     "text": [
      "Total length: 250304\n",
      "Number of unique [user_id,item_id]: 78220\n",
      "Number of unique user_id: 3911\n",
      "Number of unique item_id: 20\n",
      "Number of unique dimension_id: 16\n"
     ]
    }
   ],
   "source": [
    "stat_unique(all_data, None)\n",
    "stat_unique(all_data, ['user_id', 'item_id'])\n",
    "stat_unique(all_data, 'user_id')\n",
    "stat_unique(all_data, 'item_id')\n",
    "stat_unique(all_data, 'dimension_id')"
   ]
  },
  {
   "cell_type": "markdown",
   "id": "9d2a99907e563075",
   "metadata": {},
   "source": [
    "### Clean Nan values"
   ]
  },
  {
   "cell_type": "code",
   "execution_count": 8,
   "id": "10b1e79bf17e1a46",
   "metadata": {
    "ExecuteTime": {
     "end_time": "2025-05-13T11:50:05.296547Z",
     "start_time": "2025-05-13T11:50:05.252544Z"
    }
   },
   "outputs": [],
   "source": [
    "cleaned_data = all_data.dropna(subset=['user_id','item_id','correct','dimension_id'], axis='index')"
   ]
  },
  {
   "cell_type": "markdown",
   "id": "1cf51a190511d02f",
   "metadata": {},
   "source": [
    "### Remove duplicated user and id rows"
   ]
  },
  {
   "cell_type": "code",
   "execution_count": 9,
   "id": "128895437c128e14",
   "metadata": {
    "ExecuteTime": {
     "end_time": "2025-05-13T11:50:06.467811Z",
     "start_time": "2025-05-13T11:50:06.263026Z"
    }
   },
   "outputs": [],
   "source": [
    "unduplicated_data = remove_duplicates(cleaned_data,key_attrs=['user_id','item_id','dimension_id'],agg_attrs=[])"
   ]
  },
  {
   "cell_type": "markdown",
   "id": "4a633bb837a7af3b",
   "metadata": {},
   "source": [
    "### Filter Data"
   ]
  },
  {
   "cell_type": "code",
   "execution_count": 10,
   "id": "62388835388d50d8",
   "metadata": {
    "ExecuteTime": {
     "end_time": "2025-05-13T11:50:08.058542Z",
     "start_time": "2025-05-13T11:50:07.989146Z"
    }
   },
   "outputs": [
    {
     "name": "stdout",
     "output_type": "stream",
     "text": [
      "filter 0 item_id\n",
      "filter 0 user_id\n",
      "filter 0 dimension_id\n",
      "Total length: 250304\n",
      "Number of unique [user_id,item_id]: 78220\n",
      "Number of unique user_id: 3911\n",
      "Number of unique item_id: 20\n",
      "Number of unique dimension_id: 16\n"
     ]
    }
   ],
   "source": [
    "filtered_data_0 = unduplicated_data\n",
    "filtered_q_nb = 1\n",
    "filtered_u_nb = 0\n",
    "filtered_d_nb = 0\n",
    "while filtered_q_nb!=0 or filtered_u_nb!=0 or filtered_d_nb!=0 : \n",
    "    # filter items\n",
    "    filtered_data_1, filtered_q_nb = densify(filtered_data_0,'item_id','user_id',5)\n",
    "    # filter users\n",
    "    min_nb_users_logs = 16\n",
    "    filtered_data_2, filtered_u_nb = densify(filtered_data_1,'user_id','item_id',min_nb_users_logs)\n",
    "    # filter knowledges\n",
    "    filtered_data_3, filtered_d_nb = densify(filtered_data_2,'dimension_id','item_id',1)\n",
    "    filtered_data_0 = filtered_data_3\n",
    "    \n",
    "stat_unique(filtered_data_0, None)\n",
    "stat_unique(filtered_data_0, ['user_id', 'item_id'])\n",
    "stat_unique(filtered_data_0, 'user_id')\n",
    "stat_unique(filtered_data_0, 'item_id')\n",
    "stat_unique(filtered_data_0, 'dimension_id')"
   ]
  },
  {
   "cell_type": "markdown",
   "id": "5f38b00b83903cf8",
   "metadata": {},
   "source": [
    "### Encoding"
   ]
  },
  {
   "cell_type": "code",
   "execution_count": 11,
   "id": "461aaa3f05f101f3",
   "metadata": {
    "ExecuteTime": {
     "end_time": "2025-05-13T11:50:16.434859Z",
     "start_time": "2025-05-13T11:50:09.043469Z"
    }
   },
   "outputs": [],
   "source": [
    "# renumber the users\n",
    "u_enc_data, u2n = encode_attr(filtered_data_0, \"user_id\")"
   ]
  },
  {
   "cell_type": "code",
   "execution_count": 12,
   "id": "4ad08e7dad6b96ac",
   "metadata": {
    "ExecuteTime": {
     "end_time": "2025-05-13T11:50:25.215195Z",
     "start_time": "2025-05-13T11:50:16.437961Z"
    }
   },
   "outputs": [],
   "source": [
    "# renumber the items\n",
    "q_enc_data, q2n = encode_attr(u_enc_data, \"item_id\")"
   ]
  },
  {
   "cell_type": "code",
   "execution_count": 13,
   "id": "9d3b2c3dff642633",
   "metadata": {
    "ExecuteTime": {
     "end_time": "2025-05-13T11:50:32.149918Z",
     "start_time": "2025-05-13T11:50:25.239366Z"
    }
   },
   "outputs": [],
   "source": [
    "# renumber the dimensions\n",
    "d_enc_data, d2n = encode_attr(q_enc_data, \"dimension_id\")"
   ]
  },
  {
   "cell_type": "markdown",
   "id": "3b9e92e115b938bd",
   "metadata": {},
   "source": [
    "### Maps creation"
   ]
  },
  {
   "cell_type": "code",
   "execution_count": 14,
   "id": "124352496823ae86",
   "metadata": {
    "ExecuteTime": {
     "end_time": "2025-05-13T11:50:32.196263Z",
     "start_time": "2025-05-13T11:50:32.173504Z"
    }
   },
   "outputs": [],
   "source": [
    "q2k, k2q = create_q2k(d_enc_data)"
   ]
  },
  {
   "cell_type": "markdown",
   "id": "d9bbf26af710c979",
   "metadata": {},
   "source": [
    "### Rescaling responses"
   ]
  },
  {
   "cell_type": "code",
   "execution_count": 15,
   "id": "16227ddf196496e7",
   "metadata": {
    "ExecuteTime": {
     "end_time": "2025-05-13T11:50:35.277728Z",
     "start_time": "2025-05-13T11:50:35.236142Z"
    }
   },
   "outputs": [
    {
     "name": "stdout",
     "output_type": "stream",
     "text": [
      "min value : 1.0, max value : 2.0\n"
     ]
    }
   ],
   "source": [
    "resc_data = d_enc_data\n",
    "resc_data['correct'] = resc_data['correct'].astype(float)\n",
    "min_val = resc_data['correct'].min()\n",
    "max_val = resc_data['correct'].max()\n",
    "resc_data['correct'] = (resc_data['correct']-min_val)/(max_val-min_val) +1\n",
    "print(f'min value : {resc_data[\"correct\"].min()}, max value : {resc_data[\"correct\"].max()}')"
   ]
  },
  {
   "cell_type": "markdown",
   "id": "d887c5e72037c54",
   "metadata": {},
   "source": [
    "### Get final stats and create metadata"
   ]
  },
  {
   "cell_type": "code",
   "execution_count": 16,
   "id": "d3ce35f2a3d57db3",
   "metadata": {
    "ExecuteTime": {
     "end_time": "2025-05-13T11:50:44.179648Z",
     "start_time": "2025-05-13T11:50:44.052961Z"
    }
   },
   "outputs": [
    {
     "name": "stdout",
     "output_type": "stream",
     "text": [
      "Total length: 250304\n",
      "Number of unique [user_id,item_id]: 78220\n",
      "Number of unique user_id: 3911\n",
      "Number of unique item_id: 20\n",
      "Number of unique dimension_id: 16\n",
      "Number of unique correct: 2\n",
      "#questions/category: 1 & 4 &  16\n",
      "#users/category: 3911 & 3911 &  3911\n",
      "#categorys/question: 2 & 3 &  5\n",
      "#users/question: 3911 & 3911 &  3911\n",
      "#questions/users: 20 & 20 &  20\n",
      "#categorys/users: 16 & 16 &  16\n"
     ]
    }
   ],
   "source": [
    "stat_unique(resc_data, None)\n",
    "stat_unique(resc_data, ['user_id', 'item_id'])\n",
    "stat_unique(resc_data, 'user_id')\n",
    "stat_unique(resc_data, 'item_id')\n",
    "stat_unique(resc_data, 'dimension_id')\n",
    "stat_unique(resc_data, 'correct')\n",
    "\n",
    "resc_data_dim_grouped_items = resc_data.groupby(\"dimension_id\")[\"item_id\"].nunique()\n",
    "resc_data_dim_grouped_users = resc_data.groupby(\"dimension_id\")[\"user_id\"].nunique()\n",
    "print('#questions/category: {} & {} &  {}'.format(np.min(resc_data_dim_grouped_items),int(np.round(np.mean(resc_data_dim_grouped_items))),np.max(resc_data_dim_grouped_items)))\n",
    "print('#users/category: {} & {} &  {}'.format(np.min(resc_data_dim_grouped_users),int(np.round(np.mean(resc_data_dim_grouped_users))),np.max(resc_data_dim_grouped_users)))\n",
    "\n",
    "resc_data_dim_grouped_items = resc_data.groupby(\"item_id\")[\"dimension_id\"].nunique()\n",
    "resc_data_dim_grouped_users = resc_data.groupby(\"item_id\")[\"user_id\"].nunique()\n",
    "print('#categorys/question: {} & {} &  {}'.format(np.min(resc_data_dim_grouped_items),int(np.round(np.mean(resc_data_dim_grouped_items))),np.max(resc_data_dim_grouped_items)))\n",
    "print('#users/question: {} & {} &  {}'.format(np.min(resc_data_dim_grouped_users),int(np.round(np.mean(resc_data_dim_grouped_users))),np.max(resc_data_dim_grouped_users)))\n",
    "\n",
    "resc_data_dim_grouped_items = resc_data.groupby(\"user_id\")[\"item_id\"].nunique()\n",
    "resc_data_dim_grouped_users = resc_data.groupby(\"user_id\")[\"dimension_id\"].nunique()\n",
    "max_nb_q_per_users = np.max(resc_data_dim_grouped_items)\n",
    "min_nb_users_log = np.min(resc_data_dim_grouped_items)\n",
    "print('#questions/users: {} & {} &  {}'.format(np.min(resc_data_dim_grouped_items),int(np.round(np.mean(resc_data_dim_grouped_items))),np.max(resc_data_dim_grouped_items)))\n",
    "print('#categorys/users: {} & {} &  {}'.format(np.min(resc_data_dim_grouped_users),int(np.round(np.mean(resc_data_dim_grouped_users))),np.max(resc_data_dim_grouped_users)))"
   ]
  },
  {
   "cell_type": "code",
   "execution_count": 17,
   "id": "96b9fda0f0c947ba",
   "metadata": {
    "ExecuteTime": {
     "end_time": "2025-05-13T11:50:46.552989Z",
     "start_time": "2025-05-13T11:50:45.550866Z"
    }
   },
   "outputs": [
    {
     "data": {
      "image/png": "[encoded data removed]",
      "text/plain": [
       "<Figure size 640x480 with 1 Axes>"
      ]
     },
     "metadata": {},
     "output_type": "display_data"
    }
   ],
   "source": [
    "import matplotlib.pyplot as plt\n",
    "\n",
    "# draw a histogram of the age column\n",
    "(resc_data['correct']-1).hist(bins=20)\n",
    "\n",
    "# add labels and title\n",
    "plt.xlabel('Responses')\n",
    "plt.ylabel('Number')\n",
    "plt.title('Distribution of Responses')\n",
    "plt.savefig('../4-figs/distribution_math2.png')\n"
   ]
  },
  {
   "cell_type": "code",
   "execution_count": 25,
   "id": "1420cf5a2ffcaf83",
   "metadata": {
    "ExecuteTime": {
     "end_time": "2025-05-13T11:52:19.034693Z",
     "start_time": "2025-05-13T11:52:19.006564Z"
    }
   },
   "outputs": [],
   "source": [
    "resc_data_dim_grouped_items = resc_data.groupby(\"item_id\")[\"dimension_id\"].nunique()\n",
    "resc_data_dim_grouped_users = resc_data.groupby(\"item_id\")[\"user_id\"].nunique()\n",
    "metadata = get_metadata(resc_data,[\"user_id\", \"item_id\", \"dimension_id\"])\n",
    "metadata['min_nb_users_logs'] = int(min_nb_users_log)\n",
    "metadata['max_nb_categories_per_question'] = int(np.max(resc_data_dim_grouped_items))\n",
    "metadata['max_nb_questions_per_user'] = int(max_nb_q_per_users)"
   ]
  },
  {
   "cell_type": "markdown",
   "id": "7b3d5b11-88fd-4330-b7f7-69e6db25c48b",
   "metadata": {},
   "source": [
    "### Compute nb of modalities per item"
   ]
  },
  {
   "cell_type": "code",
   "execution_count": 26,
   "id": "a35a5487-a7e8-4e19-90c6-51f23dd8ea88",
   "metadata": {
    "ExecuteTime": {
     "end_time": "2025-05-13T11:52:20.091294Z",
     "start_time": "2025-05-13T11:52:20.069151Z"
    }
   },
   "outputs": [],
   "source": [
    "nb_modalities = get_modalities_nb(resc_data, metadata)"
   ]
  },
  {
   "cell_type": "markdown",
   "id": "af2a1ef2455361fa",
   "metadata": {},
   "source": [
    "### Save data, concept map, metadata and nb_modalities"
   ]
  },
  {
   "cell_type": "code",
   "execution_count": 27,
   "id": "2711f76ebb0f8c75",
   "metadata": {
    "ExecuteTime": {
     "end_time": "2025-05-13T11:52:20.949661Z",
     "start_time": "2025-05-13T11:52:20.930098Z"
    }
   },
   "outputs": [],
   "source": [
    "new_order = ['user_id','item_id', 'correct', 'dimension_id']\n",
    "resc_data = resc_data[new_order]"
   ]
  },
  {
   "cell_type": "code",
   "execution_count": 28,
   "id": "9314705046e62dcb",
   "metadata": {
    "ExecuteTime": {
     "end_time": "2025-05-13T11:52:21.612642Z",
     "start_time": "2025-05-13T11:52:21.377101Z"
    }
   },
   "outputs": [],
   "source": [
    "# save selected data\n",
    "resc_data.to_csv('../1-raw_data/math2_selected_data.csv', index=False)"
   ]
  },
  {
   "cell_type": "code",
   "execution_count": 29,
   "id": "d57fbdcefd9ed82",
   "metadata": {
    "ExecuteTime": {
     "end_time": "2025-05-13T11:52:22.395787Z",
     "start_time": "2025-05-13T11:52:22.377991Z"
    }
   },
   "outputs": [],
   "source": [
    "# Convert int64 keys to str\n",
    "q2k_str_keys = {str(key): value for key, value in q2k.items()}\n",
    "\n",
    "# Convert sets to lists in the dictionary\n",
    "q2k_json_serializable = {}\n",
    "for key, value in q2k_str_keys.items():\n",
    "    if isinstance(value, set):\n",
    "        q2k_json_serializable[key] = list(value)\n",
    "    else:\n",
    "        q2k_json_serializable[key] = value\n",
    "\n",
    "# Save concept map\n",
    "with open('../2-preprocessed_data/math2_concept_map.json', 'w') as f:\n",
    "    json.dump(q2k_json_serializable, f)"
   ]
  },
  {
   "cell_type": "code",
   "execution_count": 30,
   "id": "6fdbebe69540c57c",
   "metadata": {
    "ExecuteTime": {
     "end_time": "2025-05-13T11:52:24.380894Z",
     "start_time": "2025-05-13T11:52:24.363614Z"
    }
   },
   "outputs": [],
   "source": [
    "# save metadata\n",
    "with open('../2-preprocessed_data/math2_metadata.json', 'w') as f:\n",
    "    json.dump(metadata, f)"
   ]
  },
  {
   "cell_type": "code",
   "execution_count": null,
   "id": "46932b68-b0a7-4fe1-a090-af21cfd03cc3",
   "metadata": {
    "ExecuteTime": {
     "end_time": "2025-05-13T11:52:44.847903Z",
     "start_time": "2025-05-13T11:52:44.829551Z"
    }
   },
   "outputs": [],
   "source": [
    "# save metadata\n",
    "torch.save(nb_modalities,'../2-preprocessed_data/math2_nb_modalities.pkl')"
   ]
  },
  {
   "cell_type": "markdown",
   "id": "db9f1ae6fa56cfa1",
   "metadata": {},
   "source": [
    "## parse data"
   ]
  },
  {
   "cell_type": "code",
   "execution_count": null,
   "id": "3b97a578bdb0ec0b",
   "metadata": {
    "ExecuteTime": {
     "end_time": "2025-05-13T11:52:45.477076Z",
     "start_time": "2025-05-13T11:52:45.458784Z"
    }
   },
   "outputs": [],
   "source": [
    "from liriscat import utils\n",
    "utils.setuplogger(verbose = True,log_path = \"../../logs/\", log_name=\"liriscat\")\n",
    "utils.set_seed(0)"
   ]
  },
  {
   "cell_type": "code",
   "execution_count": null,
   "id": "2e4e3ad90376b31",
   "metadata": {
    "ExecuteTime": {
     "end_time": "2025-05-13T11:52:45.768188Z",
     "start_time": "2025-05-13T11:52:45.708966Z"
    }
   },
   "outputs": [],
   "source": [
    "import pandas as pd\n",
    "from liriscat.dataset.preprocessing_utilities import *\n",
    "resc_data = pd.read_csv('../1-raw_data/math2_selected_data.csv')"
   ]
  },
  {
   "cell_type": "code",
   "execution_count": null,
   "id": "53610eb7a85babfb",
   "metadata": {
    "ExecuteTime": {
     "end_time": "2025-05-13T11:52:46.039002Z",
     "start_time": "2025-05-13T11:52:45.962245Z"
    }
   },
   "outputs": [],
   "source": [
    "train, valid, test = split_users(resc_data, 5)"
   ]
  },
  {
   "cell_type": "markdown",
   "id": "f915b75def104ab9",
   "metadata": {},
   "source": [
    "## save data"
   ]
  },
  {
   "cell_type": "code",
   "execution_count": null,
   "id": "3cd91d1f1e2665cf",
   "metadata": {
    "ExecuteTime": {
     "end_time": "2025-05-13T11:53:05.225624Z",
     "start_time": "2025-05-13T11:52:46.437378Z"
    }
   },
   "outputs": [],
   "source": [
    "for i_fold, train_fold in enumerate(train):\n",
    "    save_df_to_csv(train[i_fold], f'../2-preprocessed_data/math2_train_{i_fold}.csv')\n",
    "    save_df_to_csv(valid[i_fold], f'../2-preprocessed_data/math2_valid_{i_fold}.csv')\n",
    "    save_df_to_csv(test[i_fold], f'../2-preprocessed_data/math2_test_{i_fold}.csv')\n",
    "\n",
    "    train_valid_df = pd.concat([train[i_fold], valid[i_fold]])\n",
    "    # Split the merged data horizontally into train and validation sets.\n",
    "\n",
    "    quadruplet = quadruplet_format(train_valid_df)\n",
    "    vertical_train, vertical_valid = split_data_vertically_unique_fold(quadruplet, valid_prop=0.1)\n",
    "\n",
    "    save_df_to_csv(vertical_train, f'../2-preprocessed_data/math2_vert_train_{i_fold}.csv')\n",
    "    save_df_to_csv(vertical_valid, f'../2-preprocessed_data/math2_vert_valid_{i_fold}.csv')\n"
   ]
  },
  {
   "cell_type": "code",
   "execution_count": null,
   "id": "477726f4",
   "metadata": {},
   "outputs": [],
   "source": []
  }
 ],
 "metadata": {
  "kernelspec": {
   "display_name": "Python (liriscat no frozen)",
   "language": "python",
   "name": "liriscat-nofrozen"
  },
  "language_info": {
   "codemirror_mode": {
    "name": "ipython",
    "version": 3
   },
   "file_extension": ".py",
   "mimetype": "text/x-python",
   "name": "python",
   "nbconvert_exporter": "python",
   "pygments_lexer": "ipython3",
   "version": "3.11.11"
  }
 },
 "nbformat": 4,
 "nbformat_minor": 5
}
