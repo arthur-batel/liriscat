{
 "cells": [
  {
   "cell_type": "markdown",
   "id": "3f91591122382be0",
   "metadata": {},
   "source": [
    "# Math2 dataset preprocessing\n",
    "### Import"
   ]
  },
  {
   "cell_type": "code",
   "id": "5c572fedcc3d884",
   "metadata": {},
   "source": [
    "%load_ext autoreload\n",
    "%autoreload 2"
   ],
   "outputs": [],
   "execution_count": null
  },
  {
   "cell_type": "code",
   "id": "763506e3fc4c3ef3",
   "metadata": {},
   "source": [
    "import json\n",
    "import pandas as pd\n",
    "import numpy as np\n",
    "from liriscat.dataset.preprocessing_utilities import *\n",
    "from liriscat.utils import *\n",
    "utils.set_seed(0)"
   ],
   "outputs": [],
   "execution_count": null
  },
  {
   "cell_type": "markdown",
   "id": "2c6ffc9f3b1e2e5c",
   "metadata": {},
   "source": [
    "### Load and merge dataset"
   ]
  },
  {
   "cell_type": "code",
   "id": "eae9427ff89ef0a3",
   "metadata": {},
   "source": [
    "raw_data = pd.read_csv('../1-raw_data/math_2.csv', encoding=\"ISO-8859-15\", low_memory=False)\n",
    "\n",
    "raw_data = raw_data.drop(columns=['Unnamed: 0.2', 'Unnamed: 0',\n",
    "       'Unnamed: 0.1', 'start_time', 'Unnamed: 0.1.1', 'qr',\n",
    "       'qr_compl'])\n",
    "\n",
    "raw_data =  raw_data.rename(columns={\"skill_id\": \"dimension_id\"})\n",
    "raw_data.head()"
   ],
   "outputs": [],
   "execution_count": null
  },
  {
   "cell_type": "markdown",
   "id": "70d36cb174851667",
   "metadata": {},
   "source": [
    "### Split rows with several dimensions"
   ]
  },
  {
   "cell_type": "code",
   "id": "48baada5ec363a41",
   "metadata": {},
   "source": [
    "raw_data['dimension_id'] = raw_data['dimension_id'].apply(lambda x: set(map(int, x.strip('{}').split(', '))))\n",
    "df_expanded = raw_data.explode('dimension_id').reset_index(drop=True)\n",
    "df_expanded.head()"
   ],
   "outputs": [],
   "execution_count": null
  },
  {
   "cell_type": "markdown",
   "id": "f532d0b094164b01",
   "metadata": {},
   "source": [
    "### Early stats"
   ]
  },
  {
   "cell_type": "code",
   "id": "d6b0feeae63d2c54",
   "metadata": {},
   "source": [
    "print(len(df_expanded))\n",
    "all_data = df_expanded.dropna(subset=['user_id','item_id','correct','dimension_id'])\n",
    "print(len(all_data))"
   ],
   "outputs": [],
   "execution_count": null
  },
  {
   "cell_type": "code",
   "id": "75ad853c5e6327ab",
   "metadata": {},
   "source": [
    "stat_unique(all_data, None)\n",
    "stat_unique(all_data, ['user_id', 'item_id'])\n",
    "stat_unique(all_data, 'user_id')\n",
    "stat_unique(all_data, 'item_id')\n",
    "stat_unique(all_data, 'dimension_id')"
   ],
   "outputs": [],
   "execution_count": null
  },
  {
   "cell_type": "markdown",
   "id": "9d2a99907e563075",
   "metadata": {},
   "source": [
    "### Clean Nan values"
   ]
  },
  {
   "cell_type": "code",
   "id": "10b1e79bf17e1a46",
   "metadata": {},
   "source": "cleaned_data = all_data.dropna(subset=['user_id','item_id','correct','dimension_id'], axis='index')",
   "outputs": [],
   "execution_count": null
  },
  {
   "cell_type": "markdown",
   "id": "1cf51a190511d02f",
   "metadata": {},
   "source": [
    "### Remove duplicated user and id rows"
   ]
  },
  {
   "cell_type": "code",
   "id": "128895437c128e14",
   "metadata": {},
   "source": [
    "unduplicated_data = remove_duplicates(cleaned_data,key_attrs=['user_id','item_id','dimension_id'],agg_attrs=[])"
   ],
   "outputs": [],
   "execution_count": null
  },
  {
   "cell_type": "markdown",
   "id": "4a633bb837a7af3b",
   "metadata": {},
   "source": [
    "### Filter Data"
   ]
  },
  {
   "cell_type": "code",
   "id": "62388835388d50d8",
   "metadata": {},
   "source": [
    "filtered_data_0 = unduplicated_data\n",
    "filtered_q_nb = 1\n",
    "filtered_u_nb = 0\n",
    "filtered_d_nb = 0\n",
    "while filtered_q_nb!=0 or filtered_u_nb!=0 or filtered_d_nb!=0 : \n",
    "    # filter items\n",
    "    filtered_data_1, filtered_q_nb = densify(filtered_data_0,'item_id','user_id',5)\n",
    "    # filter users\n",
    "    min_nb_users_logs = 20\n",
    "    filtered_data_2, filtered_u_nb = densify(filtered_data_1,'user_id','item_id',min_nb_users_logs)\n",
    "    # filter knowledges\n",
    "    filtered_data_3, filtered_d_nb = densify(filtered_data_2,'dimension_id','item_id',1)\n",
    "    filtered_data_0 = filtered_data_3\n",
    "    \n",
    "stat_unique(filtered_data_0, None)\n",
    "stat_unique(filtered_data_0, ['user_id', 'item_id'])\n",
    "stat_unique(filtered_data_0, 'user_id')\n",
    "stat_unique(filtered_data_0, 'item_id')\n",
    "stat_unique(filtered_data_0, 'dimension_id')"
   ],
   "outputs": [],
   "execution_count": null
  },
  {
   "cell_type": "markdown",
   "id": "5f38b00b83903cf8",
   "metadata": {},
   "source": [
    "### Encoding"
   ]
  },
  {
   "metadata": {},
   "cell_type": "code",
   "source": [
    "# renumber the users\n",
    "u_enc_data, u2n = encode_attr(filtered_data_0, \"user_id\")"
   ],
   "id": "461aaa3f05f101f3",
   "outputs": [],
   "execution_count": null
  },
  {
   "metadata": {},
   "cell_type": "code",
   "source": [
    "# renumber the items\n",
    "q_enc_data, q2n = encode_attr(u_enc_data, \"item_id\")"
   ],
   "id": "4ad08e7dad6b96ac",
   "outputs": [],
   "execution_count": null
  },
  {
   "metadata": {},
   "cell_type": "code",
   "source": [
    "# renumber the dimensions\n",
    "d_enc_data, d2n = encode_attr(q_enc_data, \"dimension_id\")"
   ],
   "id": "9d3b2c3dff642633",
   "outputs": [],
   "execution_count": null
  },
  {
   "metadata": {},
   "cell_type": "markdown",
   "source": "### Maps creation",
   "id": "3b9e92e115b938bd"
  },
  {
   "metadata": {},
   "cell_type": "code",
   "source": "q2k, k2q = create_q2k(d_enc_data)",
   "id": "124352496823ae86",
   "outputs": [],
   "execution_count": null
  },
  {
   "metadata": {},
   "cell_type": "markdown",
   "source": "### Rescaling responses",
   "id": "d9bbf26af710c979"
  },
  {
   "metadata": {},
   "cell_type": "code",
   "source": [
    "resc_data = d_enc_data\n",
    "resc_data['correct'] = resc_data['correct'].astype(float)\n",
    "min_val = resc_data['correct'].min()\n",
    "max_val = resc_data['correct'].max()\n",
    "resc_data['correct'] = (resc_data['correct']-min_val)/(max_val-min_val) +1\n",
    "print(f'min value : {resc_data[\"correct\"].min()}, max value : {resc_data[\"correct\"].max()}')"
   ],
   "id": "16227ddf196496e7",
   "outputs": [],
   "execution_count": null
  },
  {
   "cell_type": "markdown",
   "id": "d887c5e72037c54",
   "metadata": {},
   "source": [
    "### Get final stats and create metadata"
   ]
  },
  {
   "cell_type": "code",
   "id": "d3ce35f2a3d57db3",
   "metadata": {},
   "source": [
    "stat_unique(resc_data, None)\n",
    "stat_unique(resc_data, ['user_id', 'item_id'])\n",
    "stat_unique(resc_data, 'user_id')\n",
    "stat_unique(resc_data, 'item_id')\n",
    "stat_unique(resc_data, 'dimension_id')\n",
    "stat_unique(resc_data, 'correct')\n",
    "\n",
    "resc_data_dim_grouped_items = resc_data.groupby(\"dimension_id\")[\"item_id\"].nunique()\n",
    "resc_data_dim_grouped_users = resc_data.groupby(\"dimension_id\")[\"user_id\"].nunique()\n",
    "print('#questions/category: {} & {} &  {}'.format(np.min(resc_data_dim_grouped_items),int(np.round(np.mean(resc_data_dim_grouped_items))),np.max(resc_data_dim_grouped_items)))\n",
    "print('#users/category: {} & {} &  {}'.format(np.min(resc_data_dim_grouped_users),int(np.round(np.mean(resc_data_dim_grouped_users))),np.max(resc_data_dim_grouped_users)))\n",
    "\n",
    "resc_data_dim_grouped_items = resc_data.groupby(\"item_id\")[\"dimension_id\"].nunique()\n",
    "resc_data_dim_grouped_users = resc_data.groupby(\"item_id\")[\"user_id\"].nunique()\n",
    "print('#categorys/question: {} & {} &  {}'.format(np.min(resc_data_dim_grouped_items),int(np.round(np.mean(resc_data_dim_grouped_items))),np.max(resc_data_dim_grouped_items)))\n",
    "print('#users/question: {} & {} &  {}'.format(np.min(resc_data_dim_grouped_users),int(np.round(np.mean(resc_data_dim_grouped_users))),np.max(resc_data_dim_grouped_users)))\n",
    "\n",
    "resc_data_dim_grouped_items = resc_data.groupby(\"user_id\")[\"item_id\"].nunique()\n",
    "resc_data_dim_grouped_users = resc_data.groupby(\"user_id\")[\"dimension_id\"].nunique()\n",
    "print('#questions/users: {} & {} &  {}'.format(np.min(resc_data_dim_grouped_items),int(np.round(np.mean(resc_data_dim_grouped_items))),np.max(resc_data_dim_grouped_items)))\n",
    "print('#categorys/users: {} & {} &  {}'.format(np.min(resc_data_dim_grouped_users),int(np.round(np.mean(resc_data_dim_grouped_users))),np.max(resc_data_dim_grouped_users)))"
   ],
   "outputs": [],
   "execution_count": null
  },
  {
   "cell_type": "code",
   "id": "96b9fda0f0c947ba",
   "metadata": {},
   "source": [
    "import matplotlib.pyplot as plt\n",
    "\n",
    "# draw a histogram of the age column\n",
    "(resc_data['correct']-1).hist(bins=20)\n",
    "\n",
    "# add labels and title\n",
    "plt.xlabel('Responses')\n",
    "plt.ylabel('Number')\n",
    "plt.title('Distribution of Responses')\n",
    "plt.savefig('../4-figs/distribution_math2.png')\n"
   ],
   "outputs": [],
   "execution_count": null
  },
  {
   "cell_type": "code",
   "id": "1420cf5a2ffcaf83",
   "metadata": {},
   "source": [
    "resc_data_dim_grouped_items = resc_data.groupby(\"item_id\")[\"dimension_id\"].nunique()\n",
    "resc_data_dim_grouped_users = resc_data.groupby(\"item_id\")[\"user_id\"].nunique()\n",
    "metadata = get_metadata(resc_data,[\"user_id\", \"item_id\", \"dimension_id\"])\n",
    "metadata['min_nb_users_logs'] = min_nb_users_logs\n",
    "metadata['max_nb_categories_per_question'] = int(np.max(resc_data_dim_grouped_items))"
   ],
   "outputs": [],
   "execution_count": null
  },
  {
   "cell_type": "markdown",
   "id": "af2a1ef2455361fa",
   "metadata": {},
   "source": [
    "### Save data, concept map and metadata"
   ]
  },
  {
   "metadata": {},
   "cell_type": "code",
   "source": [
    "new_order = ['user_id','item_id', 'correct', 'dimension_id']\n",
    "resc_data = resc_data[new_order]"
   ],
   "id": "2711f76ebb0f8c75",
   "outputs": [],
   "execution_count": null
  },
  {
   "metadata": {},
   "cell_type": "code",
   "source": [
    "# save selected data\n",
    "resc_data.to_csv('../1-raw_data/math2_selected_data.csv', index=False)"
   ],
   "id": "9314705046e62dcb",
   "outputs": [],
   "execution_count": null
  },
  {
   "metadata": {},
   "cell_type": "code",
   "source": [
    "# Convert int64 keys to str\n",
    "q2k_str_keys = {str(key): value for key, value in q2k.items()}\n",
    "\n",
    "# Convert sets to lists in the dictionary\n",
    "q2k_json_serializable = {}\n",
    "for key, value in q2k_str_keys.items():\n",
    "    if isinstance(value, set):\n",
    "        q2k_json_serializable[key] = list(value)\n",
    "    else:\n",
    "        q2k_json_serializable[key] = value\n",
    "\n",
    "# Save concept map\n",
    "with open('../2-preprocessed_data/math2_concept_map.json', 'w') as f:\n",
    "    json.dump(q2k_json_serializable, f)"
   ],
   "id": "d57fbdcefd9ed82",
   "outputs": [],
   "execution_count": null
  },
  {
   "metadata": {},
   "cell_type": "code",
   "source": [
    "# save metadata\n",
    "with open('../2-preprocessed_data/math2_metadata.json', 'w') as f:\n",
    "    json.dump(metadata, f)"
   ],
   "id": "6fdbebe69540c57c",
   "outputs": [],
   "execution_count": null
  },
  {
   "metadata": {},
   "cell_type": "markdown",
   "source": "## parse data",
   "id": "db9f1ae6fa56cfa1"
  },
  {
   "metadata": {},
   "cell_type": "code",
   "source": [
    "%load_ext autoreload\n",
    "%autoreload 2"
   ],
   "id": "850280e1dfdda1b9",
   "outputs": [],
   "execution_count": null
  },
  {
   "metadata": {},
   "cell_type": "code",
   "source": [
    "from liriscat import utils\n",
    "utils.setuplogger(verbose = True,log_path = \"../../logs/\", log_name=\"liriscat\")"
   ],
   "id": "3b97a578bdb0ec0b",
   "outputs": [],
   "execution_count": null
  },
  {
   "metadata": {},
   "cell_type": "code",
   "source": [
    "import pandas as pd\n",
    "from liriscat.dataset.preprocessing_utilities import *\n",
    "resc_data = pd.read_csv('../1-raw_data/math2_selected_data.csv')"
   ],
   "id": "2e4e3ad90376b31",
   "outputs": [],
   "execution_count": null
  },
  {
   "metadata": {},
   "cell_type": "code",
   "source": "train, valid, test = split_users(resc_data, 5)",
   "id": "53610eb7a85babfb",
   "outputs": [],
   "execution_count": null
  },
  {
   "metadata": {},
   "cell_type": "markdown",
   "source": "## save data",
   "id": "f915b75def104ab9"
  },
  {
   "metadata": {},
   "cell_type": "code",
   "source": [
    "for i_fold, train_fold in enumerate(train):\n",
    "    save_df_to_csv(train[i_fold], f'../2-preprocessed_data/math2_train_{i_fold}.csv')\n",
    "    save_df_to_csv(valid[i_fold], f'../2-preprocessed_data/math2_valid_{i_fold}.csv')\n",
    "    save_df_to_csv(test[i_fold], f'../2-preprocessed_data/math2_test_{i_fold}.csv')"
   ],
   "id": "3cd91d1f1e2665cf",
   "outputs": [],
   "execution_count": null
  },
  {
   "metadata": {},
   "cell_type": "markdown",
   "source": "## Train IMPACT model",
   "id": "cf73aca8db70d3b1"
  },
  {
   "metadata": {},
   "cell_type": "code",
   "source": [
    "from liriscat.utils import generate_eval_config\n",
    "import json\n",
    "from IMPACT.dataset import LoaderDataset as IMPACT_dataset\n",
    "from liriscat.CDM import *\n",
    "from IMPACT import model\n",
    "from liriscat.dataset.preprocessing_utilities import *\n",
    "\n",
    "\n",
    "folds_nb = 2\n",
    "dataset_name=\"math2\"\n",
    "\n",
    "# Set all the required parameters ---------------\n",
    "IMPACT_config = generate_eval_config(num_epochs=200, save_params=True, dataset_name=dataset_name, embs_path=\"../../embs/\"+dataset_name, params_path=\"../../ckpt/\"+dataset_name,  learning_rate=0.01885, lambda_=2e-7, batch_size=2048,valid_metric='mi_acc', pred_metrics=[\"mi_acc\"])\n",
    "\n",
    "concept_map = json.load(open(f'../2-preprocessed_data/{IMPACT_config[\"dataset_name\"]}_concept_map.json', 'r'))\n",
    "concept_map = {int(k): [int(x) for x in v] for k, v in concept_map.items()}\n",
    "\n",
    "metadata = json.load(open(f'../2-preprocessed_data/{IMPACT_config[\"dataset_name\"]}_metadata.json', 'r'))\n",
    "\n",
    "\n",
    "# Conversion helper that builds a DataFrame with specific dtypes and returns records.\n",
    "def convert_to_records(data):\n",
    "    df = pd.DataFrame(data, columns={'user_id': int, 'item_id': int, 'category_id': int,'correct': float, })\n",
    "    return df.to_records(index=False, column_dtypes={'user_id': int, 'item_id': int, 'correct': float, 'category_id': int})"
   ],
   "id": "a33306919a97d5b",
   "outputs": [],
   "execution_count": null
  },
  {
   "metadata": {},
   "cell_type": "code",
   "source": [
    "for i in range(folds_nb):\n",
    "    # Merge the training and validation data for the current fold.\n",
    "    train_valid_df = pd.concat([train[i], valid[i]])\n",
    "    # Split the merged data horizontally into train and validation sets.\n",
    "\n",
    "    quadruplet = quadruplet_format(train_valid_df)\n",
    "    train_data, valid_data, test_data = split_data_vertically(quadruplet, test_prop=0.2,valid_prop=0.1,folds_nb=5)\n",
    "\n",
    "    # Convert each split in one step using the helper.\n",
    "    horizontal_train = convert_to_records(train_data[0])\n",
    "    horizontal_valid = convert_to_records(valid_data[0])\n",
    "    horizontal_test = convert_to_records(test_data[0])\n",
    "\n",
    "    impact_train_data = IMPACT_dataset(horizontal_train, concept_map, metadata)\n",
    "    impact_valid_data = IMPACT_dataset(horizontal_test, concept_map, metadata)\n",
    "\n",
    "    IMPACT_config['i_fold'] = i\n",
    "    algo = model.IMPACT(**IMPACT_config)\n",
    "    algo.init_model(impact_train_data, impact_valid_data)\n",
    "    algo.train(impact_train_data, impact_valid_data)\n",
    "    print(algo.evaluate_predictions(impact_valid_data))"
   ],
   "id": "57f46a6fa28b0de3",
   "outputs": [],
   "execution_count": null
  }
 ],
 "metadata": {
  "kernelspec": {
   "display_name": "Python 3 (ipykernel)",
   "language": "python",
   "name": "python3"
  },
  "language_info": {
   "codemirror_mode": {
    "name": "ipython",
    "version": 3
   },
   "file_extension": ".py",
   "mimetype": "text/x-python",
   "name": "python",
   "nbconvert_exporter": "python",
   "pygments_lexer": "ipython3",
   "version": "3.11.9"
  }
 },
 "nbformat": 4,
 "nbformat_minor": 5
}
