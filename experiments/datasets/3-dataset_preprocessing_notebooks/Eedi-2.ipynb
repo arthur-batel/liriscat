{
 "cells": [
  {
   "cell_type": "markdown",
   "id": "3f91591122382be0",
   "metadata": {},
   "source": [
    "# Math2 dataset preprocessing\n",
    "### Import"
   ]
  },
  {
   "cell_type": "code",
   "execution_count": null,
   "id": "5c572fedcc3d884",
   "metadata": {
    "ExecuteTime": {
     "end_time": "2025-04-18T07:33:25.116047Z",
     "start_time": "2025-04-18T07:33:25.108222Z"
    }
   },
   "outputs": [],
   "source": [
    "%load_ext autoreload\n",
    "%autoreload 2"
   ]
  },
  {
   "cell_type": "code",
   "execution_count": null,
   "id": "763506e3fc4c3ef3",
   "metadata": {
    "ExecuteTime": {
     "end_time": "2025-04-18T07:33:32.573366Z",
     "start_time": "2025-04-18T07:33:30.184127Z"
    }
   },
   "outputs": [],
   "source": [
    "import json\n",
    "import pandas as pd\n",
    "import numpy as np\n",
    "from micat.dataset.preprocessing_utilities import *\n",
    "from micat.utils import utils\n",
    "import torch\n",
    "utils.set_seed(0)"
   ]
  },
  {
   "cell_type": "markdown",
   "id": "2c6ffc9f3b1e2e5c",
   "metadata": {},
   "source": [
    "### Load and merge dataset"
   ]
  },
  {
   "cell_type": "code",
   "execution_count": null,
   "id": "eae9427ff89ef0a3",
   "metadata": {
    "ExecuteTime": {
     "end_time": "2025-04-18T08:08:28.122690Z",
     "start_time": "2025-04-18T08:08:27.732883Z"
    }
   },
   "outputs": [],
   "source": [
    "raw_data_train = pd.read_csv('../1-raw_data/Eedi-2_train.csv', encoding=\"ISO-8859-15\", low_memory=False)\n",
    "\n",
    "raw_data_test = pd.read_csv('../1-raw_data/Eedi-2_test.csv', encoding=\"ISO-8859-15\", low_memory=False)\n",
    "raw_data = pd.concat([raw_data_train, raw_data_test], ignore_index=True)\n",
    "\n",
    "raw_data = raw_data.drop(columns=['CorrectAnswer','AnswerValue','IsTarget'])\n",
    "\n",
    "raw_data.head()"
   ]
  },
  {
   "cell_type": "markdown",
   "id": "70d36cb174851667",
   "metadata": {},
   "source": [
    "### Split rows with several dimensions"
   ]
  },
  {
   "cell_type": "code",
   "execution_count": null,
   "id": "48baada5ec363a41",
   "metadata": {
    "ExecuteTime": {
     "end_time": "2025-04-18T08:08:32.354122Z",
     "start_time": "2025-04-18T08:08:32.272746Z"
    }
   },
   "outputs": [],
   "source": [
    "#Pas utile car aucune colonne ne contient de listes de valeurs\n",
    "df_expanded = raw_data.explode('AnswerId').reset_index(drop=True)\n",
    "df_expanded.head()"
   ]
  },
  {
   "cell_type": "markdown",
   "id": "f532d0b094164b01",
   "metadata": {},
   "source": [
    "### Early stats"
   ]
  },
  {
   "cell_type": "code",
   "execution_count": null,
   "id": "d6b0feeae63d2c54",
   "metadata": {
    "ExecuteTime": {
     "end_time": "2025-04-18T08:08:45.352143Z",
     "start_time": "2025-04-18T08:08:45.311013Z"
    }
   },
   "outputs": [],
   "source": [
    "print(\"Total number of data :\", len(raw_data))\n",
    "\n",
    "#Etapes inutiles car il n'y a pas de lignes à supprimer\n",
    "all_data = raw_data.dropna(subset=['QuestionId','UserId','AnswerId','IsCorrect'])\n",
    "print(len(all_data))"
   ]
  },
  {
   "cell_type": "code",
   "execution_count": null,
   "id": "75ad853c5e6327ab",
   "metadata": {
    "ExecuteTime": {
     "end_time": "2025-04-18T08:08:47.042400Z",
     "start_time": "2025-04-18T08:08:46.933246Z"
    }
   },
   "outputs": [],
   "source": [
    "stat_unique(all_data, None)\n",
    "stat_unique(all_data, ['QuestionId','UserId'])\n",
    "stat_unique(all_data, 'UserId')\n",
    "stat_unique(all_data, 'QuestionId')\n",
    "stat_unique(all_data, 'AnswerId')"
   ]
  },
  {
   "cell_type": "markdown",
   "id": "9d2a99907e563075",
   "metadata": {},
   "source": [
    "### Clean Nan values"
   ]
  },
  {
   "cell_type": "code",
   "execution_count": null,
   "id": "10b1e79bf17e1a46",
   "metadata": {
    "ExecuteTime": {
     "end_time": "2025-04-18T08:09:34.875643Z",
     "start_time": "2025-04-18T08:09:34.839843Z"
    }
   },
   "outputs": [],
   "source": [
    "\n",
    "\n",
    "cleaned_data = all_data.dropna(subset=['QuestionId','UserId','AnswerId','IsCorrect'], axis='index')\n",
    "\n",
    "#print(len(raw_data))\n",
    "#print(len(cleaned_data))"
   ]
  },
  {
   "cell_type": "markdown",
   "id": "1cf51a190511d02f",
   "metadata": {},
   "source": [
    "### Remove duplicated user and id rows"
   ]
  },
  {
   "cell_type": "code",
   "execution_count": null,
   "id": "128895437c128e14",
   "metadata": {
    "ExecuteTime": {
     "end_time": "2025-04-18T08:10:27.320123Z",
     "start_time": "2025-04-18T08:10:26.815620Z"
    }
   },
   "outputs": [],
   "source": [
    "unduplicated_data = remove_duplicates(cleaned_data, key_attrs=['QuestionId','UserId','AnswerId'], agg_attrs=[])"
   ]
  },
  {
   "cell_type": "markdown",
   "id": "4a633bb837a7af3b",
   "metadata": {},
   "source": [
    "### Filter Data"
   ]
  },
  {
   "cell_type": "code",
   "execution_count": null,
   "id": "62388835388d50d8",
   "metadata": {
    "ExecuteTime": {
     "end_time": "2025-04-18T08:12:22.900911Z",
     "start_time": "2025-04-18T08:12:22.463699Z"
    }
   },
   "outputs": [],
   "source": [
    "filtered_data_0 = unduplicated_data\n",
    "filtered_q_nb = 1\n",
    "filtered_u_nb = 0\n",
    "filtered_d_nb = 0\n",
    "while filtered_q_nb!=0 or filtered_u_nb!=0 or filtered_d_nb!=0 : \n",
    "    # filter items\n",
    "    filtered_data_1, filtered_q_nb = densify(filtered_data_0,'QuestionId','UserId',5)\n",
    "    # filter users\n",
    "    min_nb_users_logs = 20\n",
    "    filtered_data_2, filtered_u_nb = densify(filtered_data_1,'UserId','QuestionId',min_nb_users_logs)\n",
    "    # filter knowledges\n",
    "    filtered_data_3, filtered_d_nb = densify(filtered_data_2,'AnswerId','QuestionId',1)\n",
    "    filtered_data_0 = filtered_data_3\n",
    "    \n",
    "stat_unique(filtered_data_0, None)\n",
    "stat_unique(filtered_data_0, ['UserId', 'QuestionId'])\n",
    "stat_unique(filtered_data_0, 'UserId')\n",
    "stat_unique(filtered_data_0, 'QuestionId')\n",
    "stat_unique(filtered_data_0, 'AnswerId')"
   ]
  },
  {
   "cell_type": "markdown",
   "id": "5f38b00b83903cf8",
   "metadata": {},
   "source": [
    "### Encoding"
   ]
  },
  {
   "cell_type": "code",
   "execution_count": null,
   "id": "461aaa3f05f101f3",
   "metadata": {},
   "outputs": [],
   "source": [
    "# renumber the users\n",
    "u_enc_data, u2n = encode_attr(filtered_data_0, \"user_id\")"
   ]
  },
  {
   "cell_type": "code",
   "execution_count": null,
   "id": "4ad08e7dad6b96ac",
   "metadata": {},
   "outputs": [],
   "source": [
    "# renumber the items\n",
    "q_enc_data, q2n = encode_attr(u_enc_data, \"item_id\")"
   ]
  },
  {
   "cell_type": "code",
   "execution_count": null,
   "id": "9d3b2c3dff642633",
   "metadata": {},
   "outputs": [],
   "source": [
    "# renumber the dimensions\n",
    "d_enc_data, d2n = encode_attr(q_enc_data, \"dimension_id\")"
   ]
  },
  {
   "cell_type": "markdown",
   "id": "3b9e92e115b938bd",
   "metadata": {},
   "source": [
    "### Maps creation"
   ]
  },
  {
   "cell_type": "code",
   "execution_count": null,
   "id": "124352496823ae86",
   "metadata": {},
   "outputs": [],
   "source": [
    "q2k, k2q = create_q2k(d_enc_data)"
   ]
  },
  {
   "cell_type": "markdown",
   "id": "d9bbf26af710c979",
   "metadata": {},
   "source": [
    "### Rescaling responses"
   ]
  },
  {
   "cell_type": "code",
   "execution_count": null,
   "id": "16227ddf196496e7",
   "metadata": {},
   "outputs": [],
   "source": [
    "resc_data = d_enc_data\n",
    "resc_data['correct'] = resc_data['correct'].astype(float)\n",
    "min_val = resc_data['correct'].min()\n",
    "max_val = resc_data['correct'].max()\n",
    "resc_data['correct'] = (resc_data['correct']-min_val)/(max_val-min_val) +1\n",
    "print(f'min value : {resc_data[\"correct\"].min()}, max value : {resc_data[\"correct\"].max()}')"
   ]
  },
  {
   "cell_type": "markdown",
   "id": "d887c5e72037c54",
   "metadata": {},
   "source": [
    "### Get final stats and create metadata"
   ]
  },
  {
   "cell_type": "code",
   "execution_count": null,
   "id": "d3ce35f2a3d57db3",
   "metadata": {},
   "outputs": [],
   "source": [
    "stat_unique(resc_data, None)\n",
    "stat_unique(resc_data, ['user_id', 'item_id'])\n",
    "stat_unique(resc_data, 'user_id')\n",
    "stat_unique(resc_data, 'item_id')\n",
    "stat_unique(resc_data, 'dimension_id')\n",
    "stat_unique(resc_data, 'correct')\n",
    "\n",
    "resc_data_dim_grouped_items = resc_data.groupby(\"dimension_id\")[\"item_id\"].nunique()\n",
    "resc_data_dim_grouped_users = resc_data.groupby(\"dimension_id\")[\"user_id\"].nunique()\n",
    "print('#questions/category: {} & {} &  {}'.format(np.min(resc_data_dim_grouped_items),int(np.round(np.mean(resc_data_dim_grouped_items))),np.max(resc_data_dim_grouped_items)))\n",
    "print('#users/category: {} & {} &  {}'.format(np.min(resc_data_dim_grouped_users),int(np.round(np.mean(resc_data_dim_grouped_users))),np.max(resc_data_dim_grouped_users)))\n",
    "\n",
    "resc_data_dim_grouped_items = resc_data.groupby(\"item_id\")[\"dimension_id\"].nunique()\n",
    "resc_data_dim_grouped_users = resc_data.groupby(\"item_id\")[\"user_id\"].nunique()\n",
    "print('#categorys/question: {} & {} &  {}'.format(np.min(resc_data_dim_grouped_items),int(np.round(np.mean(resc_data_dim_grouped_items))),np.max(resc_data_dim_grouped_items)))\n",
    "print('#users/question: {} & {} &  {}'.format(np.min(resc_data_dim_grouped_users),int(np.round(np.mean(resc_data_dim_grouped_users))),np.max(resc_data_dim_grouped_users)))\n",
    "\n",
    "resc_data_dim_grouped_items = resc_data.groupby(\"user_id\")[\"item_id\"].nunique()\n",
    "resc_data_dim_grouped_users = resc_data.groupby(\"user_id\")[\"dimension_id\"].nunique()\n",
    "print('#questions/users: {} & {} &  {}'.format(np.min(resc_data_dim_grouped_items),int(np.round(np.mean(resc_data_dim_grouped_items))),np.max(resc_data_dim_grouped_items)))\n",
    "print('#categorys/users: {} & {} &  {}'.format(np.min(resc_data_dim_grouped_users),int(np.round(np.mean(resc_data_dim_grouped_users))),np.max(resc_data_dim_grouped_users)))"
   ]
  },
  {
   "cell_type": "code",
   "execution_count": null,
   "id": "96b9fda0f0c947ba",
   "metadata": {},
   "outputs": [],
   "source": [
    "import matplotlib.pyplot as plt\n",
    "\n",
    "# draw a histogram of the age column\n",
    "(resc_data['correct']-1).hist(bins=20)\n",
    "\n",
    "# add labels and title\n",
    "plt.xlabel('Responses')\n",
    "plt.ylabel('Number')\n",
    "plt.title('Distribution of Responses')\n",
    "plt.savefig('../4-figs/distribution_math2.png')\n"
   ]
  },
  {
   "cell_type": "code",
   "execution_count": null,
   "id": "1420cf5a2ffcaf83",
   "metadata": {},
   "outputs": [],
   "source": [
    "resc_data_dim_grouped_items = resc_data.groupby(\"item_id\")[\"dimension_id\"].nunique()\n",
    "resc_data_dim_grouped_users = resc_data.groupby(\"item_id\")[\"user_id\"].nunique()\n",
    "metadata = get_metadata(resc_data,[\"user_id\", \"item_id\", \"dimension_id\"])\n",
    "metadata['min_nb_users_logs'] = min_nb_users_logs\n",
    "metadata['max_nb_categories_per_question'] = int(np.max(resc_data_dim_grouped_items))"
   ]
  },
  {
   "cell_type": "markdown",
   "id": "7b3d5b11-88fd-4330-b7f7-69e6db25c48b",
   "metadata": {},
   "source": [
    "### Compute nb of modalities per item"
   ]
  },
  {
   "cell_type": "code",
   "execution_count": null,
   "id": "a35a5487-a7e8-4e19-90c6-51f23dd8ea88",
   "metadata": {},
   "outputs": [],
   "source": [
    "nb_modalities = get_modalities_nb(resc_data, metadata)"
   ]
  },
  {
   "cell_type": "markdown",
   "id": "af2a1ef2455361fa",
   "metadata": {},
   "source": [
    "### Save data, concept map, metadata and nb_modalities"
   ]
  },
  {
   "cell_type": "code",
   "execution_count": null,
   "id": "2711f76ebb0f8c75",
   "metadata": {},
   "outputs": [],
   "source": [
    "new_order = ['user_id','item_id', 'correct', 'dimension_id']\n",
    "resc_data = resc_data[new_order]"
   ]
  },
  {
   "cell_type": "code",
   "execution_count": null,
   "id": "9314705046e62dcb",
   "metadata": {},
   "outputs": [],
   "source": [
    "# save selected data\n",
    "resc_data.to_csv('../1-raw_data/math2_selected_data.csv', index=False)"
   ]
  },
  {
   "cell_type": "code",
   "execution_count": null,
   "id": "d57fbdcefd9ed82",
   "metadata": {},
   "outputs": [],
   "source": [
    "# Convert int64 keys to str\n",
    "q2k_str_keys = {str(key): value for key, value in q2k.items()}\n",
    "\n",
    "# Convert sets to lists in the dictionary\n",
    "q2k_json_serializable = {}\n",
    "for key, value in q2k_str_keys.items():\n",
    "    if isinstance(value, set):\n",
    "        q2k_json_serializable[key] = list(value)\n",
    "    else:\n",
    "        q2k_json_serializable[key] = value\n",
    "\n",
    "# Save concept map\n",
    "with open('../2-preprocessed_data/math2_concept_map.json', 'w') as f:\n",
    "    json.dump(q2k_json_serializable, f)"
   ]
  },
  {
   "cell_type": "code",
   "execution_count": null,
   "id": "6fdbebe69540c57c",
   "metadata": {},
   "outputs": [],
   "source": [
    "# save metadata\n",
    "with open('../2-preprocessed_data/math2_metadata.json', 'w') as f:\n",
    "    json.dump(metadata, f)"
   ]
  },
  {
   "cell_type": "code",
   "execution_count": null,
   "id": "46932b68-b0a7-4fe1-a090-af21cfd03cc3",
   "metadata": {},
   "outputs": [],
   "source": [
    "# save metadata\n",
    "torch.save(nb_modalities,'../2-preprocessed_data/math2_nb_modalities.pkl')"
   ]
  },
  {
   "cell_type": "markdown",
   "id": "db9f1ae6fa56cfa1",
   "metadata": {},
   "source": [
    "## parse data"
   ]
  },
  {
   "cell_type": "code",
   "execution_count": null,
   "id": "850280e1dfdda1b9",
   "metadata": {},
   "outputs": [],
   "source": [
    "%load_ext autoreload\n",
    "%autoreload 2"
   ]
  },
  {
   "cell_type": "code",
   "execution_count": null,
   "id": "3b97a578bdb0ec0b",
   "metadata": {},
   "outputs": [],
   "source": [
    "from micat import utils\n",
    "utils.setuplogger(verbose = True,log_path = \"../../logs/\", log_name=\"micat\")\n",
    "utils.set_seed(0)"
   ]
  },
  {
   "cell_type": "code",
   "execution_count": null,
   "id": "2e4e3ad90376b31",
   "metadata": {},
   "outputs": [],
   "source": [
    "import pandas as pd\n",
    "from micat.dataset.preprocessing_utilities import *\n",
    "resc_data = pd.read_csv('../1-raw_data/math2_selected_data.csv')"
   ]
  },
  {
   "cell_type": "code",
   "execution_count": null,
   "id": "53610eb7a85babfb",
   "metadata": {},
   "outputs": [],
   "source": [
    "train, valid, test = split_users(resc_data, 5)"
   ]
  },
  {
   "cell_type": "markdown",
   "id": "f915b75def104ab9",
   "metadata": {},
   "source": [
    "## save data"
   ]
  },
  {
   "cell_type": "code",
   "execution_count": null,
   "id": "3cd91d1f1e2665cf",
   "metadata": {},
   "outputs": [],
   "source": [
    "for i_fold, train_fold in enumerate(train):\n",
    "    save_df_to_csv(train[i_fold], f'../2-preprocessed_data/math2_train_{i_fold}.csv')\n",
    "    save_df_to_csv(valid[i_fold], f'../2-preprocessed_data/math2_valid_{i_fold}.csv')\n",
    "    save_df_to_csv(test[i_fold], f'../2-preprocessed_data/math2_test_{i_fold}.csv')"
   ]
  },
  {
   "cell_type": "markdown",
   "id": "cf73aca8db70d3b1",
   "metadata": {},
   "source": [
    "## Train IMPACT model"
   ]
  },
  {
   "cell_type": "code",
   "execution_count": null,
   "id": "a33306919a97d5b",
   "metadata": {},
   "outputs": [],
   "source": [
    "from micat.utils import generate_eval_config\n",
    "import json\n",
    "from IMPACT.dataset import LoaderDataset as IMPACT_dataset\n",
    "from micat.CDM import *\n",
    "from IMPACT import model\n",
    "from micat.dataset.preprocessing_utilities import *\n",
    "\n",
    "\n",
    "folds_nb = 1\n",
    "dataset_name=\"math2\"\n",
    "\n",
    "# Set all the required parameters ---------------\n",
    "IMPACT_config = generate_eval_config(num_epochs=200, save_params=True, dataset_name=dataset_name, embs_path=\"../../embs/\"+dataset_name, params_path=\"../../ckpt/\"+dataset_name,  learning_rate=0.01885, lambda_=2e-7, batch_size=2048,valid_metric='mi_acc', pred_metrics=[\"mi_acc\"])\n",
    "\n",
    "concept_map = json.load(open(f'../2-preprocessed_data/{IMPACT_config[\"dataset_name\"]}_concept_map.json', 'r'))\n",
    "concept_map = {int(k): [int(x) for x in v] for k, v in concept_map.items()}\n",
    "\n",
    "metadata = json.load(open(f'../2-preprocessed_data/{IMPACT_config[\"dataset_name\"]}_metadata.json', 'r'))\n",
    "\n",
    "\n",
    "# Conversion helper that builds a DataFrame with specific dtypes and returns records.\n",
    "def convert_to_records(data):\n",
    "    df = pd.DataFrame(data, columns={'user_id': int, 'item_id': int, 'category_id': int,'correct': float, })\n",
    "    return df.to_records(index=False, column_dtypes={'user_id': int, 'item_id': int, 'correct': float, 'category_id': int})"
   ]
  },
  {
   "cell_type": "code",
   "execution_count": null,
   "id": "57f46a6fa28b0de3",
   "metadata": {},
   "outputs": [],
   "source": [
    "for i in range(folds_nb):\n",
    "    # Merge the training and validation data for the current fold.\n",
    "    train_valid_df = pd.concat([train[i], valid[i]])\n",
    "    # Split the merged data horizontally into train and validation sets.\n",
    "\n",
    "    quadruplet = quadruplet_format(train_valid_df)\n",
    "    train_data, valid_data, test_data = split_data_vertically(quadruplet, test_prop=0.2,valid_prop=0.1,folds_nb=5)\n",
    "\n",
    "    # Convert each split in one step using the helper.\n",
    "    horizontal_train = convert_to_records(train_data[0])\n",
    "    horizontal_valid = convert_to_records(valid_data[0])\n",
    "    horizontal_test = convert_to_records(test_data[0])\n",
    "\n",
    "    impact_train_data = IMPACT_dataset(horizontal_train, concept_map, metadata)\n",
    "    impact_valid_data = IMPACT_dataset(horizontal_valid, concept_map, metadata)\n",
    "    impact_test_data = IMPACT_dataset(horizontal_test, concept_map, metadata)\n",
    "\n",
    "    IMPACT_config['i_fold'] = i\n",
    "    algo = model.IMPACT(**IMPACT_config)\n",
    "    algo.init_model(impact_train_data, impact_valid_data)\n",
    "    algo.train(impact_train_data, impact_valid_data)\n",
    "    print(algo.evaluate_predictions(impact_test_data))"
   ]
  },
  {
   "cell_type": "code",
   "execution_count": null,
   "id": "688393a7-50ba-402c-bedd-a966bca887e7",
   "metadata": {},
   "outputs": [],
   "source": [
    "import os\n",
    "os.environ[\"PYTORCH_CUDA_ALLOC_CONF\"] = \"expandable_segments:True\"\n",
    "\n",
    "from micat import utils\n",
    "utils.set_seed(0)\n",
    "from micat import dataset\n",
    "from micat import selectionStrategy\n",
    "from micat import CDM\n",
    "\n",
    "import logging\n",
    "import gc\n",
    "import json\n",
    "import torch\n",
    "import pandas as pd\n",
    "from importlib import reload\n",
    "import IMPACT\n",
    "\n",
    "import warnings\n",
    "import numpy as np\n",
    "\n",
    "gc.collect()\n",
    "torch.cuda.empty_cache()\n",
    "\n",
    "reload(utils)\n",
    "reload(selectionStrategy)\n",
    "reload(CDM)\n",
    "reload(dataset)\n",
    "\n",
    "config = utils.generate_eval_config(i_fold = 0,\n",
    "                                    num_epochs=1,\n",
    "                                    load_params=True,\n",
    "                                    inner_user_lr=0.0001,\n",
    "                                    esc = 'error',\n",
    "                                    valid_metric= 'mi_acc',\n",
    "                                    pred_metrics = [\"mi_acc\"],\n",
    "                                    profile_metrics = ['doa'],\n",
    "                                    save_params=False,\n",
    "                                    n_query=5,\n",
    "                                    batch_size=512)\n",
    "utils.set_seed(config[\"seed\"])\n",
    "\n",
    "config[\"dataset_name\"] = \"math2\"\n",
    "logging.info(config[\"dataset_name\"])\n",
    "config['learning_rate'] = 0.02026\n",
    "config['lambda'] = 1.2e-5\n",
    "config['d_in'] = 4\n",
    "config['num_responses'] = 12\n",
    "#pred_metrics,df_interp = test(config)\n",
    "\n",
    "logging.info(f'#### {config[\"dataset_name\"]} ####')\n",
    "logging.info(f'#### config : {config} ####')\n",
    "config['embs_path']='../../embs/'+str(config[\"dataset_name\"])\n",
    "config['params_path']='../../ckpt/'+str(config[\"dataset_name\"])\n",
    "\n",
    "pred_metrics = {m:[] for m in config['pred_metrics']}\n",
    "profile_metrics = {m:[] for m in config['profile_metrics']}\n",
    "\n",
    "gc.collect()\n",
    "torch.cuda.empty_cache()\n",
    "\n",
    "# Dataset downloading for doa and rm\n",
    "warnings.filterwarnings(\"ignore\", message=\"invalid value encountered in divide\")\n",
    "warnings.filterwarnings(\"ignore\", category=RuntimeWarning)\n",
    "\n",
    "## Concept map format : {question_id : [category_id1, category_id2, ...]}outside model initialization\n",
    "concept_map = json.load(open(f'../2-preprocessed_data/{config[\"dataset_name\"]}_concept_map.json', 'r'))\n",
    "concept_map = {int(k): [int(x) for x in v] for k, v in concept_map.items()}\n",
    "\n",
    "## Metadata map format : {\"num_user_id\": ..., \"num_item_id\": ..., \"num_dimension_id\": ...}\n",
    "metadata = json.load(open(f'../2-preprocessed_data/{config[\"dataset_name\"]}_metadata.json', 'r'))\n",
    "\n",
    "i_fold = 0\n",
    "## Dataframe columns : (user_id, question_id, response, category_id)\n",
    "train_df = pd.read_csv(\n",
    "    f'../2-preprocessed_data/{config[\"dataset_name\"]}_train_{i_fold}.csv',\n",
    "    encoding='utf-8', dtype={'student_id': int, 'item_id': int, \"correct\": float,\n",
    "                                                             \"dimension_id\": int})\n",
    "valid_df = pd.read_csv(\n",
    "    f'../2-preprocessed_data/{config[\"dataset_name\"]}_valid_{i_fold}.csv',\n",
    "    encoding='utf-8', dtype={'student_id': int, 'item_id': int, \"correct\": float,\n",
    "                                                             \"dimension_id\": int})\n",
    "test_df = pd.read_csv(\n",
    "    f'../2-preprocessed_data/{config[\"dataset_name\"]}_test_{i_fold}.csv',\n",
    "    encoding='utf-8', dtype={'student_id': int, 'item_id': int, \"correct\": float,\n",
    "                                                             \"dimension_id\": int})\n",
    "train_data = dataset.CATDataset(train_df, concept_map, metadata, config)\n",
    "valid_data = dataset.EvalDataset(valid_df, concept_map, metadata, config)\n",
    "test_data = dataset.EvalDataset(test_df, concept_map, metadata, config)\n",
    "\n",
    "S = selectionStrategy.Random(metadata,**config)"
   ]
  },
  {
   "cell_type": "code",
   "execution_count": null,
   "id": "b490a908-2265-44f3-854a-59166b199f23",
   "metadata": {},
   "outputs": [],
   "source": [
    "S.init_models(train_data, valid_data)"
   ]
  },
  {
   "cell_type": "code",
   "execution_count": null,
   "id": "a5f95c28-dd26-4460-ba12-27a9cbf79f17",
   "metadata": {},
   "outputs": [],
   "source": [
    "S.evaluate_test(test_data)"
   ]
  },
  {
   "cell_type": "code",
   "execution_count": null,
   "id": "b1003d70-beb1-4170-9993-ee62dcff200a",
   "metadata": {},
   "outputs": [],
   "source": [
    "torch.sum(S.CDM.model.R!=0)"
   ]
  },
  {
   "cell_type": "code",
   "execution_count": null,
   "id": "6b482e14-d9dc-4926-b6e0-75cd51ba5998",
   "metadata": {},
   "outputs": [],
   "source": []
  }
 ],
 "metadata": {
  "kernelspec": {
   "display_name": "Python 3 (ipykernel)",
   "language": "python",
   "name": "python3"
  },
  "language_info": {
   "codemirror_mode": {
    "name": "ipython",
    "version": 3
   },
   "file_extension": ".py",
   "mimetype": "text/x-python",
   "name": "python",
   "nbconvert_exporter": "python",
   "pygments_lexer": "ipython3",
   "version": "3.11.11"
  }
 },
 "nbformat": 4,
 "nbformat_minor": 5
}
