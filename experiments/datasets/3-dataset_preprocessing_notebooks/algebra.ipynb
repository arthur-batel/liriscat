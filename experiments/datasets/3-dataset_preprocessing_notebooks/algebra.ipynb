{
 "cells": [
  {
   "cell_type": "markdown",
   "id": "3f91591122382be0",
   "metadata": {},
   "source": [
    "# algebra dataset preprocessing\n",
    "### Import"
   ]
  },
  {
   "cell_type": "code",
   "execution_count": 25,
   "id": "5c572fedcc3d884",
   "metadata": {
    "ExecuteTime": {
     "end_time": "2025-05-13T11:29:18.888853Z",
     "start_time": "2025-05-13T11:29:18.842557Z"
    }
   },
   "outputs": [
    {
     "name": "stdout",
     "output_type": "stream",
     "text": [
      "The autoreload extension is already loaded. To reload it, use:\n",
      "  %reload_ext autoreload\n"
     ]
    }
   ],
   "source": [
    "%load_ext autoreload\n",
    "%autoreload 2"
   ]
  },
  {
   "cell_type": "code",
   "execution_count": 26,
   "id": "763506e3fc4c3ef3",
   "metadata": {
    "ExecuteTime": {
     "end_time": "2025-05-13T11:29:19.110702Z",
     "start_time": "2025-05-13T11:29:19.082972Z"
    }
   },
   "outputs": [
    {
     "name": "stdout",
     "output_type": "stream",
     "text": [
      "CUDA is not available. Skipping CUDA seed setting.\n"
     ]
    }
   ],
   "source": [
    "import json\n",
    "import pandas as pd\n",
    "import numpy as np\n",
    "from liriscat.dataset.preprocessing_utilities import *\n",
    "from liriscat.utils import utils\n",
    "import torch\n",
    "utils.set_seed(0)"
   ]
  },
  {
   "cell_type": "code",
   "execution_count": 27,
   "id": "acc6991e-493f-4417-83db-0832e8c6eba6",
   "metadata": {},
   "outputs": [
    {
     "name": "stdout",
     "output_type": "stream",
     "text": [
      "Now in: /lustre/fsn1/projects/rech/enh/unv34ei/liriscat/experiments/datasets/3-dataset_preprocessing_notebooks\n"
     ]
    }
   ],
   "source": [
    "import os\n",
    "\n",
    "# Example: change to a directory called \"experiments\"\n",
    "os.chdir(\"/lustre/fsn1/projects/rech/enh/unv34ei/liriscat/experiments/datasets/3-dataset_preprocessing_notebooks\")\n",
    "\n",
    "# Verify\n",
    "print(\"Now in:\", os.getcwd())\n"
   ]
  },
  {
   "cell_type": "markdown",
   "id": "2c6ffc9f3b1e2e5c",
   "metadata": {},
   "source": [
    "### Load and merge dataset"
   ]
  },
  {
   "cell_type": "code",
   "execution_count": 28,
   "id": "eae9427ff89ef0a3",
   "metadata": {
    "ExecuteTime": {
     "end_time": "2025-05-13T11:29:22.628212Z",
     "start_time": "2025-05-13T11:29:19.405213Z"
    }
   },
   "outputs": [
    {
     "data": {
      "text/html": [
       "<div>\n",
       "<style scoped>\n",
       "    .dataframe tbody tr th:only-of-type {\n",
       "        vertical-align: middle;\n",
       "    }\n",
       "\n",
       "    .dataframe tbody tr th {\n",
       "        vertical-align: top;\n",
       "    }\n",
       "\n",
       "    .dataframe thead th {\n",
       "        text-align: right;\n",
       "    }\n",
       "</style>\n",
       "<table border=\"1\" class=\"dataframe\">\n",
       "  <thead>\n",
       "    <tr style=\"text-align: right;\">\n",
       "      <th></th>\n",
       "      <th>dimension_id</th>\n",
       "      <th>user_id</th>\n",
       "      <th>item_id</th>\n",
       "      <th>correct</th>\n",
       "    </tr>\n",
       "  </thead>\n",
       "  <tbody>\n",
       "    <tr>\n",
       "      <th>0</th>\n",
       "      <td>{106}</td>\n",
       "      <td>0</td>\n",
       "      <td>0</td>\n",
       "      <td>0</td>\n",
       "    </tr>\n",
       "    <tr>\n",
       "      <th>1</th>\n",
       "      <td>{106}</td>\n",
       "      <td>0</td>\n",
       "      <td>1</td>\n",
       "      <td>0</td>\n",
       "    </tr>\n",
       "    <tr>\n",
       "      <th>2</th>\n",
       "      <td>{61}</td>\n",
       "      <td>0</td>\n",
       "      <td>2</td>\n",
       "      <td>0</td>\n",
       "    </tr>\n",
       "    <tr>\n",
       "      <th>3</th>\n",
       "      <td>{25, 133}</td>\n",
       "      <td>0</td>\n",
       "      <td>3</td>\n",
       "      <td>0</td>\n",
       "    </tr>\n",
       "    <tr>\n",
       "      <th>4</th>\n",
       "      <td>{99}</td>\n",
       "      <td>0</td>\n",
       "      <td>4</td>\n",
       "      <td>0</td>\n",
       "    </tr>\n",
       "  </tbody>\n",
       "</table>\n",
       "</div>"
      ],
      "text/plain": [
       "  dimension_id  user_id  item_id  correct\n",
       "0        {106}        0        0        0\n",
       "1        {106}        0        1        0\n",
       "2         {61}        0        2        0\n",
       "3    {25, 133}        0        3        0\n",
       "4         {99}        0        4        0"
      ]
     },
     "execution_count": 28,
     "metadata": {},
     "output_type": "execute_result"
    }
   ],
   "source": [
    "raw_data = pd.read_csv('../1-raw_data/algebra.csv', encoding=\"ISO-8859-15\", low_memory=False)\n",
    "\n",
    "raw_data = raw_data.drop(columns=['Unnamed: 0','Unnamed: 0.1','Unnamed: 0.2','Unnamed: 0.1.1','Unnamed: 0.1.1.1','Row','PH','PN','PV','SN','Step Start Time','start_time','Correct Transaction Time','Step End Time','Step Duration (sec)','Correct Step Duration (sec)','Error Step Duration (sec)','Incorrects','Hints','Corrects','KC(Default)','Opportunity(Default)','KC2','qr','qr_compl'])\n",
    "\n",
    "raw_data =  raw_data.rename(columns={\"skill_id\": \"dimension_id\"})\n",
    "raw_data.head()"
   ]
  },
  {
   "cell_type": "markdown",
   "id": "70d36cb174851667",
   "metadata": {},
   "source": [
    "### Split rows with several dimensions"
   ]
  },
  {
   "cell_type": "code",
   "execution_count": 29,
   "id": "48baada5ec363a41",
   "metadata": {
    "ExecuteTime": {
     "end_time": "2025-05-13T11:29:24.093220Z",
     "start_time": "2025-05-13T11:29:22.676260Z"
    }
   },
   "outputs": [
    {
     "data": {
      "text/html": [
       "<div>\n",
       "<style scoped>\n",
       "    .dataframe tbody tr th:only-of-type {\n",
       "        vertical-align: middle;\n",
       "    }\n",
       "\n",
       "    .dataframe tbody tr th {\n",
       "        vertical-align: top;\n",
       "    }\n",
       "\n",
       "    .dataframe thead th {\n",
       "        text-align: right;\n",
       "    }\n",
       "</style>\n",
       "<table border=\"1\" class=\"dataframe\">\n",
       "  <thead>\n",
       "    <tr style=\"text-align: right;\">\n",
       "      <th></th>\n",
       "      <th>dimension_id</th>\n",
       "      <th>user_id</th>\n",
       "      <th>item_id</th>\n",
       "      <th>correct</th>\n",
       "    </tr>\n",
       "  </thead>\n",
       "  <tbody>\n",
       "    <tr>\n",
       "      <th>0</th>\n",
       "      <td>106</td>\n",
       "      <td>0</td>\n",
       "      <td>0</td>\n",
       "      <td>0</td>\n",
       "    </tr>\n",
       "    <tr>\n",
       "      <th>1</th>\n",
       "      <td>106</td>\n",
       "      <td>0</td>\n",
       "      <td>1</td>\n",
       "      <td>0</td>\n",
       "    </tr>\n",
       "    <tr>\n",
       "      <th>2</th>\n",
       "      <td>61</td>\n",
       "      <td>0</td>\n",
       "      <td>2</td>\n",
       "      <td>0</td>\n",
       "    </tr>\n",
       "    <tr>\n",
       "      <th>3</th>\n",
       "      <td>25</td>\n",
       "      <td>0</td>\n",
       "      <td>3</td>\n",
       "      <td>0</td>\n",
       "    </tr>\n",
       "    <tr>\n",
       "      <th>4</th>\n",
       "      <td>133</td>\n",
       "      <td>0</td>\n",
       "      <td>3</td>\n",
       "      <td>0</td>\n",
       "    </tr>\n",
       "  </tbody>\n",
       "</table>\n",
       "</div>"
      ],
      "text/plain": [
       "  dimension_id  user_id  item_id  correct\n",
       "0          106        0        0        0\n",
       "1          106        0        1        0\n",
       "2           61        0        2        0\n",
       "3           25        0        3        0\n",
       "4          133        0        3        0"
      ]
     },
     "execution_count": 29,
     "metadata": {},
     "output_type": "execute_result"
    }
   ],
   "source": [
    "raw_data['dimension_id'] = raw_data['dimension_id'].apply(lambda x: set(map(int, x.strip('{}').split(', '))))\n",
    "df_expanded = raw_data.explode('dimension_id').reset_index(drop=True)\n",
    "df_expanded.head()"
   ]
  },
  {
   "cell_type": "markdown",
   "id": "e5d4c71f",
   "metadata": {},
   "source": [
    "### Binarize all responses for homogeneity purpose"
   ]
  },
  {
   "cell_type": "code",
   "execution_count": 30,
   "id": "b5a0c0cb66778f1c",
   "metadata": {
    "ExecuteTime": {
     "end_time": "2025-05-13T11:29:24.151371Z",
     "start_time": "2025-05-13T11:29:24.134530Z"
    }
   },
   "outputs": [
    {
     "name": "stdout",
     "output_type": "stream",
     "text": [
      "616730\n"
     ]
    }
   ],
   "source": [
    "df_expanded['correct']=df_expanded['correct'].round()\n",
    "print(len(df_expanded))"
   ]
  },
  {
   "cell_type": "markdown",
   "id": "f532d0b094164b01",
   "metadata": {},
   "source": [
    "### Early stats"
   ]
  },
  {
   "cell_type": "code",
   "execution_count": 31,
   "id": "d6b0feeae63d2c54",
   "metadata": {
    "ExecuteTime": {
     "end_time": "2025-05-13T11:29:24.215861Z",
     "start_time": "2025-05-13T11:29:24.160585Z"
    }
   },
   "outputs": [
    {
     "name": "stdout",
     "output_type": "stream",
     "text": [
      "616730\n",
      "616730\n"
     ]
    }
   ],
   "source": [
    "print(len(df_expanded))\n",
    "all_data = df_expanded.dropna(subset=['user_id','item_id','correct','dimension_id'])\n",
    "print(len(all_data))"
   ]
  },
  {
   "cell_type": "code",
   "execution_count": 32,
   "id": "75ad853c5e6327ab",
   "metadata": {
    "ExecuteTime": {
     "end_time": "2025-05-13T11:29:24.401536Z",
     "start_time": "2025-05-13T11:29:24.251822Z"
    }
   },
   "outputs": [
    {
     "name": "stdout",
     "output_type": "stream",
     "text": [
      "Total length: 616730\n",
      "Number of unique [user_id,item_id]: 447628\n",
      "Number of unique user_id: 830\n",
      "Number of unique item_id: 2365\n",
      "Number of unique dimension_id: 136\n"
     ]
    }
   ],
   "source": [
    "stat_unique(all_data, None)\n",
    "stat_unique(all_data, ['user_id', 'item_id'])\n",
    "stat_unique(all_data, 'user_id')\n",
    "stat_unique(all_data, 'item_id')\n",
    "stat_unique(all_data, 'dimension_id')"
   ]
  },
  {
   "cell_type": "markdown",
   "id": "9d2a99907e563075",
   "metadata": {},
   "source": [
    "### Clean Nan values"
   ]
  },
  {
   "cell_type": "code",
   "execution_count": 33,
   "id": "10b1e79bf17e1a46",
   "metadata": {
    "ExecuteTime": {
     "end_time": "2025-05-13T11:29:24.547122Z",
     "start_time": "2025-05-13T11:29:24.422842Z"
    }
   },
   "outputs": [],
   "source": [
    "cleaned_data = all_data.dropna(subset=['user_id','item_id','correct','dimension_id'], axis='index')"
   ]
  },
  {
   "cell_type": "markdown",
   "id": "1cf51a190511d02f",
   "metadata": {},
   "source": [
    "### Remove duplicated user and id rows"
   ]
  },
  {
   "cell_type": "code",
   "execution_count": 34,
   "id": "128895437c128e14",
   "metadata": {
    "ExecuteTime": {
     "end_time": "2025-05-13T11:29:24.860398Z",
     "start_time": "2025-05-13T11:29:24.679754Z"
    }
   },
   "outputs": [],
   "source": [
    "unduplicated_data = remove_duplicates(cleaned_data,key_attrs=['user_id','item_id','dimension_id'],agg_attrs=[])"
   ]
  },
  {
   "cell_type": "markdown",
   "id": "4a633bb837a7af3b",
   "metadata": {},
   "source": [
    "### Filter Data"
   ]
  },
  {
   "cell_type": "code",
   "execution_count": 35,
   "id": "62388835388d50d8",
   "metadata": {
    "ExecuteTime": {
     "end_time": "2025-05-13T11:29:25.157925Z",
     "start_time": "2025-05-13T11:29:24.887121Z"
    }
   },
   "outputs": [
    {
     "name": "stdout",
     "output_type": "stream",
     "text": [
      "filter 0 item_id\n",
      "filter 0 user_id\n",
      "filter 0 dimension_id\n",
      "Total length: 616730\n",
      "Number of unique [user_id,item_id]: 447628\n",
      "Number of unique user_id: 830\n",
      "Number of unique item_id: 2365\n",
      "Number of unique dimension_id: 136\n"
     ]
    }
   ],
   "source": [
    "filtered_data_0 = unduplicated_data\n",
    "filtered_q_nb = 1\n",
    "filtered_u_nb = 0\n",
    "filtered_d_nb = 0\n",
    "while filtered_q_nb!=0 or filtered_u_nb!=0 or filtered_d_nb!=0 : \n",
    "    # filter items\n",
    "    filtered_data_1, filtered_q_nb = densify(filtered_data_0,'item_id','user_id',3)\n",
    "    # filter users\n",
    "    min_nb_users_logs = 16\n",
    "    filtered_data_2, filtered_u_nb = densify(filtered_data_1,'user_id','item_id',min_nb_users_logs)\n",
    "    # filter knowledges\n",
    "    filtered_data_3, filtered_d_nb = densify(filtered_data_2,'dimension_id','item_id',1)\n",
    "    filtered_data_0 = filtered_data_3\n",
    "    \n",
    "stat_unique(filtered_data_0, None)\n",
    "stat_unique(filtered_data_0, ['user_id', 'item_id'])\n",
    "stat_unique(filtered_data_0, 'user_id')\n",
    "stat_unique(filtered_data_0, 'item_id')\n",
    "stat_unique(filtered_data_0, 'dimension_id')"
   ]
  },
  {
   "cell_type": "markdown",
   "id": "5f38b00b83903cf8",
   "metadata": {},
   "source": [
    "### Encoding"
   ]
  },
  {
   "cell_type": "code",
   "execution_count": 36,
   "id": "461aaa3f05f101f3",
   "metadata": {
    "ExecuteTime": {
     "end_time": "2025-05-13T11:29:44.852342Z",
     "start_time": "2025-05-13T11:29:25.282878Z"
    }
   },
   "outputs": [],
   "source": [
    "# renumber the users\n",
    "u_enc_data, u2n = encode_attr(filtered_data_0, \"user_id\")"
   ]
  },
  {
   "cell_type": "code",
   "execution_count": 37,
   "id": "4ad08e7dad6b96ac",
   "metadata": {
    "ExecuteTime": {
     "end_time": "2025-05-13T11:30:03.541174Z",
     "start_time": "2025-05-13T11:29:44.903096Z"
    }
   },
   "outputs": [],
   "source": [
    "# renumber the items\n",
    "q_enc_data, q2n = encode_attr(u_enc_data, \"item_id\")"
   ]
  },
  {
   "cell_type": "code",
   "execution_count": 38,
   "id": "9d3b2c3dff642633",
   "metadata": {
    "ExecuteTime": {
     "end_time": "2025-05-13T11:30:21.524814Z",
     "start_time": "2025-05-13T11:30:03.577358Z"
    }
   },
   "outputs": [],
   "source": [
    "# renumber the dimensions\n",
    "d_enc_data, d2n = encode_attr(q_enc_data, \"dimension_id\")"
   ]
  },
  {
   "cell_type": "markdown",
   "id": "3b9e92e115b938bd",
   "metadata": {},
   "source": [
    "### Maps creation"
   ]
  },
  {
   "cell_type": "code",
   "execution_count": 39,
   "id": "124352496823ae86",
   "metadata": {
    "ExecuteTime": {
     "end_time": "2025-05-13T11:30:21.756668Z",
     "start_time": "2025-05-13T11:30:21.590873Z"
    }
   },
   "outputs": [],
   "source": [
    "q2k, k2q = create_q2k(d_enc_data)"
   ]
  },
  {
   "cell_type": "markdown",
   "id": "d9bbf26af710c979",
   "metadata": {},
   "source": [
    "### Rescaling responses"
   ]
  },
  {
   "cell_type": "code",
   "execution_count": 40,
   "id": "16227ddf196496e7",
   "metadata": {
    "ExecuteTime": {
     "end_time": "2025-05-13T11:30:21.855906Z",
     "start_time": "2025-05-13T11:30:21.818617Z"
    }
   },
   "outputs": [
    {
     "name": "stdout",
     "output_type": "stream",
     "text": [
      "min value : 1.0, max value : 2.0\n"
     ]
    }
   ],
   "source": [
    "resc_data = d_enc_data\n",
    "resc_data['correct'] = resc_data['correct'].astype(float)\n",
    "min_val = resc_data['correct'].min()\n",
    "max_val = resc_data['correct'].max()\n",
    "resc_data['correct'] = (resc_data['correct']-min_val)/(max_val-min_val) +1\n",
    "print(f'min value : {resc_data[\"correct\"].min()}, max value : {resc_data[\"correct\"].max()}')"
   ]
  },
  {
   "cell_type": "markdown",
   "id": "d887c5e72037c54",
   "metadata": {},
   "source": [
    "### Get final stats and create metadata"
   ]
  },
  {
   "cell_type": "code",
   "execution_count": 50,
   "id": "d3ce35f2a3d57db3",
   "metadata": {
    "ExecuteTime": {
     "end_time": "2025-05-13T11:30:22.304148Z",
     "start_time": "2025-05-13T11:30:21.905591Z"
    }
   },
   "outputs": [
    {
     "name": "stdout",
     "output_type": "stream",
     "text": [
      "Total length: 616730\n",
      "Number of unique [user_id,item_id]: 447628\n",
      "Number of unique user_id: 830\n",
      "Number of unique item_id: 2365\n",
      "Number of unique dimension_id: 136\n",
      "Number of unique correct: 2\n",
      "#questions/category: 1 & 24 &  704\n",
      "#users/category: 3 & 385 &  830\n",
      "#categorys/question: 1 & 1 &  28\n",
      "#users/question: 100 & 189 &  545\n",
      "#questions/users: 100 & 539 &  1430\n",
      "#categorys/users: 7 & 63 &  127\n"
     ]
    }
   ],
   "source": [
    "stat_unique(resc_data, None)\n",
    "stat_unique(resc_data, ['user_id', 'item_id'])\n",
    "stat_unique(resc_data, 'user_id')\n",
    "stat_unique(resc_data, 'item_id')\n",
    "stat_unique(resc_data, 'dimension_id')\n",
    "stat_unique(resc_data, 'correct')\n",
    "\n",
    "resc_data_dim_grouped_items = resc_data.groupby(\"dimension_id\")[\"item_id\"].nunique()\n",
    "resc_data_dim_grouped_users = resc_data.groupby(\"dimension_id\")[\"user_id\"].nunique()\n",
    "print('#questions/category: {} & {} &  {}'.format(np.min(resc_data_dim_grouped_items),int(np.round(np.mean(resc_data_dim_grouped_items))),np.max(resc_data_dim_grouped_items)))\n",
    "print('#users/category: {} & {} &  {}'.format(np.min(resc_data_dim_grouped_users),int(np.round(np.mean(resc_data_dim_grouped_users))),np.max(resc_data_dim_grouped_users)))\n",
    "\n",
    "resc_data_dim_grouped_items = resc_data.groupby(\"item_id\")[\"dimension_id\"].nunique()\n",
    "resc_data_dim_grouped_users = resc_data.groupby(\"item_id\")[\"user_id\"].nunique()\n",
    "print('#categorys/question: {} & {} &  {}'.format(np.min(resc_data_dim_grouped_items),int(np.round(np.mean(resc_data_dim_grouped_items))),np.max(resc_data_dim_grouped_items)))\n",
    "print('#users/question: {} & {} &  {}'.format(np.min(resc_data_dim_grouped_users),int(np.round(np.mean(resc_data_dim_grouped_users))),np.max(resc_data_dim_grouped_users)))\n",
    "\n",
    "resc_data_dim_grouped_items = resc_data.groupby(\"user_id\")[\"item_id\"].nunique()\n",
    "resc_data_dim_grouped_users = resc_data.groupby(\"user_id\")[\"dimension_id\"].nunique()\n",
    "max_nb_q_per_users = np.max(resc_data_dim_grouped_items)\n",
    "min_nb_users_logs = np.min(resc_data_dim_grouped_items)\n",
    "print('#questions/users: {} & {} &  {}'.format(np.min(resc_data_dim_grouped_items),int(np.round(np.mean(resc_data_dim_grouped_items))),np.max(resc_data_dim_grouped_items)))\n",
    "print('#categorys/users: {} & {} &  {}'.format(np.min(resc_data_dim_grouped_users),int(np.round(np.mean(resc_data_dim_grouped_users))),np.max(resc_data_dim_grouped_users)))"
   ]
  },
  {
   "cell_type": "code",
   "execution_count": 52,
   "id": "96b9fda0f0c947ba",
   "metadata": {
    "ExecuteTime": {
     "end_time": "2025-05-13T11:30:22.680514Z",
     "start_time": "2025-05-13T11:30:22.363594Z"
    }
   },
   "outputs": [
    {
     "data": {
      "image/png": "[encoded data removed]",
      "text/plain": [
       "<Figure size 640x480 with 1 Axes>"
      ]
     },
     "metadata": {},
     "output_type": "display_data"
    }
   ],
   "source": [
    "import matplotlib.pyplot as plt\n",
    "\n",
    "# draw a histogram of the age column\n",
    "(resc_data['correct']-1).hist(bins=20)\n",
    "\n",
    "# add labels and title\n",
    "plt.xlabel('Responses')\n",
    "plt.ylabel('Number')\n",
    "plt.title('Distribution of Responses')\n",
    "plt.savefig('../4-figs/distribution_algebra.png')\n"
   ]
  },
  {
   "cell_type": "code",
   "execution_count": 53,
   "id": "1420cf5a2ffcaf83",
   "metadata": {
    "ExecuteTime": {
     "end_time": "2025-05-13T11:53:49.970763Z",
     "start_time": "2025-05-13T11:53:49.912927Z"
    }
   },
   "outputs": [],
   "source": [
    "resc_data_dim_grouped_items = resc_data.groupby(\"item_id\")[\"dimension_id\"].nunique()\n",
    "resc_data_dim_grouped_users = resc_data.groupby(\"item_id\")[\"user_id\"].nunique()\n",
    "metadata = get_metadata(resc_data,[\"user_id\", \"item_id\", \"dimension_id\"])\n",
    "metadata['min_nb_users_logs'] = int(min_nb_users_logs)\n",
    "metadata['max_nb_categories_per_question'] = int(np.max(resc_data_dim_grouped_items))\n",
    "metadata['max_nb_questions_per_user'] = int(max_nb_q_per_users)"
   ]
  },
  {
   "cell_type": "markdown",
   "id": "7b3d5b11-88fd-4330-b7f7-69e6db25c48b",
   "metadata": {},
   "source": [
    "### Compute nb of modalities per item"
   ]
  },
  {
   "cell_type": "code",
   "execution_count": 54,
   "id": "a35a5487-a7e8-4e19-90c6-51f23dd8ea88",
   "metadata": {
    "ExecuteTime": {
     "end_time": "2025-05-13T11:53:52.202151Z",
     "start_time": "2025-05-13T11:53:51.950277Z"
    }
   },
   "outputs": [],
   "source": [
    "nb_modalities = get_modalities_nb(resc_data, metadata)"
   ]
  },
  {
   "cell_type": "markdown",
   "id": "af2a1ef2455361fa",
   "metadata": {},
   "source": [
    "### Save data, concept map, metadata and nb_modalities"
   ]
  },
  {
   "cell_type": "code",
   "execution_count": 55,
   "id": "2711f76ebb0f8c75",
   "metadata": {
    "ExecuteTime": {
     "end_time": "2025-05-13T11:53:54.902585Z",
     "start_time": "2025-05-13T11:53:54.880165Z"
    }
   },
   "outputs": [],
   "source": [
    "new_order = ['user_id','item_id', 'correct', 'dimension_id']\n",
    "resc_data = resc_data[new_order]"
   ]
  },
  {
   "cell_type": "code",
   "execution_count": 56,
   "id": "9314705046e62dcb",
   "metadata": {
    "ExecuteTime": {
     "end_time": "2025-05-13T11:53:55.950321Z",
     "start_time": "2025-05-13T11:53:55.387701Z"
    }
   },
   "outputs": [],
   "source": [
    "# save selected data\n",
    "resc_data.to_csv('../1-raw_data/algebra_selected_data.csv', index=False)"
   ]
  },
  {
   "cell_type": "code",
   "execution_count": 57,
   "id": "d57fbdcefd9ed82",
   "metadata": {
    "ExecuteTime": {
     "end_time": "2025-05-13T11:53:55.972192Z",
     "start_time": "2025-05-13T11:53:55.952812Z"
    }
   },
   "outputs": [],
   "source": [
    "# Convert int64 keys to str\n",
    "q2k_str_keys = {str(key): value for key, value in q2k.items()}\n",
    "\n",
    "# Convert sets to lists in the dictionary\n",
    "q2k_json_serializable = {}\n",
    "for key, value in q2k_str_keys.items():\n",
    "    if isinstance(value, set):\n",
    "        q2k_json_serializable[key] = list(value)\n",
    "    else:\n",
    "        q2k_json_serializable[key] = value\n",
    "\n",
    "# Save concept map\n",
    "with open('../2-preprocessed_data/algebra_concept_map.json', 'w') as f:\n",
    "    json.dump(q2k_json_serializable, f)"
   ]
  },
  {
   "cell_type": "code",
   "execution_count": 58,
   "id": "6fdbebe69540c57c",
   "metadata": {
    "ExecuteTime": {
     "end_time": "2025-05-13T11:53:56.834597Z",
     "start_time": "2025-05-13T11:53:56.816474Z"
    }
   },
   "outputs": [],
   "source": [
    "# save metadata\n",
    "with open('../2-preprocessed_data/algebra_metadata.json', 'w') as f:\n",
    "    json.dump(metadata, f)"
   ]
  },
  {
   "cell_type": "code",
   "execution_count": 25,
   "id": "46932b68-b0a7-4fe1-a090-af21cfd03cc3",
   "metadata": {
    "ExecuteTime": {
     "end_time": "2025-05-13T11:53:57.628751Z",
     "start_time": "2025-05-13T11:53:57.610529Z"
    }
   },
   "outputs": [],
   "source": [
    "# save metadata\n",
    "torch.save(nb_modalities,'../2-preprocessed_data/algebra_nb_modalities.pkl')"
   ]
  },
  {
   "cell_type": "markdown",
   "id": "db9f1ae6fa56cfa1",
   "metadata": {},
   "source": [
    "## parse data"
   ]
  },
  {
   "cell_type": "code",
   "execution_count": 26,
   "id": "3b97a578bdb0ec0b",
   "metadata": {
    "ExecuteTime": {
     "end_time": "2025-05-13T11:53:58.738560Z",
     "start_time": "2025-05-13T11:53:58.721230Z"
    }
   },
   "outputs": [],
   "source": [
    "from liriscat import utils\n",
    "utils.setuplogger(verbose = True,log_path = \"../../logs/\", log_name=\"liriscat\")\n",
    "utils.set_seed(0)"
   ]
  },
  {
   "cell_type": "code",
   "execution_count": 27,
   "id": "2e4e3ad90376b31",
   "metadata": {
    "ExecuteTime": {
     "end_time": "2025-05-13T11:53:59.613990Z",
     "start_time": "2025-05-13T11:53:59.524855Z"
    }
   },
   "outputs": [],
   "source": [
    "import pandas as pd\n",
    "from liriscat.dataset.preprocessing_utilities import *\n",
    "resc_data = pd.read_csv('../1-raw_data/algebra_selected_data.csv')"
   ]
  },
  {
   "cell_type": "code",
   "execution_count": 28,
   "id": "53610eb7a85babfb",
   "metadata": {
    "ExecuteTime": {
     "end_time": "2025-05-13T11:54:00.116345Z",
     "start_time": "2025-05-13T11:54:00.008084Z"
    }
   },
   "outputs": [],
   "source": [
    "train, valid, test = split_users(resc_data, 5)"
   ]
  },
  {
   "cell_type": "markdown",
   "id": "f915b75def104ab9",
   "metadata": {},
   "source": [
    "## save data"
   ]
  },
  {
   "cell_type": "code",
   "execution_count": 29,
   "id": "3cd91d1f1e2665cf",
   "metadata": {
    "ExecuteTime": {
     "end_time": "2025-05-13T11:54:50.667889Z",
     "start_time": "2025-05-13T11:54:01.110629Z"
    }
   },
   "outputs": [],
   "source": [
    "for i_fold, train_fold in enumerate(train):\n",
    "    save_df_to_csv(train[i_fold], f'../2-preprocessed_data/algebra_train_{i_fold}.csv')\n",
    "    save_df_to_csv(valid[i_fold], f'../2-preprocessed_data/algebra_valid_{i_fold}.csv')\n",
    "    save_df_to_csv(test[i_fold], f'../2-preprocessed_data/algebra_test_{i_fold}.csv')\n",
    "\n",
    "    train_valid_df = pd.concat([train[i_fold], valid[i_fold]])\n",
    "    # Split the merged data horizontally into train and validation sets.\n",
    "\n",
    "    quadruplet = quadruplet_format(train_valid_df)\n",
    "    vertical_train, vertical_valid = split_data_vertically_unique_fold(quadruplet, valid_prop=0.1)\n",
    "\n",
    "    save_df_to_csv(vertical_train, f'../2-preprocessed_data/algebra_vert_train_{i_fold}.csv')\n",
    "    save_df_to_csv(vertical_valid, f'../2-preprocessed_data/algebra_vert_valid_{i_fold}.csv')\n",
    "\n"
   ]
  },
  {
   "cell_type": "code",
   "execution_count": null,
   "id": "09603793-9ffa-4252-8530-64887de05add",
   "metadata": {},
   "outputs": [],
   "source": []
  },
  {
   "cell_type": "code",
   "execution_count": null,
   "id": "09014b08-f114-401a-a671-8f0f8dd4647b",
   "metadata": {},
   "outputs": [],
   "source": []
  }
 ],
 "metadata": {
  "kernelspec": {
   "display_name": "pytorch-gpu-2.6.0_py3.12.8",
   "language": "python",
   "name": "module-conda-env-pytorch-gpu-2.6.0_py3.12.8"
  },
  "language_info": {
   "codemirror_mode": {
    "name": "ipython",
    "version": 3
   },
   "file_extension": ".py",
   "mimetype": "text/x-python",
   "name": "python",
   "nbconvert_exporter": "python",
   "pygments_lexer": "ipython3",
   "version": "3.12.8"
  }
 },
 "nbformat": 4,
 "nbformat_minor": 5
}