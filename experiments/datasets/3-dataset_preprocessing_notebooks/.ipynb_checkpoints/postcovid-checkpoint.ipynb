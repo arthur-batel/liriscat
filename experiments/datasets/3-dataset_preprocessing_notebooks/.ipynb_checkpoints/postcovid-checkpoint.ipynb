{
 "cells": [
  {
   "metadata": {},
   "cell_type": "markdown",
   "source": [
    "# postcovid dataset preprocessing\n",
    "### Import"
   ],
   "id": "eeb7bafb40cc2079"
  },
  {
   "cell_type": "code",
   "id": "5c572fedcc3d884",
   "metadata": {
    "ExecuteTime": {
     "end_time": "2025-04-16T12:15:58.411581Z",
     "start_time": "2025-04-16T12:15:58.009544Z"
    }
   },
   "source": [
    "%load_ext autoreload\n",
    "%autoreload 2"
   ],
   "outputs": [
    {
     "name": "stdout",
     "output_type": "stream",
     "text": [
      "The autoreload extension is already loaded. To reload it, use:\n",
      "  %reload_ext autoreload\n"
     ]
    }
   ],
   "execution_count": 43
  },
  {
   "cell_type": "code",
   "id": "763506e3fc4c3ef3",
   "metadata": {
    "ExecuteTime": {
     "end_time": "2025-04-16T11:54:57.365334Z",
     "start_time": "2025-04-16T11:54:55.487169Z"
    }
   },
   "source": [
    "import json\n",
    "import pandas as pd\n",
    "import numpy as np\n",
    "from liriscat.dataset.preprocessing_utilities import *\n",
    "from liriscat.utils import utils\n",
    "import torch\n",
    "utils.set_seed(0)"
   ],
   "outputs": [
    {
     "name": "stdout",
     "output_type": "stream",
     "text": [
      "CUDA is not available. Skipping CUDA seed setting.\n"
     ]
    }
   ],
   "execution_count": 9
  },
  {
   "cell_type": "markdown",
   "id": "2c6ffc9f3b1e2e5c",
   "metadata": {},
   "source": [
    "### Load and merge dataset"
   ]
  },
  {
   "cell_type": "code",
   "id": "eae9427ff89ef0a3",
   "metadata": {
    "ExecuteTime": {
     "end_time": "2025-04-16T12:01:23.885123Z",
     "start_time": "2025-04-16T12:01:23.782565Z"
    }
   },
   "source": [
    "raw_data = pd.read_csv('../1-raw_data/postcovid.csv', encoding=\"ISO-8859-15\", low_memory=False)\n",
    "\n",
    "raw_data = raw_data.drop(columns=['Unnamed: 0.2', 'Unnamed: 0',\n",
    "       'Unnamed: 0.1', 'start_time', 'qr',\n",
    "       'qr_compl'])\n",
    "\n",
    "raw_data =  raw_data.rename(columns={\"skill_id\": \"dimension_id\"})\n",
    "raw_data.head()\n"
   ],
   "outputs": [
    {
     "data": {
      "text/plain": [
       "  dimension_id  user_id  item_id  correct  UX_answer  \\\n",
       "0          {9}        0        3      1.0          2   \n",
       "1          {9}        0       12      3.0          4   \n",
       "2          {9}        0       20      2.0          3   \n",
       "3          {9}        0       27      3.0          4   \n",
       "4          {9}        0       34      1.0          2   \n",
       "\n",
       "                                              result  \\\n",
       "0  {'score': 21, 'symptom': 'memoryAndConcentrati...   \n",
       "1  {'score': 21, 'symptom': 'memoryAndConcentrati...   \n",
       "2  {'score': 21, 'symptom': 'memoryAndConcentrati...   \n",
       "3  {'score': 21, 'symptom': 'memoryAndConcentrati...   \n",
       "4  {'score': 21, 'symptom': 'memoryAndConcentrati...   \n",
       "\n",
       "                                             answers itemnaireId  \\\n",
       "0  {'itemId': 'Q10', 'answer': {'modalityId': 'M1...   MCNAIR-FR   \n",
       "1  {'itemId': 'Q11', 'answer': {'modalityId': 'M1...   MCNAIR-FR   \n",
       "2  {'itemId': 'Q12', 'answer': {'modalityId': 'M1...   MCNAIR-FR   \n",
       "3  {'itemId': 'Q13', 'answer': {'modalityId': 'M1...   MCNAIR-FR   \n",
       "4  {'itemId': 'Q14', 'answer': {'modalityId': 'M1...   MCNAIR-FR   \n",
       "\n",
       "                               userIdAndCreationDate  \n",
       "0  userId#000c7fcd-26e6-4145-b3c5-fa501fb79738__c...  \n",
       "1  userId#000c7fcd-26e6-4145-b3c5-fa501fb79738__c...  \n",
       "2  userId#000c7fcd-26e6-4145-b3c5-fa501fb79738__c...  \n",
       "3  userId#000c7fcd-26e6-4145-b3c5-fa501fb79738__c...  \n",
       "4  userId#000c7fcd-26e6-4145-b3c5-fa501fb79738__c...  "
      ],
      "text/html": [
       "<div>\n",
       "<style scoped>\n",
       "    .dataframe tbody tr th:only-of-type {\n",
       "        vertical-align: middle;\n",
       "    }\n",
       "\n",
       "    .dataframe tbody tr th {\n",
       "        vertical-align: top;\n",
       "    }\n",
       "\n",
       "    .dataframe thead th {\n",
       "        text-align: right;\n",
       "    }\n",
       "</style>\n",
       "<table border=\"1\" class=\"dataframe\">\n",
       "  <thead>\n",
       "    <tr style=\"text-align: right;\">\n",
       "      <th></th>\n",
       "      <th>dimension_id</th>\n",
       "      <th>user_id</th>\n",
       "      <th>item_id</th>\n",
       "      <th>correct</th>\n",
       "      <th>UX_answer</th>\n",
       "      <th>result</th>\n",
       "      <th>answers</th>\n",
       "      <th>itemnaireId</th>\n",
       "      <th>userIdAndCreationDate</th>\n",
       "    </tr>\n",
       "  </thead>\n",
       "  <tbody>\n",
       "    <tr>\n",
       "      <th>0</th>\n",
       "      <td>{9}</td>\n",
       "      <td>0</td>\n",
       "      <td>3</td>\n",
       "      <td>1.0</td>\n",
       "      <td>2</td>\n",
       "      <td>{'score': 21, 'symptom': 'memoryAndConcentrati...</td>\n",
       "      <td>{'itemId': 'Q10', 'answer': {'modalityId': 'M1...</td>\n",
       "      <td>MCNAIR-FR</td>\n",
       "      <td>userId#000c7fcd-26e6-4145-b3c5-fa501fb79738__c...</td>\n",
       "    </tr>\n",
       "    <tr>\n",
       "      <th>1</th>\n",
       "      <td>{9}</td>\n",
       "      <td>0</td>\n",
       "      <td>12</td>\n",
       "      <td>3.0</td>\n",
       "      <td>4</td>\n",
       "      <td>{'score': 21, 'symptom': 'memoryAndConcentrati...</td>\n",
       "      <td>{'itemId': 'Q11', 'answer': {'modalityId': 'M1...</td>\n",
       "      <td>MCNAIR-FR</td>\n",
       "      <td>userId#000c7fcd-26e6-4145-b3c5-fa501fb79738__c...</td>\n",
       "    </tr>\n",
       "    <tr>\n",
       "      <th>2</th>\n",
       "      <td>{9}</td>\n",
       "      <td>0</td>\n",
       "      <td>20</td>\n",
       "      <td>2.0</td>\n",
       "      <td>3</td>\n",
       "      <td>{'score': 21, 'symptom': 'memoryAndConcentrati...</td>\n",
       "      <td>{'itemId': 'Q12', 'answer': {'modalityId': 'M1...</td>\n",
       "      <td>MCNAIR-FR</td>\n",
       "      <td>userId#000c7fcd-26e6-4145-b3c5-fa501fb79738__c...</td>\n",
       "    </tr>\n",
       "    <tr>\n",
       "      <th>3</th>\n",
       "      <td>{9}</td>\n",
       "      <td>0</td>\n",
       "      <td>27</td>\n",
       "      <td>3.0</td>\n",
       "      <td>4</td>\n",
       "      <td>{'score': 21, 'symptom': 'memoryAndConcentrati...</td>\n",
       "      <td>{'itemId': 'Q13', 'answer': {'modalityId': 'M1...</td>\n",
       "      <td>MCNAIR-FR</td>\n",
       "      <td>userId#000c7fcd-26e6-4145-b3c5-fa501fb79738__c...</td>\n",
       "    </tr>\n",
       "    <tr>\n",
       "      <th>4</th>\n",
       "      <td>{9}</td>\n",
       "      <td>0</td>\n",
       "      <td>34</td>\n",
       "      <td>1.0</td>\n",
       "      <td>2</td>\n",
       "      <td>{'score': 21, 'symptom': 'memoryAndConcentrati...</td>\n",
       "      <td>{'itemId': 'Q14', 'answer': {'modalityId': 'M1...</td>\n",
       "      <td>MCNAIR-FR</td>\n",
       "      <td>userId#000c7fcd-26e6-4145-b3c5-fa501fb79738__c...</td>\n",
       "    </tr>\n",
       "  </tbody>\n",
       "</table>\n",
       "</div>"
      ]
     },
     "execution_count": 12,
     "metadata": {},
     "output_type": "execute_result"
    }
   ],
   "execution_count": 12
  },
  {
   "cell_type": "markdown",
   "id": "70d36cb174851667",
   "metadata": {},
   "source": [
    "### Split rows with several dimensions"
   ]
  },
  {
   "cell_type": "code",
   "id": "48baada5ec363a41",
   "metadata": {
    "ExecuteTime": {
     "end_time": "2025-04-16T12:01:31.911135Z",
     "start_time": "2025-04-16T12:01:31.818937Z"
    }
   },
   "source": [
    "raw_data['dimension_id'] = raw_data['dimension_id'].apply(lambda x: set(map(int, x.strip('{}').split(', '))))\n",
    "df_expanded = raw_data.explode('dimension_id').reset_index(drop=True)\n",
    "df_expanded.head()"
   ],
   "outputs": [
    {
     "data": {
      "text/plain": [
       "  dimension_id  user_id  item_id  correct  UX_answer  \\\n",
       "0            9        0        3      1.0          2   \n",
       "1            9        0       12      3.0          4   \n",
       "2            9        0       20      2.0          3   \n",
       "3            9        0       27      3.0          4   \n",
       "4            9        0       34      1.0          2   \n",
       "\n",
       "                                              result  \\\n",
       "0  {'score': 21, 'symptom': 'memoryAndConcentrati...   \n",
       "1  {'score': 21, 'symptom': 'memoryAndConcentrati...   \n",
       "2  {'score': 21, 'symptom': 'memoryAndConcentrati...   \n",
       "3  {'score': 21, 'symptom': 'memoryAndConcentrati...   \n",
       "4  {'score': 21, 'symptom': 'memoryAndConcentrati...   \n",
       "\n",
       "                                             answers itemnaireId  \\\n",
       "0  {'itemId': 'Q10', 'answer': {'modalityId': 'M1...   MCNAIR-FR   \n",
       "1  {'itemId': 'Q11', 'answer': {'modalityId': 'M1...   MCNAIR-FR   \n",
       "2  {'itemId': 'Q12', 'answer': {'modalityId': 'M1...   MCNAIR-FR   \n",
       "3  {'itemId': 'Q13', 'answer': {'modalityId': 'M1...   MCNAIR-FR   \n",
       "4  {'itemId': 'Q14', 'answer': {'modalityId': 'M1...   MCNAIR-FR   \n",
       "\n",
       "                               userIdAndCreationDate  \n",
       "0  userId#000c7fcd-26e6-4145-b3c5-fa501fb79738__c...  \n",
       "1  userId#000c7fcd-26e6-4145-b3c5-fa501fb79738__c...  \n",
       "2  userId#000c7fcd-26e6-4145-b3c5-fa501fb79738__c...  \n",
       "3  userId#000c7fcd-26e6-4145-b3c5-fa501fb79738__c...  \n",
       "4  userId#000c7fcd-26e6-4145-b3c5-fa501fb79738__c...  "
      ],
      "text/html": [
       "<div>\n",
       "<style scoped>\n",
       "    .dataframe tbody tr th:only-of-type {\n",
       "        vertical-align: middle;\n",
       "    }\n",
       "\n",
       "    .dataframe tbody tr th {\n",
       "        vertical-align: top;\n",
       "    }\n",
       "\n",
       "    .dataframe thead th {\n",
       "        text-align: right;\n",
       "    }\n",
       "</style>\n",
       "<table border=\"1\" class=\"dataframe\">\n",
       "  <thead>\n",
       "    <tr style=\"text-align: right;\">\n",
       "      <th></th>\n",
       "      <th>dimension_id</th>\n",
       "      <th>user_id</th>\n",
       "      <th>item_id</th>\n",
       "      <th>correct</th>\n",
       "      <th>UX_answer</th>\n",
       "      <th>result</th>\n",
       "      <th>answers</th>\n",
       "      <th>itemnaireId</th>\n",
       "      <th>userIdAndCreationDate</th>\n",
       "    </tr>\n",
       "  </thead>\n",
       "  <tbody>\n",
       "    <tr>\n",
       "      <th>0</th>\n",
       "      <td>9</td>\n",
       "      <td>0</td>\n",
       "      <td>3</td>\n",
       "      <td>1.0</td>\n",
       "      <td>2</td>\n",
       "      <td>{'score': 21, 'symptom': 'memoryAndConcentrati...</td>\n",
       "      <td>{'itemId': 'Q10', 'answer': {'modalityId': 'M1...</td>\n",
       "      <td>MCNAIR-FR</td>\n",
       "      <td>userId#000c7fcd-26e6-4145-b3c5-fa501fb79738__c...</td>\n",
       "    </tr>\n",
       "    <tr>\n",
       "      <th>1</th>\n",
       "      <td>9</td>\n",
       "      <td>0</td>\n",
       "      <td>12</td>\n",
       "      <td>3.0</td>\n",
       "      <td>4</td>\n",
       "      <td>{'score': 21, 'symptom': 'memoryAndConcentrati...</td>\n",
       "      <td>{'itemId': 'Q11', 'answer': {'modalityId': 'M1...</td>\n",
       "      <td>MCNAIR-FR</td>\n",
       "      <td>userId#000c7fcd-26e6-4145-b3c5-fa501fb79738__c...</td>\n",
       "    </tr>\n",
       "    <tr>\n",
       "      <th>2</th>\n",
       "      <td>9</td>\n",
       "      <td>0</td>\n",
       "      <td>20</td>\n",
       "      <td>2.0</td>\n",
       "      <td>3</td>\n",
       "      <td>{'score': 21, 'symptom': 'memoryAndConcentrati...</td>\n",
       "      <td>{'itemId': 'Q12', 'answer': {'modalityId': 'M1...</td>\n",
       "      <td>MCNAIR-FR</td>\n",
       "      <td>userId#000c7fcd-26e6-4145-b3c5-fa501fb79738__c...</td>\n",
       "    </tr>\n",
       "    <tr>\n",
       "      <th>3</th>\n",
       "      <td>9</td>\n",
       "      <td>0</td>\n",
       "      <td>27</td>\n",
       "      <td>3.0</td>\n",
       "      <td>4</td>\n",
       "      <td>{'score': 21, 'symptom': 'memoryAndConcentrati...</td>\n",
       "      <td>{'itemId': 'Q13', 'answer': {'modalityId': 'M1...</td>\n",
       "      <td>MCNAIR-FR</td>\n",
       "      <td>userId#000c7fcd-26e6-4145-b3c5-fa501fb79738__c...</td>\n",
       "    </tr>\n",
       "    <tr>\n",
       "      <th>4</th>\n",
       "      <td>9</td>\n",
       "      <td>0</td>\n",
       "      <td>34</td>\n",
       "      <td>1.0</td>\n",
       "      <td>2</td>\n",
       "      <td>{'score': 21, 'symptom': 'memoryAndConcentrati...</td>\n",
       "      <td>{'itemId': 'Q14', 'answer': {'modalityId': 'M1...</td>\n",
       "      <td>MCNAIR-FR</td>\n",
       "      <td>userId#000c7fcd-26e6-4145-b3c5-fa501fb79738__c...</td>\n",
       "    </tr>\n",
       "  </tbody>\n",
       "</table>\n",
       "</div>"
      ]
     },
     "execution_count": 13,
     "metadata": {},
     "output_type": "execute_result"
    }
   ],
   "execution_count": 13
  },
  {
   "cell_type": "markdown",
   "id": "f532d0b094164b01",
   "metadata": {},
   "source": [
    "### Early stats"
   ]
  },
  {
   "cell_type": "code",
   "id": "d6b0feeae63d2c54",
   "metadata": {
    "ExecuteTime": {
     "end_time": "2025-04-16T12:01:36.027582Z",
     "start_time": "2025-04-16T12:01:36.008297Z"
    }
   },
   "source": [
    "print(len(df_expanded))\n",
    "all_data = df_expanded.dropna(subset=['user_id','item_id','correct','dimension_id'])\n",
    "print(len(all_data))"
   ],
   "outputs": [
    {
     "name": "stdout",
     "output_type": "stream",
     "text": [
      "51690\n",
      "51690\n"
     ]
    }
   ],
   "execution_count": 14
  },
  {
   "cell_type": "code",
   "id": "75ad853c5e6327ab",
   "metadata": {
    "ExecuteTime": {
     "end_time": "2025-04-16T12:01:39.399734Z",
     "start_time": "2025-04-16T12:01:39.377839Z"
    }
   },
   "source": [
    "stat_unique(all_data, None)\n",
    "stat_unique(all_data, ['user_id', 'item_id'])\n",
    "stat_unique(all_data, 'user_id')\n",
    "stat_unique(all_data, 'item_id')\n",
    "stat_unique(all_data, 'dimension_id')"
   ],
   "outputs": [
    {
     "name": "stdout",
     "output_type": "stream",
     "text": [
      "Total length: 51690\n",
      "Number of unique [user_id,item_id]: 37390\n",
      "Number of unique user_id: 917\n",
      "Number of unique item_id: 184\n",
      "Number of unique dimension_id: 18\n"
     ]
    }
   ],
   "execution_count": 15
  },
  {
   "cell_type": "markdown",
   "id": "9d2a99907e563075",
   "metadata": {},
   "source": [
    "### Clean Nan values"
   ]
  },
  {
   "cell_type": "code",
   "id": "10b1e79bf17e1a46",
   "metadata": {
    "ExecuteTime": {
     "end_time": "2025-04-16T12:01:44.649578Z",
     "start_time": "2025-04-16T12:01:44.621797Z"
    }
   },
   "source": [
    "cleaned_data = all_data.dropna(subset=['user_id','item_id','correct','dimension_id'], axis='index')\n",
    "cleaned_data"
   ],
   "outputs": [
    {
     "data": {
      "text/plain": [
       "      dimension_id  user_id  item_id  correct  UX_answer  \\\n",
       "0                9        0        3      1.0          2   \n",
       "1                9        0       12      3.0          4   \n",
       "2                9        0       20      2.0          3   \n",
       "3                9        0       27      3.0          4   \n",
       "4                9        0       34      1.0          2   \n",
       "...            ...      ...      ...      ...        ...   \n",
       "51685            3      916      158      1.0          1   \n",
       "51686            5      916      163      6.0          6   \n",
       "51687            3      916      170      2.0          2   \n",
       "51688            5      916      174      6.0          6   \n",
       "51689            3      916      181      1.0          1   \n",
       "\n",
       "                                                  result  \\\n",
       "0      {'score': 21, 'symptom': 'memoryAndConcentrati...   \n",
       "1      {'score': 21, 'symptom': 'memoryAndConcentrati...   \n",
       "2      {'score': 21, 'symptom': 'memoryAndConcentrati...   \n",
       "3      {'score': 21, 'symptom': 'memoryAndConcentrati...   \n",
       "4      {'score': 21, 'symptom': 'memoryAndConcentrati...   \n",
       "...                                                  ...   \n",
       "51685             {'score': 68, 'symptom': 'depression'}   \n",
       "51686                 {'score': 6, 'symptom': 'fatigue'}   \n",
       "51687             {'score': 68, 'symptom': 'depression'}   \n",
       "51688                 {'score': 6, 'symptom': 'fatigue'}   \n",
       "51689             {'score': 68, 'symptom': 'depression'}   \n",
       "\n",
       "                                                 answers itemnaireId  \\\n",
       "0      {'itemId': 'Q10', 'answer': {'modalityId': 'M1...   MCNAIR-FR   \n",
       "1      {'itemId': 'Q11', 'answer': {'modalityId': 'M1...   MCNAIR-FR   \n",
       "2      {'itemId': 'Q12', 'answer': {'modalityId': 'M1...   MCNAIR-FR   \n",
       "3      {'itemId': 'Q13', 'answer': {'modalityId': 'M1...   MCNAIR-FR   \n",
       "4      {'itemId': 'Q14', 'answer': {'modalityId': 'M1...   MCNAIR-FR   \n",
       "...                                                  ...         ...   \n",
       "51685  {'questionId': 'Q7', 'answer': {'modalityId': ...      SDS-FR   \n",
       "51686  {'questionId': 'Q8', 'answer': {'modalityId': ...      FSS-FR   \n",
       "51687  {'questionId': 'Q8', 'answer': {'modalityId': ...      SDS-FR   \n",
       "51688  {'questionId': 'Q9', 'answer': {'modalityId': ...      FSS-FR   \n",
       "51689  {'questionId': 'Q9', 'answer': {'modalityId': ...      SDS-FR   \n",
       "\n",
       "                                   userIdAndCreationDate  \n",
       "0      userId#000c7fcd-26e6-4145-b3c5-fa501fb79738__c...  \n",
       "1      userId#000c7fcd-26e6-4145-b3c5-fa501fb79738__c...  \n",
       "2      userId#000c7fcd-26e6-4145-b3c5-fa501fb79738__c...  \n",
       "3      userId#000c7fcd-26e6-4145-b3c5-fa501fb79738__c...  \n",
       "4      userId#000c7fcd-26e6-4145-b3c5-fa501fb79738__c...  \n",
       "...                                                  ...  \n",
       "51685  userId#ffba72c7-6b91-4daf-ab9f-7dc59cd987ca__c...  \n",
       "51686  userId#ffba72c7-6b91-4daf-ab9f-7dc59cd987ca__c...  \n",
       "51687  userId#ffba72c7-6b91-4daf-ab9f-7dc59cd987ca__c...  \n",
       "51688  userId#ffba72c7-6b91-4daf-ab9f-7dc59cd987ca__c...  \n",
       "51689  userId#ffba72c7-6b91-4daf-ab9f-7dc59cd987ca__c...  \n",
       "\n",
       "[51690 rows x 9 columns]"
      ],
      "text/html": [
       "<div>\n",
       "<style scoped>\n",
       "    .dataframe tbody tr th:only-of-type {\n",
       "        vertical-align: middle;\n",
       "    }\n",
       "\n",
       "    .dataframe tbody tr th {\n",
       "        vertical-align: top;\n",
       "    }\n",
       "\n",
       "    .dataframe thead th {\n",
       "        text-align: right;\n",
       "    }\n",
       "</style>\n",
       "<table border=\"1\" class=\"dataframe\">\n",
       "  <thead>\n",
       "    <tr style=\"text-align: right;\">\n",
       "      <th></th>\n",
       "      <th>dimension_id</th>\n",
       "      <th>user_id</th>\n",
       "      <th>item_id</th>\n",
       "      <th>correct</th>\n",
       "      <th>UX_answer</th>\n",
       "      <th>result</th>\n",
       "      <th>answers</th>\n",
       "      <th>itemnaireId</th>\n",
       "      <th>userIdAndCreationDate</th>\n",
       "    </tr>\n",
       "  </thead>\n",
       "  <tbody>\n",
       "    <tr>\n",
       "      <th>0</th>\n",
       "      <td>9</td>\n",
       "      <td>0</td>\n",
       "      <td>3</td>\n",
       "      <td>1.0</td>\n",
       "      <td>2</td>\n",
       "      <td>{'score': 21, 'symptom': 'memoryAndConcentrati...</td>\n",
       "      <td>{'itemId': 'Q10', 'answer': {'modalityId': 'M1...</td>\n",
       "      <td>MCNAIR-FR</td>\n",
       "      <td>userId#000c7fcd-26e6-4145-b3c5-fa501fb79738__c...</td>\n",
       "    </tr>\n",
       "    <tr>\n",
       "      <th>1</th>\n",
       "      <td>9</td>\n",
       "      <td>0</td>\n",
       "      <td>12</td>\n",
       "      <td>3.0</td>\n",
       "      <td>4</td>\n",
       "      <td>{'score': 21, 'symptom': 'memoryAndConcentrati...</td>\n",
       "      <td>{'itemId': 'Q11', 'answer': {'modalityId': 'M1...</td>\n",
       "      <td>MCNAIR-FR</td>\n",
       "      <td>userId#000c7fcd-26e6-4145-b3c5-fa501fb79738__c...</td>\n",
       "    </tr>\n",
       "    <tr>\n",
       "      <th>2</th>\n",
       "      <td>9</td>\n",
       "      <td>0</td>\n",
       "      <td>20</td>\n",
       "      <td>2.0</td>\n",
       "      <td>3</td>\n",
       "      <td>{'score': 21, 'symptom': 'memoryAndConcentrati...</td>\n",
       "      <td>{'itemId': 'Q12', 'answer': {'modalityId': 'M1...</td>\n",
       "      <td>MCNAIR-FR</td>\n",
       "      <td>userId#000c7fcd-26e6-4145-b3c5-fa501fb79738__c...</td>\n",
       "    </tr>\n",
       "    <tr>\n",
       "      <th>3</th>\n",
       "      <td>9</td>\n",
       "      <td>0</td>\n",
       "      <td>27</td>\n",
       "      <td>3.0</td>\n",
       "      <td>4</td>\n",
       "      <td>{'score': 21, 'symptom': 'memoryAndConcentrati...</td>\n",
       "      <td>{'itemId': 'Q13', 'answer': {'modalityId': 'M1...</td>\n",
       "      <td>MCNAIR-FR</td>\n",
       "      <td>userId#000c7fcd-26e6-4145-b3c5-fa501fb79738__c...</td>\n",
       "    </tr>\n",
       "    <tr>\n",
       "      <th>4</th>\n",
       "      <td>9</td>\n",
       "      <td>0</td>\n",
       "      <td>34</td>\n",
       "      <td>1.0</td>\n",
       "      <td>2</td>\n",
       "      <td>{'score': 21, 'symptom': 'memoryAndConcentrati...</td>\n",
       "      <td>{'itemId': 'Q14', 'answer': {'modalityId': 'M1...</td>\n",
       "      <td>MCNAIR-FR</td>\n",
       "      <td>userId#000c7fcd-26e6-4145-b3c5-fa501fb79738__c...</td>\n",
       "    </tr>\n",
       "    <tr>\n",
       "      <th>...</th>\n",
       "      <td>...</td>\n",
       "      <td>...</td>\n",
       "      <td>...</td>\n",
       "      <td>...</td>\n",
       "      <td>...</td>\n",
       "      <td>...</td>\n",
       "      <td>...</td>\n",
       "      <td>...</td>\n",
       "      <td>...</td>\n",
       "    </tr>\n",
       "    <tr>\n",
       "      <th>51685</th>\n",
       "      <td>3</td>\n",
       "      <td>916</td>\n",
       "      <td>158</td>\n",
       "      <td>1.0</td>\n",
       "      <td>1</td>\n",
       "      <td>{'score': 68, 'symptom': 'depression'}</td>\n",
       "      <td>{'questionId': 'Q7', 'answer': {'modalityId': ...</td>\n",
       "      <td>SDS-FR</td>\n",
       "      <td>userId#ffba72c7-6b91-4daf-ab9f-7dc59cd987ca__c...</td>\n",
       "    </tr>\n",
       "    <tr>\n",
       "      <th>51686</th>\n",
       "      <td>5</td>\n",
       "      <td>916</td>\n",
       "      <td>163</td>\n",
       "      <td>6.0</td>\n",
       "      <td>6</td>\n",
       "      <td>{'score': 6, 'symptom': 'fatigue'}</td>\n",
       "      <td>{'questionId': 'Q8', 'answer': {'modalityId': ...</td>\n",
       "      <td>FSS-FR</td>\n",
       "      <td>userId#ffba72c7-6b91-4daf-ab9f-7dc59cd987ca__c...</td>\n",
       "    </tr>\n",
       "    <tr>\n",
       "      <th>51687</th>\n",
       "      <td>3</td>\n",
       "      <td>916</td>\n",
       "      <td>170</td>\n",
       "      <td>2.0</td>\n",
       "      <td>2</td>\n",
       "      <td>{'score': 68, 'symptom': 'depression'}</td>\n",
       "      <td>{'questionId': 'Q8', 'answer': {'modalityId': ...</td>\n",
       "      <td>SDS-FR</td>\n",
       "      <td>userId#ffba72c7-6b91-4daf-ab9f-7dc59cd987ca__c...</td>\n",
       "    </tr>\n",
       "    <tr>\n",
       "      <th>51688</th>\n",
       "      <td>5</td>\n",
       "      <td>916</td>\n",
       "      <td>174</td>\n",
       "      <td>6.0</td>\n",
       "      <td>6</td>\n",
       "      <td>{'score': 6, 'symptom': 'fatigue'}</td>\n",
       "      <td>{'questionId': 'Q9', 'answer': {'modalityId': ...</td>\n",
       "      <td>FSS-FR</td>\n",
       "      <td>userId#ffba72c7-6b91-4daf-ab9f-7dc59cd987ca__c...</td>\n",
       "    </tr>\n",
       "    <tr>\n",
       "      <th>51689</th>\n",
       "      <td>3</td>\n",
       "      <td>916</td>\n",
       "      <td>181</td>\n",
       "      <td>1.0</td>\n",
       "      <td>1</td>\n",
       "      <td>{'score': 68, 'symptom': 'depression'}</td>\n",
       "      <td>{'questionId': 'Q9', 'answer': {'modalityId': ...</td>\n",
       "      <td>SDS-FR</td>\n",
       "      <td>userId#ffba72c7-6b91-4daf-ab9f-7dc59cd987ca__c...</td>\n",
       "    </tr>\n",
       "  </tbody>\n",
       "</table>\n",
       "<p>51690 rows × 9 columns</p>\n",
       "</div>"
      ]
     },
     "execution_count": 16,
     "metadata": {},
     "output_type": "execute_result"
    }
   ],
   "execution_count": 16
  },
  {
   "cell_type": "markdown",
   "id": "1cf51a190511d02f",
   "metadata": {},
   "source": [
    "### Remove duplicated user and id rows"
   ]
  },
  {
   "cell_type": "code",
   "id": "128895437c128e14",
   "metadata": {
    "ExecuteTime": {
     "end_time": "2025-04-16T12:01:49.418234Z",
     "start_time": "2025-04-16T12:01:49.377049Z"
    }
   },
   "source": [
    "unduplicated_data = remove_duplicates(cleaned_data,key_attrs=['user_id','item_id','dimension_id'],agg_attrs=[])"
   ],
   "outputs": [],
   "execution_count": 17
  },
  {
   "cell_type": "markdown",
   "id": "4a633bb837a7af3b",
   "metadata": {},
   "source": [
    "### Filter Data"
   ]
  },
  {
   "cell_type": "code",
   "id": "62388835388d50d8",
   "metadata": {
    "ExecuteTime": {
     "end_time": "2025-04-16T12:01:52.925926Z",
     "start_time": "2025-04-16T12:01:52.878759Z"
    }
   },
   "source": [
    "filtered_data_0 = unduplicated_data\n",
    "filtered_q_nb = 1\n",
    "filtered_u_nb = 0\n",
    "filtered_d_nb = 0\n",
    "while filtered_q_nb!=0 or filtered_u_nb!=0 or filtered_d_nb!=0 :\n",
    "\n",
    "    # filter items\n",
    "    filtered_data_1, filtered_q_nb = densify(filtered_data_0,'item_id','user_id',20)\n",
    "    # filter users\n",
    "    min_nb_users_logs = 20\n",
    "    filtered_data_2, filtered_u_nb = densify(filtered_data_1,'user_id','item_id',min_nb_users_logs)\n",
    "    # filter knowledges\n",
    "    filtered_data_3, filtered_d_nb = densify(filtered_data_2,'dimension_id','item_id',5)\n",
    "    filtered_data_0 = filtered_data_3\n",
    "    \n",
    "stat_unique(filtered_data_0, None)\n",
    "stat_unique(filtered_data_0, ['user_id', 'item_id'])\n",
    "stat_unique(filtered_data_0, 'user_id')\n",
    "stat_unique(filtered_data_0, 'item_id')\n",
    "stat_unique(filtered_data_0, 'dimension_id')"
   ],
   "outputs": [
    {
     "name": "stdout",
     "output_type": "stream",
     "text": [
      "filter 0 item_id\n",
      "filter 171 user_id\n",
      "filter 1 dimension_id\n",
      "filter 0 item_id\n",
      "filter 0 user_id\n",
      "filter 0 dimension_id\n",
      "Total length: 48583\n",
      "Number of unique [user_id,item_id]: 34563\n",
      "Number of unique user_id: 746\n",
      "Number of unique item_id: 180\n",
      "Number of unique dimension_id: 17\n"
     ]
    }
   ],
   "execution_count": 18
  },
  {
   "cell_type": "markdown",
   "id": "5f38b00b83903cf8",
   "metadata": {},
   "source": [
    "### Encoding"
   ]
  },
  {
   "cell_type": "code",
   "id": "461aaa3f05f101f3",
   "metadata": {
    "ExecuteTime": {
     "end_time": "2025-04-16T12:01:57.936445Z",
     "start_time": "2025-04-16T12:01:56.426935Z"
    }
   },
   "source": [
    "# renumber the users\n",
    "u_enc_data, u2n = encode_attr(filtered_data_0, \"user_id\")"
   ],
   "outputs": [],
   "execution_count": 19
  },
  {
   "cell_type": "code",
   "id": "4ad08e7dad6b96ac",
   "metadata": {
    "ExecuteTime": {
     "end_time": "2025-04-16T12:02:00.730680Z",
     "start_time": "2025-04-16T12:01:59.237146Z"
    }
   },
   "source": [
    "# renumber the items\n",
    "q_enc_data, q2n = encode_attr(u_enc_data, \"item_id\")"
   ],
   "outputs": [],
   "execution_count": 20
  },
  {
   "cell_type": "code",
   "id": "9d3b2c3dff642633",
   "metadata": {
    "ExecuteTime": {
     "end_time": "2025-04-16T12:02:03.398983Z",
     "start_time": "2025-04-16T12:02:01.886016Z"
    }
   },
   "source": [
    "# renumber the dimensions\n",
    "d_enc_data, d2n = encode_attr(q_enc_data, \"dimension_id\")"
   ],
   "outputs": [],
   "execution_count": 21
  },
  {
   "cell_type": "markdown",
   "id": "3b9e92e115b938bd",
   "metadata": {},
   "source": [
    "### Maps creation"
   ]
  },
  {
   "cell_type": "code",
   "id": "124352496823ae86",
   "metadata": {
    "ExecuteTime": {
     "end_time": "2025-04-16T12:02:05.879524Z",
     "start_time": "2025-04-16T12:02:05.852406Z"
    }
   },
   "source": [
    "q2k, k2q = create_q2k(d_enc_data)"
   ],
   "outputs": [],
   "execution_count": 22
  },
  {
   "cell_type": "markdown",
   "id": "d9bbf26af710c979",
   "metadata": {},
   "source": [
    "### Rescaling responses"
   ]
  },
  {
   "cell_type": "code",
   "id": "16227ddf196496e7",
   "metadata": {
    "ExecuteTime": {
     "end_time": "2025-04-16T12:02:07.883816Z",
     "start_time": "2025-04-16T12:02:07.862157Z"
    }
   },
   "source": [
    "d_enc_data['correct'] = d_enc_data['correct'].astype(float)\n",
    "\n",
    "min_val = d_enc_data.groupby('item_id')['correct'].transform('min')\n",
    "max_val = d_enc_data.groupby('item_id')['correct'].transform('max')\n",
    "\n",
    "# Rescale 'correct' values per 'item_id'\n",
    "d_enc_data['correct'] = (d_enc_data['correct'] - min_val) / (max_val - min_val) + 1\n",
    "\n",
    "# Assign the rescaled data to 'rescaled_data'\n",
    "resc_data = d_enc_data\n",
    "print(f'min value : {resc_data.groupby(\"item_id\")[\"correct\"].min()}, max value : {resc_data.groupby(\"item_id\")[\"correct\"].max()}')"
   ],
   "outputs": [
    {
     "name": "stdout",
     "output_type": "stream",
     "text": [
      "min value : item_id\n",
      "0      1.0\n",
      "1      1.0\n",
      "2      1.0\n",
      "3      1.0\n",
      "4      1.0\n",
      "      ... \n",
      "175    1.0\n",
      "176    1.0\n",
      "177    1.0\n",
      "178    1.0\n",
      "179    1.0\n",
      "Name: correct, Length: 180, dtype: float64, max value : item_id\n",
      "0      2.0\n",
      "1      2.0\n",
      "2      2.0\n",
      "3      2.0\n",
      "4      2.0\n",
      "      ... \n",
      "175    2.0\n",
      "176    2.0\n",
      "177    2.0\n",
      "178    2.0\n",
      "179    2.0\n",
      "Name: correct, Length: 180, dtype: float64\n"
     ]
    }
   ],
   "execution_count": 23
  },
  {
   "cell_type": "markdown",
   "id": "d887c5e72037c54",
   "metadata": {},
   "source": [
    "### Get final stats and create metadata"
   ]
  },
  {
   "cell_type": "code",
   "id": "d3ce35f2a3d57db3",
   "metadata": {
    "ExecuteTime": {
     "end_time": "2025-04-16T12:02:14.188825Z",
     "start_time": "2025-04-16T12:02:14.155116Z"
    }
   },
   "source": [
    "stat_unique(resc_data, None)\n",
    "stat_unique(resc_data, ['user_id', 'item_id'])\n",
    "stat_unique(resc_data, 'user_id')\n",
    "stat_unique(resc_data, 'item_id')\n",
    "stat_unique(resc_data, 'dimension_id')\n",
    "stat_unique(resc_data, 'correct')\n",
    "\n",
    "resc_data_dim_grouped_items = resc_data.groupby(\"dimension_id\")[\"item_id\"].nunique()\n",
    "resc_data_dim_grouped_users = resc_data.groupby(\"dimension_id\")[\"user_id\"].nunique()\n",
    "print('#questions/category: {} & {} &  {}'.format(np.min(resc_data_dim_grouped_items),int(np.round(np.mean(resc_data_dim_grouped_items))),np.max(resc_data_dim_grouped_items)))\n",
    "print('#users/category: {} & {} &  {}'.format(np.min(resc_data_dim_grouped_users),int(np.round(np.mean(resc_data_dim_grouped_users))),np.max(resc_data_dim_grouped_users)))\n",
    "\n",
    "resc_data_dim_grouped_items = resc_data.groupby(\"item_id\")[\"dimension_id\"].nunique()\n",
    "resc_data_dim_grouped_users = resc_data.groupby(\"item_id\")[\"user_id\"].nunique()\n",
    "print('#categorys/question: {} & {} &  {}'.format(np.min(resc_data_dim_grouped_items),int(np.round(np.mean(resc_data_dim_grouped_items))),np.max(resc_data_dim_grouped_items)))\n",
    "print('#users/question: {} & {} &  {}'.format(np.min(resc_data_dim_grouped_users),int(np.round(np.mean(resc_data_dim_grouped_users))),np.max(resc_data_dim_grouped_users)))\n",
    "\n",
    "resc_data_dim_grouped_items = resc_data.groupby(\"user_id\")[\"item_id\"].nunique()\n",
    "resc_data_dim_grouped_users = resc_data.groupby(\"user_id\")[\"dimension_id\"].nunique()\n",
    "print('#questions/users: {} & {} &  {}'.format(np.min(resc_data_dim_grouped_items),int(np.round(np.mean(resc_data_dim_grouped_items))),np.max(resc_data_dim_grouped_items)))\n",
    "print('#categorys/users: {} & {} &  {}'.format(np.min(resc_data_dim_grouped_users),int(np.round(np.mean(resc_data_dim_grouped_users))),np.max(resc_data_dim_grouped_users)))"
   ],
   "outputs": [
    {
     "name": "stdout",
     "output_type": "stream",
     "text": [
      "Total length: 48583\n",
      "Number of unique [user_id,item_id]: 34563\n",
      "Number of unique user_id: 746\n",
      "Number of unique item_id: 180\n",
      "Number of unique dimension_id: 17\n",
      "Number of unique correct: 22\n",
      "#questions/category: 7 & 14 &  22\n",
      "#users/category: 38 & 206 &  460\n",
      "#categorys/question: 1 & 1 &  3\n",
      "#users/question: 38 & 192 &  460\n",
      "#questions/users: 20 & 46 &  92\n",
      "#categorys/users: 1 & 5 &  10\n"
     ]
    }
   ],
   "execution_count": 24
  },
  {
   "cell_type": "code",
   "id": "96b9fda0f0c947ba",
   "metadata": {
    "ExecuteTime": {
     "end_time": "2025-04-16T12:03:00.931109Z",
     "start_time": "2025-04-16T12:02:59.090005Z"
    }
   },
   "source": [
    "import matplotlib.pyplot as plt\n",
    "\n",
    "# draw a histogram of the age column\n",
    "(resc_data['correct']-1).hist(bins=20)\n",
    "\n",
    "# add labels and title\n",
    "plt.xlabel('Responses')\n",
    "plt.ylabel('Number')\n",
    "plt.title('Distribution of Responses')\n",
    "plt.savefig('../4-figs/distribution_postcovid.png')\n"
   ],
   "outputs": [
    {
     "data": {
      "text/plain": [
       "<Figure size 640x480 with 1 Axes>"
      ],
      "image/png": "[encoded data removed]"
     },
     "metadata": {},
     "output_type": "display_data"
    }
   ],
   "execution_count": 26
  },
  {
   "cell_type": "code",
   "id": "1420cf5a2ffcaf83",
   "metadata": {
    "ExecuteTime": {
     "end_time": "2025-04-16T12:03:07.606138Z",
     "start_time": "2025-04-16T12:03:07.578819Z"
    }
   },
   "source": [
    "resc_data_dim_grouped_items = resc_data.groupby(\"item_id\")[\"dimension_id\"].nunique()\n",
    "resc_data_dim_grouped_users = resc_data.groupby(\"item_id\")[\"user_id\"].nunique()\n",
    "metadata = get_metadata(resc_data,[\"user_id\", \"item_id\", \"dimension_id\"])\n",
    "metadata['min_nb_users_logs'] = min_nb_users_logs\n",
    "metadata['max_nb_categories_per_question'] = int(np.max(resc_data_dim_grouped_items))"
   ],
   "outputs": [],
   "execution_count": 27
  },
  {
   "cell_type": "markdown",
   "id": "7b3d5b11-88fd-4330-b7f7-69e6db25c48b",
   "metadata": {},
   "source": [
    "### Compute nb of modalities per item"
   ]
  },
  {
   "cell_type": "code",
   "id": "a35a5487-a7e8-4e19-90c6-51f23dd8ea88",
   "metadata": {
    "ExecuteTime": {
     "end_time": "2025-04-16T12:03:11.977004Z",
     "start_time": "2025-04-16T12:03:11.939554Z"
    }
   },
   "source": [
    "nb_modalities = get_modalities_nb(resc_data, metadata)"
   ],
   "outputs": [],
   "execution_count": 28
  },
  {
   "cell_type": "markdown",
   "id": "af2a1ef2455361fa",
   "metadata": {},
   "source": [
    "### Save data, concept map, metadata and nb_modalities"
   ]
  },
  {
   "cell_type": "code",
   "id": "2711f76ebb0f8c75",
   "metadata": {
    "ExecuteTime": {
     "end_time": "2025-04-16T12:03:15.946836Z",
     "start_time": "2025-04-16T12:03:15.930269Z"
    }
   },
   "source": [
    "new_order = ['user_id','item_id', 'correct', 'dimension_id']\n",
    "resc_data = resc_data[new_order]"
   ],
   "outputs": [],
   "execution_count": 29
  },
  {
   "cell_type": "code",
   "id": "9314705046e62dcb",
   "metadata": {
    "ExecuteTime": {
     "end_time": "2025-04-16T12:03:19.510424Z",
     "start_time": "2025-04-16T12:03:19.425047Z"
    }
   },
   "source": [
    "# save selected data\n",
    "resc_data.to_csv('../1-raw_data/postcovid_selected_data.csv', index=False)"
   ],
   "outputs": [],
   "execution_count": 30
  },
  {
   "cell_type": "code",
   "id": "d57fbdcefd9ed82",
   "metadata": {
    "ExecuteTime": {
     "end_time": "2025-04-16T12:03:49.159223Z",
     "start_time": "2025-04-16T12:03:49.142019Z"
    }
   },
   "source": [
    "# Convert int64 keys to str\n",
    "q2k_str_keys = {str(key): value for key, value in q2k.items()}\n",
    "\n",
    "# Convert sets to lists in the dictionary\n",
    "q2k_json_serializable = {}\n",
    "for key, value in q2k_str_keys.items():\n",
    "    if isinstance(value, set):\n",
    "        q2k_json_serializable[key] = list(value)\n",
    "    else:\n",
    "        q2k_json_serializable[key] = value\n",
    "\n",
    "# Save concept map\n",
    "with open('../2-preprocessed_data/postcovid_concept_map.json', 'w') as f:\n",
    "    json.dump(q2k_json_serializable, f)"
   ],
   "outputs": [],
   "execution_count": 32
  },
  {
   "cell_type": "code",
   "id": "6fdbebe69540c57c",
   "metadata": {
    "ExecuteTime": {
     "end_time": "2025-04-16T12:03:51.158886Z",
     "start_time": "2025-04-16T12:03:51.143191Z"
    }
   },
   "source": [
    "# save metadata\n",
    "with open('../2-preprocessed_data/postcovid_metadata.json', 'w') as f:\n",
    "    json.dump(metadata, f)"
   ],
   "outputs": [],
   "execution_count": 33
  },
  {
   "cell_type": "code",
   "id": "46932b68-b0a7-4fe1-a090-af21cfd03cc3",
   "metadata": {
    "ExecuteTime": {
     "end_time": "2025-04-16T12:03:53.163117Z",
     "start_time": "2025-04-16T12:03:53.147192Z"
    }
   },
   "source": [
    "# save metadata\n",
    "torch.save(nb_modalities,'../2-preprocessed_data/postcovid_nb_modalities.pkl')"
   ],
   "outputs": [],
   "execution_count": 34
  },
  {
   "cell_type": "markdown",
   "id": "db9f1ae6fa56cfa1",
   "metadata": {},
   "source": [
    "## parse data"
   ]
  },
  {
   "cell_type": "code",
   "id": "850280e1dfdda1b9",
   "metadata": {
    "ExecuteTime": {
     "end_time": "2025-04-16T12:03:55.181590Z",
     "start_time": "2025-04-16T12:03:55.165222Z"
    }
   },
   "source": [
    "%load_ext autoreload\n",
    "%autoreload 2"
   ],
   "outputs": [
    {
     "name": "stdout",
     "output_type": "stream",
     "text": [
      "The autoreload extension is already loaded. To reload it, use:\n",
      "  %reload_ext autoreload\n"
     ]
    }
   ],
   "execution_count": 35
  },
  {
   "cell_type": "code",
   "id": "3b97a578bdb0ec0b",
   "metadata": {
    "ExecuteTime": {
     "end_time": "2025-04-16T12:03:57.653557Z",
     "start_time": "2025-04-16T12:03:57.633722Z"
    }
   },
   "source": [
    "from liriscat import utils\n",
    "utils.setuplogger(verbose = True,log_path = \"../../logs/\", log_name=\"liriscat\", os='Windows')\n",
    "utils.set_seed(0)"
   ],
   "outputs": [
    {
     "name": "stdout",
     "output_type": "stream",
     "text": [
      "CUDA is not available. Skipping CUDA seed setting.\n"
     ]
    }
   ],
   "execution_count": 36
  },
  {
   "cell_type": "code",
   "id": "2e4e3ad90376b31",
   "metadata": {
    "ExecuteTime": {
     "end_time": "2025-04-16T12:04:04.672040Z",
     "start_time": "2025-04-16T12:04:04.645424Z"
    }
   },
   "source": [
    "import pandas as pd\n",
    "from liriscat.dataset.preprocessing_utilities import *\n",
    "resc_data = pd.read_csv('../1-raw_data/postcovid_selected_data.csv')"
   ],
   "outputs": [],
   "execution_count": 37
  },
  {
   "cell_type": "code",
   "id": "53610eb7a85babfb",
   "metadata": {
    "ExecuteTime": {
     "end_time": "2025-04-16T12:04:06.361843Z",
     "start_time": "2025-04-16T12:04:06.332176Z"
    }
   },
   "source": [
    "train, valid, test = split_users(resc_data, 5)"
   ],
   "outputs": [],
   "execution_count": 38
  },
  {
   "cell_type": "markdown",
   "id": "f915b75def104ab9",
   "metadata": {},
   "source": [
    "## save data"
   ]
  },
  {
   "cell_type": "code",
   "id": "3cd91d1f1e2665cf",
   "metadata": {
    "ExecuteTime": {
     "end_time": "2025-04-16T12:04:08.968023Z",
     "start_time": "2025-04-16T12:04:08.654449Z"
    }
   },
   "source": [
    "for i_fold, train_fold in enumerate(train):\n",
    "    save_df_to_csv(train[i_fold], f'../2-preprocessed_data/postcovid_train_{i_fold}.csv')\n",
    "    save_df_to_csv(valid[i_fold], f'../2-preprocessed_data/postcovid_valid_{i_fold}.csv')\n",
    "    save_df_to_csv(test[i_fold], f'../2-preprocessed_data/postcovid_test_{i_fold}.csv')"
   ],
   "outputs": [],
   "execution_count": 39
  },
  {
   "cell_type": "markdown",
   "id": "cf73aca8db70d3b1",
   "metadata": {},
   "source": [
    "## Train IMPACT model"
   ]
  },
  {
   "cell_type": "code",
   "id": "a33306919a97d5b",
   "metadata": {
    "ExecuteTime": {
     "end_time": "2025-04-16T12:04:14.651936Z",
     "start_time": "2025-04-16T12:04:14.632642Z"
    }
   },
   "source": [
    "from liriscat.utils import generate_eval_config\n",
    "import json\n",
    "from IMPACT.dataset import LoaderDataset as IMPACT_dataset\n",
    "from liriscat.CDM import *\n",
    "from IMPACT import model\n",
    "from liriscat.dataset.preprocessing_utilities import *\n",
    "\n",
    "\n",
    "folds_nb = 1\n",
    "dataset_name=\"postcovid\"\n",
    "\n",
    "# Set all the required parameters ---------------\n",
    "IMPACT_config = generate_eval_config(num_epochs=200, save_params=True, dataset_name=dataset_name, embs_path=\"../../embs/\"+dataset_name, params_path=\"../../ckpt/\"+dataset_name,  learning_rate=0.01885, lambda_=2e-7, batch_size=2048,valid_metric='mi_acc', pred_metrics=[\"mi_acc\"])\n",
    "\n",
    "concept_map = json.load(open(f'../2-preprocessed_data/{IMPACT_config[\"dataset_name\"]}_concept_map.json', 'r'))\n",
    "concept_map = {int(k): [int(x) for x in v] for k, v in concept_map.items()}\n",
    "#parameter\n",
    "metadata = json.load(open(f'../2-preprocessed_data/{IMPACT_config[\"dataset_name\"]}_metadata.json', 'r'))\n",
    "nb_modalities = torch.load(f'../2-preprocessed_data/{IMPACT_config[\"dataset_name\"]}_nb_modalities.pkl',weights_only=True)\n",
    "\n",
    "# Conversion helper that builds a DataFrame with specific dtypes and returns records.\n",
    "def convert_to_records(data):\n",
    "    df = pd.DataFrame(data, columns={'user_id': int, 'item_id': int, 'category_id': int,'correct': float, })\n",
    "    return df.to_records(index=False, column_dtypes={'user_id': int, 'item_id': int, 'correct': float, 'category_id': int})"
   ],
   "outputs": [
    {
     "name": "stdout",
     "output_type": "stream",
     "text": [
      "CUDA is not available. Using CPU.\n"
     ]
    }
   ],
   "execution_count": 40
  },
  {
   "cell_type": "code",
   "id": "57f46a6fa28b0de3",
   "metadata": {
    "ExecuteTime": {
     "end_time": "2025-04-16T12:05:19.879752Z",
     "start_time": "2025-04-16T12:04:18.365Z"
    }
   },
   "source": [
    "for i in range(folds_nb):\n",
    "    # Merge the training and validation data for the current fold.\n",
    "    train_valid_df = pd.concat([train[i], valid[i]])\n",
    "    # Split the merged data horizontally into train and validation sets.\n",
    "\n",
    "    quadruplet = quadruplet_format(train_valid_df)\n",
    "    train_data, valid_data, test_data = split_data_vertically(quadruplet, test_prop=0.2,valid_prop=0.1,folds_nb=5)\n",
    "\n",
    "    # Convert each split in one step using the helper.\n",
    "    horizontal_train = convert_to_records(train_data[0])\n",
    "    horizontal_valid = convert_to_records(valid_data[0])\n",
    "    horizontal_test = convert_to_records(test_data[0])\n",
    "\n",
    "    impact_train_data = IMPACT_dataset(horizontal_train, concept_map, metadata, nb_modalities)\n",
    "    impact_valid_data = IMPACT_dataset(horizontal_valid, concept_map, metadata, nb_modalities) # <---\n",
    "    impact_test_data = IMPACT_dataset(horizontal_test, concept_map, metadata, nb_modalities)\n",
    "\n",
    "    IMPACT_config['i_fold'] = i\n",
    "    algo = model.IMPACT(**IMPACT_config)\n",
    "    algo.init_model(impact_train_data, impact_valid_data)\n",
    "    algo.train(impact_train_data, impact_valid_data)\n",
    "    print(algo.evaluate_predictions(impact_test_data))"
   ],
   "outputs": [
    {
     "name": "stdout",
     "output_type": "stream",
     "text": [
      "CUDA is not available. Skipping CUDA seed setting.\n",
      "[INFO 04-22] train on cpu\n",
      "[INFO 04-22] -- START Training --\n"
     ]
    },
    {
     "name": "stderr",
     "output_type": "stream",
     "text": [
      " 60%|██████    | 121/200 [00:56<00:37,  2.13it/s]"
     ]
    },
    {
     "name": "stdout",
     "output_type": "stream",
     "text": [
      "[INFO 05-19] -- END Training --\n",
      "[INFO 05-19] Params saved\n",
      "{'mi_acc': 0.8395308256149292, 'preds': tensor([1., 1., 1.,  ..., 1., 1., 1.], dtype=torch.float64), 'labels': tensor([1., 1., 1.,  ..., 2., 1., 1.], dtype=torch.float64)}\n"
     ]
    },
    {
     "name": "stderr",
     "output_type": "stream",
     "text": [
      "\n"
     ]
    }
   ],
   "execution_count": 41
  },
  {
   "cell_type": "code",
   "id": "688393a7-50ba-402c-bedd-a966bca887e7",
   "metadata": {
    "ExecuteTime": {
     "end_time": "2025-04-16T12:07:22.392229Z",
     "start_time": "2025-04-16T12:07:22.025664Z"
    }
   },
   "source": [
    "import os\n",
    "os.environ[\"PYTORCH_CUDA_ALLOC_CONF\"] = \"expandable_segments:True\"\n",
    "\n",
    "from liriscat import utils\n",
    "utils.set_seed(0)\n",
    "from liriscat import dataset\n",
    "from liriscat import selectionStrategy\n",
    "from liriscat import CDM\n",
    "\n",
    "import logging\n",
    "import gc\n",
    "import json\n",
    "import torch\n",
    "import pandas as pd\n",
    "from importlib import reload\n",
    "import IMPACT\n",
    "\n",
    "import warnings\n",
    "import numpy as np\n",
    "\n",
    "gc.collect()\n",
    "torch.cuda.empty_cache()\n",
    "\n",
    "reload(utils)\n",
    "reload(selectionStrategy)\n",
    "reload(CDM)\n",
    "reload(dataset)\n",
    "\n",
    "config = utils.generate_eval_config(i_fold = 0,\n",
    "                                    num_epochs=1,\n",
    "                                    load_params=True,\n",
    "                                    inner_user_lr=0.0001,\n",
    "                                    esc = 'error',\n",
    "                                    valid_metric= 'mi_acc',\n",
    "                                    pred_metrics = [\"mi_acc\"],\n",
    "                                    profile_metrics = ['doa'],\n",
    "                                    save_params=False,\n",
    "                                    n_query=5,\n",
    "                                    batch_size=512)\n",
    "utils.set_seed(config[\"seed\"])\n",
    "\n",
    "config[\"dataset_name\"] = \"postcovid\"\n",
    "logging.info(config[\"dataset_name\"])\n",
    "config['learning_rate'] = 0.02026\n",
    "config['lambda'] = 1.2e-5\n",
    "config['d_in'] = 4\n",
    "config['num_responses'] = 12\n",
    "#pred_metrics,df_interp = test(config)\n",
    "\n",
    "logging.info(f'#### {config[\"dataset_name\"]} ####')\n",
    "logging.info(f'#### config : {config} ####')\n",
    "config['embs_path']='../../embs/'+str(config[\"dataset_name\"])\n",
    "config['params_path']='../../ckpt/'+str(config[\"dataset_name\"])\n",
    "\n",
    "pred_metrics = {m:[] for m in config['pred_metrics']}\n",
    "profile_metrics = {m:[] for m in config['profile_metrics']}\n",
    "\n",
    "gc.collect()\n",
    "torch.cuda.empty_cache()\n",
    "\n",
    "# Dataset downloading for doa and rm\n",
    "warnings.filterwarnings(\"ignore\", message=\"invalid value encountered in divide\")\n",
    "warnings.filterwarnings(\"ignore\", category=RuntimeWarning)\n",
    "\n",
    "## Concept map format : {question_id : [category_id1, category_id2, ...]}outside model initialization\n",
    "concept_map = json.load(open(f'../2-preprocessed_data/{config[\"dataset_name\"]}_concept_map.json', 'r'))\n",
    "concept_map = {int(k): [int(x) for x in v] for k, v in concept_map.items()}\n",
    "\n",
    "## Metadata map format : {\"num_user_id\": ..., \"num_item_id\": ..., \"num_dimension_id\": ...}\n",
    "metadata = json.load(open(f'../2-preprocessed_data/{config[\"dataset_name\"]}_metadata.json', 'r'))\n",
    "\n",
    "i_fold = 0\n",
    "## Dataframe columns : (user_id, question_id, response, category_id)\n",
    "train_df = pd.read_csv(\n",
    "    f'../2-preprocessed_data/{config[\"dataset_name\"]}_train_{i_fold}.csv',\n",
    "    encoding='utf-8', dtype={'student_id': int, 'item_id': int, \"correct\": float,\n",
    "                                                             \"dimension_id\": int})\n",
    "valid_df = pd.read_csv(\n",
    "    f'../2-preprocessed_data/{config[\"dataset_name\"]}_valid_{i_fold}.csv',\n",
    "    encoding='utf-8', dtype={'student_id': int, 'item_id': int, \"correct\": float,\n",
    "                                                             \"dimension_id\": int})\n",
    "test_df = pd.read_csv(\n",
    "    f'../2-preprocessed_data/{config[\"dataset_name\"]}_test_{i_fold}.csv',\n",
    "    encoding='utf-8', dtype={'student_id': int, 'item_id': int, \"correct\": float,\n",
    "                                                             \"dimension_id\": int})\n",
    "train_data = dataset.CATDataset(train_df, concept_map, metadata, config)\n",
    "valid_data = dataset.EvalDataset(valid_df, concept_map, metadata, config)\n",
    "test_data = dataset.EvalDataset(test_df, concept_map, metadata, config)\n",
    "\n",
    "S = selectionStrategy.Random(metadata,**config)"
   ],
   "outputs": [
    {
     "name": "stdout",
     "output_type": "stream",
     "text": [
      "CUDA is not available. Skipping CUDA seed setting.\n",
      "CUDA is not available. Using CPU.\n",
      "CUDA is not available. Skipping CUDA seed setting.\n",
      "[INFO 07-22] postcovid\n",
      "[INFO 07-22] #### postcovid ####\n",
      "[INFO 07-22] #### config : {'seed': 0, 'dataset_name': 'postcovid', 'load_params': True, 'save_params': False, 'embs_path': '../embs/', 'params_path': '../ckpt/', 'early_stopping': True, 'esc': 'error', 'verbose_early_stopping': False, 'disable_tqdm': False, 'valid_metric': 'mi_acc', 'learning_rate': 0.02026, 'batch_size': 512, 'valid_batch_size': 10000, 'num_epochs': 1, 'eval_freq': 1, 'patience': 30, 'device': device(type='cpu'), 'lambda': 1.2e-05, 'tensorboard': False, 'flush_freq': True, 'pred_metrics': ['mi_acc'], 'profile_metrics': ['doa'], 'num_responses': 12, 'low_mem': False, 'n_query': 5, 'CDM': 'impact', 'i_fold': 0, 'num_inner_users_epochs': 10, 'num_inner_epochs': 10, 'inner_lr': 0.0001, 'inner_user_lr': 0.0001, 'd_in': 4} ####\n"
     ]
    },
    {
     "ename": "TypeError",
     "evalue": "CATDataset.__init__() missing 1 required positional argument: 'nb_modalities'",
     "output_type": "error",
     "traceback": [
      "\u001B[0;31m---------------------------------------------------------------------------\u001B[0m",
      "\u001B[0;31mTypeError\u001B[0m                                 Traceback (most recent call last)",
      "Cell \u001B[0;32mIn[42], line 86\u001B[0m\n\u001B[1;32m     78\u001B[0m valid_df \u001B[38;5;241m=\u001B[39m pd\u001B[38;5;241m.\u001B[39mread_csv(\n\u001B[1;32m     79\u001B[0m     \u001B[38;5;124mf\u001B[39m\u001B[38;5;124m'\u001B[39m\u001B[38;5;124m../2-preprocessed_data/\u001B[39m\u001B[38;5;132;01m{\u001B[39;00mconfig[\u001B[38;5;124m\"\u001B[39m\u001B[38;5;124mdataset_name\u001B[39m\u001B[38;5;124m\"\u001B[39m]\u001B[38;5;132;01m}\u001B[39;00m\u001B[38;5;124m_valid_\u001B[39m\u001B[38;5;132;01m{\u001B[39;00mi_fold\u001B[38;5;132;01m}\u001B[39;00m\u001B[38;5;124m.csv\u001B[39m\u001B[38;5;124m'\u001B[39m,\n\u001B[1;32m     80\u001B[0m     encoding\u001B[38;5;241m=\u001B[39m\u001B[38;5;124m'\u001B[39m\u001B[38;5;124mutf-8\u001B[39m\u001B[38;5;124m'\u001B[39m, dtype\u001B[38;5;241m=\u001B[39m{\u001B[38;5;124m'\u001B[39m\u001B[38;5;124mstudent_id\u001B[39m\u001B[38;5;124m'\u001B[39m: \u001B[38;5;28mint\u001B[39m, \u001B[38;5;124m'\u001B[39m\u001B[38;5;124mitem_id\u001B[39m\u001B[38;5;124m'\u001B[39m: \u001B[38;5;28mint\u001B[39m, \u001B[38;5;124m\"\u001B[39m\u001B[38;5;124mcorrect\u001B[39m\u001B[38;5;124m\"\u001B[39m: \u001B[38;5;28mfloat\u001B[39m,\n\u001B[1;32m     81\u001B[0m                                                              \u001B[38;5;124m\"\u001B[39m\u001B[38;5;124mdimension_id\u001B[39m\u001B[38;5;124m\"\u001B[39m: \u001B[38;5;28mint\u001B[39m})\n\u001B[1;32m     82\u001B[0m test_df \u001B[38;5;241m=\u001B[39m pd\u001B[38;5;241m.\u001B[39mread_csv(\n\u001B[1;32m     83\u001B[0m     \u001B[38;5;124mf\u001B[39m\u001B[38;5;124m'\u001B[39m\u001B[38;5;124m../2-preprocessed_data/\u001B[39m\u001B[38;5;132;01m{\u001B[39;00mconfig[\u001B[38;5;124m\"\u001B[39m\u001B[38;5;124mdataset_name\u001B[39m\u001B[38;5;124m\"\u001B[39m]\u001B[38;5;132;01m}\u001B[39;00m\u001B[38;5;124m_test_\u001B[39m\u001B[38;5;132;01m{\u001B[39;00mi_fold\u001B[38;5;132;01m}\u001B[39;00m\u001B[38;5;124m.csv\u001B[39m\u001B[38;5;124m'\u001B[39m,\n\u001B[1;32m     84\u001B[0m     encoding\u001B[38;5;241m=\u001B[39m\u001B[38;5;124m'\u001B[39m\u001B[38;5;124mutf-8\u001B[39m\u001B[38;5;124m'\u001B[39m, dtype\u001B[38;5;241m=\u001B[39m{\u001B[38;5;124m'\u001B[39m\u001B[38;5;124mstudent_id\u001B[39m\u001B[38;5;124m'\u001B[39m: \u001B[38;5;28mint\u001B[39m, \u001B[38;5;124m'\u001B[39m\u001B[38;5;124mitem_id\u001B[39m\u001B[38;5;124m'\u001B[39m: \u001B[38;5;28mint\u001B[39m, \u001B[38;5;124m\"\u001B[39m\u001B[38;5;124mcorrect\u001B[39m\u001B[38;5;124m\"\u001B[39m: \u001B[38;5;28mfloat\u001B[39m,\n\u001B[1;32m     85\u001B[0m                                                              \u001B[38;5;124m\"\u001B[39m\u001B[38;5;124mdimension_id\u001B[39m\u001B[38;5;124m\"\u001B[39m: \u001B[38;5;28mint\u001B[39m})\n\u001B[0;32m---> 86\u001B[0m train_data \u001B[38;5;241m=\u001B[39m dataset\u001B[38;5;241m.\u001B[39mCATDataset(train_df, concept_map, metadata, config)\n\u001B[1;32m     87\u001B[0m valid_data \u001B[38;5;241m=\u001B[39m dataset\u001B[38;5;241m.\u001B[39mEvalDataset(valid_df, concept_map, metadata, config)\n\u001B[1;32m     88\u001B[0m test_data \u001B[38;5;241m=\u001B[39m dataset\u001B[38;5;241m.\u001B[39mEvalDataset(test_df, concept_map, metadata, config)\n",
      "\u001B[0;31mTypeError\u001B[0m: CATDataset.__init__() missing 1 required positional argument: 'nb_modalities'"
     ]
    }
   ],
   "execution_count": 42
  },
  {
   "cell_type": "code",
   "execution_count": 8,
   "id": "b490a908-2265-44f3-854a-59166b199f23",
   "metadata": {},
   "outputs": [
    {
     "name": "stdout",
     "output_type": "stream",
     "text": [
      "compiling CDM model\n",
      "compiling selection model\n"
     ]
    }
   ],
   "source": [
    "S.init_models(train_data, valid_data)"
   ]
  },
  {
   "cell_type": "code",
   "execution_count": 9,
   "id": "a5f95c28-dd26-4460-ba12-27a9cbf79f17",
   "metadata": {},
   "outputs": [
    {
     "name": "stderr",
     "output_type": "stream",
     "text": [
      "  0%|                                                     | 0/5 [00:00<?, ?it/s]"
     ]
    },
    {
     "name": "stdout",
     "output_type": "stream",
     "text": [
      "question_ids fed tensor([13, 13, 12,  ...,  2,  2,  2], device='cuda:0')\n",
      "user_ids fed tensor([   0,    0,    1,  ..., 3910, 3910, 3910], device='cuda:0')\n",
      "Loss:  1.4576510787010193\n",
      "Loss:  2.8891382813453674\n",
      "Loss:  4.2768319845199585\n",
      "Loss:  5.675289690494537\n",
      "Loss:  7.058856308460236\n",
      "Loss:  8.435262262821198\n",
      "Loss:  9.832297503948212\n",
      "Loss:  11.22554224729538\n"
     ]
    },
    {
     "name": "stderr",
     "output_type": "stream",
     "text": [
      "/home/arthur/.local/share/mamba/envs/liriscat/lib/python3.11/site-packages/IMPACT/model/abstract_model.py:762: UserWarning: The model must be trained before getting user embeddings\n",
      "  warnings.warn(\"The model must be trained before getting user embeddings\")\n",
      " 20%|█████████                                    | 1/5 [00:00<00:02,  1.41it/s]"
     ]
    },
    {
     "name": "stdout",
     "output_type": "stream",
     "text": [
      "Loss:  12.546798050403595\n",
      "Loss:  13.861357033252716\n",
      "m_user_ids tensor([   0,    0,    0,  ..., 3910, 3910, 3910], device='cuda:0')\n",
      "question_ids fed tensor([13, 13, 12,  ..., 13, 12, 12], device='cuda:0')\n",
      "user_ids fed tensor([   0,    0,    1,  ..., 3896, 3910, 3910], device='cuda:0')\n",
      "Loss:  1.3213879664738972\n",
      "Loss:  2.6561307112375894\n",
      "Loss:  3.982434550921122\n",
      "Loss:  5.313645561536153\n",
      "Loss:  6.632216691970825\n",
      "Loss:  7.965631167093913\n",
      "Loss:  9.2955881357193\n",
      "Loss:  10.632724841435751\n",
      "Loss:  11.953145464261373\n"
     ]
    },
    {
     "name": "stderr",
     "output_type": "stream",
     "text": [
      " 40%|██████████████████                           | 2/5 [00:02<00:03,  1.23s/it]"
     ]
    },
    {
     "name": "stdout",
     "output_type": "stream",
     "text": [
      "Loss:  13.27755351861318\n",
      "m_user_ids tensor([   0,    0,    0,  ..., 3910, 3910, 3910], device='cuda:0')\n",
      "question_ids fed tensor([13, 13, 12,  ...,  4,  4,  4], device='cuda:0')\n",
      "user_ids fed tensor([   0,    0,    1,  ..., 3910, 3910, 3910], device='cuda:0')\n",
      "Loss:  1.3139262795448303\n",
      "Loss:  2.632531374692917\n",
      "Loss:  3.947002500295639\n",
      "Loss:  5.260391563177109\n",
      "Loss:  6.576918601989746\n",
      "Loss:  7.897433966398239\n",
      "Loss:  9.213515222072601\n",
      "Loss:  10.526953309774399\n"
     ]
    },
    {
     "name": "stderr",
     "output_type": "stream",
     "text": [
      " 60%|███████████████████████████                  | 3/5 [00:04<00:03,  1.67s/it]"
     ]
    },
    {
     "name": "stdout",
     "output_type": "stream",
     "text": [
      "Loss:  11.834318906068802\n",
      "Loss:  13.154201745986938\n",
      "m_user_ids tensor([   0,    0,    0,  ..., 3910, 3910, 3910], device='cuda:0')\n",
      "question_ids fed tensor([13, 13, 12,  ..., 15, 18, 18], device='cuda:0')\n",
      "user_ids fed tensor([   0,    0,    1,  ..., 3896, 3910, 3910], device='cuda:0')\n",
      "Loss:  1.3118399858474732\n",
      "Loss:  2.6283849716186523\n"
     ]
    },
    {
     "name": "stderr",
     "output_type": "stream",
     "text": [
      "\n",
      "60%|███████████████████████████                  | 3/5 [00:05<00:03,  1.82s/it]"
     ]
    },
    {
     "ename": "KeyboardInterrupt",
     "evalue": "",
     "output_type": "error",
     "traceback": [
      "\u001B[0;31m---------------------------------------------------------------------------\u001B[0m",
      "\u001B[0;31mKeyboardInterrupt\u001B[0m                         Traceback (most recent call last)",
      "Cell \u001B[0;32mIn[9], line 1\u001B[0m\n\u001B[0;32m----> 1\u001B[0m \u001B[43mS\u001B[49m\u001B[38;5;241;43m.\u001B[39;49m\u001B[43mevaluate_test\u001B[49m\u001B[43m(\u001B[49m\u001B[43mtest_data\u001B[49m\u001B[43m)\u001B[49m\n",
      "File \u001B[0;32m~/liriscat/liriscat/selectionStrategy/abstract_selection_strategy.py:141\u001B[0m, in \u001B[0;36mAbstractSelectionStrategy.evaluation_state.<locals>.wrapper\u001B[0;34m(*args, **kwargs)\u001B[0m\n\u001B[1;32m    139\u001B[0m     \u001B[38;5;28mself\u001B[39m\u001B[38;5;241m.\u001B[39mmodel\u001B[38;5;241m.\u001B[39meval() \u001B[38;5;66;03m# todo : putting in eval mode again\u001B[39;00m\n\u001B[1;32m    140\u001B[0m     \u001B[38;5;28;01mwith\u001B[39;00m torch\u001B[38;5;241m.\u001B[39mno_grad(), torch\u001B[38;5;241m.\u001B[39mamp\u001B[38;5;241m.\u001B[39mautocast(\u001B[38;5;124m'\u001B[39m\u001B[38;5;124mcuda\u001B[39m\u001B[38;5;124m'\u001B[39m):\n\u001B[0;32m--> 141\u001B[0m         result \u001B[38;5;241m=\u001B[39m \u001B[43mfunc\u001B[49m\u001B[43m(\u001B[49m\u001B[38;5;241;43m*\u001B[39;49m\u001B[43margs\u001B[49m\u001B[43m,\u001B[49m\u001B[43m \u001B[49m\u001B[38;5;241;43m*\u001B[39;49m\u001B[38;5;241;43m*\u001B[39;49m\u001B[43mkwargs\u001B[49m\u001B[43m)\u001B[49m\n\u001B[1;32m    142\u001B[0m \u001B[38;5;28;01mfinally\u001B[39;00m:\n\u001B[1;32m    143\u001B[0m     \u001B[38;5;66;03m# Restore the previous state after method execution\u001B[39;00m\n\u001B[1;32m    144\u001B[0m     \u001B[38;5;28mself\u001B[39m\u001B[38;5;241m.\u001B[39mCDM\u001B[38;5;241m.\u001B[39mmodel\u001B[38;5;241m.\u001B[39mtrain()\n",
      "File \u001B[0;32m~/liriscat/liriscat/selectionStrategy/abstract_selection_strategy.py:233\u001B[0m, in \u001B[0;36mAbstractSelectionStrategy.evaluate_test\u001B[0;34m(self, test_dataset)\u001B[0m\n\u001B[1;32m    231\u001B[0m \u001B[38;5;28;01mwith\u001B[39;00m torch\u001B[38;5;241m.\u001B[39menable_grad():\n\u001B[1;32m    232\u001B[0m     \u001B[38;5;28mself\u001B[39m\u001B[38;5;241m.\u001B[39mCDM\u001B[38;5;241m.\u001B[39mmodel\u001B[38;5;241m.\u001B[39mtrain()\n\u001B[0;32m--> 233\u001B[0m     \u001B[38;5;28;43mself\u001B[39;49m\u001B[38;5;241;43m.\u001B[39;49m\u001B[43mCDM\u001B[49m\u001B[38;5;241;43m.\u001B[39;49m\u001B[43mupdate_users\u001B[49m\u001B[43m(\u001B[49m\u001B[43mtest_query_env\u001B[49m\u001B[38;5;241;43m.\u001B[39;49m\u001B[43mfeed_IMPACT_sub\u001B[49m\u001B[43m(\u001B[49m\u001B[43m)\u001B[49m\u001B[43m)\u001B[49m\n\u001B[1;32m    234\u001B[0m     \u001B[38;5;28mself\u001B[39m\u001B[38;5;241m.\u001B[39mCDM\u001B[38;5;241m.\u001B[39mmodel\u001B[38;5;241m.\u001B[39meval()\n\u001B[1;32m    236\u001B[0m \u001B[38;5;28mprint\u001B[39m(\u001B[38;5;124m\"\u001B[39m\u001B[38;5;124mm_user_ids\u001B[39m\u001B[38;5;124m\"\u001B[39m,m_user_ids)\n",
      "File \u001B[0;32m~/liriscat/liriscat/CDM/IMPACT.py:84\u001B[0m, in \u001B[0;36mCATIMPACT.update_users\u001B[0;34m(self, query_data)\u001B[0m\n\u001B[1;32m     80\u001B[0m n_batches \u001B[38;5;241m=\u001B[39m \u001B[38;5;28mlen\u001B[39m(dataloader)\n\u001B[1;32m     82\u001B[0m \u001B[38;5;28;01mfor\u001B[39;00m _ \u001B[38;5;129;01min\u001B[39;00m \u001B[38;5;28mrange\u001B[39m(\u001B[38;5;28mself\u001B[39m\u001B[38;5;241m.\u001B[39mconfig[\u001B[38;5;124m'\u001B[39m\u001B[38;5;124mnum_inner_users_epochs\u001B[39m\u001B[38;5;124m'\u001B[39m]) :\n\u001B[0;32m---> 84\u001B[0m \u001B[43m    \u001B[49m\u001B[38;5;28;43;01mfor\u001B[39;49;00m\u001B[43m \u001B[49m\u001B[43mbatch\u001B[49m\u001B[43m \u001B[49m\u001B[38;5;129;43;01min\u001B[39;49;00m\u001B[43m \u001B[49m\u001B[43mdataloader\u001B[49m\u001B[43m:\u001B[49m\n\u001B[1;32m     85\u001B[0m \u001B[43m        \u001B[49m\u001B[43muser_ids\u001B[49m\u001B[43m \u001B[49m\u001B[38;5;241;43m=\u001B[39;49m\u001B[43m \u001B[49m\u001B[43mbatch\u001B[49m\u001B[43m[\u001B[49m\u001B[38;5;124;43m\"\u001B[39;49m\u001B[38;5;124;43muser_ids\u001B[39;49m\u001B[38;5;124;43m\"\u001B[39;49m\u001B[43m]\u001B[49m\n\u001B[1;32m     86\u001B[0m \u001B[43m        \u001B[49m\u001B[43mquestion_ids\u001B[49m\u001B[43m \u001B[49m\u001B[38;5;241;43m=\u001B[39;49m\u001B[43m \u001B[49m\u001B[43mbatch\u001B[49m\u001B[43m[\u001B[49m\u001B[38;5;124;43m\"\u001B[39;49m\u001B[38;5;124;43mquestion_ids\u001B[39;49m\u001B[38;5;124;43m\"\u001B[39;49m\u001B[43m]\u001B[49m\n",
      "File \u001B[0;32m~/.local/share/mamba/envs/liriscat/lib/python3.11/site-packages/torch/utils/data/dataloader.py:701\u001B[0m, in \u001B[0;36m_BaseDataLoaderIter.__next__\u001B[0;34m(self)\u001B[0m\n\u001B[1;32m    698\u001B[0m \u001B[38;5;28;01mif\u001B[39;00m \u001B[38;5;28mself\u001B[39m\u001B[38;5;241m.\u001B[39m_sampler_iter \u001B[38;5;129;01mis\u001B[39;00m \u001B[38;5;28;01mNone\u001B[39;00m:\n\u001B[1;32m    699\u001B[0m     \u001B[38;5;66;03m# TODO(https://github.com/pytorch/pytorch/issues/76750)\u001B[39;00m\n\u001B[1;32m    700\u001B[0m     \u001B[38;5;28mself\u001B[39m\u001B[38;5;241m.\u001B[39m_reset()  \u001B[38;5;66;03m# type: ignore[call-arg]\u001B[39;00m\n\u001B[0;32m--> 701\u001B[0m data \u001B[38;5;241m=\u001B[39m \u001B[38;5;28;43mself\u001B[39;49m\u001B[38;5;241;43m.\u001B[39;49m\u001B[43m_next_data\u001B[49m\u001B[43m(\u001B[49m\u001B[43m)\u001B[49m\n\u001B[1;32m    702\u001B[0m \u001B[38;5;28mself\u001B[39m\u001B[38;5;241m.\u001B[39m_num_yielded \u001B[38;5;241m+\u001B[39m\u001B[38;5;241m=\u001B[39m \u001B[38;5;241m1\u001B[39m\n\u001B[1;32m    703\u001B[0m \u001B[38;5;28;01mif\u001B[39;00m (\n\u001B[1;32m    704\u001B[0m     \u001B[38;5;28mself\u001B[39m\u001B[38;5;241m.\u001B[39m_dataset_kind \u001B[38;5;241m==\u001B[39m _DatasetKind\u001B[38;5;241m.\u001B[39mIterable\n\u001B[1;32m    705\u001B[0m     \u001B[38;5;129;01mand\u001B[39;00m \u001B[38;5;28mself\u001B[39m\u001B[38;5;241m.\u001B[39m_IterableDataset_len_called \u001B[38;5;129;01mis\u001B[39;00m \u001B[38;5;129;01mnot\u001B[39;00m \u001B[38;5;28;01mNone\u001B[39;00m\n\u001B[1;32m    706\u001B[0m     \u001B[38;5;129;01mand\u001B[39;00m \u001B[38;5;28mself\u001B[39m\u001B[38;5;241m.\u001B[39m_num_yielded \u001B[38;5;241m>\u001B[39m \u001B[38;5;28mself\u001B[39m\u001B[38;5;241m.\u001B[39m_IterableDataset_len_called\n\u001B[1;32m    707\u001B[0m ):\n",
      "File \u001B[0;32m~/.local/share/mamba/envs/liriscat/lib/python3.11/site-packages/torch/utils/data/dataloader.py:757\u001B[0m, in \u001B[0;36m_SingleProcessDataLoaderIter._next_data\u001B[0;34m(self)\u001B[0m\n\u001B[1;32m    755\u001B[0m \u001B[38;5;28;01mdef\u001B[39;00m \u001B[38;5;21m_next_data\u001B[39m(\u001B[38;5;28mself\u001B[39m):\n\u001B[1;32m    756\u001B[0m     index \u001B[38;5;241m=\u001B[39m \u001B[38;5;28mself\u001B[39m\u001B[38;5;241m.\u001B[39m_next_index()  \u001B[38;5;66;03m# may raise StopIteration\u001B[39;00m\n\u001B[0;32m--> 757\u001B[0m     data \u001B[38;5;241m=\u001B[39m \u001B[38;5;28;43mself\u001B[39;49m\u001B[38;5;241;43m.\u001B[39;49m\u001B[43m_dataset_fetcher\u001B[49m\u001B[38;5;241;43m.\u001B[39;49m\u001B[43mfetch\u001B[49m\u001B[43m(\u001B[49m\u001B[43mindex\u001B[49m\u001B[43m)\u001B[49m  \u001B[38;5;66;03m# may raise StopIteration\u001B[39;00m\n\u001B[1;32m    758\u001B[0m     \u001B[38;5;28;01mif\u001B[39;00m \u001B[38;5;28mself\u001B[39m\u001B[38;5;241m.\u001B[39m_pin_memory:\n\u001B[1;32m    759\u001B[0m         data \u001B[38;5;241m=\u001B[39m _utils\u001B[38;5;241m.\u001B[39mpin_memory\u001B[38;5;241m.\u001B[39mpin_memory(data, \u001B[38;5;28mself\u001B[39m\u001B[38;5;241m.\u001B[39m_pin_memory_device)\n",
      "File \u001B[0;32m~/.local/share/mamba/envs/liriscat/lib/python3.11/site-packages/torch/utils/data/_utils/fetch.py:52\u001B[0m, in \u001B[0;36m_MapDatasetFetcher.fetch\u001B[0;34m(self, possibly_batched_index)\u001B[0m\n\u001B[1;32m     50\u001B[0m         data \u001B[38;5;241m=\u001B[39m \u001B[38;5;28mself\u001B[39m\u001B[38;5;241m.\u001B[39mdataset\u001B[38;5;241m.\u001B[39m__getitems__(possibly_batched_index)\n\u001B[1;32m     51\u001B[0m     \u001B[38;5;28;01melse\u001B[39;00m:\n\u001B[0;32m---> 52\u001B[0m         data \u001B[38;5;241m=\u001B[39m \u001B[43m[\u001B[49m\u001B[38;5;28;43mself\u001B[39;49m\u001B[38;5;241;43m.\u001B[39;49m\u001B[43mdataset\u001B[49m\u001B[43m[\u001B[49m\u001B[43midx\u001B[49m\u001B[43m]\u001B[49m\u001B[43m \u001B[49m\u001B[38;5;28;43;01mfor\u001B[39;49;00m\u001B[43m \u001B[49m\u001B[43midx\u001B[49m\u001B[43m \u001B[49m\u001B[38;5;129;43;01min\u001B[39;49;00m\u001B[43m \u001B[49m\u001B[43mpossibly_batched_index\u001B[49m\u001B[43m]\u001B[49m\n\u001B[1;32m     53\u001B[0m \u001B[38;5;28;01melse\u001B[39;00m:\n\u001B[1;32m     54\u001B[0m     data \u001B[38;5;241m=\u001B[39m \u001B[38;5;28mself\u001B[39m\u001B[38;5;241m.\u001B[39mdataset[possibly_batched_index]\n",
      "File \u001B[0;32m~/.local/share/mamba/envs/liriscat/lib/python3.11/site-packages/torch/utils/data/_utils/fetch.py:52\u001B[0m, in \u001B[0;36m<listcomp>\u001B[0;34m(.0)\u001B[0m\n\u001B[1;32m     50\u001B[0m         data \u001B[38;5;241m=\u001B[39m \u001B[38;5;28mself\u001B[39m\u001B[38;5;241m.\u001B[39mdataset\u001B[38;5;241m.\u001B[39m__getitems__(possibly_batched_index)\n\u001B[1;32m     51\u001B[0m     \u001B[38;5;28;01melse\u001B[39;00m:\n\u001B[0;32m---> 52\u001B[0m         data \u001B[38;5;241m=\u001B[39m [\u001B[38;5;28mself\u001B[39m\u001B[38;5;241m.\u001B[39mdataset[idx] \u001B[38;5;28;01mfor\u001B[39;00m idx \u001B[38;5;129;01min\u001B[39;00m possibly_batched_index]\n\u001B[1;32m     53\u001B[0m \u001B[38;5;28;01melse\u001B[39;00m:\n\u001B[1;32m     54\u001B[0m     data \u001B[38;5;241m=\u001B[39m \u001B[38;5;28mself\u001B[39m\u001B[38;5;241m.\u001B[39mdataset[possibly_batched_index]\n",
      "\u001B[0;31mKeyboardInterrupt\u001B[0m: "
     ]
    }
   ],
   "source": [
    "S.evaluate_test(test_data)"
   ]
  },
  {
   "cell_type": "code",
   "execution_count": 5,
   "id": "b1003d70-beb1-4170-9993-ee62dcff200a",
   "metadata": {},
   "outputs": [
    {
     "data": {
      "text/plain": [
       "tensor(0, device='cuda:0')"
      ]
     },
     "execution_count": 5,
     "metadata": {},
     "output_type": "execute_result"
    }
   ],
   "source": [
    "torch.sum(S.CDM.model.R!=0)"
   ]
  }
 ],
 "metadata": {
  "kernelspec": {
   "display_name": "Python 3 (ipykernel)",
   "language": "python",
   "name": "python3"
  },
  "language_info": {
   "codemirror_mode": {
    "name": "ipython",
    "version": 3
   },
   "file_extension": ".py",
   "mimetype": "text/x-python",
   "name": "python",
   "nbconvert_exporter": "python",
   "pygments_lexer": "ipython3",
   "version": "3.11.11"
  }
 },
 "nbformat": 4,
 "nbformat_minor": 5
}
