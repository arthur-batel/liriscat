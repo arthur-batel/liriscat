{
 "cells": [
  {
   "cell_type": "markdown",
   "id": "3f91591122382be0",
   "metadata": {},
   "source": [
    "# CDM pretraining\n",
    "### Import"
   ]
  },
  {
   "cell_type": "markdown",
   "id": "ee75f1e75f4b2093",
   "metadata": {},
   "source": [
    "## Train IMPACT model"
   ]
  },
  {
   "cell_type": "code",
   "execution_count": null,
   "id": "a738a2bafd83df48",
   "metadata": {
    "ExecuteTime": {
     "end_time": "2025-05-06T13:19:58.503706Z",
     "start_time": "2025-05-06T13:19:56.288041Z"
    }
   },
   "outputs": [],
   "source": [
    "from IMPACT.utils import generate_eval_config\n",
    "from IMPACT.dataset import LoaderDataset as IMPACT_dataset\n",
    "from IMPACT import model\n",
    "from micat.dataset import preprocessing_utilities as pu"
   ]
  },
  {
   "cell_type": "code",
   "execution_count": null,
   "id": "a33306919a97d5b",
   "metadata": {
    "ExecuteTime": {
     "end_time": "2025-05-06T13:07:46.849201Z",
     "start_time": "2025-05-06T13:07:46.842177Z"
    }
   },
   "outputs": [],
   "source": [
    "folds_nb = 1\n",
    "dataset_name=\"math2\"\n",
    "\n",
    "# Set all the required parameters ---------------\n",
    "IMPACT_config = generate_eval_config(save_params=True, dataset_name=dataset_name, embs_path=\"../embs/\", params_path=\"../ckpt/\",  learning_rate=0.016848380924625605, lambda_=9.972254466547545e-06, batch_size=2048,num_epochs=200,valid_metric='mi_acc', pred_metrics=[\"mi_acc\"],profile_metrics=['doa'])\n",
    "\n",
    "concept_map, metadata, nb_modalities = pu.load_dataset_resources(IMPACT_config)"
   ]
  },
  {
   "cell_type": "code",
   "execution_count": null,
   "id": "57f46a6fa28b0de3",
   "metadata": {
    "ExecuteTime": {
     "end_time": "2025-05-06T13:08:17.327080Z",
     "start_time": "2025-05-06T13:07:51.166169Z"
    }
   },
   "outputs": [],
   "source": [
    "for seed in range(3):\n",
    "    IMPACT_config['seed'] = seed\n",
    "    for i_fold in range(folds_nb):\n",
    "\n",
    "        IMPACT_config['i_fold'] = i_fold\n",
    "        vertical_train, vertical_valid = pu.vertical_data(IMPACT_config, i_fold)\n",
    "\n",
    "        impact_train_data = IMPACT_dataset(vertical_train, concept_map, metadata, nb_modalities)\n",
    "        impact_valid_data = IMPACT_dataset(vertical_valid, concept_map, metadata, nb_modalities)\n",
    "\n",
    "        algo = model.IMPACT(**IMPACT_config)\n",
    "        algo.init_model(impact_train_data, impact_valid_data)\n",
    "        algo.train(impact_train_data, impact_valid_data)\n",
    "        print(algo.evaluate_predictions(impact_valid_data))\n",
    "        print(algo.evaluate_predictions(impact_train_data))"
   ]
  },
  {
   "cell_type": "code",
   "execution_count": null,
   "id": "f7f4e9fc",
   "metadata": {},
   "outputs": [],
   "source": [
    "print(algo.evaluate_profiles(impact_valid_data))"
   ]
  },
  {
   "cell_type": "markdown",
   "id": "51b67b2e",
   "metadata": {},
   "source": [
    "## Train NCDM Model"
   ]
  },
  {
   "cell_type": "code",
   "execution_count": null,
   "id": "3acca548",
   "metadata": {},
   "outputs": [],
   "source": [
    "%load_ext autoreload\n",
    "%autoreload 2\n",
    "\n",
    "import os\n",
    "os.environ[\"PYTORCH_CUDA_ALLOC_CONF\"] = \"expandable_segments:True\"\n",
    "os.environ[\"PYTHONHASHSEED\"] = \"0\"\n",
    "os.environ['CUBLAS_WORKSPACE_CONFIG'] = \":4096:8\"\n",
    "os.environ[\"CUDA_LAUNCH_BLOCKING\"] = \"1\"\n",
    "\n",
    "import micat\n",
    "micat.utils.set_seed(0)\n",
    "\n",
    "import logging\n",
    "import gc\n",
    "import json\n",
    "import torch\n",
    "micat.utils.set_seed(0)\n",
    "import pandas as pd"
   ]
  },
  {
   "cell_type": "code",
   "execution_count": null,
   "id": "f2810cf9",
   "metadata": {},
   "outputs": [],
   "source": [
    "from IMPACT.utils import generate_eval_config\n",
    "from IMPACT.dataset import LoaderDataset as IMPACT_dataset\n",
    "from micat.CDM.NCDM import CATNCDM\n",
    "from micat.dataset import preprocessing_utilities as pu"
   ]
  },
  {
   "cell_type": "code",
   "execution_count": null,
   "id": "bb29bdc4",
   "metadata": {},
   "outputs": [],
   "source": [
    "folds_nb = 1\n",
    "dataset_name=\"math2\"\n",
    "\n",
    "# Set all the required parameters ---------------\n",
    "IMPACT_config = generate_eval_config(save_params=False, load_params=True, patience=5,num_epochs=5, dataset_name=dataset_name, embs_path=\"../embs/\", params_path=\"../ckpt/\",  learning_rate=0.016848380924625605, lambda_=9.972254466547545e-06, batch_size=2048,valid_metric='mi_acc', pred_metrics=[\"mi_acc\"],profile_metrics=['doa'])\n",
    "\n",
    "concept_map, metadata, nb_modalities = pu.load_dataset_resources(IMPACT_config)\n"
   ]
  },
  {
   "cell_type": "code",
   "execution_count": null,
   "id": "c342d38f",
   "metadata": {},
   "outputs": [],
   "source": [
    "for i_fold in range(5):\n",
    "\n",
    "    IMPACT_config['i_fold'] = i_fold\n",
    "    vertical_train, vertical_valid = pu.vertical_data(IMPACT_config, i_fold)\n",
    "\n",
    "    train_set = IMPACT_dataset(vertical_train, concept_map, metadata, nb_modalities)\n",
    "    valid_set = IMPACT_dataset(vertical_valid, concept_map, metadata, nb_modalities)\n",
    "\n",
    "    cdm = CATNCDM(**IMPACT_config)\n",
    "    cdm.init_CDM_model(train_set,valid_set)\n",
    "    #cdm.train(train_set, valid_set, epoch=IMPACT_config['num_epochs'])\n",
    "\n",
    "    print(cdm.eval(valid_set))"
   ]
  },
  {
   "cell_type": "code",
   "execution_count": null,
   "id": "1db885e9-ff86-47df-9a83-14028babeafb",
   "metadata": {},
   "outputs": [],
   "source": [
    "IMPACT_config['n_query'] = 16\n",
    "IMPACT_config['valid_batch_size'] = 2048"
   ]
  },
  {
   "cell_type": "code",
   "execution_count": null,
   "id": "584f4d1d-38af-494b-928b-fee48913e5ea",
   "metadata": {},
   "outputs": [],
   "source": [
    "from micat.dataset import UserCollate, QueryEnv\n",
    "test_df = pd.read_csv(\n",
    "            f'../datasets/2-preprocessed_data/{IMPACT_config[\"dataset_name\"]}_test_{i_fold}.csv',\n",
    "            encoding='utf-8', dtype={'student_id': int, 'item_id': int, \"correct\": float,\n",
    "                                                                    \"dimension_id\": int})\n",
    "\n",
    "\n",
    "test_data = micat.dataset.EvalDataset(test_df, concept_map, metadata, IMPACT_config,nb_modalities)\n",
    "test_data.split_query_meta(IMPACT_config['seed'])\n",
    "test_query_env = QueryEnv(test_data, IMPACT_config['valid_batch_size'])"
   ]
  },
  {
   "cell_type": "code",
   "execution_count": null,
   "id": "5c00e5c2-7092-472a-92e0-b79b984a153c",
   "metadata": {},
   "outputs": [],
   "source": [
    "test_data._meta_mask[torch.tensor(list(test_data.users_id))]"
   ]
  },
  {
   "cell_type": "code",
   "execution_count": null,
   "id": "8e03f34c-a8a3-4249-922f-f4e81144b34f",
   "metadata": {},
   "outputs": [],
   "source": [
    "cdm.train(train_set, valid_set, epoch=IMPACT_config['num_epochs'])"
   ]
  },
  {
   "cell_type": "code",
   "execution_count": null,
   "id": "ab675b31-6c47-4985-98a4-2a4f3eb88d3a",
   "metadata": {},
   "outputs": [],
   "source": [
    "cdm = CATNCDM(**IMPACT_config)\n",
    "cdm.init_CDM_model(train_set,valid_set)\n",
    "cdm.train(train_set, valid_set, epoch=IMPACT_config['num_epochs'])\n",
    "\n",
    "print(cdm.eval(valid_set))"
   ]
  },
  {
   "cell_type": "code",
   "execution_count": null,
   "id": "aefdf840",
   "metadata": {},
   "outputs": [],
   "source": [
    "IMPACT_config['load_params'] = True\n",
    "cdm = CATNCDM(**IMPACT_config)\n",
    "cdm.init_CDM_model(train_set,valid_set)\n",
    "print(cdm.eval(valid_set))"
   ]
  },
  {
   "cell_type": "code",
   "execution_count": null,
   "id": "77529040-deda-4dba-aac4-f8e04e0ec14b",
   "metadata": {},
   "outputs": [],
   "source": [
    "dataset_name = \"assist0910\"\n",
    "i_fold = 0\n",
    "\n",
    "IMPACT_config = generate_eval_config(num_epochs=200, patience=30, save_params=True, dataset_name=dataset_name,\n",
    "                                         embs_path=\"../embs/\" + dataset_name, params_path=\"../ckpt/\" + dataset_name,\n",
    "                                         learning_rate=7.380681029927064e-05, lambda_=2.2656270501845414e-06, batch_size=2048,valid_metric='rmse', pred_metrics=[\"mi_acc\", 'rmse'],profile_metrics=['doa'])\n",
    "\n",
    "concept_map, metadata, nb_modalities = pu.load_dataset_resources(IMPACT_config)\n",
    "\n",
    "IMPACT_config = convert_config_to_EduCAT(IMPACT_config, metadata)\n",
    "\n",
    "IMPACT_config['i_fold'] = i_fold\n",
    "vertical_train, vertical_valid = pu.vertical_data(IMPACT_config, i_fold)\n",
    "\n",
    "impact_train_data = IMPACT_dataset(vertical_train, concept_map, metadata, nb_modalities)\n",
    "impact_valid_data = IMPACT_dataset(vertical_valid, concept_map, metadata, nb_modalities)\n",
    "\n",
    "\n",
    "IMPACT_config['load_params'] = True\n",
    "IMPACT_config['save'] = False\n",
    "cdm = NCDM(metadata['num_dimension_id'], metadata['num_item_id'], metadata['num_user_id'], IMPACT_config)\n",
    "print(cdm.eval(valid_data))"
   ]
  },
  {
   "cell_type": "code",
   "execution_count": null,
   "id": "2f2b5c8d-cdb3-43b3-91c8-fb31608f8d2a",
   "metadata": {},
   "outputs": [],
   "source": [
    "train_data"
   ]
  },
  {
   "cell_type": "code",
   "execution_count": null,
   "id": "f15d32d8",
   "metadata": {},
   "outputs": [],
   "source": [
    "for seed in range(1,2):\n",
    "    IMPACT_config['seed'] = seed\n",
    "    for i_fold in range(folds_nb):\n",
    "\n",
    "        IMPACT_config['i_fold'] = i_fold\n",
    "        vertical_train, vertical_valid = pu.vertical_data(IMPACT_config, i_fold)\n",
    "\n",
    "        impact_train_data = IMPACT_dataset(vertical_train, concept_map, metadata, nb_modalities)\n",
    "        impact_valid_data = IMPACT_dataset(vertical_valid, concept_map, metadata, nb_modalities)\n",
    "\n",
    "        train_set, valid_set = [\n",
    "            pu.transform(data.raw_data_array[:,0].long(), data.raw_data_array[:,1].long(), concept_map, data.raw_data_array[:,2], IMPACT_config['batch_size'], impact_train_data.n_categories)\n",
    "            for data in [impact_train_data, impact_valid_data]\n",
    "        ]"
   ]
  },
  {
   "cell_type": "code",
   "execution_count": null,
   "id": "bd11123c",
   "metadata": {},
   "outputs": [],
   "source": [
    "IMPACT_config['load_params'] = True\n",
    "cdm = NCDM(metadata['num_dimension_id'], metadata['num_item_id'], metadata['num_user_id'], IMPACT_config)\n",
    "print(cdm.eval(valid_set))\n",
    "IMPACT_config['load_params'] = False"
   ]
  },
  {
   "cell_type": "code",
   "execution_count": null,
   "id": "fe2cb271-25f1-46a8-b89c-c28381e1d12c",
   "metadata": {},
   "outputs": [],
   "source": [
    "IMPACT_config"
   ]
  },
  {
   "cell_type": "code",
   "execution_count": null,
   "id": "081846dd-b4c6-4817-bd1b-b2ae029d86a6",
   "metadata": {},
   "outputs": [],
   "source": []
  }
 ],
 "metadata": {
  "kernelspec": {
   "display_name": "pytorch-gpu-2.7.0_py3.12.10",
   "language": "python",
   "name": "module-conda-env-pytorch-gpu-2.7.0_py3.12.10"
  },
  "language_info": {
   "codemirror_mode": {
    "name": "ipython",
    "version": 3
   },
   "file_extension": ".py",
   "mimetype": "text/x-python",
   "name": "python",
   "nbconvert_exporter": "python",
   "pygments_lexer": "ipython3",
   "version": "3.12.10"
  }
 },
 "nbformat": 4,
 "nbformat_minor": 5
}
