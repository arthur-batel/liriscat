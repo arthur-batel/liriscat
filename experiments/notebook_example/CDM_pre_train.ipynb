{
 "cells": [
  {
   "cell_type": "markdown",
   "id": "3f91591122382be0",
   "metadata": {},
   "source": [
    "# postcovid dataset preprocessing\n",
    "### Import"
   ]
  },
  {
   "metadata": {},
   "cell_type": "markdown",
   "source": "## Train IMPACT model",
   "id": "ee75f1e75f4b2093"
  },
  {
   "cell_type": "code",
   "id": "a738a2bafd83df48",
   "metadata": {
    "ExecuteTime": {
     "end_time": "2025-05-06T13:19:58.503706Z",
     "start_time": "2025-05-06T13:19:56.288041Z"
    }
   },
   "source": [
    "from liriscat.utils import generate_eval_config\n",
    "import json\n",
    "from IMPACT.dataset import LoaderDataset as IMPACT_dataset\n",
    "from liriscat.CDM import *\n",
    "from IMPACT import model\n",
    "from liriscat.dataset.preprocessing_utilities import *"
   ],
   "outputs": [
    {
     "name": "stdout",
     "output_type": "stream",
     "text": [
      "CUDA is not available. Skipping CUDA seed setting.\n",
      "importing json on engine(s)\n",
      "importing utils,model,dataset from IMPACT on engine(s)\n",
      "importing logging on engine(s)\n",
      "importing gc on engine(s)\n",
      "importing torch on engine(s)\n"
     ]
    }
   ],
   "execution_count": 1
  },
  {
   "metadata": {
    "ExecuteTime": {
     "end_time": "2025-05-06T13:07:46.849201Z",
     "start_time": "2025-05-06T13:07:46.842177Z"
    }
   },
   "cell_type": "code",
   "source": [
    "folds_nb = 5\n",
    "dataset_name=\"postcovid\"\n",
    "\n",
    "# Set all the required parameters ---------------\n",
    "IMPACT_config = generate_eval_config(num_epochs=200, save_params=True, dataset_name=dataset_name, embs_path=\"../embs/\"+dataset_name, params_path=\"../ckpt/\"+dataset_name,  learning_rate=0.02026, lambda_=1.2e-5, batch_size=2048,valid_metric='rmse', pred_metrics=[\"rmse\"])\n",
    "\n",
    "concept_map, metadata, nb_modalities = load_dataset_resources(IMPACT_config)\n",
    "\n",
    "\n",
    "# Conversion helper that builds a DataFrame with specific dtypes and returns records.\n",
    "#def convert_to_records(data):\n",
    "#    df = pd.DataFrame(data, columns={'user_id': int, 'item_id': int, 'dimension_id': int,'correct': float, })\n",
    "#    return df.to_records(index=False, column_dtypes={'user_id': int, 'item_id': int, 'correct': float, 'dimension_id': int})\n"
   ],
   "id": "a33306919a97d5b",
   "outputs": [
    {
     "name": "stdout",
     "output_type": "stream",
     "text": [
      "CUDA is not available. Using CPU.\n"
     ]
    }
   ],
   "execution_count": 2
  },
  {
   "cell_type": "code",
   "id": "57f46a6fa28b0de3",
   "metadata": {
    "ExecuteTime": {
     "end_time": "2025-05-06T13:08:17.327080Z",
     "start_time": "2025-05-06T13:07:51.166169Z"
    }
   },
   "source": [
    "dataset_name = 'postcovid'\n",
    "for i in range(folds_nb):\n",
    "\n",
    "    horizontal_train, horizontal_valid = horizontal_data(IMPACT_config, i)\n",
    "\n",
    "    impact_train_data = IMPACT_dataset(horizontal_train, concept_map, metadata, nb_modalities)\n",
    "    impact_valid_data = IMPACT_dataset(horizontal_valid, concept_map, metadata, nb_modalities) # <---\n",
    "\n",
    "    IMPACT_config['i_fold'] = i\n",
    "    algo = model.IMPACT(**IMPACT_config)\n",
    "    algo.init_model(impact_train_data, impact_valid_data)\n",
    "    algo.train(impact_train_data, impact_valid_data)\n",
    "    print(algo.evaluate_predictions(impact_valid_data))"
   ],
   "outputs": [
    {
     "name": "stdout",
     "output_type": "stream",
     "text": [
      "CUDA is not available. Skipping CUDA seed setting.\n"
     ]
    },
    {
     "name": "stderr",
     "output_type": "stream",
     "text": [
      " 18%|█▊        | 37/200 [00:24<01:45,  1.54it/s]\n"
     ]
    },
    {
     "ename": "KeyboardInterrupt",
     "evalue": "",
     "output_type": "error",
     "traceback": [
      "\u001B[0;31m---------------------------------------------------------------------------\u001B[0m",
      "\u001B[0;31mKeyboardInterrupt\u001B[0m                         Traceback (most recent call last)",
      "Cell \u001B[0;32mIn[3], line 12\u001B[0m\n\u001B[1;32m     10\u001B[0m algo \u001B[38;5;241m=\u001B[39m model\u001B[38;5;241m.\u001B[39mIMPACT(\u001B[38;5;241m*\u001B[39m\u001B[38;5;241m*\u001B[39mIMPACT_config)\n\u001B[1;32m     11\u001B[0m algo\u001B[38;5;241m.\u001B[39minit_model(impact_train_data, impact_valid_data)\n\u001B[0;32m---> 12\u001B[0m algo\u001B[38;5;241m.\u001B[39mtrain(impact_train_data, impact_valid_data)\n\u001B[1;32m     13\u001B[0m \u001B[38;5;28mprint\u001B[39m(algo\u001B[38;5;241m.\u001B[39mevaluate_predictions(impact_valid_data))\n",
      "File \u001B[0;32m~/PycharmProjects/IMPACT/IMPACT/model/abstract_model.py:170\u001B[0m, in \u001B[0;36mAbstractModel.train\u001B[0;34m(self, train_data, valid_data)\u001B[0m\n\u001B[1;32m    167\u001B[0m \u001B[38;5;28mself\u001B[39m\u001B[38;5;241m.\u001B[39mmodel\u001B[38;5;241m.\u001B[39mtrain()\n\u001B[1;32m    169\u001B[0m \u001B[38;5;66;03m# Call the selected training method\u001B[39;00m\n\u001B[0;32m--> 170\u001B[0m \u001B[38;5;28mself\u001B[39m\u001B[38;5;241m.\u001B[39m_train_method(train_loader, valid_loader, valid_data, optimizer, scheduler, scaler)\n\u001B[1;32m    172\u001B[0m \u001B[38;5;28mself\u001B[39m\u001B[38;5;241m.\u001B[39mmodel\u001B[38;5;241m.\u001B[39mto(\u001B[38;5;28mself\u001B[39m\u001B[38;5;241m.\u001B[39mconfig[\u001B[38;5;124m'\u001B[39m\u001B[38;5;124mdevice\u001B[39m\u001B[38;5;124m'\u001B[39m])\n\u001B[1;32m    173\u001B[0m \u001B[38;5;28mself\u001B[39m\u001B[38;5;241m.\u001B[39m_trained \u001B[38;5;241m=\u001B[39m \u001B[38;5;28;01mTrue\u001B[39;00m\n",
      "File \u001B[0;32m~/PycharmProjects/IMPACT/IMPACT/model/abstract_model.py:412\u001B[0m, in \u001B[0;36mAbstractModel._train_early_stopping_error\u001B[0;34m(self, train_loader, valid_loader, valid_data, optimizer, scheduler, scaler)\u001B[0m\n\u001B[1;32m    409\u001B[0m optimizer\u001B[38;5;241m.\u001B[39mzero_grad()\n\u001B[1;32m    411\u001B[0m \u001B[38;5;28;01mwith\u001B[39;00m torch\u001B[38;5;241m.\u001B[39mamp\u001B[38;5;241m.\u001B[39mautocast(\u001B[38;5;28mstr\u001B[39m(device)):\n\u001B[0;32m--> 412\u001B[0m     loss \u001B[38;5;241m=\u001B[39m \u001B[38;5;28mself\u001B[39m\u001B[38;5;241m.\u001B[39m_compute_loss(user_ids, item_ids, dim_ids, labels)\n\u001B[1;32m    414\u001B[0m scaler\u001B[38;5;241m.\u001B[39mscale(loss)\u001B[38;5;241m.\u001B[39mbackward()\n\u001B[1;32m    415\u001B[0m scaler\u001B[38;5;241m.\u001B[39mstep(optimizer)\n",
      "File \u001B[0;32m~/PycharmProjects/IMPACT/IMPACT/model/IMPACT.py:476\u001B[0m, in \u001B[0;36mIMPACT._compute_loss\u001B[0;34m(self, users_id, items_id, concepts_id, labels)\u001B[0m\n\u001B[1;32m    471\u001B[0m lambda_param \u001B[38;5;241m=\u001B[39m \u001B[38;5;28mself\u001B[39m\u001B[38;5;241m.\u001B[39mconfig[\u001B[38;5;124m'\u001B[39m\u001B[38;5;124mlambda\u001B[39m\u001B[38;5;124m'\u001B[39m]\n\u001B[1;32m    473\u001B[0m u_emb, im_emb_prime, i0_emb_prime, in_emb_prime, W_t \u001B[38;5;241m=\u001B[39m \u001B[38;5;28mself\u001B[39m\u001B[38;5;241m.\u001B[39mmodel\u001B[38;5;241m.\u001B[39mget_embeddings(users_id, items_id,\n\u001B[1;32m    474\u001B[0m                                                                                  concepts_id)\n\u001B[0;32m--> 476\u001B[0m L1, L2, L3 \u001B[38;5;241m=\u001B[39m \u001B[38;5;28mself\u001B[39m\u001B[38;5;241m.\u001B[39mloss(u_emb\u001B[38;5;241m=\u001B[39mu_emb, im_emb_prime\u001B[38;5;241m=\u001B[39mim_emb_prime, i0_emb_prime\u001B[38;5;241m=\u001B[39mi0_emb_prime,\n\u001B[1;32m    477\u001B[0m                          in_emb_prime\u001B[38;5;241m=\u001B[39min_emb_prime, W_t\u001B[38;5;241m=\u001B[39mW_t,\n\u001B[1;32m    478\u001B[0m                          modalities_idx\u001B[38;5;241m=\u001B[39m\u001B[38;5;28mself\u001B[39m\u001B[38;5;241m.\u001B[39mmodel\u001B[38;5;241m.\u001B[39mir_idx[users_id, items_id],\n\u001B[1;32m    479\u001B[0m                          nb_mod_max_plus_sent\u001B[38;5;241m=\u001B[39m\u001B[38;5;28mself\u001B[39m\u001B[38;5;241m.\u001B[39mmodel\u001B[38;5;241m.\u001B[39mnb_mod_max_plus_sent,\n\u001B[1;32m    480\u001B[0m                          diff_mask\u001B[38;5;241m=\u001B[39m\u001B[38;5;28mself\u001B[39m\u001B[38;5;241m.\u001B[39mmodel\u001B[38;5;241m.\u001B[39mdiff_mask[items_id],\n\u001B[1;32m    481\u001B[0m                          diff_mask2\u001B[38;5;241m=\u001B[39m\u001B[38;5;28mself\u001B[39m\u001B[38;5;241m.\u001B[39mmodel\u001B[38;5;241m.\u001B[39mdiff_mask2[items_id],\n\u001B[1;32m    482\u001B[0m                          users_id\u001B[38;5;241m=\u001B[39musers_id, items_id\u001B[38;5;241m=\u001B[39mitems_id,\n\u001B[1;32m    483\u001B[0m                          concepts_id\u001B[38;5;241m=\u001B[39mconcepts_id, R\u001B[38;5;241m=\u001B[39m\u001B[38;5;28mself\u001B[39m\u001B[38;5;241m.\u001B[39mmodel\u001B[38;5;241m.\u001B[39mR, users_emb\u001B[38;5;241m=\u001B[39m\u001B[38;5;28mself\u001B[39m\u001B[38;5;241m.\u001B[39mmodel\u001B[38;5;241m.\u001B[39musers_emb\u001B[38;5;241m.\u001B[39mweight)\n\u001B[1;32m    485\u001B[0m R \u001B[38;5;241m=\u001B[39m \u001B[38;5;28mself\u001B[39m\u001B[38;5;241m.\u001B[39mmodel\u001B[38;5;241m.\u001B[39mget_regularizer()\n\u001B[1;32m    487\u001B[0m \u001B[38;5;66;03m# Stack losses into a tensor\u001B[39;00m\n",
      "\u001B[0;31mKeyboardInterrupt\u001B[0m: "
     ]
    }
   ],
   "execution_count": 3
  },
  {
   "metadata": {
    "ExecuteTime": {
     "end_time": "2025-05-02T08:55:20.466836Z",
     "start_time": "2025-05-02T08:55:20.465059Z"
    }
   },
   "cell_type": "code",
   "source": "",
   "id": "4a4fb47c9c9c670",
   "outputs": [],
   "execution_count": null
  },
  {
   "metadata": {},
   "cell_type": "markdown",
   "source": "",
   "id": "b19190a3317a0b28"
  },
  {
   "metadata": {},
   "cell_type": "code",
   "outputs": [],
   "execution_count": null,
   "source": "",
   "id": "9875a53aa2439eb0"
  }
 ],
 "metadata": {
  "kernelspec": {
   "display_name": "Python 3 (ipykernel)",
   "language": "python",
   "name": "python3"
  },
  "language_info": {
   "codemirror_mode": {
    "name": "ipython",
    "version": 3
   },
   "file_extension": ".py",
   "mimetype": "text/x-python",
   "name": "python",
   "nbconvert_exporter": "python",
   "pygments_lexer": "ipython3",
   "version": "3.11.11"
  }
 },
 "nbformat": 4,
 "nbformat_minor": 5
}
