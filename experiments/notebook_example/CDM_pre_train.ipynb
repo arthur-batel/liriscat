{
 "cells": [
  {
   "cell_type": "markdown",
   "id": "3f91591122382be0",
   "metadata": {},
   "source": [
    "# Dataset pretraining\n",
    "### Import"
   ]
  },
  {
   "cell_type": "markdown",
   "id": "ee75f1e75f4b2093",
   "metadata": {},
   "source": [
    "## Train IMPACT model"
   ]
  },
  {
   "cell_type": "code",
   "execution_count": 4,
   "id": "a738a2bafd83df48",
   "metadata": {
    "ExecuteTime": {
     "end_time": "2025-05-06T13:19:58.503706Z",
     "start_time": "2025-05-06T13:19:56.288041Z"
    }
   },
   "outputs": [],
   "source": [
    "from IMPACT.utils import generate_eval_config\n",
    "from IMPACT.dataset import LoaderDataset as IMPACT_dataset\n",
    "from IMPACT import model\n",
    "from liriscat.dataset import preprocessing_utilities as pu"
   ]
  },
  {
   "cell_type": "code",
   "execution_count": null,
   "id": "a33306919a97d5b",
   "metadata": {
    "ExecuteTime": {
     "end_time": "2025-05-06T13:07:46.849201Z",
     "start_time": "2025-05-06T13:07:46.842177Z"
    }
   },
   "outputs": [],
   "source": [
    "folds_nb = 5\n",
    "dataset_name=\"math2\"\n",
    "\n",
    "# Set all the required parameters ---------------\n",
    "IMPACT_config = generate_eval_config(save_params=True, dataset_name=dataset_name, embs_path=\"../embs/\"+dataset_name, params_path=\"../ckpt/\"+dataset_name,  learning_rate=0.02026, lambda_=1.2e-5, batch_size=2048,num_epochs=200,valid_metric='mi_acc', pred_metrics=[\"mi_acc\"],profile_metrics=['doa'])\n",
    "\n",
    "concept_map, metadata, nb_modalities = pu.load_dataset_resources(IMPACT_config)"
   ]
  },
  {
   "cell_type": "code",
   "execution_count": null,
   "id": "57f46a6fa28b0de3",
   "metadata": {
    "ExecuteTime": {
     "end_time": "2025-05-06T13:08:17.327080Z",
     "start_time": "2025-05-06T13:07:51.166169Z"
    }
   },
   "outputs": [],
   "source": [
    "for i_fold in range(folds_nb):\n",
    "\n",
    "    IMPACT_config['i_fold'] = i_fold\n",
    "    vertical_train, vertical_valid = pu.vertical_data(IMPACT_config, i_fold)\n",
    "\n",
    "    impact_train_data = IMPACT_dataset(vertical_train, concept_map, metadata, nb_modalities)\n",
    "    impact_valid_data = IMPACT_dataset(vertical_valid, concept_map, metadata, nb_modalities)\n",
    "\n",
    "    algo = model.IMPACT(**IMPACT_config)\n",
    "    algo.init_model(impact_train_data, impact_valid_data)\n",
    "    algo.train(impact_train_data, impact_valid_data)\n",
    "    print(algo.evaluate_predictions(impact_valid_data))\n",
    "    print(algo.evaluate_predictions(impact_train_data))"
   ]
  }
 ],
 "metadata": {
  "kernelspec": {
   "display_name": "Python (liriscat no frozen)",
   "language": "python",
   "name": "liriscat-nofrozen"
  },
  "language_info": {
   "codemirror_mode": {
    "name": "ipython",
    "version": 3
   },
   "file_extension": ".py",
   "mimetype": "text/x-python",
   "name": "python",
   "nbconvert_exporter": "python",
   "pygments_lexer": "ipython3",
   "version": "3.11.11"
  }
 },
 "nbformat": 4,
 "nbformat_minor": 5
}
