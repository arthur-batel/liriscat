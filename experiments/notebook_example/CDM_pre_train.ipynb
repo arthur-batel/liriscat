{
 "cells": [
  {
   "cell_type": "markdown",
   "id": "3f91591122382be0",
   "metadata": {},
   "source": [
    "# CDM pretraining\n",
    "### Import"
   ]
  },
  {
   "cell_type": "markdown",
   "id": "ee75f1e75f4b2093",
   "metadata": {},
   "source": [
    "## Train IMPACT model"
   ]
  },
  {
   "cell_type": "code",
   "execution_count": 1,
   "id": "a738a2bafd83df48",
   "metadata": {
    "ExecuteTime": {
     "end_time": "2025-05-06T13:19:58.503706Z",
     "start_time": "2025-05-06T13:19:56.288041Z"
    }
   },
   "outputs": [],
   "source": [
    "from IMPACT.utils import generate_eval_config\n",
    "from IMPACT.dataset import LoaderDataset as IMPACT_dataset\n",
    "from IMPACT import model\n",
    "from liriscat.dataset import preprocessing_utilities as pu"
   ]
  },
  {
   "cell_type": "code",
   "execution_count": null,
   "id": "a33306919a97d5b",
   "metadata": {
    "ExecuteTime": {
     "end_time": "2025-05-06T13:07:46.849201Z",
     "start_time": "2025-05-06T13:07:46.842177Z"
    }
   },
   "outputs": [
    {
     "name": "stdout",
     "output_type": "stream",
     "text": [
      "CUDA is available. Using GPU.\n"
     ]
    }
   ],
   "source": [
    "folds_nb = 1\n",
    "dataset_name=\"math2\"\n",
    "\n",
    "# Set all the required parameters ---------------\n",
    "IMPACT_config = generate_eval_config(save_params=True, dataset_name=dataset_name, embs_path=\"../embs/\"+dataset_name, params_path=\"../ckpt/\"+dataset_name,  learning_rate=0.016848380924625605, lambda_=9.972254466547545e-06, batch_size=2048,num_epochs=200,valid_metric='mi_acc', pred_metrics=[\"mi_acc\"],profile_metrics=['doa'])\n",
    "\n",
    "concept_map, metadata, nb_modalities = pu.load_dataset_resources(IMPACT_config)"
   ]
  },
  {
   "cell_type": "code",
   "execution_count": null,
   "id": "57f46a6fa28b0de3",
   "metadata": {
    "ExecuteTime": {
     "end_time": "2025-05-06T13:08:17.327080Z",
     "start_time": "2025-05-06T13:07:51.166169Z"
    }
   },
   "outputs": [
    {
     "name": "stderr",
     "output_type": "stream",
     "text": [
      " 88%|████████▊ | 177/200 [05:37<00:43,  1.91s/it]\n"
     ]
    },
    {
     "name": "stdout",
     "output_type": "stream",
     "text": [
      "{'mi_acc': 0.7119959592819214, 'preds': tensor([1., 1., 2.,  ..., 1., 1., 1.], device='cuda:0', dtype=torch.float64), 'labels': tensor([1., 1., 2.,  ..., 1., 1., 1.], device='cuda:0', dtype=torch.float64), 'nb_modalities': tensor([2, 2, 2,  ..., 2, 2, 2], device='cuda:0')}\n",
      "{'mi_acc': 0.9909756779670715, 'preds': tensor([1., 1., 1.,  ..., 1., 1., 1.], device='cuda:0', dtype=torch.float64), 'labels': tensor([1., 1., 1.,  ..., 1., 1., 1.], device='cuda:0', dtype=torch.float64), 'nb_modalities': tensor([2, 2, 2,  ..., 2, 2, 2], device='cuda:0')}\n"
     ]
    },
    {
     "name": "stderr",
     "output_type": "stream",
     "text": [
      " 72%|███████▏  | 144/200 [04:36<01:47,  1.92s/it]\n"
     ]
    },
    {
     "name": "stdout",
     "output_type": "stream",
     "text": [
      "{'mi_acc': 0.7148008942604065, 'preds': tensor([1., 1., 2.,  ..., 1., 1., 1.], device='cuda:0', dtype=torch.float64), 'labels': tensor([1., 1., 2.,  ..., 1., 1., 1.], device='cuda:0', dtype=torch.float64), 'nb_modalities': tensor([2, 2, 2,  ..., 2, 2, 2], device='cuda:0')}\n",
      "{'mi_acc': 0.9905430674552917, 'preds': tensor([1., 1., 1.,  ..., 1., 1., 1.], device='cuda:0', dtype=torch.float64), 'labels': tensor([1., 1., 1.,  ..., 1., 1., 1.], device='cuda:0', dtype=torch.float64), 'nb_modalities': tensor([2, 2, 2,  ..., 2, 2, 2], device='cuda:0')}\n"
     ]
    },
    {
     "name": "stderr",
     "output_type": "stream",
     "text": [
      " 40%|███▉      | 79/200 [02:25<03:42,  1.84s/it]\n"
     ]
    },
    {
     "name": "stdout",
     "output_type": "stream",
     "text": [
      "{'mi_acc': 0.7108439803123474, 'preds': tensor([1., 1., 2.,  ..., 1., 1., 1.], device='cuda:0', dtype=torch.float64), 'labels': tensor([1., 1., 2.,  ..., 1., 1., 1.], device='cuda:0', dtype=torch.float64), 'nb_modalities': tensor([2, 2, 2,  ..., 2, 2, 2], device='cuda:0')}\n",
      "{'mi_acc': 0.9911642670631409, 'preds': tensor([1., 1., 1.,  ..., 1., 1., 1.], device='cuda:0', dtype=torch.float64), 'labels': tensor([1., 1., 1.,  ..., 1., 1., 1.], device='cuda:0', dtype=torch.float64), 'nb_modalities': tensor([2, 2, 2,  ..., 2, 2, 2], device='cuda:0')}\n"
     ]
    },
    {
     "ename": "",
     "evalue": "",
     "output_type": "error",
     "traceback": [
      "\u001b[1;31mThe Kernel crashed while executing code in the current cell or a previous cell. \n",
      "\u001b[1;31mPlease review the code in the cell(s) to identify a possible cause of the failure. \n",
      "\u001b[1;31mClick <a href='https://aka.ms/vscodeJupyterKernelCrash'>here</a> for more info. \n",
      "\u001b[1;31mView Jupyter <a href='command:jupyter.viewOutput'>log</a> for further details."
     ]
    }
   ],
   "source": [
    "for seed in range(3):\n",
    "    IMPACT_config['seed'] = seed\n",
    "    for i_fold in range(folds_nb):\n",
    "\n",
    "        IMPACT_config['i_fold'] = i_fold\n",
    "        vertical_train, vertical_valid = pu.vertical_data(IMPACT_config, i_fold)\n",
    "\n",
    "        impact_train_data = IMPACT_dataset(vertical_train, concept_map, metadata, nb_modalities)\n",
    "        impact_valid_data = IMPACT_dataset(vertical_valid, concept_map, metadata, nb_modalities)\n",
    "\n",
    "        algo = model.IMPACT(**IMPACT_config)\n",
    "        algo.init_model(impact_train_data, impact_valid_data)\n",
    "        algo.train(impact_train_data, impact_valid_data)\n",
    "        print(algo.evaluate_predictions(impact_valid_data))\n",
    "        print(algo.evaluate_predictions(impact_train_data))"
   ]
  },
  {
   "cell_type": "code",
   "execution_count": 10,
   "id": "f7f4e9fc",
   "metadata": {},
   "outputs": [
    {
     "name": "stdout",
     "output_type": "stream",
     "text": [
      "{'doa': 0.536687900170763}\n"
     ]
    }
   ],
   "source": [
    "print(algo.evaluate_profiles(impact_valid_data))"
   ]
  },
  {
   "cell_type": "markdown",
   "id": "51b67b2e",
   "metadata": {},
   "source": [
    "## Train NCDM Model"
   ]
  },
  {
   "cell_type": "code",
   "execution_count": 1,
   "id": "3acca548",
   "metadata": {},
   "outputs": [],
   "source": [
    "%load_ext autoreload\n",
    "%autoreload 2\n",
    "\n",
    "import os\n",
    "os.environ[\"PYTORCH_CUDA_ALLOC_CONF\"] = \"expandable_segments:True\"\n",
    "os.environ[\"PYTHONHASHSEED\"] = \"0\"\n",
    "os.environ['CUBLAS_WORKSPACE_CONFIG'] = \":4096:8\"\n",
    "os.environ[\"CUDA_LAUNCH_BLOCKING\"] = \"1\"\n",
    "\n",
    "import liriscat\n",
    "liriscat.utils.set_seed(0)\n",
    "\n",
    "import logging\n",
    "import gc\n",
    "import json\n",
    "import torch\n",
    "liriscat.utils.set_seed(0)\n",
    "import pandas as pd"
   ]
  },
  {
   "cell_type": "code",
   "execution_count": 2,
   "id": "f2810cf9",
   "metadata": {},
   "outputs": [],
   "source": [
    "from IMPACT.utils import generate_eval_config\n",
    "from IMPACT.dataset import LoaderDataset as IMPACT_dataset\n",
    "from liriscat.CDM.NCDM import NCDM\n",
    "from liriscat.dataset import preprocessing_utilities as pu\n",
    "from liriscat.utils import convert_config_to_EduCAT"
   ]
  },
  {
   "cell_type": "code",
   "execution_count": null,
   "id": "bb29bdc4",
   "metadata": {},
   "outputs": [
    {
     "name": "stdout",
     "output_type": "stream",
     "text": [
      "CUDA is available. Using GPU.\n"
     ]
    }
   ],
   "source": [
    "folds_nb = 1\n",
    "dataset_name=\"math2\"\n",
    "\n",
    "# Set all the required parameters ---------------\n",
    "IMPACT_config = generate_eval_config(save_params=True, patience=5,num_epochs=20, dataset_name=dataset_name, embs_path=\"../embs/\"+dataset_name, params_path=\"../ckpt/\"+dataset_name,  learning_rate=0.016848380924625605, lambda_=9.972254466547545e-06, batch_size=2048,valid_metric='mi_acc', pred_metrics=[\"mi_acc\"],profile_metrics=['doa'])\n",
    "\n",
    "concept_map, metadata, nb_modalities = pu.load_dataset_resources(IMPACT_config)\n",
    "\n",
    "NCDM_config = convert_config_to_EduCAT(IMPACT_config, metadata)"
   ]
  },
  {
   "cell_type": "code",
   "execution_count": 4,
   "id": "c342d38f",
   "metadata": {},
   "outputs": [
    {
     "name": "stderr",
     "output_type": "stream",
     "text": [
      "/home/arthur/liriscat/liriscat/dataset/preprocessing_utilities.py:37: UserWarning: To copy construct from a tensor, it is recommended to use sourceTensor.clone().detach() or sourceTensor.clone().detach().requires_grad_(True), rather than torch.tensor(sourceTensor).\n",
      "  torch.tensor(user, dtype=torch.int64),  # (1, user_n) to (0, user_n-1)\n",
      "/home/arthur/liriscat/liriscat/dataset/preprocessing_utilities.py:38: UserWarning: To copy construct from a tensor, it is recommended to use sourceTensor.clone().detach() or sourceTensor.clone().detach().requires_grad_(True), rather than torch.tensor(sourceTensor).\n",
      "  torch.tensor(item, dtype=torch.int64),  # (1, item_n) to (0, item_n-1)\n",
      "/home/arthur/liriscat/liriscat/dataset/preprocessing_utilities.py:40: UserWarning: To copy construct from a tensor, it is recommended to use sourceTensor.clone().detach() or sourceTensor.clone().detach().requires_grad_(True), rather than torch.tensor(sourceTensor).\n",
      "  torch.tensor(score, dtype=torch.float32)-1\n",
      "Epoch 0: 100%|██████████| 89/89 [00:04<00:00, 20.33it/s]\n"
     ]
    },
    {
     "name": "stdout",
     "output_type": "stream",
     "text": [
      "[Epoch 0] average loss: 5.022009\n"
     ]
    },
    {
     "name": "stderr",
     "output_type": "stream",
     "text": [
      "Evaluating: 100%|██████████| 10/10 [00:00<00:00, 22.79it/s]\n"
     ]
    },
    {
     "name": "stdout",
     "output_type": "stream",
     "text": [
      "[Epoch 0] auc: 0.605310, accuracy: 0.452542\n"
     ]
    },
    {
     "ename": "AttributeError",
     "evalue": "'NCDM' object has no attribute 'get_params'",
     "output_type": "error",
     "traceback": [
      "\u001b[31m---------------------------------------------------------------------------\u001b[39m",
      "\u001b[31mAttributeError\u001b[39m                            Traceback (most recent call last)",
      "\u001b[36mCell\u001b[39m\u001b[36m \u001b[39m\u001b[32mIn[4]\u001b[39m\u001b[32m, line 16\u001b[39m\n\u001b[32m     11\u001b[39m train_set, valid_set = [\n\u001b[32m     12\u001b[39m     pu.transform(data.raw_data_array[:,\u001b[32m0\u001b[39m].long(), data.raw_data_array[:,\u001b[32m1\u001b[39m].long(), concept_map, data.raw_data_array[:,\u001b[32m2\u001b[39m], IMPACT_config[\u001b[33m'\u001b[39m\u001b[33mbatch_size\u001b[39m\u001b[33m'\u001b[39m], impact_train_data.n_categories)\n\u001b[32m     13\u001b[39m     \u001b[38;5;28;01mfor\u001b[39;00m data \u001b[38;5;129;01min\u001b[39;00m [impact_train_data, impact_valid_data]\n\u001b[32m     14\u001b[39m ]\n\u001b[32m     15\u001b[39m cdm = NCDM(metadata[\u001b[33m'\u001b[39m\u001b[33mnum_dimension_id\u001b[39m\u001b[33m'\u001b[39m], metadata[\u001b[33m'\u001b[39m\u001b[33mnum_item_id\u001b[39m\u001b[33m'\u001b[39m], metadata[\u001b[33m'\u001b[39m\u001b[33mnum_user_id\u001b[39m\u001b[33m'\u001b[39m], IMPACT_config)\n\u001b[32m---> \u001b[39m\u001b[32m16\u001b[39m \u001b[43mcdm\u001b[49m\u001b[43m.\u001b[49m\u001b[43mtrain\u001b[49m\u001b[43m(\u001b[49m\u001b[43mtrain_set\u001b[49m\u001b[43m,\u001b[49m\u001b[43m \u001b[49m\u001b[43mvalid_set\u001b[49m\u001b[43m,\u001b[49m\u001b[43m \u001b[49m\u001b[43mepoch\u001b[49m\u001b[43m=\u001b[49m\u001b[43mIMPACT_config\u001b[49m\u001b[43m[\u001b[49m\u001b[33;43m'\u001b[39;49m\u001b[33;43mnum_epochs\u001b[39;49m\u001b[33;43m'\u001b[39;49m\u001b[43m]\u001b[49m\u001b[43m,\u001b[49m\u001b[43m \u001b[49m\u001b[43mdevice\u001b[49m\u001b[43m=\u001b[49m\u001b[33;43m\"\u001b[39;49m\u001b[33;43mcuda\u001b[39;49m\u001b[33;43m\"\u001b[39;49m\u001b[43m)\u001b[49m\n\u001b[32m     18\u001b[39m \u001b[38;5;28mprint\u001b[39m(cdm.eval(valid_set))\n",
      "\u001b[36mFile \u001b[39m\u001b[32m~/liriscat/liriscat/CDM/NCDM.py:245\u001b[39m, in \u001b[36mNCDM.train\u001b[39m\u001b[34m(self, train_data, test_data, epoch, device, lr, silence)\u001b[39m\n\u001b[32m    243\u001b[39m             \u001b[38;5;28mself\u001b[39m.best_valid_acc = auc\n\u001b[32m    244\u001b[39m             best_epoch = epoch_i\n\u001b[32m--> \u001b[39m\u001b[32m245\u001b[39m             best_valid_params = \u001b[38;5;28;43mself\u001b[39;49m\u001b[43m.\u001b[49m\u001b[43mget_params\u001b[49m()\n\u001b[32m    246\u001b[39m \u001b[38;5;28mself\u001b[39m.ncdm_net.load_state_dict(best_valid_params)\n\u001b[32m    248\u001b[39m \u001b[38;5;28;01mif\u001b[39;00m \u001b[38;5;28mself\u001b[39m.config[\u001b[33m'\u001b[39m\u001b[33msave_params\u001b[39m\u001b[33m'\u001b[39m]:\n",
      "\u001b[31mAttributeError\u001b[39m: 'NCDM' object has no attribute 'get_params'"
     ]
    }
   ],
   "source": [
    "for seed in range(1,2):\n",
    "    IMPACT_config['seed'] = seed\n",
    "    for i_fold in range(folds_nb):\n",
    "\n",
    "        IMPACT_config['i_fold'] = i_fold\n",
    "        vertical_train, vertical_valid = pu.vertical_data(IMPACT_config, i_fold)\n",
    "\n",
    "        impact_train_data = IMPACT_dataset(vertical_train, concept_map, metadata, nb_modalities)\n",
    "        impact_valid_data = IMPACT_dataset(vertical_valid, concept_map, metadata, nb_modalities)\n",
    "\n",
    "        train_set, valid_set = [\n",
    "            pu.transform(data.raw_data_array[:,0].long(), data.raw_data_array[:,1].long(), concept_map, data.raw_data_array[:,2], IMPACT_config['batch_size'], impact_train_data.n_categories)\n",
    "            for data in [impact_train_data, impact_valid_data]\n",
    "        ]\n",
    "        cdm = NCDM(metadata['num_dimension_id'], metadata['num_item_id'], metadata['num_user_id'], IMPACT_config)\n",
    "        cdm.train(train_set, valid_set, epoch=IMPACT_config['num_epochs'], device=\"cuda\")\n",
    "\n",
    "        print(cdm.eval(valid_set))"
   ]
  },
  {
   "cell_type": "code",
   "execution_count": 8,
   "id": "f15d32d8",
   "metadata": {},
   "outputs": [
    {
     "name": "stderr",
     "output_type": "stream",
     "text": [
      "/home/arthur/liriscat/liriscat/dataset/preprocessing_utilities.py:37: UserWarning: To copy construct from a tensor, it is recommended to use sourceTensor.clone().detach() or sourceTensor.clone().detach().requires_grad_(True), rather than torch.tensor(sourceTensor).\n",
      "  torch.tensor(user, dtype=torch.int64),  # (1, user_n) to (0, user_n-1)\n",
      "/home/arthur/liriscat/liriscat/dataset/preprocessing_utilities.py:38: UserWarning: To copy construct from a tensor, it is recommended to use sourceTensor.clone().detach() or sourceTensor.clone().detach().requires_grad_(True), rather than torch.tensor(sourceTensor).\n",
      "  torch.tensor(item, dtype=torch.int64),  # (1, item_n) to (0, item_n-1)\n",
      "/home/arthur/liriscat/liriscat/dataset/preprocessing_utilities.py:40: UserWarning: To copy construct from a tensor, it is recommended to use sourceTensor.clone().detach() or sourceTensor.clone().detach().requires_grad_(True), rather than torch.tensor(sourceTensor).\n",
      "  torch.tensor(score, dtype=torch.float32)-1\n"
     ]
    }
   ],
   "source": [
    "for seed in range(1,2):\n",
    "    IMPACT_config['seed'] = seed\n",
    "    for i_fold in range(folds_nb):\n",
    "\n",
    "        IMPACT_config['i_fold'] = i_fold\n",
    "        vertical_train, vertical_valid = pu.vertical_data(IMPACT_config, i_fold)\n",
    "\n",
    "        impact_train_data = IMPACT_dataset(vertical_train, concept_map, metadata, nb_modalities)\n",
    "        impact_valid_data = IMPACT_dataset(vertical_valid, concept_map, metadata, nb_modalities)\n",
    "\n",
    "        train_set, valid_set = [\n",
    "            pu.transform(data.raw_data_array[:,0].long(), data.raw_data_array[:,1].long(), concept_map, data.raw_data_array[:,2], IMPACT_config['batch_size'], impact_train_data.n_categories)\n",
    "            for data in [impact_train_data, impact_valid_data]\n",
    "        ]"
   ]
  },
  {
   "cell_type": "code",
   "execution_count": 6,
   "id": "bd11123c",
   "metadata": {},
   "outputs": [
    {
     "name": "stderr",
     "output_type": "stream",
     "text": [
      "Evaluating: 100%|██████████| 10/10 [00:00<00:00, 14.68it/s]"
     ]
    },
    {
     "name": "stdout",
     "output_type": "stream",
     "text": [
      "(0.5511952602742916, 0.547458051590283)\n"
     ]
    },
    {
     "name": "stderr",
     "output_type": "stream",
     "text": [
      "\n"
     ]
    }
   ],
   "source": [
    "IMPACT_config['load_params'] = True\n",
    "cdm = NCDM(metadata['num_dimension_id'], metadata['num_item_id'], metadata['num_user_id'], IMPACT_config)\n",
    "print(cdm.eval(valid_set))\n",
    "IMPACT_config['load_params'] = False"
   ]
  }
 ],
 "metadata": {
  "kernelspec": {
   "display_name": "Python (liriscat no frozen)",
   "language": "python",
   "name": "liriscat-nofrozen"
  },
  "language_info": {
   "codemirror_mode": {
    "name": "ipython",
    "version": 3
   },
   "file_extension": ".py",
   "mimetype": "text/x-python",
   "name": "python",
   "nbconvert_exporter": "python",
   "pygments_lexer": "ipython3",
   "version": "3.11.11"
  }
 },
 "nbformat": 4,
 "nbformat_minor": 5
}
