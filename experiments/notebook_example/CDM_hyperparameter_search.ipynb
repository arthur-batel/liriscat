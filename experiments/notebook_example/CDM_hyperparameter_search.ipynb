{
 "cells": [
  {
   "cell_type": "code",
   "execution_count": null,
   "id": "initial_id",
   "metadata": {
    "collapsed": true,
    "jupyter": {
     "is_executing": true
    }
   },
   "outputs": [],
   "source": [
    "#### 2.1. Sequential version"
   ]
  },
  {
   "cell_type": "code",
   "execution_count": 1,
   "id": "5cbc5318bc98edcc",
   "metadata": {
    "ExecuteTime": {
     "end_time": "2025-05-07T09:26:01.501943Z",
     "start_time": "2025-05-07T09:25:59.630852Z"
    }
   },
   "outputs": [
    {
     "name": "stdout",
     "output_type": "stream",
     "text": [
      "CUDA is not available. Skipping CUDA seed setting.\n",
      "CUDA is not available. Skipping CUDA seed setting.\n"
     ]
    }
   ],
   "source": [
    "from numpy.lib.function_base import interp\n",
    "%load_ext autoreload\n",
    "%autoreload 2\n",
    "\n",
    "import sys\n",
    "sys.path.append(\"../../\")\n",
    "\n",
    "import os\n",
    "os.environ[\"PYTORCH_CUDA_ALLOC_CONF\"] = \"expandable_segments:True\"\n",
    "\n",
    "from IMPACT import utils as utils_IMPACT\n",
    "utils_IMPACT.set_seed(0)\n",
    "from IMPACT import dataset\n",
    "from IMPACT import model\n",
    "import optuna\n",
    "import logging\n",
    "import gc\n",
    "import json\n",
    "import torch\n",
    "import pandas as pd\n",
    "from importlib import reload\n",
    "from micat.dataset.preprocessing_utilities import *\n",
    "from micat import utils as utils_micat\n",
    "from functools import partial"
   ]
  },
  {
   "cell_type": "code",
   "execution_count": 2,
   "id": "28ad05f39c7fc63b",
   "metadata": {
    "ExecuteTime": {
     "end_time": "2025-05-07T09:26:02.852931Z",
     "start_time": "2025-05-07T09:26:02.831421Z"
    }
   },
   "outputs": [],
   "source": [
    "utils_IMPACT.setuplogger(verbose = True, log_name=\"micat_postcovid\")"
   ]
  },
  {
   "cell_type": "code",
   "execution_count": 3,
   "id": "4b531fa698a6f0ef",
   "metadata": {
    "ExecuteTime": {
     "end_time": "2025-05-07T09:26:31.954694Z",
     "start_time": "2025-05-07T09:26:05.230100Z"
    }
   },
   "outputs": [
    {
     "name": "stdout",
     "output_type": "stream",
     "text": [
      "CUDA is not available. Using CPU.\n",
      "CUDA is not available. Skipping CUDA seed setting.\n",
      "[INFO 26:05] postcovid\n"
     ]
    },
    {
     "name": "stderr",
     "output_type": "stream",
     "text": [
      "[I 2025-05-07 11:26:06,380] A new study created in memory with name: no-name-891ec552-25d4-427c-8dcc-81892f58ac70\n"
     ]
    },
    {
     "name": "stdout",
     "output_type": "stream",
     "text": [
      "CUDA is not available. Skipping CUDA seed setting.\n",
      "[INFO 26:06] train on cpu\n",
      "[INFO 26:06] -- START Training --\n",
      "[INFO 26:31] -- END Training --\n",
      "[INFO 26:31] -------Trial number : 0\n",
      "Best epoch : 8\n",
      "Values : [tensor(0.2805)]\n",
      "Params : {'learning_rate': 0.015115779567223512, 'lambda': 1.0482104968991887e-07}\n"
     ]
    },
    {
     "name": "stderr",
     "output_type": "stream",
     "text": [
      "[I 2025-05-07 11:26:31,865] Trial 0 finished with value: 0.2804945707321167 and parameters: {'learning_rate': 0.015115779567223512, 'lambda': 1.0482104968991887e-07}. Best is trial 0 with value: 0.2804945707321167.\n"
     ]
    },
    {
     "name": "stdout",
     "output_type": "stream",
     "text": [
      "[INFO 26:31] Best trial for postcovid : [FrozenTrial(number=0, state=1, values=[0.2804945707321167], datetime_start=datetime.datetime(2025, 5, 7, 11, 26, 6, 444065), datetime_complete=datetime.datetime(2025, 5, 7, 11, 26, 31, 865743), params={'learning_rate': 0.015115779567223512, 'lambda': 1.0482104968991887e-07}, user_attrs={}, system_attrs={}, intermediate_values={}, distributions={'learning_rate': FloatDistribution(high=0.05, log=True, low=1e-05, step=None), 'lambda': FloatDistribution(high=1e-05, log=True, low=1e-07, step=None)}, trial_id=0, value=None)]\n",
      "[INFO 26:31] Trial #0\n",
      "[INFO 26:31]   Metric value: [0.2804945707321167]\n",
      "[INFO 26:31]   Params: {'learning_rate': 0.015115779567223512, 'lambda': 1.0482104968991887e-07}\n",
      "CPU times: user 3min 4s, sys: 20.5 s, total: 3min 24s\n",
      "Wall time: 26.7 s\n"
     ]
    }
   ],
   "source": [
    "%%time\n",
    "config = utils_IMPACT.generate_hs_config(dataset_name='postcovid', esc = 'error', valid_metric= 'rmse',pred_metrics = ['rmse'])\n",
    "\n",
    "utils_IMPACT.set_seed(config[\"seed\"])\n",
    "logging.info(config['dataset_name'])\n",
    "train_data,valid_data,concept_map,metadata = load_dataset(config)\n",
    "\n",
    "study = optuna.create_study(\n",
    "    directions=[\"minimize\"],  # Warning : specify directions for each objective (depends on the validation metric)\n",
    ")\n",
    "gc.collect()\n",
    "torch.cuda.empty_cache()\n",
    "objective_with_args = partial(utils_micat.IMPACT_pre_train, config=config, train_data=train_data, valid_data=valid_data)\n",
    "study.optimize(objective_with_args, n_trials=1, n_jobs=1, gc_after_trial=True)\n",
    "\n",
    "# Analyze the results\n",
    "## requirements : plotly, nbformat\n",
    "pareto_trials = study.best_trials\n",
    "\n",
    "logging.info(f\"Best trial for {config['dataset_name']} : {study.best_trials}\")\n",
    "for trial in pareto_trials:\n",
    "    logging.info(f\"Trial #{trial.number}\")\n",
    "    logging.info(f\"  Metric value: {trial.values}\")\n",
    "    #logging.info(f\"  DOA: {trial.values[1]}\")\n",
    "    logging.info(f\"  Params: {trial.params}\")"
   ]
  },
  {
   "cell_type": "code",
   "execution_count": 4,
   "id": "f99248dc039b4afc",
   "metadata": {
    "ExecuteTime": {
     "end_time": "2025-05-07T09:26:44.349899Z",
     "start_time": "2025-05-07T09:26:44.324596Z"
    }
   },
   "outputs": [],
   "source": [
    "#### 2.2. Parallelized version"
   ]
  },
  {
   "cell_type": "code",
   "execution_count": 5,
   "id": "87cc6525d5d9151a",
   "metadata": {
    "ExecuteTime": {
     "end_time": "2025-05-07T09:26:46.732300Z",
     "start_time": "2025-05-07T09:26:46.708353Z"
    }
   },
   "outputs": [],
   "source": [
    "## Launch cluster with the following command at the root of the project :\n",
    "#ipcluster start --n=3\n",
    "#ipcluster stop"
   ]
  },
  {
   "cell_type": "code",
   "execution_count": 3,
   "id": "9f43dbc82f4689d9",
   "metadata": {
    "ExecuteTime": {
     "end_time": "2025-05-07T09:35:42.836439Z",
     "start_time": "2025-05-07T09:35:41.024032Z"
    }
   },
   "outputs": [
    {
     "name": "stdout",
     "output_type": "stream",
     "text": [
      "importing json on engine(s)\n",
      "importing utils,model,dataset from IMPACT on engine(s)\n",
      "importing logging on engine(s)\n",
      "importing gc on engine(s)\n",
      "importing torch on engine(s)\n"
     ]
    }
   ],
   "source": [
    "import importlib\n",
    "import IMPACT.utils as utils_IMPACT\n",
    "import IMPACT.model as model_IMPACT\n",
    "import IMPACT.dataset as dataset_IMPACT\n",
    "\n",
    "from micat import utils as utils_micat, dataset as dataset_micat\n",
    "from functools import partial\n",
    "\n",
    "from ipyparallel import Client\n",
    "import dill\n",
    "import json\n",
    "import logging\n",
    "import gc\n",
    "import torch\n",
    "from micat.dataset.preprocessing_utilities import *\n",
    "cat_absolute_path = os.path.abspath('../../')\n",
    "\n",
    "rc = Client()\n",
    "rc[:].use_dill()\n",
    "lview = rc.load_balanced_view()\n",
    "\n",
    "\n",
    "rc[:].execute(\"import sys; sys.path.append('\"+cat_absolute_path+\"')\")\n",
    "logging.info(\"sys.path.append(\"+cat_absolute_path+\")\")\n",
    "with rc[:].sync_imports():\n",
    "    import json\n",
    "    from IMPACT import utils as utils_IMPACT, model as model_IMPACT, dataset as dataset_IMPACT\n",
    "    import logging\n",
    "    import gc\n",
    "    import torch"
   ]
  },
  {
   "cell_type": "code",
   "execution_count": 4,
   "id": "5c5ab41971d2516c",
   "metadata": {
    "ExecuteTime": {
     "end_time": "2025-05-07T09:37:05.401783Z",
     "start_time": "2025-05-07T09:35:44.033745Z"
    }
   },
   "outputs": [
    {
     "name": "stdout",
     "output_type": "stream",
     "text": [
      "CUDA is not available. Using CPU.\n",
      "CUDA is not available. Skipping CUDA seed setting.\n"
     ]
    },
    {
     "name": "stderr",
     "output_type": "stream",
     "text": [
      "[I 2025-05-07 11:35:45,172] A new study created in memory with name: no-name-08cf3c98-2d9a-4faf-9f62-ad956ae54c73\n",
      "[I 2025-05-07 11:37:05,319] Trial 0 finished with value: 0.5218191146850586 and parameters: {'learning_rate': 0.0007822289807029084, 'lambda': 1.5704129766851874e-07}. Best is trial 0 with value: 0.5218191146850586.\n"
     ]
    },
    {
     "name": "stdout",
     "output_type": "stream",
     "text": [
      "CPU times: user 1.78 s, sys: 725 ms, total: 2.51 s\n",
      "Wall time: 1min 21s\n"
     ]
    }
   ],
   "source": [
    "%%time\n",
    "config = utils_IMPACT.generate_hs_config(dataset_name='postcovid', esc = 'error', valid_metric= 'rmse',pred_metrics = ['rmse'])\n",
    "\n",
    "utils_IMPACT.set_seed(config[\"seed\"])\n",
    "logging.info(config['dataset_name'])\n",
    "train_data,valid_data,concept_map,metadata = load_dataset(config)\n",
    "\n",
    "study = optuna.create_study(\n",
    "    directions=[\"minimize\"], # Warning : specify directions for each objective (depends on the validation metric)\n",
    ")\n",
    "gc.collect()\n",
    "torch.cuda.empty_cache()\n",
    "objective_with_args = partial(utils_micat.objective_hps,config=config, train_data=train_data, valid_data=valid_data)\n",
    "study.optimize(objective_with_args, n_trials=1, n_jobs=3, gc_after_trial=True)\n",
    "\n",
    "# Analyze the results\n",
    "## requirements : plotly, nbformat\n",
    "pareto_trials = study.best_trials\n",
    "\n",
    "logging.info(f\"Best trial for {config['dataset_name']} : {study.best_trials}\")\n",
    "for trial in pareto_trials:\n",
    "    logging.info(f\"Trial #{trial.number}\")\n",
    "    logging.info(f\"  Metric value: {trial.values}\")\n",
    "    #logging.info(f\"  DOA: {trial.values[1]}\")\n",
    "    logging.info(f\"  Params: {trial.params}\")"
   ]
  },
  {
   "cell_type": "code",
   "execution_count": null,
   "id": "a85f0b51ad527200",
   "metadata": {},
   "outputs": [],
   "source": []
  }
 ],
 "metadata": {
  "kernelspec": {
   "display_name": "Python (micat no frozen)",
   "language": "python",
   "name": "micat-nofrozen"
  },
  "language_info": {
   "codemirror_mode": {
    "name": "ipython",
    "version": 2
   },
   "file_extension": ".py",
   "mimetype": "text/x-python",
   "name": "python",
   "nbconvert_exporter": "python",
   "pygments_lexer": "ipython2",
   "version": "3.11.11"
  }
 },
 "nbformat": 4,
 "nbformat_minor": 5
}
