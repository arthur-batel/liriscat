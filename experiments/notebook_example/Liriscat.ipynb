{
 "cells": [
  {
   "cell_type": "markdown",
   "id": "78a21ce669eb601d",
   "metadata": {},
   "source": "# Liriscat paper experiments\n### 1. Init\n#### 1.1. Import libraries (necessary)"
  },
  {
   "cell_type": "code",
   "id": "1785c5bf2a01e026",
   "metadata": {
    "trusted": true,
    "ExecuteTime": {
     "end_time": "2025-05-22T14:16:09.409573Z",
     "start_time": "2025-05-22T14:16:05.946995Z"
    }
   },
   "source": [
    "%load_ext autoreload\n",
    "%autoreload 2\n",
    "\n",
    "import os\n",
    "os.environ[\"PYTORCH_CUDA_ALLOC_CONF\"] = \"expandable_segments:True\"\n",
    "os.environ[\"PYTHONHASHSEED\"] = \"0\"\n",
    "os.environ['CUBLAS_WORKSPACE_CONFIG'] = \":4096:8\"\n",
    "\n",
    "import liriscat\n",
    "liriscat.utils.set_seed(0)\n",
    "\n",
    "import logging\n",
    "import gc\n",
    "import json\n",
    "import torch\n",
    "liriscat.utils.set_seed(0)\n",
    "import pandas as pd\n",
    "from importlib import reload\n",
    "import IMPACT\n",
    "import warnings"
   ],
   "outputs": [
    {
     "name": "stderr",
     "output_type": "stream",
     "text": [
      "/home/jovyan/envs/liriscat/lib/python3.13/site-packages/tqdm/auto.py:21: TqdmWarning: IProgress not found. Please update jupyter and ipywidgets. See https://ipywidgets.readthedocs.io/en/stable/user_install.html\n",
      "  from .autonotebook import tqdm as notebook_tqdm\n"
     ]
    }
   ],
   "execution_count": 1
  },
  {
   "cell_type": "markdown",
   "id": "32ab0bc4902808a9",
   "metadata": {},
   "source": "#### 1.2. Set up the loggers (recommended)"
  },
  {
   "cell_type": "code",
   "id": "7f40e4bb5fd5c31c",
   "metadata": {
    "trusted": true,
    "ExecuteTime": {
     "end_time": "2025-05-22T14:16:13.706336Z",
     "start_time": "2025-05-22T14:16:11.486721Z"
    }
   },
   "source": "liriscat.utils.setuplogger(verbose = True, log_name=\"liriscat\")",
   "outputs": [],
   "execution_count": 2
  },
  {
   "cell_type": "markdown",
   "id": "5e97a539f6607db0",
   "metadata": {},
   "source": "### 2. CDM prediction\n#### 2.1. Training and testing, sequential version"
  },
  {
   "cell_type": "code",
   "id": "8680c5ff9d622845",
   "metadata": {
    "trusted": true,
    "ExecuteTime": {
     "end_time": "2025-05-22T14:16:15.009294Z",
     "start_time": "2025-05-22T14:16:14.790232Z"
    }
   },
   "source": "import warnings\nimport numpy as np\n\ngc.collect()\ntorch.cuda.empty_cache()",
   "outputs": [],
   "execution_count": 3
  },
  {
   "cell_type": "code",
   "id": "1a54dc4f99eadbfa",
   "metadata": {
    "trusted": true,
    "ExecuteTime": {
     "end_time": "2025-05-22T14:16:15.445017Z",
     "start_time": "2025-05-22T14:16:15.374510Z"
    }
   },
   "source": [
    "config = liriscat.utils.generate_eval_config(load_params=True, esc = 'error', valid_metric= 'mi_acc', pred_metrics = [\"mi_acc\"], profile_metrics = ['meta_doa','doa'], save_params=False, n_query=4, num_epochs=1, batch_size=512)\n",
    "liriscat.utils.set_seed(config[\"seed\"])\n",
    "\n",
    "config[\"dataset_name\"] = \"math2\"\n",
    "logging.info(config[\"dataset_name\"])\n",
    "config['learning_rate'] = 0.02026\n",
    "config['lambda'] = 1.2e-5\n",
    "config['d_in'] = 4\n",
    "config['num_responses'] = 12\n",
    "#pred_metrics,df_interp = test(config)"
   ],
   "outputs": [
    {
     "name": "stdout",
     "output_type": "stream",
     "text": [
      "CUDA is available. Using GPU.\n",
      "[INFO 16:15] math2\n"
     ]
    }
   ],
   "execution_count": 4
  },
  {
   "cell_type": "code",
   "id": "73dcbf76e1d61f2a",
   "metadata": {
    "trusted": true,
    "ExecuteTime": {
     "end_time": "2025-05-22T14:16:16.202808Z",
     "start_time": "2025-05-22T14:16:15.991712Z"
    }
   },
   "source": "logging.info(f'#### {config[\"dataset_name\"]} ####')\nlogging.info(f'#### config : {config} ####')\nconfig['embs_path']='../embs/'+str(config[\"dataset_name\"])\nconfig['params_path']='../ckpt/'+str(config[\"dataset_name\"])\n\npred_metrics = {m:[] for m in config['pred_metrics']}\nprofile_metrics = {m:[] for m in config['profile_metrics']}\n\ngc.collect()\ntorch.cuda.empty_cache()\n\n# Dataset downloading for doa and rm\nwarnings.filterwarnings(\"ignore\", message=\"invalid value encountered in divide\")\nwarnings.filterwarnings(\"ignore\", category=RuntimeWarning)\n\n## Concept map format : {question_id : [category_id1, category_id2, ...]}\nconcept_map = json.load(open(f'../datasets/2-preprocessed_data/{config[\"dataset_name\"]}_concept_map.json', 'r'))\nconcept_map = {int(k): [int(x) for x in v] for k, v in concept_map.items()}\n\n## Metadata map format : {\"num_user_id\": ..., \"num_item_id\": ..., \"num_dimension_id\": ...}\nmetadata = json.load(open(f'../datasets/2-preprocessed_data/{config[\"dataset_name\"]}_metadata.json', 'r'))\n\n\n## Tensor containing the nb of modalities per question\nnb_modalities = torch.load(f'../datasets/2-preprocessed_data/{config[\"dataset_name\"]}_nb_modalities.pkl',weights_only=True)\n",
   "outputs": [
    {
     "name": "stdout",
     "output_type": "stream",
     "text": [
      "[INFO 16:16] #### math2 ####\n",
      "[INFO 16:16] #### config : {'seed': 0, 'dataset_name': 'math2', 'load_params': True, 'save_params': False, 'embs_path': '../embs/', 'params_path': '../ckpt/', 'early_stopping': True, 'esc': 'error', 'verbose_early_stopping': False, 'disable_tqdm': False, 'valid_metric': 'mi_acc', 'learning_rate': 0.02026, 'batch_size': 512, 'valid_batch_size': 10000, 'num_epochs': 1, 'eval_freq': 1, 'patience': 30, 'device': device(type='cuda'), 'lambda': 1.2e-05, 'tensorboard': False, 'flush_freq': True, 'pred_metrics': ['mi_acc'], 'profile_metrics': ['meta_doa', 'doa'], 'num_responses': 12, 'low_mem': False, 'n_query': 4, 'CDM': 'impact', 'i_fold': 0, 'num_inner_users_epochs': 10, 'num_inner_epochs': 10, 'inner_lr': 0.0001, 'inner_user_lr': 0.0001, 'd_in': 4} ####\n"
     ]
    }
   ],
   "execution_count": 5
  },
  {
   "cell_type": "code",
   "id": "846a5c594351413e",
   "metadata": {
    "trusted": true,
    "ExecuteTime": {
     "end_time": "2025-05-22T14:16:27.292853Z",
     "start_time": "2025-05-22T14:16:16.799252Z"
    }
   },
   "source": "config['inner_user_lr'] = 0.01\nconfig['num_inner_users_epochs'] = 8\nfor i_fold in range(1) : \n    ## Dataframe columns : (user_id, question_id, response, category_id)\n    train_df = pd.read_csv(\n        f'../datasets/2-preprocessed_data/{config[\"dataset_name\"]}_train_{i_fold}.csv',\n        encoding='utf-8', dtype={'student_id': int, 'item_id': int, \"correct\": float,\n                                                                 \"dimension_id\": int})\n    valid_df = pd.read_csv(\n        f'../datasets/2-preprocessed_data/{config[\"dataset_name\"]}_valid_{i_fold}.csv',\n        encoding='utf-8', dtype={'student_id': int, 'item_id': int, \"correct\": float,\n                                                                 \"dimension_id\": int})\n    test_df = pd.read_csv(\n        f'../datasets/2-preprocessed_data/{config[\"dataset_name\"]}_test_{i_fold}.csv',\n        encoding='utf-8', dtype={'student_id': int, 'item_id': int, \"correct\": float,\n                                                                 \"dimension_id\": int})\n\n    train_data = liriscat.dataset.CATDataset(train_df, concept_map, metadata, config,nb_modalities)\n    valid_data = liriscat.dataset.EvalDataset(valid_df, concept_map, metadata, config,nb_modalities)\n    test_data = liriscat.dataset.EvalDataset(test_df, concept_map, metadata, config,nb_modalities)",
   "outputs": [],
   "execution_count": 6
  },
  {
   "cell_type": "code",
   "id": "3490ac0281f73d81",
   "metadata": {
    "trusted": true,
    "ExecuteTime": {
     "end_time": "2025-05-22T14:16:52.348631Z",
     "start_time": "2025-05-22T14:16:27.323069Z"
    }
   },
   "source": [
    "# Important for reproducibility\n",
    "train_data.reset_rng()\n",
    "valid_data.reset_rng()\n",
    "test_data.reset_rng()\n",
    "\n",
    "S = liriscat.selectionStrategy.Random(metadata,**config)\n",
    "# S.train(train_data, valid_data)\n",
    "S.init_models(train_data, valid_data)\n",
    "print(S.evaluate_test(test_data, train_data, valid_data))"
   ],
   "outputs": [
    {
     "name": "stdout",
     "output_type": "stream",
     "text": [
      "[INFO 16:27] Random_cont_model\n",
      "compiling CDM model\n",
      "compiling selection model\n"
     ]
    },
    {
     "name": "stderr",
     "output_type": "stream",
     "text": [
      "  0%|          | 0/4 [00:00<?, ?it/s]/home/jovyan/IMPACT/IMPACT/model/abstract_model.py:771: UserWarning: The model must be trained before getting user embeddings\n",
      "  warnings.warn(\"The model must be trained before getting user embeddings\")\n",
      "100%|██████████| 4/4 [00:10<00:00,  2.61s/it]\n"
     ]
    },
    {
     "name": "stdout",
     "output_type": "stream",
     "text": [
      "({0: {'mi_acc': 0.6922155618667603}, 1: {'mi_acc': 0.6999334692955017}, 2: {'mi_acc': 0.7217564582824707}, 3: {'mi_acc': 0.7261477112770081}}, {0: {'meta_doa': np.float64(0.506216147331288), 'doa': np.float64(0.4996426006452089)}, 1: {'meta_doa': np.float64(0.5020743337727507), 'doa': np.float64(0.4770844521864419)}, 2: {'meta_doa': np.float64(0.4855167564020554), 'doa': np.float64(0.4938750874994188)}, 3: {'meta_doa': np.float64(0.4804627801729523), 'doa': np.float64(0.4978251355860871)}})\n"
     ]
    }
   ],
   "execution_count": 7
  },
  {
   "metadata": {},
   "cell_type": "code",
   "outputs": [],
   "execution_count": null,
   "source": "",
   "id": "a6d2499f6953e5df"
  }
 ],
 "metadata": {
  "kernelspec": {
   "display_name": "Python [conda env:jovyan-liriscat]",
   "language": "python",
   "name": "conda-env-jovyan-liriscat-py"
  },
  "language_info": {
   "codemirror_mode": {
    "name": "ipython",
    "version": 3
   },
   "file_extension": ".py",
   "mimetype": "text/x-python",
   "name": "python",
   "nbconvert_exporter": "python",
   "pygments_lexer": "ipython3",
   "version": "3.13.3"
  }
 },
 "nbformat": 4,
 "nbformat_minor": 5
}
