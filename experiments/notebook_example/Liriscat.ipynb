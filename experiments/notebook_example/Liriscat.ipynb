{
 "cells": [
  {
   "cell_type": "markdown",
   "id": "78a21ce669eb601d",
   "metadata": {},
   "source": [
    "# IMPACT paper experiments\n",
    "### 1. Init\n",
    "#### 1.1. Import libraries (necessary)"
   ]
  },
  {
   "cell_type": "code",
   "execution_count": 1,
   "id": "5b0d5d27c5b782ec",
   "metadata": {
    "ExecuteTime": {
     "end_time": "2025-03-28T16:00:43.125550Z",
     "start_time": "2025-03-28T16:00:41.971774Z"
    }
   },
   "outputs": [],
   "source": [
    "%load_ext autoreload\n",
    "%autoreload 2\n",
    "\n",
    "import os\n",
    "os.environ[\"PYTORCH_CUDA_ALLOC_CONF\"] = \"expandable_segments:True\"\n",
    "os.environ[\"PYTHONHASHSEED\"] = \"0\"\n",
    "os.environ['CUBLAS_WORKSPACE_CONFIG'] = \":4096:8\"\n",
    "\n",
    "from liriscat import utils\n",
    "utils.set_seed(0)\n",
    "from liriscat import dataset\n",
    "from liriscat import selectionStrategy\n",
    "from liriscat import CDM\n",
    "\n",
    "import logging\n",
    "import gc\n",
    "import json\n",
    "import torch\n",
    "utils.set_seed(0)\n",
    "import pandas as pd\n",
    "from importlib import reload\n",
    "import IMPACT"
   ]
  },
  {
   "cell_type": "markdown",
   "id": "7edbbd0515734832",
   "metadata": {},
   "source": [
    "#### 1.2. Set up the loggers (recommended)"
   ]
  },
  {
   "cell_type": "code",
   "execution_count": 2,
   "id": "b358c4709ccb3845",
   "metadata": {
    "ExecuteTime": {
     "end_time": "2025-03-27T16:01:06.271337Z",
     "start_time": "2025-03-27T16:01:06.259238Z"
    }
   },
   "outputs": [],
   "source": [
    "utils.setuplogger(verbose = True, log_name=\"liriscat\")"
   ]
  },
  {
   "cell_type": "markdown",
   "id": "44435df786608165",
   "metadata": {},
   "source": [
    "### 2. CDM prediction\n",
    "#### 2.1. Training and testing, sequential version"
   ]
  },
  {
   "cell_type": "code",
   "execution_count": 3,
   "id": "83d2be5c98d6482",
   "metadata": {
    "ExecuteTime": {
     "end_time": "2025-03-27T16:01:07.182919Z",
     "start_time": "2025-03-27T16:01:06.322894Z"
    }
   },
   "outputs": [
    {
     "data": {
      "text/plain": [
       "<module 'liriscat.dataset' from '/lustre/fswork/projects/rech/enh/unv34ei/liriscat/liriscat/dataset/__init__.py'>"
      ]
     },
     "execution_count": 3,
     "metadata": {},
     "output_type": "execute_result"
    }
   ],
   "source": [
    "import warnings\n",
    "import numpy as np\n",
    "\n",
    "gc.collect()\n",
    "torch.cuda.empty_cache()\n",
    "\n",
    "reload(utils)\n",
    "reload(selectionStrategy)\n",
    "reload(CDM)\n",
    "reload(dataset)"
   ]
  },
  {
   "cell_type": "code",
   "execution_count": 4,
   "id": "7f0f4ece676cf862",
   "metadata": {
    "ExecuteTime": {
     "end_time": "2025-03-27T16:01:07.264870Z",
     "start_time": "2025-03-27T16:01:07.250580Z"
    }
   },
   "outputs": [
    {
     "name": "stdout",
     "output_type": "stream",
     "text": [
      "CUDA is available. Using GPU.\n",
      "[INFO 53:43] math2\n"
     ]
    }
   ],
   "source": [
    "config = utils.generate_eval_config(load_params=True, esc = 'error', valid_metric= 'mi_acc', pred_metrics = [\"mi_acc\"], profile_metrics = ['doa'], save_params=False, n_query=16, num_epochs=4, batch_size=512)\n",
    "utils.set_seed(config[\"seed\"])\n",
    "\n",
    "config[\"dataset_name\"] = \"math2\"\n",
    "logging.info(config[\"dataset_name\"])\n",
    "config['learning_rate'] = 0.02026\n",
    "config['lambda'] = 1.2e-5\n",
    "config['d_in'] = 4\n",
    "config['num_responses'] = 12\n",
    "#pred_metrics,df_interp = test(config)"
   ]
  },
  {
   "cell_type": "code",
   "execution_count": 5,
   "id": "25de2dcd379383e4",
   "metadata": {},
   "outputs": [
    {
     "name": "stdout",
     "output_type": "stream",
     "text": [
      "[INFO 53:43] #### math2 ####\n",
      "[INFO 53:43] #### config : {'seed': 0, 'dataset_name': 'math2', 'load_params': True, 'save_params': False, 'embs_path': '../embs/', 'params_path': '../ckpt/', 'early_stopping': True, 'esc': 'error', 'verbose_early_stopping': False, 'disable_tqdm': False, 'valid_metric': 'mi_acc', 'learning_rate': 0.02026, 'batch_size': 512, 'valid_batch_size': 10000, 'num_epochs': 4, 'eval_freq': 1, 'patience': 30, 'device': device(type='cuda'), 'lambda': 1.2e-05, 'tensorboard': False, 'flush_freq': True, 'pred_metrics': ['mi_acc'], 'profile_metrics': ['doa'], 'num_responses': 12, 'low_mem': False, 'n_query': 16, 'CDM': 'impact', 'i_fold': 0, 'num_inner_users_epochs': 10, 'num_inner_epochs': 10, 'inner_lr': 0.0001, 'inner_user_lr': 0.0001, 'd_in': 4} ####\n"
     ]
    }
   ],
   "source": [
    "logging.info(f'#### {config[\"dataset_name\"]} ####')\n",
    "logging.info(f'#### config : {config} ####')\n",
    "config['embs_path']='../embs/'+str(config[\"dataset_name\"])\n",
    "config['params_path']='../ckpt/'+str(config[\"dataset_name\"])\n",
    "\n",
    "pred_metrics = {m:[] for m in config['pred_metrics']}\n",
    "profile_metrics = {m:[] for m in config['profile_metrics']}\n",
    "\n",
    "gc.collect()\n",
    "torch.cuda.empty_cache()\n",
    "\n",
    "# Dataset downloading for doa and rm\n",
    "warnings.filterwarnings(\"ignore\", message=\"invalid value encountered in divide\")\n",
    "warnings.filterwarnings(\"ignore\", category=RuntimeWarning)\n",
    "\n",
    "## Concept map format : {question_id : [category_id1, category_id2, ...]}\n",
    "concept_map = json.load(open(f'../datasets/2-preprocessed_data/{config[\"dataset_name\"]}_concept_map.json', 'r'))\n",
    "concept_map = {int(k): [int(x) for x in v] for k, v in concept_map.items()}\n",
    "\n",
    "## Metadata map format : {\"num_user_id\": ..., \"num_item_id\": ..., \"num_dimension_id\": ...}\n",
    "metadata = json.load(open(f'../datasets/2-preprocessed_data/{config[\"dataset_name\"]}_metadata.json', 'r'))\n",
    "\n",
    "\n",
    "## Tensor containing the nb of modalities per question\n",
    "nb_modalities = torch.load(f'../datasets/2-preprocessed_data/{config[\"dataset_name\"]}_nb_modalities.pkl',weights_only=True)\n"
   ]
  },
  {
   "cell_type": "code",
   "execution_count": 6,
   "id": "b0eddc4ac5ebfbec",
   "metadata": {},
   "outputs": [],
   "source": [
    "reload(utils)\n",
    "reload(selectionStrategy)\n",
    "reload(dataset)\n",
    "reload(CDM)\n",
    "config['inner_user_lr'] = 0.01\n",
    "config['num_inner_users_epochs'] = 8\n",
    "for i_fold in range(5) : \n",
    "    ## Dataframe columns : (user_id, question_id, response, category_id)\n",
    "    train_df = pd.read_csv(\n",
    "        f'../datasets/2-preprocessed_data/{config[\"dataset_name\"]}_train_{i_fold}.csv',\n",
    "        encoding='utf-8', dtype={'student_id': int, 'item_id': int, \"correct\": float,\n",
    "                                                                 \"dimension_id\": int})\n",
    "    valid_df = pd.read_csv(\n",
    "        f'../datasets/2-preprocessed_data/{config[\"dataset_name\"]}_valid_{i_fold}.csv',\n",
    "        encoding='utf-8', dtype={'student_id': int, 'item_id': int, \"correct\": float,\n",
    "                                                                 \"dimension_id\": int})\n",
    "    test_df = pd.read_csv(\n",
    "        f'../datasets/2-preprocessed_data/{config[\"dataset_name\"]}_test_{i_fold}.csv',\n",
    "        encoding='utf-8', dtype={'student_id': int, 'item_id': int, \"correct\": float,\n",
    "                                                                 \"dimension_id\": int})\n",
    "\n",
    "    train_data = dataset.CATDataset(train_df, concept_map, metadata, config,nb_modalities)\n",
    "    valid_data = dataset.EvalDataset(valid_df, concept_map, metadata, config,nb_modalities)\n",
    "    test_data = dataset.EvalDataset(test_df, concept_map, metadata, config,nb_modalities)\n",
    "\n",
    "    S = selectionStrategy.Random(metadata,**config)\n",
    "    S.init_models(train_data, valid_data)\n",
    "    S.evaluate_test(test_data)"
   ]
  },
  {
   "cell_type": "code",
   "execution_count": 7,
   "id": "bd7760253a4779da",
   "metadata": {},
   "outputs": [],
   "source": [
    "reload(dataset)\n"
   ]
  },
  {
   "cell_type": "code",
   "execution_count": 8,
   "id": "a092275b",
   "metadata": {},
   "outputs": [],
   "source": []
  },
  {
   "cell_type": "code",
   "execution_count": 9,
   "id": "a0d84b3073e46eb8",
   "metadata": {},
   "outputs": [
    {
     "name": "stdout",
     "output_type": "stream",
     "text": [
      "[INFO 53:51] Random_cont_model\n",
      "compiling CDM model\n",
      "compiling selection model\n"
     ]
    },
    {
     "name": "stderr",
     "output_type": "stream",
     "text": [
      "/lustre/fswork/projects/rech/enh/unv34ei/IMPACT/IMPACT/model/abstract_model.py:770: UserWarning: The model must be trained before getting user embeddings\n",
      "  warnings.warn(\"The model must be trained before getting user embeddings\")\n",
      "100%|██████████| 16/16 [01:18<00:00,  4.93s/it]\n"
     ]
    },
    {
     "data": {
      "text/plain": [
       "({0: {'mi_acc': 0.6940707564353943},\n",
       "  1: {'mi_acc': 0.7073243260383606},\n",
       "  2: {'mi_acc': 0.7182859778404236},\n",
       "  3: {'mi_acc': 0.7188838720321655},\n",
       "  4: {'mi_acc': 0.7166915535926819},\n",
       "  5: {'mi_acc': 0.7226706147193909},\n",
       "  6: {'mi_acc': 0.7244643568992615},\n",
       "  7: {'mi_acc': 0.7248629331588745},\n",
       "  8: {'mi_acc': 0.724962592124939},\n",
       "  9: {'mi_acc': 0.7225709557533264},\n",
       "  10: {'mi_acc': 0.727453887462616},\n",
       "  11: {'mi_acc': 0.7257598042488098},\n",
       "  12: {'mi_acc': 0.7266566753387451},\n",
       "  13: {'mi_acc': 0.7259591221809387},\n",
       "  14: {'mi_acc': 0.724364697933197},\n",
       "  15: {'mi_acc': 0.7279521226882935}},\n",
       " {0: {'doa': np.float64(0.4178885070032461)},\n",
       "  1: {'doa': np.float64(0.419477220898568)},\n",
       "  2: {'doa': np.float64(0.4561491014760655)},\n",
       "  3: {'doa': np.float64(0.45494280946819776)},\n",
       "  4: {'doa': np.float64(0.4354390672272548)},\n",
       "  5: {'doa': np.float64(0.4802023484360847)},\n",
       "  6: {'doa': np.float64(0.47577463974850365)},\n",
       "  7: {'doa': np.float64(0.4392771510712827)},\n",
       "  8: {'doa': np.float64(0.4765572445119113)},\n",
       "  9: {'doa': np.float64(0.4765713736436399)},\n",
       "  10: {'doa': np.float64(0.4787102385127076)},\n",
       "  11: {'doa': np.float64(0.4750484947479567)},\n",
       "  12: {'doa': np.float64(0.47182591730186485)},\n",
       "  13: {'doa': np.float64(0.47239153679472234)},\n",
       "  14: {'doa': np.float64(0.46865126055986006)},\n",
       "  15: {'doa': np.float64(0.46195346902443823)}})"
      ]
     },
     "execution_count": 9,
     "metadata": {},
     "output_type": "execute_result"
    }
   ],
   "source": [
    "\n",
    "\n",
    "# Important for reproducibility\n",
    "train_data.reset_rng()\n",
    "valid_data.reset_rng()\n",
    "test_data.reset_rng()\n",
    "\n"
   ]
  },
  {
   "cell_type": "code",
   "execution_count": null,
   "id": "357d67780a6318ec",
   "metadata": {
    "ExecuteTime": {
     "end_time": "2025-03-27T15:50:25.332042Z",
     "start_time": "2025-03-27T15:50:21.980204Z"
    }
   },
   "outputs": [],
   "source": [
    "\n",
    "S.train(train_data, valid_data)"
   ]
  }
 ],
 "metadata": {
  "kernelspec": {
   "display_name": "pytorch-gpu-2.6.0_py3.12.8",
   "language": "python",
   "name": "module-conda-env-pytorch-gpu-2.6.0_py3.12.8"
  },
  "language_info": {
   "codemirror_mode": {
    "name": "ipython",
    "version": 3
   },
   "file_extension": ".py",
   "mimetype": "text/x-python",
   "name": "python",
   "nbconvert_exporter": "python",
   "pygments_lexer": "ipython3",
   "version": "3.12.8"
  }
 },
 "nbformat": 4,
 "nbformat_minor": 5
}
