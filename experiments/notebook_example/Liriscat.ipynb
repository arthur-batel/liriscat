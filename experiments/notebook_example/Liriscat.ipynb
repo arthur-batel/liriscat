{
 "cells": [
  {
   "cell_type": "markdown",
   "id": "78a21ce669eb601d",
   "metadata": {},
   "source": [
    "# Liriscat paper experiments\n",
    "### 1. Init\n",
    "#### 1.1. Import libraries (necessary)"
   ]
  },
  {
   "cell_type": "code",
   "execution_count": 1,
   "id": "5b0d5d27c5b782ec",
   "metadata": {
    "ExecuteTime": {
     "end_time": "2025-03-28T16:00:43.125550Z",
     "start_time": "2025-03-28T16:00:41.971774Z"
    }
   },
   "outputs": [],
   "source": [
    "%load_ext autoreload\n",
    "%autoreload 2\n",
    "\n",
    "import os\n",
    "os.environ[\"PYTORCH_CUDA_ALLOC_CONF\"] = \"expandable_segments:True\"\n",
    "os.environ[\"PYTHONHASHSEED\"] = \"0\"\n",
    "os.environ['CUBLAS_WORKSPACE_CONFIG'] = \":4096:8\"\n",
    "\n",
    "import liriscat\n",
    "liriscat.utils.set_seed(0)\n",
    "\n",
    "import logging\n",
    "import gc\n",
    "import json\n",
    "import torch\n",
    "liriscat.utils.set_seed(0)\n",
    "import pandas as pd\n",
    "from importlib import reload"
   ]
  },
  {
   "cell_type": "markdown",
   "id": "32ab0bc4902808a9",
   "metadata": {},
   "source": [
    "#### 1.2. Set up the loggers (recommended)"
   ]
  },
  {
   "cell_type": "code",
   "execution_count": 2,
   "id": "b358c4709ccb3845",
   "metadata": {
    "ExecuteTime": {
     "end_time": "2025-03-27T16:01:06.271337Z",
     "start_time": "2025-03-27T16:01:06.259238Z"
    }
   },
   "outputs": [],
   "source": [
    "liriscat.utils.setuplogger(verbose = True, log_name=\"liriscat\", debug=True)"
   ]
  },
  {
   "cell_type": "markdown",
   "id": "5e97a539f6607db0",
   "metadata": {},
   "source": [
    "### 2. CDM prediction\n",
    "#### 2.1. Training and testing, sequential version"
   ]
  },
  {
   "cell_type": "code",
   "execution_count": 3,
   "id": "83d2be5c98d6482",
   "metadata": {
    "ExecuteTime": {
     "end_time": "2025-03-27T16:01:07.182919Z",
     "start_time": "2025-03-27T16:01:06.322894Z"
    }
   },
   "outputs": [],
   "source": [
    "import warnings\n",
    "\n",
    "gc.collect()\n",
    "torch.cuda.empty_cache()"
   ]
  },
  {
   "cell_type": "code",
   "execution_count": 4,
   "id": "1a54dc4f99eadbfa",
   "metadata": {},
   "outputs": [
    {
     "name": "stdout",
     "output_type": "stream",
     "text": [
      "CUDA is available. Using GPU.\n",
      "[INFO 41:03] assist0910\n"
     ]
    }
   ],
   "source": [
    "config = liriscat.utils.generate_eval_config(load_params=True, esc = 'error', valid_metric= 'mi_acc', pred_metrics = [\"mi_acc\"], profile_metrics = ['meta_doa'], save_params=False, n_query=6, num_epochs=100, batch_size=512)\n",
    "liriscat.utils.set_seed(config[\"seed\"])\n",
    "\n",
    "config[\"dataset_name\"] = \"assist0910\"\n",
    "logging.info(config[\"dataset_name\"])\n",
    "config['learning_rate'] = 0.0001\n",
    "config['inner_user_lr'] = 0.0016969685554352153\n",
    "config['lambda'] = 2.2656270501845414e-06\n",
    "\n",
    "config['meta_lr'] = 0.5\n",
    "config['learning_users_emb_lr'] = 0.0005\n",
    "config['patience'] = 20#5\n",
    "config['num_inner_users_epochs'] = 3\n",
    "config['d_in'] = 4\n",
    "config['num_responses'] = 12\n",
    "\n",
    "#pred_metrics,df_interp = test(config)"
   ]
  },
  {
   "cell_type": "code",
   "execution_count": 5,
   "id": "73dcbf76e1d61f2a",
   "metadata": {},
   "outputs": [
    {
     "name": "stdout",
     "output_type": "stream",
     "text": [
      "[INFO 41:03] #### assist0910 ####\n",
      "[INFO 41:03] #### config : {'seed': 0, 'dataset_name': 'assist0910', 'load_params': True, 'save_params': False, 'embs_path': '../embs/', 'params_path': '../ckpt/', 'early_stopping': True, 'esc': 'error', 'verbose_early_stopping': False, 'disable_tqdm': False, 'valid_metric': 'mi_acc', 'learning_rate': 0.0001, 'batch_size': 512, 'valid_batch_size': 10000, 'num_epochs': 100, 'eval_freq': 1, 'patience': 20, 'device': device(type='cuda'), 'lambda': 2.2656270501845414e-06, 'tensorboard': False, 'flush_freq': True, 'pred_metrics': ['mi_acc'], 'profile_metrics': ['meta_doa'], 'num_responses': 12, 'low_mem': False, 'n_query': 6, 'CDM': 'impact', 'i_fold': 0, 'num_inner_users_epochs': 3, 'num_inner_epochs': 10, 'inner_lr': 0.0001, 'inner_user_lr': 0.0016969685554352153, 'meta_lr': 0.5, 'meta_trainer': 'Adam', 'num_workers': 0, 'pin_memory': False, 'debug': True, 'learning_users_emb_lr': 0.0005, 'd_in': 4} ####\n"
     ]
    },
    {
     "name": "stdout",
     "output_type": "stream",
     "text": [
      "[INFO 38:14] #### config : {'seed': 0, 'dataset_name': 'math2', 'load_params': True, 'save_params': False, 'embs_path': '../embs/', 'params_path': '../ckpt/', 'early_stopping': True, 'esc': 'error', 'verbose_early_stopping': False, 'disable_tqdm': False, 'valid_metric': 'mi_acc', 'learning_rate': 0.0001, 'batch_size': 512, 'valid_batch_size': 10000, 'num_epochs': 100, 'eval_freq': 1, 'patience': 20, 'device': device(type='cuda'), 'lambda': 9.972254466547545e-06, 'tensorboard': False, 'flush_freq': True, 'pred_metrics': ['mi_acc'], 'profile_metrics': ['meta_doa'], 'num_responses': 12, 'low_mem': False, 'n_query': 6, 'CDM': 'impact', 'i_fold': 0, 'num_inner_users_epochs': 3, 'num_inner_epochs': 10, 'inner_lr': 0.0001, 'inner_user_lr': 0.016848380924625605, 'meta_lr': 0.5, 'meta_trainer': 'Adam', 'num_workers': 0, 'pin_memory': False, 'debug': False, 'learning_users_emb_lr': 0.001, 'd_in': 4} ####\n"
     ]
    }
   ],
   "source": [
    "logging.info(f'#### {config[\"dataset_name\"]} ####')\n",
    "logging.info(f'#### config : {config} ####')\n",
    "config['embs_path']='../embs/'\n",
    "config['params_path']='../ckpt/'\n",
    "\n",
    "gc.collect()\n",
    "torch.cuda.empty_cache()\n",
    "\n",
    "# Dataset downloading for doa and rm\n",
    "warnings.filterwarnings(\"ignore\", message=\"invalid value encountered in divide\")\n",
    "warnings.filterwarnings(\"ignore\", category=RuntimeWarning)\n",
    "\n",
    "## Concept map format : {question_id : [category_id1, category_id2, ...]}\n",
    "concept_map = json.load(open(f'../datasets/2-preprocessed_data/{config[\"dataset_name\"]}_concept_map.json', 'r'))\n",
    "concept_map = {int(k): [int(x) for x in v] for k, v in concept_map.items()}\n",
    "\n",
    "## Metadata map format : {\"num_user_id\": ..., \"num_item_id\": ..., \"num_dimension_id\": ...}\n",
    "metadata = json.load(open(f'../datasets/2-preprocessed_data/{config[\"dataset_name\"]}_metadata.json', 'r'))\n",
    "\n",
    "\n",
    "## Tensor containing the nb of modalities per question\n",
    "nb_modalities = torch.load(f'../datasets/2-preprocessed_data/{config[\"dataset_name\"]}_nb_modalities.pkl',weights_only=True)\n"
   ]
  },
  {
   "cell_type": "code",
   "execution_count": 6,
   "id": "846a5c594351413e",
   "metadata": {},
   "outputs": [
    {
     "name": "stdout",
     "output_type": "stream",
     "text": [
      "[INFO 41:03] #### meta_trainer : GAP ####\n",
      "[INFO 41:03] #### i_fold : 1 ####\n",
      "[INFO 41:20] #### seed : 0 ####\n",
      "[DEBUG 41:20] ------- Abstract model __init__()\n",
      "[DEBUG 41:20] ----- Meta trainer init : GAP\n",
      "[INFO 41:20] Random_cont_model\n",
      "[DEBUG 41:20] ------- Initialize CDM and Selection strategy\n",
      "[INFO 41:21] compiling CDM model\n",
      "[INFO 41:25] compiling selection model\n",
      "[INFO 41:25] ------- START Training\n",
      "[INFO 41:25] train on cuda\n"
     ]
    },
    {
     "name": "stderr",
     "output_type": "stream",
     "text": [
      "/lustre/fsn1/projects/rech/enh/unv34ei/liriscat/liriscat/selectionStrategy/random.py:30: UserWarning: get_params() Notimplemented\n",
      "  warnings.warn('get_params() Notimplemented')\n",
      "  0%|          | 0/100 [00:00<?, ?it/s]"
     ]
    },
    {
     "name": "stdout",
     "output_type": "stream",
     "text": [
      "[DEBUG 41:26] ------- Epoch : 0\n",
      "[INFO 41:26] ----- User batch : 0\n",
      "[DEBUG 41:26] --- Query nb : 0\n",
      "[DEBUG 41:26] - Update users \n",
      "[DEBUG 41:28] --- Query nb : 1\n",
      "[DEBUG 41:28] - Update users \n",
      "[DEBUG 41:28] --- Query nb : 2\n",
      "[DEBUG 41:29] - Update users \n",
      "[DEBUG 41:29] --- Query nb : 3\n",
      "[DEBUG 41:30] - Update users \n",
      "[DEBUG 41:30] --- Query nb : 4\n",
      "[DEBUG 41:30] - Update users \n",
      "[DEBUG 41:30] --- Query nb : 5\n",
      "[DEBUG 41:30] - Update users \n",
      "[INFO 41:31] ----- User batch : 1\n",
      "[DEBUG 41:31] --- Query nb : 0\n",
      "[DEBUG 41:31] - Update users \n",
      "[DEBUG 41:31] --- Query nb : 1\n",
      "[DEBUG 41:31] - Update users \n",
      "[DEBUG 41:31] --- Query nb : 2\n",
      "[DEBUG 41:31] - Update users \n",
      "[DEBUG 41:31] --- Query nb : 3\n",
      "[DEBUG 41:31] - Update users \n",
      "[DEBUG 41:31] --- Query nb : 4\n",
      "[DEBUG 41:31] - Update users \n",
      "[DEBUG 41:31] --- Query nb : 5\n",
      "[DEBUG 41:31] - Update users \n",
      "[INFO 41:32] ----- User batch : 2\n",
      "[DEBUG 41:32] --- Query nb : 0\n",
      "[DEBUG 41:32] - Update users \n",
      "[DEBUG 41:32] --- Query nb : 1\n",
      "[DEBUG 41:32] - Update users \n",
      "[DEBUG 41:32] --- Query nb : 2\n",
      "[DEBUG 41:32] - Update users \n",
      "[DEBUG 41:32] --- Query nb : 3\n",
      "[DEBUG 41:32] - Update users \n",
      "[DEBUG 41:32] --- Query nb : 4\n",
      "[DEBUG 41:32] - Update users \n",
      "[DEBUG 41:32] --- Query nb : 5\n",
      "[DEBUG 41:32] - Update users \n",
      "[DEBUG 41:32] - Update meta params \n",
      "[INFO 41:33] - meta_params gn: [0.019209250807762146, 0.07550719380378723]\n",
      "[INFO 41:33] - cross_cond gn: [0.18718306720256805, 0.3003014028072357]\n",
      "[INFO 41:33] - meta_lambda gn: 0.0\n",
      "[INFO 41:33] - learning_users_emb gn: 18.3431453704834\n",
      "[INFO 41:33] - meta_params norm: [6.129011631011963, 212.48374938964844]\n",
      "[INFO 41:33] - cross_cond norm: [6.69063138961792, 212.52027893066406]\n",
      "[INFO 41:33] - meta_lambda norm: 12.997657775878906\n",
      "[INFO 41:33] - learning_users_emb norm: 1.6552215814590454\n",
      "[INFO 41:33] - meta_params: 0.5\n",
      "[INFO 41:33] - cross_cond: 0.5\n",
      "[INFO 41:33] - meta_lambda: 0.5\n",
      "[INFO 41:33] - learning_users_emb: 0.0005\n",
      "[DEBUG 41:33] -- evaluate valid --\n",
      "[DEBUG 41:33] - Update users \n",
      "[DEBUG 41:33] - Update users \n",
      "[DEBUG 41:34] - Update users \n",
      "[DEBUG 41:35] - Update users \n",
      "[DEBUG 41:35] - Update users \n",
      "[DEBUG 41:35] - Update users \n",
      "[INFO 41:35] rmse : 0.549963116645813\n",
      "[INFO 41:35] valid_rmse : 1.3413734436035156\n",
      "[INFO 41:35] valid_loss : 1.6557905673980713\n"
     ]
    },
    {
     "name": "stderr",
     "output_type": "stream",
     "text": [
      "  1%|          | 1/100 [00:09<15:53,  9.63s/it]"
     ]
    },
    {
     "name": "stdout",
     "output_type": "stream",
     "text": [
      "[DEBUG 41:35] ------- Epoch : 1\n",
      "[INFO 41:36] ----- User batch : 0\n",
      "[DEBUG 41:36] --- Query nb : 0\n",
      "[DEBUG 41:36] - Update users \n",
      "[DEBUG 41:36] --- Query nb : 1\n",
      "[DEBUG 41:36] - Update users \n",
      "[DEBUG 41:36] --- Query nb : 2\n",
      "[DEBUG 41:36] - Update users \n",
      "[DEBUG 41:36] --- Query nb : 3\n",
      "[DEBUG 41:36] - Update users \n",
      "[DEBUG 41:36] --- Query nb : 4\n",
      "[DEBUG 41:36] - Update users \n",
      "[DEBUG 41:36] --- Query nb : 5\n",
      "[DEBUG 41:36] - Update users \n",
      "[INFO 41:37] ----- User batch : 1\n",
      "[DEBUG 41:37] --- Query nb : 0\n",
      "[DEBUG 41:37] - Update users \n",
      "[DEBUG 41:37] --- Query nb : 1\n",
      "[DEBUG 41:37] - Update users \n",
      "[DEBUG 41:37] --- Query nb : 2\n",
      "[DEBUG 41:37] - Update users \n",
      "[DEBUG 41:37] --- Query nb : 3\n",
      "[DEBUG 41:37] - Update users \n",
      "[DEBUG 41:37] --- Query nb : 4\n",
      "[DEBUG 41:37] - Update users \n",
      "[DEBUG 41:38] --- Query nb : 5\n",
      "[DEBUG 41:38] - Update users \n",
      "[INFO 41:38] ----- User batch : 2\n",
      "[DEBUG 41:38] --- Query nb : 0\n",
      "[DEBUG 41:38] - Update users \n",
      "[DEBUG 41:38] --- Query nb : 1\n",
      "[DEBUG 41:38] - Update users \n",
      "[DEBUG 41:38] --- Query nb : 2\n",
      "[DEBUG 41:38] - Update users \n",
      "[DEBUG 41:38] --- Query nb : 3\n",
      "[DEBUG 41:38] - Update users \n",
      "[DEBUG 41:38] --- Query nb : 4\n",
      "[DEBUG 41:38] - Update users \n",
      "[DEBUG 41:39] --- Query nb : 5\n",
      "[DEBUG 41:39] - Update users \n",
      "[DEBUG 41:39] - Update meta params \n",
      "[INFO 41:39] - meta_params gn: [0.016047360375523567, 0.055144354701042175]\n",
      "[INFO 41:39] - cross_cond gn: [0.093013234436512, 0.15769299864768982]\n",
      "[INFO 41:39] - meta_lambda gn: 0.0\n",
      "[INFO 41:39] - learning_users_emb gn: 16.524574279785156\n",
      "[INFO 41:39] - meta_params norm: [7.6148681640625, 212.52955627441406]\n",
      "[INFO 41:39] - cross_cond norm: [7.634331226348877, 212.56932067871094]\n",
      "[INFO 41:39] - meta_lambda norm: 12.997657775878906\n",
      "[INFO 41:39] - learning_users_emb norm: 1.6515644788742065\n",
      "[INFO 41:39] - meta_params: 0.5\n",
      "[INFO 41:39] - cross_cond: 0.5\n",
      "[INFO 41:39] - meta_lambda: 0.5\n",
      "[INFO 41:39] - learning_users_emb: 0.0005\n",
      "[DEBUG 41:39] -- evaluate valid --\n",
      "[DEBUG 41:39] - Update users \n",
      "[DEBUG 41:39] - Update users \n",
      "[DEBUG 41:39] - Update users \n",
      "[DEBUG 41:39] - Update users \n",
      "[DEBUG 41:39] - Update users \n",
      "[DEBUG 41:40] - Update users \n"
     ]
    },
    {
     "name": "stderr",
     "output_type": "stream",
     "text": [
      "  1%|          | 1/100 [00:14<23:35, 14.30s/it]\n"
     ]
    },
    {
     "ename": "KeyboardInterrupt",
     "evalue": "",
     "output_type": "error",
     "traceback": [
      "\u001b[0;31m---------------------------------------------------------------------------\u001b[0m",
      "\u001b[0;31mKeyboardInterrupt\u001b[0m                         Traceback (most recent call last)",
      "Cell \u001b[0;32mIn[6], line 37\u001b[0m\n\u001b[1;32m     35\u001b[0m S \u001b[38;5;241m=\u001b[39m liriscat\u001b[38;5;241m.\u001b[39mselectionStrategy\u001b[38;5;241m.\u001b[39mRandom(metadata,\u001b[38;5;241m*\u001b[39m\u001b[38;5;241m*\u001b[39mconfig)\n\u001b[1;32m     36\u001b[0m S\u001b[38;5;241m.\u001b[39minit_models(train_data, valid_data)\n\u001b[0;32m---> 37\u001b[0m \u001b[43mS\u001b[49m\u001b[38;5;241;43m.\u001b[39;49m\u001b[43mtrain\u001b[49m\u001b[43m(\u001b[49m\u001b[43mtrain_data\u001b[49m\u001b[43m,\u001b[49m\u001b[43m \u001b[49m\u001b[43mvalid_data\u001b[49m\u001b[43m)\u001b[49m\n\u001b[1;32m     38\u001b[0m liriscat\u001b[38;5;241m.\u001b[39mutils\u001b[38;5;241m.\u001b[39mset_seed(\u001b[38;5;241m0\u001b[39m)\n\u001b[1;32m     39\u001b[0m S\u001b[38;5;241m.\u001b[39mreset_rng()\n",
      "File \u001b[0;32m/lustre/fsn1/projects/rech/enh/unv34ei/liriscat/liriscat/selectionStrategy/abstract_selection_strategy.py:835\u001b[0m, in \u001b[0;36mAbstractSelectionStrategy.train\u001b[0;34m(self, train_dataset, valid_dataset)\u001b[0m\n\u001b[1;32m    832\u001b[0m \u001b[38;5;28mself\u001b[39m\u001b[38;5;241m.\u001b[39mbest_CDM_params \u001b[38;5;241m=\u001b[39m \u001b[38;5;28mself\u001b[39m\u001b[38;5;241m.\u001b[39mCDM\u001b[38;5;241m.\u001b[39mget_params()        \n\u001b[1;32m    834\u001b[0m \u001b[38;5;66;03m# Train\u001b[39;00m\n\u001b[0;32m--> 835\u001b[0m \u001b[38;5;28;43mself\u001b[39;49m\u001b[38;5;241;43m.\u001b[39;49m\u001b[43m_train_method\u001b[49m\u001b[43m(\u001b[49m\u001b[43mtrain_dataset\u001b[49m\u001b[43m,\u001b[49m\u001b[43m \u001b[49m\u001b[43mvalid_dataset\u001b[49m\u001b[43m,\u001b[49m\u001b[43mlearning_users_emb\u001b[49m\u001b[43m)\u001b[49m\n\u001b[1;32m    837\u001b[0m \u001b[38;5;28mself\u001b[39m\u001b[38;5;241m.\u001b[39m_trained \u001b[38;5;241m=\u001b[39m \u001b[38;5;28;01mTrue\u001b[39;00m\n\u001b[1;32m    839\u001b[0m logging\u001b[38;5;241m.\u001b[39minfo(\u001b[38;5;124m\"\u001b[39m\u001b[38;5;124m-- END Training --\u001b[39m\u001b[38;5;124m\"\u001b[39m)\n",
      "File \u001b[0;32m/lustre/fsn1/projects/rech/enh/unv34ei/liriscat/liriscat/selectionStrategy/abstract_selection_strategy.py:934\u001b[0m, in \u001b[0;36mAbstractSelectionStrategy._train_early_stopping_error\u001b[0;34m(self, train_dataset, valid_dataset, learning_users_emb)\u001b[0m\n\u001b[1;32m    932\u001b[0m \u001b[38;5;28;01mif\u001b[39;00m (ep \u001b[38;5;241m+\u001b[39m \u001b[38;5;241m1\u001b[39m) \u001b[38;5;241m%\u001b[39m eval_freq \u001b[38;5;241m==\u001b[39m \u001b[38;5;241m0\u001b[39m:\n\u001b[1;32m    933\u001b[0m     \u001b[38;5;28;01mwith\u001b[39;00m torch\u001b[38;5;241m.\u001b[39mno_grad(), torch\u001b[38;5;241m.\u001b[39mamp\u001b[38;5;241m.\u001b[39mautocast(\u001b[38;5;124m'\u001b[39m\u001b[38;5;124mcuda\u001b[39m\u001b[38;5;124m'\u001b[39m):\n\u001b[0;32m--> 934\u001b[0m         valid_rmse, valid_loss \u001b[38;5;241m=\u001b[39m \u001b[38;5;28;43mself\u001b[39;49m\u001b[38;5;241;43m.\u001b[39;49m\u001b[43mevaluate_valid\u001b[49m\u001b[43m(\u001b[49m\u001b[43mvalid_loader\u001b[49m\u001b[43m,\u001b[49m\u001b[43m \u001b[49m\u001b[43mvalid_query_env\u001b[49m\u001b[43m,\u001b[49m\u001b[43mlearning_users_emb\u001b[49m\u001b[43m)\u001b[49m\n\u001b[1;32m    936\u001b[0m         logging\u001b[38;5;241m.\u001b[39minfo(\u001b[38;5;124mf\u001b[39m\u001b[38;5;124m'\u001b[39m\u001b[38;5;124mvalid_rmse : \u001b[39m\u001b[38;5;132;01m{\u001b[39;00mvalid_rmse\u001b[38;5;132;01m}\u001b[39;00m\u001b[38;5;124m'\u001b[39m)\n\u001b[1;32m    937\u001b[0m         logging\u001b[38;5;241m.\u001b[39minfo(\u001b[38;5;124mf\u001b[39m\u001b[38;5;124m'\u001b[39m\u001b[38;5;124mvalid_loss : \u001b[39m\u001b[38;5;132;01m{\u001b[39;00mvalid_loss\u001b[38;5;132;01m}\u001b[39;00m\u001b[38;5;124m'\u001b[39m)\n",
      "File \u001b[0;32m/lustre/fsn1/projects/rech/enh/unv34ei/liriscat/liriscat/selectionStrategy/abstract_selection_strategy.py:447\u001b[0m, in \u001b[0;36mAbstractSelectionStrategy.evaluation_state.<locals>.wrapper\u001b[0;34m(*args, **kwargs)\u001b[0m\n\u001b[1;32m    445\u001b[0m     \u001b[38;5;28mself\u001b[39m\u001b[38;5;241m.\u001b[39mmodel\u001b[38;5;241m.\u001b[39meval() \u001b[38;5;66;03m# todo : putting in eval mode again\u001b[39;00m\n\u001b[1;32m    446\u001b[0m     \u001b[38;5;28;01mwith\u001b[39;00m torch\u001b[38;5;241m.\u001b[39mno_grad(), torch\u001b[38;5;241m.\u001b[39mamp\u001b[38;5;241m.\u001b[39mautocast(\u001b[38;5;124m'\u001b[39m\u001b[38;5;124mcuda\u001b[39m\u001b[38;5;124m'\u001b[39m):\n\u001b[0;32m--> 447\u001b[0m         result \u001b[38;5;241m=\u001b[39m \u001b[43mfunc\u001b[49m\u001b[43m(\u001b[49m\u001b[38;5;241;43m*\u001b[39;49m\u001b[43margs\u001b[49m\u001b[43m,\u001b[49m\u001b[43m \u001b[49m\u001b[38;5;241;43m*\u001b[39;49m\u001b[38;5;241;43m*\u001b[39;49m\u001b[43mkwargs\u001b[49m\u001b[43m)\u001b[49m\n\u001b[1;32m    448\u001b[0m \u001b[38;5;28;01mfinally\u001b[39;00m:\n\u001b[1;32m    449\u001b[0m     \u001b[38;5;66;03m# Restore the previous state after method execution\u001b[39;00m\n\u001b[1;32m    450\u001b[0m     \u001b[38;5;28mself\u001b[39m\u001b[38;5;241m.\u001b[39mCDM\u001b[38;5;241m.\u001b[39mmodel\u001b[38;5;241m.\u001b[39mtrain()\n",
      "File \u001b[0;32m/lustre/fsn1/projects/rech/enh/unv34ei/liriscat/liriscat/selectionStrategy/abstract_selection_strategy.py:493\u001b[0m, in \u001b[0;36mAbstractSelectionStrategy.evaluate_valid\u001b[0;34m(self, valid_loader, valid_query_env, learning_users_emb)\u001b[0m\n\u001b[1;32m    489\u001b[0m     actions \u001b[38;5;241m=\u001b[39m \u001b[38;5;28mself\u001b[39m\u001b[38;5;241m.\u001b[39mselect_action(valid_query_env\u001b[38;5;241m.\u001b[39mget_query_options(i_query))\n\u001b[1;32m    491\u001b[0m     valid_query_env\u001b[38;5;241m.\u001b[39mupdate(actions, i_query)\n\u001b[0;32m--> 493\u001b[0m     learning_users_emb \u001b[38;5;241m=\u001b[39m \u001b[38;5;28;43mself\u001b[39;49m\u001b[38;5;241;43m.\u001b[39;49m\u001b[43minner_loop\u001b[49m\u001b[43m(\u001b[49m\u001b[43mvalid_query_env\u001b[49m\u001b[38;5;241;43m.\u001b[39;49m\u001b[43mfeed_IMPACT_sub\u001b[49m\u001b[43m(\u001b[49m\u001b[43m)\u001b[49m\u001b[43m,\u001b[49m\u001b[43m \u001b[49m\u001b[43mlearning_users_emb\u001b[49m\u001b[43m)\u001b[49m\n\u001b[1;32m    495\u001b[0m total_rmse, total_loss \u001b[38;5;241m=\u001b[39m \u001b[38;5;241m0.0\u001b[39m, \u001b[38;5;241m0.0\u001b[39m\n\u001b[1;32m    496\u001b[0m \u001b[38;5;28;01mif\u001b[39;00m \u001b[38;5;28mself\u001b[39m\u001b[38;5;241m.\u001b[39mconfig[\u001b[38;5;124m'\u001b[39m\u001b[38;5;124mmeta_trainer\u001b[39m\u001b[38;5;124m'\u001b[39m] \u001b[38;5;241m==\u001b[39m \u001b[38;5;124m'\u001b[39m\u001b[38;5;124mBETA-CD\u001b[39m\u001b[38;5;124m'\u001b[39m:\n",
      "File \u001b[0;32m/lustre/fsn1/projects/rech/enh/unv34ei/liriscat/liriscat/selectionStrategy/abstract_selection_strategy.py:358\u001b[0m, in \u001b[0;36mAbstractSelectionStrategy.inner_loop\u001b[0;34m(self, query_data, users_emb)\u001b[0m\n\u001b[1;32m    354\u001b[0m sub_dataloader \u001b[38;5;241m=\u001b[39m DataLoader(sub_data, batch_size\u001b[38;5;241m=\u001b[39m\u001b[38;5;241m2048\u001b[39m, shuffle\u001b[38;5;241m=\u001b[39m\u001b[38;5;28;01mTrue\u001b[39;00m, pin_memory\u001b[38;5;241m=\u001b[39m\u001b[38;5;28mself\u001b[39m\u001b[38;5;241m.\u001b[39mconfig[\u001b[38;5;124m'\u001b[39m\u001b[38;5;124mpin_memory\u001b[39m\u001b[38;5;124m'\u001b[39m], num_workers\u001b[38;5;241m=\u001b[39m\u001b[38;5;28mself\u001b[39m\u001b[38;5;241m.\u001b[39mconfig[\u001b[38;5;124m'\u001b[39m\u001b[38;5;124mnum_workers\u001b[39m\u001b[38;5;124m'\u001b[39m])\n\u001b[1;32m    356\u001b[0m \u001b[38;5;28;01mfor\u001b[39;00m k \u001b[38;5;129;01min\u001b[39;00m \u001b[38;5;28mrange\u001b[39m(\u001b[38;5;28mself\u001b[39m\u001b[38;5;241m.\u001b[39mconfig[\u001b[38;5;124m'\u001b[39m\u001b[38;5;124mnum_inner_users_epochs\u001b[39m\u001b[38;5;124m'\u001b[39m]) :\n\u001b[0;32m--> 358\u001b[0m \u001b[43m    \u001b[49m\u001b[38;5;28;43;01mfor\u001b[39;49;00m\u001b[43m  \u001b[49m\u001b[43mbatch\u001b[49m\u001b[43m \u001b[49m\u001b[38;5;129;43;01min\u001b[39;49;00m\u001b[43m \u001b[49m\u001b[43msub_dataloader\u001b[49m\u001b[43m:\u001b[49m\n\u001b[1;32m    359\u001b[0m \u001b[43m        \u001b[49m\u001b[43musers_id\u001b[49m\u001b[43m,\u001b[49m\u001b[43m \u001b[49m\u001b[43mitems_id\u001b[49m\u001b[43m,\u001b[49m\u001b[43m \u001b[49m\u001b[43mlabels\u001b[49m\u001b[43m,\u001b[49m\u001b[43m \u001b[49m\u001b[43mconcepts_id\u001b[49m\u001b[43m,\u001b[49m\u001b[43m \u001b[49m\u001b[43m_\u001b[49m\u001b[43m \u001b[49m\u001b[38;5;241;43m=\u001b[39;49m\u001b[43m \u001b[49m\u001b[43mbatch\u001b[49m\u001b[43m[\u001b[49m\u001b[38;5;124;43m\"\u001b[39;49m\u001b[38;5;124;43muser_ids\u001b[39;49m\u001b[38;5;124;43m\"\u001b[39;49m\u001b[43m]\u001b[49m\u001b[43m,\u001b[49m\u001b[43m \u001b[49m\u001b[43mbatch\u001b[49m\u001b[43m[\u001b[49m\u001b[38;5;124;43m\"\u001b[39;49m\u001b[38;5;124;43mquestion_ids\u001b[39;49m\u001b[38;5;124;43m\"\u001b[39;49m\u001b[43m]\u001b[49m\u001b[43m,\u001b[49m\u001b[43m \u001b[49m\u001b[43mbatch\u001b[49m\u001b[43m[\u001b[49m\u001b[38;5;124;43m\"\u001b[39;49m\u001b[38;5;124;43mlabels\u001b[39;49m\u001b[38;5;124;43m\"\u001b[39;49m\u001b[43m]\u001b[49m\u001b[43m,\u001b[49m\u001b[43m \u001b[49m\u001b[43mbatch\u001b[49m\u001b[43m[\u001b[49m\u001b[38;5;124;43m\"\u001b[39;49m\u001b[38;5;124;43mcategory_ids\u001b[39;49m\u001b[38;5;124;43m\"\u001b[39;49m\u001b[43m]\u001b[49m\u001b[43m,\u001b[49m\u001b[43m \u001b[49m\u001b[43mbatch\u001b[49m\u001b[43m[\u001b[49m\u001b[38;5;124;43m\"\u001b[39;49m\u001b[38;5;124;43mnb_modalities\u001b[39;49m\u001b[38;5;124;43m\"\u001b[39;49m\u001b[43m]\u001b[49m\n\u001b[1;32m    361\u001b[0m \u001b[43m        \u001b[49m\u001b[38;5;28;43mself\u001b[39;49m\u001b[38;5;241;43m.\u001b[39;49m\u001b[43mCDM\u001b[49m\u001b[38;5;241;43m.\u001b[39;49m\u001b[43mmodel\u001b[49m\u001b[38;5;241;43m.\u001b[39;49m\u001b[43mtrain\u001b[49m\u001b[43m(\u001b[49m\u001b[43m)\u001b[49m\n",
      "File \u001b[0;32m/lustre/fshomisc/sup/hpe/pub/miniforge/24.11.3/envs/pytorch-gpu-2.7.0+py3.12.10/lib/python3.12/site-packages/torch/utils/data/dataloader.py:733\u001b[0m, in \u001b[0;36m_BaseDataLoaderIter.__next__\u001b[0;34m(self)\u001b[0m\n\u001b[1;32m    730\u001b[0m \u001b[38;5;28;01mif\u001b[39;00m \u001b[38;5;28mself\u001b[39m\u001b[38;5;241m.\u001b[39m_sampler_iter \u001b[38;5;129;01mis\u001b[39;00m \u001b[38;5;28;01mNone\u001b[39;00m:\n\u001b[1;32m    731\u001b[0m     \u001b[38;5;66;03m# TODO(https://github.com/pytorch/pytorch/issues/76750)\u001b[39;00m\n\u001b[1;32m    732\u001b[0m     \u001b[38;5;28mself\u001b[39m\u001b[38;5;241m.\u001b[39m_reset()  \u001b[38;5;66;03m# type: ignore[call-arg]\u001b[39;00m\n\u001b[0;32m--> 733\u001b[0m data \u001b[38;5;241m=\u001b[39m \u001b[38;5;28;43mself\u001b[39;49m\u001b[38;5;241;43m.\u001b[39;49m\u001b[43m_next_data\u001b[49m\u001b[43m(\u001b[49m\u001b[43m)\u001b[49m\n\u001b[1;32m    734\u001b[0m \u001b[38;5;28mself\u001b[39m\u001b[38;5;241m.\u001b[39m_num_yielded \u001b[38;5;241m+\u001b[39m\u001b[38;5;241m=\u001b[39m \u001b[38;5;241m1\u001b[39m\n\u001b[1;32m    735\u001b[0m \u001b[38;5;28;01mif\u001b[39;00m (\n\u001b[1;32m    736\u001b[0m     \u001b[38;5;28mself\u001b[39m\u001b[38;5;241m.\u001b[39m_dataset_kind \u001b[38;5;241m==\u001b[39m _DatasetKind\u001b[38;5;241m.\u001b[39mIterable\n\u001b[1;32m    737\u001b[0m     \u001b[38;5;129;01mand\u001b[39;00m \u001b[38;5;28mself\u001b[39m\u001b[38;5;241m.\u001b[39m_IterableDataset_len_called \u001b[38;5;129;01mis\u001b[39;00m \u001b[38;5;129;01mnot\u001b[39;00m \u001b[38;5;28;01mNone\u001b[39;00m\n\u001b[1;32m    738\u001b[0m     \u001b[38;5;129;01mand\u001b[39;00m \u001b[38;5;28mself\u001b[39m\u001b[38;5;241m.\u001b[39m_num_yielded \u001b[38;5;241m>\u001b[39m \u001b[38;5;28mself\u001b[39m\u001b[38;5;241m.\u001b[39m_IterableDataset_len_called\n\u001b[1;32m    739\u001b[0m ):\n",
      "File \u001b[0;32m/lustre/fshomisc/sup/hpe/pub/miniforge/24.11.3/envs/pytorch-gpu-2.7.0+py3.12.10/lib/python3.12/site-packages/torch/utils/data/dataloader.py:789\u001b[0m, in \u001b[0;36m_SingleProcessDataLoaderIter._next_data\u001b[0;34m(self)\u001b[0m\n\u001b[1;32m    787\u001b[0m \u001b[38;5;28;01mdef\u001b[39;00m\u001b[38;5;250m \u001b[39m\u001b[38;5;21m_next_data\u001b[39m(\u001b[38;5;28mself\u001b[39m):\n\u001b[1;32m    788\u001b[0m     index \u001b[38;5;241m=\u001b[39m \u001b[38;5;28mself\u001b[39m\u001b[38;5;241m.\u001b[39m_next_index()  \u001b[38;5;66;03m# may raise StopIteration\u001b[39;00m\n\u001b[0;32m--> 789\u001b[0m     data \u001b[38;5;241m=\u001b[39m \u001b[38;5;28;43mself\u001b[39;49m\u001b[38;5;241;43m.\u001b[39;49m\u001b[43m_dataset_fetcher\u001b[49m\u001b[38;5;241;43m.\u001b[39;49m\u001b[43mfetch\u001b[49m\u001b[43m(\u001b[49m\u001b[43mindex\u001b[49m\u001b[43m)\u001b[49m  \u001b[38;5;66;03m# may raise StopIteration\u001b[39;00m\n\u001b[1;32m    790\u001b[0m     \u001b[38;5;28;01mif\u001b[39;00m \u001b[38;5;28mself\u001b[39m\u001b[38;5;241m.\u001b[39m_pin_memory:\n\u001b[1;32m    791\u001b[0m         data \u001b[38;5;241m=\u001b[39m _utils\u001b[38;5;241m.\u001b[39mpin_memory\u001b[38;5;241m.\u001b[39mpin_memory(data, \u001b[38;5;28mself\u001b[39m\u001b[38;5;241m.\u001b[39m_pin_memory_device)\n",
      "File \u001b[0;32m/lustre/fshomisc/sup/hpe/pub/miniforge/24.11.3/envs/pytorch-gpu-2.7.0+py3.12.10/lib/python3.12/site-packages/torch/utils/data/_utils/fetch.py:52\u001b[0m, in \u001b[0;36m_MapDatasetFetcher.fetch\u001b[0;34m(self, possibly_batched_index)\u001b[0m\n\u001b[1;32m     50\u001b[0m         data \u001b[38;5;241m=\u001b[39m \u001b[38;5;28mself\u001b[39m\u001b[38;5;241m.\u001b[39mdataset\u001b[38;5;241m.\u001b[39m__getitems__(possibly_batched_index)\n\u001b[1;32m     51\u001b[0m     \u001b[38;5;28;01melse\u001b[39;00m:\n\u001b[0;32m---> 52\u001b[0m         data \u001b[38;5;241m=\u001b[39m [\u001b[38;5;28mself\u001b[39m\u001b[38;5;241m.\u001b[39mdataset[idx] \u001b[38;5;28;01mfor\u001b[39;00m idx \u001b[38;5;129;01min\u001b[39;00m possibly_batched_index]\n\u001b[1;32m     53\u001b[0m \u001b[38;5;28;01melse\u001b[39;00m:\n\u001b[1;32m     54\u001b[0m     data \u001b[38;5;241m=\u001b[39m \u001b[38;5;28mself\u001b[39m\u001b[38;5;241m.\u001b[39mdataset[possibly_batched_index]\n",
      "\u001b[0;31mKeyboardInterrupt\u001b[0m: "
     ]
    }
   ],
   "source": [
    "meta_trainers = ['GAP']\n",
    "for meta_trainer in meta_trainers : \n",
    "    config['meta_trainer'] = meta_trainer\n",
    "    logging.info(f'#### meta_trainer : {config[\"meta_trainer\"]} ####')\n",
    "    for i_fold in range(1,2) : \n",
    "        config['i_fold'] = i_fold\n",
    "            \n",
    "        logging.info(f'#### i_fold : {i_fold} ####')\n",
    "        ## Dataframe columns : (user_id, question_id, response, category_id)\n",
    "        train_df = pd.read_csv(\n",
    "            f'../datasets/2-preprocessed_data/{config[\"dataset_name\"]}_train_{i_fold}.csv',\n",
    "            encoding='utf-8', dtype={'student_id': int, 'item_id': int, \"correct\": float,\n",
    "                                                                    \"dimension_id\": int})\n",
    "        valid_df = pd.read_csv(\n",
    "            f'../datasets/2-preprocessed_data/{config[\"dataset_name\"]}_valid_{i_fold}.csv',\n",
    "            encoding='utf-8', dtype={'student_id': int, 'item_id': int, \"correct\": float,\n",
    "                                                                    \"dimension_id\": int})\n",
    "        test_df = pd.read_csv(\n",
    "            f'../datasets/2-preprocessed_data/{config[\"dataset_name\"]}_test_{i_fold}.csv',\n",
    "            encoding='utf-8', dtype={'student_id': int, 'item_id': int, \"correct\": float,\n",
    "                                                                    \"dimension_id\": int})\n",
    "\n",
    "        train_data = liriscat.dataset.CATDataset(train_df, concept_map, metadata, config,nb_modalities)\n",
    "        valid_data = liriscat.dataset.EvalDataset(valid_df, concept_map, metadata, config,nb_modalities)\n",
    "        test_data = liriscat.dataset.EvalDataset(test_df, concept_map, metadata, config,nb_modalities)\n",
    "\n",
    "        for seed in range(1) :\n",
    "            config['seed'] = seed\n",
    "            logging.info(f'#### seed : {seed} ####')\n",
    "\n",
    "            train_data.reset_rng()\n",
    "            valid_data.reset_rng()\n",
    "            test_data.reset_rng()\n",
    "\n",
    "            S = liriscat.selectionStrategy.Random(metadata,**config)\n",
    "            S.init_models(train_data, valid_data)\n",
    "            S.train(train_data, valid_data)\n",
    "            liriscat.utils.set_seed(0)\n",
    "            S.reset_rng()\n",
    "            d = (S.evaluate_test(test_data, train_data, valid_data))\n",
    "            logging.info(d)\n",
    "            logging.info(liriscat.utils.pareto_index(d))\n",
    "\n",
    "    torch.cuda.empty_cache()"
   ]
  },
  {
   "cell_type": "code",
   "execution_count": null,
   "id": "6e9d20cf",
   "metadata": {},
   "outputs": [
    {
     "name": "stdout",
     "output_type": "stream",
     "text": [
      "[INFO 08:22] #### seed : 0 ####\n",
      "[DEBUG 08:22] ------- Abstract model __init__()\n",
      "[DEBUG 08:22] ----- Meta trainer init : GAP\n",
      "[INFO 08:22] Random_cont_model\n",
      "[DEBUG 08:22] ------- Initialize CDM and Selection strategy\n",
      "[INFO 08:23] compiling CDM model\n",
      "[INFO 08:23] compiling selection model\n",
      "[INFO 08:23] ------- START Training\n",
      "[INFO 08:23] train on cuda\n"
     ]
    },
    {
     "name": "stderr",
     "output_type": "stream",
     "text": [
      "/lustre/fsn1/projects/rech/enh/unv34ei/liriscat/liriscat/selectionStrategy/random.py:30: UserWarning: get_params() Notimplemented\n",
      "  warnings.warn('get_params() Notimplemented')\n",
      "  0%|          | 0/100 [00:00<?, ?it/s]"
     ]
    },
    {
     "name": "stdout",
     "output_type": "stream",
     "text": [
      "[DEBUG 08:24] ------- Epoch : 0\n",
      "[INFO 08:24] ----- User batch : 0\n",
      "[DEBUG 08:24] --- Query nb : 0\n",
      "[DEBUG 08:24] - Update users \n",
      "[DEBUG 13:26] --- Query nb : 1\n",
      "[DEBUG 13:26] - Update users \n"
     ]
    }
   ],
   "source": [
    "config['meta_trainer'] = 'GAP'\n",
    "#config['meta_trainer'] = 'Adam'\n",
    "for seed in range(1) :\n",
    "    config['seed'] = seed\n",
    "    logging.info(f'#### seed : {seed} ####')\n",
    "    \n",
    "    train_data.reset_rng()\n",
    "    valid_data.reset_rng()\n",
    "    test_data.reset_rng()\n",
    "\n",
    "\n",
    "    S = liriscat.selectionStrategy.Random(metadata,**config)\n",
    "    S.init_models(train_data, valid_data)\n",
    "    S.train(train_data, valid_data)\n",
    "    liriscat.utils.set_seed(0)\n",
    "    S.reset_rng()\n",
    "    d = (S.evaluate_test(test_data, train_data, valid_data))\n",
    "    print(liriscat.utils.pareto_index(d))\n",
    "    print(d)\n",
    "    torch.cuda.empty_cache()"
   ]
  },
  {
   "cell_type": "code",
   "execution_count": null,
   "id": "afe71ed3-0f28-4d02-8db5-463a7127c5b5",
   "metadata": {},
   "outputs": [],
   "source": []
  }
 ],
 "metadata": {
  "kernelspec": {
   "display_name": "pytorch-gpu-2.7.0_py3.12.10",
   "language": "python",
   "name": "module-conda-env-pytorch-gpu-2.7.0_py3.12.10"
  },
  "language_info": {
   "codemirror_mode": {
    "name": "ipython",
    "version": 3
   },
   "file_extension": ".py",
   "mimetype": "text/x-python",
   "name": "python",
   "nbconvert_exporter": "python",
   "pygments_lexer": "ipython3",
   "version": "3.12.10"
  }
 },
 "nbformat": 4,
 "nbformat_minor": 5
}