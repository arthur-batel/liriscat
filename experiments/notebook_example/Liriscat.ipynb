{
 "cells": [
  {
   "cell_type": "markdown",
   "id": "78a21ce669eb601d",
   "metadata": {},
   "source": [
    "# Liriscat paper experiments\n",
    "### 1. Init\n",
    "#### 1.1. Import libraries (necessary)"
   ]
  },
  {
   "cell_type": "code",
   "execution_count": 1,
   "id": "5b0d5d27c5b782ec",
   "metadata": {
    "ExecuteTime": {
     "end_time": "2025-03-28T16:00:43.125550Z",
     "start_time": "2025-03-28T16:00:41.971774Z"
    }
   },
   "outputs": [],
   "source": [
    "%load_ext autoreload\n",
    "%autoreload 2\n",
    "\n",
    "import os\n",
    "os.environ[\"PYTORCH_CUDA_ALLOC_CONF\"] = \"expandable_segments:True\"\n",
    "os.environ[\"PYTHONHASHSEED\"] = \"0\"\n",
    "os.environ['CUBLAS_WORKSPACE_CONFIG'] = \":4096:8\"\n",
    "\n",
    "import liriscat\n",
    "liriscat.utils.set_seed(0)\n",
    "\n",
    "import logging\n",
    "import gc\n",
    "import json\n",
    "import torch\n",
    "liriscat.utils.set_seed(0)\n",
    "import pandas as pd\n",
    "from importlib import reload"
   ]
  },
  {
   "cell_type": "markdown",
   "id": "32ab0bc4902808a9",
   "metadata": {},
   "source": [
    "#### 1.2. Set up the loggers (recommended)"
   ]
  },
  {
   "cell_type": "code",
   "execution_count": 2,
   "id": "b358c4709ccb3845",
   "metadata": {
    "ExecuteTime": {
     "end_time": "2025-03-27T16:01:06.271337Z",
     "start_time": "2025-03-27T16:01:06.259238Z"
    }
   },
   "outputs": [],
   "source": [
    "liriscat.utils.setuplogger(verbose = True, log_name=\"liriscat\", debug=False)"
   ]
  },
  {
   "cell_type": "markdown",
   "id": "5e97a539f6607db0",
   "metadata": {},
   "source": [
    "### 2. CDM prediction\n",
    "#### 2.1. Training and testing, sequential version"
   ]
  },
  {
   "cell_type": "code",
   "execution_count": 3,
   "id": "83d2be5c98d6482",
   "metadata": {
    "ExecuteTime": {
     "end_time": "2025-03-27T16:01:07.182919Z",
     "start_time": "2025-03-27T16:01:06.322894Z"
    }
   },
   "outputs": [],
   "source": [
    "import warnings\n",
    "\n",
    "gc.collect()\n",
    "torch.cuda.empty_cache()"
   ]
  },
  {
   "cell_type": "code",
   "execution_count": null,
   "id": "1a54dc4f99eadbfa",
   "metadata": {},
   "outputs": [
    {
     "name": "stdout",
     "output_type": "stream",
     "text": [
      "CUDA is available. Using GPU.\n",
      "[INFO 38:14] math2\n"
     ]
    }
   ],
   "source": [
    "config = liriscat.utils.generate_eval_config(load_params=True, esc = 'error', valid_metric= 'mi_acc', pred_metrics = [\"mi_acc\"], profile_metrics = ['meta_doa'], save_params=False, n_query=6, num_epochs=100, batch_size=512)\n",
    "liriscat.utils.set_seed(config[\"seed\"])\n",
    "\n",
    "config[\"dataset_name\"] = \"math2\"\n",
    "logging.info(config[\"dataset_name\"])\n",
    "config['learning_rate'] = 0.0001\n",
    "config['inner_user_lr'] = 0.016848380924625605\n",
    "config['lambda'] = 9.972254466547545e-06\n",
    "\n",
    "config['meta_lr'] = 0.5\n",
    "config['learning_users_emb_lr'] = 0.0005\n",
    "config['patience'] = 20#5\n",
    "config['num_inner_users_epochs'] = 3\n",
    "config['d_in'] = 4\n",
    "config['num_responses'] = 12\n",
    "\n",
    "#pred_metrics,df_interp = test(config)"
   ]
  },
  {
   "cell_type": "code",
   "execution_count": 5,
   "id": "73dcbf76e1d61f2a",
   "metadata": {},
   "outputs": [
    {
     "name": "stdout",
     "output_type": "stream",
     "text": [
      "[INFO 38:14] #### math2 ####\n"
     ]
    },
    {
     "name": "stdout",
     "output_type": "stream",
     "text": [
      "[INFO 38:14] #### config : {'seed': 0, 'dataset_name': 'math2', 'load_params': True, 'save_params': False, 'embs_path': '../embs/', 'params_path': '../ckpt/', 'early_stopping': True, 'esc': 'error', 'verbose_early_stopping': False, 'disable_tqdm': False, 'valid_metric': 'mi_acc', 'learning_rate': 0.0001, 'batch_size': 512, 'valid_batch_size': 10000, 'num_epochs': 100, 'eval_freq': 1, 'patience': 20, 'device': device(type='cuda'), 'lambda': 9.972254466547545e-06, 'tensorboard': False, 'flush_freq': True, 'pred_metrics': ['mi_acc'], 'profile_metrics': ['meta_doa'], 'num_responses': 12, 'low_mem': False, 'n_query': 6, 'CDM': 'impact', 'i_fold': 0, 'num_inner_users_epochs': 3, 'num_inner_epochs': 10, 'inner_lr': 0.0001, 'inner_user_lr': 0.016848380924625605, 'meta_lr': 0.5, 'meta_trainer': 'Adam', 'num_workers': 0, 'pin_memory': False, 'debug': False, 'learning_users_emb_lr': 0.001, 'd_in': 4} ####\n"
     ]
    }
   ],
   "source": [
    "logging.info(f'#### {config[\"dataset_name\"]} ####')\n",
    "logging.info(f'#### config : {config} ####')\n",
    "config['embs_path']='../embs/'\n",
    "config['params_path']='../ckpt/'\n",
    "\n",
    "gc.collect()\n",
    "torch.cuda.empty_cache()\n",
    "\n",
    "# Dataset downloading for doa and rm\n",
    "warnings.filterwarnings(\"ignore\", message=\"invalid value encountered in divide\")\n",
    "warnings.filterwarnings(\"ignore\", category=RuntimeWarning)\n",
    "\n",
    "## Concept map format : {question_id : [category_id1, category_id2, ...]}\n",
    "concept_map = json.load(open(f'../datasets/2-preprocessed_data/{config[\"dataset_name\"]}_concept_map.json', 'r'))\n",
    "concept_map = {int(k): [int(x) for x in v] for k, v in concept_map.items()}\n",
    "\n",
    "## Metadata map format : {\"num_user_id\": ..., \"num_item_id\": ..., \"num_dimension_id\": ...}\n",
    "metadata = json.load(open(f'../datasets/2-preprocessed_data/{config[\"dataset_name\"]}_metadata.json', 'r'))\n",
    "\n",
    "\n",
    "## Tensor containing the nb of modalities per question\n",
    "nb_modalities = torch.load(f'../datasets/2-preprocessed_data/{config[\"dataset_name\"]}_nb_modalities.pkl',weights_only=True)\n"
   ]
  },
  {
   "cell_type": "code",
   "execution_count": 6,
   "id": "846a5c594351413e",
   "metadata": {},
   "outputs": [
    {
     "name": "stdout",
     "output_type": "stream",
     "text": [
      "[INFO 38:14] #### meta_trainer : GAP ####\n",
      "[INFO 38:14] #### i_fold : 1 ####\n",
      "[INFO 38:30] #### seed : 0 ####\n",
      "[INFO 38:30] Random_cont_model\n",
      "[INFO 38:30] compiling CDM model\n",
      "[INFO 38:32] compiling selection model\n",
      "[INFO 38:32] ------- START Training\n",
      "[INFO 38:32] train on cuda\n"
     ]
    },
    {
     "name": "stderr",
     "output_type": "stream",
     "text": [
      "/home/arthur/liriscat/liriscat/selectionStrategy/random.py:30: UserWarning: get_params() Notimplemented\n",
      "  warnings.warn('get_params() Notimplemented')\n",
      "  0%|          | 0/100 [00:00<?, ?it/s]"
     ]
    },
    {
     "name": "stdout",
     "output_type": "stream",
     "text": [
      "[INFO 38:33] ----- User batch : 0\n",
      "[INFO 38:39] ----- User batch : 1\n",
      "[INFO 38:43] ----- User batch : 2\n",
      "[INFO 38:48] ----- User batch : 3\n",
      "[INFO 38:52] ----- User batch : 4\n",
      "[INFO 38:55] - meta_params gn: [0.031223371624946594, 0.035650260746479034]\n",
      "[INFO 38:55] - cross_cond gn: [0.06907379627227783, 0.16024543344974518]\n",
      "[INFO 38:55] - meta_lambda gn: 0.957507312297821\n",
      "[INFO 38:55] - learning_users_emb gn: 26.643220901489258\n",
      "[INFO 38:55] - meta_params norm: [34.032470703125, 80.113525390625]\n",
      "[INFO 38:55] - cross_cond norm: [33.01451110839844, 80.7965087890625]\n",
      "[INFO 38:55] - meta_lambda norm: 11.515698432922363\n",
      "[INFO 38:55] - learning_users_emb norm: 0.12323136627674103\n",
      "[INFO 38:55] - meta_params: 0.5\n",
      "[INFO 38:55] - cross_cond: 0.5\n",
      "[INFO 38:55] - meta_lambda: 0.5\n",
      "[INFO 38:55] - learning_users_emb: 0.001\n",
      "[INFO 39:03] rmse : 0.5412712693214417\n",
      "[INFO 39:03] valid_rmse : 0.6921627521514893\n",
      "[INFO 39:03] valid_loss : 0.937843382358551\n"
     ]
    },
    {
     "name": "stderr",
     "output_type": "stream",
     "text": [
      "  1%|          | 1/100 [00:29<49:00, 29.70s/it]"
     ]
    },
    {
     "name": "stdout",
     "output_type": "stream",
     "text": [
      "[INFO 39:03] ----- User batch : 0\n",
      "[INFO 39:08] ----- User batch : 1\n",
      "[INFO 39:13] ----- User batch : 2\n",
      "[INFO 39:17] ----- User batch : 3\n",
      "[INFO 39:21] ----- User batch : 4\n",
      "[INFO 39:24] - meta_params gn: [0.024786455556750298, 0.03819642588496208]\n",
      "[INFO 39:24] - cross_cond gn: [0.034133296459913254, 0.0841982439160347]\n",
      "[INFO 39:24] - meta_lambda gn: 0.5134706497192383\n",
      "[INFO 39:24] - learning_users_emb gn: 27.01006507873535\n",
      "[INFO 39:24] - meta_params norm: [35.243019104003906, 80.23528289794922]\n",
      "[INFO 39:24] - cross_cond norm: [32.145660400390625, 80.67011260986328]\n",
      "[INFO 39:24] - meta_lambda norm: 11.016040802001953\n",
      "[INFO 39:24] - learning_users_emb norm: 0.12008725106716156\n",
      "[INFO 39:24] - meta_params: 0.5\n",
      "[INFO 39:24] - cross_cond: 0.5\n",
      "[INFO 39:24] - meta_lambda: 0.5\n",
      "[INFO 39:24] - learning_users_emb: 0.001\n",
      "[INFO 39:31] rmse : 0.5479499101638794\n",
      "[INFO 39:31] valid_rmse : 0.7007032036781311\n",
      "[INFO 39:31] valid_loss : 0.9383835792541504\n"
     ]
    },
    {
     "name": "stderr",
     "output_type": "stream",
     "text": [
      "  2%|▏         | 2/100 [00:57<46:57, 28.75s/it]"
     ]
    },
    {
     "name": "stdout",
     "output_type": "stream",
     "text": [
      "[INFO 39:31] ----- User batch : 0\n",
      "[INFO 39:36] ----- User batch : 1\n",
      "[INFO 39:41] ----- User batch : 2\n",
      "[INFO 39:46] ----- User batch : 3\n",
      "[INFO 39:50] ----- User batch : 4\n",
      "[INFO 39:53] - meta_params gn: [0.019313104450702667, 0.01609528623521328]\n",
      "[INFO 39:53] - cross_cond gn: [0.0590410940349102, 0.04435097798705101]\n",
      "[INFO 39:53] - meta_lambda gn: 0.594048023223877\n",
      "[INFO 39:53] - learning_users_emb gn: 28.128644943237305\n",
      "[INFO 39:53] - meta_params norm: [36.65230178833008, 80.3600845336914]\n",
      "[INFO 39:53] - cross_cond norm: [31.362548828125, 80.55412292480469]\n",
      "[INFO 39:53] - meta_lambda norm: 10.545315742492676\n",
      "[INFO 39:53] - learning_users_emb norm: 0.11688061058521271\n",
      "[INFO 39:53] - meta_params: 0.5\n",
      "[INFO 39:53] - cross_cond: 0.5\n",
      "[INFO 39:53] - meta_lambda: 0.5\n",
      "[INFO 39:53] - learning_users_emb: 0.001\n",
      "[INFO 39:59] rmse : 0.5503996014595032\n",
      "[INFO 39:59] valid_rmse : 0.7038357853889465\n",
      "[INFO 39:59] valid_loss : 0.9404233694076538\n"
     ]
    },
    {
     "name": "stderr",
     "output_type": "stream",
     "text": [
      "  3%|▎         | 3/100 [01:25<46:02, 28.48s/it]"
     ]
    },
    {
     "name": "stdout",
     "output_type": "stream",
     "text": [
      "[INFO 40:00] ----- User batch : 0\n",
      "[INFO 40:04] ----- User batch : 1\n",
      "[INFO 40:09] ----- User batch : 2\n",
      "[INFO 40:13] ----- User batch : 3\n",
      "[INFO 40:16] ----- User batch : 4\n",
      "[INFO 40:18] - meta_params gn: [0.023712946102023125, 0.027630455791950226]\n",
      "[INFO 40:18] - cross_cond gn: [0.028927676379680634, 0.0005983815644867718]\n",
      "[INFO 40:18] - meta_lambda gn: 0.4420178234577179\n",
      "[INFO 40:18] - learning_users_emb gn: 29.623186111450195\n",
      "[INFO 40:18] - meta_params norm: [37.86347198486328, 80.47789001464844]\n",
      "[INFO 40:18] - cross_cond norm: [30.98394203186035, 80.48707580566406]\n",
      "[INFO 40:18] - meta_lambda norm: 10.379328727722168\n",
      "[INFO 40:18] - learning_users_emb norm: 0.1137290745973587\n",
      "[INFO 40:18] - meta_params: 0.5\n",
      "[INFO 40:18] - cross_cond: 0.5\n",
      "[INFO 40:18] - meta_lambda: 0.5\n",
      "[INFO 40:18] - learning_users_emb: 0.001\n",
      "[INFO 40:23] rmse : 0.5461282730102539\n",
      "[INFO 40:23] valid_rmse : 0.6983737349510193\n",
      "[INFO 40:23] valid_loss : 0.9391557574272156\n"
     ]
    },
    {
     "name": "stderr",
     "output_type": "stream",
     "text": [
      "  4%|▍         | 4/100 [01:50<42:47, 26.75s/it]"
     ]
    },
    {
     "name": "stdout",
     "output_type": "stream",
     "text": [
      "[INFO 40:23] ----- User batch : 0\n",
      "[INFO 40:27] ----- User batch : 1\n",
      "[INFO 40:30] ----- User batch : 2\n",
      "[INFO 40:34] ----- User batch : 3\n",
      "[INFO 40:37] ----- User batch : 4\n",
      "[INFO 40:39] - meta_params gn: [0.01755233108997345, 0.020029304549098015]\n",
      "[INFO 40:39] - cross_cond gn: [0.023937983438372612, 0.021598726511001587]\n",
      "[INFO 40:39] - meta_lambda gn: 0.5485761761665344\n",
      "[INFO 40:39] - learning_users_emb gn: 28.6158390045166\n",
      "[INFO 40:39] - meta_params norm: [39.01088333129883, 80.59967041015625]\n",
      "[INFO 40:39] - cross_cond norm: [30.784008026123047, 80.43265533447266]\n",
      "[INFO 40:39] - meta_lambda norm: 10.348990440368652\n",
      "[INFO 40:39] - learning_users_emb norm: 0.11064457893371582\n",
      "[INFO 40:39] - meta_params: 0.25\n",
      "[INFO 40:39] - cross_cond: 0.25\n",
      "[INFO 40:39] - meta_lambda: 0.25\n",
      "[INFO 40:39] - learning_users_emb: 0.0005\n",
      "[INFO 40:46] rmse : 0.5387800931930542\n",
      "[INFO 40:46] valid_rmse : 0.688977062702179\n",
      "[INFO 40:46] valid_loss : 0.9371819496154785\n"
     ]
    },
    {
     "name": "stderr",
     "output_type": "stream",
     "text": [
      "  5%|▌         | 5/100 [02:12<40:05, 25.32s/it]"
     ]
    },
    {
     "name": "stdout",
     "output_type": "stream",
     "text": [
      "[INFO 40:46] ----- User batch : 0\n",
      "[INFO 40:51] ----- User batch : 1\n",
      "[INFO 40:55] ----- User batch : 2\n",
      "[INFO 40:59] ----- User batch : 3\n",
      "[INFO 41:02] ----- User batch : 4\n",
      "[INFO 41:04] - meta_params gn: [0.01640622690320015, 0.018805120140314102]\n",
      "[INFO 41:04] - cross_cond gn: [0.04959545284509659, 0.026239272207021713]\n",
      "[INFO 41:04] - meta_lambda gn: 0.9505797624588013\n",
      "[INFO 41:04] - learning_users_emb gn: 28.481916427612305\n",
      "[INFO 41:04] - meta_params norm: [39.55333709716797, 80.66039276123047]\n",
      "[INFO 41:04] - cross_cond norm: [30.68909454345703, 80.40628051757812]\n",
      "[INFO 41:04] - meta_lambda norm: 10.389687538146973\n",
      "[INFO 41:04] - learning_users_emb norm: 0.10914898663759232\n",
      "[INFO 41:04] - meta_params: 0.25\n",
      "[INFO 41:04] - cross_cond: 0.25\n",
      "[INFO 41:04] - meta_lambda: 0.25\n",
      "[INFO 41:04] - learning_users_emb: 0.0005\n",
      "[INFO 41:08] rmse : 0.5445750951766968\n",
      "[INFO 41:08] valid_rmse : 0.6963875889778137\n",
      "[INFO 41:08] valid_loss : 0.9385075569152832\n"
     ]
    },
    {
     "name": "stderr",
     "output_type": "stream",
     "text": [
      "  6%|▌         | 6/100 [02:35<38:01, 24.28s/it]"
     ]
    },
    {
     "name": "stdout",
     "output_type": "stream",
     "text": [
      "[INFO 41:08] ----- User batch : 0\n",
      "[INFO 41:11] ----- User batch : 1\n",
      "[INFO 41:14] ----- User batch : 2\n",
      "[INFO 41:18] ----- User batch : 3\n",
      "[INFO 41:20] ----- User batch : 4\n",
      "[INFO 41:22] - meta_params gn: [0.0201511699706316, 0.021893858909606934]\n",
      "[INFO 41:22] - cross_cond gn: [0.027552016079425812, 0.00488246139138937]\n",
      "[INFO 41:22] - meta_lambda gn: 0.7436620593070984\n",
      "[INFO 41:22] - learning_users_emb gn: 28.505815505981445\n",
      "[INFO 41:22] - meta_params norm: [40.08254623413086, 80.72074127197266]\n",
      "[INFO 41:22] - cross_cond norm: [30.632015228271484, 80.3881607055664]\n",
      "[INFO 41:22] - meta_lambda norm: 10.491320610046387\n",
      "[INFO 41:22] - learning_users_emb norm: 0.10763655602931976\n",
      "[INFO 41:22] - meta_params: 0.25\n",
      "[INFO 41:22] - cross_cond: 0.25\n",
      "[INFO 41:22] - meta_lambda: 0.25\n",
      "[INFO 41:22] - learning_users_emb: 0.0005\n",
      "[INFO 41:27] rmse : 0.5389650464057922\n",
      "[INFO 41:27] valid_rmse : 0.6892135739326477\n",
      "[INFO 41:27] valid_loss : 0.9374994039535522\n"
     ]
    },
    {
     "name": "stderr",
     "output_type": "stream",
     "text": [
      "  7%|▋         | 7/100 [02:53<34:44, 22.41s/it]"
     ]
    },
    {
     "name": "stdout",
     "output_type": "stream",
     "text": [
      "[INFO 41:27] ----- User batch : 0\n",
      "[INFO 41:30] ----- User batch : 1\n",
      "[INFO 41:33] ----- User batch : 2\n",
      "[INFO 41:36] ----- User batch : 3\n",
      "[INFO 41:39] ----- User batch : 4\n",
      "[INFO 41:41] - meta_params gn: [0.01961643062531948, 0.020713508129119873]\n",
      "[INFO 41:41] - cross_cond gn: [0.021687401458621025, 0.03794148936867714]\n",
      "[INFO 41:41] - meta_lambda gn: 0.4097687900066376\n",
      "[INFO 41:41] - learning_users_emb gn: 27.65847396850586\n",
      "[INFO 41:41] - meta_params norm: [40.593360900878906, 80.78177642822266]\n",
      "[INFO 41:41] - cross_cond norm: [30.593507766723633, 80.37164306640625]\n",
      "[INFO 41:41] - meta_lambda norm: 10.623160362243652\n",
      "[INFO 41:41] - learning_users_emb norm: 0.10612118989229202\n",
      "[INFO 41:41] - meta_params: 0.25\n",
      "[INFO 41:41] - cross_cond: 0.25\n",
      "[INFO 41:41] - meta_lambda: 0.25\n",
      "[INFO 41:41] - learning_users_emb: 0.0005\n",
      "[INFO 41:45] rmse : 0.5431091785430908\n",
      "[INFO 41:45] valid_rmse : 0.6945130228996277\n",
      "[INFO 41:45] valid_loss : 0.938230574131012\n"
     ]
    },
    {
     "name": "stderr",
     "output_type": "stream",
     "text": [
      "  8%|▊         | 8/100 [03:12<32:27, 21.17s/it]"
     ]
    },
    {
     "name": "stdout",
     "output_type": "stream",
     "text": [
      "[INFO 41:46] ----- User batch : 0\n",
      "[INFO 41:49] ----- User batch : 1\n",
      "[INFO 41:52] ----- User batch : 2\n",
      "[INFO 41:55] ----- User batch : 3\n",
      "[INFO 41:58] ----- User batch : 4\n",
      "[INFO 42:00] - meta_params gn: [0.015759527683258057, 0.01208220049738884]\n",
      "[INFO 42:00] - cross_cond gn: [0.042020283639431, 0.0017581349238753319]\n",
      "[INFO 42:00] - meta_lambda gn: 0.6257372498512268\n",
      "[INFO 42:00] - learning_users_emb gn: 28.249755859375\n",
      "[INFO 42:00] - meta_params norm: [41.07867431640625, 80.84326934814453]\n",
      "[INFO 42:00] - cross_cond norm: [30.551223754882812, 80.35171508789062]\n",
      "[INFO 42:00] - meta_lambda norm: 10.763259887695312\n",
      "[INFO 42:00] - learning_users_emb norm: 0.10461311042308807\n",
      "[INFO 42:00] - meta_params: 0.125\n",
      "[INFO 42:00] - cross_cond: 0.125\n",
      "[INFO 42:00] - meta_lambda: 0.125\n",
      "[INFO 42:00] - learning_users_emb: 0.00025\n",
      "[INFO 42:04] rmse : 0.5454892516136169\n",
      "[INFO 42:04] valid_rmse : 0.6975565552711487\n",
      "[INFO 42:04] valid_loss : 0.9400844573974609\n"
     ]
    },
    {
     "name": "stderr",
     "output_type": "stream",
     "text": [
      "  9%|▉         | 9/100 [03:31<31:06, 20.51s/it]"
     ]
    },
    {
     "name": "stdout",
     "output_type": "stream",
     "text": [
      "[INFO 42:05] ----- User batch : 0\n",
      "[INFO 42:08] ----- User batch : 1\n",
      "[INFO 42:11] ----- User batch : 2\n",
      "[INFO 42:14] ----- User batch : 3\n",
      "[INFO 42:17] ----- User batch : 4\n",
      "[INFO 42:19] - meta_params gn: [0.02585929073393345, 0.029598187655210495]\n",
      "[INFO 42:19] - cross_cond gn: [0.04269691929221153, 0.04742439463734627]\n",
      "[INFO 42:19] - meta_lambda gn: 0.14858189225196838\n",
      "[INFO 42:19] - learning_users_emb gn: 25.637313842773438\n",
      "[INFO 42:19] - meta_params norm: [41.302886962890625, 80.87303924560547]\n",
      "[INFO 42:19] - cross_cond norm: [30.54765510559082, 80.34303283691406]\n",
      "[INFO 42:19] - meta_lambda norm: 10.841374397277832\n",
      "[INFO 42:19] - learning_users_emb norm: 0.10386373102664948\n",
      "[INFO 42:19] - meta_params: 0.125\n",
      "[INFO 42:19] - cross_cond: 0.125\n",
      "[INFO 42:19] - meta_lambda: 0.125\n",
      "[INFO 42:19] - learning_users_emb: 0.00025\n",
      "[INFO 42:23] rmse : 0.5347887277603149\n",
      "[INFO 42:23] valid_rmse : 0.6838730573654175\n",
      "[INFO 42:23] valid_loss : 0.9352608323097229\n"
     ]
    },
    {
     "name": "stderr",
     "output_type": "stream",
     "text": [
      " 10%|█         | 10/100 [03:50<30:04, 20.05s/it]"
     ]
    },
    {
     "name": "stdout",
     "output_type": "stream",
     "text": [
      "[INFO 42:24] ----- User batch : 0\n",
      "[INFO 42:27] ----- User batch : 1\n",
      "[INFO 42:30] ----- User batch : 2\n",
      "[INFO 42:33] ----- User batch : 3\n",
      "[INFO 42:36] ----- User batch : 4\n",
      "[INFO 42:38] - meta_params gn: [0.01705106347799301, 0.019814884290099144]\n",
      "[INFO 42:38] - cross_cond gn: [0.042523037642240524, 0.04143374040722847]\n",
      "[INFO 42:38] - meta_lambda gn: 0.06138013303279877\n",
      "[INFO 42:38] - learning_users_emb gn: 26.645099639892578\n",
      "[INFO 42:38] - meta_params norm: [41.527610778808594, 80.90394592285156]\n",
      "[INFO 42:38] - cross_cond norm: [30.53732681274414, 80.33216094970703]\n",
      "[INFO 42:38] - meta_lambda norm: 10.906427383422852\n",
      "[INFO 42:38] - learning_users_emb norm: 0.10312969982624054\n",
      "[INFO 42:38] - meta_params: 0.125\n",
      "[INFO 42:38] - cross_cond: 0.125\n",
      "[INFO 42:38] - meta_lambda: 0.125\n",
      "[INFO 42:38] - learning_users_emb: 0.00025\n",
      "[INFO 42:42] rmse : 0.5556252598762512\n",
      "[INFO 42:42] valid_rmse : 0.7105182409286499\n",
      "[INFO 42:42] valid_loss : 0.9408674836158752\n"
     ]
    },
    {
     "name": "stderr",
     "output_type": "stream",
     "text": [
      " 11%|█         | 11/100 [04:08<29:06, 19.63s/it]"
     ]
    },
    {
     "name": "stdout",
     "output_type": "stream",
     "text": [
      "[INFO 42:42] ----- User batch : 0\n",
      "[INFO 42:45] ----- User batch : 1\n",
      "[INFO 42:49] ----- User batch : 2\n",
      "[INFO 42:52] ----- User batch : 3\n",
      "[INFO 42:55] ----- User batch : 4\n",
      "[INFO 42:56] - meta_params gn: [0.013171838596463203, 0.010077666491270065]\n",
      "[INFO 42:56] - cross_cond gn: [0.036571960896253586, 0.01758713275194168]\n",
      "[INFO 42:56] - meta_lambda gn: 0.8327600955963135\n",
      "[INFO 42:56] - learning_users_emb gn: 26.823097229003906\n",
      "[INFO 42:56] - meta_params norm: [41.75166702270508, 80.93490600585938]\n",
      "[INFO 42:56] - cross_cond norm: [30.530187606811523, 80.31978607177734]\n",
      "[INFO 42:56] - meta_lambda norm: 10.962860107421875\n",
      "[INFO 42:56] - learning_users_emb norm: 0.1023973822593689\n",
      "[INFO 42:56] - meta_params: 0.125\n",
      "[INFO 42:56] - cross_cond: 0.125\n",
      "[INFO 42:56] - meta_lambda: 0.125\n",
      "[INFO 42:56] - learning_users_emb: 0.00025\n",
      "[INFO 43:01] rmse : 0.5469487309455872\n",
      "[INFO 43:01] valid_rmse : 0.6994228959083557\n",
      "[INFO 43:01] valid_loss : 0.9370625615119934\n"
     ]
    },
    {
     "name": "stderr",
     "output_type": "stream",
     "text": [
      " 12%|█▏        | 12/100 [04:27<28:24, 19.37s/it]"
     ]
    },
    {
     "name": "stdout",
     "output_type": "stream",
     "text": [
      "[INFO 43:01] ----- User batch : 0\n",
      "[INFO 43:04] ----- User batch : 1\n",
      "[INFO 43:07] ----- User batch : 2\n",
      "[INFO 43:10] ----- User batch : 3\n",
      "[INFO 43:13] ----- User batch : 4\n",
      "[INFO 43:15] - meta_params gn: [0.022083578631281853, 0.022216694429516792]\n",
      "[INFO 43:15] - cross_cond gn: [0.027977146208286285, 0.03203728795051575]\n",
      "[INFO 43:15] - meta_lambda gn: 0.14670781791210175\n",
      "[INFO 43:15] - learning_users_emb gn: 26.151641845703125\n",
      "[INFO 43:15] - meta_params norm: [41.95956039428711, 80.96463012695312]\n",
      "[INFO 43:15] - cross_cond norm: [30.544780731201172, 80.30994415283203]\n",
      "[INFO 43:15] - meta_lambda norm: 11.032745361328125\n",
      "[INFO 43:15] - learning_users_emb norm: 0.10166281461715698\n",
      "[INFO 43:15] - meta_params: 0.125\n",
      "[INFO 43:15] - cross_cond: 0.125\n",
      "[INFO 43:15] - meta_lambda: 0.125\n",
      "[INFO 43:15] - learning_users_emb: 0.00025\n",
      "[INFO 43:20] rmse : 0.5402576923370361\n",
      "[INFO 43:20] valid_rmse : 0.6908665895462036\n",
      "[INFO 43:20] valid_loss : 0.9370879530906677\n"
     ]
    },
    {
     "name": "stderr",
     "output_type": "stream",
     "text": [
      " 13%|█▎        | 13/100 [04:46<27:50, 19.20s/it]"
     ]
    },
    {
     "name": "stdout",
     "output_type": "stream",
     "text": [
      "[INFO 43:20] ----- User batch : 0\n",
      "[INFO 43:23] ----- User batch : 1\n",
      "[INFO 43:26] ----- User batch : 2\n",
      "[INFO 43:29] ----- User batch : 3\n",
      "[INFO 43:32] ----- User batch : 4\n",
      "[INFO 43:34] - meta_params gn: [0.017959028482437134, 0.0239793062210083]\n",
      "[INFO 43:34] - cross_cond gn: [0.03688908740878105, 0.03187110275030136]\n",
      "[INFO 43:34] - meta_lambda gn: 0.10092559456825256\n",
      "[INFO 43:34] - learning_users_emb gn: 27.119779586791992\n",
      "[INFO 43:34] - meta_params norm: [42.163177490234375, 80.99491882324219]\n",
      "[INFO 43:34] - cross_cond norm: [30.548206329345703, 80.29902648925781]\n",
      "[INFO 43:34] - meta_lambda norm: 11.099652290344238\n",
      "[INFO 43:34] - learning_users_emb norm: 0.10093725472688675\n",
      "[INFO 43:34] - meta_params: 0.0625\n",
      "[INFO 43:34] - cross_cond: 0.0625\n",
      "[INFO 43:34] - meta_lambda: 0.0625\n",
      "[INFO 43:34] - learning_users_emb: 0.000125\n",
      "[INFO 43:38] rmse : 0.5484043955802917\n",
      "[INFO 43:38] valid_rmse : 0.7012844085693359\n",
      "[INFO 43:38] valid_loss : 0.940704882144928\n"
     ]
    },
    {
     "name": "stderr",
     "output_type": "stream",
     "text": [
      " 14%|█▍        | 14/100 [05:05<27:18, 19.05s/it]"
     ]
    },
    {
     "name": "stdout",
     "output_type": "stream",
     "text": [
      "[INFO 43:39] ----- User batch : 0\n",
      "[INFO 43:42] ----- User batch : 1\n",
      "[INFO 43:45] ----- User batch : 2\n",
      "[INFO 43:48] ----- User batch : 3\n",
      "[INFO 43:51] ----- User batch : 4\n",
      "[INFO 43:53] - meta_params gn: [0.025675712153315544, 0.02275986224412918]\n",
      "[INFO 43:53] - cross_cond gn: [0.03446391597390175, 0.09225776046514511]\n",
      "[INFO 43:53] - meta_lambda gn: 0.01104002259671688\n",
      "[INFO 43:53] - learning_users_emb gn: 25.986858367919922\n",
      "[INFO 43:53] - meta_params norm: [42.27120590209961, 81.01038360595703]\n",
      "[INFO 43:53] - cross_cond norm: [30.55020523071289, 80.29310607910156]\n",
      "[INFO 43:53] - meta_lambda norm: 11.131237983703613\n",
      "[INFO 43:53] - learning_users_emb norm: 0.10057450085878372\n",
      "[INFO 43:53] - meta_params: 0.0625\n",
      "[INFO 43:53] - cross_cond: 0.0625\n",
      "[INFO 43:53] - meta_lambda: 0.0625\n",
      "[INFO 43:53] - learning_users_emb: 0.000125\n",
      "[INFO 43:58] rmse : 0.5464019179344177\n",
      "[INFO 43:58] valid_rmse : 0.6987236738204956\n",
      "[INFO 43:58] valid_loss : 0.9378672242164612\n"
     ]
    },
    {
     "name": "stderr",
     "output_type": "stream",
     "text": [
      " 15%|█▌        | 15/100 [05:24<27:06, 19.14s/it]"
     ]
    },
    {
     "name": "stdout",
     "output_type": "stream",
     "text": [
      "[INFO 43:58] ----- User batch : 0\n",
      "[INFO 44:01] ----- User batch : 1\n",
      "[INFO 44:04] ----- User batch : 2\n",
      "[INFO 44:07] ----- User batch : 3\n",
      "[INFO 44:10] ----- User batch : 4\n",
      "[INFO 44:12] - meta_params gn: [0.018861670047044754, 0.021349305287003517]\n",
      "[INFO 44:12] - cross_cond gn: [0.04272133857011795, 0.07197854667901993]\n",
      "[INFO 44:12] - meta_lambda gn: 0.2097739726305008\n",
      "[INFO 44:12] - learning_users_emb gn: 25.738067626953125\n",
      "[INFO 44:12] - meta_params norm: [42.376075744628906, 81.02606201171875]\n",
      "[INFO 44:12] - cross_cond norm: [30.539424896240234, 80.28536987304688]\n",
      "[INFO 44:12] - meta_lambda norm: 11.159667015075684\n",
      "[INFO 44:12] - learning_users_emb norm: 0.10021265596151352\n",
      "[INFO 44:12] - meta_params: 0.0625\n",
      "[INFO 44:12] - cross_cond: 0.0625\n",
      "[INFO 44:12] - meta_lambda: 0.0625\n",
      "[INFO 44:12] - learning_users_emb: 0.000125\n",
      "[INFO 44:16] rmse : 0.5421910285949707\n",
      "[INFO 44:16] valid_rmse : 0.6933388710021973\n",
      "[INFO 44:16] valid_loss : 0.9375832676887512\n"
     ]
    },
    {
     "name": "stderr",
     "output_type": "stream",
     "text": [
      " 16%|█▌        | 16/100 [05:43<26:37, 19.02s/it]"
     ]
    },
    {
     "name": "stdout",
     "output_type": "stream",
     "text": [
      "[INFO 44:17] ----- User batch : 0\n",
      "[INFO 44:20] ----- User batch : 1\n",
      "[INFO 44:23] ----- User batch : 2\n",
      "[INFO 44:26] ----- User batch : 3\n",
      "[INFO 44:29] ----- User batch : 4\n",
      "[INFO 44:31] - meta_params gn: [0.017537469044327736, 0.0107814846560359]\n",
      "[INFO 44:31] - cross_cond gn: [0.041867516934871674, 0.07805761694908142]\n",
      "[INFO 44:31] - meta_lambda gn: 0.022614426910877228\n",
      "[INFO 44:31] - learning_users_emb gn: 27.65772819519043\n",
      "[INFO 44:31] - meta_params norm: [42.48078918457031, 81.04183959960938]\n",
      "[INFO 44:31] - cross_cond norm: [30.52083396911621, 80.27658081054688]\n",
      "[INFO 44:31] - meta_lambda norm: 11.182385444641113\n",
      "[INFO 44:31] - learning_users_emb norm: 0.09985421597957611\n",
      "[INFO 44:31] - meta_params: 0.03125\n",
      "[INFO 44:31] - cross_cond: 0.03125\n",
      "[INFO 44:31] - meta_lambda: 0.03125\n",
      "[INFO 44:31] - learning_users_emb: 6.25e-05\n",
      "[INFO 44:35] rmse : 0.5376692414283752\n",
      "[INFO 44:35] valid_rmse : 0.6875565648078918\n",
      "[INFO 44:35] valid_loss : 0.9364577531814575\n"
     ]
    },
    {
     "name": "stderr",
     "output_type": "stream",
     "text": [
      " 17%|█▋        | 17/100 [06:02<26:15, 18.98s/it]"
     ]
    },
    {
     "name": "stdout",
     "output_type": "stream",
     "text": [
      "[INFO 44:36] ----- User batch : 0\n",
      "[INFO 44:38] ----- User batch : 1\n",
      "[INFO 44:42] ----- User batch : 2\n",
      "[INFO 44:45] ----- User batch : 3\n",
      "[INFO 44:48] ----- User batch : 4\n",
      "[INFO 44:50] - meta_params gn: [0.016004471108317375, 0.015555564314126968]\n",
      "[INFO 44:50] - cross_cond gn: [0.03824596852064133, 0.06261267513036728]\n",
      "[INFO 44:50] - meta_lambda gn: 0.07214386016130447\n",
      "[INFO 44:50] - learning_users_emb gn: 28.644662857055664\n",
      "[INFO 44:50] - meta_params norm: [42.52986145019531, 81.04945373535156]\n",
      "[INFO 44:50] - cross_cond norm: [30.510154724121094, 80.27169799804688]\n",
      "[INFO 44:50] - meta_lambda norm: 11.192850112915039\n",
      "[INFO 44:50] - learning_users_emb norm: 0.09967343509197235\n",
      "[INFO 44:50] - meta_params: 0.03125\n",
      "[INFO 44:50] - cross_cond: 0.03125\n",
      "[INFO 44:50] - meta_lambda: 0.03125\n",
      "[INFO 44:50] - learning_users_emb: 6.25e-05\n",
      "[INFO 44:54] rmse : 0.5472220182418823\n",
      "[INFO 44:54] valid_rmse : 0.6997724175453186\n",
      "[INFO 44:54] valid_loss : 0.9397059082984924\n"
     ]
    },
    {
     "name": "stderr",
     "output_type": "stream",
     "text": [
      " 18%|█▊        | 18/100 [06:20<25:49, 18.90s/it]"
     ]
    },
    {
     "name": "stdout",
     "output_type": "stream",
     "text": [
      "[INFO 44:54] ----- User batch : 0\n",
      "[INFO 44:57] ----- User batch : 1\n",
      "[INFO 45:01] ----- User batch : 2\n",
      "[INFO 45:03] ----- User batch : 3\n",
      "[INFO 45:07] ----- User batch : 4\n",
      "[INFO 45:09] - meta_params gn: [0.014622111804783344, 0.01571159064769745]\n",
      "[INFO 45:09] - cross_cond gn: [0.02524549886584282, 0.024415699765086174]\n",
      "[INFO 45:09] - meta_lambda gn: 0.5002716779708862\n",
      "[INFO 45:09] - learning_users_emb gn: 29.377702713012695\n",
      "[INFO 45:09] - meta_params norm: [42.57761001586914, 81.05696868896484]\n",
      "[INFO 45:09] - cross_cond norm: [30.500194549560547, 80.26653289794922]\n",
      "[INFO 45:09] - meta_lambda norm: 11.202858924865723\n",
      "[INFO 45:09] - learning_users_emb norm: 0.09949392080307007\n",
      "[INFO 45:09] - meta_params: 0.03125\n",
      "[INFO 45:09] - cross_cond: 0.03125\n",
      "[INFO 45:09] - meta_lambda: 0.03125\n",
      "[INFO 45:09] - learning_users_emb: 6.25e-05\n",
      "[INFO 45:13] rmse : 0.5499467849731445\n",
      "[INFO 45:13] valid_rmse : 0.7032567262649536\n",
      "[INFO 45:13] valid_loss : 0.9395681023597717\n"
     ]
    },
    {
     "name": "stderr",
     "output_type": "stream",
     "text": [
      " 19%|█▉        | 19/100 [06:39<25:32, 18.92s/it]"
     ]
    },
    {
     "name": "stdout",
     "output_type": "stream",
     "text": [
      "[INFO 45:13] ----- User batch : 0\n",
      "[INFO 45:16] ----- User batch : 1\n",
      "[INFO 45:19] ----- User batch : 2\n",
      "[INFO 45:22] ----- User batch : 3\n",
      "[INFO 45:25] ----- User batch : 4\n",
      "[INFO 45:27] - meta_params gn: [0.02050151862204075, 0.021927235648036003]\n",
      "[INFO 45:27] - cross_cond gn: [0.04629475995898247, 0.04494571313261986]\n",
      "[INFO 45:27] - meta_lambda gn: 0.4967758059501648\n",
      "[INFO 45:27] - learning_users_emb gn: 25.501995086669922\n",
      "[INFO 45:27] - meta_params norm: [42.62514877319336, 81.06442260742188]\n",
      "[INFO 45:27] - cross_cond norm: [30.489776611328125, 80.26152801513672]\n",
      "[INFO 45:27] - meta_lambda norm: 11.215217590332031\n",
      "[INFO 45:27] - learning_users_emb norm: 0.09931628406047821\n",
      "[INFO 45:27] - meta_params: 0.015625\n",
      "[INFO 45:27] - cross_cond: 0.015625\n",
      "[INFO 45:27] - meta_lambda: 0.015625\n",
      "[INFO 45:27] - learning_users_emb: 3.125e-05\n",
      "[INFO 45:32] rmse : 0.5432926416397095\n",
      "[INFO 45:32] valid_rmse : 0.6947476267814636\n",
      "[INFO 45:32] valid_loss : 0.9353345036506653\n"
     ]
    },
    {
     "name": "stderr",
     "output_type": "stream",
     "text": [
      " 20%|██        | 20/100 [06:58<25:07, 18.84s/it]"
     ]
    },
    {
     "name": "stdout",
     "output_type": "stream",
     "text": [
      "[INFO 45:32] ----- User batch : 0\n",
      "[INFO 45:35] ----- User batch : 1\n",
      "[INFO 45:38] ----- User batch : 2\n",
      "[INFO 45:41] ----- User batch : 3\n",
      "[INFO 45:44] ----- User batch : 4\n",
      "[INFO 45:46] - meta_params gn: [0.015770016238093376, 0.015954647213220596]\n",
      "[INFO 45:46] - cross_cond gn: [0.03386063128709793, 0.05956621468067169]\n",
      "[INFO 45:46] - meta_lambda gn: 0.1742648482322693\n",
      "[INFO 45:46] - learning_users_emb gn: 29.905759811401367\n",
      "[INFO 45:46] - meta_params norm: [42.64896774291992, 81.0682144165039]\n",
      "[INFO 45:46] - cross_cond norm: [30.485994338989258, 80.25898742675781]\n",
      "[INFO 45:46] - meta_lambda norm: 11.222414016723633\n",
      "[INFO 45:46] - learning_users_emb norm: 0.09922739863395691\n",
      "[INFO 45:46] - meta_params: 0.015625\n",
      "[INFO 45:46] - cross_cond: 0.015625\n",
      "[INFO 45:46] - meta_lambda: 0.015625\n",
      "[INFO 45:46] - learning_users_emb: 3.125e-05\n",
      "[INFO 45:51] rmse : 0.5398886799812317\n",
      "[INFO 45:51] valid_rmse : 0.6903946995735168\n",
      "[INFO 45:51] valid_loss : 0.9358610510826111\n"
     ]
    },
    {
     "name": "stderr",
     "output_type": "stream",
     "text": [
      " 21%|██        | 21/100 [07:17<24:55, 18.93s/it]"
     ]
    },
    {
     "name": "stdout",
     "output_type": "stream",
     "text": [
      "[INFO 45:51] ----- User batch : 0\n",
      "[INFO 45:54] ----- User batch : 1\n",
      "[INFO 45:57] ----- User batch : 2\n",
      "[INFO 46:00] ----- User batch : 3\n",
      "[INFO 46:03] ----- User batch : 4\n",
      "[INFO 46:05] - meta_params gn: [0.023240096867084503, 0.02641800418496132]\n",
      "[INFO 46:05] - cross_cond gn: [0.05104954168200493, 0.12001156806945801]\n",
      "[INFO 46:05] - meta_lambda gn: 0.20176151394844055\n",
      "[INFO 46:05] - learning_users_emb gn: 27.627222061157227\n",
      "[INFO 46:05] - meta_params norm: [42.67280578613281, 81.07197570800781]\n",
      "[INFO 46:05] - cross_cond norm: [30.48200035095215, 80.2563247680664]\n",
      "[INFO 46:05] - meta_lambda norm: 11.229547500610352\n",
      "[INFO 46:05] - learning_users_emb norm: 0.09913909435272217\n",
      "[INFO 46:05] - meta_params: 0.015625\n",
      "[INFO 46:05] - cross_cond: 0.015625\n",
      "[INFO 46:05] - meta_lambda: 0.015625\n",
      "[INFO 46:05] - learning_users_emb: 3.125e-05\n",
      "[INFO 46:10] rmse : 0.5441174507141113\n",
      "[INFO 46:10] valid_rmse : 0.6958023309707642\n",
      "[INFO 46:10] valid_loss : 0.9376614093780518\n"
     ]
    },
    {
     "name": "stderr",
     "output_type": "stream",
     "text": [
      " 22%|██▏       | 22/100 [07:36<24:36, 18.93s/it]"
     ]
    },
    {
     "name": "stdout",
     "output_type": "stream",
     "text": [
      "[INFO 46:10] ----- User batch : 0\n",
      "[INFO 46:13] ----- User batch : 1\n",
      "[INFO 46:16] ----- User batch : 2\n",
      "[INFO 46:20] ----- User batch : 3\n",
      "[INFO 46:24] ----- User batch : 4\n",
      "[INFO 46:27] - meta_params gn: [0.0176507867872715, 0.005910174921154976]\n",
      "[INFO 46:27] - cross_cond gn: [0.044050779193639755, 0.07485629618167877]\n",
      "[INFO 46:27] - meta_lambda gn: 1.5381999015808105\n",
      "[INFO 46:27] - learning_users_emb gn: 26.253978729248047\n",
      "[INFO 46:27] - meta_params norm: [42.69754409790039, 81.07585906982422]\n",
      "[INFO 46:27] - cross_cond norm: [30.475919723510742, 80.25334930419922]\n",
      "[INFO 46:27] - meta_lambda norm: 11.235310554504395\n",
      "[INFO 46:27] - learning_users_emb norm: 0.0990501120686531\n",
      "[INFO 46:27] - meta_params: 0.0078125\n",
      "[INFO 46:27] - cross_cond: 0.0078125\n",
      "[INFO 46:27] - meta_lambda: 0.0078125\n",
      "[INFO 46:27] - learning_users_emb: 1.5625e-05\n",
      "[INFO 46:33] rmse : 0.5427420735359192\n",
      "[INFO 46:33] valid_rmse : 0.6940435767173767\n",
      "[INFO 46:33] valid_loss : 0.9358425140380859\n"
     ]
    },
    {
     "name": "stderr",
     "output_type": "stream",
     "text": [
      " 23%|██▎       | 23/100 [07:59<25:54, 20.19s/it]"
     ]
    },
    {
     "name": "stdout",
     "output_type": "stream",
     "text": [
      "[INFO 46:33] ----- User batch : 0\n",
      "[INFO 46:37] ----- User batch : 1\n",
      "[INFO 46:42] ----- User batch : 2\n",
      "[INFO 46:46] ----- User batch : 3\n",
      "[INFO 46:48] ----- User batch : 4\n",
      "[INFO 46:50] - meta_params gn: [0.01475615706294775, 0.010606136173009872]\n",
      "[INFO 46:50] - cross_cond gn: [0.027218347415328026, 0.051729846745729446]\n",
      "[INFO 46:50] - meta_lambda gn: 0.5165433287620544\n",
      "[INFO 46:50] - learning_users_emb gn: 31.172746658325195\n",
      "[INFO 46:50] - meta_params norm: [42.709495544433594, 81.07769012451172]\n",
      "[INFO 46:50] - cross_cond norm: [30.47304916381836, 80.25181579589844]\n",
      "[INFO 46:50] - meta_lambda norm: 11.236095428466797\n",
      "[INFO 46:50] - learning_users_emb norm: 0.09900565445423126\n",
      "[INFO 46:50] - meta_params: 0.0078125\n",
      "[INFO 46:50] - cross_cond: 0.0078125\n",
      "[INFO 46:50] - meta_lambda: 0.0078125\n",
      "[INFO 46:50] - learning_users_emb: 1.5625e-05\n",
      "[INFO 46:55] rmse : 0.5504900813102722\n",
      "[INFO 46:55] valid_rmse : 0.7039514780044556\n",
      "[INFO 46:55] valid_loss : 0.9393255710601807\n"
     ]
    },
    {
     "name": "stderr",
     "output_type": "stream",
     "text": [
      " 24%|██▍       | 24/100 [08:21<26:17, 20.75s/it]"
     ]
    },
    {
     "name": "stdout",
     "output_type": "stream",
     "text": [
      "[INFO 46:55] ----- User batch : 0\n",
      "[INFO 46:58] ----- User batch : 1\n",
      "[INFO 47:01] ----- User batch : 2\n",
      "[INFO 47:05] ----- User batch : 3\n",
      "[INFO 47:08] ----- User batch : 4\n",
      "[INFO 47:10] - meta_params gn: [0.01579756662249565, 0.009695776738226414]\n",
      "[INFO 47:10] - cross_cond gn: [0.026000546291470528, 0.05483224242925644]\n",
      "[INFO 47:10] - meta_lambda gn: 0.39393433928489685\n",
      "[INFO 47:10] - learning_users_emb gn: 27.441003799438477\n",
      "[INFO 47:10] - meta_params norm: [42.720611572265625, 81.07946014404297]\n",
      "[INFO 47:10] - cross_cond norm: [30.47028160095215, 80.25028228759766]\n",
      "[INFO 47:10] - meta_lambda norm: 11.237627029418945\n",
      "[INFO 47:10] - learning_users_emb norm: 0.09896112233400345\n",
      "[INFO 47:10] - meta_params: 0.0078125\n",
      "[INFO 47:10] - cross_cond: 0.0078125\n",
      "[INFO 47:10] - meta_lambda: 0.0078125\n",
      "[INFO 47:10] - learning_users_emb: 1.5625e-05\n",
      "[INFO 47:15] rmse : 0.5440258383750916\n",
      "[INFO 47:15] valid_rmse : 0.6956852078437805\n",
      "[INFO 47:15] valid_loss : 0.9391859769821167\n"
     ]
    },
    {
     "name": "stderr",
     "output_type": "stream",
     "text": [
      " 25%|██▌       | 25/100 [08:42<25:46, 20.63s/it]"
     ]
    },
    {
     "name": "stdout",
     "output_type": "stream",
     "text": [
      "[INFO 47:15] ----- User batch : 0\n",
      "[INFO 47:19] ----- User batch : 1\n",
      "[INFO 47:22] ----- User batch : 2\n",
      "[INFO 47:25] ----- User batch : 3\n",
      "[INFO 47:30] ----- User batch : 4\n",
      "[INFO 47:32] - meta_params gn: [0.01815369538962841, 0.018502287566661835]\n",
      "[INFO 47:32] - cross_cond gn: [0.03913039341568947, 0.10668684542179108]\n",
      "[INFO 47:32] - meta_lambda gn: 0.1674669086933136\n",
      "[INFO 47:32] - learning_users_emb gn: 27.576297760009766\n",
      "[INFO 47:32] - meta_params norm: [42.73105239868164, 81.0811767578125]\n",
      "[INFO 47:32] - cross_cond norm: [30.467084884643555, 80.24873352050781]\n",
      "[INFO 47:32] - meta_lambda norm: 11.239639282226562\n",
      "[INFO 47:32] - learning_users_emb norm: 0.09891679883003235\n",
      "[INFO 47:32] - meta_params: 0.00390625\n",
      "[INFO 47:32] - cross_cond: 0.00390625\n",
      "[INFO 47:32] - meta_lambda: 0.00390625\n",
      "[INFO 47:32] - learning_users_emb: 7.8125e-06\n",
      "[INFO 47:37] rmse : 0.5403499603271484\n",
      "[INFO 47:37] valid_rmse : 0.6909846067428589\n",
      "[INFO 47:37] valid_loss : 0.9362689852714539\n"
     ]
    },
    {
     "name": "stderr",
     "output_type": "stream",
     "text": [
      " 26%|██▌       | 26/100 [09:03<25:41, 20.83s/it]"
     ]
    },
    {
     "name": "stdout",
     "output_type": "stream",
     "text": [
      "[INFO 47:37] ----- User batch : 0\n",
      "[INFO 47:40] ----- User batch : 1\n",
      "[INFO 47:43] ----- User batch : 2\n",
      "[INFO 47:46] ----- User batch : 3\n",
      "[INFO 47:49] ----- User batch : 4\n",
      "[INFO 47:51] - meta_params gn: [0.020458051934838295, 0.019527330994606018]\n",
      "[INFO 47:51] - cross_cond gn: [0.03147698938846588, 0.0025723245926201344]\n",
      "[INFO 47:51] - meta_lambda gn: 0.7069312334060669\n",
      "[INFO 47:51] - learning_users_emb gn: 27.368934631347656\n",
      "[INFO 47:51] - meta_params norm: [42.7363395690918, 81.08204650878906]\n",
      "[INFO 47:51] - cross_cond norm: [30.46498680114746, 80.24790954589844]\n",
      "[INFO 47:51] - meta_lambda norm: 11.24041748046875\n",
      "[INFO 47:51] - learning_users_emb norm: 0.09889455884695053\n",
      "[INFO 47:51] - meta_params: 0.00390625\n",
      "[INFO 47:51] - cross_cond: 0.00390625\n",
      "[INFO 47:51] - meta_lambda: 0.00390625\n",
      "[INFO 47:51] - learning_users_emb: 7.8125e-06\n",
      "[INFO 47:56] rmse : 0.5422828793525696\n",
      "[INFO 47:56] valid_rmse : 0.6934563517570496\n",
      "[INFO 47:56] valid_loss : 0.9376652836799622\n"
     ]
    },
    {
     "name": "stderr",
     "output_type": "stream",
     "text": [
      " 27%|██▋       | 27/100 [09:22<24:40, 20.27s/it]"
     ]
    },
    {
     "name": "stdout",
     "output_type": "stream",
     "text": [
      "[INFO 47:56] ----- User batch : 0\n",
      "[INFO 47:59] ----- User batch : 1\n",
      "[INFO 48:02] ----- User batch : 2\n",
      "[INFO 48:05] ----- User batch : 3\n",
      "[INFO 48:08] ----- User batch : 4\n",
      "[INFO 48:10] - meta_params gn: [0.015871653333306313, 0.01438796054571867]\n",
      "[INFO 48:10] - cross_cond gn: [0.029186300933361053, 0.047886189073324203]\n",
      "[INFO 48:10] - meta_lambda gn: 0.08285749703645706\n",
      "[INFO 48:10] - learning_users_emb gn: 24.247499465942383\n",
      "[INFO 48:10] - meta_params norm: [42.74162292480469, 81.08293914794922]\n",
      "[INFO 48:10] - cross_cond norm: [30.463224411010742, 80.24716186523438]\n",
      "[INFO 48:10] - meta_lambda norm: 11.241662979125977\n",
      "[INFO 48:10] - learning_users_emb norm: 0.09887241572141647\n",
      "[INFO 48:10] - meta_params: 0.00390625\n",
      "[INFO 48:10] - cross_cond: 0.00390625\n",
      "[INFO 48:10] - meta_lambda: 0.00390625\n",
      "[INFO 48:10] - learning_users_emb: 7.8125e-06\n",
      "[INFO 48:15] rmse : 0.5382249355316162\n",
      "[INFO 48:15] valid_rmse : 0.688267171382904\n",
      "[INFO 48:15] valid_loss : 0.9338356256484985\n"
     ]
    },
    {
     "name": "stderr",
     "output_type": "stream",
     "text": [
      " 28%|██▊       | 28/100 [09:41<23:55, 19.93s/it]"
     ]
    },
    {
     "name": "stdout",
     "output_type": "stream",
     "text": [
      "[INFO 48:15] ----- User batch : 0\n",
      "[INFO 48:18] ----- User batch : 1\n",
      "[INFO 48:21] ----- User batch : 2\n",
      "[INFO 48:24] ----- User batch : 3\n",
      "[INFO 48:27] ----- User batch : 4\n",
      "[INFO 48:29] - meta_params gn: [0.03638964518904686, 0.02432173863053322]\n",
      "[INFO 48:29] - cross_cond gn: [0.05190076678991318, 0.1196364089846611]\n",
      "[INFO 48:29] - meta_lambda gn: 0.8018491268157959\n",
      "[INFO 48:29] - learning_users_emb gn: 28.492013931274414\n",
      "[INFO 48:29] - meta_params norm: [42.746795654296875, 81.08382415771484]\n",
      "[INFO 48:29] - cross_cond norm: [30.461130142211914, 80.24642181396484]\n",
      "[INFO 48:29] - meta_lambda norm: 11.242863655090332\n",
      "[INFO 48:29] - learning_users_emb norm: 0.09885018318891525\n",
      "[INFO 48:29] - meta_params: 0.00390625\n",
      "[INFO 48:29] - cross_cond: 0.00390625\n",
      "[INFO 48:29] - meta_lambda: 0.00390625\n",
      "[INFO 48:29] - learning_users_emb: 7.8125e-06\n",
      "[INFO 48:34] rmse : 0.5359055995941162\n",
      "[INFO 48:34] valid_rmse : 0.6853012442588806\n",
      "[INFO 48:34] valid_loss : 0.9359877109527588\n"
     ]
    },
    {
     "name": "stderr",
     "output_type": "stream",
     "text": [
      " 29%|██▉       | 29/100 [10:00<23:18, 19.69s/it]"
     ]
    },
    {
     "name": "stdout",
     "output_type": "stream",
     "text": [
      "[INFO 48:34] ----- User batch : 0\n",
      "[INFO 48:37] ----- User batch : 1\n",
      "[INFO 48:40] ----- User batch : 2\n",
      "[INFO 48:44] ----- User batch : 3\n",
      "[INFO 48:47] ----- User batch : 4\n",
      "[INFO 48:49] - meta_params gn: [0.017445309087634087, 0.016455091536045074]\n",
      "[INFO 48:49] - cross_cond gn: [0.022621063515543938, 0.05311064422130585]\n",
      "[INFO 48:49] - meta_lambda gn: 0.08843137323856354\n",
      "[INFO 48:49] - learning_users_emb gn: 27.61710548400879\n",
      "[INFO 48:49] - meta_params norm: [42.751888275146484, 81.08473205566406]\n",
      "[INFO 48:49] - cross_cond norm: [30.458105087280273, 80.24561309814453]\n",
      "[INFO 48:49] - meta_lambda norm: 11.243287086486816\n",
      "[INFO 48:49] - learning_users_emb norm: 0.09882801026105881\n",
      "[INFO 48:49] - meta_params: 0.00390625\n",
      "[INFO 48:49] - cross_cond: 0.00390625\n",
      "[INFO 48:49] - meta_lambda: 0.00390625\n",
      "[INFO 48:49] - learning_users_emb: 7.8125e-06\n",
      "[INFO 48:55] rmse : 0.5442090034484863\n",
      "[INFO 48:55] valid_rmse : 0.6959194540977478\n",
      "[INFO 48:55] valid_loss : 0.9379234313964844\n"
     ]
    },
    {
     "name": "stderr",
     "output_type": "stream",
     "text": [
      " 29%|██▉       | 29/100 [10:21<25:21, 21.43s/it]"
     ]
    },
    {
     "name": "stdout",
     "output_type": "stream",
     "text": [
      "[INFO 48:55] -- END Training --\n",
      "[INFO 48:55] train on cuda\n"
     ]
    },
    {
     "name": "stderr",
     "output_type": "stream",
     "text": [
      "\n",
      "100%|██████████| 6/6 [00:04<00:00,  1.32it/s]\n"
     ]
    },
    {
     "name": "stdout",
     "output_type": "stream",
     "text": [
      "[INFO 49:05] ({0: {'mi_acc': 0.6921773552894592}, 1: {'mi_acc': 0.6917787790298462}, 2: {'mi_acc': 0.6956651210784912}, 3: {'mi_acc': 0.6956651210784912}, 4: {'mi_acc': 0.7011459469795227}, 5: {'mi_acc': 0.7012456059455872}}, {0: {'meta_doa': 0.53188928737275}, 1: {'meta_doa': 0.557330235019339}, 2: {'meta_doa': 0.5872005357851973}, 3: {'meta_doa': 0.614925825417725}, 4: {'meta_doa': 0.6429254791597345}, 5: {'meta_doa': 0.6627757848988324}})\n",
      "[INFO 49:05] 0.11817899263910915\n"
     ]
    }
   ],
   "source": [
    "meta_trainers = ['GAP']\n",
    "for meta_trainer in meta_trainers : \n",
    "    config['meta_trainer'] = meta_trainer\n",
    "    logging.info(f'#### meta_trainer : {config[\"meta_trainer\"]} ####')\n",
    "    for i_fold in range(1,2) : \n",
    "        config['i_fold'] = i_fold\n",
    "            \n",
    "        logging.info(f'#### i_fold : {i_fold} ####')\n",
    "        ## Dataframe columns : (user_id, question_id, response, category_id)\n",
    "        train_df = pd.read_csv(\n",
    "            f'../datasets/2-preprocessed_data/{config[\"dataset_name\"]}_train_{i_fold}.csv',\n",
    "            encoding='utf-8', dtype={'student_id': int, 'item_id': int, \"correct\": float,\n",
    "                                                                    \"dimension_id\": int})\n",
    "        valid_df = pd.read_csv(\n",
    "            f'../datasets/2-preprocessed_data/{config[\"dataset_name\"]}_valid_{i_fold}.csv',\n",
    "            encoding='utf-8', dtype={'student_id': int, 'item_id': int, \"correct\": float,\n",
    "                                                                    \"dimension_id\": int})\n",
    "        test_df = pd.read_csv(\n",
    "            f'../datasets/2-preprocessed_data/{config[\"dataset_name\"]}_test_{i_fold}.csv',\n",
    "            encoding='utf-8', dtype={'student_id': int, 'item_id': int, \"correct\": float,\n",
    "                                                                    \"dimension_id\": int})\n",
    "\n",
    "        train_data = liriscat.dataset.CATDataset(train_df, concept_map, metadata, config,nb_modalities)\n",
    "        valid_data = liriscat.dataset.EvalDataset(valid_df, concept_map, metadata, config,nb_modalities)\n",
    "        test_data = liriscat.dataset.EvalDataset(test_df, concept_map, metadata, config,nb_modalities)\n",
    "\n",
    "        for seed in range(1) :\n",
    "            config['seed'] = seed\n",
    "            logging.info(f'#### seed : {seed} ####')\n",
    "\n",
    "            train_data.reset_rng()\n",
    "            valid_data.reset_rng()\n",
    "            test_data.reset_rng()\n",
    "\n",
    "            S = liriscat.selectionStrategy.Random(metadata,**config)\n",
    "            S.init_models(train_data, valid_data)\n",
    "            S.train(train_data, valid_data)\n",
    "            liriscat.utils.set_seed(0)\n",
    "            S.reset_rng()\n",
    "            d = (S.evaluate_test(test_data, train_data, valid_data))\n",
    "            logging.info(d)\n",
    "            logging.info(liriscat.utils.pareto_index(d))\n",
    "\n",
    "    torch.cuda.empty_cache()"
   ]
  },
  {
   "cell_type": "code",
   "execution_count": null,
   "id": "6e9d20cf",
   "metadata": {},
   "outputs": [
    {
     "name": "stdout",
     "output_type": "stream",
     "text": [
      "[INFO 47:13] #### seed : 0 ####\n",
      "[INFO 47:13] Random_cont_model\n",
      "[INFO 47:13] compiling CDM model\n",
      "[INFO 47:13] compiling selection model\n",
      "[INFO 47:13] ------- START Training\n",
      "[INFO 47:13] train on cuda\n"
     ]
    },
    {
     "name": "stderr",
     "output_type": "stream",
     "text": [
      "/home/arthur/liriscat/liriscat/selectionStrategy/random.py:30: UserWarning: get_params() Notimplemented\n",
      "  warnings.warn('get_params() Notimplemented')\n",
      "  0%|          | 0/100 [00:00<?, ?it/s]"
     ]
    },
    {
     "name": "stdout",
     "output_type": "stream",
     "text": [
      "[INFO 47:14] ----- User batch : 0\n",
      "[INFO 47:19] ----- User batch : 1\n",
      "[INFO 47:22] ----- User batch : 2\n",
      "[INFO 47:25] ----- User batch : 3\n",
      "[INFO 47:28] ----- User batch : 4\n",
      "[INFO 47:30] - meta_params gn: [0.031223371624946594, 0.035650260746479034]\n",
      "[INFO 47:30] - cross_cond gn: [0.06907379627227783, 0.16024543344974518]\n",
      "[INFO 47:30] - meta_lambda gn: 0.957507312297821\n",
      "[INFO 47:30] - learning_users_emb gn: 26.643220901489258\n",
      "[INFO 47:30] - meta_params norm: [34.032470703125, 80.113525390625]\n",
      "[INFO 47:30] - cross_cond norm: [33.01451110839844, 80.7965087890625]\n",
      "[INFO 47:30] - meta_lambda norm: 11.515698432922363\n",
      "[INFO 47:30] - learning_users_emb norm: 0.12323136627674103\n",
      "[INFO 47:30] - meta_params: 0.5\n",
      "[INFO 47:30] - cross_cond: 0.5\n",
      "[INFO 47:30] - meta_lambda: 0.5\n",
      "[INFO 47:30] - learning_users_emb: 0.005\n",
      "[INFO 47:37] rmse : 0.5411791801452637\n",
      "[INFO 47:37] valid_rmse : 0.6920449733734131\n",
      "[INFO 47:37] valid_loss : 0.9378431439399719\n"
     ]
    },
    {
     "name": "stderr",
     "output_type": "stream",
     "text": [
      "  1%|          | 1/100 [00:23<38:18, 23.22s/it]"
     ]
    },
    {
     "name": "stdout",
     "output_type": "stream",
     "text": [
      "[INFO 47:37] ----- User batch : 0\n",
      "[INFO 47:40] ----- User batch : 1\n",
      "[INFO 47:44] ----- User batch : 2\n",
      "[INFO 47:47] ----- User batch : 3\n",
      "[INFO 47:50] ----- User batch : 4\n",
      "[INFO 47:53] - meta_params gn: [0.021900063380599022, 0.02990972064435482]\n",
      "[INFO 47:53] - cross_cond gn: [0.03406094014644623, 0.08404725044965744]\n",
      "[INFO 47:53] - meta_lambda gn: 0.22097423672676086\n",
      "[INFO 47:53] - learning_users_emb gn: 26.895105361938477\n",
      "[INFO 47:53] - meta_params norm: [35.243019104003906, 80.23528289794922]\n",
      "[INFO 47:53] - cross_cond norm: [32.145660400390625, 80.67011260986328]\n",
      "[INFO 47:53] - meta_lambda norm: 11.016040802001953\n",
      "[INFO 47:53] - learning_users_emb norm: 0.10807743668556213\n",
      "[INFO 47:53] - meta_params: 0.5\n",
      "[INFO 47:53] - cross_cond: 0.5\n",
      "[INFO 47:53] - meta_lambda: 0.5\n",
      "[INFO 47:53] - learning_users_emb: 0.005\n",
      "[INFO 47:57] rmse : 0.5478590130805969\n",
      "[INFO 47:57] valid_rmse : 0.7005869746208191\n",
      "[INFO 47:57] valid_loss : 0.9383183121681213\n"
     ]
    },
    {
     "name": "stderr",
     "output_type": "stream",
     "text": [
      "  2%|▏         | 2/100 [00:43<35:27, 21.71s/it]"
     ]
    },
    {
     "name": "stdout",
     "output_type": "stream",
     "text": [
      "[INFO 47:58] ----- User batch : 0\n",
      "[INFO 48:01] ----- User batch : 1\n",
      "[INFO 48:04] ----- User batch : 2\n",
      "[INFO 48:08] ----- User batch : 3\n",
      "[INFO 48:11] ----- User batch : 4\n",
      "[INFO 48:13] - meta_params gn: [0.0195015836507082, 7.622948032803833e-05]\n",
      "[INFO 48:13] - cross_cond gn: [0.05679643154144287, 0.03759816661477089]\n",
      "[INFO 48:13] - meta_lambda gn: 1.1540411710739136\n",
      "[INFO 48:13] - learning_users_emb gn: 27.950519561767578\n",
      "[INFO 48:13] - meta_params norm: [36.50043869018555, 80.35860443115234]\n",
      "[INFO 48:13] - cross_cond norm: [31.36208724975586, 80.55415344238281]\n",
      "[INFO 48:13] - meta_lambda norm: 10.606280326843262\n",
      "[INFO 48:13] - learning_users_emb norm: 0.09309451282024384\n",
      "[INFO 48:13] - meta_params: 0.5\n",
      "[INFO 48:13] - cross_cond: 0.5\n",
      "[INFO 48:13] - meta_lambda: 0.5\n",
      "[INFO 48:13] - learning_users_emb: 0.005\n",
      "[INFO 48:18] rmse : 0.5541886687278748\n",
      "[INFO 48:18] valid_rmse : 0.7086811661720276\n",
      "[INFO 48:18] valid_loss : 0.9402591586112976\n"
     ]
    },
    {
     "name": "stderr",
     "output_type": "stream",
     "text": [
      "  3%|▎         | 3/100 [01:04<34:17, 21.21s/it]"
     ]
    },
    {
     "name": "stdout",
     "output_type": "stream",
     "text": [
      "[INFO 48:18] ----- User batch : 0\n",
      "[INFO 48:21] ----- User batch : 1\n",
      "[INFO 48:25] ----- User batch : 2\n",
      "[INFO 48:28] ----- User batch : 3\n",
      "[INFO 48:32] ----- User batch : 4\n",
      "[INFO 48:33] - meta_params gn: [0.027090011164546013, 0.006185175385326147]\n",
      "[INFO 48:33] - cross_cond gn: [0.026225097477436066, 0.029920360073447227]\n",
      "[INFO 48:33] - meta_lambda gn: 1.0443519353866577\n",
      "[INFO 48:33] - learning_users_emb gn: 29.13902473449707\n",
      "[INFO 48:33] - meta_params norm: [37.24852752685547, 80.45526885986328]\n",
      "[INFO 48:33] - cross_cond norm: [30.966419219970703, 80.48379516601562]\n",
      "[INFO 48:33] - meta_lambda norm: 10.612096786499023\n",
      "[INFO 48:33] - learning_users_emb norm: 0.07924466580152512\n",
      "[INFO 48:33] - meta_params: 0.5\n",
      "[INFO 48:33] - cross_cond: 0.5\n",
      "[INFO 48:33] - meta_lambda: 0.5\n",
      "[INFO 48:33] - learning_users_emb: 0.005\n",
      "[INFO 48:38] rmse : 0.5536489486694336\n",
      "[INFO 48:38] valid_rmse : 0.7079909443855286\n",
      "[INFO 48:38] valid_loss : 0.9387885332107544\n"
     ]
    },
    {
     "name": "stderr",
     "output_type": "stream",
     "text": [
      "  4%|▍         | 4/100 [01:24<33:17, 20.81s/it]"
     ]
    },
    {
     "name": "stdout",
     "output_type": "stream",
     "text": [
      "[INFO 48:38] ----- User batch : 0\n",
      "[INFO 48:42] ----- User batch : 1\n",
      "[INFO 48:45] ----- User batch : 2\n",
      "[INFO 48:49] ----- User batch : 3\n",
      "[INFO 48:52] ----- User batch : 4\n",
      "[INFO 48:54] - meta_params gn: [0.02318291738629341, 0.006732730660587549]\n",
      "[INFO 48:54] - cross_cond gn: [0.02813449315726757, 0.0726531520485878]\n",
      "[INFO 48:54] - meta_lambda gn: 1.17837655544281\n",
      "[INFO 48:54] - learning_users_emb gn: 27.840227127075195\n",
      "[INFO 48:54] - meta_params norm: [37.7346076965332, 80.54452514648438]\n",
      "[INFO 48:54] - cross_cond norm: [30.682636260986328, 80.4166259765625]\n",
      "[INFO 48:54] - meta_lambda norm: 10.784682273864746\n",
      "[INFO 48:54] - learning_users_emb norm: 0.06767599284648895\n",
      "[INFO 48:54] - meta_params: 0.25\n",
      "[INFO 48:54] - cross_cond: 0.25\n",
      "[INFO 48:54] - meta_lambda: 0.25\n",
      "[INFO 48:54] - learning_users_emb: 0.0025\n",
      "[INFO 48:59] rmse : 0.5366488695144653\n",
      "[INFO 48:59] valid_rmse : 0.6862517595291138\n",
      "[INFO 48:59] valid_loss : 0.9364125728607178\n"
     ]
    },
    {
     "name": "stderr",
     "output_type": "stream",
     "text": [
      "  5%|▌         | 5/100 [01:45<32:50, 20.74s/it]"
     ]
    },
    {
     "name": "stdout",
     "output_type": "stream",
     "text": [
      "[INFO 48:59] ----- User batch : 0\n",
      "[INFO 49:03] ----- User batch : 1\n",
      "[INFO 49:07] ----- User batch : 2\n",
      "[INFO 49:10] ----- User batch : 3\n",
      "[INFO 49:13] ----- User batch : 4\n",
      "[INFO 49:16] - meta_params gn: [0.02017442137002945, 0.010101363062858582]\n",
      "[INFO 49:16] - cross_cond gn: [0.036033280193805695, 0.029596908017992973]\n",
      "[INFO 49:16] - meta_lambda gn: 1.579545497894287\n",
      "[INFO 49:16] - learning_users_emb gn: 27.537574768066406\n",
      "[INFO 49:16] - meta_params norm: [37.89311599731445, 80.57714080810547]\n",
      "[INFO 49:16] - cross_cond norm: [30.515573501586914, 80.37879180908203]\n",
      "[INFO 49:16] - meta_lambda norm: 10.916229248046875\n",
      "[INFO 49:16] - learning_users_emb norm: 0.06339995563030243\n",
      "[INFO 49:16] - meta_params: 0.25\n",
      "[INFO 49:16] - cross_cond: 0.25\n",
      "[INFO 49:16] - meta_lambda: 0.25\n",
      "[INFO 49:16] - learning_users_emb: 0.0025\n",
      "[INFO 49:20] rmse : 0.5444835424423218\n",
      "[INFO 49:20] valid_rmse : 0.6962705254554749\n",
      "[INFO 49:20] valid_loss : 0.9382559657096863\n"
     ]
    },
    {
     "name": "stderr",
     "output_type": "stream",
     "text": [
      "  6%|▌         | 6/100 [02:06<32:59, 21.06s/it]"
     ]
    },
    {
     "name": "stdout",
     "output_type": "stream",
     "text": [
      "[INFO 49:21] ----- User batch : 0\n",
      "[INFO 49:25] ----- User batch : 1\n",
      "[INFO 49:28] ----- User batch : 2\n",
      "[INFO 49:31] ----- User batch : 3\n",
      "[INFO 49:35] ----- User batch : 4\n",
      "[INFO 49:37] - meta_params gn: [0.02544458582997322, 0.014120594598352909]\n",
      "[INFO 49:37] - cross_cond gn: [0.027158301323652267, 0.06361999362707138]\n",
      "[INFO 49:37] - meta_lambda gn: 1.623219609260559\n",
      "[INFO 49:37] - learning_users_emb gn: 27.324817657470703\n",
      "[INFO 49:37] - meta_params norm: [38.00312423706055, 80.59766387939453]\n",
      "[INFO 49:37] - cross_cond norm: [30.357288360595703, 80.34233093261719]\n",
      "[INFO 49:37] - meta_lambda norm: 11.076119422912598\n",
      "[INFO 49:37] - learning_users_emb norm: 0.060003310441970825\n",
      "[INFO 49:37] - meta_params: 0.25\n",
      "[INFO 49:37] - cross_cond: 0.25\n",
      "[INFO 49:37] - meta_lambda: 0.25\n",
      "[INFO 49:37] - learning_users_emb: 0.0025\n",
      "[INFO 49:42] rmse : 0.5372984409332275\n",
      "[INFO 49:42] valid_rmse : 0.6870824098587036\n",
      "[INFO 49:42] valid_loss : 0.937058687210083\n"
     ]
    },
    {
     "name": "stderr",
     "output_type": "stream",
     "text": [
      "  7%|▋         | 7/100 [02:29<33:08, 21.38s/it]"
     ]
    },
    {
     "name": "stdout",
     "output_type": "stream",
     "text": [
      "[INFO 49:43] ----- User batch : 0\n",
      "[INFO 49:46] ----- User batch : 1\n",
      "[INFO 49:51] ----- User batch : 2\n",
      "[INFO 49:54] ----- User batch : 3\n",
      "[INFO 49:57] ----- User batch : 4\n",
      "[INFO 50:00] - meta_params gn: [0.029403863474726677, 0.018925772979855537]\n",
      "[INFO 50:00] - cross_cond gn: [0.03472437337040901, 0.0933331772685051]\n",
      "[INFO 50:00] - meta_lambda gn: 1.4145082235336304\n",
      "[INFO 50:00] - learning_users_emb gn: 26.103479385375977\n",
      "[INFO 50:00] - meta_params norm: [38.05699920654297, 80.605712890625]\n",
      "[INFO 50:00] - cross_cond norm: [30.189165115356445, 80.30338287353516]\n",
      "[INFO 50:00] - meta_lambda norm: 11.255342483520508\n",
      "[INFO 50:00] - learning_users_emb norm: 0.05780106782913208\n",
      "[INFO 50:00] - meta_params: 0.25\n",
      "[INFO 50:00] - cross_cond: 0.25\n",
      "[INFO 50:00] - meta_lambda: 0.25\n",
      "[INFO 50:00] - learning_users_emb: 0.0025\n",
      "[INFO 50:04] rmse : 0.5471309423446655\n",
      "[INFO 50:04] valid_rmse : 0.6996559500694275\n",
      "[INFO 50:04] valid_loss : 0.9382592439651489\n"
     ]
    },
    {
     "name": "stderr",
     "output_type": "stream",
     "text": [
      "  8%|▊         | 8/100 [02:50<33:03, 21.56s/it]"
     ]
    },
    {
     "name": "stdout",
     "output_type": "stream",
     "text": [
      "[INFO 50:05] ----- User batch : 0\n",
      "[INFO 50:08] ----- User batch : 1\n",
      "[INFO 50:12] ----- User batch : 2\n",
      "[INFO 50:15] ----- User batch : 3\n",
      "[INFO 50:18] ----- User batch : 4\n",
      "[INFO 50:20] - meta_params gn: [0.03171481564640999, 0.02956306003034115]\n",
      "[INFO 50:20] - cross_cond gn: [0.03944642096757889, 0.05148594453930855]\n",
      "[INFO 50:20] - meta_lambda gn: 1.6292845010757446\n",
      "[INFO 50:20] - learning_users_emb gn: 26.41627311706543\n",
      "[INFO 50:20] - meta_params norm: [38.050994873046875, 80.60108947753906]\n",
      "[INFO 50:20] - cross_cond norm: [29.996889114379883, 80.2607421875]\n",
      "[INFO 50:20] - meta_lambda norm: 11.44852066040039\n",
      "[INFO 50:20] - learning_users_emb norm: 0.0569358766078949\n",
      "[INFO 50:20] - meta_params: 0.125\n",
      "[INFO 50:20] - cross_cond: 0.125\n",
      "[INFO 50:20] - meta_lambda: 0.125\n",
      "[INFO 50:20] - learning_users_emb: 0.00125\n",
      "[INFO 50:25] rmse : 0.5469487309455872\n",
      "[INFO 50:25] valid_rmse : 0.6994228959083557\n",
      "[INFO 50:25] valid_loss : 0.9400650858879089\n"
     ]
    },
    {
     "name": "stderr",
     "output_type": "stream",
     "text": [
      "  9%|▉         | 9/100 [03:11<32:06, 21.17s/it]"
     ]
    },
    {
     "name": "stdout",
     "output_type": "stream",
     "text": [
      "[INFO 50:25] ----- User batch : 0\n",
      "[INFO 50:28] ----- User batch : 1\n",
      "[INFO 50:32] ----- User batch : 2\n",
      "[INFO 50:35] ----- User batch : 3\n",
      "[INFO 50:39] ----- User batch : 4\n",
      "[INFO 50:41] - meta_params gn: [0.030904430896043777, 0.015068799257278442]\n",
      "[INFO 50:41] - cross_cond gn: [0.0502563901245594, 0.11097971349954605]\n",
      "[INFO 50:41] - meta_lambda gn: 0.40094369649887085\n",
      "[INFO 50:41] - learning_users_emb gn: 23.316011428833008\n",
      "[INFO 50:41] - meta_params norm: [38.023807525634766, 80.5916748046875]\n",
      "[INFO 50:41] - cross_cond norm: [29.911224365234375, 80.23936462402344]\n",
      "[INFO 50:41] - meta_lambda norm: 11.55035400390625\n",
      "[INFO 50:41] - learning_users_emb norm: 0.05701315402984619\n",
      "[INFO 50:41] - meta_params: 0.125\n",
      "[INFO 50:41] - cross_cond: 0.125\n",
      "[INFO 50:41] - meta_lambda: 0.125\n",
      "[INFO 50:41] - learning_users_emb: 0.00125\n",
      "[INFO 50:46] rmse : 0.5337629318237305\n",
      "[INFO 50:46] valid_rmse : 0.6825612783432007\n",
      "[INFO 50:46] valid_loss : 0.9346349835395813\n"
     ]
    },
    {
     "name": "stderr",
     "output_type": "stream",
     "text": [
      " 10%|█         | 10/100 [03:32<31:40, 21.12s/it]"
     ]
    },
    {
     "name": "stdout",
     "output_type": "stream",
     "text": [
      "[INFO 50:46] ----- User batch : 0\n",
      "[INFO 50:49] ----- User batch : 1\n",
      "[INFO 50:53] ----- User batch : 2\n",
      "[INFO 50:56] ----- User batch : 3\n",
      "[INFO 51:00] ----- User batch : 4\n",
      "[INFO 51:02] - meta_params gn: [0.02629268355667591, 0.02635851874947548]\n",
      "[INFO 51:02] - cross_cond gn: [0.042923327535390854, 0.09014619141817093]\n",
      "[INFO 51:02] - meta_lambda gn: 1.1073718070983887\n",
      "[INFO 51:02] - learning_users_emb gn: 24.93195343017578\n",
      "[INFO 51:02] - meta_params norm: [37.99757766723633, 80.57980346679688]\n",
      "[INFO 51:02] - cross_cond norm: [29.807283401489258, 80.21632385253906]\n",
      "[INFO 51:02] - meta_lambda norm: 11.648857116699219\n",
      "[INFO 51:02] - learning_users_emb norm: 0.05744890868663788\n",
      "[INFO 51:02] - meta_params: 0.125\n",
      "[INFO 51:02] - cross_cond: 0.125\n",
      "[INFO 51:02] - meta_lambda: 0.125\n",
      "[INFO 51:02] - learning_users_emb: 0.00125\n",
      "[INFO 51:06] rmse : 0.5547277927398682\n",
      "[INFO 51:06] valid_rmse : 0.7093705534934998\n",
      "[INFO 51:06] valid_loss : 0.9411754608154297\n"
     ]
    },
    {
     "name": "stderr",
     "output_type": "stream",
     "text": [
      " 11%|█         | 11/100 [03:53<31:10, 21.02s/it]"
     ]
    },
    {
     "name": "stdout",
     "output_type": "stream",
     "text": [
      "[INFO 51:07] ----- User batch : 0\n",
      "[INFO 51:10] ----- User batch : 1\n",
      "[INFO 51:14] ----- User batch : 2\n",
      "[INFO 51:17] ----- User batch : 3\n",
      "[INFO 51:20] ----- User batch : 4\n",
      "[INFO 51:22] - meta_params gn: [0.027599627152085304, 0.02959165722131729]\n",
      "[INFO 51:22] - cross_cond gn: [0.029977701604366302, 0.032518018037080765]\n",
      "[INFO 51:22] - meta_lambda gn: 1.5785462856292725\n",
      "[INFO 51:22] - learning_users_emb gn: 24.38933563232422\n",
      "[INFO 51:22] - meta_params norm: [37.958106994628906, 80.56401062011719]\n",
      "[INFO 51:22] - cross_cond norm: [29.704450607299805, 80.19245910644531]\n",
      "[INFO 51:22] - meta_lambda norm: 11.752117156982422\n",
      "[INFO 51:22] - learning_users_emb norm: 0.0580461248755455\n",
      "[INFO 51:22] - meta_params: 0.125\n",
      "[INFO 51:22] - cross_cond: 0.125\n",
      "[INFO 51:22] - meta_lambda: 0.125\n",
      "[INFO 51:22] - learning_users_emb: 0.00125\n",
      "[INFO 51:27] rmse : 0.5497655272483826\n",
      "[INFO 51:27] valid_rmse : 0.7030249834060669\n",
      "[INFO 51:27] valid_loss : 0.9369425177574158\n"
     ]
    },
    {
     "name": "stderr",
     "output_type": "stream",
     "text": [
      " 12%|█▏        | 12/100 [04:13<30:25, 20.74s/it]"
     ]
    },
    {
     "name": "stdout",
     "output_type": "stream",
     "text": [
      "[INFO 51:27] ----- User batch : 0\n",
      "[INFO 51:30] ----- User batch : 1\n",
      "[INFO 51:35] ----- User batch : 2\n",
      "[INFO 51:38] ----- User batch : 3\n",
      "[INFO 51:42] ----- User batch : 4\n",
      "[INFO 51:44] - meta_params gn: [0.031438037753105164, 0.022720778360962868]\n",
      "[INFO 51:44] - cross_cond gn: [0.03213803097605705, 0.08258800208568573]\n",
      "[INFO 51:44] - meta_lambda gn: 1.125474214553833\n",
      "[INFO 51:44] - learning_users_emb gn: 23.43777084350586\n",
      "[INFO 51:44] - meta_params norm: [37.89949417114258, 80.54484558105469]\n",
      "[INFO 51:44] - cross_cond norm: [29.619178771972656, 80.16968536376953]\n",
      "[INFO 51:44] - meta_lambda norm: 11.85918140411377\n",
      "[INFO 51:44] - learning_users_emb norm: 0.058920349925756454\n",
      "[INFO 51:44] - meta_params: 0.125\n",
      "[INFO 51:44] - cross_cond: 0.125\n",
      "[INFO 51:44] - meta_lambda: 0.125\n",
      "[INFO 51:44] - learning_users_emb: 0.00125\n",
      "[INFO 51:49] rmse : 0.5412712693214417\n",
      "[INFO 51:49] valid_rmse : 0.6921627521514893\n",
      "[INFO 51:49] valid_loss : 0.937197208404541\n"
     ]
    },
    {
     "name": "stderr",
     "output_type": "stream",
     "text": [
      " 13%|█▎        | 13/100 [04:35<30:43, 21.18s/it]"
     ]
    },
    {
     "name": "stdout",
     "output_type": "stream",
     "text": [
      "[INFO 51:49] ----- User batch : 0\n",
      "[INFO 51:53] ----- User batch : 1\n",
      "[INFO 51:56] ----- User batch : 2\n",
      "[INFO 51:59] ----- User batch : 3\n",
      "[INFO 52:02] ----- User batch : 4\n",
      "[INFO 52:05] - meta_params gn: [0.024570124223828316, 0.02434377744793892]\n",
      "[INFO 52:05] - cross_cond gn: [0.03735992684960365, 0.07855430990457535]\n",
      "[INFO 52:05] - meta_lambda gn: 1.1832528114318848\n",
      "[INFO 52:05] - learning_users_emb gn: 24.173358917236328\n",
      "[INFO 52:05] - meta_params norm: [37.83980178833008, 80.52386474609375]\n",
      "[INFO 52:05] - cross_cond norm: [29.51993751525879, 80.14627838134766]\n",
      "[INFO 52:05] - meta_lambda norm: 11.96933650970459\n",
      "[INFO 52:05] - learning_users_emb norm: 0.06011401489377022\n",
      "[INFO 52:05] - meta_params: 0.0625\n",
      "[INFO 52:05] - cross_cond: 0.0625\n",
      "[INFO 52:05] - meta_lambda: 0.0625\n",
      "[INFO 52:05] - learning_users_emb: 0.000625\n",
      "[INFO 52:09] rmse : 0.5541886687278748\n",
      "[INFO 52:09] valid_rmse : 0.7086811661720276\n",
      "[INFO 52:09] valid_loss : 0.9413660168647766\n"
     ]
    },
    {
     "name": "stderr",
     "output_type": "stream",
     "text": [
      " 14%|█▍        | 14/100 [04:55<29:57, 20.90s/it]"
     ]
    },
    {
     "name": "stdout",
     "output_type": "stream",
     "text": [
      "[INFO 52:09] ----- User batch : 0\n",
      "[INFO 52:13] ----- User batch : 1\n",
      "[INFO 52:16] ----- User batch : 2\n",
      "[INFO 52:20] ----- User batch : 3\n",
      "[INFO 52:23] ----- User batch : 4\n",
      "[INFO 52:25] - meta_params gn: [0.031076837331056595, 0.024965792894363403]\n",
      "[INFO 52:25] - cross_cond gn: [0.04933926835656166, 0.13655290007591248]\n",
      "[INFO 52:25] - meta_lambda gn: 1.0732829570770264\n",
      "[INFO 52:25] - learning_users_emb gn: 23.023300170898438\n",
      "[INFO 52:25] - meta_params norm: [37.803382873535156, 80.51252746582031]\n",
      "[INFO 52:25] - cross_cond norm: [29.46834373474121, 80.13434600830078]\n",
      "[INFO 52:25] - meta_lambda norm: 12.02568531036377\n",
      "[INFO 52:25] - learning_users_emb norm: 0.06083265691995621\n",
      "[INFO 52:25] - meta_params: 0.0625\n",
      "[INFO 52:25] - cross_cond: 0.0625\n",
      "[INFO 52:25] - meta_lambda: 0.0625\n",
      "[INFO 52:25] - learning_users_emb: 0.000625\n",
      "[INFO 52:30] rmse : 0.5515751838684082\n",
      "[INFO 52:30] valid_rmse : 0.7053390741348267\n",
      "[INFO 52:30] valid_loss : 0.9377807974815369\n"
     ]
    },
    {
     "name": "stderr",
     "output_type": "stream",
     "text": [
      " 15%|█▌        | 15/100 [05:16<29:36, 20.90s/it]"
     ]
    },
    {
     "name": "stdout",
     "output_type": "stream",
     "text": [
      "[INFO 52:30] ----- User batch : 0\n",
      "[INFO 52:34] ----- User batch : 1\n",
      "[INFO 52:37] ----- User batch : 2\n",
      "[INFO 52:41] ----- User batch : 3\n",
      "[INFO 52:44] ----- User batch : 4\n",
      "[INFO 52:46] - meta_params gn: [0.026416854932904243, 0.02716572768986225]\n",
      "[INFO 52:46] - cross_cond gn: [0.04940185695886612, 0.11504895240068436]\n",
      "[INFO 52:46] - meta_lambda gn: 0.8886888027191162\n",
      "[INFO 52:46] - learning_users_emb gn: 22.49692153930664\n",
      "[INFO 52:46] - meta_params norm: [37.7646369934082, 80.5004653930664]\n",
      "[INFO 52:46] - cross_cond norm: [29.40558433532715, 80.12174224853516]\n",
      "[INFO 52:46] - meta_lambda norm: 12.083091735839844\n",
      "[INFO 52:46] - learning_users_emb norm: 0.06160251423716545\n",
      "[INFO 52:46] - meta_params: 0.0625\n",
      "[INFO 52:46] - cross_cond: 0.0625\n",
      "[INFO 52:46] - meta_lambda: 0.0625\n",
      "[INFO 52:46] - learning_users_emb: 0.000625\n",
      "[INFO 52:50] rmse : 0.5461282730102539\n",
      "[INFO 52:50] valid_rmse : 0.6983737349510193\n",
      "[INFO 52:50] valid_loss : 0.9374073147773743\n"
     ]
    },
    {
     "name": "stderr",
     "output_type": "stream",
     "text": [
      " 16%|█▌        | 16/100 [05:37<29:06, 20.79s/it]"
     ]
    },
    {
     "name": "stdout",
     "output_type": "stream",
     "text": [
      "[INFO 52:51] ----- User batch : 0\n",
      "[INFO 52:54] ----- User batch : 1\n",
      "[INFO 52:58] ----- User batch : 2\n",
      "[INFO 53:01] ----- User batch : 3\n",
      "[INFO 53:04] ----- User batch : 4\n",
      "[INFO 53:06] - meta_params gn: [0.03065725602209568, 0.03934578225016594]\n",
      "[INFO 53:06] - cross_cond gn: [0.051906768232584, 0.1220155581831932]\n",
      "[INFO 53:06] - meta_lambda gn: 1.151180624961853\n",
      "[INFO 53:06] - learning_users_emb gn: 24.643930435180664\n",
      "[INFO 53:06] - meta_params norm: [37.72174835205078, 80.4876937866211]\n",
      "[INFO 53:06] - cross_cond norm: [29.33643341064453, 80.1087646484375]\n",
      "[INFO 53:06] - meta_lambda norm: 12.140912055969238\n",
      "[INFO 53:06] - learning_users_emb norm: 0.062427014112472534\n",
      "[INFO 53:06] - meta_params: 0.03125\n",
      "[INFO 53:06] - cross_cond: 0.03125\n",
      "[INFO 53:06] - meta_lambda: 0.03125\n",
      "[INFO 53:06] - learning_users_emb: 0.0003125\n",
      "[INFO 53:11] rmse : 0.5420071482658386\n",
      "[INFO 53:11] valid_rmse : 0.6931037306785583\n",
      "[INFO 53:11] valid_loss : 0.9360045194625854\n"
     ]
    },
    {
     "name": "stderr",
     "output_type": "stream",
     "text": [
      " 17%|█▋        | 17/100 [05:57<28:43, 20.77s/it]"
     ]
    },
    {
     "name": "stdout",
     "output_type": "stream",
     "text": [
      "[INFO 53:12] ----- User batch : 0\n",
      "[INFO 53:15] ----- User batch : 1\n",
      "[INFO 53:18] ----- User batch : 2\n",
      "[INFO 53:22] ----- User batch : 3\n",
      "[INFO 53:25] ----- User batch : 4\n",
      "[INFO 53:27] - meta_params gn: [0.025678163394331932, 0.03289264440536499]\n",
      "[INFO 53:27] - cross_cond gn: [0.04640185460448265, 0.10553817451000214]\n",
      "[INFO 53:27] - meta_lambda gn: 1.0382099151611328\n",
      "[INFO 53:27] - learning_users_emb gn: 24.846445083618164\n",
      "[INFO 53:27] - meta_params norm: [37.695350646972656, 80.4808120727539]\n",
      "[INFO 53:27] - cross_cond norm: [29.300519943237305, 80.10209655761719]\n",
      "[INFO 53:27] - meta_lambda norm: 12.170241355895996\n",
      "[INFO 53:27] - learning_users_emb norm: 0.06285518407821655\n",
      "[INFO 53:27] - meta_params: 0.03125\n",
      "[INFO 53:27] - cross_cond: 0.03125\n",
      "[INFO 53:27] - meta_lambda: 0.03125\n",
      "[INFO 53:27] - learning_users_emb: 0.0003125\n",
      "[INFO 53:32] rmse : 0.5482226610183716\n",
      "[INFO 53:32] valid_rmse : 0.7010520100593567\n",
      "[INFO 53:32] valid_loss : 0.9398291707038879\n"
     ]
    },
    {
     "name": "stderr",
     "output_type": "stream",
     "text": [
      " 18%|█▊        | 18/100 [06:18<28:12, 20.64s/it]"
     ]
    },
    {
     "name": "stdout",
     "output_type": "stream",
     "text": [
      "[INFO 53:32] ----- User batch : 0\n",
      "[INFO 53:35] ----- User batch : 1\n",
      "[INFO 53:38] ----- User batch : 2\n",
      "[INFO 53:42] ----- User batch : 3\n",
      "[INFO 53:45] ----- User batch : 4\n",
      "[INFO 53:47] - meta_params gn: [0.026482339948415756, 0.027506502345204353]\n",
      "[INFO 53:47] - cross_cond gn: [0.030503885820508003, 0.06783751398324966]\n",
      "[INFO 53:47] - meta_lambda gn: 1.2041211128234863\n",
      "[INFO 53:47] - learning_users_emb gn: 25.646987915039062\n",
      "[INFO 53:47] - meta_params norm: [37.66464614868164, 80.47362518310547]\n",
      "[INFO 53:47] - cross_cond norm: [29.265426635742188, 80.0953369140625]\n",
      "[INFO 53:47] - meta_lambda norm: 12.199925422668457\n",
      "[INFO 53:47] - learning_users_emb norm: 0.06331521272659302\n",
      "[INFO 53:47] - meta_params: 0.03125\n",
      "[INFO 53:47] - cross_cond: 0.03125\n",
      "[INFO 53:47] - meta_lambda: 0.03125\n",
      "[INFO 53:47] - learning_users_emb: 0.0003125\n",
      "[INFO 53:52] rmse : 0.5575946569442749\n",
      "[INFO 53:52] valid_rmse : 0.7130366563796997\n",
      "[INFO 53:52] valid_loss : 0.939736545085907\n"
     ]
    },
    {
     "name": "stderr",
     "output_type": "stream",
     "text": [
      " 19%|█▉        | 19/100 [06:38<27:38, 20.48s/it]"
     ]
    },
    {
     "name": "stdout",
     "output_type": "stream",
     "text": [
      "[INFO 53:52] ----- User batch : 0\n",
      "[INFO 53:55] ----- User batch : 1\n",
      "[INFO 53:59] ----- User batch : 2\n",
      "[INFO 54:02] ----- User batch : 3\n",
      "[INFO 54:05] ----- User batch : 4\n",
      "[INFO 54:08] - meta_params gn: [0.02308845892548561, 0.01964830793440342]\n",
      "[INFO 54:08] - cross_cond gn: [0.04886434227228165, 0.09023799002170563]\n",
      "[INFO 54:08] - meta_lambda gn: 1.148927092552185\n",
      "[INFO 54:08] - learning_users_emb gn: 21.845638275146484\n",
      "[INFO 54:08] - meta_params norm: [37.63257598876953, 80.4662857055664]\n",
      "[INFO 54:08] - cross_cond norm: [29.229583740234375, 80.08869171142578]\n",
      "[INFO 54:08] - meta_lambda norm: 12.229912757873535\n",
      "[INFO 54:08] - learning_users_emb norm: 0.06379979848861694\n",
      "[INFO 54:08] - meta_params: 0.015625\n",
      "[INFO 54:08] - cross_cond: 0.015625\n",
      "[INFO 54:08] - meta_lambda: 0.015625\n",
      "[INFO 54:08] - learning_users_emb: 0.00015625\n",
      "[INFO 54:12] rmse : 0.5465842485427856\n",
      "[INFO 54:12] valid_rmse : 0.6989568471908569\n",
      "[INFO 54:12] valid_loss : 0.9344555139541626\n"
     ]
    },
    {
     "name": "stderr",
     "output_type": "stream",
     "text": [
      " 20%|██        | 20/100 [06:58<27:17, 20.47s/it]"
     ]
    },
    {
     "name": "stdout",
     "output_type": "stream",
     "text": [
      "[INFO 54:13] ----- User batch : 0\n",
      "[INFO 54:16] ----- User batch : 1\n",
      "[INFO 54:19] ----- User batch : 2\n",
      "[INFO 54:23] ----- User batch : 3\n",
      "[INFO 54:26] ----- User batch : 4\n",
      "[INFO 54:28] - meta_params gn: [0.03131561353802681, 0.04261120408773422]\n",
      "[INFO 54:28] - cross_cond gn: [0.03987068310379982, 0.09766962379217148]\n",
      "[INFO 54:28] - meta_lambda gn: 1.099112868309021\n",
      "[INFO 54:28] - learning_users_emb gn: 25.772968292236328\n",
      "[INFO 54:28] - meta_params norm: [37.61632537841797, 80.462646484375]\n",
      "[INFO 54:28] - cross_cond norm: [29.213159561157227, 80.08535766601562]\n",
      "[INFO 54:28] - meta_lambda norm: 12.245036125183105\n",
      "[INFO 54:28] - learning_users_emb norm: 0.06404516100883484\n",
      "[INFO 54:28] - meta_params: 0.015625\n",
      "[INFO 54:28] - cross_cond: 0.015625\n",
      "[INFO 54:28] - meta_lambda: 0.015625\n",
      "[INFO 54:28] - learning_users_emb: 0.00015625\n",
      "[INFO 54:33] rmse : 0.5490400195121765\n",
      "[INFO 54:33] valid_rmse : 0.7020971775054932\n",
      "[INFO 54:33] valid_loss : 0.9353601932525635\n"
     ]
    },
    {
     "name": "stderr",
     "output_type": "stream",
     "text": [
      " 21%|██        | 21/100 [07:19<26:57, 20.47s/it]"
     ]
    },
    {
     "name": "stdout",
     "output_type": "stream",
     "text": [
      "[INFO 54:33] ----- User batch : 0\n",
      "[INFO 54:36] ----- User batch : 1\n",
      "[INFO 54:40] ----- User batch : 2\n",
      "[INFO 54:43] ----- User batch : 3\n",
      "[INFO 54:47] ----- User batch : 4\n",
      "[INFO 54:49] - meta_params gn: [0.02710837498307228, 0.024249857291579247]\n",
      "[INFO 54:49] - cross_cond gn: [0.0650385171175003, 0.16257598996162415]\n",
      "[INFO 54:49] - meta_lambda gn: 0.9552116990089417\n",
      "[INFO 54:49] - learning_users_emb gn: 23.719371795654297\n",
      "[INFO 54:49] - meta_params norm: [37.599021911621094, 80.45881652832031]\n",
      "[INFO 54:49] - cross_cond norm: [29.196304321289062, 80.08199310302734]\n",
      "[INFO 54:49] - meta_lambda norm: 12.260271072387695\n",
      "[INFO 54:49] - learning_users_emb norm: 0.06430066376924515\n",
      "[INFO 54:49] - meta_params: 0.015625\n",
      "[INFO 54:49] - cross_cond: 0.015625\n",
      "[INFO 54:49] - meta_lambda: 0.015625\n",
      "[INFO 54:49] - learning_users_emb: 0.00015625\n",
      "[INFO 54:53] rmse : 0.541915237903595\n",
      "[INFO 54:53] valid_rmse : 0.692986249923706\n",
      "[INFO 54:53] valid_loss : 0.9372237324714661\n"
     ]
    },
    {
     "name": "stderr",
     "output_type": "stream",
     "text": [
      " 22%|██▏       | 22/100 [07:39<26:43, 20.56s/it]"
     ]
    },
    {
     "name": "stdout",
     "output_type": "stream",
     "text": [
      "[INFO 54:54] ----- User batch : 0\n",
      "[INFO 54:57] ----- User batch : 1\n",
      "[INFO 55:01] ----- User batch : 2\n",
      "[INFO 55:04] ----- User batch : 3\n",
      "[INFO 55:08] ----- User batch : 4\n",
      "[INFO 55:10] - meta_params gn: [0.03839992731809616, 0.056919023394584656]\n",
      "[INFO 55:10] - cross_cond gn: [0.05289871245622635, 0.12102308124303818]\n",
      "[INFO 55:10] - meta_lambda gn: 0.18749840557575226\n",
      "[INFO 55:10] - learning_users_emb gn: 22.439075469970703\n",
      "[INFO 55:10] - meta_params norm: [37.58169937133789, 80.45498657226562]\n",
      "[INFO 55:10] - cross_cond norm: [29.177927017211914, 80.07849884033203]\n",
      "[INFO 55:10] - meta_lambda norm: 12.275554656982422\n",
      "[INFO 55:10] - learning_users_emb norm: 0.06455940753221512\n",
      "[INFO 55:10] - meta_params: 0.015625\n",
      "[INFO 55:10] - cross_cond: 0.015625\n",
      "[INFO 55:10] - meta_lambda: 0.015625\n",
      "[INFO 55:10] - learning_users_emb: 0.00015625\n",
      "[INFO 55:14] rmse : 0.546219527721405\n",
      "[INFO 55:14] valid_rmse : 0.6984904408454895\n",
      "[INFO 55:14] valid_loss : 0.9351447224617004\n"
     ]
    },
    {
     "name": "stderr",
     "output_type": "stream",
     "text": [
      " 23%|██▎       | 23/100 [08:01<26:35, 20.72s/it]"
     ]
    },
    {
     "name": "stdout",
     "output_type": "stream",
     "text": [
      "[INFO 55:15] ----- User batch : 0\n",
      "[INFO 55:18] ----- User batch : 1\n",
      "[INFO 55:21] ----- User batch : 2\n",
      "[INFO 55:25] ----- User batch : 3\n",
      "[INFO 55:28] ----- User batch : 4\n",
      "[INFO 55:30] - meta_params gn: [0.030689772218465805, 0.03521152213215828]\n",
      "[INFO 55:30] - cross_cond gn: [0.03689299523830414, 0.09389038383960724]\n",
      "[INFO 55:30] - meta_lambda gn: 1.3017016649246216\n",
      "[INFO 55:30] - learning_users_emb gn: 26.910316467285156\n",
      "[INFO 55:30] - meta_params norm: [37.561763763427734, 80.45093536376953]\n",
      "[INFO 55:30] - cross_cond norm: [29.160154342651367, 80.07495880126953]\n",
      "[INFO 55:30] - meta_lambda norm: 12.289803504943848\n",
      "[INFO 55:30] - learning_users_emb norm: 0.06481765955686569\n",
      "[INFO 55:30] - meta_params: 0.0078125\n",
      "[INFO 55:30] - cross_cond: 0.0078125\n",
      "[INFO 55:30] - meta_lambda: 0.0078125\n",
      "[INFO 55:30] - learning_users_emb: 7.8125e-05\n",
      "[INFO 55:34] rmse : 0.5514848232269287\n",
      "[INFO 55:34] valid_rmse : 0.705223560333252\n",
      "[INFO 55:34] valid_loss : 0.9392861723899841\n"
     ]
    },
    {
     "name": "stderr",
     "output_type": "stream",
     "text": [
      " 24%|██▍       | 24/100 [08:21<25:58, 20.50s/it]"
     ]
    },
    {
     "name": "stdout",
     "output_type": "stream",
     "text": [
      "[INFO 55:35] ----- User batch : 0\n",
      "[INFO 55:38] ----- User batch : 1\n",
      "[INFO 55:41] ----- User batch : 2\n",
      "[INFO 55:44] ----- User batch : 3\n",
      "[INFO 55:47] ----- User batch : 4\n",
      "[INFO 55:49] - meta_params gn: [0.02695949375629425, 0.0336068719625473]\n",
      "[INFO 55:49] - cross_cond gn: [0.038152702152729034, 0.09568072110414505]\n",
      "[INFO 55:49] - meta_lambda gn: 1.1069536209106445\n",
      "[INFO 55:49] - learning_users_emb gn: 23.238346099853516\n",
      "[INFO 55:49] - meta_params norm: [37.551387786865234, 80.44888305664062]\n",
      "[INFO 55:49] - cross_cond norm: [29.15139389038086, 80.07319641113281]\n",
      "[INFO 55:49] - meta_lambda norm: 12.297042846679688\n",
      "[INFO 55:49] - learning_users_emb norm: 0.06495287269353867\n",
      "[INFO 55:49] - meta_params: 0.0078125\n",
      "[INFO 55:49] - cross_cond: 0.0078125\n",
      "[INFO 55:49] - meta_lambda: 0.0078125\n",
      "[INFO 55:49] - learning_users_emb: 7.8125e-05\n",
      "[INFO 55:54] rmse : 0.5470398664474487\n",
      "[INFO 55:54] valid_rmse : 0.6995394825935364\n",
      "[INFO 55:54] valid_loss : 0.9392069578170776\n"
     ]
    },
    {
     "name": "stderr",
     "output_type": "stream",
     "text": [
      " 25%|██▌       | 25/100 [08:41<25:26, 20.35s/it]"
     ]
    },
    {
     "name": "stdout",
     "output_type": "stream",
     "text": [
      "[INFO 55:55] ----- User batch : 0\n",
      "[INFO 55:58] ----- User batch : 1\n",
      "[INFO 56:01] ----- User batch : 2\n",
      "[INFO 56:05] ----- User batch : 3\n",
      "[INFO 56:08] ----- User batch : 4\n",
      "[INFO 56:10] - meta_params gn: [0.028267690911889076, 0.03295170143246651]\n",
      "[INFO 56:10] - cross_cond gn: [0.05211925134062767, 0.15281562507152557]\n",
      "[INFO 56:10] - meta_lambda gn: 0.9083133339881897\n",
      "[INFO 56:10] - learning_users_emb gn: 23.607179641723633\n",
      "[INFO 56:10] - meta_params norm: [37.540348052978516, 80.44680786132812]\n",
      "[INFO 56:10] - cross_cond norm: [29.142244338989258, 80.07144165039062]\n",
      "[INFO 56:10] - meta_lambda norm: 12.304381370544434\n",
      "[INFO 56:10] - learning_users_emb norm: 0.06509147584438324\n",
      "[INFO 56:10] - meta_params: 0.0078125\n",
      "[INFO 56:10] - cross_cond: 0.0078125\n",
      "[INFO 56:10] - meta_lambda: 0.0078125\n",
      "[INFO 56:10] - learning_users_emb: 7.8125e-05\n",
      "[INFO 56:15] rmse : 0.5471309423446655\n",
      "[INFO 56:15] valid_rmse : 0.6996559500694275\n",
      "[INFO 56:15] valid_loss : 0.9357285499572754\n"
     ]
    },
    {
     "name": "stderr",
     "output_type": "stream",
     "text": [
      " 26%|██▌       | 26/100 [09:01<25:15, 20.48s/it]"
     ]
    },
    {
     "name": "stdout",
     "output_type": "stream",
     "text": [
      "[INFO 56:15] ----- User batch : 0\n",
      "[INFO 56:19] ----- User batch : 1\n",
      "[INFO 56:22] ----- User batch : 2\n",
      "[INFO 56:25] ----- User batch : 3\n",
      "[INFO 56:28] ----- User batch : 4\n",
      "[INFO 56:30] - meta_params gn: [0.026655809953808784, 0.018906597048044205]\n",
      "[INFO 56:30] - cross_cond gn: [0.027066851034760475, 0.038650333881378174]\n",
      "[INFO 56:30] - meta_lambda gn: 1.16986882686615\n",
      "[INFO 56:30] - learning_users_emb gn: 23.060771942138672\n",
      "[INFO 56:30] - meta_params norm: [37.529056549072266, 80.44473266601562]\n",
      "[INFO 56:30] - cross_cond norm: [29.1322078704834, 80.06962585449219]\n",
      "[INFO 56:30] - meta_lambda norm: 12.31175422668457\n",
      "[INFO 56:30] - learning_users_emb norm: 0.06522936373949051\n",
      "[INFO 56:30] - meta_params: 0.00390625\n",
      "[INFO 56:30] - cross_cond: 0.00390625\n",
      "[INFO 56:30] - meta_lambda: 0.00390625\n",
      "[INFO 56:30] - learning_users_emb: 3.90625e-05\n",
      "[INFO 56:34] rmse : 0.5466753840446472\n",
      "[INFO 56:34] valid_rmse : 0.6990733742713928\n",
      "[INFO 56:34] valid_loss : 0.937195897102356\n"
     ]
    },
    {
     "name": "stderr",
     "output_type": "stream",
     "text": [
      " 27%|██▋       | 27/100 [09:20<24:26, 20.09s/it]"
     ]
    },
    {
     "name": "stdout",
     "output_type": "stream",
     "text": [
      "[INFO 56:35] ----- User batch : 0\n",
      "[INFO 56:38] ----- User batch : 1\n",
      "[INFO 56:41] ----- User batch : 2\n",
      "[INFO 56:44] ----- User batch : 3\n",
      "[INFO 56:47] ----- User batch : 4\n",
      "[INFO 56:49] - meta_params gn: [0.024826550856232643, 0.02839917503297329]\n",
      "[INFO 56:49] - cross_cond gn: [0.03327434882521629, 0.09051451832056046]\n",
      "[INFO 56:49] - meta_lambda gn: 0.8417576551437378\n",
      "[INFO 56:49] - learning_users_emb gn: 20.61989974975586\n",
      "[INFO 56:49] - meta_params norm: [37.52351379394531, 80.44371795654297]\n",
      "[INFO 56:49] - cross_cond norm: [29.12754249572754, 80.06877899169922]\n",
      "[INFO 56:49] - meta_lambda norm: 12.315483093261719\n",
      "[INFO 56:49] - learning_users_emb norm: 0.06529893726110458\n",
      "[INFO 56:49] - meta_params: 0.00390625\n",
      "[INFO 56:49] - cross_cond: 0.00390625\n",
      "[INFO 56:49] - meta_lambda: 0.00390625\n",
      "[INFO 56:49] - learning_users_emb: 3.90625e-05\n",
      "[INFO 56:53] rmse : 0.5420071482658386\n",
      "[INFO 56:54] valid_rmse : 0.6931037306785583\n",
      "[INFO 56:54] valid_loss : 0.9326517581939697\n"
     ]
    },
    {
     "name": "stderr",
     "output_type": "stream",
     "text": [
      " 28%|██▊       | 28/100 [09:40<23:46, 19.81s/it]"
     ]
    },
    {
     "name": "stdout",
     "output_type": "stream",
     "text": [
      "[INFO 56:54] ----- User batch : 0\n",
      "[INFO 56:57] ----- User batch : 1\n",
      "[INFO 57:00] ----- User batch : 2\n",
      "[INFO 57:03] ----- User batch : 3\n",
      "[INFO 57:06] ----- User batch : 4\n",
      "[INFO 57:08] - meta_params gn: [0.050912898033857346, 0.049090053886175156]\n",
      "[INFO 57:08] - cross_cond gn: [0.06754989176988602, 0.16692784428596497]\n",
      "[INFO 57:08] - meta_lambda gn: 0.3573862910270691\n",
      "[INFO 57:08] - learning_users_emb gn: 24.083574295043945\n",
      "[INFO 57:08] - meta_params norm: [37.51776123046875, 80.44271087646484]\n",
      "[INFO 57:08] - cross_cond norm: [29.122459411621094, 80.06792449951172]\n",
      "[INFO 57:08] - meta_lambda norm: 12.319201469421387\n",
      "[INFO 57:08] - learning_users_emb norm: 0.06536571681499481\n",
      "[INFO 57:08] - meta_params: 0.00390625\n",
      "[INFO 57:08] - cross_cond: 0.00390625\n",
      "[INFO 57:08] - meta_lambda: 0.00390625\n",
      "[INFO 57:08] - learning_users_emb: 3.90625e-05\n",
      "[INFO 57:12] rmse : 0.5445750951766968\n",
      "[INFO 57:12] valid_rmse : 0.6963875889778137\n",
      "[INFO 57:12] valid_loss : 0.935204803943634\n"
     ]
    },
    {
     "name": "stderr",
     "output_type": "stream",
     "text": [
      " 29%|██▉       | 29/100 [09:58<23:04, 19.50s/it]"
     ]
    },
    {
     "name": "stdout",
     "output_type": "stream",
     "text": [
      "[INFO 57:13] ----- User batch : 0\n",
      "[INFO 57:16] ----- User batch : 1\n",
      "[INFO 57:19] ----- User batch : 2\n",
      "[INFO 57:22] ----- User batch : 3\n",
      "[INFO 57:25] ----- User batch : 4\n",
      "[INFO 57:27] - meta_params gn: [0.02700931951403618, 0.029903776943683624]\n",
      "[INFO 57:27] - cross_cond gn: [0.03397426754236221, 0.09785724431276321]\n",
      "[INFO 57:27] - meta_lambda gn: 0.9443564414978027\n",
      "[INFO 57:27] - learning_users_emb gn: 23.33382797241211\n",
      "[INFO 57:27] - meta_params norm: [37.512001037597656, 80.44165802001953]\n",
      "[INFO 57:27] - cross_cond norm: [29.116575241088867, 80.0670394897461]\n",
      "[INFO 57:27] - meta_lambda norm: 12.322739601135254\n",
      "[INFO 57:27] - learning_users_emb norm: 0.06543269008398056\n",
      "[INFO 57:27] - meta_params: 0.00390625\n",
      "[INFO 57:27] - cross_cond: 0.00390625\n",
      "[INFO 57:27] - meta_lambda: 0.00390625\n",
      "[INFO 57:27] - learning_users_emb: 3.90625e-05\n",
      "[INFO 57:31] rmse : 0.5490400195121765\n",
      "[INFO 57:31] valid_rmse : 0.7020971775054932\n",
      "[INFO 57:31] valid_loss : 0.937699019908905\n"
     ]
    },
    {
     "name": "stderr",
     "output_type": "stream",
     "text": [
      " 29%|██▉       | 29/100 [10:17<25:12, 21.31s/it]"
     ]
    },
    {
     "name": "stdout",
     "output_type": "stream",
     "text": [
      "[INFO 57:31] -- END Training --\n",
      "[INFO 57:31] train on cuda\n"
     ]
    },
    {
     "name": "stderr",
     "output_type": "stream",
     "text": [
      "\n",
      "100%|██████████| 6/6 [00:04<00:00,  1.49it/s]\n"
     ]
    },
    {
     "name": "stdout",
     "output_type": "stream",
     "text": [
      "0.10589458560051394\n",
      "({0: {'mi_acc': 0.6842052340507507}, 1: {'mi_acc': 0.6829097867012024}, 2: {'mi_acc': 0.6902839541435242}, 3: {'mi_acc': 0.6916791200637817}, 4: {'mi_acc': 0.6974588632583618}, 5: {'mi_acc': 0.7022421360015869}}, {0: {'meta_doa': 0.5295431083496138}, 1: {'meta_doa': 0.5608702564859536}, 2: {'meta_doa': 0.5825789078715902}, 3: {'meta_doa': 0.6021081697438648}, 4: {'meta_doa': 0.6261025073719617}, 5: {'meta_doa': 0.6440516914619652}})\n"
     ]
    }
   ],
   "source": [
    "config['meta_trainer'] = 'GAP'\n",
    "#config['meta_trainer'] = 'Adam'\n",
    "for seed in range(1) :\n",
    "    config['seed'] = seed\n",
    "    logging.info(f'#### seed : {seed} ####')\n",
    "    \n",
    "    train_data.reset_rng()\n",
    "    valid_data.reset_rng()\n",
    "    test_data.reset_rng()\n",
    "\n",
    "\n",
    "    S = liriscat.selectionStrategy.Random(metadata,**config)\n",
    "    S.init_models(train_data, valid_data)\n",
    "    S.train(train_data, valid_data)\n",
    "    liriscat.utils.set_seed(0)\n",
    "    S.reset_rng()\n",
    "    d = (S.evaluate_test(test_data, train_data, valid_data))\n",
    "    print(liriscat.utils.pareto_index(d))\n",
    "    print(d)\n",
    "    torch.cuda.empty_cache()"
   ]
  }
 ],
 "metadata": {
  "kernelspec": {
   "display_name": "Python (liriscat no frozen)",
   "language": "python",
   "name": "liriscat-nofrozen"
  },
  "language_info": {
   "codemirror_mode": {
    "name": "ipython",
    "version": 3
   },
   "file_extension": ".py",
   "mimetype": "text/x-python",
   "name": "python",
   "nbconvert_exporter": "python",
   "pygments_lexer": "ipython3",
   "version": "3.11.11"
  }
 },
 "nbformat": 4,
 "nbformat_minor": 5
}
