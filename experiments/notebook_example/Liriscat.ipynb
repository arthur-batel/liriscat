{
 "cells": [
  {
   "cell_type": "markdown",
   "id": "78a21ce669eb601d",
   "metadata": {},
   "source": [
    "# Liriscat paper experiments\n",
    "### 1. Init\n",
    "#### 1.1. Import libraries (necessary)"
   ]
  },
  {
   "cell_type": "code",
   "execution_count": 1,
   "id": "5b0d5d27c5b782ec",
   "metadata": {
    "ExecuteTime": {
     "end_time": "2025-03-28T16:00:43.125550Z",
     "start_time": "2025-03-28T16:00:41.971774Z"
    }
   },
   "outputs": [],
   "source": [
    "%load_ext autoreload\n",
    "%autoreload 2\n",
    "\n",
    "import os\n",
    "os.environ[\"PYTORCH_CUDA_ALLOC_CONF\"] = \"expandable_segments:True\"\n",
    "os.environ[\"PYTHONHASHSEED\"] = \"0\"\n",
    "os.environ['CUBLAS_WORKSPACE_CONFIG'] = \":4096:8\"\n",
    "\n",
    "import liriscat\n",
    "liriscat.utils.set_seed(0)\n",
    "\n",
    "import logging\n",
    "import gc\n",
    "import json\n",
    "import torch\n",
    "liriscat.utils.set_seed(0)\n",
    "import pandas as pd"
   ]
  },
  {
   "cell_type": "markdown",
   "id": "32ab0bc4902808a9",
   "metadata": {},
   "source": [
    "#### 1.2. Set up the loggers (recommended)"
   ]
  },
  {
   "cell_type": "code",
   "execution_count": 2,
   "id": "b358c4709ccb3845",
   "metadata": {
    "ExecuteTime": {
     "end_time": "2025-03-27T16:01:06.271337Z",
     "start_time": "2025-03-27T16:01:06.259238Z"
    }
   },
   "outputs": [],
   "source": [
    "liriscat.utils.setuplogger(verbose = True, log_name=\"liriscat\", debug=False)"
   ]
  },
  {
   "cell_type": "markdown",
   "id": "5e97a539f6607db0",
   "metadata": {},
   "source": [
    "### 2. CDM prediction\n",
    "#### 2.1. Training and testing, sequential version"
   ]
  },
  {
   "cell_type": "code",
   "execution_count": 3,
   "id": "83d2be5c98d6482",
   "metadata": {
    "ExecuteTime": {
     "end_time": "2025-03-27T16:01:07.182919Z",
     "start_time": "2025-03-27T16:01:06.322894Z"
    }
   },
   "outputs": [],
   "source": [
    "import warnings\n",
    "\n",
    "gc.collect()\n",
    "torch.cuda.empty_cache()"
   ]
  },
  {
   "cell_type": "code",
   "execution_count": 4,
   "id": "1a54dc4f99eadbfa",
   "metadata": {},
   "outputs": [
    {
     "name": "stdout",
     "output_type": "stream",
     "text": [
      "CUDA is available. Using GPU.\n",
      "[INFO 05:05] math2\n"
     ]
    }
   ],
   "source": [
    "config = liriscat.utils.generate_eval_config(load_params=True, esc = 'error', valid_metric= 'mi_acc', pred_metrics = [\"mi_acc\"], profile_metrics = ['meta_doa'], save_params=False, n_query=6, num_epochs=100, batch_size=512)\n",
    "liriscat.utils.set_seed(config[\"seed\"])\n",
    "\n",
    "config[\"dataset_name\"] = \"math2\"\n",
    "logging.info(config[\"dataset_name\"])\n",
    "config['learning_rate'] = 0.0001\n",
    "config['inner_user_lr'] = 0.016848380924625605\n",
    "config['lambda'] = 9.972254466547545e-06\n",
    "\n",
    "config['meta_lr'] = 0.5\n",
    "config['learning_users_emb_lr'] = 0.0005\n",
    "config['patience'] = 20#5\n",
    "config['num_inner_users_epochs'] = 3\n",
    "config['d_in'] = 4\n",
    "config['num_responses'] = 12\n",
    "\n",
    "#pred_metrics,df_interp = test(config)"
   ]
  },
  {
   "cell_type": "code",
   "execution_count": 5,
   "id": "41bd76df",
   "metadata": {},
   "outputs": [],
   "source": [
    "def pareto_index2(d) : \n",
    "    d_acc = d[0]\n",
    "    d_meta = d[1]\n",
    "\n",
    "    r = []\n",
    "\n",
    "    for i in range(len(d_acc)):\n",
    "        r.append((0.5-d_acc[i]['mi_acc'])*(0.5-d_meta[i]['meta_doa']))\n",
    "    return sum(r)"
   ]
  },
  {
   "cell_type": "code",
   "execution_count": 6,
   "id": "73dcbf76e1d61f2a",
   "metadata": {},
   "outputs": [
    {
     "name": "stdout",
     "output_type": "stream",
     "text": [
      "[INFO 05:05] #### math2 ####\n",
      "[INFO 05:05] #### config : {'seed': 0, 'dataset_name': 'math2', 'load_params': True, 'save_params': False, 'embs_path': '../embs/', 'params_path': '../ckpt/', 'early_stopping': True, 'esc': 'error', 'verbose_early_stopping': False, 'disable_tqdm': False, 'valid_metric': 'mi_acc', 'learning_rate': 0.0001, 'batch_size': 512, 'valid_batch_size': 10000, 'num_epochs': 100, 'eval_freq': 1, 'patience': 20, 'device': device(type='cuda'), 'lambda': 9.972254466547545e-06, 'tensorboard': False, 'flush_freq': True, 'pred_metrics': ['mi_acc'], 'profile_metrics': ['meta_doa'], 'num_responses': 12, 'low_mem': False, 'n_query': 6, 'CDM': 'impact', 'i_fold': 0, 'num_inner_users_epochs': 3, 'num_inner_epochs': 10, 'inner_lr': 0.0001, 'inner_user_lr': 0.016848380924625605, 'meta_lr': 0.5, 'meta_trainer': 'Adam', 'num_workers': 0, 'pin_memory': False, 'debug': False, 'learning_users_emb_lr': 0.0005, 'd_in': 4} ####\n"
     ]
    }
   ],
   "source": [
    "logging.info(f'#### {config[\"dataset_name\"]} ####')\n",
    "logging.info(f'#### config : {config} ####')\n",
    "config['embs_path']='../embs/'\n",
    "config['params_path']='../ckpt/'\n",
    "\n",
    "gc.collect()\n",
    "torch.cuda.empty_cache()\n",
    "\n",
    "# Dataset downloading for doa and rm\n",
    "warnings.filterwarnings(\"ignore\", message=\"invalid value encountered in divide\")\n",
    "warnings.filterwarnings(\"ignore\", category=RuntimeWarning)\n",
    "\n",
    "## Concept map format : {question_id : [category_id1, category_id2, ...]}\n",
    "concept_map = json.load(open(f'../datasets/2-preprocessed_data/{config[\"dataset_name\"]}_concept_map.json', 'r'))\n",
    "concept_map = {int(k): [int(x) for x in v] for k, v in concept_map.items()}\n",
    "\n",
    "## Metadata map format : {\"num_user_id\": ..., \"num_item_id\": ..., \"num_dimension_id\": ...}\n",
    "metadata = json.load(open(f'../datasets/2-preprocessed_data/{config[\"dataset_name\"]}_metadata.json', 'r'))\n",
    "\n",
    "\n",
    "## Tensor containing the nb of modalities per question\n",
    "nb_modalities = torch.load(f'../datasets/2-preprocessed_data/{config[\"dataset_name\"]}_nb_modalities.pkl',weights_only=True)\n"
   ]
  },
  {
   "cell_type": "code",
   "execution_count": 8,
   "id": "846a5c594351413e",
   "metadata": {},
   "outputs": [
    {
     "name": "stdout",
     "output_type": "stream",
     "text": [
      "[INFO 05:07] #### meta_trainer : GAP ####\n",
      "[INFO 05:07] #### i_fold : 1 ####\n"
     ]
    },
    {
     "name": "stdout",
     "output_type": "stream",
     "text": [
      "[INFO 05:16] #### seed : 0 ####\n",
      "[INFO 05:16] Random_cont_model\n",
      "[INFO 05:17] compiling CDM model\n",
      "[INFO 05:19] compiling selection model\n",
      "[INFO 05:19] ------- START Training\n",
      "[INFO 05:19] train on cuda\n"
     ]
    },
    {
     "name": "stderr",
     "output_type": "stream",
     "text": [
      "/home/arthur/liriscat/liriscat/selectionStrategy/random.py:30: UserWarning: get_params() Notimplemented\n",
      "  warnings.warn('get_params() Notimplemented')\n",
      "  0%|          | 0/100 [00:00<?, ?it/s]"
     ]
    },
    {
     "name": "stdout",
     "output_type": "stream",
     "text": [
      "[INFO 05:35] - meta_params: 0.5\n",
      "[INFO 05:35] - cross_cond: 0.5\n",
      "[INFO 05:35] - meta_lambda: 0.5\n",
      "[INFO 05:35] - learning_users_emb: 0.0005\n",
      "[INFO 05:41] rmse : 0.5449409484863281\n",
      "[INFO 05:41] valid_rmse : 0.6968554258346558\n",
      "[INFO 05:41] valid_loss : 0.9390125274658203\n"
     ]
    },
    {
     "name": "stderr",
     "output_type": "stream",
     "text": [
      "  1%|          | 1/100 [00:21<35:47, 21.69s/it]"
     ]
    },
    {
     "name": "stdout",
     "output_type": "stream",
     "text": [
      "[INFO 05:55] - meta_params: 0.5\n",
      "[INFO 05:55] - cross_cond: 0.5\n",
      "[INFO 05:55] - meta_lambda: 0.5\n",
      "[INFO 05:55] - learning_users_emb: 0.0005\n",
      "[INFO 05:59] rmse : 0.554278552532196\n",
      "[INFO 05:59] valid_rmse : 0.7087960839271545\n",
      "[INFO 05:59] valid_loss : 0.9394581317901611\n"
     ]
    },
    {
     "name": "stderr",
     "output_type": "stream",
     "text": [
      "  2%|▏         | 2/100 [00:40<32:21, 19.82s/it]"
     ]
    },
    {
     "name": "stdout",
     "output_type": "stream",
     "text": [
      "[INFO 06:13] - meta_params: 0.5\n",
      "[INFO 06:13] - cross_cond: 0.5\n",
      "[INFO 06:13] - meta_lambda: 0.5\n",
      "[INFO 06:13] - learning_users_emb: 0.0005\n",
      "[INFO 06:18] rmse : 0.5512136816978455\n",
      "[INFO 06:18] valid_rmse : 0.7048768401145935\n",
      "[INFO 06:18] valid_loss : 0.9408632516860962\n"
     ]
    },
    {
     "name": "stderr",
     "output_type": "stream",
     "text": [
      "  3%|▎         | 3/100 [00:58<30:51, 19.09s/it]"
     ]
    },
    {
     "name": "stdout",
     "output_type": "stream",
     "text": [
      "[INFO 06:32] - meta_params: 0.5\n",
      "[INFO 06:32] - cross_cond: 0.5\n",
      "[INFO 06:32] - meta_lambda: 0.5\n",
      "[INFO 06:32] - learning_users_emb: 0.0005\n",
      "[INFO 06:36] rmse : 0.5538288950920105\n",
      "[INFO 06:36] valid_rmse : 0.7082210779190063\n",
      "[INFO 06:36] valid_loss : 0.9397975206375122\n"
     ]
    },
    {
     "name": "stderr",
     "output_type": "stream",
     "text": [
      "  4%|▍         | 4/100 [01:17<30:16, 18.92s/it]"
     ]
    },
    {
     "name": "stdout",
     "output_type": "stream",
     "text": [
      "[INFO 06:50] - meta_params: 0.25\n",
      "[INFO 06:50] - cross_cond: 0.25\n",
      "[INFO 06:50] - meta_lambda: 0.25\n",
      "[INFO 06:50] - learning_users_emb: 0.00025\n",
      "[INFO 06:55] rmse : 0.5370201468467712\n",
      "[INFO 06:55] valid_rmse : 0.6867265105247498\n",
      "[INFO 06:55] valid_loss : 0.936843991279602\n"
     ]
    },
    {
     "name": "stderr",
     "output_type": "stream",
     "text": [
      "  5%|▌         | 5/100 [01:35<29:43, 18.77s/it]"
     ]
    },
    {
     "name": "stdout",
     "output_type": "stream",
     "text": [
      "[INFO 07:09] - meta_params: 0.25\n",
      "[INFO 07:09] - cross_cond: 0.25\n",
      "[INFO 07:09] - meta_lambda: 0.25\n",
      "[INFO 07:09] - learning_users_emb: 0.00025\n",
      "[INFO 07:13] rmse : 0.5508520007133484\n",
      "[INFO 07:13] valid_rmse : 0.7044143080711365\n",
      "[INFO 07:13] valid_loss : 0.9387009739875793\n"
     ]
    },
    {
     "name": "stderr",
     "output_type": "stream",
     "text": [
      "  6%|▌         | 6/100 [01:54<29:19, 18.71s/it]"
     ]
    },
    {
     "name": "stdout",
     "output_type": "stream",
     "text": [
      "[INFO 07:27] - meta_params: 0.25\n",
      "[INFO 07:27] - cross_cond: 0.25\n",
      "[INFO 07:27] - meta_lambda: 0.25\n",
      "[INFO 07:27] - learning_users_emb: 0.00025\n",
      "[INFO 07:32] rmse : 0.5430174469947815\n",
      "[INFO 07:32] valid_rmse : 0.6943957209587097\n",
      "[INFO 07:32] valid_loss : 0.9376018047332764\n"
     ]
    },
    {
     "name": "stderr",
     "output_type": "stream",
     "text": [
      "  7%|▋         | 7/100 [02:12<28:54, 18.65s/it]"
     ]
    },
    {
     "name": "stdout",
     "output_type": "stream",
     "text": [
      "[INFO 07:46] - meta_params: 0.25\n",
      "[INFO 07:46] - cross_cond: 0.25\n",
      "[INFO 07:46] - meta_lambda: 0.25\n",
      "[INFO 07:46] - learning_users_emb: 0.00025\n",
      "[INFO 07:50] rmse : 0.545397937297821\n",
      "[INFO 07:50] valid_rmse : 0.6974397897720337\n",
      "[INFO 07:50] valid_loss : 0.9389498233795166\n"
     ]
    },
    {
     "name": "stderr",
     "output_type": "stream",
     "text": [
      "  8%|▊         | 8/100 [02:31<28:35, 18.65s/it]"
     ]
    },
    {
     "name": "stdout",
     "output_type": "stream",
     "text": [
      "[INFO 08:04] - meta_params: 0.125\n",
      "[INFO 08:04] - cross_cond: 0.125\n",
      "[INFO 08:04] - meta_lambda: 0.125\n",
      "[INFO 08:05] - learning_users_emb: 0.000125\n",
      "[INFO 08:09] rmse : 0.5460370182991028\n",
      "[INFO 08:09] valid_rmse : 0.6982570290565491\n",
      "[INFO 08:09] valid_loss : 0.940470814704895\n"
     ]
    },
    {
     "name": "stderr",
     "output_type": "stream",
     "text": [
      "  9%|▉         | 9/100 [02:49<28:12, 18.59s/it]"
     ]
    },
    {
     "name": "stdout",
     "output_type": "stream",
     "text": [
      "[INFO 08:23] - meta_params: 0.125\n",
      "[INFO 08:23] - cross_cond: 0.125\n",
      "[INFO 08:23] - meta_lambda: 0.125\n",
      "[INFO 08:23] - learning_users_emb: 0.000125\n",
      "[INFO 08:28] rmse : 0.5362773537635803\n",
      "[INFO 08:28] valid_rmse : 0.6857766509056091\n",
      "[INFO 08:28] valid_loss : 0.9353311657905579\n"
     ]
    },
    {
     "name": "stderr",
     "output_type": "stream",
     "text": [
      " 10%|█         | 10/100 [03:08<27:58, 18.65s/it]"
     ]
    },
    {
     "name": "stdout",
     "output_type": "stream",
     "text": [
      "[INFO 08:42] - meta_params: 0.125\n",
      "[INFO 08:42] - cross_cond: 0.125\n",
      "[INFO 08:42] - meta_lambda: 0.125\n",
      "[INFO 08:42] - learning_users_emb: 0.000125\n",
      "[INFO 08:47] rmse : 0.5597351789474487\n",
      "[INFO 08:47] valid_rmse : 0.71577388048172\n",
      "[INFO 08:47] valid_loss : 0.9416601657867432\n"
     ]
    },
    {
     "name": "stderr",
     "output_type": "stream",
     "text": [
      " 11%|█         | 11/100 [03:27<27:45, 18.71s/it]"
     ]
    },
    {
     "name": "stdout",
     "output_type": "stream",
     "text": [
      "[INFO 09:01] - meta_params: 0.125\n",
      "[INFO 09:01] - cross_cond: 0.125\n",
      "[INFO 09:01] - meta_lambda: 0.125\n",
      "[INFO 09:01] - learning_users_emb: 0.000125\n",
      "[INFO 09:05] rmse : 0.5525679588317871\n",
      "[INFO 09:05] valid_rmse : 0.7066086530685425\n",
      "[INFO 09:05] valid_loss : 0.9380117058753967\n"
     ]
    },
    {
     "name": "stderr",
     "output_type": "stream",
     "text": [
      " 12%|█▏        | 12/100 [03:46<27:29, 18.75s/it]"
     ]
    },
    {
     "name": "stdout",
     "output_type": "stream",
     "text": [
      "[INFO 09:20] - meta_params: 0.125\n",
      "[INFO 09:20] - cross_cond: 0.125\n",
      "[INFO 09:20] - meta_lambda: 0.125\n",
      "[INFO 09:20] - learning_users_emb: 0.000125\n",
      "[INFO 09:24] rmse : 0.5465842485427856\n",
      "[INFO 09:24] valid_rmse : 0.6989568471908569\n",
      "[INFO 09:24] valid_loss : 0.9385941624641418\n"
     ]
    },
    {
     "name": "stderr",
     "output_type": "stream",
     "text": [
      " 13%|█▎        | 13/100 [04:04<27:07, 18.70s/it]"
     ]
    },
    {
     "name": "stdout",
     "output_type": "stream",
     "text": [
      "[INFO 09:38] - meta_params: 0.0625\n",
      "[INFO 09:38] - cross_cond: 0.0625\n",
      "[INFO 09:38] - meta_lambda: 0.0625\n",
      "[INFO 09:38] - learning_users_emb: 6.25e-05\n",
      "[INFO 09:43] rmse : 0.5503090620040894\n",
      "[INFO 09:43] valid_rmse : 0.7037200331687927\n",
      "[INFO 09:43] valid_loss : 0.9420244097709656\n"
     ]
    },
    {
     "name": "stderr",
     "output_type": "stream",
     "text": [
      " 14%|█▍        | 14/100 [04:23<26:51, 18.74s/it]"
     ]
    },
    {
     "name": "stdout",
     "output_type": "stream",
     "text": [
      "[INFO 09:57] - meta_params: 0.0625\n",
      "[INFO 09:57] - cross_cond: 0.0625\n",
      "[INFO 09:57] - meta_lambda: 0.0625\n",
      "[INFO 09:57] - learning_users_emb: 6.25e-05\n",
      "[INFO 10:02] rmse : 0.5545481443405151\n",
      "[INFO 10:02] valid_rmse : 0.7091408371925354\n",
      "[INFO 10:02] valid_loss : 0.9388293623924255\n"
     ]
    },
    {
     "name": "stderr",
     "output_type": "stream",
     "text": [
      " 15%|█▌        | 15/100 [04:42<26:35, 18.77s/it]"
     ]
    },
    {
     "name": "stdout",
     "output_type": "stream",
     "text": [
      "[INFO 10:16] - meta_params: 0.0625\n",
      "[INFO 10:16] - cross_cond: 0.0625\n",
      "[INFO 10:16] - meta_lambda: 0.0625\n",
      "[INFO 10:16] - learning_users_emb: 6.25e-05\n",
      "[INFO 10:21] rmse : 0.5448495149612427\n",
      "[INFO 10:21] valid_rmse : 0.6967384815216064\n",
      "[INFO 10:21] valid_loss : 0.9384444952011108\n"
     ]
    },
    {
     "name": "stderr",
     "output_type": "stream",
     "text": [
      " 16%|█▌        | 16/100 [05:01<26:22, 18.84s/it]"
     ]
    },
    {
     "name": "stdout",
     "output_type": "stream",
     "text": [
      "[INFO 10:35] - meta_params: 0.03125\n",
      "[INFO 10:35] - cross_cond: 0.03125\n",
      "[INFO 10:35] - meta_lambda: 0.03125\n",
      "[INFO 10:35] - learning_users_emb: 3.125e-05\n",
      "[INFO 10:39] rmse : 0.5437510013580322\n",
      "[INFO 10:39] valid_rmse : 0.69533371925354\n",
      "[INFO 10:39] valid_loss : 0.9371609687805176\n"
     ]
    },
    {
     "name": "stderr",
     "output_type": "stream",
     "text": [
      " 17%|█▋        | 17/100 [05:20<26:02, 18.82s/it]"
     ]
    },
    {
     "name": "stdout",
     "output_type": "stream",
     "text": [
      "[INFO 10:53] - meta_params: 0.03125\n",
      "[INFO 10:53] - cross_cond: 0.03125\n",
      "[INFO 10:53] - meta_lambda: 0.03125\n",
      "[INFO 10:53] - learning_users_emb: 3.125e-05\n",
      "[INFO 10:58] rmse : 0.5484952330589294\n",
      "[INFO 10:58] valid_rmse : 0.7014005184173584\n",
      "[INFO 10:58] valid_loss : 0.9402368068695068\n"
     ]
    },
    {
     "name": "stderr",
     "output_type": "stream",
     "text": [
      " 18%|█▊        | 18/100 [05:38<25:35, 18.73s/it]"
     ]
    },
    {
     "name": "stdout",
     "output_type": "stream",
     "text": [
      "[INFO 11:12] - meta_params: 0.03125\n",
      "[INFO 11:12] - cross_cond: 0.03125\n",
      "[INFO 11:12] - meta_lambda: 0.03125\n",
      "[INFO 11:12] - learning_users_emb: 3.125e-05\n",
      "[INFO 11:17] rmse : 0.5575053095817566\n",
      "[INFO 11:17] valid_rmse : 0.7129223942756653\n",
      "[INFO 11:17] valid_loss : 0.9405050277709961\n"
     ]
    },
    {
     "name": "stderr",
     "output_type": "stream",
     "text": [
      " 19%|█▉        | 19/100 [05:57<25:16, 18.73s/it]"
     ]
    },
    {
     "name": "stdout",
     "output_type": "stream",
     "text": [
      "[INFO 11:31] - meta_params: 0.015625\n",
      "[INFO 11:31] - cross_cond: 0.015625\n",
      "[INFO 11:31] - meta_lambda: 0.015625\n",
      "[INFO 11:31] - learning_users_emb: 1.5625e-05\n",
      "[INFO 11:35] rmse : 0.5499467849731445\n",
      "[INFO 11:35] valid_rmse : 0.7032567262649536\n",
      "[INFO 11:35] valid_loss : 0.935683012008667\n"
     ]
    },
    {
     "name": "stderr",
     "output_type": "stream",
     "text": [
      " 20%|██        | 20/100 [06:16<24:57, 18.71s/it]"
     ]
    },
    {
     "name": "stdout",
     "output_type": "stream",
     "text": [
      "[INFO 11:50] - meta_params: 0.015625\n",
      "[INFO 11:50] - cross_cond: 0.015625\n",
      "[INFO 11:50] - meta_lambda: 0.015625\n",
      "[INFO 11:50] - learning_users_emb: 1.5625e-05\n",
      "[INFO 11:54] rmse : 0.5442090034484863\n",
      "[INFO 11:54] valid_rmse : 0.6959194540977478\n",
      "[INFO 11:54] valid_loss : 0.9363977909088135\n"
     ]
    },
    {
     "name": "stderr",
     "output_type": "stream",
     "text": [
      " 21%|██        | 21/100 [06:34<24:38, 18.71s/it]"
     ]
    },
    {
     "name": "stdout",
     "output_type": "stream",
     "text": [
      "[INFO 12:08] - meta_params: 0.015625\n",
      "[INFO 12:08] - cross_cond: 0.015625\n",
      "[INFO 12:08] - meta_lambda: 0.015625\n",
      "[INFO 12:08] - learning_users_emb: 1.5625e-05\n",
      "[INFO 12:13] rmse : 0.5479499101638794\n",
      "[INFO 12:13] valid_rmse : 0.7007032036781311\n",
      "[INFO 12:13] valid_loss : 0.9382624626159668\n"
     ]
    },
    {
     "name": "stderr",
     "output_type": "stream",
     "text": [
      " 22%|██▏       | 22/100 [06:53<24:13, 18.63s/it]"
     ]
    },
    {
     "name": "stdout",
     "output_type": "stream",
     "text": [
      "[INFO 12:27] - meta_params: 0.0078125\n",
      "[INFO 12:27] - cross_cond: 0.0078125\n",
      "[INFO 12:27] - meta_lambda: 0.0078125\n",
      "[INFO 12:27] - learning_users_emb: 7.8125e-06\n",
      "[INFO 12:31] rmse : 0.5485860705375671\n",
      "[INFO 12:31] valid_rmse : 0.7015166878700256\n",
      "[INFO 12:31] valid_loss : 0.9363723397254944\n"
     ]
    },
    {
     "name": "stderr",
     "output_type": "stream",
     "text": [
      " 23%|██▎       | 23/100 [07:12<23:54, 18.62s/it]"
     ]
    },
    {
     "name": "stdout",
     "output_type": "stream",
     "text": [
      "[INFO 12:45] - meta_params: 0.0078125\n",
      "[INFO 12:45] - cross_cond: 0.0078125\n",
      "[INFO 12:45] - meta_lambda: 0.0078125\n",
      "[INFO 12:45] - learning_users_emb: 7.8125e-06\n",
      "[INFO 12:50] rmse : 0.5551767349243164\n",
      "[INFO 12:50] valid_rmse : 0.7099446654319763\n",
      "[INFO 12:50] valid_loss : 0.9400185942649841\n"
     ]
    },
    {
     "name": "stderr",
     "output_type": "stream",
     "text": [
      " 24%|██▍       | 24/100 [07:30<23:33, 18.59s/it]"
     ]
    },
    {
     "name": "stdout",
     "output_type": "stream",
     "text": [
      "[INFO 13:04] - meta_params: 0.0078125\n",
      "[INFO 13:04] - cross_cond: 0.0078125\n",
      "[INFO 13:04] - meta_lambda: 0.0078125\n",
      "[INFO 13:04] - learning_users_emb: 7.8125e-06\n",
      "[INFO 13:08] rmse : 0.5521169304847717\n",
      "[INFO 13:08] valid_rmse : 0.706031858921051\n",
      "[INFO 13:08] valid_loss : 0.9399572014808655\n"
     ]
    },
    {
     "name": "stderr",
     "output_type": "stream",
     "text": [
      " 25%|██▌       | 25/100 [07:49<23:15, 18.61s/it]"
     ]
    },
    {
     "name": "stdout",
     "output_type": "stream",
     "text": [
      "[INFO 13:23] - meta_params: 0.00390625\n",
      "[INFO 13:23] - cross_cond: 0.00390625\n",
      "[INFO 13:23] - meta_lambda: 0.00390625\n",
      "[INFO 13:23] - learning_users_emb: 3.90625e-06\n",
      "[INFO 13:27] rmse : 0.548313558101654\n",
      "[INFO 13:27] valid_rmse : 0.7011682391166687\n",
      "[INFO 13:27] valid_loss : 0.9368614554405212\n"
     ]
    },
    {
     "name": "stderr",
     "output_type": "stream",
     "text": [
      " 26%|██▌       | 26/100 [08:07<22:59, 18.64s/it]"
     ]
    },
    {
     "name": "stdout",
     "output_type": "stream",
     "text": [
      "[INFO 13:41] - meta_params: 0.00390625\n",
      "[INFO 13:41] - cross_cond: 0.00390625\n",
      "[INFO 13:41] - meta_lambda: 0.00390625\n",
      "[INFO 13:41] - learning_users_emb: 3.90625e-06\n",
      "[INFO 13:46] rmse : 0.5437510013580322\n",
      "[INFO 13:46] valid_rmse : 0.69533371925354\n",
      "[INFO 13:46] valid_loss : 0.9385684132575989\n"
     ]
    },
    {
     "name": "stderr",
     "output_type": "stream",
     "text": [
      " 27%|██▋       | 27/100 [08:26<22:41, 18.65s/it]"
     ]
    },
    {
     "name": "stdout",
     "output_type": "stream",
     "text": [
      "[INFO 14:00] - meta_params: 0.00390625\n",
      "[INFO 14:00] - cross_cond: 0.00390625\n",
      "[INFO 14:00] - meta_lambda: 0.00390625\n",
      "[INFO 14:00] - learning_users_emb: 3.90625e-06\n",
      "[INFO 14:04] rmse : 0.5365560054779053\n",
      "[INFO 14:04] valid_rmse : 0.6861329674720764\n",
      "[INFO 14:04] valid_loss : 0.9339613318443298\n"
     ]
    },
    {
     "name": "stderr",
     "output_type": "stream",
     "text": [
      " 28%|██▊       | 28/100 [08:45<22:23, 18.66s/it]"
     ]
    },
    {
     "name": "stdout",
     "output_type": "stream",
     "text": [
      "[INFO 14:18] - meta_params: 0.00390625\n",
      "[INFO 14:18] - cross_cond: 0.00390625\n",
      "[INFO 14:18] - meta_lambda: 0.00390625\n",
      "[INFO 14:18] - learning_users_emb: 3.90625e-06\n",
      "[INFO 14:23] rmse : 0.5497655272483826\n",
      "[INFO 14:23] valid_rmse : 0.7030249834060669\n",
      "[INFO 14:23] valid_loss : 0.9366678595542908\n"
     ]
    },
    {
     "name": "stderr",
     "output_type": "stream",
     "text": [
      " 29%|██▉       | 29/100 [09:03<22:02, 18.63s/it]"
     ]
    },
    {
     "name": "stdout",
     "output_type": "stream",
     "text": [
      "[INFO 14:37] - meta_params: 0.00390625\n",
      "[INFO 14:37] - cross_cond: 0.00390625\n",
      "[INFO 14:37] - meta_lambda: 0.00390625\n",
      "[INFO 14:37] - learning_users_emb: 3.90625e-06\n",
      "[INFO 14:42] rmse : 0.5473130345344543\n",
      "[INFO 14:42] valid_rmse : 0.6998887658119202\n",
      "[INFO 14:42] valid_loss : 0.9386559128761292\n"
     ]
    },
    {
     "name": "stderr",
     "output_type": "stream",
     "text": [
      " 29%|██▉       | 29/100 [09:22<22:57, 19.40s/it]"
     ]
    },
    {
     "name": "stdout",
     "output_type": "stream",
     "text": [
      "[INFO 14:42] -- END Training --\n",
      "[INFO 14:42] train on cuda\n"
     ]
    },
    {
     "name": "stderr",
     "output_type": "stream",
     "text": [
      "\n",
      "100%|██████████| 6/6 [00:04<00:00,  1.44it/s]\n"
     ]
    },
    {
     "name": "stdout",
     "output_type": "stream",
     "text": [
      "[INFO 14:53] ({0: {'mi_acc': 0.6947683095932007}, 1: {'mi_acc': 0.6942700147628784}, 2: {'mi_acc': 0.6940707564353943}, 3: {'mi_acc': 0.6961634159088135}, 4: {'mi_acc': 0.6958644390106201}, 5: {'mi_acc': 0.6982560753822327}}, {0: {'meta_doa': 0.5289896884487395}, 1: {'meta_doa': 0.5510916448164791}, 2: {'meta_doa': 0.5684174768159787}, 3: {'meta_doa': 0.5906893303588627}, 4: {'meta_doa': 0.6148654919621281}, 5: {'meta_doa': 0.6317061722410084}})\n",
      "[INFO 14:53] 0.09524922147326688\n"
     ]
    }
   ],
   "source": [
    "meta_trainers = ['GAP']\n",
    "for meta_trainer in meta_trainers : \n",
    "    config['meta_trainer'] = meta_trainer\n",
    "    logging.info(f'#### meta_trainer : {config[\"meta_trainer\"]} ####')\n",
    "    for i_fold in range(1,2) : \n",
    "        config['i_fold'] = i_fold\n",
    "            \n",
    "        logging.info(f'#### i_fold : {i_fold} ####')\n",
    "        ## Dataframe columns : (user_id, question_id, response, category_id)\n",
    "        train_df = pd.read_csv(\n",
    "            f'../datasets/2-preprocessed_data/{config[\"dataset_name\"]}_train_{i_fold}.csv',\n",
    "            encoding='utf-8', dtype={'student_id': int, 'item_id': int, \"correct\": float,\n",
    "                                                                    \"dimension_id\": int})\n",
    "        valid_df = pd.read_csv(\n",
    "            f'../datasets/2-preprocessed_data/{config[\"dataset_name\"]}_valid_{i_fold}.csv',\n",
    "            encoding='utf-8', dtype={'student_id': int, 'item_id': int, \"correct\": float,\n",
    "                                                                    \"dimension_id\": int})\n",
    "        test_df = pd.read_csv(\n",
    "            f'../datasets/2-preprocessed_data/{config[\"dataset_name\"]}_test_{i_fold}.csv',\n",
    "            encoding='utf-8', dtype={'student_id': int, 'item_id': int, \"correct\": float,\n",
    "                                                                    \"dimension_id\": int})\n",
    "\n",
    "        train_data = liriscat.dataset.CATDataset(train_df, concept_map, metadata, config,nb_modalities)\n",
    "        valid_data = liriscat.dataset.EvalDataset(valid_df, concept_map, metadata, config,nb_modalities)\n",
    "        test_data = liriscat.dataset.EvalDataset(test_df, concept_map, metadata, config,nb_modalities)\n",
    "\n",
    "        for seed in range(1) :\n",
    "            config['seed'] = seed\n",
    "            logging.info(f'#### seed : {seed} ####')\n",
    "\n",
    "            train_data.reset_rng()\n",
    "            valid_data.reset_rng()\n",
    "            test_data.reset_rng()\n",
    "\n",
    "            S = liriscat.selectionStrategy.Random(metadata,**config)\n",
    "            S.init_models(train_data, valid_data)\n",
    "            S.train(train_data, valid_data)\n",
    "            liriscat.utils.set_seed(0)\n",
    "            S.reset_rng()\n",
    "            d = (S.evaluate_test(test_data, train_data, valid_data))\n",
    "            logging.info(d)\n",
    "            logging.info(liriscat.utils.pareto_index(d))\n",
    "\n",
    "    torch.cuda.empty_cache()"
   ]
  },
  {
   "cell_type": "code",
   "execution_count": 27,
   "id": "6e9d20cf",
   "metadata": {},
   "outputs": [
    {
     "name": "stdout",
     "output_type": "stream",
     "text": [
      "[INFO 04:26] #### seed : 0 ####\n",
      "[INFO 04:26] Random_cont_model\n",
      "[INFO 04:26] compiling CDM model\n",
      "[INFO 04:26] compiling selection model\n",
      "[INFO 04:26] ------- START Training\n",
      "[INFO 04:26] train on cuda\n"
     ]
    },
    {
     "name": "stderr",
     "output_type": "stream",
     "text": [
      "/home/arthur/liriscat/liriscat/selectionStrategy/random.py:30: UserWarning: get_params() Notimplemented\n",
      "  warnings.warn('get_params() Notimplemented')\n",
      "  0%|          | 0/100 [00:00<?, ?it/s]"
     ]
    },
    {
     "name": "stdout",
     "output_type": "stream",
     "text": [
      "[INFO 04:41] - meta_params gn: [0.029257740825414658, 0.0266021229326725]\n",
      "[INFO 04:41] - cross_cond gn: [0.042421843856573105, 0.02127380296587944]\n",
      "[INFO 04:41] - meta_lambda gn: 0.20259222388267517\n",
      "[INFO 04:41] - learning_users_emb gn: 26.955379486083984\n",
      "[INFO 04:41] - meta_params norm: [34.032470703125, 80.113525390625]\n",
      "[INFO 04:41] - cross_cond norm: [33.01451110839844, 80.7965087890625]\n",
      "[INFO 04:41] - meta_lambda norm: 11.515698432922363\n",
      "[INFO 04:41] - learning_users_emb norm: 0.12323136627674103\n",
      "[INFO 04:41] - meta_params: 0.5\n",
      "[INFO 04:41] - cross_cond: 0.5\n",
      "[INFO 04:41] - meta_lambda: 0.5\n",
      "[INFO 04:41] - learning_users_emb: 0.0005\n",
      "[INFO 04:47] rmse : 0.5421910285949707\n",
      "[INFO 04:47] valid_rmse : 0.6933388710021973\n",
      "[INFO 04:47] valid_loss : 0.9387398958206177\n"
     ]
    },
    {
     "name": "stderr",
     "output_type": "stream",
     "text": [
      "  1%|          | 1/100 [00:20<34:03, 20.64s/it]"
     ]
    },
    {
     "name": "stdout",
     "output_type": "stream",
     "text": [
      "[INFO 05:01] - meta_params gn: [0.01866474188864231, 0.026432707905769348]\n",
      "[INFO 05:01] - cross_cond gn: [0.048445120453834534, 0.011061212047934532]\n",
      "[INFO 05:01] - meta_lambda gn: 0.3372727334499359\n",
      "[INFO 05:01] - learning_users_emb gn: 27.372194290161133\n",
      "[INFO 05:01] - meta_params norm: [35.0248908996582, 80.23452758789062]\n",
      "[INFO 05:01] - cross_cond norm: [32.82051467895508, 80.67334747314453]\n",
      "[INFO 05:01] - meta_lambda norm: 11.017311096191406\n",
      "[INFO 05:01] - learning_users_emb norm: 0.1216529905796051\n",
      "[INFO 05:01] - meta_params: 0.5\n",
      "[INFO 05:01] - cross_cond: 0.5\n",
      "[INFO 05:01] - meta_lambda: 0.5\n",
      "[INFO 05:01] - learning_users_emb: 0.0005\n",
      "[INFO 05:07] rmse : 0.5494028925895691\n",
      "[INFO 05:07] valid_rmse : 0.7025612592697144\n",
      "[INFO 05:07] valid_loss : 0.9388660788536072\n"
     ]
    },
    {
     "name": "stderr",
     "output_type": "stream",
     "text": [
      "  2%|▏         | 2/100 [00:40<32:39, 20.00s/it]"
     ]
    },
    {
     "name": "stdout",
     "output_type": "stream",
     "text": [
      "[INFO 05:21] - meta_params gn: [0.014234434813261032, 0.020138151943683624]\n",
      "[INFO 05:21] - cross_cond gn: [0.07943231612443924, 0.04215073212981224]\n",
      "[INFO 05:21] - meta_lambda gn: 0.4939524829387665\n",
      "[INFO 05:21] - learning_users_emb gn: 27.88909339904785\n",
      "[INFO 05:21] - meta_params norm: [36.1810188293457, 80.35828399658203]\n",
      "[INFO 05:21] - cross_cond norm: [32.773399353027344, 80.64309692382812]\n",
      "[INFO 05:21] - meta_lambda norm: 11.163509368896484\n",
      "[INFO 05:21] - learning_users_emb norm: 0.12004117667675018\n",
      "[INFO 05:21] - meta_params: 0.5\n",
      "[INFO 05:21] - cross_cond: 0.5\n",
      "[INFO 05:21] - meta_lambda: 0.5\n",
      "[INFO 05:21] - learning_users_emb: 0.0005\n",
      "[INFO 05:26] rmse : 0.5491307377815247\n",
      "[INFO 05:26] valid_rmse : 0.7022132277488708\n",
      "[INFO 05:26] valid_loss : 0.9402799606323242\n"
     ]
    },
    {
     "name": "stderr",
     "output_type": "stream",
     "text": [
      "  3%|▎         | 3/100 [00:59<31:48, 19.67s/it]"
     ]
    },
    {
     "name": "stdout",
     "output_type": "stream",
     "text": [
      "[INFO 05:41] - meta_params gn: [0.023905308917164803, 0.02887805551290512]\n",
      "[INFO 05:41] - cross_cond gn: [0.030068805441260338, 0.004232143051922321]\n",
      "[INFO 05:41] - meta_lambda gn: 0.028886711224913597\n",
      "[INFO 05:41] - learning_users_emb gn: 28.786685943603516\n",
      "[INFO 05:41] - meta_params norm: [37.338897705078125, 80.48243713378906]\n",
      "[INFO 05:41] - cross_cond norm: [32.85342025756836, 80.69944763183594]\n",
      "[INFO 05:41] - meta_lambda norm: 11.483383178710938\n",
      "[INFO 05:41] - learning_users_emb norm: 0.11845045536756516\n",
      "[INFO 05:41] - meta_params: 0.5\n",
      "[INFO 05:41] - cross_cond: 0.5\n",
      "[INFO 05:41] - meta_lambda: 0.5\n",
      "[INFO 05:41] - learning_users_emb: 0.0005\n",
      "[INFO 05:45] rmse : 0.5503090620040894\n",
      "[INFO 05:45] valid_rmse : 0.7037200331687927\n",
      "[INFO 05:45] valid_loss : 0.9391392469406128\n"
     ]
    },
    {
     "name": "stderr",
     "output_type": "stream",
     "text": [
      "  4%|▍         | 4/100 [01:18<31:17, 19.55s/it]"
     ]
    },
    {
     "name": "stdout",
     "output_type": "stream",
     "text": [
      "[INFO 06:00] - meta_params gn: [0.022223489359021187, 0.019305063411593437]\n",
      "[INFO 06:00] - cross_cond gn: [0.02469376102089882, 0.026490509510040283]\n",
      "[INFO 06:00] - meta_lambda gn: 0.06755341589450836\n",
      "[INFO 06:00] - learning_users_emb gn: 27.287811279296875\n",
      "[INFO 06:00] - meta_params norm: [38.55768585205078, 80.61063385009766]\n",
      "[INFO 06:00] - cross_cond norm: [32.959537506103516, 80.73944091796875]\n",
      "[INFO 06:00] - meta_lambda norm: 11.758317947387695\n",
      "[INFO 06:00] - learning_users_emb norm: 0.11688540875911713\n",
      "[INFO 06:00] - meta_params: 0.25\n",
      "[INFO 06:00] - cross_cond: 0.25\n",
      "[INFO 06:00] - meta_lambda: 0.25\n",
      "[INFO 06:00] - learning_users_emb: 0.00025\n",
      "[INFO 06:05] rmse : 0.5368345379829407\n",
      "[INFO 06:05] valid_rmse : 0.6864891648292542\n",
      "[INFO 06:05] valid_loss : 0.9366083741188049\n"
     ]
    },
    {
     "name": "stderr",
     "output_type": "stream",
     "text": [
      "  5%|▌         | 5/100 [01:38<30:57, 19.55s/it]"
     ]
    },
    {
     "name": "stdout",
     "output_type": "stream",
     "text": [
      "[INFO 06:19] - meta_params gn: [0.02063506282866001, 0.02381974086165428]\n",
      "[INFO 06:19] - cross_cond gn: [0.04250883311033249, 0.003064812161028385]\n",
      "[INFO 06:19] - meta_lambda gn: 0.09523250162601471\n",
      "[INFO 06:19] - learning_users_emb gn: 27.048742294311523\n",
      "[INFO 06:19] - meta_params norm: [39.12519073486328, 80.6746597290039]\n",
      "[INFO 06:19] - cross_cond norm: [32.949859619140625, 80.73818969726562]\n",
      "[INFO 06:19] - meta_lambda norm: 11.85934829711914\n",
      "[INFO 06:19] - learning_users_emb norm: 0.11612708866596222\n",
      "[INFO 06:19] - meta_params: 0.25\n",
      "[INFO 06:19] - cross_cond: 0.25\n",
      "[INFO 06:19] - meta_lambda: 0.25\n",
      "[INFO 06:19] - learning_users_emb: 0.00025\n",
      "[INFO 06:24] rmse : 0.5444835424423218\n",
      "[INFO 06:24] valid_rmse : 0.6962705254554749\n",
      "[INFO 06:24] valid_loss : 0.938347339630127\n"
     ]
    },
    {
     "name": "stderr",
     "output_type": "stream",
     "text": [
      "  6%|▌         | 6/100 [01:57<30:23, 19.40s/it]"
     ]
    },
    {
     "name": "stdout",
     "output_type": "stream",
     "text": [
      "[INFO 06:39] - meta_params gn: [0.019890185445547104, 0.0217911284416914]\n",
      "[INFO 06:39] - cross_cond gn: [0.024806080386042595, 0.016167573630809784]\n",
      "[INFO 06:39] - meta_lambda gn: 0.06412840634584427\n",
      "[INFO 06:39] - learning_users_emb gn: 26.93597984313965\n",
      "[INFO 06:39] - meta_params norm: [39.69378662109375, 80.73954010009766]\n",
      "[INFO 06:39] - cross_cond norm: [32.93107223510742, 80.73533630371094]\n",
      "[INFO 06:39] - meta_lambda norm: 11.964763641357422\n",
      "[INFO 06:39] - learning_users_emb norm: 0.11536092311143875\n",
      "[INFO 06:39] - meta_params: 0.25\n",
      "[INFO 06:39] - cross_cond: 0.25\n",
      "[INFO 06:39] - meta_lambda: 0.25\n",
      "[INFO 06:39] - learning_users_emb: 0.00025\n",
      "[INFO 06:43] rmse : 0.539980947971344\n",
      "[INFO 06:44] valid_rmse : 0.6905127167701721\n",
      "[INFO 06:44] valid_loss : 0.937288224697113\n"
     ]
    },
    {
     "name": "stderr",
     "output_type": "stream",
     "text": [
      "  7%|▋         | 7/100 [02:17<30:09, 19.46s/it]"
     ]
    },
    {
     "name": "stdout",
     "output_type": "stream",
     "text": [
      "[INFO 06:58] - meta_params gn: [0.018291983753442764, 0.016120651736855507]\n",
      "[INFO 06:58] - cross_cond gn: [0.023454055190086365, 0.02824024297297001]\n",
      "[INFO 06:58] - meta_lambda gn: 0.05365929752588272\n",
      "[INFO 06:58] - learning_users_emb gn: 26.16826057434082\n",
      "[INFO 06:58] - meta_params norm: [40.25201416015625, 80.80487823486328]\n",
      "[INFO 06:58] - cross_cond norm: [32.89284133911133, 80.72420501708984]\n",
      "[INFO 06:58] - meta_lambda norm: 12.068909645080566\n",
      "[INFO 06:58] - learning_users_emb norm: 0.11459191143512726\n",
      "[INFO 06:58] - meta_params: 0.25\n",
      "[INFO 06:58] - cross_cond: 0.25\n",
      "[INFO 06:58] - meta_lambda: 0.25\n",
      "[INFO 06:58] - learning_users_emb: 0.00025\n",
      "[INFO 07:03] rmse : 0.5410871505737305\n",
      "[INFO 07:03] valid_rmse : 0.6919273138046265\n",
      "[INFO 07:03] valid_loss : 0.9384267330169678\n"
     ]
    },
    {
     "name": "stderr",
     "output_type": "stream",
     "text": [
      "  8%|▊         | 8/100 [02:36<29:46, 19.42s/it]"
     ]
    },
    {
     "name": "stdout",
     "output_type": "stream",
     "text": [
      "[INFO 07:17] - meta_params gn: [0.020629992708563805, 0.012834370136260986]\n",
      "[INFO 07:17] - cross_cond gn: [0.04290904477238655, 0.002737878356128931]\n",
      "[INFO 07:17] - meta_lambda gn: 0.020979374647140503\n",
      "[INFO 07:17] - learning_users_emb gn: 26.774045944213867\n",
      "[INFO 07:17] - meta_params norm: [40.78083038330078, 80.86941528320312]\n",
      "[INFO 07:17] - cross_cond norm: [32.82870864868164, 80.70201873779297]\n",
      "[INFO 07:17] - meta_lambda norm: 12.150131225585938\n",
      "[INFO 07:17] - learning_users_emb norm: 0.11382616311311722\n",
      "[INFO 07:17] - meta_params: 0.125\n",
      "[INFO 07:17] - cross_cond: 0.125\n",
      "[INFO 07:17] - meta_lambda: 0.125\n",
      "[INFO 07:17] - learning_users_emb: 0.000125\n",
      "[INFO 07:22] rmse : 0.5457631945610046\n",
      "[INFO 07:22] valid_rmse : 0.6979069113731384\n",
      "[INFO 07:22] valid_loss : 0.9400944709777832\n"
     ]
    },
    {
     "name": "stderr",
     "output_type": "stream",
     "text": [
      "  9%|▉         | 9/100 [02:55<29:16, 19.30s/it]"
     ]
    },
    {
     "name": "stdout",
     "output_type": "stream",
     "text": [
      "[INFO 07:37] - meta_params gn: [0.021640382707118988, 0.005576952360570431]\n",
      "[INFO 07:37] - cross_cond gn: [0.0434998944401741, 0.03419378399848938]\n",
      "[INFO 07:37] - meta_lambda gn: 0.857842206954956\n",
      "[INFO 07:37] - learning_users_emb gn: 23.63197898864746\n",
      "[INFO 07:37] - meta_params norm: [41.02705383300781, 80.90087127685547]\n",
      "[INFO 07:37] - cross_cond norm: [32.81180191040039, 80.69158935546875]\n",
      "[INFO 07:37] - meta_lambda norm: 12.18813419342041\n",
      "[INFO 07:37] - learning_users_emb norm: 0.11344526708126068\n",
      "[INFO 07:37] - meta_params: 0.125\n",
      "[INFO 07:37] - cross_cond: 0.125\n",
      "[INFO 07:37] - meta_lambda: 0.125\n",
      "[INFO 07:37] - learning_users_emb: 0.000125\n",
      "[INFO 07:41] rmse : 0.534136176109314\n",
      "[INFO 07:41] valid_rmse : 0.683038592338562\n",
      "[INFO 07:41] valid_loss : 0.9351385235786438\n"
     ]
    },
    {
     "name": "stderr",
     "output_type": "stream",
     "text": [
      " 10%|█         | 10/100 [03:14<29:00, 19.34s/it]"
     ]
    },
    {
     "name": "stdout",
     "output_type": "stream",
     "text": [
      "[INFO 07:57] - meta_params gn: [0.016249865293502808, 0.010610797442495823]\n",
      "[INFO 07:57] - cross_cond gn: [0.044390372931957245, 0.017736196517944336]\n",
      "[INFO 07:57] - meta_lambda gn: 0.14810912311077118\n",
      "[INFO 07:57] - learning_users_emb gn: 25.240694046020508\n",
      "[INFO 07:57] - meta_params norm: [41.243064880371094, 80.93031311035156]\n",
      "[INFO 07:57] - cross_cond norm: [32.775177001953125, 80.6764144897461]\n",
      "[INFO 07:57] - meta_lambda norm: 12.16029167175293\n",
      "[INFO 07:57] - learning_users_emb norm: 0.11307372152805328\n",
      "[INFO 07:57] - meta_params: 0.125\n",
      "[INFO 07:57] - cross_cond: 0.125\n",
      "[INFO 07:57] - meta_lambda: 0.125\n",
      "[INFO 07:57] - learning_users_emb: 0.000125\n",
      "[INFO 08:01] rmse : 0.5575946569442749\n",
      "[INFO 08:01] valid_rmse : 0.7130366563796997\n",
      "[INFO 08:01] valid_loss : 0.9410685896873474\n"
     ]
    },
    {
     "name": "stderr",
     "output_type": "stream",
     "text": [
      " 11%|█         | 11/100 [03:34<28:58, 19.54s/it]"
     ]
    },
    {
     "name": "stdout",
     "output_type": "stream",
     "text": [
      "[INFO 08:16] - meta_params gn: [0.01731397956609726, 0.01625598780810833]\n",
      "[INFO 08:16] - cross_cond gn: [0.04142942279577255, 0.014870152808725834]\n",
      "[INFO 08:16] - meta_lambda gn: 0.13348062336444855\n",
      "[INFO 08:16] - learning_users_emb gn: 25.4757137298584\n",
      "[INFO 08:16] - meta_params norm: [41.44948959350586, 80.95902252197266]\n",
      "[INFO 08:16] - cross_cond norm: [32.74551773071289, 80.65975952148438]\n",
      "[INFO 08:16] - meta_lambda norm: 12.127355575561523\n",
      "[INFO 08:16] - learning_users_emb norm: 0.11270231753587723\n",
      "[INFO 08:16] - meta_params: 0.125\n",
      "[INFO 08:16] - cross_cond: 0.125\n",
      "[INFO 08:16] - meta_lambda: 0.125\n",
      "[INFO 08:16] - learning_users_emb: 0.000125\n",
      "[INFO 08:21] rmse : 0.5492214560508728\n",
      "[INFO 08:21] valid_rmse : 0.7023292183876038\n",
      "[INFO 08:21] valid_loss : 0.937356173992157\n"
     ]
    },
    {
     "name": "stderr",
     "output_type": "stream",
     "text": [
      " 12%|█▏        | 12/100 [03:54<28:37, 19.51s/it]"
     ]
    },
    {
     "name": "stdout",
     "output_type": "stream",
     "text": [
      "[INFO 08:36] - meta_params gn: [0.02058354578912258, 0.01788128912448883]\n",
      "[INFO 08:36] - cross_cond gn: [0.031145935878157616, 0.007178417406976223]\n",
      "[INFO 08:36] - meta_lambda gn: 0.04678180813789368\n",
      "[INFO 08:36] - learning_users_emb gn: 24.976932525634766\n",
      "[INFO 08:36] - meta_params norm: [41.65765380859375, 80.9880599975586]\n",
      "[INFO 08:36] - cross_cond norm: [32.74060821533203, 80.6479721069336]\n",
      "[INFO 08:36] - meta_lambda norm: 12.105311393737793\n",
      "[INFO 08:36] - learning_users_emb norm: 0.11232923716306686\n",
      "[INFO 08:36] - meta_params: 0.125\n",
      "[INFO 08:36] - cross_cond: 0.125\n",
      "[INFO 08:36] - meta_lambda: 0.125\n",
      "[INFO 08:36] - learning_users_emb: 0.000125\n",
      "[INFO 08:40] rmse : 0.5426502823829651\n",
      "[INFO 08:40] valid_rmse : 0.6939261555671692\n",
      "[INFO 08:40] valid_loss : 0.9376283288002014\n"
     ]
    },
    {
     "name": "stderr",
     "output_type": "stream",
     "text": [
      " 13%|█▎        | 13/100 [04:13<28:11, 19.45s/it]"
     ]
    },
    {
     "name": "stdout",
     "output_type": "stream",
     "text": [
      "[INFO 08:55] - meta_params gn: [0.021472841501235962, 0.019762177020311356]\n",
      "[INFO 08:55] - cross_cond gn: [0.041958533227443695, 0.003565130289644003]\n",
      "[INFO 08:55] - meta_lambda gn: 0.013782498426735401\n",
      "[INFO 08:55] - learning_users_emb gn: 26.046648025512695\n",
      "[INFO 08:55] - meta_params norm: [41.861366271972656, 81.01762390136719]\n",
      "[INFO 08:55] - cross_cond norm: [32.731971740722656, 80.63606262207031]\n",
      "[INFO 08:55] - meta_lambda norm: 12.082881927490234\n",
      "[INFO 08:55] - learning_users_emb norm: 0.11195947974920273\n",
      "[INFO 08:55] - meta_params: 0.0625\n",
      "[INFO 08:55] - cross_cond: 0.0625\n",
      "[INFO 08:55] - meta_lambda: 0.0625\n",
      "[INFO 08:55] - learning_users_emb: 6.25e-05\n",
      "[INFO 09:00] rmse : 0.5494028925895691\n",
      "[INFO 09:00] valid_rmse : 0.7025612592697144\n",
      "[INFO 09:00] valid_loss : 0.9411260485649109\n"
     ]
    },
    {
     "name": "stderr",
     "output_type": "stream",
     "text": [
      " 14%|█▍        | 14/100 [04:33<27:54, 19.47s/it]"
     ]
    },
    {
     "name": "stdout",
     "output_type": "stream",
     "text": [
      "[INFO 09:14] - meta_params gn: [0.0220713522285223, 0.015830595046281815]\n",
      "[INFO 09:14] - cross_cond gn: [0.025813529267907143, 0.03268631175160408]\n",
      "[INFO 09:14] - meta_lambda gn: 0.02955535799264908\n",
      "[INFO 09:14] - learning_users_emb gn: 24.999732971191406\n",
      "[INFO 09:14] - meta_params norm: [41.9648323059082, 81.03275299072266]\n",
      "[INFO 09:14] - cross_cond norm: [32.73054122924805, 80.63036346435547]\n",
      "[INFO 09:14] - meta_lambda norm: 12.072371482849121\n",
      "[INFO 09:14] - learning_users_emb norm: 0.11177384853363037\n",
      "[INFO 09:14] - meta_params: 0.0625\n",
      "[INFO 09:14] - cross_cond: 0.0625\n",
      "[INFO 09:14] - meta_lambda: 0.0625\n",
      "[INFO 09:14] - learning_users_emb: 6.25e-05\n",
      "[INFO 09:19] rmse : 0.5533788800239563\n",
      "[INFO 09:19] valid_rmse : 0.7076455950737\n",
      "[INFO 09:19] valid_loss : 0.9379916191101074\n"
     ]
    },
    {
     "name": "stderr",
     "output_type": "stream",
     "text": [
      " 15%|█▌        | 15/100 [04:52<27:30, 19.42s/it]"
     ]
    },
    {
     "name": "stdout",
     "output_type": "stream",
     "text": [
      "[INFO 09:33] - meta_params gn: [0.014627126045525074, 0.013347180560231209]\n",
      "[INFO 09:33] - cross_cond gn: [0.04300050064921379, 0.02152080088853836]\n",
      "[INFO 09:33] - meta_lambda gn: 0.10906311869621277\n",
      "[INFO 09:33] - learning_users_emb gn: 24.777803421020508\n",
      "[INFO 09:33] - meta_params norm: [42.06730270385742, 81.04791259765625]\n",
      "[INFO 09:33] - cross_cond norm: [32.72119903564453, 80.62274169921875]\n",
      "[INFO 09:33] - meta_lambda norm: 12.062043190002441\n",
      "[INFO 09:33] - learning_users_emb norm: 0.111588254570961\n",
      "[INFO 09:33] - meta_params: 0.0625\n",
      "[INFO 09:33] - cross_cond: 0.0625\n",
      "[INFO 09:33] - meta_lambda: 0.0625\n",
      "[INFO 09:33] - learning_users_emb: 6.25e-05\n",
      "[INFO 09:38] rmse : 0.5431091785430908\n",
      "[INFO 09:38] valid_rmse : 0.6945130228996277\n",
      "[INFO 09:38] valid_loss : 0.9380097985267639\n"
     ]
    },
    {
     "name": "stderr",
     "output_type": "stream",
     "text": [
      " 16%|█▌        | 16/100 [05:11<26:58, 19.27s/it]"
     ]
    },
    {
     "name": "stdout",
     "output_type": "stream",
     "text": [
      "[INFO 09:52] - meta_params gn: [0.013748562894761562, 0.006709261331707239]\n",
      "[INFO 09:52] - cross_cond gn: [0.03884897381067276, 0.023350536823272705]\n",
      "[INFO 09:52] - meta_lambda gn: 0.02957507036626339\n",
      "[INFO 09:52] - learning_users_emb gn: 26.84103012084961\n",
      "[INFO 09:52] - meta_params norm: [42.16823959350586, 81.06292724609375]\n",
      "[INFO 09:52] - cross_cond norm: [32.70847702026367, 80.61421203613281]\n",
      "[INFO 09:52] - meta_lambda norm: 12.049695014953613\n",
      "[INFO 09:52] - learning_users_emb norm: 0.11140404641628265\n",
      "[INFO 09:52] - meta_params: 0.03125\n",
      "[INFO 09:52] - cross_cond: 0.03125\n",
      "[INFO 09:52] - meta_lambda: 0.03125\n",
      "[INFO 09:52] - learning_users_emb: 3.125e-05\n",
      "[INFO 09:57] rmse : 0.5415473580360413\n",
      "[INFO 09:57] valid_rmse : 0.6925157904624939\n",
      "[INFO 09:57] valid_loss : 0.936700701713562\n"
     ]
    },
    {
     "name": "stderr",
     "output_type": "stream",
     "text": [
      " 17%|█▋        | 17/100 [05:30<26:36, 19.24s/it]"
     ]
    },
    {
     "name": "stdout",
     "output_type": "stream",
     "text": [
      "[INFO 10:12] - meta_params gn: [0.014380236156284809, 0.012293684296309948]\n",
      "[INFO 10:12] - cross_cond gn: [0.036189157515764236, 0.01528892945498228]\n",
      "[INFO 10:12] - meta_lambda gn: 0.006786529906094074\n",
      "[INFO 10:12] - learning_users_emb gn: 27.753751754760742\n",
      "[INFO 10:12] - meta_params norm: [42.21598815917969, 81.07008361816406]\n",
      "[INFO 10:12] - cross_cond norm: [32.70235824584961, 80.60951232910156]\n",
      "[INFO 10:12] - meta_lambda norm: 12.044510841369629\n",
      "[INFO 10:12] - learning_users_emb norm: 0.11131098866462708\n",
      "[INFO 10:12] - meta_params: 0.03125\n",
      "[INFO 10:12] - cross_cond: 0.03125\n",
      "[INFO 10:12] - meta_lambda: 0.03125\n",
      "[INFO 10:12] - learning_users_emb: 3.125e-05\n",
      "[INFO 10:17] rmse : 0.5479499101638794\n",
      "[INFO 10:17] valid_rmse : 0.7007032036781311\n",
      "[INFO 10:17] valid_loss : 0.9398504495620728\n"
     ]
    },
    {
     "name": "stderr",
     "output_type": "stream",
     "text": [
      " 18%|█▊        | 18/100 [05:50<26:26, 19.35s/it]"
     ]
    },
    {
     "name": "stdout",
     "output_type": "stream",
     "text": [
      "[INFO 10:31] - meta_params gn: [0.015597769059240818, 0.018851859495043755]\n",
      "[INFO 10:31] - cross_cond gn: [0.030237972736358643, 0.004588901065289974]\n",
      "[INFO 10:31] - meta_lambda gn: 0.15186308324337006\n",
      "[INFO 10:31] - learning_users_emb gn: 28.536890029907227\n",
      "[INFO 10:31] - meta_params norm: [42.26239013671875, 81.07718658447266]\n",
      "[INFO 10:31] - cross_cond norm: [32.69810104370117, 80.60467529296875]\n",
      "[INFO 10:31] - meta_lambda norm: 12.03970718383789\n",
      "[INFO 10:31] - learning_users_emb norm: 0.11121831834316254\n",
      "[INFO 10:31] - meta_params: 0.03125\n",
      "[INFO 10:31] - cross_cond: 0.03125\n",
      "[INFO 10:31] - meta_lambda: 0.03125\n",
      "[INFO 10:31] - learning_users_emb: 3.125e-05\n",
      "[INFO 10:36] rmse : 0.5512136816978455\n",
      "[INFO 10:36] valid_rmse : 0.7048768401145935\n",
      "[INFO 10:36] valid_loss : 0.9398818612098694\n"
     ]
    },
    {
     "name": "stderr",
     "output_type": "stream",
     "text": [
      " 19%|█▉        | 19/100 [06:09<25:59, 19.26s/it]"
     ]
    },
    {
     "name": "stdout",
     "output_type": "stream",
     "text": [
      "[INFO 10:50] - meta_params gn: [0.024278191849589348, 0.02219322882592678]\n",
      "[INFO 10:50] - cross_cond gn: [0.05083317682147026, 0.004578778985887766]\n",
      "[INFO 10:50] - meta_lambda gn: 0.27901753783226013\n",
      "[INFO 10:50] - learning_users_emb gn: 24.55741310119629\n",
      "[INFO 10:50] - meta_params norm: [42.311119079589844, 81.08448028564453]\n",
      "[INFO 10:50] - cross_cond norm: [32.69514083862305, 80.6004867553711]\n",
      "[INFO 10:50] - meta_lambda norm: 12.037530899047852\n",
      "[INFO 10:50] - learning_users_emb norm: 0.11112643778324127\n",
      "[INFO 10:50] - meta_params: 0.015625\n",
      "[INFO 10:50] - cross_cond: 0.015625\n",
      "[INFO 10:50] - meta_lambda: 0.015625\n",
      "[INFO 10:50] - learning_users_emb: 1.5625e-05\n",
      "[INFO 10:55] rmse : 0.5432009100914001\n",
      "[INFO 10:55] valid_rmse : 0.6946303248405457\n",
      "[INFO 10:55] valid_loss : 0.935508131980896\n"
     ]
    },
    {
     "name": "stderr",
     "output_type": "stream",
     "text": [
      " 20%|██        | 20/100 [06:28<25:45, 19.32s/it]"
     ]
    },
    {
     "name": "stdout",
     "output_type": "stream",
     "text": [
      "[INFO 11:10] - meta_params gn: [0.01339841727167368, 0.006389613263309002]\n",
      "[INFO 11:10] - cross_cond gn: [0.03444686159491539, 0.00997818261384964]\n",
      "[INFO 11:10] - meta_lambda gn: 0.10264653712511063\n",
      "[INFO 11:10] - learning_users_emb gn: 29.053192138671875\n",
      "[INFO 11:10] - meta_params norm: [42.33562088012695, 81.08826446533203]\n",
      "[INFO 11:10] - cross_cond norm: [32.69559860229492, 80.5984878540039]\n",
      "[INFO 11:10] - meta_lambda norm: 12.038505554199219\n",
      "[INFO 11:10] - learning_users_emb norm: 0.1110803633928299\n",
      "[INFO 11:10] - meta_params: 0.015625\n",
      "[INFO 11:10] - cross_cond: 0.015625\n",
      "[INFO 11:10] - meta_lambda: 0.015625\n",
      "[INFO 11:10] - learning_users_emb: 1.5625e-05\n",
      "[INFO 11:15] rmse : 0.542558491230011\n",
      "[INFO 11:15] valid_rmse : 0.6938087940216064\n",
      "[INFO 11:15] valid_loss : 0.9360413551330566\n"
     ]
    },
    {
     "name": "stderr",
     "output_type": "stream",
     "text": [
      " 21%|██        | 21/100 [06:48<25:45, 19.57s/it]"
     ]
    },
    {
     "name": "stdout",
     "output_type": "stream",
     "text": [
      "[INFO 11:30] - meta_params gn: [0.01814189739525318, 0.019895587116479874]\n",
      "[INFO 11:30] - cross_cond gn: [0.04034684598445892, 0.043621283024549484]\n",
      "[INFO 11:30] - meta_lambda gn: 0.06848100572824478\n",
      "[INFO 11:30] - learning_users_emb gn: 26.863021850585938\n",
      "[INFO 11:30] - meta_params norm: [42.35955810546875, 81.09186553955078]\n",
      "[INFO 11:30] - cross_cond norm: [32.69639205932617, 80.59647369384766]\n",
      "[INFO 11:30] - meta_lambda norm: 12.03867244720459\n",
      "[INFO 11:30] - learning_users_emb norm: 0.11103455722332001\n",
      "[INFO 11:30] - meta_params: 0.015625\n",
      "[INFO 11:30] - cross_cond: 0.015625\n",
      "[INFO 11:30] - meta_lambda: 0.015625\n",
      "[INFO 11:30] - learning_users_emb: 1.5625e-05\n",
      "[INFO 11:35] rmse : 0.5475860834121704\n",
      "[INFO 11:35] valid_rmse : 0.7002379298210144\n",
      "[INFO 11:35] valid_loss : 0.9379397630691528\n"
     ]
    },
    {
     "name": "stderr",
     "output_type": "stream",
     "text": [
      " 22%|██▏       | 22/100 [07:08<25:29, 19.61s/it]"
     ]
    },
    {
     "name": "stdout",
     "output_type": "stream",
     "text": [
      "[INFO 11:50] - meta_params gn: [0.015327327884733677, 0.009976852685213089]\n",
      "[INFO 11:50] - cross_cond gn: [0.04548454284667969, 0.021760525181889534]\n",
      "[INFO 11:50] - meta_lambda gn: 1.0556031465530396\n",
      "[INFO 11:50] - learning_users_emb gn: 25.403207778930664\n",
      "[INFO 11:50] - meta_params norm: [42.38489532470703, 81.09557342529297]\n",
      "[INFO 11:50] - cross_cond norm: [32.695411682128906, 80.59397888183594]\n",
      "[INFO 11:50] - meta_lambda norm: 12.038341522216797\n",
      "[INFO 11:50] - learning_users_emb norm: 0.11098835617303848\n",
      "[INFO 11:50] - meta_params: 0.0078125\n",
      "[INFO 11:50] - cross_cond: 0.0078125\n",
      "[INFO 11:50] - meta_lambda: 0.0078125\n",
      "[INFO 11:50] - learning_users_emb: 7.8125e-06\n",
      "[INFO 11:54] rmse : 0.5455805659294128\n",
      "[INFO 11:54] valid_rmse : 0.6976733207702637\n",
      "[INFO 11:54] valid_loss : 0.9360798597335815\n"
     ]
    },
    {
     "name": "stderr",
     "output_type": "stream",
     "text": [
      " 23%|██▎       | 23/100 [07:27<25:05, 19.55s/it]"
     ]
    },
    {
     "name": "stdout",
     "output_type": "stream",
     "text": [
      "[INFO 12:09] - meta_params gn: [0.013711247593164444, 0.014178617857396603]\n",
      "[INFO 12:09] - cross_cond gn: [0.025666026398539543, 0.007797686383128166]\n",
      "[INFO 12:09] - meta_lambda gn: 0.2207891047000885\n",
      "[INFO 12:09] - learning_users_emb gn: 30.426671981811523\n",
      "[INFO 12:09] - meta_params norm: [42.39619827270508, 81.09712219238281]\n",
      "[INFO 12:09] - cross_cond norm: [32.695106506347656, 80.59265899658203]\n",
      "[INFO 12:09] - meta_lambda norm: 12.035543441772461\n",
      "[INFO 12:09] - learning_users_emb norm: 0.11096528172492981\n",
      "[INFO 12:09] - meta_params: 0.0078125\n",
      "[INFO 12:09] - cross_cond: 0.0078125\n",
      "[INFO 12:09] - meta_lambda: 0.0078125\n",
      "[INFO 12:09] - learning_users_emb: 7.8125e-06\n",
      "[INFO 12:14] rmse : 0.5527482628822327\n",
      "[INFO 12:14] valid_rmse : 0.7068392038345337\n",
      "[INFO 12:14] valid_loss : 0.939520537853241\n"
     ]
    },
    {
     "name": "stderr",
     "output_type": "stream",
     "text": [
      " 24%|██▍       | 24/100 [07:47<24:40, 19.48s/it]"
     ]
    },
    {
     "name": "stdout",
     "output_type": "stream",
     "text": [
      "[INFO 12:28] - meta_params gn: [0.01253588031977415, 0.010859828442335129]\n",
      "[INFO 12:28] - cross_cond gn: [0.02050304040312767, 0.011152178049087524]\n",
      "[INFO 12:28] - meta_lambda gn: 0.146710604429245\n",
      "[INFO 12:28] - learning_users_emb gn: 26.68539810180664\n",
      "[INFO 12:28] - meta_params norm: [42.40757751464844, 81.09869384765625]\n",
      "[INFO 12:28] - cross_cond norm: [32.695064544677734, 80.59139251708984]\n",
      "[INFO 12:28] - meta_lambda norm: 12.033615112304688\n",
      "[INFO 12:28] - learning_users_emb norm: 0.11094211041927338\n",
      "[INFO 12:28] - meta_params: 0.0078125\n",
      "[INFO 12:28] - cross_cond: 0.0078125\n",
      "[INFO 12:28] - meta_lambda: 0.0078125\n",
      "[INFO 12:28] - learning_users_emb: 7.8125e-06\n",
      "[INFO 12:33] rmse : 0.5461282730102539\n",
      "[INFO 12:33] valid_rmse : 0.6983737349510193\n",
      "[INFO 12:33] valid_loss : 0.9393774271011353\n"
     ]
    },
    {
     "name": "stderr",
     "output_type": "stream",
     "text": [
      " 25%|██▌       | 25/100 [08:06<24:09, 19.33s/it]"
     ]
    },
    {
     "name": "stdout",
     "output_type": "stream",
     "text": [
      "[INFO 12:47] - meta_params gn: [0.01702987030148506, 0.01230351347476244]\n",
      "[INFO 12:47] - cross_cond gn: [0.03168216720223427, 0.03491716459393501]\n",
      "[INFO 12:47] - meta_lambda gn: 0.07882624864578247\n",
      "[INFO 12:47] - learning_users_emb gn: 26.72521209716797\n",
      "[INFO 12:47] - meta_params norm: [42.41872787475586, 81.10025787353516]\n",
      "[INFO 12:47] - cross_cond norm: [32.69490432739258, 80.59013366699219]\n",
      "[INFO 12:47] - meta_lambda norm: 12.03226375579834\n",
      "[INFO 12:47] - learning_users_emb norm: 0.1109190285205841\n",
      "[INFO 12:47] - meta_params: 0.00390625\n",
      "[INFO 12:47] - cross_cond: 0.00390625\n",
      "[INFO 12:47] - meta_lambda: 0.00390625\n",
      "[INFO 12:47] - learning_users_emb: 3.90625e-06\n",
      "[INFO 12:52] rmse : 0.5423747301101685\n",
      "[INFO 12:52] valid_rmse : 0.6935738325119019\n",
      "[INFO 12:52] valid_loss : 0.936564028263092\n"
     ]
    },
    {
     "name": "stderr",
     "output_type": "stream",
     "text": [
      " 26%|██▌       | 26/100 [08:25<23:49, 19.31s/it]"
     ]
    },
    {
     "name": "stdout",
     "output_type": "stream",
     "text": [
      "[INFO 13:06] - meta_params gn: [0.02337281033396721, 0.024640675634145737]\n",
      "[INFO 13:06] - cross_cond gn: [0.04326067492365837, 0.019144553691148758]\n",
      "[INFO 13:06] - meta_lambda gn: 0.332975834608078\n",
      "[INFO 13:06] - learning_users_emb gn: 26.625940322875977\n",
      "[INFO 13:06] - meta_params norm: [42.42425537109375, 81.10104370117188]\n",
      "[INFO 13:06] - cross_cond norm: [32.69438552856445, 80.58943176269531]\n",
      "[INFO 13:06] - meta_lambda norm: 12.031540870666504\n",
      "[INFO 13:06] - learning_users_emb norm: 0.1109074279665947\n",
      "[INFO 13:06] - meta_params: 0.00390625\n",
      "[INFO 13:06] - cross_cond: 0.00390625\n",
      "[INFO 13:06] - meta_lambda: 0.00390625\n",
      "[INFO 13:06] - learning_users_emb: 3.90625e-06\n",
      "[INFO 13:11] rmse : 0.5442090034484863\n",
      "[INFO 13:11] valid_rmse : 0.6959194540977478\n",
      "[INFO 13:11] valid_loss : 0.9379686117172241\n"
     ]
    },
    {
     "name": "stderr",
     "output_type": "stream",
     "text": [
      " 27%|██▋       | 27/100 [08:44<23:26, 19.27s/it]"
     ]
    },
    {
     "name": "stdout",
     "output_type": "stream",
     "text": [
      "[INFO 13:26] - meta_params gn: [0.019756047055125237, 0.012172671966254711]\n",
      "[INFO 13:26] - cross_cond gn: [0.03489452227950096, 0.006660100072622299]\n",
      "[INFO 13:26] - meta_lambda gn: 0.01639740541577339\n",
      "[INFO 13:26] - learning_users_emb gn: 23.424009323120117\n",
      "[INFO 13:26] - meta_params norm: [42.43014907836914, 81.10189819335938]\n",
      "[INFO 13:26] - cross_cond norm: [32.69426727294922, 80.58888244628906]\n",
      "[INFO 13:26] - meta_lambda norm: 12.03134822845459\n",
      "[INFO 13:26] - learning_users_emb norm: 0.11089587956666946\n",
      "[INFO 13:26] - meta_params: 0.00390625\n",
      "[INFO 13:26] - cross_cond: 0.00390625\n",
      "[INFO 13:26] - meta_lambda: 0.00390625\n",
      "[INFO 13:26] - learning_users_emb: 3.90625e-06\n",
      "[INFO 13:30] rmse : 0.5384100675582886\n",
      "[INFO 13:30] valid_rmse : 0.6885039210319519\n",
      "[INFO 13:30] valid_loss : 0.9339728951454163\n"
     ]
    },
    {
     "name": "stderr",
     "output_type": "stream",
     "text": [
      " 28%|██▊       | 28/100 [09:03<22:59, 19.16s/it]"
     ]
    },
    {
     "name": "stdout",
     "output_type": "stream",
     "text": [
      "[INFO 13:45] - meta_params gn: [0.029670391231775284, 0.00042488996405154467]\n",
      "[INFO 13:45] - cross_cond gn: [0.03541836515069008, 0.04499395191669464]\n",
      "[INFO 13:45] - meta_lambda gn: 0.8973442316055298\n",
      "[INFO 13:45] - learning_users_emb gn: 27.50181007385254\n",
      "[INFO 13:45] - meta_params norm: [42.435787200927734, 81.10274505615234]\n",
      "[INFO 13:45] - cross_cond norm: [32.693904876708984, 80.5883560180664]\n",
      "[INFO 13:45] - meta_lambda norm: 12.031195640563965\n",
      "[INFO 13:45] - learning_users_emb norm: 0.11088429391384125\n",
      "[INFO 13:45] - meta_params: 0.00390625\n",
      "[INFO 13:45] - cross_cond: 0.00390625\n",
      "[INFO 13:45] - meta_lambda: 0.00390625\n",
      "[INFO 13:45] - learning_users_emb: 3.90625e-06\n",
      "[INFO 13:49] rmse : 0.5392422676086426\n",
      "[INFO 13:49] valid_rmse : 0.6895681023597717\n",
      "[INFO 13:49] valid_loss : 0.9363144040107727\n"
     ]
    },
    {
     "name": "stderr",
     "output_type": "stream",
     "text": [
      " 29%|██▉       | 29/100 [09:22<22:41, 19.18s/it]"
     ]
    },
    {
     "name": "stdout",
     "output_type": "stream",
     "text": [
      "[INFO 14:04] - meta_params gn: [0.01721888594329357, 0.01414725836366415]\n",
      "[INFO 14:04] - cross_cond gn: [0.021195758134126663, 0.008604154922068119]\n",
      "[INFO 14:04] - meta_lambda gn: 0.03438444808125496\n",
      "[INFO 14:04] - learning_users_emb gn: 26.934741973876953\n",
      "[INFO 14:04] - meta_params norm: [42.44063186645508, 81.10352325439453]\n",
      "[INFO 14:04] - cross_cond norm: [32.69260787963867, 80.58771514892578]\n",
      "[INFO 14:04] - meta_lambda norm: 12.02999210357666\n",
      "[INFO 14:04] - learning_users_emb norm: 0.1108727678656578\n",
      "[INFO 14:04] - meta_params: 0.00390625\n",
      "[INFO 14:04] - cross_cond: 0.00390625\n",
      "[INFO 14:04] - meta_lambda: 0.00390625\n",
      "[INFO 14:04] - learning_users_emb: 3.90625e-06\n",
      "[INFO 14:08] rmse : 0.5420071482658386\n",
      "[INFO 14:08] valid_rmse : 0.6931037306785583\n",
      "[INFO 14:08] valid_loss : 0.9381662607192993\n"
     ]
    },
    {
     "name": "stderr",
     "output_type": "stream",
     "text": [
      " 29%|██▉       | 29/100 [09:41<23:44, 20.07s/it]"
     ]
    },
    {
     "name": "stdout",
     "output_type": "stream",
     "text": [
      "[INFO 14:08] -- END Training --\n",
      "[INFO 14:08] train on cuda\n"
     ]
    },
    {
     "name": "stderr",
     "output_type": "stream",
     "text": [
      "\n",
      "100%|██████████| 6/6 [00:04<00:00,  1.36it/s]\n"
     ]
    },
    {
     "name": "stdout",
     "output_type": "stream",
     "text": [
      "0.10356743698221295\n",
      "({0: {'mi_acc': 0.6959640979766846}, 1: {'mi_acc': 0.6944693326950073}, 2: {'mi_acc': 0.6965619921684265}, 3: {'mi_acc': 0.6953662037849426}, 4: {'mi_acc': 0.6982560753822327}, 5: {'mi_acc': 0.7019431591033936}}, {0: {'meta_doa': 0.5306897312546739}, 1: {'meta_doa': 0.5516185199649477}, 2: {'meta_doa': 0.5732004362131401}, 3: {'meta_doa': 0.5981667155380647}, 4: {'meta_doa': 0.6246406800523453}, 5: {'meta_doa': 0.6447807308490011}})\n"
     ]
    }
   ],
   "source": [
    "config['meta_trainer'] = 'GAP'\n",
    "#config['meta_trainer'] = 'Adam'\n",
    "for seed in range(1) :\n",
    "    config['seed'] = seed\n",
    "    logging.info(f'#### seed : {seed} ####')\n",
    "    \n",
    "    train_data.reset_rng()\n",
    "    valid_data.reset_rng()\n",
    "    test_data.reset_rng()\n",
    "\n",
    "\n",
    "    S = liriscat.selectionStrategy.Random(metadata,**config)\n",
    "    S.init_models(train_data, valid_data)\n",
    "    S.train(train_data, valid_data)\n",
    "    liriscat.utils.set_seed(0)\n",
    "    S.reset_rng()\n",
    "    d = (S.evaluate_test(test_data, train_data, valid_data))\n",
    "    print(liriscat.utils.pareto_index(d))\n",
    "    print(d)\n",
    "    torch.cuda.empty_cache()"
   ]
  }
 ],
 "metadata": {
  "kernelspec": {
   "display_name": "Python (liriscat no frozen)",
   "language": "python",
   "name": "liriscat-nofrozen"
  },
  "language_info": {
   "codemirror_mode": {
    "name": "ipython",
    "version": 3
   },
   "file_extension": ".py",
   "mimetype": "text/x-python",
   "name": "python",
   "nbconvert_exporter": "python",
   "pygments_lexer": "ipython3",
   "version": "3.11.11"
  }
 },
 "nbformat": 4,
 "nbformat_minor": 5
}
