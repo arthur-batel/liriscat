{
 "cells": [
  {
   "metadata": {},
   "cell_type": "markdown",
   "source": [
    "# IMPACT paper experiments\n",
    "### 1. Init\n",
    "#### 1.1. Import libraries (necessary)"
   ],
   "id": "78a21ce669eb601d"
  },
  {
   "metadata": {
    "ExecuteTime": {
     "end_time": "2025-03-13T15:38:04.831596Z",
     "start_time": "2025-03-13T15:38:03.337838Z"
    }
   },
   "cell_type": "code",
   "source": [
    "%load_ext autoreload\n",
    "%autoreload 2\n",
    "\n",
    "import sys\n",
    "sys.path.append(\"../../\")\n",
    "\n",
    "import os\n",
    "os.environ[\"PYTORCH_CUDA_ALLOC_CONF\"] = \"expandable_segments:True\"\n",
    "\n",
    "from liriscat import utils\n",
    "utils.set_seed(0)\n",
    "from liriscat import dataset\n",
    "from liriscat import selectionStrategy\n",
    "from liriscat import CDM\n",
    "\n",
    "import logging\n",
    "import gc\n",
    "import json\n",
    "import torch\n",
    "import pandas as pd\n",
    "from importlib import reload\n",
    "import IMPACT"
   ],
   "id": "5b0d5d27c5b782ec",
   "outputs": [],
   "execution_count": 1
  },
  {
   "metadata": {},
   "cell_type": "markdown",
   "source": "#### 1.2. Set up the loggers (recommended)",
   "id": "7edbbd0515734832"
  },
  {
   "metadata": {
    "ExecuteTime": {
     "end_time": "2025-03-13T15:38:04.846958Z",
     "start_time": "2025-03-13T15:38:04.834997Z"
    }
   },
   "cell_type": "code",
   "source": "utils.setuplogger(verbose = True, log_name=\"liriscat\")",
   "id": "b358c4709ccb3845",
   "outputs": [],
   "execution_count": 2
  },
  {
   "metadata": {},
   "cell_type": "markdown",
   "source": [
    "### 2. CDM prediction\n",
    "#### 2.1. Training and testing, sequential version"
   ],
   "id": "44435df786608165"
  },
  {
   "metadata": {
    "ExecuteTime": {
     "end_time": "2025-03-13T15:38:05.770552Z",
     "start_time": "2025-03-13T15:38:04.896239Z"
    }
   },
   "cell_type": "code",
   "source": [
    "import warnings\n",
    "import numpy as np\n",
    "\n",
    "gc.collect()\n",
    "torch.cuda.empty_cache()\n",
    "\n",
    "reload(utils)\n",
    "reload(selectionStrategy)\n",
    "reload(CDM)\n",
    "reload(dataset)"
   ],
   "id": "83d2be5c98d6482",
   "outputs": [
    {
     "data": {
      "text/plain": [
       "<module 'liriscat.dataset' from '/home/arthurb/Programmation/liriscat/liriscat/dataset/__init__.py'>"
      ]
     },
     "execution_count": 3,
     "metadata": {},
     "output_type": "execute_result"
    }
   ],
   "execution_count": 3
  },
  {
   "metadata": {
    "ExecuteTime": {
     "end_time": "2025-03-13T15:44:17.424667Z",
     "start_time": "2025-03-13T15:44:17.407873Z"
    }
   },
   "cell_type": "code",
   "source": [
    "config = utils.generate_eval_config(esc = 'error', valid_metric= 'mi_acc', pred_metrics = ['rmse', 'mi_acc'], profile_metrics = ['doa', 'pc-er', 'rm'], save_params=False, n_query=4, num_epochs=20, batch_size=1024)\n",
    "utils.set_seed(config[\"seed\"])\n",
    "\n",
    "config[\"dataset_name\"] = \"math2\"\n",
    "logging.info(config[\"dataset_name\"])\n",
    "config['learning_rate'] = 0.02026\n",
    "config['lambda'] = 1.2e-5\n",
    "config['d_in'] = 4\n",
    "config['num_responses'] = 12\n",
    "#pred_metrics,df_interp = test(config)"
   ],
   "id": "7f0f4ece676cf862",
   "outputs": [
    {
     "name": "stdout",
     "output_type": "stream",
     "text": [
      "CUDA is available. Using GPU.\n",
      "[INFO 44:17] math2\n"
     ]
    }
   ],
   "execution_count": 10
  },
  {
   "metadata": {
    "ExecuteTime": {
     "end_time": "2025-03-13T15:44:18.290022Z",
     "start_time": "2025-03-13T15:44:18.110064Z"
    }
   },
   "cell_type": "code",
   "source": [
    "logging.info(f'#### {config[\"dataset_name\"]} ####')\n",
    "logging.info(f'#### config : {config} ####')\n",
    "config['embs_path']='../embs/'+str(config[\"dataset_name\"])\n",
    "config['params_path']='../ckpt/'+str(config[\"dataset_name\"])\n",
    "\n",
    "pred_metrics = {m:[] for m in config['pred_metrics']}\n",
    "profile_metrics = {m:[] for m in config['profile_metrics']}\n",
    "\n",
    "gc.collect()\n",
    "torch.cuda.empty_cache()\n",
    "\n",
    "# Dataset downloading for doa and rm\n",
    "warnings.filterwarnings(\"ignore\", message=\"invalid value encountered in divide\")\n",
    "warnings.filterwarnings(\"ignore\", category=RuntimeWarning)\n",
    "\n",
    "## Concept map format : {question_id : [category_id1, category_id2, ...]}\n",
    "concept_map = json.load(open(f'../datasets/2-preprocessed_data/{config[\"dataset_name\"]}_concept_map.json', 'r'))\n",
    "concept_map = {int(k): [int(x) for x in v] for k, v in concept_map.items()}\n",
    "\n",
    "## Metadata map format : {\"num_user_id\": ..., \"num_item_id\": ..., \"num_dimension_id\": ...}\n",
    "metadata = json.load(open(f'../datasets/2-preprocessed_data/{config[\"dataset_name\"]}_metadata.json', 'r'))"
   ],
   "id": "87478e50750bcb2d",
   "outputs": [
    {
     "name": "stdout",
     "output_type": "stream",
     "text": [
      "[INFO 44:18] #### math2 ####\n",
      "[INFO 44:18] #### config : {'seed': 0, 'dataset_name': 'math2', 'load_params': False, 'save_params': False, 'embs_path': '../embs/', 'params_path': '../ckpt/', 'early_stopping': True, 'esc': 'error', 'verbose_early_stopping': False, 'disable_tqdm': False, 'valid_metric': 'mi_acc', 'learning_rate': 0.02026, 'batch_size': 1024, 'num_epochs': 20, 'eval_freq': 1, 'patience': 30, 'device': device(type='cuda'), 'lambda': 1.2e-05, 'tensorboard': False, 'flush_freq': True, 'pred_metrics': ['rmse', 'mi_acc'], 'profile_metrics': ['doa', 'pc-er', 'rm'], 'num_responses': 12, 'low_mem': False, 'n_query': 4, 'CDM': 'impact', 'd_in': 4} ####\n"
     ]
    }
   ],
   "execution_count": 11
  },
  {
   "metadata": {
    "ExecuteTime": {
     "end_time": "2025-03-13T15:44:18.885395Z",
     "start_time": "2025-03-13T15:44:18.830370Z"
    }
   },
   "cell_type": "code",
   "source": [
    "i_fold = 0\n",
    "## Dataframe columns : (user_id, question_id, response, category_id)\n",
    "train_df = pd.read_csv(\n",
    "    f'../datasets/2-preprocessed_data/{config[\"dataset_name\"]}_train_{i_fold}.csv',\n",
    "    encoding='utf-8', dtype={'student_id': int, 'item_id': int, \"correct\": float,\n",
    "                                                             \"dimension_id\": int})\n",
    "valid_df = pd.read_csv(\n",
    "    f'../datasets/2-preprocessed_data/{config[\"dataset_name\"]}_valid_{i_fold}.csv',\n",
    "    encoding='utf-8', dtype={'student_id': int, 'item_id': int, \"correct\": float,\n",
    "                                                             \"dimension_id\": int})\n",
    "test_df = pd.read_csv(\n",
    "    f'../datasets/2-preprocessed_data/{config[\"dataset_name\"]}_test_{i_fold}.csv',\n",
    "    encoding='utf-8', dtype={'student_id': int, 'item_id': int, \"correct\": float,\n",
    "                                                             \"dimension_id\": int})"
   ],
   "id": "f708e72f1ffe442f",
   "outputs": [],
   "execution_count": 12
  },
  {
   "metadata": {
    "ExecuteTime": {
     "end_time": "2025-03-13T15:44:19.908097Z",
     "start_time": "2025-03-13T15:44:19.438578Z"
    }
   },
   "cell_type": "code",
   "source": [
    "reload(dataset)\n",
    "train_data = dataset.CATDataset(train_df, concept_map, metadata, config)\n",
    "valid_data = dataset.CATDataset(valid_df, concept_map, metadata, config)\n",
    "test_data = dataset.CATDataset(test_df, concept_map, metadata, config)"
   ],
   "id": "486ca1c99057160d",
   "outputs": [
    {
     "name": "stderr",
     "output_type": "stream",
     "text": [
      "/home/arthurb/Programmation/liriscat/liriscat/dataset/dataset.py:135: UserWarning: The torch_array contains both query and the meta set !\n",
      "  warnings.warn(\"The torch_array contains both query and the meta set !\")\n",
      "/home/arthurb/Programmation/liriscat/liriscat/dataset/dataset.py:140: UserWarning: The log_tensor contains both query and the meta set !\n",
      "  warnings.warn(\"The log_tensor contains both query and the meta set !\")\n"
     ]
    }
   ],
   "execution_count": 13
  },
  {
   "metadata": {
    "ExecuteTime": {
     "end_time": "2025-03-13T15:48:07.575619Z",
     "start_time": "2025-03-13T15:44:20.462640Z"
    }
   },
   "cell_type": "code",
   "source": [
    "reload(utils)\n",
    "reload(selectionStrategy)\n",
    "reload(dataset)\n",
    "\n",
    "S = selectionStrategy.Random(**config)\n",
    "S.train(train_data, valid_data)"
   ],
   "id": "357d67780a6318ec",
   "outputs": [
    {
     "name": "stdout",
     "output_type": "stream",
     "text": [
      "RandomModel()\n",
      "[INFO 44:20] train on cuda\n",
      "[INFO 44:20] -- START Training --\n"
     ]
    },
    {
     "name": "stderr",
     "output_type": "stream",
     "text": [
      "/home/arthurb/Programmation/liriscat/liriscat/selectionStrategy/random.py:40: UserWarning: get_params() Notimplemented\n",
      "  warnings.warn('get_params() Notimplemented')\n",
      "/home/arthurb/Programmation/liriscat/liriscat/dataset/dataset.py:145: UserWarning: The user_dict contains both query and the meta set !\n",
      "  warnings.warn(\"The user_dict contains both query and the meta set !\")\n",
      "  0%|          | 0/20 [00:00<?, ?it/s]/home/arthurb/Programmation/liriscat/liriscat/dataset/dataset.py:240: UserWarning: To copy construct from a tensor, it is recommended to use sourceTensor.clone().detach() or sourceTensor.clone().detach().requires_grad_(True), rather than torch.tensor(sourceTensor).\n",
      "  categories = torch.tensor(qc, device=device)\n",
      "/home/arthurb/Programmation/liriscat/liriscat/dataset/dataset.py:251: UserWarning: To copy construct from a tensor, it is recommended to use sourceTensor.clone().detach() or sourceTensor.clone().detach().requires_grad_(True), rather than torch.tensor(sourceTensor).\n",
      "  result[pos:pos + l] = torch.tensor(lst, dtype=dtype, device=device)\n",
      "  5%|▌         | 1/20 [00:10<03:28, 10.96s/it]"
     ]
    },
    {
     "name": "stdout",
     "output_type": "stream",
     "text": [
      "tensor(0.4826, device='cuda:0')\n"
     ]
    },
    {
     "name": "stderr",
     "output_type": "stream",
     "text": [
      "/home/arthurb/Programmation/liriscat/liriscat/dataset/dataset.py:145: UserWarning: The user_dict contains both query and the meta set !\n",
      "  warnings.warn(\"The user_dict contains both query and the meta set !\")\n",
      "/home/arthurb/Programmation/liriscat/liriscat/dataset/dataset.py:240: UserWarning: To copy construct from a tensor, it is recommended to use sourceTensor.clone().detach() or sourceTensor.clone().detach().requires_grad_(True), rather than torch.tensor(sourceTensor).\n",
      "  categories = torch.tensor(qc, device=device)\n",
      "/home/arthurb/Programmation/liriscat/liriscat/dataset/dataset.py:251: UserWarning: To copy construct from a tensor, it is recommended to use sourceTensor.clone().detach() or sourceTensor.clone().detach().requires_grad_(True), rather than torch.tensor(sourceTensor).\n",
      "  result[pos:pos + l] = torch.tensor(lst, dtype=dtype, device=device)\n",
      " 10%|█         | 2/20 [00:21<03:15, 10.84s/it]"
     ]
    },
    {
     "name": "stdout",
     "output_type": "stream",
     "text": [
      "tensor(0.4826, device='cuda:0')\n"
     ]
    },
    {
     "name": "stderr",
     "output_type": "stream",
     "text": [
      "/home/arthurb/Programmation/liriscat/liriscat/dataset/dataset.py:145: UserWarning: The user_dict contains both query and the meta set !\n",
      "  warnings.warn(\"The user_dict contains both query and the meta set !\")\n",
      "/home/arthurb/Programmation/liriscat/liriscat/dataset/dataset.py:240: UserWarning: To copy construct from a tensor, it is recommended to use sourceTensor.clone().detach() or sourceTensor.clone().detach().requires_grad_(True), rather than torch.tensor(sourceTensor).\n",
      "  categories = torch.tensor(qc, device=device)\n",
      "/home/arthurb/Programmation/liriscat/liriscat/dataset/dataset.py:251: UserWarning: To copy construct from a tensor, it is recommended to use sourceTensor.clone().detach() or sourceTensor.clone().detach().requires_grad_(True), rather than torch.tensor(sourceTensor).\n",
      "  result[pos:pos + l] = torch.tensor(lst, dtype=dtype, device=device)\n",
      " 15%|█▌        | 3/20 [00:32<03:02, 10.74s/it]"
     ]
    },
    {
     "name": "stdout",
     "output_type": "stream",
     "text": [
      "tensor(0.4826, device='cuda:0')\n"
     ]
    },
    {
     "name": "stderr",
     "output_type": "stream",
     "text": [
      "/home/arthurb/Programmation/liriscat/liriscat/dataset/dataset.py:145: UserWarning: The user_dict contains both query and the meta set !\n",
      "  warnings.warn(\"The user_dict contains both query and the meta set !\")\n",
      "/home/arthurb/Programmation/liriscat/liriscat/dataset/dataset.py:240: UserWarning: To copy construct from a tensor, it is recommended to use sourceTensor.clone().detach() or sourceTensor.clone().detach().requires_grad_(True), rather than torch.tensor(sourceTensor).\n",
      "  categories = torch.tensor(qc, device=device)\n",
      "/home/arthurb/Programmation/liriscat/liriscat/dataset/dataset.py:251: UserWarning: To copy construct from a tensor, it is recommended to use sourceTensor.clone().detach() or sourceTensor.clone().detach().requires_grad_(True), rather than torch.tensor(sourceTensor).\n",
      "  result[pos:pos + l] = torch.tensor(lst, dtype=dtype, device=device)\n",
      " 20%|██        | 4/20 [00:42<02:48, 10.50s/it]"
     ]
    },
    {
     "name": "stdout",
     "output_type": "stream",
     "text": [
      "tensor(0.4826, device='cuda:0')\n"
     ]
    },
    {
     "name": "stderr",
     "output_type": "stream",
     "text": [
      "/home/arthurb/Programmation/liriscat/liriscat/dataset/dataset.py:145: UserWarning: The user_dict contains both query and the meta set !\n",
      "  warnings.warn(\"The user_dict contains both query and the meta set !\")\n",
      "/home/arthurb/Programmation/liriscat/liriscat/dataset/dataset.py:240: UserWarning: To copy construct from a tensor, it is recommended to use sourceTensor.clone().detach() or sourceTensor.clone().detach().requires_grad_(True), rather than torch.tensor(sourceTensor).\n",
      "  categories = torch.tensor(qc, device=device)\n",
      "/home/arthurb/Programmation/liriscat/liriscat/dataset/dataset.py:251: UserWarning: To copy construct from a tensor, it is recommended to use sourceTensor.clone().detach() or sourceTensor.clone().detach().requires_grad_(True), rather than torch.tensor(sourceTensor).\n",
      "  result[pos:pos + l] = torch.tensor(lst, dtype=dtype, device=device)\n",
      " 25%|██▌       | 5/20 [00:52<02:36, 10.45s/it]"
     ]
    },
    {
     "name": "stdout",
     "output_type": "stream",
     "text": [
      "tensor(0.4826, device='cuda:0')\n"
     ]
    },
    {
     "name": "stderr",
     "output_type": "stream",
     "text": [
      "/home/arthurb/Programmation/liriscat/liriscat/dataset/dataset.py:145: UserWarning: The user_dict contains both query and the meta set !\n",
      "  warnings.warn(\"The user_dict contains both query and the meta set !\")\n",
      "/home/arthurb/Programmation/liriscat/liriscat/dataset/dataset.py:240: UserWarning: To copy construct from a tensor, it is recommended to use sourceTensor.clone().detach() or sourceTensor.clone().detach().requires_grad_(True), rather than torch.tensor(sourceTensor).\n",
      "  categories = torch.tensor(qc, device=device)\n",
      "/home/arthurb/Programmation/liriscat/liriscat/dataset/dataset.py:251: UserWarning: To copy construct from a tensor, it is recommended to use sourceTensor.clone().detach() or sourceTensor.clone().detach().requires_grad_(True), rather than torch.tensor(sourceTensor).\n",
      "  result[pos:pos + l] = torch.tensor(lst, dtype=dtype, device=device)\n",
      " 30%|███       | 6/20 [01:04<02:30, 10.79s/it]"
     ]
    },
    {
     "name": "stdout",
     "output_type": "stream",
     "text": [
      "tensor(0.4826, device='cuda:0')\n"
     ]
    },
    {
     "name": "stderr",
     "output_type": "stream",
     "text": [
      "/home/arthurb/Programmation/liriscat/liriscat/dataset/dataset.py:145: UserWarning: The user_dict contains both query and the meta set !\n",
      "  warnings.warn(\"The user_dict contains both query and the meta set !\")\n",
      "/home/arthurb/Programmation/liriscat/liriscat/dataset/dataset.py:240: UserWarning: To copy construct from a tensor, it is recommended to use sourceTensor.clone().detach() or sourceTensor.clone().detach().requires_grad_(True), rather than torch.tensor(sourceTensor).\n",
      "  categories = torch.tensor(qc, device=device)\n",
      "/home/arthurb/Programmation/liriscat/liriscat/dataset/dataset.py:251: UserWarning: To copy construct from a tensor, it is recommended to use sourceTensor.clone().detach() or sourceTensor.clone().detach().requires_grad_(True), rather than torch.tensor(sourceTensor).\n",
      "  result[pos:pos + l] = torch.tensor(lst, dtype=dtype, device=device)\n",
      " 35%|███▌      | 7/20 [01:14<02:18, 10.63s/it]"
     ]
    },
    {
     "name": "stdout",
     "output_type": "stream",
     "text": [
      "tensor(0.4826, device='cuda:0')\n"
     ]
    },
    {
     "name": "stderr",
     "output_type": "stream",
     "text": [
      "/home/arthurb/Programmation/liriscat/liriscat/dataset/dataset.py:145: UserWarning: The user_dict contains both query and the meta set !\n",
      "  warnings.warn(\"The user_dict contains both query and the meta set !\")\n",
      "/home/arthurb/Programmation/liriscat/liriscat/dataset/dataset.py:240: UserWarning: To copy construct from a tensor, it is recommended to use sourceTensor.clone().detach() or sourceTensor.clone().detach().requires_grad_(True), rather than torch.tensor(sourceTensor).\n",
      "  categories = torch.tensor(qc, device=device)\n",
      "/home/arthurb/Programmation/liriscat/liriscat/dataset/dataset.py:251: UserWarning: To copy construct from a tensor, it is recommended to use sourceTensor.clone().detach() or sourceTensor.clone().detach().requires_grad_(True), rather than torch.tensor(sourceTensor).\n",
      "  result[pos:pos + l] = torch.tensor(lst, dtype=dtype, device=device)\n",
      " 40%|████      | 8/20 [01:28<02:18, 11.55s/it]"
     ]
    },
    {
     "name": "stdout",
     "output_type": "stream",
     "text": [
      "tensor(0.4826, device='cuda:0')\n"
     ]
    },
    {
     "name": "stderr",
     "output_type": "stream",
     "text": [
      "/home/arthurb/Programmation/liriscat/liriscat/dataset/dataset.py:145: UserWarning: The user_dict contains both query and the meta set !\n",
      "  warnings.warn(\"The user_dict contains both query and the meta set !\")\n",
      "/home/arthurb/Programmation/liriscat/liriscat/dataset/dataset.py:240: UserWarning: To copy construct from a tensor, it is recommended to use sourceTensor.clone().detach() or sourceTensor.clone().detach().requires_grad_(True), rather than torch.tensor(sourceTensor).\n",
      "  categories = torch.tensor(qc, device=device)\n",
      "/home/arthurb/Programmation/liriscat/liriscat/dataset/dataset.py:251: UserWarning: To copy construct from a tensor, it is recommended to use sourceTensor.clone().detach() or sourceTensor.clone().detach().requires_grad_(True), rather than torch.tensor(sourceTensor).\n",
      "  result[pos:pos + l] = torch.tensor(lst, dtype=dtype, device=device)\n",
      " 45%|████▌     | 9/20 [01:38<02:03, 11.19s/it]"
     ]
    },
    {
     "name": "stdout",
     "output_type": "stream",
     "text": [
      "tensor(0.4826, device='cuda:0')\n"
     ]
    },
    {
     "name": "stderr",
     "output_type": "stream",
     "text": [
      "/home/arthurb/Programmation/liriscat/liriscat/dataset/dataset.py:145: UserWarning: The user_dict contains both query and the meta set !\n",
      "  warnings.warn(\"The user_dict contains both query and the meta set !\")\n",
      "/home/arthurb/Programmation/liriscat/liriscat/dataset/dataset.py:240: UserWarning: To copy construct from a tensor, it is recommended to use sourceTensor.clone().detach() or sourceTensor.clone().detach().requires_grad_(True), rather than torch.tensor(sourceTensor).\n",
      "  categories = torch.tensor(qc, device=device)\n",
      "/home/arthurb/Programmation/liriscat/liriscat/dataset/dataset.py:251: UserWarning: To copy construct from a tensor, it is recommended to use sourceTensor.clone().detach() or sourceTensor.clone().detach().requires_grad_(True), rather than torch.tensor(sourceTensor).\n",
      "  result[pos:pos + l] = torch.tensor(lst, dtype=dtype, device=device)\n",
      " 50%|█████     | 10/20 [01:48<01:49, 10.91s/it]"
     ]
    },
    {
     "name": "stdout",
     "output_type": "stream",
     "text": [
      "tensor(0.4826, device='cuda:0')\n"
     ]
    },
    {
     "name": "stderr",
     "output_type": "stream",
     "text": [
      "/home/arthurb/Programmation/liriscat/liriscat/dataset/dataset.py:145: UserWarning: The user_dict contains both query and the meta set !\n",
      "  warnings.warn(\"The user_dict contains both query and the meta set !\")\n",
      "/home/arthurb/Programmation/liriscat/liriscat/dataset/dataset.py:240: UserWarning: To copy construct from a tensor, it is recommended to use sourceTensor.clone().detach() or sourceTensor.clone().detach().requires_grad_(True), rather than torch.tensor(sourceTensor).\n",
      "  categories = torch.tensor(qc, device=device)\n",
      "/home/arthurb/Programmation/liriscat/liriscat/dataset/dataset.py:251: UserWarning: To copy construct from a tensor, it is recommended to use sourceTensor.clone().detach() or sourceTensor.clone().detach().requires_grad_(True), rather than torch.tensor(sourceTensor).\n",
      "  result[pos:pos + l] = torch.tensor(lst, dtype=dtype, device=device)\n",
      " 55%|█████▌    | 11/20 [01:59<01:37, 10.86s/it]"
     ]
    },
    {
     "name": "stdout",
     "output_type": "stream",
     "text": [
      "tensor(0.4826, device='cuda:0')\n"
     ]
    },
    {
     "name": "stderr",
     "output_type": "stream",
     "text": [
      "/home/arthurb/Programmation/liriscat/liriscat/dataset/dataset.py:145: UserWarning: The user_dict contains both query and the meta set !\n",
      "  warnings.warn(\"The user_dict contains both query and the meta set !\")\n",
      "/home/arthurb/Programmation/liriscat/liriscat/dataset/dataset.py:240: UserWarning: To copy construct from a tensor, it is recommended to use sourceTensor.clone().detach() or sourceTensor.clone().detach().requires_grad_(True), rather than torch.tensor(sourceTensor).\n",
      "  categories = torch.tensor(qc, device=device)\n",
      "/home/arthurb/Programmation/liriscat/liriscat/dataset/dataset.py:251: UserWarning: To copy construct from a tensor, it is recommended to use sourceTensor.clone().detach() or sourceTensor.clone().detach().requires_grad_(True), rather than torch.tensor(sourceTensor).\n",
      "  result[pos:pos + l] = torch.tensor(lst, dtype=dtype, device=device)\n",
      " 60%|██████    | 12/20 [02:10<01:25, 10.74s/it]"
     ]
    },
    {
     "name": "stdout",
     "output_type": "stream",
     "text": [
      "tensor(0.4826, device='cuda:0')\n"
     ]
    },
    {
     "name": "stderr",
     "output_type": "stream",
     "text": [
      "/home/arthurb/Programmation/liriscat/liriscat/dataset/dataset.py:145: UserWarning: The user_dict contains both query and the meta set !\n",
      "  warnings.warn(\"The user_dict contains both query and the meta set !\")\n",
      "/home/arthurb/Programmation/liriscat/liriscat/dataset/dataset.py:240: UserWarning: To copy construct from a tensor, it is recommended to use sourceTensor.clone().detach() or sourceTensor.clone().detach().requires_grad_(True), rather than torch.tensor(sourceTensor).\n",
      "  categories = torch.tensor(qc, device=device)\n",
      "/home/arthurb/Programmation/liriscat/liriscat/dataset/dataset.py:251: UserWarning: To copy construct from a tensor, it is recommended to use sourceTensor.clone().detach() or sourceTensor.clone().detach().requires_grad_(True), rather than torch.tensor(sourceTensor).\n",
      "  result[pos:pos + l] = torch.tensor(lst, dtype=dtype, device=device)\n",
      " 65%|██████▌   | 13/20 [02:20<01:14, 10.63s/it]"
     ]
    },
    {
     "name": "stdout",
     "output_type": "stream",
     "text": [
      "tensor(0.4826, device='cuda:0')\n"
     ]
    },
    {
     "name": "stderr",
     "output_type": "stream",
     "text": [
      "/home/arthurb/Programmation/liriscat/liriscat/dataset/dataset.py:145: UserWarning: The user_dict contains both query and the meta set !\n",
      "  warnings.warn(\"The user_dict contains both query and the meta set !\")\n",
      "/home/arthurb/Programmation/liriscat/liriscat/dataset/dataset.py:240: UserWarning: To copy construct from a tensor, it is recommended to use sourceTensor.clone().detach() or sourceTensor.clone().detach().requires_grad_(True), rather than torch.tensor(sourceTensor).\n",
      "  categories = torch.tensor(qc, device=device)\n",
      "/home/arthurb/Programmation/liriscat/liriscat/dataset/dataset.py:251: UserWarning: To copy construct from a tensor, it is recommended to use sourceTensor.clone().detach() or sourceTensor.clone().detach().requires_grad_(True), rather than torch.tensor(sourceTensor).\n",
      "  result[pos:pos + l] = torch.tensor(lst, dtype=dtype, device=device)\n",
      " 70%|███████   | 14/20 [02:30<01:03, 10.53s/it]"
     ]
    },
    {
     "name": "stdout",
     "output_type": "stream",
     "text": [
      "tensor(0.4826, device='cuda:0')\n"
     ]
    },
    {
     "name": "stderr",
     "output_type": "stream",
     "text": [
      "/home/arthurb/Programmation/liriscat/liriscat/dataset/dataset.py:145: UserWarning: The user_dict contains both query and the meta set !\n",
      "  warnings.warn(\"The user_dict contains both query and the meta set !\")\n",
      "/home/arthurb/Programmation/liriscat/liriscat/dataset/dataset.py:240: UserWarning: To copy construct from a tensor, it is recommended to use sourceTensor.clone().detach() or sourceTensor.clone().detach().requires_grad_(True), rather than torch.tensor(sourceTensor).\n",
      "  categories = torch.tensor(qc, device=device)\n",
      "/home/arthurb/Programmation/liriscat/liriscat/dataset/dataset.py:251: UserWarning: To copy construct from a tensor, it is recommended to use sourceTensor.clone().detach() or sourceTensor.clone().detach().requires_grad_(True), rather than torch.tensor(sourceTensor).\n",
      "  result[pos:pos + l] = torch.tensor(lst, dtype=dtype, device=device)\n",
      " 75%|███████▌  | 15/20 [02:41<00:52, 10.49s/it]"
     ]
    },
    {
     "name": "stdout",
     "output_type": "stream",
     "text": [
      "tensor(0.4826, device='cuda:0')\n"
     ]
    },
    {
     "name": "stderr",
     "output_type": "stream",
     "text": [
      "/home/arthurb/Programmation/liriscat/liriscat/dataset/dataset.py:145: UserWarning: The user_dict contains both query and the meta set !\n",
      "  warnings.warn(\"The user_dict contains both query and the meta set !\")\n",
      "/home/arthurb/Programmation/liriscat/liriscat/dataset/dataset.py:240: UserWarning: To copy construct from a tensor, it is recommended to use sourceTensor.clone().detach() or sourceTensor.clone().detach().requires_grad_(True), rather than torch.tensor(sourceTensor).\n",
      "  categories = torch.tensor(qc, device=device)\n",
      "/home/arthurb/Programmation/liriscat/liriscat/dataset/dataset.py:251: UserWarning: To copy construct from a tensor, it is recommended to use sourceTensor.clone().detach() or sourceTensor.clone().detach().requires_grad_(True), rather than torch.tensor(sourceTensor).\n",
      "  result[pos:pos + l] = torch.tensor(lst, dtype=dtype, device=device)\n",
      " 80%|████████  | 16/20 [02:51<00:41, 10.43s/it]"
     ]
    },
    {
     "name": "stdout",
     "output_type": "stream",
     "text": [
      "tensor(0.4826, device='cuda:0')\n"
     ]
    },
    {
     "name": "stderr",
     "output_type": "stream",
     "text": [
      "/home/arthurb/Programmation/liriscat/liriscat/dataset/dataset.py:145: UserWarning: The user_dict contains both query and the meta set !\n",
      "  warnings.warn(\"The user_dict contains both query and the meta set !\")\n",
      "/home/arthurb/Programmation/liriscat/liriscat/dataset/dataset.py:240: UserWarning: To copy construct from a tensor, it is recommended to use sourceTensor.clone().detach() or sourceTensor.clone().detach().requires_grad_(True), rather than torch.tensor(sourceTensor).\n",
      "  categories = torch.tensor(qc, device=device)\n",
      "/home/arthurb/Programmation/liriscat/liriscat/dataset/dataset.py:251: UserWarning: To copy construct from a tensor, it is recommended to use sourceTensor.clone().detach() or sourceTensor.clone().detach().requires_grad_(True), rather than torch.tensor(sourceTensor).\n",
      "  result[pos:pos + l] = torch.tensor(lst, dtype=dtype, device=device)\n",
      " 85%|████████▌ | 17/20 [03:02<00:32, 10.71s/it]"
     ]
    },
    {
     "name": "stdout",
     "output_type": "stream",
     "text": [
      "tensor(0.4826, device='cuda:0')\n"
     ]
    },
    {
     "name": "stderr",
     "output_type": "stream",
     "text": [
      "/home/arthurb/Programmation/liriscat/liriscat/dataset/dataset.py:145: UserWarning: The user_dict contains both query and the meta set !\n",
      "  warnings.warn(\"The user_dict contains both query and the meta set !\")\n",
      "/home/arthurb/Programmation/liriscat/liriscat/dataset/dataset.py:240: UserWarning: To copy construct from a tensor, it is recommended to use sourceTensor.clone().detach() or sourceTensor.clone().detach().requires_grad_(True), rather than torch.tensor(sourceTensor).\n",
      "  categories = torch.tensor(qc, device=device)\n",
      "/home/arthurb/Programmation/liriscat/liriscat/dataset/dataset.py:251: UserWarning: To copy construct from a tensor, it is recommended to use sourceTensor.clone().detach() or sourceTensor.clone().detach().requires_grad_(True), rather than torch.tensor(sourceTensor).\n",
      "  result[pos:pos + l] = torch.tensor(lst, dtype=dtype, device=device)\n",
      " 90%|█████████ | 18/20 [03:13<00:21, 10.85s/it]"
     ]
    },
    {
     "name": "stdout",
     "output_type": "stream",
     "text": [
      "tensor(0.4826, device='cuda:0')\n"
     ]
    },
    {
     "name": "stderr",
     "output_type": "stream",
     "text": [
      "/home/arthurb/Programmation/liriscat/liriscat/dataset/dataset.py:145: UserWarning: The user_dict contains both query and the meta set !\n",
      "  warnings.warn(\"The user_dict contains both query and the meta set !\")\n",
      "/home/arthurb/Programmation/liriscat/liriscat/dataset/dataset.py:240: UserWarning: To copy construct from a tensor, it is recommended to use sourceTensor.clone().detach() or sourceTensor.clone().detach().requires_grad_(True), rather than torch.tensor(sourceTensor).\n",
      "  categories = torch.tensor(qc, device=device)\n",
      "/home/arthurb/Programmation/liriscat/liriscat/dataset/dataset.py:251: UserWarning: To copy construct from a tensor, it is recommended to use sourceTensor.clone().detach() or sourceTensor.clone().detach().requires_grad_(True), rather than torch.tensor(sourceTensor).\n",
      "  result[pos:pos + l] = torch.tensor(lst, dtype=dtype, device=device)\n",
      " 95%|█████████▌| 19/20 [03:25<00:11, 11.07s/it]"
     ]
    },
    {
     "name": "stdout",
     "output_type": "stream",
     "text": [
      "tensor(0.4826, device='cuda:0')\n"
     ]
    },
    {
     "name": "stderr",
     "output_type": "stream",
     "text": [
      "/home/arthurb/Programmation/liriscat/liriscat/dataset/dataset.py:145: UserWarning: The user_dict contains both query and the meta set !\n",
      "  warnings.warn(\"The user_dict contains both query and the meta set !\")\n",
      "/home/arthurb/Programmation/liriscat/liriscat/dataset/dataset.py:240: UserWarning: To copy construct from a tensor, it is recommended to use sourceTensor.clone().detach() or sourceTensor.clone().detach().requires_grad_(True), rather than torch.tensor(sourceTensor).\n",
      "  categories = torch.tensor(qc, device=device)\n",
      "/home/arthurb/Programmation/liriscat/liriscat/dataset/dataset.py:251: UserWarning: To copy construct from a tensor, it is recommended to use sourceTensor.clone().detach() or sourceTensor.clone().detach().requires_grad_(True), rather than torch.tensor(sourceTensor).\n",
      "  result[pos:pos + l] = torch.tensor(lst, dtype=dtype, device=device)\n",
      "100%|██████████| 20/20 [03:35<00:00, 10.90s/it]"
     ]
    },
    {
     "name": "stdout",
     "output_type": "stream",
     "text": [
      "tensor(0.4826, device='cuda:0')\n"
     ]
    },
    {
     "name": "stderr",
     "output_type": "stream",
     "text": [
      "/home/arthurb/Programmation/liriscat/liriscat/dataset/dataset.py:145: UserWarning: The user_dict contains both query and the meta set !\n",
      "  warnings.warn(\"The user_dict contains both query and the meta set !\")\n",
      "/home/arthurb/Programmation/liriscat/liriscat/dataset/dataset.py:240: UserWarning: To copy construct from a tensor, it is recommended to use sourceTensor.clone().detach() or sourceTensor.clone().detach().requires_grad_(True), rather than torch.tensor(sourceTensor).\n",
      "  categories = torch.tensor(qc, device=device)\n",
      "/home/arthurb/Programmation/liriscat/liriscat/dataset/dataset.py:251: UserWarning: To copy construct from a tensor, it is recommended to use sourceTensor.clone().detach() or sourceTensor.clone().detach().requires_grad_(True), rather than torch.tensor(sourceTensor).\n",
      "  result[pos:pos + l] = torch.tensor(lst, dtype=dtype, device=device)\n",
      "21it [03:47, 10.81s/it]                        "
     ]
    },
    {
     "name": "stdout",
     "output_type": "stream",
     "text": [
      "tensor(0.4826, device='cuda:0')\n",
      "[INFO 48:07] -- END Training --\n"
     ]
    },
    {
     "name": "stderr",
     "output_type": "stream",
     "text": [
      "\n"
     ]
    }
   ],
   "execution_count": 14
  },
  {
   "metadata": {
    "collapsed": true
   },
   "cell_type": "code",
   "outputs": [],
   "execution_count": null,
   "source": [
    "import numpy as np\n",
    "\n",
    "def split_by_u_q_optimized(u, q, random_state=None):\n",
    "    \"\"\"\n",
    "    Splits data tuples into two groups (e.g., query and meta) without separating tuples\n",
    "    that share the same (u, q) pair.\n",
    "\n",
    "    Optimized version: sorts the data by u so that each user's indices are contiguous,\n",
    "    then processes each block to assign a random group label per unique q.\n",
    "\n",
    "    Parameters\n",
    "    ----------\n",
    "    u : array-like\n",
    "        Array of user values.\n",
    "    q : array-like\n",
    "        Array of question values.\n",
    "    random_state : int or None, optional\n",
    "        Seed for reproducibility.\n",
    "\n",
    "    Returns\n",
    "    -------\n",
    "    groups : np.ndarray\n",
    "        Array of group labels (0 or 1) for each data tuple.\n",
    "    \"\"\"\n",
    "    # Convert to numpy arrays\n",
    "    u = np.asarray(u)\n",
    "    q = np.asarray(q)\n",
    "    groups = np.empty(u.shape[0], dtype=np.int8)\n",
    "\n",
    "    rng = np.random.default_rng(random_state)\n",
    "\n",
    "    # Sort indices by u so that rows for the same user are contiguous.\n",
    "    sorted_u_idx = np.argsort(u)\n",
    "    u_sorted = u[sorted_u_idx]\n",
    "\n",
    "    # Find the boundaries for each unique user.\n",
    "    unique_users, start_idx = np.unique(u_sorted, return_index=True)\n",
    "    end_idx = np.append(start_idx[1:], len(u_sorted))\n",
    "\n",
    "    # Process each contiguous block corresponding to a single user.\n",
    "    for s, e in zip(start_idx, end_idx):\n",
    "        block_idx = sorted_u_idx[s:e]  # indices for one user\n",
    "        q_block = q[block_idx]\n",
    "        # For this user's block, get unique q values and an inverse index\n",
    "        unique_q, inv = np.unique(q_block, return_inverse=True)\n",
    "        # Randomly assign a group label (0 or 1) for each unique q in this block\n",
    "        group_assignments = rng.choice([0, 1], size=len(unique_q), p=[0.8,0.2])\n",
    "        # Map the group labels back to the original indices in the block\n",
    "        groups[block_idx] = group_assignments[inv]\n",
    "\n",
    "    return groups\n",
    "\n",
    "# Example usage:\n",
    "# Let's assume train[0] is a structured array/dict-like with keys 'user_id' and 'item_id'.\n",
    "# For demonstration, we simulate some sample data:\n",
    "\n",
    "import time\n",
    "start = time.time()\n",
    "\n",
    "for i in range(1):\n",
    "    group_labels = split_by_u_q_optimized(train[0]['user_id'], train[0]['item_id'], random_state=42)\n",
    "\n",
    "    # Now, all tuples with the same (user_id, item_id) pair have the same group label.\n",
    "    query_mask = (group_labels == 0)\n",
    "    meta_mask  = (group_labels == 1)\n",
    "\n",
    "    query_users = train[0]['user_id'][query_mask].to_numpy()\n",
    "    query_questions = train[0]['item_id'][query_mask].to_numpy()\n",
    "    meta_users = train[0]['user_id'][meta_mask].to_numpy()\n",
    "    meta_questions = train[0]['item_id'][meta_mask].to_numpy()\n",
    "    #print(s2)\n",
    "print(\"Total time:\", time.time() - start)\n"
   ],
   "id": "initial_id"
  }
 ],
 "metadata": {
  "kernelspec": {
   "display_name": "Python 3",
   "language": "python",
   "name": "python3"
  },
  "language_info": {
   "codemirror_mode": {
    "name": "ipython",
    "version": 2
   },
   "file_extension": ".py",
   "mimetype": "text/x-python",
   "name": "python",
   "nbconvert_exporter": "python",
   "pygments_lexer": "ipython2",
   "version": "2.7.6"
  }
 },
 "nbformat": 4,
 "nbformat_minor": 5
}
