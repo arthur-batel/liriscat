{
 "cells": [
  {
   "cell_type": "markdown",
   "id": "78a21ce669eb601d",
   "metadata": {},
   "source": [
    "# Liriscat paper experiments\n",
    "### 1. Init\n",
    "#### 1.1. Import libraries (necessary)"
   ]
  },
  {
   "cell_type": "code",
   "execution_count": 1,
   "id": "5b0d5d27c5b782ec",
   "metadata": {
    "ExecuteTime": {
     "end_time": "2025-03-28T16:00:43.125550Z",
     "start_time": "2025-03-28T16:00:41.971774Z"
    }
   },
   "outputs": [],
   "source": [
    "%load_ext autoreload\n",
    "%autoreload 2\n",
    "\n",
    "import os\n",
    "os.environ[\"PYTORCH_CUDA_ALLOC_CONF\"] = \"expandable_segments:True\"\n",
    "os.environ[\"PYTHONHASHSEED\"] = \"0\"\n",
    "os.environ['CUBLAS_WORKSPACE_CONFIG'] = \":4096:8\"\n",
    "\n",
    "import liriscat\n",
    "liriscat.utils.set_seed(0)\n",
    "\n",
    "import logging\n",
    "import gc\n",
    "import json\n",
    "import torch\n",
    "liriscat.utils.set_seed(0)\n",
    "import pandas as pd"
   ]
  },
  {
   "cell_type": "markdown",
   "id": "32ab0bc4902808a9",
   "metadata": {},
   "source": [
    "#### 1.2. Set up the loggers (recommended)"
   ]
  },
  {
   "cell_type": "code",
   "execution_count": 2,
   "id": "b358c4709ccb3845",
   "metadata": {
    "ExecuteTime": {
     "end_time": "2025-03-27T16:01:06.271337Z",
     "start_time": "2025-03-27T16:01:06.259238Z"
    }
   },
   "outputs": [],
   "source": [
    "liriscat.utils.setuplogger(verbose = True, log_name=\"liriscat\", debug=True)"
   ]
  },
  {
   "cell_type": "markdown",
   "id": "5e97a539f6607db0",
   "metadata": {},
   "source": [
    "### 2. CDM prediction\n",
    "#### 2.1. Training and testing, sequential version"
   ]
  },
  {
   "cell_type": "code",
   "execution_count": 3,
   "id": "83d2be5c98d6482",
   "metadata": {
    "ExecuteTime": {
     "end_time": "2025-03-27T16:01:07.182919Z",
     "start_time": "2025-03-27T16:01:06.322894Z"
    }
   },
   "outputs": [],
   "source": [
    "import warnings\n",
    "\n",
    "gc.collect()\n",
    "torch.cuda.empty_cache()"
   ]
  },
  {
   "cell_type": "code",
   "execution_count": 4,
   "id": "1a54dc4f99eadbfa",
   "metadata": {},
   "outputs": [
    {
     "name": "stdout",
     "output_type": "stream",
     "text": [
      "CUDA is available. Using GPU.\n",
      "[INFO 05:05] math2\n"
     ]
    }
   ],
   "source": [
    "config = liriscat.utils.generate_eval_config(load_params=True, esc = 'error', valid_metric= 'mi_acc', pred_metrics = [\"mi_acc\"], profile_metrics = ['meta_doa'], save_params=False, n_query=6, num_epochs=100, batch_size=512)\n",
    "liriscat.utils.set_seed(config[\"seed\"])\n",
    "\n",
    "config[\"dataset_name\"] = \"assist0910\"\n",
    "logging.info(config[\"dataset_name\"])\n",
    "config['learning_rate'] = 0.0001\n",
    "config['inner_user_lr'] = 0.0016969685554352153\n",
    "config['lambda'] = 2.2656270501845414e-06\n",
    "\n",
    "config['meta_lr'] = 0.5\n",
    "config['learning_users_emb_lr'] = 0.0005\n",
    "config['patience'] = 20#5\n",
    "config['num_inner_users_epochs'] = 3\n",
    "config['d_in'] = 4\n",
    "config['num_responses'] = 12\n",
    "\n",
    "#pred_metrics,df_interp = test(config)"
   ]
  },
  {
   "cell_type": "code",
   "execution_count": 5,
   "id": "41bd76df",
   "metadata": {},
   "outputs": [],
   "source": [
    "def pareto_index2(d) : \n",
    "    d_acc = d[0]\n",
    "    d_meta = d[1]\n",
    "\n",
    "    r = []\n",
    "\n",
    "    for i in range(len(d_acc)):\n",
    "        r.append((0.5-d_acc[i]['mi_acc'])*(0.5-d_meta[i]['meta_doa']))\n",
    "    return sum(r)"
   ]
  },
  {
   "cell_type": "code",
   "execution_count": 6,
   "id": "73dcbf76e1d61f2a",
   "metadata": {},
   "outputs": [
    {
     "name": "stdout",
     "output_type": "stream",
     "text": [

      "[INFO 41:03] #### assist0910 ####\n",
      "[INFO 41:03] #### config : {'seed': 0, 'dataset_name': 'assist0910', 'load_params': True, 'save_params': False, 'embs_path': '../embs/', 'params_path': '../ckpt/', 'early_stopping': True, 'esc': 'error', 'verbose_early_stopping': False, 'disable_tqdm': False, 'valid_metric': 'mi_acc', 'learning_rate': 0.0001, 'batch_size': 512, 'valid_batch_size': 10000, 'num_epochs': 100, 'eval_freq': 1, 'patience': 20, 'device': device(type='cuda'), 'lambda': 2.2656270501845414e-06, 'tensorboard': False, 'flush_freq': True, 'pred_metrics': ['mi_acc'], 'profile_metrics': ['meta_doa'], 'num_responses': 12, 'low_mem': False, 'n_query': 6, 'CDM': 'impact', 'i_fold': 0, 'num_inner_users_epochs': 3, 'num_inner_epochs': 10, 'inner_lr': 0.0001, 'inner_user_lr': 0.0016969685554352153, 'meta_lr': 0.5, 'meta_trainer': 'Adam', 'num_workers': 0, 'pin_memory': False, 'debug': True, 'learning_users_emb_lr': 0.0005, 'd_in': 4} ####\n"
     ]
    },
    {
     "name": "stdout",
     "output_type": "stream",
     "text": [
      "[INFO 38:14] #### config : {'seed': 0, 'dataset_name': 'math2', 'load_params': True, 'save_params': False, 'embs_path': '../embs/', 'params_path': '../ckpt/', 'early_stopping': True, 'esc': 'error', 'verbose_early_stopping': False, 'disable_tqdm': False, 'valid_metric': 'mi_acc', 'learning_rate': 0.0001, 'batch_size': 512, 'valid_batch_size': 10000, 'num_epochs': 100, 'eval_freq': 1, 'patience': 20, 'device': device(type='cuda'), 'lambda': 9.972254466547545e-06, 'tensorboard': False, 'flush_freq': True, 'pred_metrics': ['mi_acc'], 'profile_metrics': ['meta_doa'], 'num_responses': 12, 'low_mem': False, 'n_query': 6, 'CDM': 'impact', 'i_fold': 0, 'num_inner_users_epochs': 3, 'num_inner_epochs': 10, 'inner_lr': 0.0001, 'inner_user_lr': 0.016848380924625605, 'meta_lr': 0.5, 'meta_trainer': 'Adam', 'num_workers': 0, 'pin_memory': False, 'debug': False, 'learning_users_emb_lr': 0.001, 'd_in': 4} ####\n"

     ]
    }
   ],
   "source": [
    "logging.info(f'#### {config[\"dataset_name\"]} ####')\n",
    "logging.info(f'#### config : {config} ####')\n",
    "config['embs_path']='../embs/'\n",
    "config['params_path']='../ckpt/'\n",
    "\n",
    "gc.collect()\n",
    "torch.cuda.empty_cache()\n",
    "\n",
    "# Dataset downloading for doa and rm\n",
    "warnings.filterwarnings(\"ignore\", message=\"invalid value encountered in divide\")\n",
    "warnings.filterwarnings(\"ignore\", category=RuntimeWarning)\n",
    "\n",
    "## Concept map format : {question_id : [category_id1, category_id2, ...]}\n",
    "concept_map = json.load(open(f'../datasets/2-preprocessed_data/{config[\"dataset_name\"]}_concept_map.json', 'r'))\n",
    "concept_map = {int(k): [int(x) for x in v] for k, v in concept_map.items()}\n",
    "\n",
    "## Metadata map format : {\"num_user_id\": ..., \"num_item_id\": ..., \"num_dimension_id\": ...}\n",
    "metadata = json.load(open(f'../datasets/2-preprocessed_data/{config[\"dataset_name\"]}_metadata.json', 'r'))\n",
    "\n",
    "\n",
    "## Tensor containing the nb of modalities per question\n",
    "nb_modalities = torch.load(f'../datasets/2-preprocessed_data/{config[\"dataset_name\"]}_nb_modalities.pkl',weights_only=True)\n"
   ]
  },
  {
   "cell_type": "code",
   "execution_count": 8,
   "id": "846a5c594351413e",
   "metadata": {},
   "outputs": [
    {
     "name": "stdout",
     "output_type": "stream",
     "text": [

      "[INFO 41:03] #### meta_trainer : GAP ####\n",
      "[INFO 41:03] #### i_fold : 1 ####\n",
      "[INFO 41:20] #### seed : 0 ####\n",
      "[DEBUG 41:20] ------- Abstract model __init__()\n",
      "[DEBUG 41:20] ----- Meta trainer init : GAP\n",
      "[INFO 41:20] Random_cont_model\n",
      "[DEBUG 41:20] ------- Initialize CDM and Selection strategy\n",
      "[INFO 41:21] compiling CDM model\n",
      "[INFO 41:25] compiling selection model\n",
      "[INFO 41:25] ------- START Training\n",
      "[INFO 41:25] train on cuda\n"

     ]
    },
    {
     "name": "stderr",
     "output_type": "stream",
     "text": [
      "/lustre/fsn1/projects/rech/enh/unv34ei/liriscat/liriscat/selectionStrategy/random.py:30: UserWarning: get_params() Notimplemented\n",
      "  warnings.warn('get_params() Notimplemented')\n",
      "  0%|          | 0/100 [00:00<?, ?it/s]"
     ]
    },
    {
     "name": "stdout",
     "output_type": "stream",
     "text": [
      "[INFO 05:35] - meta_params: 0.5\n",
      "[INFO 05:35] - cross_cond: 0.5\n",
      "[INFO 05:35] - meta_lambda: 0.5\n",
      "[INFO 05:35] - learning_users_emb: 0.0005\n",
      "[INFO 05:41] rmse : 0.5449409484863281\n",
      "[INFO 05:41] valid_rmse : 0.6968554258346558\n",
      "[INFO 05:41] valid_loss : 0.9390125274658203\n"
     ]
    },
    {
     "name": "stderr",
     "output_type": "stream",
     "text": [
      "  1%|          | 1/100 [00:21<35:47, 21.69s/it]"
     ]
    },
    {
     "name": "stdout",
     "output_type": "stream",
     "text": [
      "[INFO 05:55] - meta_params: 0.5\n",
      "[INFO 05:55] - cross_cond: 0.5\n",
      "[INFO 05:55] - meta_lambda: 0.5\n",
      "[INFO 05:55] - learning_users_emb: 0.0005\n",
      "[INFO 05:59] rmse : 0.554278552532196\n",
      "[INFO 05:59] valid_rmse : 0.7087960839271545\n",
      "[INFO 05:59] valid_loss : 0.9394581317901611\n"
     ]
    },
    {
     "name": "stderr",
     "output_type": "stream",
     "text": [
      "  2%|▏         | 2/100 [00:40<32:21, 19.82s/it]"
     ]
    },
    {
     "name": "stdout",
     "output_type": "stream",
     "text": [
      "[INFO 06:13] - meta_params: 0.5\n",
      "[INFO 06:13] - cross_cond: 0.5\n",
      "[INFO 06:13] - meta_lambda: 0.5\n",
      "[INFO 06:13] - learning_users_emb: 0.0005\n",
      "[INFO 06:18] rmse : 0.5512136816978455\n",
      "[INFO 06:18] valid_rmse : 0.7048768401145935\n",
      "[INFO 06:18] valid_loss : 0.9408632516860962\n"
     ]
    },
    {
     "name": "stderr",
     "output_type": "stream",
     "text": [
      "  3%|▎         | 3/100 [00:58<30:51, 19.09s/it]"
     ]
    },
    {
     "name": "stdout",
     "output_type": "stream",
     "text": [
      "[INFO 06:32] - meta_params: 0.5\n",
      "[INFO 06:32] - cross_cond: 0.5\n",
      "[INFO 06:32] - meta_lambda: 0.5\n",
      "[INFO 06:32] - learning_users_emb: 0.0005\n",
      "[INFO 06:36] rmse : 0.5538288950920105\n",
      "[INFO 06:36] valid_rmse : 0.7082210779190063\n",
      "[INFO 06:36] valid_loss : 0.9397975206375122\n"
     ]
    },
    {
     "name": "stderr",
     "output_type": "stream",
     "text": [
      "  4%|▍         | 4/100 [01:17<30:16, 18.92s/it]"
     ]
    },
    {
     "name": "stdout",
     "output_type": "stream",
     "text": [
      "[INFO 06:50] - meta_params: 0.25\n",
      "[INFO 06:50] - cross_cond: 0.25\n",
      "[INFO 06:50] - meta_lambda: 0.25\n",
      "[INFO 06:50] - learning_users_emb: 0.00025\n",
      "[INFO 06:55] rmse : 0.5370201468467712\n",
      "[INFO 06:55] valid_rmse : 0.6867265105247498\n",
      "[INFO 06:55] valid_loss : 0.936843991279602\n"
     ]
    },
    {
     "name": "stderr",
     "output_type": "stream",
     "text": [
      "  5%|▌         | 5/100 [01:35<29:43, 18.77s/it]"
     ]
    },
    {
     "name": "stdout",
     "output_type": "stream",
     "text": [
      "[INFO 07:09] - meta_params: 0.25\n",
      "[INFO 07:09] - cross_cond: 0.25\n",
      "[INFO 07:09] - meta_lambda: 0.25\n",
      "[INFO 07:09] - learning_users_emb: 0.00025\n",
      "[INFO 07:13] rmse : 0.5508520007133484\n",
      "[INFO 07:13] valid_rmse : 0.7044143080711365\n",
      "[INFO 07:13] valid_loss : 0.9387009739875793\n"
     ]
    },
    {
     "name": "stderr",
     "output_type": "stream",
     "text": [
      "  6%|▌         | 6/100 [01:54<29:19, 18.71s/it]"
     ]
    },
    {
     "name": "stdout",
     "output_type": "stream",
     "text": [
      "[INFO 07:27] - meta_params: 0.25\n",
      "[INFO 07:27] - cross_cond: 0.25\n",
      "[INFO 07:27] - meta_lambda: 0.25\n",
      "[INFO 07:27] - learning_users_emb: 0.00025\n",
      "[INFO 07:32] rmse : 0.5430174469947815\n",
      "[INFO 07:32] valid_rmse : 0.6943957209587097\n",
      "[INFO 07:32] valid_loss : 0.9376018047332764\n"
     ]
    },
    {
     "name": "stderr",
     "output_type": "stream",
     "text": [
      "  7%|▋         | 7/100 [02:12<28:54, 18.65s/it]"
     ]
    },
    {
     "name": "stdout",
     "output_type": "stream",
     "text": [
      "[INFO 07:46] - meta_params: 0.25\n",
      "[INFO 07:46] - cross_cond: 0.25\n",
      "[INFO 07:46] - meta_lambda: 0.25\n",
      "[INFO 07:46] - learning_users_emb: 0.00025\n",
      "[INFO 07:50] rmse : 0.545397937297821\n",
      "[INFO 07:50] valid_rmse : 0.6974397897720337\n",
      "[INFO 07:50] valid_loss : 0.9389498233795166\n"
     ]
    },
    {
     "name": "stderr",
     "output_type": "stream",
     "text": [
      "  8%|▊         | 8/100 [02:31<28:35, 18.65s/it]"
     ]
    },
    {
     "name": "stdout",
     "output_type": "stream",
     "text": [
      "[INFO 08:04] - meta_params: 0.125\n",
      "[INFO 08:04] - cross_cond: 0.125\n",
      "[INFO 08:04] - meta_lambda: 0.125\n",
      "[INFO 08:05] - learning_users_emb: 0.000125\n",
      "[INFO 08:09] rmse : 0.5460370182991028\n",
      "[INFO 08:09] valid_rmse : 0.6982570290565491\n",
      "[INFO 08:09] valid_loss : 0.940470814704895\n"
     ]
    },
    {
     "name": "stderr",
     "output_type": "stream",
     "text": [
      "  9%|▉         | 9/100 [02:49<28:12, 18.59s/it]"
     ]
    },
    {
     "name": "stdout",
     "output_type": "stream",
     "text": [
      "[INFO 08:23] - meta_params: 0.125\n",
      "[INFO 08:23] - cross_cond: 0.125\n",
      "[INFO 08:23] - meta_lambda: 0.125\n",
      "[INFO 08:23] - learning_users_emb: 0.000125\n",
      "[INFO 08:28] rmse : 0.5362773537635803\n",
      "[INFO 08:28] valid_rmse : 0.6857766509056091\n",
      "[INFO 08:28] valid_loss : 0.9353311657905579\n"
     ]
    },
    {
     "name": "stderr",
     "output_type": "stream",
     "text": [
      " 10%|█         | 10/100 [03:08<27:58, 18.65s/it]"
     ]
    },
    {
     "name": "stdout",
     "output_type": "stream",
     "text": [
      "[INFO 08:42] - meta_params: 0.125\n",
      "[INFO 08:42] - cross_cond: 0.125\n",
      "[INFO 08:42] - meta_lambda: 0.125\n",
      "[INFO 08:42] - learning_users_emb: 0.000125\n",
      "[INFO 08:47] rmse : 0.5597351789474487\n",
      "[INFO 08:47] valid_rmse : 0.71577388048172\n",
      "[INFO 08:47] valid_loss : 0.9416601657867432\n"
     ]
    },
    {
     "name": "stderr",
     "output_type": "stream",
     "text": [
      " 11%|█         | 11/100 [03:27<27:45, 18.71s/it]"
     ]
    },
    {
     "name": "stdout",
     "output_type": "stream",
     "text": [
      "[INFO 09:01] - meta_params: 0.125\n",
      "[INFO 09:01] - cross_cond: 0.125\n",
      "[INFO 09:01] - meta_lambda: 0.125\n",
      "[INFO 09:01] - learning_users_emb: 0.000125\n",
      "[INFO 09:05] rmse : 0.5525679588317871\n",
      "[INFO 09:05] valid_rmse : 0.7066086530685425\n",
      "[INFO 09:05] valid_loss : 0.9380117058753967\n"
     ]
    },
    {
     "name": "stderr",
     "output_type": "stream",
     "text": [
      " 12%|█▏        | 12/100 [03:46<27:29, 18.75s/it]"
     ]
    },
    {
     "name": "stdout",
     "output_type": "stream",
     "text": [
      "[INFO 09:20] - meta_params: 0.125\n",
      "[INFO 09:20] - cross_cond: 0.125\n",
      "[INFO 09:20] - meta_lambda: 0.125\n",
      "[INFO 09:20] - learning_users_emb: 0.000125\n",
      "[INFO 09:24] rmse : 0.5465842485427856\n",
      "[INFO 09:24] valid_rmse : 0.6989568471908569\n",
      "[INFO 09:24] valid_loss : 0.9385941624641418\n"
     ]
    },
    {
     "name": "stderr",
     "output_type": "stream",
     "text": [
      " 13%|█▎        | 13/100 [04:04<27:07, 18.70s/it]"
     ]
    },
    {
     "name": "stdout",
     "output_type": "stream",
     "text": [
      "[INFO 09:38] - meta_params: 0.0625\n",
      "[INFO 09:38] - cross_cond: 0.0625\n",
      "[INFO 09:38] - meta_lambda: 0.0625\n",
      "[INFO 09:38] - learning_users_emb: 6.25e-05\n",
      "[INFO 09:43] rmse : 0.5503090620040894\n",
      "[INFO 09:43] valid_rmse : 0.7037200331687927\n",
      "[INFO 09:43] valid_loss : 0.9420244097709656\n"
     ]
    },
    {
     "name": "stderr",
     "output_type": "stream",
     "text": [
      " 14%|█▍        | 14/100 [04:23<26:51, 18.74s/it]"
     ]
    },
    {
     "name": "stdout",
     "output_type": "stream",
     "text": [
      "[INFO 09:57] - meta_params: 0.0625\n",
      "[INFO 09:57] - cross_cond: 0.0625\n",
      "[INFO 09:57] - meta_lambda: 0.0625\n",
      "[INFO 09:57] - learning_users_emb: 6.25e-05\n",
      "[INFO 10:02] rmse : 0.5545481443405151\n",
      "[INFO 10:02] valid_rmse : 0.7091408371925354\n",
      "[INFO 10:02] valid_loss : 0.9388293623924255\n"
     ]
    },
    {
     "name": "stderr",
     "output_type": "stream",
     "text": [
      " 15%|█▌        | 15/100 [04:42<26:35, 18.77s/it]"
     ]
    },
    {
     "name": "stdout",
     "output_type": "stream",
     "text": [
      "[INFO 10:16] - meta_params: 0.0625\n",
      "[INFO 10:16] - cross_cond: 0.0625\n",
      "[INFO 10:16] - meta_lambda: 0.0625\n",
      "[INFO 10:16] - learning_users_emb: 6.25e-05\n",
      "[INFO 10:21] rmse : 0.5448495149612427\n",
      "[INFO 10:21] valid_rmse : 0.6967384815216064\n",
      "[INFO 10:21] valid_loss : 0.9384444952011108\n"
     ]
    },
    {
     "name": "stderr",
     "output_type": "stream",
     "text": [
      " 16%|█▌        | 16/100 [05:01<26:22, 18.84s/it]"
     ]
    },
    {
     "name": "stdout",
     "output_type": "stream",
     "text": [
      "[INFO 10:35] - meta_params: 0.03125\n",
      "[INFO 10:35] - cross_cond: 0.03125\n",
      "[INFO 10:35] - meta_lambda: 0.03125\n",
      "[INFO 10:35] - learning_users_emb: 3.125e-05\n",
      "[INFO 10:39] rmse : 0.5437510013580322\n",
      "[INFO 10:39] valid_rmse : 0.69533371925354\n",
      "[INFO 10:39] valid_loss : 0.9371609687805176\n"
     ]
    },
    {
     "name": "stderr",
     "output_type": "stream",
     "text": [
      " 17%|█▋        | 17/100 [05:20<26:02, 18.82s/it]"
     ]
    },
    {
     "name": "stdout",
     "output_type": "stream",
     "text": [
      "[INFO 10:53] - meta_params: 0.03125\n",
      "[INFO 10:53] - cross_cond: 0.03125\n",
      "[INFO 10:53] - meta_lambda: 0.03125\n",
      "[INFO 10:53] - learning_users_emb: 3.125e-05\n",
      "[INFO 10:58] rmse : 0.5484952330589294\n",
      "[INFO 10:58] valid_rmse : 0.7014005184173584\n",
      "[INFO 10:58] valid_loss : 0.9402368068695068\n"
     ]
    },
    {
     "name": "stderr",
     "output_type": "stream",
     "text": [
      " 18%|█▊        | 18/100 [05:38<25:35, 18.73s/it]"
     ]
    },
    {
     "name": "stdout",
     "output_type": "stream",
     "text": [
      "[INFO 11:12] - meta_params: 0.03125\n",
      "[INFO 11:12] - cross_cond: 0.03125\n",
      "[INFO 11:12] - meta_lambda: 0.03125\n",
      "[INFO 11:12] - learning_users_emb: 3.125e-05\n",
      "[INFO 11:17] rmse : 0.5575053095817566\n",
      "[INFO 11:17] valid_rmse : 0.7129223942756653\n",
      "[INFO 11:17] valid_loss : 0.9405050277709961\n"
     ]
    },
    {
     "name": "stderr",
     "output_type": "stream",
     "text": [
      " 19%|█▉        | 19/100 [05:57<25:16, 18.73s/it]"
     ]
    },
    {
     "name": "stdout",
     "output_type": "stream",
     "text": [
      "[INFO 11:31] - meta_params: 0.015625\n",
      "[INFO 11:31] - cross_cond: 0.015625\n",
      "[INFO 11:31] - meta_lambda: 0.015625\n",
      "[INFO 11:31] - learning_users_emb: 1.5625e-05\n",
      "[INFO 11:35] rmse : 0.5499467849731445\n",
      "[INFO 11:35] valid_rmse : 0.7032567262649536\n",
      "[INFO 11:35] valid_loss : 0.935683012008667\n"
     ]
    },
    {
     "name": "stderr",
     "output_type": "stream",
     "text": [
      " 20%|██        | 20/100 [06:16<24:57, 18.71s/it]"
     ]
    },
    {
     "name": "stdout",
     "output_type": "stream",
     "text": [
      "[INFO 11:50] - meta_params: 0.015625\n",
      "[INFO 11:50] - cross_cond: 0.015625\n",
      "[INFO 11:50] - meta_lambda: 0.015625\n",
      "[INFO 11:50] - learning_users_emb: 1.5625e-05\n",
      "[INFO 11:54] rmse : 0.5442090034484863\n",
      "[INFO 11:54] valid_rmse : 0.6959194540977478\n",
      "[INFO 11:54] valid_loss : 0.9363977909088135\n"
     ]
    },
    {
     "name": "stderr",
     "output_type": "stream",
     "text": [
      " 21%|██        | 21/100 [06:34<24:38, 18.71s/it]"
     ]
    },
    {
     "name": "stdout",
     "output_type": "stream",
     "text": [
      "[INFO 12:08] - meta_params: 0.015625\n",
      "[INFO 12:08] - cross_cond: 0.015625\n",
      "[INFO 12:08] - meta_lambda: 0.015625\n",
      "[INFO 12:08] - learning_users_emb: 1.5625e-05\n",
      "[INFO 12:13] rmse : 0.5479499101638794\n",
      "[INFO 12:13] valid_rmse : 0.7007032036781311\n",
      "[INFO 12:13] valid_loss : 0.9382624626159668\n"
     ]
    },
    {
     "name": "stderr",
     "output_type": "stream",
     "text": [
      " 22%|██▏       | 22/100 [06:53<24:13, 18.63s/it]"
     ]
    },
    {
     "name": "stdout",
     "output_type": "stream",
     "text": [
      "[INFO 12:27] - meta_params: 0.0078125\n",
      "[INFO 12:27] - cross_cond: 0.0078125\n",
      "[INFO 12:27] - meta_lambda: 0.0078125\n",
      "[INFO 12:27] - learning_users_emb: 7.8125e-06\n",
      "[INFO 12:31] rmse : 0.5485860705375671\n",
      "[INFO 12:31] valid_rmse : 0.7015166878700256\n",
      "[INFO 12:31] valid_loss : 0.9363723397254944\n"
     ]
    },
    {
     "name": "stderr",
     "output_type": "stream",
     "text": [
      " 23%|██▎       | 23/100 [07:12<23:54, 18.62s/it]"
     ]
    },
    {
     "name": "stdout",
     "output_type": "stream",
     "text": [
      "[INFO 12:45] - meta_params: 0.0078125\n",
      "[INFO 12:45] - cross_cond: 0.0078125\n",
      "[INFO 12:45] - meta_lambda: 0.0078125\n",
      "[INFO 12:45] - learning_users_emb: 7.8125e-06\n",
      "[INFO 12:50] rmse : 0.5551767349243164\n",
      "[INFO 12:50] valid_rmse : 0.7099446654319763\n",
      "[INFO 12:50] valid_loss : 0.9400185942649841\n"
     ]
    },
    {
     "name": "stderr",
     "output_type": "stream",
     "text": [
      " 24%|██▍       | 24/100 [07:30<23:33, 18.59s/it]"
     ]
    },
    {
     "name": "stdout",
     "output_type": "stream",
     "text": [
      "[INFO 13:04] - meta_params: 0.0078125\n",
      "[INFO 13:04] - cross_cond: 0.0078125\n",
      "[INFO 13:04] - meta_lambda: 0.0078125\n",
      "[INFO 13:04] - learning_users_emb: 7.8125e-06\n",
      "[INFO 13:08] rmse : 0.5521169304847717\n",
      "[INFO 13:08] valid_rmse : 0.706031858921051\n",
      "[INFO 13:08] valid_loss : 0.9399572014808655\n"
     ]
    },
    {
     "name": "stderr",
     "output_type": "stream",
     "text": [
      " 25%|██▌       | 25/100 [07:49<23:15, 18.61s/it]"
     ]
    },
    {
     "name": "stdout",
     "output_type": "stream",
     "text": [
      "[INFO 13:23] - meta_params: 0.00390625\n",
      "[INFO 13:23] - cross_cond: 0.00390625\n",
      "[INFO 13:23] - meta_lambda: 0.00390625\n",
      "[INFO 13:23] - learning_users_emb: 3.90625e-06\n",
      "[INFO 13:27] rmse : 0.548313558101654\n",
      "[INFO 13:27] valid_rmse : 0.7011682391166687\n",
      "[INFO 13:27] valid_loss : 0.9368614554405212\n"
     ]
    },
    {
     "name": "stderr",
     "output_type": "stream",
     "text": [
      " 26%|██▌       | 26/100 [08:07<22:59, 18.64s/it]"
     ]
    },
    {
     "name": "stdout",
     "output_type": "stream",
     "text": [
      "[INFO 13:41] - meta_params: 0.00390625\n",
      "[INFO 13:41] - cross_cond: 0.00390625\n",
      "[INFO 13:41] - meta_lambda: 0.00390625\n",
      "[INFO 13:41] - learning_users_emb: 3.90625e-06\n",
      "[INFO 13:46] rmse : 0.5437510013580322\n",
      "[INFO 13:46] valid_rmse : 0.69533371925354\n",
      "[INFO 13:46] valid_loss : 0.9385684132575989\n"
     ]
    },
    {
     "name": "stderr",
     "output_type": "stream",
     "text": [
      " 27%|██▋       | 27/100 [08:26<22:41, 18.65s/it]"
     ]
    },
    {
     "name": "stdout",
     "output_type": "stream",
     "text": [
      "[INFO 14:00] - meta_params: 0.00390625\n",
      "[INFO 14:00] - cross_cond: 0.00390625\n",
      "[INFO 14:00] - meta_lambda: 0.00390625\n",
      "[INFO 14:00] - learning_users_emb: 3.90625e-06\n",
      "[INFO 14:04] rmse : 0.5365560054779053\n",
      "[INFO 14:04] valid_rmse : 0.6861329674720764\n",
      "[INFO 14:04] valid_loss : 0.9339613318443298\n"
     ]
    },
    {
     "name": "stderr",
     "output_type": "stream",
     "text": [
      " 28%|██▊       | 28/100 [08:45<22:23, 18.66s/it]"
     ]
    },
    {
     "name": "stdout",
     "output_type": "stream",
     "text": [
      "[INFO 14:18] - meta_params: 0.00390625\n",
      "[INFO 14:18] - cross_cond: 0.00390625\n",
      "[INFO 14:18] - meta_lambda: 0.00390625\n",
      "[INFO 14:18] - learning_users_emb: 3.90625e-06\n",
      "[INFO 14:23] rmse : 0.5497655272483826\n",
      "[INFO 14:23] valid_rmse : 0.7030249834060669\n",
      "[INFO 14:23] valid_loss : 0.9366678595542908\n"
     ]
    },
    {
     "name": "stderr",
     "output_type": "stream",
     "text": [
      " 29%|██▉       | 29/100 [09:03<22:02, 18.63s/it]"
     ]
    },
    {
     "name": "stdout",
     "output_type": "stream",
     "text": [
      "[INFO 14:37] - meta_params: 0.00390625\n",
      "[INFO 14:37] - cross_cond: 0.00390625\n",
      "[INFO 14:37] - meta_lambda: 0.00390625\n",
      "[INFO 14:37] - learning_users_emb: 3.90625e-06\n",
      "[INFO 14:42] rmse : 0.5473130345344543\n",
      "[INFO 14:42] valid_rmse : 0.6998887658119202\n",
      "[INFO 14:42] valid_loss : 0.9386559128761292\n"
     ]
    },
    {
     "name": "stderr",
     "output_type": "stream",
     "text": [
      " 29%|██▉       | 29/100 [09:22<22:57, 19.40s/it]"
     ]
    },
    {
     "name": "stdout",
     "output_type": "stream",
     "text": [
      "[INFO 14:42] -- END Training --\n",
      "[INFO 14:42] train on cuda\n"
     ]
    },
    {
     "name": "stderr",
     "output_type": "stream",
     "text": [
      "\n",
      "100%|██████████| 6/6 [00:04<00:00,  1.44it/s]\n"
     ]
    },
    {
     "name": "stdout",
     "output_type": "stream",
     "text": [
      "[INFO 14:53] ({0: {'mi_acc': 0.6947683095932007}, 1: {'mi_acc': 0.6942700147628784}, 2: {'mi_acc': 0.6940707564353943}, 3: {'mi_acc': 0.6961634159088135}, 4: {'mi_acc': 0.6958644390106201}, 5: {'mi_acc': 0.6982560753822327}}, {0: {'meta_doa': 0.5289896884487395}, 1: {'meta_doa': 0.5510916448164791}, 2: {'meta_doa': 0.5684174768159787}, 3: {'meta_doa': 0.5906893303588627}, 4: {'meta_doa': 0.6148654919621281}, 5: {'meta_doa': 0.6317061722410084}})\n",
      "[INFO 14:53] 0.09524922147326688\n"
     ]
    }
   ],
   "source": [
    "meta_trainers = ['GAP']\n",
    "for meta_trainer in meta_trainers : \n",
    "    config['meta_trainer'] = meta_trainer\n",
    "    logging.info(f'#### meta_trainer : {config[\"meta_trainer\"]} ####')\n",
    "    for i_fold in range(1,2) : \n",
    "        config['i_fold'] = i_fold\n",
    "            \n",
    "        logging.info(f'#### i_fold : {i_fold} ####')\n",
    "        ## Dataframe columns : (user_id, question_id, response, category_id)\n",
    "        train_df = pd.read_csv(\n",
    "            f'../datasets/2-preprocessed_data/{config[\"dataset_name\"]}_train_{i_fold}.csv',\n",
    "            encoding='utf-8', dtype={'student_id': int, 'item_id': int, \"correct\": float,\n",
    "                                                                    \"dimension_id\": int})\n",
    "        valid_df = pd.read_csv(\n",
    "            f'../datasets/2-preprocessed_data/{config[\"dataset_name\"]}_valid_{i_fold}.csv',\n",
    "            encoding='utf-8', dtype={'student_id': int, 'item_id': int, \"correct\": float,\n",
    "                                                                    \"dimension_id\": int})\n",
    "        test_df = pd.read_csv(\n",
    "            f'../datasets/2-preprocessed_data/{config[\"dataset_name\"]}_test_{i_fold}.csv',\n",
    "            encoding='utf-8', dtype={'student_id': int, 'item_id': int, \"correct\": float,\n",
    "                                                                    \"dimension_id\": int})\n",
    "\n",
    "        train_data = liriscat.dataset.CATDataset(train_df, concept_map, metadata, config,nb_modalities)\n",
    "        valid_data = liriscat.dataset.EvalDataset(valid_df, concept_map, metadata, config,nb_modalities)\n",
    "        test_data = liriscat.dataset.EvalDataset(test_df, concept_map, metadata, config,nb_modalities)\n",
    "\n",
    "        for seed in range(1) :\n",
    "            config['seed'] = seed\n",
    "            logging.info(f'#### seed : {seed} ####')\n",
    "\n",
    "            train_data.reset_rng()\n",
    "            valid_data.reset_rng()\n",
    "            test_data.reset_rng()\n",
    "\n",
    "            S = liriscat.selectionStrategy.Random(metadata,**config)\n",
    "            S.init_models(train_data, valid_data)\n",
    "            S.train(train_data, valid_data)\n",
    "            liriscat.utils.set_seed(0)\n",
    "            S.reset_rng()\n",
    "            d = (S.evaluate_test(test_data, train_data, valid_data))\n",
    "            logging.info(d)\n",
    "            logging.info(liriscat.utils.pareto_index(d))\n",
    "\n",
    "    torch.cuda.empty_cache()"
   ]
  },
  {
   "cell_type": "code",
   "execution_count": 27,
   "id": "6e9d20cf",
   "metadata": {},
   "outputs": [
    {
     "name": "stdout",
     "output_type": "stream",
     "text": [
      "[INFO 04:26] #### seed : 0 ####\n",
      "[INFO 04:26] Random_cont_model\n",
      "[INFO 04:26] compiling CDM model\n",
      "[INFO 04:26] compiling selection model\n",
      "[INFO 04:26] ------- START Training\n",
      "[INFO 04:26] train on cuda\n"

     ]
    },
    {
     "name": "stderr",
     "output_type": "stream",
     "text": [
      "/lustre/fsn1/projects/rech/enh/unv34ei/liriscat/liriscat/selectionStrategy/random.py:30: UserWarning: get_params() Notimplemented\n",
      "  warnings.warn('get_params() Notimplemented')\n",
      "  0%|          | 0/100 [00:00<?, ?it/s]"
     ]
    },
    {
     "name": "stdout",
     "output_type": "stream",
     "text": [

      "[DEBUG 08:24] ------- Epoch : 0\n",
      "[INFO 08:24] ----- User batch : 0\n",
      "[DEBUG 08:24] --- Query nb : 0\n",
      "[DEBUG 08:24] - Update users \n",
      "[DEBUG 13:26] --- Query nb : 1\n",
      "[DEBUG 13:26] - Update users \n"
     ]
    }
   ],
   "source": [
    "config['meta_trainer'] = 'GAP'\n",
    "#config['meta_trainer'] = 'Adam'\n",
    "for seed in range(1) :\n",
    "    config['seed'] = seed\n",
    "    logging.info(f'#### seed : {seed} ####')\n",
    "    \n",
    "    train_data.reset_rng()\n",
    "    valid_data.reset_rng()\n",
    "    test_data.reset_rng()\n",
    "\n",
    "\n",
    "    S = liriscat.selectionStrategy.Random(metadata,**config)\n",
    "    S.init_models(train_data, valid_data)\n",
    "    S.train(train_data, valid_data)\n",
    "    liriscat.utils.set_seed(0)\n",
    "    S.reset_rng()\n",
    "    d = (S.evaluate_test(test_data, train_data, valid_data))\n",
    "    print(liriscat.utils.pareto_index(d))\n",
    "    print(d)\n",
    "    torch.cuda.empty_cache()"
   ]
  },
  {
   "cell_type": "code",
   "execution_count": null,
   "id": "afe71ed3-0f28-4d02-8db5-463a7127c5b5",
   "metadata": {},
   "outputs": [],
   "source": []
  }
 ],
 "metadata": {
  "kernelspec": {
   "display_name": "pytorch-gpu-2.7.0_py3.12.10",
   "language": "python",
   "name": "module-conda-env-pytorch-gpu-2.7.0_py3.12.10"
  },
  "language_info": {
   "codemirror_mode": {
    "name": "ipython",
    "version": 3
   },
   "file_extension": ".py",
   "mimetype": "text/x-python",
   "name": "python",
   "nbconvert_exporter": "python",
   "pygments_lexer": "ipython3",
   "version": "3.12.10"
  }
 },
 "nbformat": 4,
 "nbformat_minor": 5
}