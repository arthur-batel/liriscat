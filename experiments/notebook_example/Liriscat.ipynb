{
 "cells": [
  {
   "metadata": {},
   "cell_type": "markdown",
   "source": [
    "# IMPACT paper experiments\n",
    "### 1. Init\n",
    "#### 1.1. Import libraries (necessary)"
   ],
   "id": "78a21ce669eb601d"
  },
  {
   "metadata": {
    "ExecuteTime": {
     "end_time": "2025-03-19T16:59:52.053957Z",
     "start_time": "2025-03-19T16:59:50.560052Z"
    }
   },
   "cell_type": "code",
   "source": [
    "%load_ext autoreload\n",
    "%autoreload 2\n",
    "\n",
    "import sys\n",
    "sys.path.append(\"../../\")\n",
    "\n",
    "import os\n",
    "os.environ[\"PYTORCH_CUDA_ALLOC_CONF\"] = \"expandable_segments:True\"\n",
    "\n",
    "from liriscat import utils\n",
    "utils.set_seed(0)\n",
    "from liriscat import dataset\n",
    "from liriscat import selectionStrategy\n",
    "from liriscat import CDM\n",
    "\n",
    "import logging\n",
    "import gc\n",
    "import json\n",
    "import torch\n",
    "import pandas as pd\n",
    "from importlib import reload\n",
    "import IMPACT"
   ],
   "id": "5b0d5d27c5b782ec",
   "outputs": [],
   "execution_count": 1
  },
  {
   "metadata": {},
   "cell_type": "markdown",
   "source": "#### 1.2. Set up the loggers (recommended)",
   "id": "7edbbd0515734832"
  },
  {
   "metadata": {
    "ExecuteTime": {
     "end_time": "2025-03-19T16:59:52.069984Z",
     "start_time": "2025-03-19T16:59:52.057301Z"
    }
   },
   "cell_type": "code",
   "source": "utils.setuplogger(verbose = True, log_name=\"liriscat\")",
   "id": "b358c4709ccb3845",
   "outputs": [],
   "execution_count": 2
  },
  {
   "metadata": {},
   "cell_type": "markdown",
   "source": [
    "### 2. CDM prediction\n",
    "#### 2.1. Training and testing, sequential version"
   ],
   "id": "44435df786608165"
  },
  {
   "metadata": {
    "ExecuteTime": {
     "end_time": "2025-03-19T16:59:52.961443Z",
     "start_time": "2025-03-19T16:59:52.119651Z"
    }
   },
   "cell_type": "code",
   "source": [
    "import warnings\n",
    "import numpy as np\n",
    "\n",
    "gc.collect()\n",
    "torch.cuda.empty_cache()\n",
    "\n",
    "reload(utils)\n",
    "reload(selectionStrategy)\n",
    "reload(CDM)\n",
    "reload(dataset)"
   ],
   "id": "83d2be5c98d6482",
   "outputs": [
    {
     "data": {
      "text/plain": [
       "<module 'liriscat.dataset' from '/home/arthurb/Programmation/liriscat/liriscat/dataset/__init__.py'>"
      ]
     },
     "execution_count": 3,
     "metadata": {},
     "output_type": "execute_result"
    }
   ],
   "execution_count": 3
  },
  {
   "metadata": {
    "ExecuteTime": {
     "end_time": "2025-03-19T16:59:53.045819Z",
     "start_time": "2025-03-19T16:59:53.034294Z"
    }
   },
   "cell_type": "code",
   "source": [
    "config = utils.generate_eval_config(esc = 'error', valid_metric= 'mi_acc', pred_metrics = [\"mi_acc\"], profile_metrics = ['doa'], save_params=False, n_query=4, num_epochs=0, batch_size=1024)\n",
    "utils.set_seed(config[\"seed\"])\n",
    "\n",
    "config[\"dataset_name\"] = \"math2\"\n",
    "logging.info(config[\"dataset_name\"])\n",
    "config['learning_rate'] = 0.02026\n",
    "config['lambda'] = 1.2e-5\n",
    "config['d_in'] = 4\n",
    "config['num_responses'] = 12\n",
    "#pred_metrics,df_interp = test(config)"
   ],
   "id": "7f0f4ece676cf862",
   "outputs": [
    {
     "name": "stdout",
     "output_type": "stream",
     "text": [
      "CUDA is available. Using GPU.\n",
      "[INFO 59:53] math2\n"
     ]
    }
   ],
   "execution_count": 4
  },
  {
   "metadata": {
    "ExecuteTime": {
     "end_time": "2025-03-19T16:59:53.146219Z",
     "start_time": "2025-03-19T16:59:53.070461Z"
    }
   },
   "cell_type": "code",
   "source": [
    "logging.info(f'#### {config[\"dataset_name\"]} ####')\n",
    "logging.info(f'#### config : {config} ####')\n",
    "config['embs_path']='../embs/'+str(config[\"dataset_name\"])\n",
    "config['params_path']='../ckpt/'+str(config[\"dataset_name\"])\n",
    "\n",
    "pred_metrics = {m:[] for m in config['pred_metrics']}\n",
    "profile_metrics = {m:[] for m in config['profile_metrics']}\n",
    "\n",
    "gc.collect()\n",
    "torch.cuda.empty_cache()\n",
    "\n",
    "# Dataset downloading for doa and rm\n",
    "warnings.filterwarnings(\"ignore\", message=\"invalid value encountered in divide\")\n",
    "warnings.filterwarnings(\"ignore\", category=RuntimeWarning)\n",
    "\n",
    "## Concept map format : {question_id : [category_id1, category_id2, ...]}\n",
    "concept_map = json.load(open(f'../datasets/2-preprocessed_data/{config[\"dataset_name\"]}_concept_map.json', 'r'))\n",
    "concept_map = {int(k): [int(x) for x in v] for k, v in concept_map.items()}\n",
    "\n",
    "## Metadata map format : {\"num_user_id\": ..., \"num_item_id\": ..., \"num_dimension_id\": ...}\n",
    "metadata = json.load(open(f'../datasets/2-preprocessed_data/{config[\"dataset_name\"]}_metadata.json', 'r'))"
   ],
   "id": "87478e50750bcb2d",
   "outputs": [
    {
     "name": "stdout",
     "output_type": "stream",
     "text": [
      "[INFO 59:53] #### math2 ####\n",
      "[INFO 59:53] #### config : {'seed': 0, 'dataset_name': 'math2', 'load_params': False, 'save_params': False, 'embs_path': '../embs/', 'params_path': '../ckpt/', 'early_stopping': True, 'esc': 'error', 'verbose_early_stopping': False, 'disable_tqdm': False, 'valid_metric': 'mi_acc', 'learning_rate': 0.02026, 'batch_size': 1024, 'num_epochs': 0, 'eval_freq': 1, 'patience': 30, 'device': device(type='cuda'), 'lambda': 1.2e-05, 'tensorboard': False, 'flush_freq': True, 'pred_metrics': ['mi_acc'], 'profile_metrics': ['doa'], 'num_responses': 12, 'low_mem': False, 'n_query': 4, 'CDM': 'impact', 'd_in': 4} ####\n"
     ]
    }
   ],
   "execution_count": 5
  },
  {
   "metadata": {
    "ExecuteTime": {
     "end_time": "2025-03-19T16:59:53.204164Z",
     "start_time": "2025-03-19T16:59:53.155709Z"
    }
   },
   "cell_type": "code",
   "source": [
    "i_fold = 0\n",
    "## Dataframe columns : (user_id, question_id, response, category_id)\n",
    "train_df = pd.read_csv(\n",
    "    f'../datasets/2-preprocessed_data/{config[\"dataset_name\"]}_train_{i_fold}.csv',\n",
    "    encoding='utf-8', dtype={'student_id': int, 'item_id': int, \"correct\": float,\n",
    "                                                             \"dimension_id\": int})\n",
    "valid_df = pd.read_csv(\n",
    "    f'../datasets/2-preprocessed_data/{config[\"dataset_name\"]}_valid_{i_fold}.csv',\n",
    "    encoding='utf-8', dtype={'student_id': int, 'item_id': int, \"correct\": float,\n",
    "                                                             \"dimension_id\": int})\n",
    "test_df = pd.read_csv(\n",
    "    f'../datasets/2-preprocessed_data/{config[\"dataset_name\"]}_test_{i_fold}.csv',\n",
    "    encoding='utf-8', dtype={'student_id': int, 'item_id': int, \"correct\": float,\n",
    "                                                             \"dimension_id\": int})"
   ],
   "id": "f708e72f1ffe442f",
   "outputs": [],
   "execution_count": 6
  },
  {
   "metadata": {
    "ExecuteTime": {
     "end_time": "2025-03-19T17:07:20.564033Z",
     "start_time": "2025-03-19T17:07:19.759715Z"
    }
   },
   "cell_type": "code",
   "source": [
    "reload(dataset)\n",
    "train_data = dataset.CATDataset(train_df, concept_map, metadata, config, config['batch_size'])\n",
    "valid_data = dataset.evalDataset(valid_df, concept_map, metadata, config, batch_size=10000, pin_memory=True)\n",
    "test_data = dataset.evalDataset(test_df, concept_map, metadata, config, batch_size=10000, pin_memory=True)"
   ],
   "id": "486ca1c99057160d",
   "outputs": [
    {
     "name": "stderr",
     "output_type": "stream",
     "text": [
      "/home/arthurb/Programmation/liriscat/liriscat/dataset/dataset.py:150: UserWarning: The torch_array contains both query and the meta set !\n",
      "  warnings.warn(\"The torch_array contains both query and the meta set !\")\n",
      "/home/arthurb/Programmation/liriscat/liriscat/dataset/dataset.py:155: UserWarning: The log_tensor contains both query and the meta set !\n",
      "  warnings.warn(\"The log_tensor contains both query and the meta set !\")\n",
      "/home/arthurb/Programmation/liriscat/liriscat/dataset/dataset.py:160: UserWarning: The user_dict contains both query and the meta set !\n",
      "  warnings.warn(\"The user_dict contains both query and the meta set !\")\n"
     ]
    }
   ],
   "execution_count": 10
  },
  {
   "metadata": {
    "ExecuteTime": {
     "end_time": "2025-03-19T17:07:26.703407Z",
     "start_time": "2025-03-19T17:07:20.572301Z"
    }
   },
   "cell_type": "code",
   "source": [
    "reload(utils)\n",
    "reload(selectionStrategy)\n",
    "reload(dataset)\n",
    "reload(CDM)\n",
    "\n",
    "S = selectionStrategy.Random(**config)\n",
    "S.train(train_data, valid_data)"
   ],
   "id": "357d67780a6318ec",
   "outputs": [
    {
     "name": "stdout",
     "output_type": "stream",
     "text": [
      "RandomModel()\n",
      "[INFO 07:20] train on cuda\n",
      "[INFO 07:20] -- START Training --\n"
     ]
    },
    {
     "name": "stderr",
     "output_type": "stream",
     "text": [
      "/home/arthurb/Programmation/liriscat/liriscat/selectionStrategy/random.py:37: UserWarning: get_params() Notimplemented\n",
      "  warnings.warn('get_params() Notimplemented')\n",
      "0it [00:00, ?it/s]"
     ]
    },
    {
     "name": "stdout",
     "output_type": "stream",
     "text": [
      "[INFO 07:26] 0.5831589102745056, 1.3771882057189941\n"
     ]
    },
    {
     "name": "stderr",
     "output_type": "stream",
     "text": [
      "1it [00:05,  5.76s/it]"
     ]
    },
    {
     "name": "stdout",
     "output_type": "stream",
     "text": [
      "[INFO 07:26] -- END Training --\n"
     ]
    },
    {
     "name": "stderr",
     "output_type": "stream",
     "text": [
      "\n"
     ]
    }
   ],
   "execution_count": 11
  },
  {
   "metadata": {
    "ExecuteTime": {
     "end_time": "2025-03-19T17:07:40.840718Z",
     "start_time": "2025-03-19T17:07:39.923838Z"
    }
   },
   "cell_type": "code",
   "source": [
    "test_data.split_query_meta(2)\n",
    "S.evaluate_test(test_data)"
   ],
   "id": "962714f73f2fcc49",
   "outputs": [
    {
     "name": "stderr",
     "output_type": "stream",
     "text": [
      "/home/arthurb/Programmation/liriscat/liriscat/dataset/dataset.py:155: UserWarning: The log_tensor contains both query and the meta set !\n",
      "  warnings.warn(\"The log_tensor contains both query and the meta set !\")\n",
      "/home/arthurb/Programmation/liriscat/liriscat/dataset/dataset.py:160: UserWarning: The user_dict contains both query and the meta set !\n",
      "  warnings.warn(\"The user_dict contains both query and the meta set !\")\n",
      "/home/arthurb/Programmation/liriscat/y/envs/liriscat-env/lib/python3.12/site-packages/IMPACT/model/abstract_model.py:760: UserWarning: The model must be trained before getting user embeddings\n",
      "  warnings.warn(\"The model must be trained before getting user embeddings\")\n"
     ]
    },
    {
     "data": {
      "text/plain": [
       "({0: {'mi_acc': 0.5768808722496033},\n",
       "  1: {'mi_acc': 0.5768808722496033},\n",
       "  2: {'mi_acc': 0.5768808722496033},\n",
       "  3: {'mi_acc': 0.5768808722496033}},\n",
       " {0: {'doa': np.float64(0.5215578899664385)},\n",
       "  1: {'doa': np.float64(0.5181574837633228)},\n",
       "  2: {'doa': np.float64(0.5260895961897792)},\n",
       "  3: {'doa': np.float64(0.5245281427563094)}})"
      ]
     },
     "execution_count": 12,
     "metadata": {},
     "output_type": "execute_result"
    }
   ],
   "execution_count": 12
  },
  {
   "metadata": {},
   "cell_type": "code",
   "outputs": [],
   "execution_count": null,
   "source": "print('test')",
   "id": "e075a15b0035ebbb"
  },
  {
   "metadata": {},
   "cell_type": "code",
   "outputs": [],
   "execution_count": null,
   "source": "",
   "id": "bd118a351cb79743"
  }
 ],
 "metadata": {
  "kernelspec": {
   "display_name": "Python 3",
   "language": "python",
   "name": "python3"
  },
  "language_info": {
   "codemirror_mode": {
    "name": "ipython",
    "version": 2
   },
   "file_extension": ".py",
   "mimetype": "text/x-python",
   "name": "python",
   "nbconvert_exporter": "python",
   "pygments_lexer": "ipython2",
   "version": "2.7.6"
  }
 },
 "nbformat": 4,
 "nbformat_minor": 5
}
