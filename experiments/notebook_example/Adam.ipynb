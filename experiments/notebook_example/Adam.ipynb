{
 "cells": [
  {
   "cell_type": "markdown",
   "id": "78a21ce669eb601d",
   "metadata": {},
   "source": [
    "# Liriscat paper experiments\n",
    "### 1. Init\n",
    "#### 1.1. Import libraries (necessary)"
   ]
  },
  {
   "cell_type": "code",
   "execution_count": 1,
   "id": "5b0d5d27c5b782ec",
   "metadata": {
    "ExecuteTime": {
     "end_time": "2025-03-28T16:00:43.125550Z",
     "start_time": "2025-03-28T16:00:41.971774Z"
    }
   },
   "outputs": [],
   "source": [
    "%load_ext autoreload\n",
    "%autoreload 2\n",
    "\n",
    "import os\n",
    "os.environ[\"PYTORCH_CUDA_ALLOC_CONF\"] = \"expandable_segments:True\"\n",
    "os.environ[\"PYTHONHASHSEED\"] = \"0\"\n",
    "os.environ['CUBLAS_WORKSPACE_CONFIG'] = \":4096:8\"\n",
    "\n",
    "import liriscat\n",
    "liriscat.utils.set_seed(0)\n",
    "\n",
    "import logging\n",
    "import gc\n",
    "import json\n",
    "import torch\n",
    "liriscat.utils.set_seed(0)\n",
    "import pandas as pd\n",
    "from importlib import reload"
   ]
  },
  {
   "cell_type": "markdown",
   "id": "32ab0bc4902808a9",
   "metadata": {},
   "source": [
    "#### 1.2. Set up the loggers (recommended)"
   ]
  },
  {
   "cell_type": "code",
   "execution_count": 2,
   "id": "b358c4709ccb3845",
   "metadata": {
    "ExecuteTime": {
     "end_time": "2025-03-27T16:01:06.271337Z",
     "start_time": "2025-03-27T16:01:06.259238Z"
    }
   },
   "outputs": [],
   "source": [
    "liriscat.utils.setuplogger(verbose = True, log_name=\"liriscat\", debug=False)"
   ]
  },
  {
   "cell_type": "markdown",
   "id": "5e97a539f6607db0",
   "metadata": {},
   "source": [
    "### 2. CDM prediction\n",
    "#### 2.1. Training and testing, sequential version"
   ]
  },
  {
   "cell_type": "code",
   "execution_count": 3,
   "id": "83d2be5c98d6482",
   "metadata": {
    "ExecuteTime": {
     "end_time": "2025-03-27T16:01:07.182919Z",
     "start_time": "2025-03-27T16:01:06.322894Z"
    }
   },
   "outputs": [],
   "source": [
    "import warnings\n",
    "\n",
    "gc.collect()\n",
    "torch.cuda.empty_cache()"
   ]
  },
  {
   "cell_type": "code",
   "execution_count": 4,
   "id": "1a54dc4f99eadbfa",
   "metadata": {},
   "outputs": [
    {
     "name": "stdout",
     "output_type": "stream",
     "text": [
      "CUDA is available. Using GPU.\n",
      "[INFO 17:16] math2\n"
     ]
    }
   ],
   "source": [
    "config = liriscat.utils.generate_eval_config(load_params=True, esc = 'error', valid_metric= 'mi_acc', pred_metrics = [\"mi_acc\"], profile_metrics = ['meta_doa'], save_params=False, n_query=6, num_epochs=30, batch_size=512)\n",
    "liriscat.utils.set_seed(config[\"seed\"])\n",
    "\n",
    "config[\"dataset_name\"] = \"math2\"\n",
    "logging.info(config[\"dataset_name\"])\n",
    "config['learning_rate'] = 0.0001\n",
    "config['inner_user_lr'] = 5.723345073386536e-04\n",
    "config['lambda'] = 9.972254466547545e-06\n",
    "meta_trainers = ['Adam']\n",
    "\n",
    "config['patience'] = 20#5\n",
    "config['num_inner_users_epochs'] = 5\n",
    "config['d_in'] = 4\n",
    "config['num_responses'] = 12\n",
    "\n",
    "#pred_metrics,df_interp = test(config)"
   ]
  },
  {
   "cell_type": "code",
   "execution_count": 5,
   "id": "73dcbf76e1d61f2a",
   "metadata": {},
   "outputs": [
    {
     "name": "stdout",
     "output_type": "stream",
     "text": [
      "[INFO 17:16] #### math2 ####\n",
      "[INFO 17:16] #### config : {'seed': 0, 'dataset_name': 'math2', 'load_params': True, 'save_params': False, 'embs_path': '../embs/', 'params_path': '../ckpt/', 'early_stopping': True, 'esc': 'error', 'verbose_early_stopping': False, 'disable_tqdm': False, 'valid_metric': 'mi_acc', 'learning_rate': 0.0001, 'batch_size': 512, 'valid_batch_size': 10000, 'num_epochs': 30, 'eval_freq': 1, 'patience': 20, 'device': device(type='cuda'), 'lambda': 9.972254466547545e-06, 'tensorboard': False, 'flush_freq': True, 'pred_metrics': ['mi_acc'], 'profile_metrics': ['meta_doa'], 'num_responses': 12, 'low_mem': False, 'n_query': 6, 'CDM': 'impact', 'i_fold': 0, 'num_inner_users_epochs': 5, 'num_inner_epochs': 10, 'inner_lr': 0.0001, 'inner_user_lr': 0.0005723345073386536, 'meta_lr': 0.05, 'meta_trainer': 'Adam', 'num_workers': 0, 'pin_memory': False, 'debug': False, 'd_in': 4} ####\n"
     ]
    }
   ],
   "source": [
    "logging.info(f'#### {config[\"dataset_name\"]} ####')\n",
    "logging.info(f'#### config : {config} ####')\n",
    "config['embs_path']='../embs/'\n",
    "config['params_path']='../ckpt/'\n",
    "\n",
    "gc.collect()\n",
    "torch.cuda.empty_cache()\n",
    "\n",
    "# Dataset downloading for doa and rm\n",
    "warnings.filterwarnings(\"ignore\", message=\"invalid value encountered in divide\")\n",
    "warnings.filterwarnings(\"ignore\", category=RuntimeWarning)\n",
    "\n",
    "## Concept map format : {question_id : [category_id1, category_id2, ...]}\n",
    "concept_map = json.load(open(f'../datasets/2-preprocessed_data/{config[\"dataset_name\"]}_concept_map.json', 'r'))\n",
    "concept_map = {int(k): [int(x) for x in v] for k, v in concept_map.items()}\n",
    "\n",
    "## Metadata map format : {\"num_user_id\": ..., \"num_item_id\": ..., \"num_dimension_id\": ...}\n",
    "metadata = json.load(open(f'../datasets/2-preprocessed_data/{config[\"dataset_name\"]}_metadata.json', 'r'))\n",
    "\n",
    "\n",
    "## Tensor containing the nb of modalities per question\n",
    "nb_modalities = torch.load(f'../datasets/2-preprocessed_data/{config[\"dataset_name\"]}_nb_modalities.pkl',weights_only=True)\n"
   ]
  },
  {
   "cell_type": "code",
   "execution_count": 6,
   "id": "e868c02b",
   "metadata": {},
   "outputs": [],
   "source": [
    "def pareto_index(d) : \n",
    "    d_acc = d[0]\n",
    "    d_meta = d[1]\n",
    "\n",
    "    r = []\n",
    "\n",
    "    for i in range(len(d_acc)):\n",
    "        r.append((0.5-d_acc[i]['mi_acc'])*(0.5-d_meta[i]['meta_doa']))\n",
    "    return sum(r)"
   ]
  },
  {
   "cell_type": "code",
   "execution_count": 7,
   "id": "846a5c594351413e",
   "metadata": {},
   "outputs": [
    {
     "name": "stdout",
     "output_type": "stream",
     "text": [
      "[INFO 17:16] #### meta_trainer : Adam ####\n",
      "[INFO 17:16] #### i_fold : 0 ####\n"
     ]
    },
    {
     "name": "stdout",
     "output_type": "stream",
     "text": [
      "[INFO 17:25] #### seed : 0 ####\n",
      "[INFO 17:25] Random_cont_model\n",
      "[INFO 17:25] compiling CDM model\n",
      "[INFO 17:28] compiling selection model\n",
      "[INFO 17:28] train on cuda\n"
     ]
    },
    {
     "name": "stderr",
     "output_type": "stream",
     "text": [
      "100%|██████████| 6/6 [00:09<00:00,  1.57s/it]\n"
     ]
    },
    {
     "name": "stdout",
     "output_type": "stream",
     "text": [
      "[INFO 17:45] ({0: {'mi_acc': 0.6258096694946289}, 1: {'mi_acc': 0.6283009052276611}, 2: {'mi_acc': 0.6295964121818542}, 3: {'mi_acc': 0.6295964121818542}, 4: {'mi_acc': 0.6292974352836609}, 5: {'mi_acc': 0.6320876479148865}}, {0: {'meta_doa': 0.5049809099272996}, 1: {'meta_doa': 0.5055795044852316}, 2: {'meta_doa': 0.5066491949131348}, 3: {'meta_doa': 0.5081504856847082}, 4: {'meta_doa': 0.5103581939568147}, 5: {'meta_doa': 0.513047486901408}})\n",
      "[INFO 17:45] 0.006323187383625067\n"
     ]
    }
   ],
   "source": [
    "for meta_trainer in meta_trainers : \n",
    "    config['meta_trainer'] = meta_trainer\n",
    "    logging.info(f'#### meta_trainer : {config[\"meta_trainer\"]} ####')\n",
    "    for i_fold in range(1) : \n",
    "        config['i_fold'] = i_fold\n",
    "            \n",
    "        logging.info(f'#### i_fold : {i_fold} ####')\n",
    "        ## Dataframe columns : (user_id, question_id, response, category_id)\n",
    "        train_df = pd.read_csv(\n",
    "            f'../datasets/2-preprocessed_data/{config[\"dataset_name\"]}_train_{i_fold}.csv',\n",
    "            encoding='utf-8', dtype={'student_id': int, 'item_id': int, \"correct\": float,\n",
    "                                                                    \"dimension_id\": int})\n",
    "        valid_df = pd.read_csv(\n",
    "            f'../datasets/2-preprocessed_data/{config[\"dataset_name\"]}_valid_{i_fold}.csv',\n",
    "            encoding='utf-8', dtype={'student_id': int, 'item_id': int, \"correct\": float,\n",
    "                                                                    \"dimension_id\": int})\n",
    "        test_df = pd.read_csv(\n",
    "            f'../datasets/2-preprocessed_data/{config[\"dataset_name\"]}_test_{i_fold}.csv',\n",
    "            encoding='utf-8', dtype={'student_id': int, 'item_id': int, \"correct\": float,\n",
    "                                                                    \"dimension_id\": int})\n",
    "\n",
    "        train_data = liriscat.dataset.CATDataset(train_df, concept_map, metadata, config,nb_modalities)\n",
    "        valid_data = liriscat.dataset.EvalDataset(valid_df, concept_map, metadata, config,nb_modalities)\n",
    "        test_data = liriscat.dataset.EvalDataset(test_df, concept_map, metadata, config,nb_modalities)\n",
    "\n",
    "        for seed in range(1) :\n",
    "            config['seed'] = seed\n",
    "            logging.info(f'#### seed : {seed} ####')\n",
    "\n",
    "            train_data.reset_rng()\n",
    "            valid_data.reset_rng()\n",
    "            test_data.reset_rng()\n",
    "\n",
    "            S = liriscat.selectionStrategy.Random(metadata,**config)\n",
    "            S.init_models(train_data, valid_data)\n",
    "            #S.train(train_data, valid_data)\n",
    "            liriscat.utils.set_seed(0)\n",
    "            S.reset_rng()\n",
    "            d = (S.evaluate_test(valid_data, train_data, valid_data))\n",
    "            logging.info(d)\n",
    "            logging.info(pareto_index(d))\n",
    "\n",
    "    torch.cuda.empty_cache()"
   ]
  },
  {
   "cell_type": "code",
   "execution_count": null,
   "id": "262931df",
   "metadata": {},
   "outputs": [],
   "source": []
  }
 ],
 "metadata": {
  "kernelspec": {
   "display_name": "Python (liriscat no frozen)",
   "language": "python",
   "name": "liriscat-nofrozen"
  },
  "language_info": {
   "codemirror_mode": {
    "name": "ipython",
    "version": 3
   },
   "file_extension": ".py",
   "mimetype": "text/x-python",
   "name": "python",
   "nbconvert_exporter": "python",
   "pygments_lexer": "ipython3",
   "version": "3.11.11"
  }
 },
 "nbformat": 4,
 "nbformat_minor": 5
}
