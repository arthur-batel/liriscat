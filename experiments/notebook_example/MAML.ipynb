{
 "cells": [
  {
   "cell_type": "markdown",
   "id": "78a21ce669eb601d",
   "metadata": {},
   "source": [
    "# Liriscat paper experiments\n",
    "### 1. Init\n",
    "#### 1.1. Import libraries (necessary)"
   ]
  },
  {
   "cell_type": "code",
   "execution_count": 1,
   "id": "5b0d5d27c5b782ec",
   "metadata": {
    "ExecuteTime": {
     "end_time": "2025-03-28T16:00:43.125550Z",
     "start_time": "2025-03-28T16:00:41.971774Z"
    }
   },
   "outputs": [],
   "source": [
    "%load_ext autoreload\n",
    "%autoreload 2\n",
    "\n",
    "import os\n",
    "os.environ[\"PYTORCH_CUDA_ALLOC_CONF\"] = \"expandable_segments:True\"\n",
    "os.environ[\"PYTHONHASHSEED\"] = \"0\"\n",
    "os.environ['CUBLAS_WORKSPACE_CONFIG'] = \":4096:8\"\n",
    "\n",
    "import liriscat\n",
    "liriscat.utils.set_seed(0)\n",
    "\n",
    "import logging\n",
    "import gc\n",
    "import json\n",
    "import torch\n",
    "liriscat.utils.set_seed(0)\n",
    "import pandas as pd\n",
    "from importlib import reload"
   ]
  },
  {
   "cell_type": "markdown",
   "id": "32ab0bc4902808a9",
   "metadata": {},
   "source": [
    "#### 1.2. Set up the loggers (recommended)"
   ]
  },
  {
   "cell_type": "code",
   "execution_count": 2,
   "id": "b358c4709ccb3845",
   "metadata": {
    "ExecuteTime": {
     "end_time": "2025-03-27T16:01:06.271337Z",
     "start_time": "2025-03-27T16:01:06.259238Z"
    }
   },
   "outputs": [],
   "source": [
    "liriscat.utils.setuplogger(verbose = True, log_name=\"liriscat\", debug=False)"
   ]
  },
  {
   "cell_type": "markdown",
   "id": "5e97a539f6607db0",
   "metadata": {},
   "source": [
    "### 2. CDM prediction\n",
    "#### 2.1. Training and testing, sequential version"
   ]
  },
  {
   "cell_type": "code",
   "execution_count": 3,
   "id": "83d2be5c98d6482",
   "metadata": {
    "ExecuteTime": {
     "end_time": "2025-03-27T16:01:07.182919Z",
     "start_time": "2025-03-27T16:01:06.322894Z"
    }
   },
   "outputs": [],
   "source": [
    "import warnings\n",
    "\n",
    "gc.collect()\n",
    "torch.cuda.empty_cache()"
   ]
  },
  {
   "cell_type": "code",
   "execution_count": null,
   "id": "1a54dc4f99eadbfa",
   "metadata": {},
   "outputs": [
    {
     "name": "stdout",
     "output_type": "stream",
     "text": [
      "CUDA is available. Using GPU.\n",
      "[INFO 21:26] math2\n"
     ]
    }
   ],
   "source": [
    "config = liriscat.utils.generate_eval_config(load_params=True, esc = 'error', valid_metric= 'mi_acc', pred_metrics = [\"mi_acc\"], profile_metrics = ['meta_doa'], save_params=False, n_query=6, num_epochs=100, batch_size=512)\n",
    "liriscat.utils.set_seed(config[\"seed\"])\n",
    "\n",
    "config[\"dataset_name\"] = \"math2\"\n",
    "logging.info(config[\"dataset_name\"])\n",
    "config['learning_rate'] = 0.001\n",
    "config['inner_user_lr'] = 0.016848380924625605\n",
    "config['lambda'] = 9.972254466547545e-06\n",
    "\n",
    "meta_trainers = ['MAML']\n",
    "config['meta_lr'] = 0.001\n",
    "config['patience'] = 20#5\n",
    "config['num_inner_users_epochs'] = 3\n",
    "config['d_in'] = 4\n",
    "config['num_responses'] = 12\n",
    "\n",
    "#pred_metrics,df_interp = test(config)"
   ]
  },
  {
   "cell_type": "code",
   "execution_count": 5,
   "id": "73dcbf76e1d61f2a",
   "metadata": {},
   "outputs": [
    {
     "name": "stdout",
     "output_type": "stream",
     "text": [
      "[INFO 21:26] #### math2 ####\n",
      "[INFO 21:26] #### config : {'seed': 0, 'dataset_name': 'math2', 'load_params': True, 'save_params': False, 'embs_path': '../embs/', 'params_path': '../ckpt/', 'early_stopping': True, 'esc': 'error', 'verbose_early_stopping': False, 'disable_tqdm': False, 'valid_metric': 'mi_acc', 'learning_rate': 0.001, 'batch_size': 512, 'valid_batch_size': 10000, 'num_epochs': 100, 'eval_freq': 1, 'patience': 20, 'device': device(type='cuda'), 'lambda': 9.972254466547545e-06, 'tensorboard': False, 'flush_freq': True, 'pred_metrics': ['mi_acc'], 'profile_metrics': ['meta_doa'], 'num_responses': 12, 'low_mem': False, 'n_query': 6, 'CDM': 'impact', 'i_fold': 0, 'num_inner_users_epochs': 3, 'num_inner_epochs': 10, 'inner_lr': 0.0001, 'inner_user_lr': 0.016848380924625605, 'meta_lr': 0.5, 'meta_trainer': 'Adam', 'num_workers': 0, 'pin_memory': False, 'debug': False, 'd_in': 4} ####\n"
     ]
    }
   ],
   "source": [
    "logging.info(f'#### {config[\"dataset_name\"]} ####')\n",
    "logging.info(f'#### config : {config} ####')\n",
    "config['embs_path']='../embs/'\n",
    "config['params_path']='../ckpt/'\n",
    "\n",
    "gc.collect()\n",
    "torch.cuda.empty_cache()\n",
    "\n",
    "# Dataset downloading for doa and rm\n",
    "warnings.filterwarnings(\"ignore\", message=\"invalid value encountered in divide\")\n",
    "warnings.filterwarnings(\"ignore\", category=RuntimeWarning)\n",
    "\n",
    "## Concept map format : {question_id : [category_id1, category_id2, ...]}\n",
    "concept_map = json.load(open(f'../datasets/2-preprocessed_data/{config[\"dataset_name\"]}_concept_map.json', 'r'))\n",
    "concept_map = {int(k): [int(x) for x in v] for k, v in concept_map.items()}\n",
    "\n",
    "## Metadata map format : {\"num_user_id\": ..., \"num_item_id\": ..., \"num_dimension_id\": ...}\n",
    "metadata = json.load(open(f'../datasets/2-preprocessed_data/{config[\"dataset_name\"]}_metadata.json', 'r'))\n",
    "\n",
    "\n",
    "## Tensor containing the nb of modalities per question\n",
    "nb_modalities = torch.load(f'../datasets/2-preprocessed_data/{config[\"dataset_name\"]}_nb_modalities.pkl',weights_only=True)\n"
   ]
  },
  {
   "cell_type": "code",
   "execution_count": 6,
   "id": "846a5c594351413e",
   "metadata": {},
   "outputs": [
    {
     "name": "stdout",
     "output_type": "stream",
     "text": [
      "[INFO 21:27] #### meta_trainer : MAML ####\n",
      "[INFO 21:27] #### i_fold : 1 ####\n"
     ]
    },
    {
     "name": "stdout",
     "output_type": "stream",
     "text": [
      "[INFO 21:38] #### seed : 0 ####\n",
      "[INFO 21:38] Random_cont_model\n",
      "[INFO 21:38] compiling CDM model\n",
      "[INFO 21:40] compiling selection model\n",
      "[INFO 21:40] ------- START Training\n",
      "[INFO 21:40] train on cuda\n"
     ]
    },
    {
     "name": "stderr",
     "output_type": "stream",
     "text": [
      "/home/arthur/liriscat/liriscat/selectionStrategy/random.py:30: UserWarning: get_params() Notimplemented\n",
      "  warnings.warn('get_params() Notimplemented')\n",
      "  0%|          | 0/100 [00:00<?, ?it/s]"
     ]
    },
    {
     "name": "stdout",
     "output_type": "stream",
     "text": [
      "[INFO 21:42] ----- User batch : 0\n",
      "[INFO 21:47] ----- User batch : 1\n",
      "[INFO 21:51] ----- User batch : 2\n",
      "[INFO 21:54] ----- User batch : 3\n",
      "[INFO 21:58] ----- User batch : 4\n",
      "[INFO 22:00] - learning_users_emb gn: 141.30142211914062\n",
      "[INFO 22:00] - learning_users_emb norm: 2.273587942123413\n",
      "[INFO 22:00] - learning_users_emb: 0.5\n",
      "[INFO 22:07] rmse : 0.6865495443344116\n",
      "[INFO 22:07] valid_rmse : 0.8779405951499939\n",
      "[INFO 22:07] valid_loss : 1.1226927042007446\n"
     ]
    },
    {
     "name": "stderr",
     "output_type": "stream",
     "text": [
      "  1%|          | 1/100 [00:25<42:08, 25.54s/it]"
     ]
    },
    {
     "name": "stdout",
     "output_type": "stream",
     "text": [
      "[INFO 22:07] ----- User batch : 0\n",
      "[INFO 22:11] ----- User batch : 1\n",
      "[INFO 22:14] ----- User batch : 2\n",
      "[INFO 22:18] ----- User batch : 3\n",
      "[INFO 22:21] ----- User batch : 4\n",
      "[INFO 22:23] - learning_users_emb gn: 90.97913360595703\n",
      "[INFO 22:23] - learning_users_emb norm: 2.142869234085083\n",
      "[INFO 22:23] - learning_users_emb: 0.5\n",
      "[INFO 22:28] rmse : 0.6865495443344116\n",
      "[INFO 22:28] valid_rmse : 0.8779405951499939\n",
      "[INFO 22:28] valid_loss : 1.122692584991455\n"
     ]
    },
    {
     "name": "stderr",
     "output_type": "stream",
     "text": [
      "  2%|▏         | 2/100 [00:47<38:08, 23.35s/it]"
     ]
    },
    {
     "name": "stdout",
     "output_type": "stream",
     "text": [
      "[INFO 22:29] ----- User batch : 0\n",
      "[INFO 22:32] ----- User batch : 1\n",
      "[INFO 22:36] ----- User batch : 2\n",
      "[INFO 22:40] ----- User batch : 3\n",
      "[INFO 22:43] ----- User batch : 4\n",
      "[INFO 22:45] - learning_users_emb gn: 90.59117126464844\n",
      "[INFO 22:45] - learning_users_emb norm: 2.142869234085083\n",
      "[INFO 22:45] - learning_users_emb: 0.5\n",
      "[INFO 22:50] rmse : 0.6148794293403625\n",
      "[INFO 22:50] valid_rmse : 0.7862908244132996\n",
      "[INFO 22:50] valid_loss : 1.058408498764038\n"
     ]
    },
    {
     "name": "stderr",
     "output_type": "stream",
     "text": [
      "  3%|▎         | 3/100 [01:09<36:34, 22.63s/it]"
     ]
    },
    {
     "name": "stdout",
     "output_type": "stream",
     "text": [
      "[INFO 22:51] ----- User batch : 0\n",
      "[INFO 22:55] ----- User batch : 1\n",
      "[INFO 22:59] ----- User batch : 2\n",
      "[INFO 23:02] ----- User batch : 3\n",
      "[INFO 23:06] ----- User batch : 4\n",
      "[INFO 23:08] - learning_users_emb gn: 59.061866760253906\n",
      "[INFO 23:08] - learning_users_emb norm: 1.53993821144104\n",
      "[INFO 23:08] - learning_users_emb: 0.5\n",
      "[INFO 23:12] rmse : 0.6160128712654114\n",
      "[INFO 23:12] valid_rmse : 0.7877402305603027\n",
      "[INFO 23:12] valid_loss : 1.0473079681396484\n"
     ]
    },
    {
     "name": "stderr",
     "output_type": "stream",
     "text": [
      "  4%|▍         | 4/100 [01:31<36:02, 22.53s/it]"
     ]
    },
    {
     "name": "stdout",
     "output_type": "stream",
     "text": [
      "[INFO 23:13] ----- User batch : 0\n",
      "[INFO 23:17] ----- User batch : 1\n",
      "[INFO 23:21] ----- User batch : 2\n",
      "[INFO 23:25] ----- User batch : 3\n",
      "[INFO 23:29] ----- User batch : 4\n",
      "[INFO 23:31] - learning_users_emb gn: 66.23473358154297\n",
      "[INFO 23:31] - learning_users_emb norm: 1.280868411064148\n",
      "[INFO 23:31] - learning_users_emb: 0.5\n",
      "[INFO 23:35] rmse : 0.6267576217651367\n",
      "[INFO 23:35] valid_rmse : 0.8014802932739258\n",
      "[INFO 23:35] valid_loss : 1.0469979047775269\n"
     ]
    },
    {
     "name": "stderr",
     "output_type": "stream",
     "text": [
      "  5%|▌         | 5/100 [01:54<35:51, 22.64s/it]"
     ]
    },
    {
     "name": "stdout",
     "output_type": "stream",
     "text": [
      "[INFO 23:36] ----- User batch : 0\n",
      "[INFO 23:40] ----- User batch : 1\n",
      "[INFO 23:43] ----- User batch : 2\n",
      "[INFO 23:47] ----- User batch : 3\n",
      "[INFO 23:51] ----- User batch : 4\n",
      "[INFO 23:52] - learning_users_emb gn: 71.01740264892578\n",
      "[INFO 23:52] - learning_users_emb norm: 1.3876497745513916\n",
      "[INFO 23:52] - learning_users_emb: 0.5\n",
      "[INFO 23:57] rmse : 0.6177897453308105\n",
      "[INFO 23:57] valid_rmse : 0.7900124192237854\n",
      "[INFO 23:57] valid_loss : 1.0418542623519897\n"
     ]
    },
    {
     "name": "stderr",
     "output_type": "stream",
     "text": [
      "  6%|▌         | 6/100 [02:16<35:04, 22.39s/it]"
     ]
    },
    {
     "name": "stdout",
     "output_type": "stream",
     "text": [
      "[INFO 23:58] ----- User batch : 0\n",
      "[INFO 24:02] ----- User batch : 1\n",
      "[INFO 24:06] ----- User batch : 2\n",
      "[INFO 24:10] ----- User batch : 3\n",
      "[INFO 24:13] ----- User batch : 4\n",
      "[INFO 24:15] - learning_users_emb gn: 64.1982421875\n",
      "[INFO 24:15] - learning_users_emb norm: 1.6310960054397583\n",
      "[INFO 24:15] - learning_users_emb: 0.5\n",
      "[INFO 24:20] rmse : 0.6177897453308105\n",
      "[INFO 24:20] valid_rmse : 0.7900124192237854\n",
      "[INFO 24:20] valid_loss : 1.0418531894683838\n"
     ]
    },
    {
     "name": "stderr",
     "output_type": "stream",
     "text": [
      "  7%|▋         | 7/100 [02:38<34:50, 22.47s/it]"
     ]
    },
    {
     "name": "stdout",
     "output_type": "stream",
     "text": [
      "[INFO 24:21] ----- User batch : 0\n",
      "[INFO 24:25] ----- User batch : 1\n",
      "[INFO 24:28] ----- User batch : 2\n",
      "[INFO 24:32] ----- User batch : 3\n",
      "[INFO 24:36] ----- User batch : 4\n",
      "[INFO 24:38] - learning_users_emb gn: 64.4339370727539\n",
      "[INFO 24:38] - learning_users_emb norm: 1.6310960054397583\n",
      "[INFO 24:38] - learning_users_emb: 0.5\n",
      "[INFO 24:42] rmse : 0.6177897453308105\n",
      "[INFO 24:42] valid_rmse : 0.7900124192237854\n",
      "[INFO 24:42] valid_loss : 1.0418556928634644\n"
     ]
    },
    {
     "name": "stderr",
     "output_type": "stream",
     "text": [
      "  8%|▊         | 8/100 [03:01<34:28, 22.48s/it]"
     ]
    },
    {
     "name": "stdout",
     "output_type": "stream",
     "text": [
      "[INFO 24:43] ----- User batch : 0\n",
      "[INFO 24:47] ----- User batch : 1\n",
      "[INFO 24:50] ----- User batch : 2\n",
      "[INFO 24:54] ----- User batch : 3\n",
      "[INFO 24:57] ----- User batch : 4\n",
      "[INFO 24:59] - learning_users_emb gn: 61.130943298339844\n",
      "[INFO 24:59] - learning_users_emb norm: 1.6310960054397583\n",
      "[INFO 24:59] - learning_users_emb: 0.5\n",
      "[INFO 25:04] rmse : 0.6177897453308105\n",
      "[INFO 25:04] valid_rmse : 0.7900124192237854\n",
      "[INFO 25:04] valid_loss : 1.041858196258545\n"
     ]
    },
    {
     "name": "stderr",
     "output_type": "stream",
     "text": [
      "  9%|▉         | 9/100 [03:23<33:52, 22.34s/it]"
     ]
    },
    {
     "name": "stdout",
     "output_type": "stream",
     "text": [
      "[INFO 25:05] ----- User batch : 0\n",
      "[INFO 25:09] ----- User batch : 1\n",
      "[INFO 25:12] ----- User batch : 2\n",
      "[INFO 25:16] ----- User batch : 3\n",
      "[INFO 25:20] ----- User batch : 4\n",
      "[INFO 25:22] - learning_users_emb gn: 64.20149993896484\n",
      "[INFO 25:22] - learning_users_emb norm: 1.6310960054397583\n",
      "[INFO 25:22] - learning_users_emb: 0.25\n",
      "[INFO 25:26] rmse : 0.6099980473518372\n",
      "[INFO 25:26] valid_rmse : 0.780048668384552\n",
      "[INFO 25:26] valid_loss : 1.0332285165786743\n"
     ]
    },
    {
     "name": "stderr",
     "output_type": "stream",
     "text": [
      " 10%|█         | 10/100 [03:45<33:20, 22.22s/it]"
     ]
    },
    {
     "name": "stdout",
     "output_type": "stream",
     "text": [
      "[INFO 25:27] ----- User batch : 0\n",
      "[INFO 25:31] ----- User batch : 1\n",
      "[INFO 25:34] ----- User batch : 2\n",
      "[INFO 25:38] ----- User batch : 3\n",
      "[INFO 25:41] ----- User batch : 4\n",
      "[INFO 25:43] - learning_users_emb gn: 63.051307678222656\n",
      "[INFO 25:43] - learning_users_emb norm: 1.6800180673599243\n",
      "[INFO 25:43] - learning_users_emb: 0.25\n",
      "[INFO 25:48] rmse : 0.6099980473518372\n",
      "[INFO 25:48] valid_rmse : 0.780048668384552\n",
      "[INFO 25:48] valid_loss : 1.0332362651824951\n"
     ]
    },
    {
     "name": "stderr",
     "output_type": "stream",
     "text": [
      " 11%|█         | 11/100 [04:06<32:39, 22.01s/it]"
     ]
    },
    {
     "name": "stdout",
     "output_type": "stream",
     "text": [
      "[INFO 25:48] ----- User batch : 0\n",
      "[INFO 25:52] ----- User batch : 1\n",
      "[INFO 25:56] ----- User batch : 2\n",
      "[INFO 26:00] ----- User batch : 3\n",
      "[INFO 26:03] ----- User batch : 4\n",
      "[INFO 26:05] - learning_users_emb gn: 62.109413146972656\n",
      "[INFO 26:05] - learning_users_emb norm: 1.6800180673599243\n",
      "[INFO 26:05] - learning_users_emb: 0.25\n",
      "[INFO 26:10] rmse : 0.6099980473518372\n",
      "[INFO 26:10] valid_rmse : 0.780048668384552\n",
      "[INFO 26:10] valid_loss : 1.0332313776016235\n"
     ]
    },
    {
     "name": "stderr",
     "output_type": "stream",
     "text": [
      " 12%|█▏        | 12/100 [04:28<32:10, 21.94s/it]"
     ]
    },
    {
     "name": "stdout",
     "output_type": "stream",
     "text": [
      "[INFO 26:10] ----- User batch : 0\n",
      "[INFO 26:14] ----- User batch : 1\n",
      "[INFO 26:18] ----- User batch : 2\n",
      "[INFO 26:21] ----- User batch : 3\n",
      "[INFO 26:25] ----- User batch : 4\n",
      "[INFO 26:27] - learning_users_emb gn: 61.066688537597656\n",
      "[INFO 26:27] - learning_users_emb norm: 1.6800180673599243\n",
      "[INFO 26:27] - learning_users_emb: 0.25\n",
      "[INFO 26:32] rmse : 0.6099980473518372\n",
      "[INFO 26:32] valid_rmse : 0.780048668384552\n",
      "[INFO 26:32] valid_loss : 1.0332326889038086\n"
     ]
    },
    {
     "name": "stderr",
     "output_type": "stream",
     "text": [
      " 13%|█▎        | 13/100 [04:50<31:47, 21.92s/it]"
     ]
    },
    {
     "name": "stdout",
     "output_type": "stream",
     "text": [
      "[INFO 26:32] ----- User batch : 0\n",
      "[INFO 26:36] ----- User batch : 1\n",
      "[INFO 26:40] ----- User batch : 2\n",
      "[INFO 26:44] ----- User batch : 3\n",
      "[INFO 26:47] ----- User batch : 4\n",
      "[INFO 26:49] - learning_users_emb gn: 60.91670608520508\n",
      "[INFO 26:49] - learning_users_emb norm: 1.6800180673599243\n",
      "[INFO 26:49] - learning_users_emb: 0.125\n",
      "[INFO 26:54] rmse : 0.6099980473518372\n",
      "[INFO 26:54] valid_rmse : 0.780048668384552\n",
      "[INFO 26:54] valid_loss : 1.0246254205703735\n"
     ]
    },
    {
     "name": "stderr",
     "output_type": "stream",
     "text": [
      " 14%|█▍        | 14/100 [05:13<31:45, 22.16s/it]"
     ]
    },
    {
     "name": "stdout",
     "output_type": "stream",
     "text": [
      "[INFO 26:55] ----- User batch : 0\n",
      "[INFO 26:58] ----- User batch : 1\n",
      "[INFO 27:02] ----- User batch : 2\n",
      "[INFO 27:06] ----- User batch : 3\n",
      "[INFO 27:09] ----- User batch : 4\n",
      "[INFO 27:11] - learning_users_emb gn: 57.30637741088867\n",
      "[INFO 27:11] - learning_users_emb norm: 1.651828646659851\n",
      "[INFO 27:11] - learning_users_emb: 0.125\n",
      "[INFO 27:16] rmse : 0.6099980473518372\n",
      "[INFO 27:16] valid_rmse : 0.780048668384552\n",
      "[INFO 27:16] valid_loss : 1.024619221687317\n"
     ]
    },
    {
     "name": "stderr",
     "output_type": "stream",
     "text": [
      " 15%|█▌        | 15/100 [05:35<31:15, 22.07s/it]"
     ]
    },
    {
     "name": "stdout",
     "output_type": "stream",
     "text": [
      "[INFO 27:17] ----- User batch : 0\n",
      "[INFO 27:20] ----- User batch : 1\n",
      "[INFO 27:24] ----- User batch : 2\n",
      "[INFO 27:27] ----- User batch : 3\n",
      "[INFO 27:30] ----- User batch : 4\n",
      "[INFO 27:31] - learning_users_emb gn: 55.45595932006836\n",
      "[INFO 27:31] - learning_users_emb norm: 1.651828646659851\n",
      "[INFO 27:31] - learning_users_emb: 0.125\n",
      "[INFO 27:36] rmse : 0.6099980473518372\n",
      "[INFO 27:36] valid_rmse : 0.780048668384552\n",
      "[INFO 27:36] valid_loss : 1.0141844749450684\n"
     ]
    },
    {
     "name": "stderr",
     "output_type": "stream",
     "text": [
      " 16%|█▌        | 16/100 [05:55<29:58, 21.41s/it]"
     ]
    },
    {
     "name": "stdout",
     "output_type": "stream",
     "text": [
      "[INFO 27:36] ----- User batch : 0\n",
      "[INFO 27:39] ----- User batch : 1\n",
      "[INFO 27:42] ----- User batch : 2\n",
      "[INFO 27:46] ----- User batch : 3\n",
      "[INFO 27:49] ----- User batch : 4\n",
      "[INFO 27:50] - learning_users_emb gn: 51.60918426513672\n",
      "[INFO 27:50] - learning_users_emb norm: 1.5863380432128906\n",
      "[INFO 27:50] - learning_users_emb: 0.125\n",
      "[INFO 27:55] rmse : 0.6193202137947083\n",
      "[INFO 27:55] valid_rmse : 0.7919695973396301\n",
      "[INFO 27:55] valid_loss : 1.003554344177246\n"
     ]
    },
    {
     "name": "stderr",
     "output_type": "stream",
     "text": [
      " 17%|█▋        | 17/100 [06:13<28:33, 20.65s/it]"
     ]
    },
    {
     "name": "stdout",
     "output_type": "stream",
     "text": [
      "[INFO 27:55] ----- User batch : 0\n",
      "[INFO 27:59] ----- User batch : 1\n",
      "[INFO 28:02] ----- User batch : 2\n",
      "[INFO 28:05] ----- User batch : 3\n",
      "[INFO 28:08] ----- User batch : 4\n",
      "[INFO 28:10] - learning_users_emb gn: 47.9950065612793\n",
      "[INFO 28:10] - learning_users_emb norm: 1.4939621686935425\n",
      "[INFO 28:10] - learning_users_emb: 0.125\n",
      "[INFO 28:14] rmse : 0.6193202137947083\n",
      "[INFO 28:14] valid_rmse : 0.7919695973396301\n",
      "[INFO 28:14] valid_loss : 0.9933913946151733\n"
     ]
    },
    {
     "name": "stderr",
     "output_type": "stream",
     "text": [
      " 18%|█▊        | 18/100 [06:33<27:41, 20.26s/it]"
     ]
    },
    {
     "name": "stdout",
     "output_type": "stream",
     "text": [
      "[INFO 28:15] ----- User batch : 0\n",
      "[INFO 28:18] ----- User batch : 1\n",
      "[INFO 28:21] ----- User batch : 2\n",
      "[INFO 28:24] ----- User batch : 3\n",
      "[INFO 28:27] ----- User batch : 4\n",
      "[INFO 28:29] - learning_users_emb gn: 47.1344108581543\n",
      "[INFO 28:29] - learning_users_emb norm: 1.3837926387786865\n",
      "[INFO 28:29] - learning_users_emb: 0.125\n",
      "[INFO 28:33] rmse : 0.6305619478225708\n",
      "[INFO 28:33] valid_rmse : 0.8063451647758484\n",
      "[INFO 28:33] valid_loss : 0.9843237996101379\n"
     ]
    },
    {
     "name": "stderr",
     "output_type": "stream",
     "text": [
      " 19%|█▉        | 19/100 [06:52<26:56, 19.95s/it]"
     ]
    },
    {
     "name": "stdout",
     "output_type": "stream",
     "text": [
      "[INFO 28:34] ----- User batch : 0\n",
      "[INFO 28:37] ----- User batch : 1\n",
      "[INFO 28:40] ----- User batch : 2\n",
      "[INFO 28:43] ----- User batch : 3\n",
      "[INFO 28:46] ----- User batch : 4\n",
      "[INFO 28:48] - learning_users_emb gn: 43.06675338745117\n",
      "[INFO 28:48] - learning_users_emb norm: 1.2621568441390991\n",
      "[INFO 28:48] - learning_users_emb: 0.125\n",
      "[INFO 28:53] rmse : 0.6305619478225708\n",
      "[INFO 28:53] valid_rmse : 0.8063451647758484\n",
      "[INFO 28:53] valid_loss : 0.9843190312385559\n"
     ]
    },
    {
     "name": "stderr",
     "output_type": "stream",
     "text": [
      " 20%|██        | 20/100 [07:11<26:17, 19.72s/it]"
     ]
    },
    {
     "name": "stdout",
     "output_type": "stream",
     "text": [
      "[INFO 28:53] ----- User batch : 0\n",
      "[INFO 28:56] ----- User batch : 1\n",
      "[INFO 28:59] ----- User batch : 2\n",
      "[INFO 29:02] ----- User batch : 3\n",
      "[INFO 29:05] ----- User batch : 4\n",
      "[INFO 29:07] - learning_users_emb gn: 42.055580139160156\n",
      "[INFO 29:07] - learning_users_emb norm: 1.2621568441390991\n",
      "[INFO 29:07] - learning_users_emb: 0.125\n",
      "[INFO 29:12] rmse : 0.6117924451828003\n",
      "[INFO 29:12] valid_rmse : 0.7823432683944702\n",
      "[INFO 29:12] valid_loss : 0.9763119220733643\n"
     ]
    },
    {
     "name": "stderr",
     "output_type": "stream",
     "text": [
      " 21%|██        | 21/100 [07:30<25:39, 19.49s/it]"
     ]
    },
    {
     "name": "stdout",
     "output_type": "stream",
     "text": [
      "[INFO 29:12] ----- User batch : 0\n",
      "[INFO 29:15] ----- User batch : 1\n",
      "[INFO 29:19] ----- User batch : 2\n",
      "[INFO 29:22] ----- User batch : 3\n",
      "[INFO 29:25] ----- User batch : 4\n",
      "[INFO 29:27] - learning_users_emb gn: 40.80328369140625\n",
      "[INFO 29:27] - learning_users_emb norm: 1.1341335773468018\n",
      "[INFO 29:27] - learning_users_emb: 0.125\n",
      "[INFO 29:31] rmse : 0.6056534647941589\n",
      "[INFO 29:31] valid_rmse : 0.7744929194450378\n",
      "[INFO 29:31] valid_loss : 0.9688311219215393\n"
     ]
    },
    {
     "name": "stderr",
     "output_type": "stream",
     "text": [
      " 22%|██▏       | 22/100 [07:50<25:28, 19.59s/it]"
     ]
    },
    {
     "name": "stdout",
     "output_type": "stream",
     "text": [
      "[INFO 29:32] ----- User batch : 0\n",
      "[INFO 29:35] ----- User batch : 1\n",
      "[INFO 29:39] ----- User batch : 2\n",
      "[INFO 29:43] ----- User batch : 3\n",
      "[INFO 29:47] ----- User batch : 4\n",
      "[INFO 29:49] - learning_users_emb gn: 40.095741271972656\n",
      "[INFO 29:49] - learning_users_emb norm: 1.0031777620315552\n",
      "[INFO 29:49] - learning_users_emb: 0.125\n",
      "[INFO 29:54] rmse : 0.6135002970695496\n",
      "[INFO 29:54] valid_rmse : 0.7845272421836853\n",
      "[INFO 29:54] valid_loss : 0.9614079594612122\n"
     ]
    },
    {
     "name": "stderr",
     "output_type": "stream",
     "text": [
      " 23%|██▎       | 23/100 [08:12<26:08, 20.37s/it]"
     ]
    },
    {
     "name": "stdout",
     "output_type": "stream",
     "text": [
      "[INFO 29:54] ----- User batch : 0\n",
      "[INFO 29:58] ----- User batch : 1\n",
      "[INFO 30:02] ----- User batch : 2\n",
      "[INFO 30:05] ----- User batch : 3\n",
      "[INFO 30:09] ----- User batch : 4\n",
      "[INFO 30:11] - learning_users_emb gn: 38.12987518310547\n",
      "[INFO 30:11] - learning_users_emb norm: 0.871161162853241\n",
      "[INFO 30:11] - learning_users_emb: 0.125\n",
      "[INFO 30:16] rmse : 0.6342648863792419\n",
      "[INFO 30:16] valid_rmse : 0.8110803961753845\n",
      "[INFO 30:16] valid_loss : 0.9543347358703613\n"
     ]
    },
    {
     "name": "stderr",
     "output_type": "stream",
     "text": [
      " 24%|██▍       | 24/100 [08:34<26:24, 20.84s/it]"
     ]
    },
    {
     "name": "stdout",
     "output_type": "stream",
     "text": [
      "[INFO 30:16] ----- User batch : 0\n",
      "[INFO 30:20] ----- User batch : 1\n",
      "[INFO 30:23] ----- User batch : 2\n",
      "[INFO 30:27] ----- User batch : 3\n",
      "[INFO 30:30] ----- User batch : 4\n",
      "[INFO 30:32] - learning_users_emb gn: 35.26551818847656\n",
      "[INFO 30:32] - learning_users_emb norm: 0.7429500818252563\n",
      "[INFO 30:32] - learning_users_emb: 0.125\n",
      "[INFO 30:37] rmse : 0.6251656413078308\n",
      "[INFO 30:37] valid_rmse : 0.7994445562362671\n",
      "[INFO 30:37] valid_loss : 0.9487231969833374\n"
     ]
    },
    {
     "name": "stderr",
     "output_type": "stream",
     "text": [
      " 25%|██▌       | 25/100 [08:55<26:08, 20.91s/it]"
     ]
    },
    {
     "name": "stdout",
     "output_type": "stream",
     "text": [
      "[INFO 30:37] ----- User batch : 0\n",
      "[INFO 30:40] ----- User batch : 1\n",
      "[INFO 30:43] ----- User batch : 2\n",
      "[INFO 30:47] ----- User batch : 3\n",
      "[INFO 30:50] ----- User batch : 4\n",
      "[INFO 30:52] - learning_users_emb gn: 28.016633987426758\n",
      "[INFO 30:52] - learning_users_emb norm: 0.6288983225822449\n",
      "[INFO 30:52] - learning_users_emb: 0.125\n",
      "[INFO 30:56] rmse : 0.6251656413078308\n",
      "[INFO 30:56] valid_rmse : 0.7994445562362671\n",
      "[INFO 30:56] valid_loss : 0.9487204551696777\n"
     ]
    },
    {
     "name": "stderr",
     "output_type": "stream",
     "text": [
      " 26%|██▌       | 26/100 [09:15<25:22, 20.57s/it]"
     ]
    },
    {
     "name": "stdout",
     "output_type": "stream",
     "text": [
      "[INFO 30:57] ----- User batch : 0\n",
      "[INFO 31:01] ----- User batch : 1\n",
      "[INFO 31:05] ----- User batch : 2\n",
      "[INFO 31:09] ----- User batch : 3\n",
      "[INFO 31:12] ----- User batch : 4\n",
      "[INFO 31:14] - learning_users_emb gn: 28.738521575927734\n",
      "[INFO 31:14] - learning_users_emb norm: 0.6288983225822449\n",
      "[INFO 31:14] - learning_users_emb: 0.125\n",
      "[INFO 31:19] rmse : 0.62196946144104\n",
      "[INFO 31:19] valid_rmse : 0.795357346534729\n",
      "[INFO 31:19] valid_loss : 0.9460622668266296\n"
     ]
    },
    {
     "name": "stderr",
     "output_type": "stream",
     "text": [
      " 27%|██▋       | 27/100 [09:37<25:43, 21.15s/it]"
     ]
    },
    {
     "name": "stdout",
     "output_type": "stream",
     "text": [
      "[INFO 31:20] ----- User batch : 0\n",
      "[INFO 31:24] ----- User batch : 1\n",
      "[INFO 31:28] ----- User batch : 2\n",
      "[INFO 31:31] ----- User batch : 3\n",
      "[INFO 31:35] ----- User batch : 4\n",
      "[INFO 31:37] - learning_users_emb gn: 23.313640594482422\n",
      "[INFO 31:37] - learning_users_emb norm: 0.5429570078849792\n",
      "[INFO 31:37] - learning_users_emb: 0.125\n",
      "[INFO 31:42] rmse : 0.62196946144104\n",
      "[INFO 31:42] valid_rmse : 0.795357346534729\n",
      "[INFO 31:42] valid_loss : 0.946135938167572\n"
     ]
    },
    {
     "name": "stderr",
     "output_type": "stream",
     "text": [
      " 28%|██▊       | 28/100 [10:00<25:55, 21.61s/it]"
     ]
    },
    {
     "name": "stdout",
     "output_type": "stream",
     "text": [
      "[INFO 31:42] ----- User batch : 0\n",
      "[INFO 31:46] ----- User batch : 1\n",
      "[INFO 31:50] ----- User batch : 2\n",
      "[INFO 31:53] ----- User batch : 3\n",
      "[INFO 31:57] ----- User batch : 4\n",
      "[INFO 31:59] - learning_users_emb gn: 28.11134910583496\n",
      "[INFO 31:59] - learning_users_emb norm: 0.49378132820129395\n",
      "[INFO 31:59] - learning_users_emb: 0.125\n",
      "[INFO 32:03] rmse : 0.62196946144104\n",
      "[INFO 32:03] valid_rmse : 0.795357346534729\n",
      "[INFO 32:03] valid_loss : 0.9470077753067017\n"
     ]
    },
    {
     "name": "stderr",
     "output_type": "stream",
     "text": [
      " 29%|██▉       | 29/100 [10:22<25:39, 21.69s/it]"
     ]
    },
    {
     "name": "stdout",
     "output_type": "stream",
     "text": [
      "[INFO 32:04] ----- User batch : 0\n",
      "[INFO 32:08] ----- User batch : 1\n",
      "[INFO 32:11] ----- User batch : 2\n",
      "[INFO 32:14] ----- User batch : 3\n",
      "[INFO 32:18] ----- User batch : 4\n",
      "[INFO 32:20] - learning_users_emb gn: 29.949880599975586\n",
      "[INFO 32:20] - learning_users_emb norm: 0.47296616435050964\n",
      "[INFO 32:20] - learning_users_emb: 0.125\n",
      "[INFO 32:25] rmse : 0.62196946144104\n",
      "[INFO 32:25] valid_rmse : 0.795357346534729\n",
      "[INFO 32:25] valid_loss : 0.9479514360427856\n"
     ]
    },
    {
     "name": "stderr",
     "output_type": "stream",
     "text": [
      " 30%|███       | 30/100 [10:43<25:04, 21.50s/it]"
     ]
    },
    {
     "name": "stdout",
     "output_type": "stream",
     "text": [
      "[INFO 32:25] ----- User batch : 0\n",
      "[INFO 32:28] ----- User batch : 1\n",
      "[INFO 32:32] ----- User batch : 2\n",
      "[INFO 32:35] ----- User batch : 3\n",
      "[INFO 32:39] ----- User batch : 4\n",
      "[INFO 32:40] - learning_users_emb gn: 28.52784538269043\n",
      "[INFO 32:40] - learning_users_emb norm: 0.47328120470046997\n",
      "[INFO 32:40] - learning_users_emb: 0.0625\n",
      "[INFO 32:45] rmse : 0.6261212825775146\n",
      "[INFO 32:45] valid_rmse : 0.8006665706634521\n",
      "[INFO 32:45] valid_loss : 0.9481868743896484\n"
     ]
    },
    {
     "name": "stderr",
     "output_type": "stream",
     "text": [
      " 31%|███       | 31/100 [11:04<24:25, 21.25s/it]"
     ]
    },
    {
     "name": "stdout",
     "output_type": "stream",
     "text": [
      "[INFO 32:46] ----- User batch : 0\n",
      "[INFO 32:49] ----- User batch : 1\n",
      "[INFO 32:53] ----- User batch : 2\n",
      "[INFO 32:56] ----- User batch : 3\n",
      "[INFO 33:00] ----- User batch : 4\n",
      "[INFO 33:02] - learning_users_emb gn: 28.473846435546875\n",
      "[INFO 33:02] - learning_users_emb norm: 0.47515833377838135\n",
      "[INFO 33:02] - learning_users_emb: 0.0625\n",
      "[INFO 33:06] rmse : 0.6092624664306641\n",
      "[INFO 33:06] valid_rmse : 0.7791079878807068\n",
      "[INFO 33:06] valid_loss : 0.9480312466621399\n"
     ]
    },
    {
     "name": "stderr",
     "output_type": "stream",
     "text": [
      " 32%|███▏      | 32/100 [11:25<24:02, 21.21s/it]"
     ]
    },
    {
     "name": "stdout",
     "output_type": "stream",
     "text": [
      "[INFO 33:07] ----- User batch : 0\n",
      "[INFO 33:10] ----- User batch : 1\n",
      "[INFO 33:14] ----- User batch : 2\n",
      "[INFO 33:17] ----- User batch : 3\n",
      "[INFO 33:21] ----- User batch : 4\n",
      "[INFO 33:22] - learning_users_emb gn: 29.51572036743164\n",
      "[INFO 33:22] - learning_users_emb norm: 0.47306299209594727\n",
      "[INFO 33:22] - learning_users_emb: 0.0625\n",
      "[INFO 33:27] rmse : 0.6092624664306641\n",
      "[INFO 33:27] valid_rmse : 0.7791079878807068\n",
      "[INFO 33:27] valid_loss : 0.9480279684066772\n"
     ]
    },
    {
     "name": "stderr",
     "output_type": "stream",
     "text": [
      " 33%|███▎      | 33/100 [11:46<23:33, 21.10s/it]"
     ]
    },
    {
     "name": "stdout",
     "output_type": "stream",
     "text": [
      "[INFO 33:28] ----- User batch : 0\n",
      "[INFO 33:31] ----- User batch : 1\n",
      "[INFO 33:35] ----- User batch : 2\n",
      "[INFO 33:38] ----- User batch : 3\n",
      "[INFO 33:42] ----- User batch : 4\n",
      "[INFO 33:44] - learning_users_emb gn: 29.25082778930664\n",
      "[INFO 33:44] - learning_users_emb norm: 0.47306299209594727\n",
      "[INFO 33:44] - learning_users_emb: 0.03125\n",
      "[INFO 33:48] rmse : 0.6092624664306641\n",
      "[INFO 33:48] valid_rmse : 0.7791079878807068\n",
      "[INFO 33:48] valid_loss : 0.9477295279502869\n"
     ]
    },
    {
     "name": "stderr",
     "output_type": "stream",
     "text": [
      " 34%|███▍      | 34/100 [12:07<23:14, 21.12s/it]"
     ]
    },
    {
     "name": "stdout",
     "output_type": "stream",
     "text": [
      "[INFO 33:49] ----- User batch : 0\n",
      "[INFO 33:52] ----- User batch : 1\n",
      "[INFO 33:56] ----- User batch : 2\n",
      "[INFO 33:59] ----- User batch : 3\n",
      "[INFO 34:03] ----- User batch : 4\n",
      "[INFO 34:04] - learning_users_emb gn: 30.094816207885742\n",
      "[INFO 34:04] - learning_users_emb norm: 0.46945101022720337\n",
      "[INFO 34:04] - learning_users_emb: 0.03125\n",
      "[INFO 34:09] rmse : 0.6092624664306641\n",
      "[INFO 34:09] valid_rmse : 0.7791079878807068\n",
      "[INFO 34:09] valid_loss : 0.9472021460533142\n"
     ]
    },
    {
     "name": "stderr",
     "output_type": "stream",
     "text": [
      " 35%|███▌      | 35/100 [12:28<22:44, 21.00s/it]"
     ]
    },
    {
     "name": "stdout",
     "output_type": "stream",
     "text": [
      "[INFO 34:09] ----- User batch : 0\n",
      "[INFO 34:13] ----- User batch : 1\n",
      "[INFO 34:17] ----- User batch : 2\n",
      "[INFO 34:20] ----- User batch : 3\n",
      "[INFO 34:23] ----- User batch : 4\n",
      "[INFO 34:25] - learning_users_emb gn: 28.49711799621582\n",
      "[INFO 34:25] - learning_users_emb norm: 0.46197032928466797\n",
      "[INFO 34:25] - learning_users_emb: 0.03125\n",
      "[INFO 34:30] rmse : 0.6143930554389954\n",
      "[INFO 34:30] valid_rmse : 0.7856688499450684\n",
      "[INFO 34:30] valid_loss : 0.9465046525001526\n"
     ]
    },
    {
     "name": "stderr",
     "output_type": "stream",
     "text": [
      " 36%|███▌      | 36/100 [12:49<22:23, 20.99s/it]"
     ]
    },
    {
     "name": "stdout",
     "output_type": "stream",
     "text": [
      "[INFO 34:30] ----- User batch : 0\n",
      "[INFO 34:34] ----- User batch : 1\n",
      "[INFO 34:37] ----- User batch : 2\n",
      "[INFO 34:41] ----- User batch : 3\n",
      "[INFO 34:44] ----- User batch : 4\n",
      "[INFO 34:46] - learning_users_emb gn: 29.473657608032227\n",
      "[INFO 34:46] - learning_users_emb norm: 0.45206665992736816\n",
      "[INFO 34:46] - learning_users_emb: 0.015625\n",
      "[INFO 34:51] rmse : 0.592932939529419\n",
      "[INFO 34:51] valid_rmse : 0.7582262754440308\n",
      "[INFO 34:51] valid_loss : 0.9460784196853638\n"
     ]
    },
    {
     "name": "stderr",
     "output_type": "stream",
     "text": [
      " 37%|███▋      | 37/100 [13:09<21:58, 20.93s/it]"
     ]
    },
    {
     "name": "stdout",
     "output_type": "stream",
     "text": [
      "[INFO 34:51] ----- User batch : 0\n",
      "[INFO 34:55] ----- User batch : 1\n",
      "[INFO 34:58] ----- User batch : 2\n",
      "[INFO 35:02] ----- User batch : 3\n",
      "[INFO 35:05] ----- User batch : 4\n",
      "[INFO 35:07] - learning_users_emb gn: 27.029077529907227\n",
      "[INFO 35:07] - learning_users_emb norm: 0.44610095024108887\n",
      "[INFO 35:07] - learning_users_emb: 0.015625\n",
      "[INFO 35:12] rmse : 0.592932939529419\n",
      "[INFO 35:12] valid_rmse : 0.7582262754440308\n",
      "[INFO 35:12] valid_loss : 0.9455806612968445\n"
     ]
    },
    {
     "name": "stderr",
     "output_type": "stream",
     "text": [
      " 38%|███▊      | 38/100 [13:30<21:35, 20.90s/it]"
     ]
    },
    {
     "name": "stdout",
     "output_type": "stream",
     "text": [
      "[INFO 35:12] ----- User batch : 0\n",
      "[INFO 35:15] ----- User batch : 1\n",
      "[INFO 35:19] ----- User batch : 2\n",
      "[INFO 35:22] ----- User batch : 3\n",
      "[INFO 35:25] ----- User batch : 4\n",
      "[INFO 35:27] - learning_users_emb gn: 26.878923416137695\n",
      "[INFO 35:27] - learning_users_emb norm: 0.43898317217826843\n",
      "[INFO 35:27] - learning_users_emb: 0.015625\n",
      "[INFO 35:32] rmse : 1.5365015268325806\n",
      "[INFO 35:32] valid_rmse : 1.9648356437683105\n",
      "[INFO 35:32] valid_loss : nan\n"
     ]
    },
    {
     "name": "stderr",
     "output_type": "stream",
     "text": [
      " 39%|███▉      | 39/100 [13:51<21:06, 20.76s/it]"
     ]
    },
    {
     "name": "stdout",
     "output_type": "stream",
     "text": [
      "[INFO 35:32] ----- User batch : 0\n",
      "[INFO 35:36] ----- User batch : 1\n",
      "[INFO 35:39] ----- User batch : 2\n",
      "[INFO 35:43] ----- User batch : 3\n",
      "[INFO 35:46] ----- User batch : 4\n",
      "[INFO 35:48] - learning_users_emb gn: nan\n",
      "[INFO 35:48] - learning_users_emb norm: nan\n",
      "[INFO 35:48] - learning_users_emb: 0.015625\n",
      "[INFO 35:53] rmse : 1.5365015268325806\n",
      "[INFO 35:53] valid_rmse : 1.9648356437683105\n",
      "[INFO 35:53] valid_loss : nan\n"
     ]
    },
    {
     "name": "stderr",
     "output_type": "stream",
     "text": [
      " 40%|████      | 40/100 [14:11<20:42, 20.72s/it]"
     ]
    },
    {
     "name": "stdout",
     "output_type": "stream",
     "text": [
      "[INFO 35:53] ----- User batch : 0\n",
      "[INFO 35:57] ----- User batch : 1\n",
      "[INFO 36:00] ----- User batch : 2\n",
      "[INFO 36:03] ----- User batch : 3\n",
      "[INFO 36:07] ----- User batch : 4\n",
      "[INFO 36:09] - learning_users_emb gn: nan\n",
      "[INFO 36:09] - learning_users_emb norm: nan\n",
      "[INFO 36:09] - learning_users_emb: 0.015625\n",
      "[INFO 36:13] rmse : 1.5365015268325806\n",
      "[INFO 36:13] valid_rmse : 1.9648356437683105\n",
      "[INFO 36:13] valid_loss : nan\n"
     ]
    },
    {
     "name": "stderr",
     "output_type": "stream",
     "text": [
      " 41%|████      | 41/100 [14:32<20:22, 20.72s/it]"
     ]
    },
    {
     "name": "stdout",
     "output_type": "stream",
     "text": [
      "[INFO 36:14] ----- User batch : 0\n",
      "[INFO 36:17] ----- User batch : 1\n",
      "[INFO 36:21] ----- User batch : 2\n",
      "[INFO 36:24] ----- User batch : 3\n",
      "[INFO 36:27] ----- User batch : 4\n",
      "[INFO 36:29] - learning_users_emb gn: nan\n",
      "[INFO 36:29] - learning_users_emb norm: nan\n",
      "[INFO 36:29] - learning_users_emb: 0.0078125\n",
      "[INFO 36:34] rmse : 1.5365015268325806\n",
      "[INFO 36:34] valid_rmse : 1.9648356437683105\n",
      "[INFO 36:34] valid_loss : nan\n"
     ]
    },
    {
     "name": "stderr",
     "output_type": "stream",
     "text": [
      " 42%|████▏     | 42/100 [14:53<20:03, 20.75s/it]"
     ]
    },
    {
     "name": "stdout",
     "output_type": "stream",
     "text": [
      "[INFO 36:35] ----- User batch : 0\n",
      "[INFO 36:38] ----- User batch : 1\n",
      "[INFO 36:42] ----- User batch : 2\n",
      "[INFO 36:45] ----- User batch : 3\n",
      "[INFO 36:49] ----- User batch : 4\n",
      "[INFO 36:50] - learning_users_emb gn: nan\n",
      "[INFO 36:50] - learning_users_emb norm: nan\n",
      "[INFO 36:50] - learning_users_emb: 0.0078125\n",
      "[INFO 36:55] rmse : 1.5365015268325806\n",
      "[INFO 36:55] valid_rmse : 1.9648356437683105\n",
      "[INFO 36:55] valid_loss : nan\n"
     ]
    },
    {
     "name": "stderr",
     "output_type": "stream",
     "text": [
      " 43%|████▎     | 43/100 [15:14<19:44, 20.78s/it]"
     ]
    },
    {
     "name": "stdout",
     "output_type": "stream",
     "text": [
      "[INFO 36:55] ----- User batch : 0\n",
      "[INFO 36:59] ----- User batch : 1\n",
      "[INFO 37:03] ----- User batch : 2\n",
      "[INFO 37:06] ----- User batch : 3\n",
      "[INFO 37:09] ----- User batch : 4\n",
      "[INFO 37:11] - learning_users_emb gn: nan\n",
      "[INFO 37:11] - learning_users_emb norm: nan\n",
      "[INFO 37:11] - learning_users_emb: 0.0078125\n",
      "[INFO 37:16] rmse : 1.5365015268325806\n",
      "[INFO 37:16] valid_rmse : 1.9648356437683105\n",
      "[INFO 37:16] valid_loss : nan\n"
     ]
    },
    {
     "name": "stderr",
     "output_type": "stream",
     "text": [
      " 44%|████▍     | 44/100 [15:35<19:26, 20.83s/it]"
     ]
    },
    {
     "name": "stdout",
     "output_type": "stream",
     "text": [
      "[INFO 37:16] ----- User batch : 0\n",
      "[INFO 37:20] ----- User batch : 1\n",
      "[INFO 37:24] ----- User batch : 2\n",
      "[INFO 37:27] ----- User batch : 3\n",
      "[INFO 37:31] ----- User batch : 4\n",
      "[INFO 37:32] - learning_users_emb gn: nan\n",
      "[INFO 37:32] - learning_users_emb norm: nan\n",
      "[INFO 37:32] - learning_users_emb: 0.00390625\n",
      "[INFO 37:37] rmse : 1.5365015268325806\n",
      "[INFO 37:37] valid_rmse : 1.9648356437683105\n",
      "[INFO 37:37] valid_loss : nan\n"
     ]
    },
    {
     "name": "stderr",
     "output_type": "stream",
     "text": [
      " 45%|████▌     | 45/100 [15:56<19:11, 20.93s/it]"
     ]
    },
    {
     "name": "stdout",
     "output_type": "stream",
     "text": [
      "[INFO 37:38] ----- User batch : 0\n",
      "[INFO 37:41] ----- User batch : 1\n",
      "[INFO 37:45] ----- User batch : 2\n",
      "[INFO 37:48] ----- User batch : 3\n",
      "[INFO 37:51] ----- User batch : 4\n",
      "[INFO 37:53] - learning_users_emb gn: nan\n",
      "[INFO 37:53] - learning_users_emb norm: nan\n",
      "[INFO 37:53] - learning_users_emb: 0.00390625\n",
      "[INFO 37:58] rmse : 1.5365015268325806\n",
      "[INFO 37:58] valid_rmse : 1.9648356437683105\n",
      "[INFO 37:58] valid_loss : nan\n"
     ]
    },
    {
     "name": "stderr",
     "output_type": "stream",
     "text": [
      " 46%|████▌     | 46/100 [16:17<18:55, 21.03s/it]"
     ]
    },
    {
     "name": "stdout",
     "output_type": "stream",
     "text": [
      "[INFO 37:59] ----- User batch : 0\n",
      "[INFO 38:02] ----- User batch : 1\n",
      "[INFO 38:06] ----- User batch : 2\n",
      "[INFO 38:09] ----- User batch : 3\n",
      "[INFO 38:13] ----- User batch : 4\n",
      "[INFO 38:15] - learning_users_emb gn: nan\n",
      "[INFO 38:15] - learning_users_emb norm: nan\n",
      "[INFO 38:15] - learning_users_emb: 0.00390625\n",
      "[INFO 38:19] rmse : 1.5365015268325806\n",
      "[INFO 38:19] valid_rmse : 1.9648356437683105\n",
      "[INFO 38:19] valid_loss : nan\n"
     ]
    },
    {
     "name": "stderr",
     "output_type": "stream",
     "text": [
      " 47%|████▋     | 47/100 [16:38<18:34, 21.03s/it]"
     ]
    },
    {
     "name": "stdout",
     "output_type": "stream",
     "text": [
      "[INFO 38:20] ----- User batch : 0\n",
      "[INFO 38:23] ----- User batch : 1\n",
      "[INFO 38:27] ----- User batch : 2\n",
      "[INFO 38:30] ----- User batch : 3\n",
      "[INFO 38:34] ----- User batch : 4\n",
      "[INFO 38:35] - learning_users_emb gn: nan\n",
      "[INFO 38:35] - learning_users_emb norm: nan\n",
      "[INFO 38:35] - learning_users_emb: 0.001953125\n",
      "[INFO 38:40] rmse : 1.5365015268325806\n",
      "[INFO 38:40] valid_rmse : 1.9648356437683105\n",
      "[INFO 38:40] valid_loss : nan\n"
     ]
    },
    {
     "name": "stderr",
     "output_type": "stream",
     "text": [
      " 48%|████▊     | 48/100 [16:59<18:06, 20.89s/it]"
     ]
    },
    {
     "name": "stdout",
     "output_type": "stream",
     "text": [
      "[INFO 38:40] ----- User batch : 0\n",
      "[INFO 38:44] ----- User batch : 1\n",
      "[INFO 38:48] ----- User batch : 2\n",
      "[INFO 38:51] ----- User batch : 3\n",
      "[INFO 38:54] ----- User batch : 4\n",
      "[INFO 38:56] - learning_users_emb gn: nan\n",
      "[INFO 38:56] - learning_users_emb norm: nan\n",
      "[INFO 38:56] - learning_users_emb: 0.001953125\n",
      "[INFO 39:01] rmse : 1.5365015268325806\n",
      "[INFO 39:01] valid_rmse : 1.9648356437683105\n",
      "[INFO 39:01] valid_loss : nan\n"
     ]
    },
    {
     "name": "stderr",
     "output_type": "stream",
     "text": [
      " 49%|████▉     | 49/100 [17:19<17:45, 20.89s/it]"
     ]
    },
    {
     "name": "stdout",
     "output_type": "stream",
     "text": [
      "[INFO 39:01] ----- User batch : 0\n",
      "[INFO 39:05] ----- User batch : 1\n",
      "[INFO 39:08] ----- User batch : 2\n",
      "[INFO 39:12] ----- User batch : 3\n",
      "[INFO 39:15] ----- User batch : 4\n",
      "[INFO 39:17] - learning_users_emb gn: nan\n",
      "[INFO 39:17] - learning_users_emb norm: nan\n",
      "[INFO 39:17] - learning_users_emb: 0.001953125\n",
      "[INFO 39:22] rmse : 1.5365015268325806\n",
      "[INFO 39:22] valid_rmse : 1.9648356437683105\n",
      "[INFO 39:22] valid_loss : nan\n"
     ]
    },
    {
     "name": "stderr",
     "output_type": "stream",
     "text": [
      " 50%|█████     | 50/100 [17:40<17:20, 20.80s/it]"
     ]
    },
    {
     "name": "stdout",
     "output_type": "stream",
     "text": [
      "[INFO 39:22] ----- User batch : 0\n",
      "[INFO 39:25] ----- User batch : 1\n",
      "[INFO 39:29] ----- User batch : 2\n",
      "[INFO 39:33] ----- User batch : 3\n",
      "[INFO 39:36] ----- User batch : 4\n",
      "[INFO 39:38] - learning_users_emb gn: nan\n",
      "[INFO 39:38] - learning_users_emb norm: nan\n",
      "[INFO 39:38] - learning_users_emb: 0.0009765625\n",
      "[INFO 39:42] rmse : 1.5365015268325806\n",
      "[INFO 39:42] valid_rmse : 1.9648356437683105\n",
      "[INFO 39:42] valid_loss : nan\n"
     ]
    },
    {
     "name": "stderr",
     "output_type": "stream",
     "text": [
      " 51%|█████     | 51/100 [18:01<17:00, 20.83s/it]"
     ]
    },
    {
     "name": "stdout",
     "output_type": "stream",
     "text": [
      "[INFO 39:43] ----- User batch : 0\n",
      "[INFO 39:46] ----- User batch : 1\n",
      "[INFO 39:50] ----- User batch : 2\n",
      "[INFO 39:53] ----- User batch : 3\n",
      "[INFO 39:57] ----- User batch : 4\n",
      "[INFO 39:59] - learning_users_emb gn: nan\n",
      "[INFO 39:59] - learning_users_emb norm: nan\n",
      "[INFO 39:59] - learning_users_emb: 0.0009765625\n",
      "[INFO 40:04] rmse : 1.5365015268325806\n",
      "[INFO 40:04] valid_rmse : 1.9648356437683105\n",
      "[INFO 40:04] valid_loss : nan\n"
     ]
    },
    {
     "name": "stderr",
     "output_type": "stream",
     "text": [
      " 52%|█████▏    | 52/100 [18:22<16:45, 20.95s/it]"
     ]
    },
    {
     "name": "stdout",
     "output_type": "stream",
     "text": [
      "[INFO 40:04] ----- User batch : 0\n",
      "[INFO 40:08] ----- User batch : 1\n",
      "[INFO 40:11] ----- User batch : 2\n",
      "[INFO 40:15] ----- User batch : 3\n",
      "[INFO 40:18] ----- User batch : 4\n",
      "[INFO 40:20] - learning_users_emb gn: nan\n",
      "[INFO 40:20] - learning_users_emb norm: nan\n",
      "[INFO 40:20] - learning_users_emb: 0.0009765625\n",
      "[INFO 40:25] rmse : 1.5365015268325806\n",
      "[INFO 40:25] valid_rmse : 1.9648356437683105\n",
      "[INFO 40:25] valid_loss : nan\n"
     ]
    },
    {
     "name": "stderr",
     "output_type": "stream",
     "text": [
      " 53%|█████▎    | 53/100 [18:43<16:26, 20.98s/it]"
     ]
    },
    {
     "name": "stdout",
     "output_type": "stream",
     "text": [
      "[INFO 40:25] ----- User batch : 0\n",
      "[INFO 40:29] ----- User batch : 1\n",
      "[INFO 40:32] ----- User batch : 2\n",
      "[INFO 40:36] ----- User batch : 3\n",
      "[INFO 40:39] ----- User batch : 4\n",
      "[INFO 40:41] - learning_users_emb gn: nan\n",
      "[INFO 40:41] - learning_users_emb norm: nan\n",
      "[INFO 40:41] - learning_users_emb: 0.00048828125\n",
      "[INFO 40:46] rmse : 1.5365015268325806\n",
      "[INFO 40:46] valid_rmse : 1.9648356437683105\n",
      "[INFO 40:46] valid_loss : nan\n"
     ]
    },
    {
     "name": "stderr",
     "output_type": "stream",
     "text": [
      " 54%|█████▍    | 54/100 [19:04<16:03, 20.96s/it]"
     ]
    },
    {
     "name": "stdout",
     "output_type": "stream",
     "text": [
      "[INFO 40:46] ----- User batch : 0\n",
      "[INFO 40:50] ----- User batch : 1\n",
      "[INFO 40:53] ----- User batch : 2\n",
      "[INFO 40:56] ----- User batch : 3\n",
      "[INFO 41:00] ----- User batch : 4\n",
      "[INFO 41:02] - learning_users_emb gn: nan\n",
      "[INFO 41:02] - learning_users_emb norm: nan\n",
      "[INFO 41:02] - learning_users_emb: 0.00048828125\n",
      "[INFO 41:06] rmse : 1.5365015268325806\n",
      "[INFO 41:06] valid_rmse : 1.9648356437683105\n",
      "[INFO 41:06] valid_loss : nan\n"
     ]
    },
    {
     "name": "stderr",
     "output_type": "stream",
     "text": [
      " 55%|█████▌    | 55/100 [19:25<15:40, 20.90s/it]"
     ]
    },
    {
     "name": "stdout",
     "output_type": "stream",
     "text": [
      "[INFO 41:07] ----- User batch : 0\n",
      "[INFO 41:10] ----- User batch : 1\n",
      "[INFO 41:14] ----- User batch : 2\n",
      "[INFO 41:17] ----- User batch : 3\n",
      "[INFO 41:21] ----- User batch : 4\n",
      "[INFO 41:23] - learning_users_emb gn: nan\n",
      "[INFO 41:23] - learning_users_emb norm: nan\n",
      "[INFO 41:23] - learning_users_emb: 0.00048828125\n",
      "[INFO 41:27] rmse : 1.5365015268325806\n",
      "[INFO 41:27] valid_rmse : 1.9648356437683105\n",
      "[INFO 41:27] valid_loss : nan\n"
     ]
    },
    {
     "name": "stderr",
     "output_type": "stream",
     "text": [
      " 56%|█████▌    | 56/100 [19:46<15:20, 20.93s/it]"
     ]
    },
    {
     "name": "stdout",
     "output_type": "stream",
     "text": [
      "[INFO 41:28] ----- User batch : 0\n",
      "[INFO 41:31] ----- User batch : 1\n",
      "[INFO 41:35] ----- User batch : 2\n",
      "[INFO 41:38] ----- User batch : 3\n",
      "[INFO 41:42] ----- User batch : 4\n",
      "[INFO 41:43] - learning_users_emb gn: nan\n",
      "[INFO 41:43] - learning_users_emb norm: nan\n",
      "[INFO 41:43] - learning_users_emb: 0.000244140625\n",
      "[INFO 41:48] rmse : 1.5365015268325806\n",
      "[INFO 41:48] valid_rmse : 1.9648356437683105\n",
      "[INFO 41:48] valid_loss : nan\n"
     ]
    },
    {
     "name": "stderr",
     "output_type": "stream",
     "text": [
      " 56%|█████▌    | 56/100 [20:07<15:48, 21.56s/it]"
     ]
    },
    {
     "name": "stdout",
     "output_type": "stream",
     "text": [
      "[INFO 41:48] -- END Training --\n",
      "[INFO 41:48] train on cuda\n",
      "Learning users emb shape: torch.Size([3911, 16])\n"
     ]
    },
    {
     "name": "stderr",
     "output_type": "stream",
     "text": [
      "\n",
      "100%|██████████| 6/6 [00:04<00:00,  1.31it/s]\n"
     ]
    },
    {
     "name": "stdout",
     "output_type": "stream",
     "text": [
      "[INFO 42:00] ({0: {'mi_acc': 0.651021420955658}, 1: {'mi_acc': 0.651021420955658}, 2: {'mi_acc': 0.651021420955658}, 3: {'mi_acc': 0.651021420955658}, 4: {'mi_acc': 0.651021420955658}, 5: {'mi_acc': 0.651021420955658}}, {0: {'meta_doa': 0.5296872042563507}, 1: {'meta_doa': 0.5415014669996929}, 2: {'meta_doa': 0.5458948279149827}, 3: {'meta_doa': 0.5457547038735773}, 4: {'meta_doa': 0.54543875857391}, 5: {'meta_doa': 0.5429904581351386}})\n",
      "[INFO 42:00] 0.037946762771058316\n"
     ]
    }
   ],
   "source": [
    "\n",
    "for meta_trainer in meta_trainers : \n",
    "    config['meta_trainer'] = meta_trainer\n",
    "    logging.info(f'#### meta_trainer : {config[\"meta_trainer\"]} ####')\n",
    "    for i_fold in range(1,2) : \n",
    "        config['i_fold'] = i_fold\n",
    "            \n",
    "        logging.info(f'#### i_fold : {i_fold} ####')\n",
    "        ## Dataframe columns : (user_id, question_id, response, category_id)\n",
    "        train_df = pd.read_csv(\n",
    "            f'../datasets/2-preprocessed_data/{config[\"dataset_name\"]}_train_{i_fold}.csv',\n",
    "            encoding='utf-8', dtype={'student_id': int, 'item_id': int, \"correct\": float,\n",
    "                                                                    \"dimension_id\": int})\n",
    "        valid_df = pd.read_csv(\n",
    "            f'../datasets/2-preprocessed_data/{config[\"dataset_name\"]}_valid_{i_fold}.csv',\n",
    "            encoding='utf-8', dtype={'student_id': int, 'item_id': int, \"correct\": float,\n",
    "                                                                    \"dimension_id\": int})\n",
    "        test_df = pd.read_csv(\n",
    "            f'../datasets/2-preprocessed_data/{config[\"dataset_name\"]}_test_{i_fold}.csv',\n",
    "            encoding='utf-8', dtype={'student_id': int, 'item_id': int, \"correct\": float,\n",
    "                                                                    \"dimension_id\": int})\n",
    "\n",
    "        train_data = liriscat.dataset.CATDataset(train_df, concept_map, metadata, config,nb_modalities)\n",
    "        valid_data = liriscat.dataset.EvalDataset(valid_df, concept_map, metadata, config,nb_modalities)\n",
    "        test_data = liriscat.dataset.EvalDataset(test_df, concept_map, metadata, config,nb_modalities)\n",
    "\n",
    "        for seed in range(1) :\n",
    "            config['seed'] = seed\n",
    "            logging.info(f'#### seed : {seed} ####')\n",
    "\n",
    "            train_data.reset_rng()\n",
    "            valid_data.reset_rng()\n",
    "            test_data.reset_rng()\n",
    "\n",
    "            S = liriscat.selectionStrategy.Random(metadata,**config)\n",
    "            S.init_models(train_data, valid_data)\n",
    "            S.train(train_data, valid_data)\n",
    "            liriscat.utils.set_seed(0)\n",
    "            S.reset_rng()\n",
    "            d = (S.evaluate_test(test_data, train_data, valid_data))\n",
    "            logging.info(d)\n",
    "            logging.info(liriscat.utils.pareto_index(d))\n",
    "\n",
    "    torch.cuda.empty_cache()"
   ]
  },
  {
   "cell_type": "code",
   "execution_count": 7,
   "id": "64d7fb59",
   "metadata": {},
   "outputs": [
    {
     "data": {
      "text/plain": [
       "36"
      ]
     },
     "execution_count": 7,
     "metadata": {},
     "output_type": "execute_result"
    }
   ],
   "source": [
    "S.best_epoch"
   ]
  },
  {
   "cell_type": "code",
   "execution_count": 13,
   "id": "6e9d20cf",
   "metadata": {},
   "outputs": [
    {
     "name": "stdout",
     "output_type": "stream",
     "text": [
      "[INFO 27:16] #### seed : 0 ####\n",
      "[INFO 27:16] Random_cont_model\n",
      "[INFO 27:16] compiling CDM model\n",
      "[INFO 27:16] compiling selection model\n"
     ]
    },
    {
     "name": "stdout",
     "output_type": "stream",
     "text": [
      "[INFO 27:16] ------- START Training\n",
      "[INFO 27:16] train on cuda\n"
     ]
    },
    {
     "name": "stderr",
     "output_type": "stream",
     "text": [
      "/home/arthur/liriscat/liriscat/selectionStrategy/random.py:30: UserWarning: get_params() Notimplemented\n",
      "  warnings.warn('get_params() Notimplemented')\n",
      "  0%|          | 0/100 [00:00<?, ?it/s]"
     ]
    },
    {
     "name": "stdout",
     "output_type": "stream",
     "text": [
      "[INFO 27:17] ----- User batch : 0\n",
      "[INFO 27:20] ----- User batch : 1\n",
      "[INFO 27:22] ----- User batch : 2\n",
      "[INFO 27:25] ----- User batch : 3\n",
      "[INFO 27:28] ----- User batch : 4\n",
      "[INFO 27:30] - learning_users_emb gn: 138.84461975097656\n",
      "[INFO 27:30] - learning_users_emb norm: 2.273587942123413\n",
      "[INFO 27:30] - learning_users_emb: 0.5\n",
      "[INFO 27:34] rmse : 0.6865495443344116\n",
      "[INFO 27:34] valid_rmse : 0.8779405951499939\n",
      "[INFO 27:34] valid_loss : 1.123011589050293\n"
     ]
    },
    {
     "name": "stderr",
     "output_type": "stream",
     "text": [
      "  1%|          | 1/100 [00:17<28:41, 17.39s/it]"
     ]
    },
    {
     "name": "stdout",
     "output_type": "stream",
     "text": [
      "[INFO 27:34] ----- User batch : 0\n",
      "[INFO 27:37] ----- User batch : 1\n",
      "[INFO 27:40] ----- User batch : 2\n",
      "[INFO 27:43] ----- User batch : 3\n",
      "[INFO 27:46] ----- User batch : 4\n",
      "[INFO 27:47] - learning_users_emb gn: 87.67214965820312\n",
      "[INFO 27:47] - learning_users_emb norm: 2.1427760124206543\n",
      "[INFO 27:47] - learning_users_emb: 0.5\n",
      "[INFO 27:51] rmse : 0.6148794293403625\n",
      "[INFO 27:51] valid_rmse : 0.7862908244132996\n",
      "[INFO 27:51] valid_loss : 1.058882236480713\n"
     ]
    },
    {
     "name": "stderr",
     "output_type": "stream",
     "text": [
      "  2%|▏         | 2/100 [00:34<28:35, 17.50s/it]"
     ]
    },
    {
     "name": "stdout",
     "output_type": "stream",
     "text": [
      "[INFO 27:52] ----- User batch : 0\n",
      "[INFO 27:55] ----- User batch : 1\n",
      "[INFO 27:57] ----- User batch : 2\n",
      "[INFO 28:00] ----- User batch : 3\n",
      "[INFO 28:03] ----- User batch : 4\n",
      "[INFO 28:05] - learning_users_emb gn: 60.63021469116211\n",
      "[INFO 28:05] - learning_users_emb norm: 1.5575746297836304\n",
      "[INFO 28:05] - learning_users_emb: 0.5\n",
      "[INFO 28:09] rmse : 0.6104063391685486\n",
      "[INFO 28:09] valid_rmse : 0.7805707454681396\n",
      "[INFO 28:09] valid_loss : 1.0423431396484375\n"
     ]
    },
    {
     "name": "stderr",
     "output_type": "stream",
     "text": [
      "  3%|▎         | 3/100 [00:52<28:17, 17.50s/it]"
     ]
    },
    {
     "name": "stdout",
     "output_type": "stream",
     "text": [
      "[INFO 28:09] ----- User batch : 0\n",
      "[INFO 28:12] ----- User batch : 1\n",
      "[INFO 28:15] ----- User batch : 2\n",
      "[INFO 28:18] ----- User batch : 3\n",
      "[INFO 28:21] ----- User batch : 4\n",
      "[INFO 28:22] - learning_users_emb gn: 67.5755615234375\n",
      "[INFO 28:22] - learning_users_emb norm: 1.2737823724746704\n",
      "[INFO 28:22] - learning_users_emb: 0.5\n",
      "[INFO 28:27] rmse : 0.6217290759086609\n",
      "[INFO 28:27] valid_rmse : 0.7950499653816223\n",
      "[INFO 28:27] valid_loss : 1.0424046516418457\n"
     ]
    },
    {
     "name": "stderr",
     "output_type": "stream",
     "text": [
      "  4%|▍         | 4/100 [01:10<28:03, 17.54s/it]"
     ]
    },
    {
     "name": "stdout",
     "output_type": "stream",
     "text": [
      "[INFO 28:27] ----- User batch : 0\n",
      "[INFO 28:30] ----- User batch : 1\n",
      "[INFO 28:33] ----- User batch : 2\n",
      "[INFO 28:35] ----- User batch : 3\n",
      "[INFO 28:38] ----- User batch : 4\n",
      "[INFO 28:40] - learning_users_emb gn: 65.07903289794922\n",
      "[INFO 28:40] - learning_users_emb norm: 1.3828895092010498\n",
      "[INFO 28:40] - learning_users_emb: 0.5\n",
      "[INFO 28:44] rmse : 0.6099980473518372\n",
      "[INFO 28:44] valid_rmse : 0.780048668384552\n",
      "[INFO 28:44] valid_loss : 1.0415384769439697\n"
     ]
    },
    {
     "name": "stderr",
     "output_type": "stream",
     "text": [
      "  5%|▌         | 5/100 [01:27<27:49, 17.57s/it]"
     ]
    },
    {
     "name": "stdout",
     "output_type": "stream",
     "text": [
      "[INFO 28:44] ----- User batch : 0\n",
      "[INFO 28:47] ----- User batch : 1\n",
      "[INFO 28:50] ----- User batch : 2\n",
      "[INFO 28:53] ----- User batch : 3\n",
      "[INFO 28:56] ----- User batch : 4\n",
      "[INFO 28:57] - learning_users_emb gn: 64.98262786865234\n",
      "[INFO 28:57] - learning_users_emb norm: 1.6281927824020386\n",
      "[INFO 28:57] - learning_users_emb: 0.5\n",
      "[INFO 29:02] rmse : 0.623729407787323\n",
      "[INFO 29:02] valid_rmse : 0.7976078987121582\n",
      "[INFO 29:02] valid_loss : 1.0307999849319458\n"
     ]
    },
    {
     "name": "stderr",
     "output_type": "stream",
     "text": [
      "  6%|▌         | 6/100 [01:45<27:31, 17.57s/it]"
     ]
    },
    {
     "name": "stdout",
     "output_type": "stream",
     "text": [
      "[INFO 29:02] ----- User batch : 0\n",
      "[INFO 29:05] ----- User batch : 1\n",
      "[INFO 29:08] ----- User batch : 2\n",
      "[INFO 29:11] ----- User batch : 3\n",
      "[INFO 29:13] ----- User batch : 4\n",
      "[INFO 29:15] - learning_users_emb gn: 56.271095275878906\n",
      "[INFO 29:15] - learning_users_emb norm: 1.7699745893478394\n",
      "[INFO 29:15] - learning_users_emb: 0.5\n",
      "[INFO 29:19] rmse : 0.6328492760658264\n",
      "[INFO 29:19] valid_rmse : 0.8092701435089111\n",
      "[INFO 29:19] valid_loss : 1.02901291847229\n"
     ]
    },
    {
     "name": "stderr",
     "output_type": "stream",
     "text": [
      "  7%|▋         | 7/100 [02:02<27:15, 17.58s/it]"
     ]
    },
    {
     "name": "stdout",
     "output_type": "stream",
     "text": [
      "[INFO 29:20] ----- User batch : 0\n",
      "[INFO 29:22] ----- User batch : 1\n",
      "[INFO 29:25] ----- User batch : 2\n",
      "[INFO 29:28] ----- User batch : 3\n",
      "[INFO 29:31] ----- User batch : 4\n",
      "[INFO 29:33] - learning_users_emb gn: 61.109962463378906\n",
      "[INFO 29:33] - learning_users_emb norm: 1.7587628364562988\n",
      "[INFO 29:33] - learning_users_emb: 0.5\n",
      "[INFO 29:37] rmse : 0.6254843473434448\n",
      "[INFO 29:37] valid_rmse : 0.7998520731925964\n",
      "[INFO 29:37] valid_loss : 1.0158121585845947\n"
     ]
    },
    {
     "name": "stderr",
     "output_type": "stream",
     "text": [
      "  8%|▊         | 8/100 [02:20<26:58, 17.59s/it]"
     ]
    },
    {
     "name": "stdout",
     "output_type": "stream",
     "text": [
      "[INFO 29:37] ----- User batch : 0\n",
      "[INFO 29:40] ----- User batch : 1\n",
      "[INFO 29:43] ----- User batch : 2\n",
      "[INFO 29:46] ----- User batch : 3\n",
      "[INFO 29:49] ----- User batch : 4\n",
      "[INFO 29:50] - learning_users_emb gn: 56.264713287353516\n",
      "[INFO 29:50] - learning_users_emb norm: 1.5773711204528809\n",
      "[INFO 29:50] - learning_users_emb: 0.5\n",
      "[INFO 29:55] rmse : 0.6144741177558899\n",
      "[INFO 29:55] valid_rmse : 0.7857725024223328\n",
      "[INFO 29:55] valid_loss : 0.9955371618270874\n"
     ]
    },
    {
     "name": "stderr",
     "output_type": "stream",
     "text": [
      "  9%|▉         | 9/100 [02:38<26:40, 17.59s/it]"
     ]
    },
    {
     "name": "stdout",
     "output_type": "stream",
     "text": [
      "[INFO 29:55] ----- User batch : 0\n",
      "[INFO 29:58] ----- User batch : 1\n",
      "[INFO 30:01] ----- User batch : 2\n",
      "[INFO 30:04] ----- User batch : 3\n",
      "[INFO 30:06] ----- User batch : 4\n",
      "[INFO 30:08] - learning_users_emb gn: 50.70399475097656\n",
      "[INFO 30:08] - learning_users_emb norm: 1.286443829536438\n",
      "[INFO 30:08] - learning_users_emb: 0.5\n",
      "[INFO 30:12] rmse : 0.6342648863792419\n",
      "[INFO 30:12] valid_rmse : 0.8110803961753845\n",
      "[INFO 30:12] valid_loss : 0.9758765697479248\n"
     ]
    },
    {
     "name": "stderr",
     "output_type": "stream",
     "text": [
      " 10%|█         | 10/100 [02:55<26:25, 17.62s/it]"
     ]
    },
    {
     "name": "stdout",
     "output_type": "stream",
     "text": [
      "[INFO 30:12] ----- User batch : 0\n",
      "[INFO 30:15] ----- User batch : 1\n",
      "[INFO 30:18] ----- User batch : 2\n",
      "[INFO 30:21] ----- User batch : 3\n",
      "[INFO 30:24] ----- User batch : 4\n",
      "[INFO 30:25] - learning_users_emb gn: 51.141048431396484\n",
      "[INFO 30:25] - learning_users_emb norm: 0.9751302599906921\n",
      "[INFO 30:25] - learning_users_emb: 0.5\n",
      "[INFO 30:30] rmse : 0.6311148405075073\n",
      "[INFO 30:30] valid_rmse : 0.8070521950721741\n",
      "[INFO 30:30] valid_loss : 0.9598336815834045\n"
     ]
    },
    {
     "name": "stderr",
     "output_type": "stream",
     "text": [
      " 11%|█         | 11/100 [03:13<25:58, 17.51s/it]"
     ]
    },
    {
     "name": "stdout",
     "output_type": "stream",
     "text": [
      "[INFO 30:30] ----- User batch : 0\n",
      "[INFO 30:33] ----- User batch : 1\n",
      "[INFO 30:36] ----- User batch : 2\n",
      "[INFO 30:39] ----- User batch : 3\n",
      "[INFO 30:41] ----- User batch : 4\n",
      "[INFO 30:43] - learning_users_emb gn: 44.26057052612305\n",
      "[INFO 30:43] - learning_users_emb norm: 0.7146409153938293\n",
      "[INFO 30:43] - learning_users_emb: 0.5\n",
      "[INFO 30:47] rmse : 0.62196946144104\n",
      "[INFO 30:47] valid_rmse : 0.795357346534729\n",
      "[INFO 30:47] valid_loss : 0.9597611427307129\n"
     ]
    },
    {
     "name": "stderr",
     "output_type": "stream",
     "text": [
      " 12%|█▏        | 12/100 [03:30<25:44, 17.55s/it]"
     ]
    },
    {
     "name": "stdout",
     "output_type": "stream",
     "text": [
      "[INFO 30:47] ----- User batch : 0\n",
      "[INFO 30:50] ----- User batch : 1\n",
      "[INFO 30:53] ----- User batch : 2\n",
      "[INFO 30:56] ----- User batch : 3\n",
      "[INFO 30:59] ----- User batch : 4\n",
      "[INFO 31:01] - learning_users_emb gn: 37.458396911621094\n",
      "[INFO 31:01] - learning_users_emb norm: 0.6341428160667419\n",
      "[INFO 31:01] - learning_users_emb: 0.5\n",
      "[INFO 31:05] rmse : 0.6359124779701233\n",
      "[INFO 31:05] valid_rmse : 0.813187301158905\n",
      "[INFO 31:05] valid_loss : 0.9692115783691406\n"
     ]
    },
    {
     "name": "stderr",
     "output_type": "stream",
     "text": [
      " 13%|█▎        | 13/100 [03:48<25:30, 17.59s/it]"
     ]
    },
    {
     "name": "stdout",
     "output_type": "stream",
     "text": [
      "[INFO 31:05] ----- User batch : 0\n",
      "[INFO 31:08] ----- User batch : 1\n",
      "[INFO 31:11] ----- User batch : 2\n",
      "[INFO 31:14] ----- User batch : 3\n",
      "[INFO 31:17] ----- User batch : 4\n",
      "[INFO 31:18] - learning_users_emb gn: 40.69574737548828\n",
      "[INFO 31:18] - learning_users_emb norm: 0.7575798630714417\n",
      "[INFO 31:18] - learning_users_emb: 0.5\n",
      "[INFO 31:23] rmse : 0.6326918601989746\n",
      "[INFO 31:23] valid_rmse : 0.8090688586235046\n",
      "[INFO 31:23] valid_loss : 0.9791767001152039\n"
     ]
    },
    {
     "name": "stderr",
     "output_type": "stream",
     "text": [
      " 14%|█▍        | 14/100 [04:06<25:16, 17.63s/it]"
     ]
    },
    {
     "name": "stdout",
     "output_type": "stream",
     "text": [
      "[INFO 31:23] ----- User batch : 0\n",
      "[INFO 31:26] ----- User batch : 1\n",
      "[INFO 31:29] ----- User batch : 2\n",
      "[INFO 31:31] ----- User batch : 3\n",
      "[INFO 31:34] ----- User batch : 4\n",
      "[INFO 31:36] - learning_users_emb gn: 42.028133392333984\n",
      "[INFO 31:36] - learning_users_emb norm: 0.9092956781387329\n",
      "[INFO 31:36] - learning_users_emb: 0.25\n",
      "[INFO 31:40] rmse : 0.6076247096061707\n",
      "[INFO 31:40] valid_rmse : 0.7770136594772339\n",
      "[INFO 31:40] valid_loss : 0.9811474680900574\n"
     ]
    },
    {
     "name": "stderr",
     "output_type": "stream",
     "text": [
      " 15%|█▌        | 15/100 [04:23<24:55, 17.59s/it]"
     ]
    },
    {
     "name": "stdout",
     "output_type": "stream",
     "text": [
      "[INFO 31:40] ----- User batch : 0\n",
      "[INFO 31:43] ----- User batch : 1\n",
      "[INFO 31:46] ----- User batch : 2\n",
      "[INFO 31:49] ----- User batch : 3\n",
      "[INFO 31:52] ----- User batch : 4\n",
      "[INFO 31:53] - learning_users_emb gn: 41.469207763671875\n",
      "[INFO 31:53] - learning_users_emb norm: 0.9393404126167297\n",
      "[INFO 31:53] - learning_users_emb: 0.25\n",
      "[INFO 31:57] rmse : 0.6376338601112366\n",
      "[INFO 31:57] valid_rmse : 0.815388560295105\n",
      "[INFO 31:57] valid_loss : 0.9790186882019043\n"
     ]
    },
    {
     "name": "stderr",
     "output_type": "stream",
     "text": [
      " 16%|█▌        | 16/100 [04:41<24:33, 17.54s/it]"
     ]
    },
    {
     "name": "stdout",
     "output_type": "stream",
     "text": [
      "[INFO 31:58] ----- User batch : 0\n",
      "[INFO 32:01] ----- User batch : 1\n",
      "[INFO 32:03] ----- User batch : 2\n",
      "[INFO 32:06] ----- User batch : 3\n",
      "[INFO 32:09] ----- User batch : 4\n",
      "[INFO 32:11] - learning_users_emb gn: 40.561737060546875\n",
      "[INFO 32:11] - learning_users_emb norm: 0.914777398109436\n",
      "[INFO 32:11] - learning_users_emb: 0.25\n",
      "[INFO 32:15] rmse : 0.6110590100288391\n",
      "[INFO 32:15] valid_rmse : 0.7814053893089294\n",
      "[INFO 32:15] valid_loss : 0.9744906425476074\n"
     ]
    },
    {
     "name": "stderr",
     "output_type": "stream",
     "text": [
      " 17%|█▋        | 17/100 [04:58<24:07, 17.44s/it]"
     ]
    },
    {
     "name": "stdout",
     "output_type": "stream",
     "text": [
      "[INFO 32:15] ----- User batch : 0\n",
      "[INFO 32:18] ----- User batch : 1\n",
      "[INFO 32:21] ----- User batch : 2\n",
      "[INFO 32:24] ----- User batch : 3\n",
      "[INFO 32:27] ----- User batch : 4\n",
      "[INFO 32:28] - learning_users_emb gn: 38.364925384521484\n",
      "[INFO 32:28] - learning_users_emb norm: 0.8533579111099243\n",
      "[INFO 32:28] - learning_users_emb: 0.125\n",
      "[INFO 32:32] rmse : 0.5947787761688232\n",
      "[INFO 32:32] valid_rmse : 0.760586678981781\n",
      "[INFO 32:32] valid_loss : 0.9714453220367432\n"
     ]
    },
    {
     "name": "stderr",
     "output_type": "stream",
     "text": [
      " 18%|█▊        | 18/100 [05:15<23:49, 17.44s/it]"
     ]
    },
    {
     "name": "stdout",
     "output_type": "stream",
     "text": [
      "[INFO 32:32] ----- User batch : 0\n",
      "[INFO 32:35] ----- User batch : 1\n",
      "[INFO 32:38] ----- User batch : 2\n",
      "[INFO 32:41] ----- User batch : 3\n",
      "[INFO 32:44] ----- User batch : 4\n",
      "[INFO 32:45] - learning_users_emb gn: 31.103748321533203\n",
      "[INFO 32:45] - learning_users_emb norm: 0.8086133003234863\n",
      "[INFO 32:45] - learning_users_emb: 0.125\n",
      "[INFO 32:50] rmse : 0.6007800698280334\n",
      "[INFO 32:50] valid_rmse : 0.7682609558105469\n",
      "[INFO 32:50] valid_loss : 0.9678394198417664\n"
     ]
    },
    {
     "name": "stderr",
     "output_type": "stream",
     "text": [
      " 19%|█▉        | 19/100 [05:33<23:31, 17.43s/it]"
     ]
    },
    {
     "name": "stdout",
     "output_type": "stream",
     "text": [
      "[INFO 32:50] ----- User batch : 0\n",
      "[INFO 32:53] ----- User batch : 1\n",
      "[INFO 32:55] ----- User batch : 2\n",
      "[INFO 32:58] ----- User batch : 3\n",
      "[INFO 33:01] ----- User batch : 4\n",
      "[INFO 33:03] - learning_users_emb gn: 28.636110305786133\n",
      "[INFO 33:03] - learning_users_emb norm: 0.7521414160728455\n",
      "[INFO 33:03] - learning_users_emb: 0.125\n",
      "[INFO 33:07] rmse : 0.5997840166091919\n",
      "[INFO 33:07] valid_rmse : 0.7669872045516968\n",
      "[INFO 33:07] valid_loss : 0.9637187719345093\n"
     ]
    },
    {
     "name": "stderr",
     "output_type": "stream",
     "text": [
      " 20%|██        | 20/100 [05:50<23:17, 17.47s/it]"
     ]
    },
    {
     "name": "stdout",
     "output_type": "stream",
     "text": [
      "[INFO 33:07] ----- User batch : 0\n",
      "[INFO 33:10] ----- User batch : 1\n",
      "[INFO 33:13] ----- User batch : 2\n",
      "[INFO 33:16] ----- User batch : 3\n",
      "[INFO 33:19] ----- User batch : 4\n",
      "[INFO 33:20] - learning_users_emb gn: 27.1689453125\n",
      "[INFO 33:20] - learning_users_emb norm: 0.681997537612915\n",
      "[INFO 33:20] - learning_users_emb: 0.0625\n",
      "[INFO 33:25] rmse : 0.6054888963699341\n",
      "[INFO 33:25] valid_rmse : 0.7742824554443359\n",
      "[INFO 33:25] valid_loss : 0.9613287448883057\n"
     ]
    },
    {
     "name": "stderr",
     "output_type": "stream",
     "text": [
      " 21%|██        | 21/100 [06:08<22:59, 17.46s/it]"
     ]
    },
    {
     "name": "stdout",
     "output_type": "stream",
     "text": [
      "[INFO 33:25] ----- User batch : 0\n",
      "[INFO 33:28] ----- User batch : 1\n",
      "[INFO 33:30] ----- User batch : 2\n",
      "[INFO 33:33] ----- User batch : 3\n",
      "[INFO 33:36] ----- User batch : 4\n",
      "[INFO 33:38] - learning_users_emb gn: 22.374860763549805\n",
      "[INFO 33:38] - learning_users_emb norm: 0.6403478384017944\n",
      "[INFO 33:38] - learning_users_emb: 0.0625\n",
      "[INFO 33:42] rmse : 0.6133378744125366\n",
      "[INFO 33:42] valid_rmse : 0.7843195199966431\n",
      "[INFO 33:42] valid_loss : 0.9586713910102844\n"
     ]
    },
    {
     "name": "stderr",
     "output_type": "stream",
     "text": [
      " 22%|██▏       | 22/100 [06:25<22:41, 17.46s/it]"
     ]
    },
    {
     "name": "stdout",
     "output_type": "stream",
     "text": [
      "[INFO 33:42] ----- User batch : 0\n",
      "[INFO 33:45] ----- User batch : 1\n",
      "[INFO 33:48] ----- User batch : 2\n",
      "[INFO 33:51] ----- User batch : 3\n",
      "[INFO 33:54] ----- User batch : 4\n",
      "[INFO 33:55] - learning_users_emb gn: 23.27799415588379\n",
      "[INFO 33:55] - learning_users_emb norm: 0.5935508608818054\n",
      "[INFO 33:55] - learning_users_emb: 0.0625\n",
      "[INFO 33:59] rmse : 0.6130940914154053\n",
      "[INFO 33:59] valid_rmse : 0.7840077877044678\n",
      "[INFO 33:59] valid_loss : 0.9557928442955017\n"
     ]
    },
    {
     "name": "stderr",
     "output_type": "stream",
     "text": [
      " 23%|██▎       | 23/100 [06:42<22:24, 17.46s/it]"
     ]
    },
    {
     "name": "stdout",
     "output_type": "stream",
     "text": [
      "[INFO 34:00] ----- User batch : 0\n",
      "[INFO 34:03] ----- User batch : 1\n",
      "[INFO 34:05] ----- User batch : 2\n",
      "[INFO 34:08] ----- User batch : 3\n",
      "[INFO 34:11] ----- User batch : 4\n",
      "[INFO 34:13] - learning_users_emb gn: 20.290821075439453\n",
      "[INFO 34:13] - learning_users_emb norm: 0.5416680574417114\n",
      "[INFO 34:13] - learning_users_emb: 0.0625\n",
      "[INFO 34:17] rmse : 0.5940243601799011\n",
      "[INFO 34:17] valid_rmse : 0.7596219182014465\n",
      "[INFO 34:17] valid_loss : 0.952880859375\n"
     ]
    },
    {
     "name": "stderr",
     "output_type": "stream",
     "text": [
      " 24%|██▍       | 24/100 [07:00<22:09, 17.49s/it]"
     ]
    },
    {
     "name": "stdout",
     "output_type": "stream",
     "text": [
      "[INFO 34:17] ----- User batch : 0\n",
      "[INFO 34:20] ----- User batch : 1\n",
      "[INFO 34:23] ----- User batch : 2\n",
      "[INFO 34:26] ----- User batch : 3\n",
      "[INFO 34:29] ----- User batch : 4\n",
      "[INFO 34:30] - learning_users_emb gn: 25.1361141204834\n",
      "[INFO 34:30] - learning_users_emb norm: 0.4887464642524719\n",
      "[INFO 34:30] - learning_users_emb: 0.0625\n",
      "[INFO 34:34] rmse : 0.5887163281440735\n",
      "[INFO 34:34] valid_rmse : 0.752834141254425\n",
      "[INFO 34:34] valid_loss : 0.9498112797737122\n"
     ]
    },
    {
     "name": "stderr",
     "output_type": "stream",
     "text": [
      " 25%|██▌       | 25/100 [07:17<21:50, 17.47s/it]"
     ]
    },
    {
     "name": "stdout",
     "output_type": "stream",
     "text": [
      "[INFO 34:35] ----- User batch : 0\n",
      "[INFO 34:38] ----- User batch : 1\n",
      "[INFO 34:40] ----- User batch : 2\n",
      "[INFO 34:43] ----- User batch : 3\n",
      "[INFO 34:46] ----- User batch : 4\n",
      "[INFO 34:48] - learning_users_emb gn: 18.531389236450195\n",
      "[INFO 34:48] - learning_users_emb norm: 0.4338422119617462\n",
      "[INFO 34:48] - learning_users_emb: 0.0625\n",
      "[INFO 34:52] rmse : 0.5805345773696899\n",
      "[INFO 34:52] valid_rmse : 0.7423715591430664\n",
      "[INFO 34:52] valid_loss : 0.946938693523407\n"
     ]
    },
    {
     "name": "stderr",
     "output_type": "stream",
     "text": [
      " 26%|██▌       | 26/100 [07:35<21:33, 17.47s/it]"
     ]
    },
    {
     "name": "stdout",
     "output_type": "stream",
     "text": [
      "[INFO 34:52] ----- User batch : 0\n",
      "[INFO 34:55] ----- User batch : 1\n",
      "[INFO 34:58] ----- User batch : 2\n",
      "[INFO 35:01] ----- User batch : 3\n",
      "[INFO 35:04] ----- User batch : 4\n",
      "[INFO 35:05] - learning_users_emb gn: 15.349940299987793\n",
      "[INFO 35:05] - learning_users_emb norm: 0.38281258940696716\n",
      "[INFO 35:05] - learning_users_emb: 0.0625\n",
      "[INFO 35:09] rmse : 0.6004482507705688\n",
      "[INFO 35:09] valid_rmse : 0.7678366303443909\n",
      "[INFO 35:09] valid_loss : 0.9443579912185669\n"
     ]
    },
    {
     "name": "stderr",
     "output_type": "stream",
     "text": [
      " 27%|██▋       | 27/100 [07:52<21:16, 17.48s/it]"
     ]
    },
    {
     "name": "stdout",
     "output_type": "stream",
     "text": [
      "[INFO 35:10] ----- User batch : 0\n",
      "[INFO 35:12] ----- User batch : 1\n",
      "[INFO 35:15] ----- User batch : 2\n",
      "[INFO 35:18] ----- User batch : 3\n",
      "[INFO 35:21] ----- User batch : 4\n",
      "[INFO 35:23] - learning_users_emb gn: 15.065633773803711\n",
      "[INFO 35:23] - learning_users_emb norm: 0.3395824730396271\n",
      "[INFO 35:23] - learning_users_emb: 0.0625\n",
      "[INFO 35:27] rmse : 0.6004482507705688\n",
      "[INFO 35:27] valid_rmse : 0.7678366303443909\n",
      "[INFO 35:27] valid_loss : 0.9421201348304749\n"
     ]
    },
    {
     "name": "stderr",
     "output_type": "stream",
     "text": [
      " 28%|██▊       | 28/100 [08:10<20:59, 17.49s/it]"
     ]
    },
    {
     "name": "stdout",
     "output_type": "stream",
     "text": [
      "[INFO 35:27] ----- User batch : 0\n",
      "[INFO 35:30] ----- User batch : 1\n",
      "[INFO 35:33] ----- User batch : 2\n",
      "[INFO 35:36] ----- User batch : 3\n",
      "[INFO 35:39] ----- User batch : 4\n",
      "[INFO 35:40] - learning_users_emb gn: 16.650419235229492\n",
      "[INFO 35:40] - learning_users_emb norm: 0.3088501989841461\n",
      "[INFO 35:40] - learning_users_emb: 0.0625\n",
      "[INFO 35:44] rmse : 0.60507732629776\n",
      "[INFO 35:44] valid_rmse : 0.7737561464309692\n",
      "[INFO 35:44] valid_loss : 0.9402797222137451\n"
     ]
    },
    {
     "name": "stderr",
     "output_type": "stream",
     "text": [
      " 29%|██▉       | 29/100 [08:27<20:41, 17.49s/it]"
     ]
    },
    {
     "name": "stdout",
     "output_type": "stream",
     "text": [
      "[INFO 35:45] ----- User batch : 0\n",
      "[INFO 35:47] ----- User batch : 1\n",
      "[INFO 35:50] ----- User batch : 2\n",
      "[INFO 35:53] ----- User batch : 3\n",
      "[INFO 35:56] ----- User batch : 4\n",
      "[INFO 35:58] - learning_users_emb gn: 13.740949630737305\n",
      "[INFO 35:58] - learning_users_emb norm: 0.2941414415836334\n",
      "[INFO 35:58] - learning_users_emb: 0.0625\n",
      "[INFO 36:02] rmse : 0.60507732629776\n",
      "[INFO 36:02] valid_rmse : 0.7737561464309692\n",
      "[INFO 36:02] valid_loss : 0.9389246702194214\n"
     ]
    },
    {
     "name": "stderr",
     "output_type": "stream",
     "text": [
      " 30%|███       | 30/100 [08:45<20:25, 17.50s/it]"
     ]
    },
    {
     "name": "stdout",
     "output_type": "stream",
     "text": [
      "[INFO 36:02] ----- User batch : 0\n",
      "[INFO 36:05] ----- User batch : 1\n",
      "[INFO 36:08] ----- User batch : 2\n",
      "[INFO 36:11] ----- User batch : 3\n",
      "[INFO 36:14] ----- User batch : 4\n",
      "[INFO 36:15] - learning_users_emb gn: 12.7085599899292\n",
      "[INFO 36:15] - learning_users_emb norm: 0.29636430740356445\n",
      "[INFO 36:15] - learning_users_emb: 0.0625\n",
      "[INFO 36:19] rmse : 0.60507732629776\n",
      "[INFO 36:19] valid_rmse : 0.7737561464309692\n",
      "[INFO 36:19] valid_loss : 0.9381114840507507\n"
     ]
    },
    {
     "name": "stderr",
     "output_type": "stream",
     "text": [
      " 31%|███       | 31/100 [09:02<20:06, 17.49s/it]"
     ]
    },
    {
     "name": "stdout",
     "output_type": "stream",
     "text": [
      "[INFO 36:20] ----- User batch : 0\n",
      "[INFO 36:22] ----- User batch : 1\n",
      "[INFO 36:25] ----- User batch : 2\n",
      "[INFO 36:28] ----- User batch : 3\n",
      "[INFO 36:31] ----- User batch : 4\n",
      "[INFO 36:33] - learning_users_emb gn: 11.634895324707031\n",
      "[INFO 36:33] - learning_users_emb norm: 0.3135708272457123\n",
      "[INFO 36:33] - learning_users_emb: 0.0625\n",
      "[INFO 36:37] rmse : 0.60507732629776\n",
      "[INFO 36:37] valid_rmse : 0.7737561464309692\n",
      "[INFO 36:37] valid_loss : 0.9378718733787537\n"
     ]
    },
    {
     "name": "stderr",
     "output_type": "stream",
     "text": [
      " 32%|███▏      | 32/100 [09:20<19:50, 17.51s/it]"
     ]
    },
    {
     "name": "stdout",
     "output_type": "stream",
     "text": [
      "[INFO 36:37] ----- User batch : 0\n",
      "[INFO 36:40] ----- User batch : 1\n",
      "[INFO 36:43] ----- User batch : 2\n",
      "[INFO 36:46] ----- User batch : 3\n",
      "[INFO 36:49] ----- User batch : 4\n",
      "[INFO 36:50] - learning_users_emb gn: 14.45442008972168\n",
      "[INFO 36:50] - learning_users_emb norm: 0.33903202414512634\n",
      "[INFO 36:50] - learning_users_emb: 0.0625\n",
      "[INFO 36:54] rmse : 0.60507732629776\n",
      "[INFO 36:54] valid_rmse : 0.7737561464309692\n",
      "[INFO 36:54] valid_loss : 0.938046395778656\n"
     ]
    },
    {
     "name": "stderr",
     "output_type": "stream",
     "text": [
      " 33%|███▎      | 33/100 [09:38<19:33, 17.52s/it]"
     ]
    },
    {
     "name": "stdout",
     "output_type": "stream",
     "text": [
      "[INFO 36:55] ----- User batch : 0\n",
      "[INFO 36:58] ----- User batch : 1\n",
      "[INFO 37:00] ----- User batch : 2\n",
      "[INFO 37:03] ----- User batch : 3\n",
      "[INFO 37:06] ----- User batch : 4\n",
      "[INFO 37:08] - learning_users_emb gn: 13.844661712646484\n",
      "[INFO 37:08] - learning_users_emb norm: 0.3669893145561218\n",
      "[INFO 37:08] - learning_users_emb: 0.0625\n",
      "[INFO 37:12] rmse : 0.6144741177558899\n",
      "[INFO 37:12] valid_rmse : 0.7857725024223328\n",
      "[INFO 37:12] valid_loss : 0.938416063785553\n"
     ]
    },
    {
     "name": "stderr",
     "output_type": "stream",
     "text": [
      " 34%|███▍      | 34/100 [09:55<19:10, 17.43s/it]"
     ]
    },
    {
     "name": "stdout",
     "output_type": "stream",
     "text": [
      "[INFO 37:12] ----- User batch : 0\n",
      "[INFO 37:15] ----- User batch : 1\n",
      "[INFO 37:18] ----- User batch : 2\n",
      "[INFO 37:21] ----- User batch : 3\n",
      "[INFO 37:24] ----- User batch : 4\n",
      "[INFO 37:25] - learning_users_emb gn: 17.282094955444336\n",
      "[INFO 37:25] - learning_users_emb norm: 0.3928260803222656\n",
      "[INFO 37:25] - learning_users_emb: 0.0625\n",
      "[INFO 37:29] rmse : 0.6128502488136292\n",
      "[INFO 37:29] valid_rmse : 0.7836959362030029\n",
      "[INFO 37:29] valid_loss : 0.9387999176979065\n"
     ]
    },
    {
     "name": "stderr",
     "output_type": "stream",
     "text": [
      " 35%|███▌      | 35/100 [10:12<18:54, 17.45s/it]"
     ]
    },
    {
     "name": "stdout",
     "output_type": "stream",
     "text": [
      "[INFO 37:29] ----- User batch : 0\n",
      "[INFO 37:32] ----- User batch : 1\n",
      "[INFO 37:35] ----- User batch : 2\n",
      "[INFO 37:38] ----- User batch : 3\n",
      "[INFO 37:41] ----- User batch : 4\n",
      "[INFO 37:43] - learning_users_emb gn: 17.73394775390625\n",
      "[INFO 37:43] - learning_users_emb norm: 0.4144154191017151\n",
      "[INFO 37:43] - learning_users_emb: 0.03125\n",
      "[INFO 37:47] rmse : 0.6160128712654114\n",
      "[INFO 37:47] valid_rmse : 0.7877402305603027\n",
      "[INFO 37:47] valid_loss : 0.9389353394508362\n"
     ]
    },
    {
     "name": "stderr",
     "output_type": "stream",
     "text": [
      " 36%|███▌      | 36/100 [10:30<18:38, 17.47s/it]"
     ]
    },
    {
     "name": "stdout",
     "output_type": "stream",
     "text": [
      "[INFO 37:47] ----- User batch : 0\n",
      "[INFO 37:50] ----- User batch : 1\n",
      "[INFO 37:53] ----- User batch : 2\n",
      "[INFO 37:56] ----- User batch : 3\n",
      "[INFO 37:59] ----- User batch : 4\n",
      "[INFO 38:00] - learning_users_emb gn: 16.488035202026367\n",
      "[INFO 38:00] - learning_users_emb norm: 0.4225812256336212\n",
      "[INFO 38:00] - learning_users_emb: 0.03125\n",
      "[INFO 38:04] rmse : 0.6160128712654114\n",
      "[INFO 38:04] valid_rmse : 0.7877402305603027\n",
      "[INFO 38:04] valid_loss : 0.9390109181404114\n"
     ]
    },
    {
     "name": "stderr",
     "output_type": "stream",
     "text": [
      " 37%|███▋      | 37/100 [10:47<18:20, 17.48s/it]"
     ]
    },
    {
     "name": "stdout",
     "output_type": "stream",
     "text": [
      "[INFO 38:04] ----- User batch : 0\n",
      "[INFO 38:07] ----- User batch : 1\n",
      "[INFO 38:10] ----- User batch : 2\n",
      "[INFO 38:13] ----- User batch : 3\n",
      "[INFO 38:16] ----- User batch : 4\n",
      "[INFO 38:18] - learning_users_emb gn: 14.88646125793457\n",
      "[INFO 38:18] - learning_users_emb norm: 0.42797210812568665\n",
      "[INFO 38:18] - learning_users_emb: 0.03125\n",
      "[INFO 38:22] rmse : 0.6160128712654114\n",
      "[INFO 38:22] valid_rmse : 0.7877402305603027\n",
      "[INFO 38:22] valid_loss : 0.9390383958816528\n"
     ]
    },
    {
     "name": "stderr",
     "output_type": "stream",
     "text": [
      " 38%|███▊      | 38/100 [11:05<18:04, 17.49s/it]"
     ]
    },
    {
     "name": "stdout",
     "output_type": "stream",
     "text": [
      "[INFO 38:22] ----- User batch : 0\n",
      "[INFO 38:25] ----- User batch : 1\n",
      "[INFO 38:28] ----- User batch : 2\n",
      "[INFO 38:31] ----- User batch : 3\n",
      "[INFO 38:34] ----- User batch : 4\n",
      "[INFO 38:35] - learning_users_emb gn: 14.601287841796875\n",
      "[INFO 38:35] - learning_users_emb norm: 0.43039223551750183\n",
      "[INFO 38:35] - learning_users_emb: 0.015625\n",
      "[INFO 38:39] rmse : 0.6160128712654114\n",
      "[INFO 38:39] valid_rmse : 0.7877402305603027\n",
      "[INFO 38:39] valid_loss : 0.9390186667442322\n"
     ]
    },
    {
     "name": "stderr",
     "output_type": "stream",
     "text": [
      " 39%|███▉      | 39/100 [11:22<17:47, 17.50s/it]"
     ]
    },
    {
     "name": "stdout",
     "output_type": "stream",
     "text": [
      "[INFO 38:39] ----- User batch : 0\n",
      "[INFO 38:42] ----- User batch : 1\n",
      "[INFO 38:45] ----- User batch : 2\n",
      "[INFO 38:48] ----- User batch : 3\n",
      "[INFO 38:51] ----- User batch : 4\n",
      "[INFO 38:53] - learning_users_emb gn: 11.398521423339844\n",
      "[INFO 38:53] - learning_users_emb norm: 0.43019452691078186\n",
      "[INFO 38:53] - learning_users_emb: 0.015625\n",
      "[INFO 38:57] rmse : 0.6160128712654114\n",
      "[INFO 38:57] valid_rmse : 0.7877402305603027\n",
      "[INFO 38:57] valid_loss : 0.938984215259552\n"
     ]
    },
    {
     "name": "stderr",
     "output_type": "stream",
     "text": [
      " 40%|████      | 40/100 [11:40<17:31, 17.53s/it]"
     ]
    },
    {
     "name": "stdout",
     "output_type": "stream",
     "text": [
      "[INFO 38:57] ----- User batch : 0\n",
      "[INFO 39:00] ----- User batch : 1\n",
      "[INFO 39:03] ----- User batch : 2\n",
      "[INFO 39:06] ----- User batch : 3\n",
      "[INFO 39:09] ----- User batch : 4\n",
      "[INFO 39:10] - learning_users_emb gn: 14.172846794128418\n",
      "[INFO 39:10] - learning_users_emb norm: 0.42923423647880554\n",
      "[INFO 39:10] - learning_users_emb: 0.015625\n",
      "[INFO 39:14] rmse : 0.6160128712654114\n",
      "[INFO 39:14] valid_rmse : 0.7877402305603027\n",
      "[INFO 39:14] valid_loss : 0.93892502784729\n"
     ]
    },
    {
     "name": "stderr",
     "output_type": "stream",
     "text": [
      " 41%|████      | 41/100 [11:57<17:15, 17.55s/it]"
     ]
    },
    {
     "name": "stdout",
     "output_type": "stream",
     "text": [
      "[INFO 39:15] ----- User batch : 0\n",
      "[INFO 39:18] ----- User batch : 1\n",
      "[INFO 39:20] ----- User batch : 2\n",
      "[INFO 39:23] ----- User batch : 3\n",
      "[INFO 39:26] ----- User batch : 4\n",
      "[INFO 39:28] - learning_users_emb gn: 14.312177658081055\n",
      "[INFO 39:28] - learning_users_emb norm: 0.4271754026412964\n",
      "[INFO 39:28] - learning_users_emb: 0.0078125\n",
      "[INFO 39:32] rmse : 0.6160128712654114\n",
      "[INFO 39:32] valid_rmse : 0.7877402305603027\n",
      "[INFO 39:32] valid_loss : 0.9388920664787292\n"
     ]
    },
    {
     "name": "stderr",
     "output_type": "stream",
     "text": [
      " 42%|████▏     | 42/100 [12:15<16:58, 17.56s/it]"
     ]
    },
    {
     "name": "stdout",
     "output_type": "stream",
     "text": [
      "[INFO 39:32] ----- User batch : 0\n",
      "[INFO 39:35] ----- User batch : 1\n",
      "[INFO 39:38] ----- User batch : 2\n",
      "[INFO 39:41] ----- User batch : 3\n",
      "[INFO 39:44] ----- User batch : 4\n",
      "[INFO 39:45] - learning_users_emb gn: 13.123619079589844\n",
      "[INFO 39:45] - learning_users_emb norm: 0.42557066679000854\n",
      "[INFO 39:45] - learning_users_emb: 0.0078125\n",
      "[INFO 39:50] rmse : 0.6160128712654114\n",
      "[INFO 39:50] valid_rmse : 0.7877402305603027\n",
      "[INFO 39:50] valid_loss : 0.9388473033905029\n"
     ]
    },
    {
     "name": "stderr",
     "output_type": "stream",
     "text": [
      " 43%|████▎     | 43/100 [12:33<16:39, 17.54s/it]"
     ]
    },
    {
     "name": "stdout",
     "output_type": "stream",
     "text": [
      "[INFO 39:50] ----- User batch : 0\n",
      "[INFO 39:53] ----- User batch : 1\n",
      "[INFO 39:56] ----- User batch : 2\n",
      "[INFO 39:58] ----- User batch : 3\n",
      "[INFO 40:01] ----- User batch : 4\n",
      "[INFO 40:03] - learning_users_emb gn: 13.256937980651855\n",
      "[INFO 40:03] - learning_users_emb norm: 0.4234844446182251\n",
      "[INFO 40:03] - learning_users_emb: 0.0078125\n",
      "[INFO 40:07] rmse : 0.6066398620605469\n",
      "[INFO 40:07] valid_rmse : 0.7757542729377747\n",
      "[INFO 40:07] valid_loss : 0.9387899041175842\n"
     ]
    },
    {
     "name": "stderr",
     "output_type": "stream",
     "text": [
      " 44%|████▍     | 44/100 [12:50<16:19, 17.49s/it]"
     ]
    },
    {
     "name": "stdout",
     "output_type": "stream",
     "text": [
      "[INFO 40:07] ----- User batch : 0\n",
      "[INFO 40:10] ----- User batch : 1\n",
      "[INFO 40:13] ----- User batch : 2\n",
      "[INFO 40:16] ----- User batch : 3\n",
      "[INFO 40:19] ----- User batch : 4\n",
      "[INFO 40:20] - learning_users_emb gn: 12.665325164794922\n",
      "[INFO 40:20] - learning_users_emb norm: 0.42098790407180786\n",
      "[INFO 40:20] - learning_users_emb: 0.00390625\n",
      "[INFO 40:24] rmse : 0.6066398620605469\n",
      "[INFO 40:24] valid_rmse : 0.7757542729377747\n",
      "[INFO 40:24] valid_loss : 0.9387599229812622\n"
     ]
    },
    {
     "name": "stderr",
     "output_type": "stream",
     "text": [
      " 45%|████▌     | 45/100 [13:07<16:03, 17.51s/it]"
     ]
    },
    {
     "name": "stdout",
     "output_type": "stream",
     "text": [
      "[INFO 40:25] ----- User batch : 0\n",
      "[INFO 40:28] ----- User batch : 1\n",
      "[INFO 40:31] ----- User batch : 2\n",
      "[INFO 40:34] ----- User batch : 3\n",
      "[INFO 40:36] ----- User batch : 4\n",
      "[INFO 40:38] - learning_users_emb gn: 14.411944389343262\n",
      "[INFO 40:38] - learning_users_emb norm: 0.41957318782806396\n",
      "[INFO 40:38] - learning_users_emb: 0.00390625\n",
      "[INFO 40:42] rmse : 0.6066398620605469\n",
      "[INFO 40:42] valid_rmse : 0.7757542729377747\n",
      "[INFO 40:42] valid_loss : 0.9387263655662537\n"
     ]
    },
    {
     "name": "stderr",
     "output_type": "stream",
     "text": [
      " 45%|████▌     | 45/100 [13:25<16:24, 17.90s/it]"
     ]
    },
    {
     "name": "stdout",
     "output_type": "stream",
     "text": [
      "[INFO 40:42] -- END Training --\n",
      "[INFO 40:42] train on cuda\n"
     ]
    },
    {
     "name": "stderr",
     "output_type": "stream",
     "text": [
      "\n",
      "100%|██████████| 6/6 [00:04<00:00,  1.42it/s]\n"
     ]
    },
    {
     "name": "stdout",
     "output_type": "stream",
     "text": [
      "0.07389431460485107\n",
      "({0: {'mi_acc': 0.6615844368934631}, 1: {'mi_acc': 0.6615844368934631}, 2: {'mi_acc': 0.6615844368934631}, 3: {'mi_acc': 0.6615844368934631}, 4: {'mi_acc': 0.6615844368934631}, 5: {'mi_acc': 0.6615844368934631}}, {0: {'meta_doa': 0.5284317794068907}, 1: {'meta_doa': 0.5480420894515283}, 2: {'meta_doa': 0.5676536835446419}, 3: {'meta_doa': 0.5865667732627711}, 4: {'meta_doa': 0.6061013953574441}, 5: {'meta_doa': 0.6205151192129748}})\n"
     ]
    }
   ],
   "source": [
    "\n",
    "for seed in range(1) :\n",
    "    config['seed'] = seed\n",
    "    logging.info(f'#### seed : {seed} ####')\n",
    "    \n",
    "    train_data.reset_rng()\n",
    "    valid_data.reset_rng()\n",
    "    test_data.reset_rng()\n",
    "\n",
    "\n",
    "    S = liriscat.selectionStrategy.Random(metadata,**config)\n",
    "    S.init_models(train_data, valid_data)\n",
    "    S.train(train_data, valid_data)\n",
    "    liriscat.utils.set_seed(0)\n",
    "    S.reset_rng()\n",
    "    d = (S.evaluate_test(test_data, train_data, valid_data))\n",
    "    print(liriscat.utils.pareto_index(d))\n",
    "    print(d)\n",
    "    torch.cuda.empty_cache()"
   ]
  },
  {
   "cell_type": "code",
   "execution_count": null,
   "id": "f873a41e",
   "metadata": {},
   "outputs": [],
   "source": []
  }
 ],
 "metadata": {
  "kernelspec": {
   "display_name": "Python (liriscat no frozen)",
   "language": "python",
   "name": "liriscat-nofrozen"
  },
  "language_info": {
   "codemirror_mode": {
    "name": "ipython",
    "version": 3
   },
   "file_extension": ".py",
   "mimetype": "text/x-python",
   "name": "python",
   "nbconvert_exporter": "python",
   "pygments_lexer": "ipython3",
   "version": "3.11.11"
  }
 },
 "nbformat": 4,
 "nbformat_minor": 5
}
