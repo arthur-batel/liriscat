{
 "cells": [
  {
   "cell_type": "markdown",
   "id": "78a21ce669eb601d",
   "metadata": {},
   "source": [
    "# Liriscat paper experiments\n",
    "### 1. Init\n",
    "#### 1.1. Import libraries (necessary)"
   ]
  },
  {
   "cell_type": "code",
   "execution_count": 1,
   "id": "5b0d5d27c5b782ec",
   "metadata": {
    "ExecuteTime": {
     "end_time": "2025-03-28T16:00:43.125550Z",
     "start_time": "2025-03-28T16:00:41.971774Z"
    }
   },
   "outputs": [],
   "source": [
    "%load_ext autoreload\n",
    "%autoreload 2\n",
    "\n",
    "import os\n",
    "os.environ[\"PYTORCH_CUDA_ALLOC_CONF\"] = \"expandable_segments:True\"\n",
    "os.environ[\"PYTHONHASHSEED\"] = \"0\"\n",
    "os.environ['CUBLAS_WORKSPACE_CONFIG'] = \":4096:8\"\n",
    "\n",
    "import liriscat\n",
    "liriscat.utils.set_seed(0)\n",
    "\n",
    "import logging\n",
    "import gc\n",
    "import json\n",
    "import torch\n",
    "liriscat.utils.set_seed(0)\n",
    "import pandas as pd\n",
    "from importlib import reload"
   ]
  },
  {
   "cell_type": "markdown",
   "id": "32ab0bc4902808a9",
   "metadata": {},
   "source": [
    "#### 1.2. Set up the loggers (recommended)"
   ]
  },
  {
   "cell_type": "code",
   "execution_count": 2,
   "id": "b358c4709ccb3845",
   "metadata": {
    "ExecuteTime": {
     "end_time": "2025-03-27T16:01:06.271337Z",
     "start_time": "2025-03-27T16:01:06.259238Z"
    }
   },
   "outputs": [],
   "source": [
    "liriscat.utils.setuplogger(verbose = True, log_name=\"liriscat\", debug=False)"
   ]
  },
  {
   "cell_type": "markdown",
   "id": "5e97a539f6607db0",
   "metadata": {},
   "source": [
    "### 2. CDM prediction\n",
    "#### 2.1. Training and testing, sequential version"
   ]
  },
  {
   "cell_type": "code",
   "execution_count": 3,
   "id": "83d2be5c98d6482",
   "metadata": {
    "ExecuteTime": {
     "end_time": "2025-03-27T16:01:07.182919Z",
     "start_time": "2025-03-27T16:01:06.322894Z"
    }
   },
   "outputs": [],
   "source": [
    "import warnings\n",
    "\n",
    "gc.collect()\n",
    "torch.cuda.empty_cache()"
   ]
  },
  {
   "cell_type": "code",
   "execution_count": 11,
   "id": "1a54dc4f99eadbfa",
   "metadata": {},
   "outputs": [
    {
     "name": "stdout",
     "output_type": "stream",
     "text": [
      "CUDA is available. Using GPU.\n",
      "[INFO 30:08] math2\n"
     ]
    }
   ],
   "source": [
    "config = liriscat.utils.generate_eval_config(load_params=True, esc = 'error', valid_metric= 'mi_acc', pred_metrics = [\"mi_acc\"], profile_metrics = ['meta_doa'], save_params=False, n_query=6, num_epochs=100, batch_size=512)\n",
    "liriscat.utils.set_seed(config[\"seed\"])\n",
    "\n",
    "config[\"dataset_name\"] = \"math2\"\n",
    "logging.info(config[\"dataset_name\"])\n",
    "config['learning_rate'] = 0.001\n",
    "config['inner_user_lr'] = 0.016848380924625605\n",
    "config['lambda'] = 9.972254466547545e-06\n",
    "\n",
    "meta_trainers = ['MAML']\n",
    "config['meta_lr'] = 0.05\n",
    "config['patience'] = 20#5\n",
    "config['num_inner_users_epochs'] = 3\n",
    "config['d_in'] = 4\n",
    "config['num_responses'] = 12\n",
    "\n",
    "#pred_metrics,df_interp = test(config)"
   ]
  },
  {
   "cell_type": "code",
   "execution_count": 12,
   "id": "73dcbf76e1d61f2a",
   "metadata": {},
   "outputs": [
    {
     "name": "stdout",
     "output_type": "stream",
     "text": [
      "[INFO 30:09] #### math2 ####\n",
      "[INFO 30:09] #### config : {'seed': 0, 'dataset_name': 'math2', 'load_params': True, 'save_params': False, 'embs_path': '../embs/', 'params_path': '../ckpt/', 'early_stopping': True, 'esc': 'error', 'verbose_early_stopping': False, 'disable_tqdm': False, 'valid_metric': 'mi_acc', 'learning_rate': 0.001, 'batch_size': 512, 'valid_batch_size': 10000, 'num_epochs': 100, 'eval_freq': 1, 'patience': 20, 'device': device(type='cuda'), 'lambda': 9.972254466547545e-06, 'tensorboard': False, 'flush_freq': True, 'pred_metrics': ['mi_acc'], 'profile_metrics': ['meta_doa'], 'num_responses': 12, 'low_mem': False, 'n_query': 6, 'CDM': 'impact', 'i_fold': 0, 'num_inner_users_epochs': 3, 'num_inner_epochs': 10, 'inner_lr': 0.0001, 'inner_user_lr': 0.016848380924625605, 'meta_lr': 0.05, 'meta_trainer': 'Adam', 'num_workers': 0, 'pin_memory': False, 'debug': False, 'd_in': 4} ####\n"
     ]
    }
   ],
   "source": [
    "logging.info(f'#### {config[\"dataset_name\"]} ####')\n",
    "logging.info(f'#### config : {config} ####')\n",
    "config['embs_path']='../embs/'\n",
    "config['params_path']='../ckpt/'\n",
    "\n",
    "gc.collect()\n",
    "torch.cuda.empty_cache()\n",
    "\n",
    "# Dataset downloading for doa and rm\n",
    "warnings.filterwarnings(\"ignore\", message=\"invalid value encountered in divide\")\n",
    "warnings.filterwarnings(\"ignore\", category=RuntimeWarning)\n",
    "\n",
    "## Concept map format : {question_id : [category_id1, category_id2, ...]}\n",
    "concept_map = json.load(open(f'../datasets/2-preprocessed_data/{config[\"dataset_name\"]}_concept_map.json', 'r'))\n",
    "concept_map = {int(k): [int(x) for x in v] for k, v in concept_map.items()}\n",
    "\n",
    "## Metadata map format : {\"num_user_id\": ..., \"num_item_id\": ..., \"num_dimension_id\": ...}\n",
    "metadata = json.load(open(f'../datasets/2-preprocessed_data/{config[\"dataset_name\"]}_metadata.json', 'r'))\n",
    "\n",
    "\n",
    "## Tensor containing the nb of modalities per question\n",
    "nb_modalities = torch.load(f'../datasets/2-preprocessed_data/{config[\"dataset_name\"]}_nb_modalities.pkl',weights_only=True)\n"
   ]
  },
  {
   "cell_type": "code",
   "execution_count": 13,
   "id": "846a5c594351413e",
   "metadata": {},
   "outputs": [
    {
     "name": "stdout",
     "output_type": "stream",
     "text": [
      "[INFO 30:09] #### meta_trainer : MAML ####\n",
      "[INFO 30:09] #### i_fold : 1 ####\n",
      "[INFO 30:18] #### seed : 0 ####\n",
      "[INFO 30:18] Random_cont_model\n",
      "[INFO 30:18] compiling CDM model\n",
      "[INFO 30:18] compiling selection model\n",
      "[INFO 30:18] ------- START Training\n",
      "[INFO 30:18] train on cuda\n"
     ]
    },
    {
     "name": "stderr",
     "output_type": "stream",
     "text": [
      "/home/arthur/liriscat/liriscat/selectionStrategy/random.py:30: UserWarning: get_params() Notimplemented\n",
      "  warnings.warn('get_params() Notimplemented')\n",
      "  0%|          | 0/100 [00:00<?, ?it/s]"
     ]
    },
    {
     "name": "stdout",
     "output_type": "stream",
     "text": [
      "[INFO 30:19] ----- User batch : 0\n",
      "[INFO 30:22] ----- User batch : 1\n",
      "[INFO 30:25] ----- User batch : 2\n",
      "[INFO 30:28] ----- User batch : 3\n",
      "[INFO 30:31] ----- User batch : 4\n",
      "[INFO 30:33] - learning_users_emb: 0.05\n",
      "[INFO 30:37] rmse : 0.7091824412345886\n",
      "[INFO 30:37] valid_rmse : 0.9068828821182251\n",
      "[INFO 30:37] valid_loss : 1.1707669496536255\n"
     ]
    },
    {
     "name": "stderr",
     "output_type": "stream",
     "text": [
      "  1%|          | 1/100 [00:18<31:02, 18.81s/it]"
     ]
    },
    {
     "name": "stdout",
     "output_type": "stream",
     "text": [
      "[INFO 30:38] ----- User batch : 0\n",
      "[INFO 30:41] ----- User batch : 1\n",
      "[INFO 30:44] ----- User batch : 2\n",
      "[INFO 30:47] ----- User batch : 3\n",
      "[INFO 30:50] ----- User batch : 4\n",
      "[INFO 30:52] - learning_users_emb: 0.05\n",
      "[INFO 30:57] rmse : 0.7010562419891357\n",
      "[INFO 30:57] valid_rmse : 0.8964913487434387\n",
      "[INFO 30:57] valid_loss : 1.1471703052520752\n"
     ]
    },
    {
     "name": "stderr",
     "output_type": "stream",
     "text": [
      "  2%|▏         | 2/100 [00:38<31:10, 19.09s/it]"
     ]
    },
    {
     "name": "stdout",
     "output_type": "stream",
     "text": [
      "[INFO 30:57] ----- User batch : 0\n",
      "[INFO 31:00] ----- User batch : 1\n",
      "[INFO 31:03] ----- User batch : 2\n",
      "[INFO 31:07] ----- User batch : 3\n",
      "[INFO 31:10] ----- User batch : 4\n",
      "[INFO 31:12] - learning_users_emb: 0.05\n",
      "[INFO 31:16] rmse : 0.7010562419891357\n",
      "[INFO 31:16] valid_rmse : 0.8964913487434387\n",
      "[INFO 31:16] valid_loss : 1.1267569065093994\n"
     ]
    },
    {
     "name": "stderr",
     "output_type": "stream",
     "text": [
      "  3%|▎         | 3/100 [00:57<31:00, 19.18s/it]"
     ]
    },
    {
     "name": "stdout",
     "output_type": "stream",
     "text": [
      "[INFO 31:16] ----- User batch : 0\n",
      "[INFO 31:19] ----- User batch : 1\n",
      "[INFO 31:22] ----- User batch : 2\n",
      "[INFO 31:26] ----- User batch : 3\n",
      "[INFO 31:29] ----- User batch : 4\n",
      "[INFO 31:31] - learning_users_emb: 0.05\n",
      "[INFO 31:35] rmse : 0.7010562419891357\n",
      "[INFO 31:35] valid_rmse : 0.8964913487434387\n",
      "[INFO 31:35] valid_loss : 1.1084117889404297\n"
     ]
    },
    {
     "name": "stderr",
     "output_type": "stream",
     "text": [
      "  4%|▍         | 4/100 [01:16<30:36, 19.13s/it]"
     ]
    },
    {
     "name": "stdout",
     "output_type": "stream",
     "text": [
      "[INFO 31:35] ----- User batch : 0\n",
      "[INFO 31:39] ----- User batch : 1\n",
      "[INFO 31:42] ----- User batch : 2\n",
      "[INFO 31:45] ----- User batch : 3\n",
      "[INFO 31:48] ----- User batch : 4\n",
      "[INFO 31:50] - learning_users_emb: 0.05\n",
      "[INFO 31:54] rmse : 0.7061548829078674\n",
      "[INFO 31:54] valid_rmse : 0.9030113220214844\n",
      "[INFO 31:54] valid_loss : 1.091036081314087\n"
     ]
    },
    {
     "name": "stderr",
     "output_type": "stream",
     "text": [
      "  5%|▌         | 5/100 [01:35<30:23, 19.19s/it]"
     ]
    },
    {
     "name": "stdout",
     "output_type": "stream",
     "text": [
      "[INFO 31:55] ----- User batch : 0\n",
      "[INFO 31:58] ----- User batch : 1\n",
      "[INFO 32:01] ----- User batch : 2\n",
      "[INFO 32:04] ----- User batch : 3\n",
      "[INFO 32:07] ----- User batch : 4\n",
      "[INFO 32:09] - learning_users_emb: 0.05\n",
      "[INFO 32:14] rmse : 0.711006760597229\n",
      "[INFO 32:14] valid_rmse : 0.9092158079147339\n",
      "[INFO 32:14] valid_loss : 1.07440185546875\n"
     ]
    },
    {
     "name": "stderr",
     "output_type": "stream",
     "text": [
      "  6%|▌         | 6/100 [01:55<30:06, 19.22s/it]"
     ]
    },
    {
     "name": "stdout",
     "output_type": "stream",
     "text": [
      "[INFO 32:14] ----- User batch : 0\n",
      "[INFO 32:17] ----- User batch : 1\n",
      "[INFO 32:20] ----- User batch : 2\n",
      "[INFO 32:24] ----- User batch : 3\n",
      "[INFO 32:27] ----- User batch : 4\n",
      "[INFO 32:28] - learning_users_emb: 0.05\n",
      "[INFO 32:33] rmse : 0.711006760597229\n",
      "[INFO 32:33] valid_rmse : 0.9092158079147339\n",
      "[INFO 32:33] valid_loss : 1.0586096048355103\n"
     ]
    },
    {
     "name": "stderr",
     "output_type": "stream",
     "text": [
      "  7%|▋         | 7/100 [02:14<29:43, 19.17s/it]"
     ]
    },
    {
     "name": "stdout",
     "output_type": "stream",
     "text": [
      "[INFO 32:33] ----- User batch : 0\n",
      "[INFO 32:36] ----- User batch : 1\n",
      "[INFO 32:39] ----- User batch : 2\n",
      "[INFO 32:43] ----- User batch : 3\n",
      "[INFO 32:46] ----- User batch : 4\n",
      "[INFO 32:47] - learning_users_emb: 0.05\n",
      "[INFO 32:52] rmse : 0.6813772916793823\n",
      "[INFO 32:52] valid_rmse : 0.8713264465332031\n",
      "[INFO 32:52] valid_loss : 1.04404878616333\n"
     ]
    },
    {
     "name": "stderr",
     "output_type": "stream",
     "text": [
      "  8%|▊         | 8/100 [02:33<29:24, 19.18s/it]"
     ]
    },
    {
     "name": "stdout",
     "output_type": "stream",
     "text": [
      "[INFO 32:52] ----- User batch : 0\n",
      "[INFO 32:55] ----- User batch : 1\n",
      "[INFO 32:58] ----- User batch : 2\n",
      "[INFO 33:02] ----- User batch : 3\n",
      "[INFO 33:05] ----- User batch : 4\n",
      "[INFO 33:06] - learning_users_emb: 0.05\n",
      "[INFO 33:11] rmse : 0.6721004247665405\n",
      "[INFO 33:11] valid_rmse : 0.8594634532928467\n",
      "[INFO 33:11] valid_loss : 1.030856966972351\n"
     ]
    },
    {
     "name": "stderr",
     "output_type": "stream",
     "text": [
      "  9%|▉         | 9/100 [02:52<28:59, 19.12s/it]"
     ]
    },
    {
     "name": "stdout",
     "output_type": "stream",
     "text": [
      "[INFO 33:11] ----- User batch : 0\n",
      "[INFO 33:15] ----- User batch : 1\n",
      "[INFO 33:18] ----- User batch : 2\n",
      "[INFO 33:21] ----- User batch : 3\n",
      "[INFO 33:24] ----- User batch : 4\n",
      "[INFO 33:26] - learning_users_emb: 0.05\n",
      "[INFO 33:30] rmse : 0.6437000632286072\n",
      "[INFO 33:30] valid_rmse : 0.823145866394043\n",
      "[INFO 33:30] valid_loss : 1.0190213918685913\n"
     ]
    },
    {
     "name": "stderr",
     "output_type": "stream",
     "text": [
      " 10%|█         | 10/100 [03:11<28:45, 19.17s/it]"
     ]
    },
    {
     "name": "stdout",
     "output_type": "stream",
     "text": [
      "[INFO 33:30] ----- User batch : 0\n",
      "[INFO 33:34] ----- User batch : 1\n",
      "[INFO 33:37] ----- User batch : 2\n",
      "[INFO 33:40] ----- User batch : 3\n",
      "[INFO 33:43] ----- User batch : 4\n",
      "[INFO 33:45] - learning_users_emb: 0.05\n",
      "[INFO 33:49] rmse : 0.6437000632286072\n",
      "[INFO 33:49] valid_rmse : 0.823145866394043\n",
      "[INFO 33:49] valid_loss : 1.008297324180603\n"
     ]
    },
    {
     "name": "stderr",
     "output_type": "stream",
     "text": [
      " 11%|█         | 11/100 [03:30<28:26, 19.18s/it]"
     ]
    },
    {
     "name": "stdout",
     "output_type": "stream",
     "text": [
      "[INFO 33:50] ----- User batch : 0\n",
      "[INFO 33:53] ----- User batch : 1\n",
      "[INFO 33:56] ----- User batch : 2\n",
      "[INFO 33:59] ----- User batch : 3\n",
      "[INFO 34:02] ----- User batch : 4\n",
      "[INFO 34:04] - learning_users_emb: 0.05\n",
      "[INFO 34:09] rmse : 0.6173863410949707\n",
      "[INFO 34:09] valid_rmse : 0.7894966006278992\n",
      "[INFO 34:09] valid_loss : 0.9985358119010925\n"
     ]
    },
    {
     "name": "stderr",
     "output_type": "stream",
     "text": [
      " 12%|█▏        | 12/100 [03:50<28:09, 19.20s/it]"
     ]
    },
    {
     "name": "stdout",
     "output_type": "stream",
     "text": [
      "[INFO 34:09] ----- User batch : 0\n",
      "[INFO 34:12] ----- User batch : 1\n",
      "[INFO 34:15] ----- User batch : 2\n",
      "[INFO 34:18] ----- User batch : 3\n",
      "[INFO 34:21] ----- User batch : 4\n",
      "[INFO 34:23] - learning_users_emb: 0.05\n",
      "[INFO 34:28] rmse : 0.6285833716392517\n",
      "[INFO 34:28] valid_rmse : 0.8038150668144226\n",
      "[INFO 34:28] valid_loss : 0.9895697236061096\n"
     ]
    },
    {
     "name": "stderr",
     "output_type": "stream",
     "text": [
      " 13%|█▎        | 13/100 [04:09<27:50, 19.20s/it]"
     ]
    },
    {
     "name": "stdout",
     "output_type": "stream",
     "text": [
      "[INFO 34:28] ----- User batch : 0\n",
      "[INFO 34:32] ----- User batch : 1\n",
      "[INFO 34:35] ----- User batch : 2\n",
      "[INFO 34:38] ----- User batch : 3\n",
      "[INFO 34:41] ----- User batch : 4\n",
      "[INFO 34:43] - learning_users_emb: 0.05\n",
      "[INFO 34:48] rmse : 0.6230899691581726\n",
      "[INFO 34:48] valid_rmse : 0.7967902421951294\n",
      "[INFO 34:48] valid_loss : 0.9813699722290039\n"
     ]
    },
    {
     "name": "stderr",
     "output_type": "stream",
     "text": [
      " 14%|█▍        | 14/100 [04:28<27:44, 19.35s/it]"
     ]
    },
    {
     "name": "stdout",
     "output_type": "stream",
     "text": [
      "[INFO 34:48] ----- User batch : 0\n",
      "[INFO 34:51] ----- User batch : 1\n",
      "[INFO 34:54] ----- User batch : 2\n",
      "[INFO 34:57] ----- User batch : 3\n",
      "[INFO 35:01] ----- User batch : 4\n",
      "[INFO 35:02] - learning_users_emb: 0.05\n",
      "[INFO 35:07] rmse : 0.6307199597358704\n",
      "[INFO 35:07] valid_rmse : 0.806547224521637\n",
      "[INFO 35:07] valid_loss : 0.9738659262657166\n"
     ]
    },
    {
     "name": "stderr",
     "output_type": "stream",
     "text": [
      " 15%|█▌        | 15/100 [04:48<27:20, 19.30s/it]"
     ]
    },
    {
     "name": "stdout",
     "output_type": "stream",
     "text": [
      "[INFO 35:07] ----- User batch : 0\n",
      "[INFO 35:10] ----- User batch : 1\n",
      "[INFO 35:13] ----- User batch : 2\n",
      "[INFO 35:16] ----- User batch : 3\n",
      "[INFO 35:20] ----- User batch : 4\n",
      "[INFO 35:22] - learning_users_emb: 0.05\n",
      "[INFO 35:26] rmse : 0.6307199597358704\n",
      "[INFO 35:26] valid_rmse : 0.806547224521637\n",
      "[INFO 35:26] valid_loss : 0.9670249819755554\n"
     ]
    },
    {
     "name": "stderr",
     "output_type": "stream",
     "text": [
      " 16%|█▌        | 16/100 [05:07<27:01, 19.30s/it]"
     ]
    },
    {
     "name": "stdout",
     "output_type": "stream",
     "text": [
      "[INFO 35:26] ----- User batch : 0\n",
      "[INFO 35:29] ----- User batch : 1\n",
      "[INFO 35:33] ----- User batch : 2\n",
      "[INFO 35:36] ----- User batch : 3\n",
      "[INFO 35:39] ----- User batch : 4\n",
      "[INFO 35:41] - learning_users_emb: 0.05\n",
      "[INFO 35:45] rmse : 0.6045830249786377\n",
      "[INFO 35:45] valid_rmse : 0.7731240391731262\n",
      "[INFO 35:45] valid_loss : 0.9607523083686829\n"
     ]
    },
    {
     "name": "stderr",
     "output_type": "stream",
     "text": [
      " 17%|█▋        | 17/100 [05:26<26:39, 19.27s/it]"
     ]
    },
    {
     "name": "stdout",
     "output_type": "stream",
     "text": [
      "[INFO 35:45] ----- User batch : 0\n",
      "[INFO 35:49] ----- User batch : 1\n",
      "[INFO 35:52] ----- User batch : 2\n",
      "[INFO 35:55] ----- User batch : 3\n",
      "[INFO 35:58] ----- User batch : 4\n",
      "[INFO 36:00] - learning_users_emb: 0.05\n",
      "[INFO 36:05] rmse : 0.6045830249786377\n",
      "[INFO 36:05] valid_rmse : 0.7731240391731262\n",
      "[INFO 36:05] valid_loss : 0.9552383422851562\n"
     ]
    },
    {
     "name": "stderr",
     "output_type": "stream",
     "text": [
      " 18%|█▊        | 18/100 [05:46<26:25, 19.33s/it]"
     ]
    },
    {
     "name": "stdout",
     "output_type": "stream",
     "text": [
      "[INFO 36:05] ----- User batch : 0\n",
      "[INFO 36:08] ----- User batch : 1\n",
      "[INFO 36:12] ----- User batch : 2\n",
      "[INFO 36:15] ----- User batch : 3\n",
      "[INFO 36:18] ----- User batch : 4\n",
      "[INFO 36:20] - learning_users_emb: 0.05\n",
      "[INFO 36:24] rmse : 0.6045830249786377\n",
      "[INFO 36:24] valid_rmse : 0.7731240391731262\n",
      "[INFO 36:24] valid_loss : 0.9507301449775696\n"
     ]
    },
    {
     "name": "stderr",
     "output_type": "stream",
     "text": [
      " 19%|█▉        | 19/100 [06:05<26:14, 19.44s/it]"
     ]
    },
    {
     "name": "stdout",
     "output_type": "stream",
     "text": [
      "[INFO 36:25] ----- User batch : 0\n",
      "[INFO 36:28] ----- User batch : 1\n",
      "[INFO 36:31] ----- User batch : 2\n",
      "[INFO 36:34] ----- User batch : 3\n",
      "[INFO 36:37] ----- User batch : 4\n",
      "[INFO 36:39] - learning_users_emb: 0.05\n",
      "[INFO 36:44] rmse : 0.5966189503669739\n",
      "[INFO 36:44] valid_rmse : 0.7629398107528687\n",
      "[INFO 36:44] valid_loss : 0.9476593136787415\n"
     ]
    },
    {
     "name": "stderr",
     "output_type": "stream",
     "text": [
      " 20%|██        | 20/100 [06:25<25:55, 19.44s/it]"
     ]
    },
    {
     "name": "stdout",
     "output_type": "stream",
     "text": [
      "[INFO 36:44] ----- User batch : 0\n",
      "[INFO 36:48] ----- User batch : 1\n",
      "[INFO 36:51] ----- User batch : 2\n",
      "[INFO 36:55] ----- User batch : 3\n",
      "[INFO 36:58] ----- User batch : 4\n",
      "[INFO 37:00] - learning_users_emb: 0.05\n",
      "[INFO 37:05] rmse : 0.591923713684082\n",
      "[INFO 37:05] valid_rmse : 0.7569356560707092\n",
      "[INFO 37:05] valid_loss : 0.9463109970092773\n"
     ]
    },
    {
     "name": "stderr",
     "output_type": "stream",
     "text": [
      " 21%|██        | 21/100 [06:45<26:05, 19.82s/it]"
     ]
    },
    {
     "name": "stdout",
     "output_type": "stream",
     "text": [
      "[INFO 37:05] ----- User batch : 0\n",
      "[INFO 37:08] ----- User batch : 1\n",
      "[INFO 37:12] ----- User batch : 2\n",
      "[INFO 37:15] ----- User batch : 3\n",
      "[INFO 37:18] ----- User batch : 4\n",
      "[INFO 37:20] - learning_users_emb: 0.05\n",
      "[INFO 37:25] rmse : 0.586596667766571\n",
      "[INFO 37:25] valid_rmse : 0.7501236200332642\n",
      "[INFO 37:25] valid_loss : 0.9463052749633789\n"
     ]
    },
    {
     "name": "stderr",
     "output_type": "stream",
     "text": [
      " 22%|██▏       | 22/100 [07:06<26:03, 20.04s/it]"
     ]
    },
    {
     "name": "stdout",
     "output_type": "stream",
     "text": [
      "[INFO 37:26] ----- User batch : 0\n",
      "[INFO 37:29] ----- User batch : 1\n",
      "[INFO 37:32] ----- User batch : 2\n",
      "[INFO 37:36] ----- User batch : 3\n",
      "[INFO 37:39] ----- User batch : 4\n",
      "[INFO 37:41] - learning_users_emb: 0.05\n",
      "[INFO 37:46] rmse : 1.5365015268325806\n",
      "[INFO 37:46] valid_rmse : 1.9648356437683105\n",
      "[INFO 37:46] valid_loss : nan\n"
     ]
    },
    {
     "name": "stderr",
     "output_type": "stream",
     "text": [
      " 23%|██▎       | 23/100 [07:27<26:10, 20.39s/it]"
     ]
    },
    {
     "name": "stdout",
     "output_type": "stream",
     "text": [
      "[INFO 37:47] ----- User batch : 0\n",
      "[INFO 37:50] ----- User batch : 1\n",
      "[INFO 37:54] ----- User batch : 2\n",
      "[INFO 37:57] ----- User batch : 3\n",
      "[INFO 38:01] ----- User batch : 4\n",
      "[INFO 38:03] - learning_users_emb: 0.05\n",
      "[INFO 38:07] rmse : 1.5365015268325806\n",
      "[INFO 38:07] valid_rmse : 1.9648356437683105\n",
      "[INFO 38:07] valid_loss : nan\n"
     ]
    },
    {
     "name": "stderr",
     "output_type": "stream",
     "text": [
      " 24%|██▍       | 24/100 [07:48<26:02, 20.56s/it]"
     ]
    },
    {
     "name": "stdout",
     "output_type": "stream",
     "text": [
      "[INFO 38:08] ----- User batch : 0\n",
      "[INFO 38:11] ----- User batch : 1\n",
      "[INFO 38:15] ----- User batch : 2\n",
      "[INFO 38:18] ----- User batch : 3\n",
      "[INFO 38:21] ----- User batch : 4\n",
      "[INFO 38:23] - learning_users_emb: 0.025\n",
      "[INFO 38:28] rmse : 1.5365015268325806\n",
      "[INFO 38:28] valid_rmse : 1.9648356437683105\n",
      "[INFO 38:28] valid_loss : nan\n"
     ]
    },
    {
     "name": "stderr",
     "output_type": "stream",
     "text": [
      " 25%|██▌       | 25/100 [08:09<25:48, 20.65s/it]"
     ]
    },
    {
     "name": "stdout",
     "output_type": "stream",
     "text": [
      "[INFO 38:29] ----- User batch : 0\n",
      "[INFO 38:32] ----- User batch : 1\n",
      "[INFO 38:35] ----- User batch : 2\n",
      "[INFO 38:39] ----- User batch : 3\n",
      "[INFO 38:42] ----- User batch : 4\n",
      "[INFO 38:44] - learning_users_emb: 0.025\n",
      "[INFO 38:49] rmse : 1.5365015268325806\n",
      "[INFO 38:49] valid_rmse : 1.9648356437683105\n",
      "[INFO 38:49] valid_loss : nan\n"
     ]
    },
    {
     "name": "stderr",
     "output_type": "stream",
     "text": [
      " 26%|██▌       | 26/100 [08:29<25:22, 20.57s/it]"
     ]
    },
    {
     "name": "stdout",
     "output_type": "stream",
     "text": [
      "[INFO 38:49] ----- User batch : 0\n",
      "[INFO 38:52] ----- User batch : 1\n",
      "[INFO 38:55] ----- User batch : 2\n",
      "[INFO 38:58] ----- User batch : 3\n",
      "[INFO 39:01] ----- User batch : 4\n",
      "[INFO 39:03] - learning_users_emb: 0.025\n",
      "[INFO 39:08] rmse : 1.5365015268325806\n",
      "[INFO 39:08] valid_rmse : 1.9648356437683105\n",
      "[INFO 39:08] valid_loss : nan\n"
     ]
    },
    {
     "name": "stderr",
     "output_type": "stream",
     "text": [
      " 27%|██▋       | 27/100 [08:49<24:37, 20.24s/it]"
     ]
    },
    {
     "name": "stdout",
     "output_type": "stream",
     "text": [
      "[INFO 39:08] ----- User batch : 0\n",
      "[INFO 39:11] ----- User batch : 1\n",
      "[INFO 39:15] ----- User batch : 2\n",
      "[INFO 39:18] ----- User batch : 3\n",
      "[INFO 39:21] ----- User batch : 4\n",
      "[INFO 39:23] - learning_users_emb: 0.0125\n",
      "[INFO 39:27] rmse : 1.5365015268325806\n",
      "[INFO 39:27] valid_rmse : 1.9648356437683105\n",
      "[INFO 39:27] valid_loss : nan\n"
     ]
    },
    {
     "name": "stderr",
     "output_type": "stream",
     "text": [
      " 28%|██▊       | 28/100 [09:08<23:55, 19.94s/it]"
     ]
    },
    {
     "name": "stdout",
     "output_type": "stream",
     "text": [
      "[INFO 39:27] ----- User batch : 0\n",
      "[INFO 39:31] ----- User batch : 1\n",
      "[INFO 39:34] ----- User batch : 2\n",
      "[INFO 39:37] ----- User batch : 3\n",
      "[INFO 39:40] ----- User batch : 4\n",
      "[INFO 39:42] - learning_users_emb: 0.0125\n",
      "[INFO 39:47] rmse : 1.5365015268325806\n",
      "[INFO 39:47] valid_rmse : 1.9648356437683105\n",
      "[INFO 39:47] valid_loss : nan\n"
     ]
    },
    {
     "name": "stderr",
     "output_type": "stream",
     "text": [
      " 29%|██▉       | 29/100 [09:28<23:25, 19.79s/it]"
     ]
    },
    {
     "name": "stdout",
     "output_type": "stream",
     "text": [
      "[INFO 39:47] ----- User batch : 0\n",
      "[INFO 39:50] ----- User batch : 1\n",
      "[INFO 39:53] ----- User batch : 2\n",
      "[INFO 39:57] ----- User batch : 3\n",
      "[INFO 40:00] ----- User batch : 4\n",
      "[INFO 40:01] - learning_users_emb: 0.0125\n",
      "[INFO 40:06] rmse : 1.5365015268325806\n",
      "[INFO 40:06] valid_rmse : 1.9648356437683105\n",
      "[INFO 40:06] valid_loss : nan\n"
     ]
    },
    {
     "name": "stderr",
     "output_type": "stream",
     "text": [
      " 30%|███       | 30/100 [09:47<22:59, 19.71s/it]"
     ]
    },
    {
     "name": "stdout",
     "output_type": "stream",
     "text": [
      "[INFO 40:06] ----- User batch : 0\n",
      "[INFO 40:09] ----- User batch : 1\n",
      "[INFO 40:13] ----- User batch : 2\n",
      "[INFO 40:16] ----- User batch : 3\n",
      "[INFO 40:19] ----- User batch : 4\n",
      "[INFO 40:20] - learning_users_emb: 0.00625\n",
      "[INFO 40:25] rmse : 1.5365015268325806\n",
      "[INFO 40:25] valid_rmse : 1.9648356437683105\n",
      "[INFO 40:25] valid_loss : nan\n"
     ]
    },
    {
     "name": "stderr",
     "output_type": "stream",
     "text": [
      " 31%|███       | 31/100 [10:06<22:24, 19.49s/it]"
     ]
    },
    {
     "name": "stdout",
     "output_type": "stream",
     "text": [
      "[INFO 40:25] ----- User batch : 0\n",
      "[INFO 40:28] ----- User batch : 1\n",
      "[INFO 40:32] ----- User batch : 2\n",
      "[INFO 40:35] ----- User batch : 3\n",
      "[INFO 40:38] ----- User batch : 4\n",
      "[INFO 40:40] - learning_users_emb: 0.00625\n",
      "[INFO 40:45] rmse : 1.5365015268325806\n",
      "[INFO 40:45] valid_rmse : 1.9648356437683105\n",
      "[INFO 40:45] valid_loss : nan\n"
     ]
    },
    {
     "name": "stderr",
     "output_type": "stream",
     "text": [
      " 32%|███▏      | 32/100 [10:25<22:03, 19.46s/it]"
     ]
    },
    {
     "name": "stdout",
     "output_type": "stream",
     "text": [
      "[INFO 40:45] ----- User batch : 0\n",
      "[INFO 40:48] ----- User batch : 1\n",
      "[INFO 40:51] ----- User batch : 2\n",
      "[INFO 40:54] ----- User batch : 3\n",
      "[INFO 40:57] ----- User batch : 4\n",
      "[INFO 40:59] - learning_users_emb: 0.00625\n",
      "[INFO 41:04] rmse : 1.5365015268325806\n",
      "[INFO 41:04] valid_rmse : 1.9648356437683105\n",
      "[INFO 41:04] valid_loss : nan\n"
     ]
    },
    {
     "name": "stderr",
     "output_type": "stream",
     "text": [
      " 33%|███▎      | 33/100 [10:44<21:35, 19.34s/it]"
     ]
    },
    {
     "name": "stdout",
     "output_type": "stream",
     "text": [
      "[INFO 41:04] ----- User batch : 0\n",
      "[INFO 41:07] ----- User batch : 1\n",
      "[INFO 41:10] ----- User batch : 2\n",
      "[INFO 41:13] ----- User batch : 3\n",
      "[INFO 41:16] ----- User batch : 4\n",
      "[INFO 41:18] - learning_users_emb: 0.003125\n",
      "[INFO 41:23] rmse : 1.5365015268325806\n",
      "[INFO 41:23] valid_rmse : 1.9648356437683105\n",
      "[INFO 41:23] valid_loss : nan\n"
     ]
    },
    {
     "name": "stderr",
     "output_type": "stream",
     "text": [
      " 34%|███▍      | 34/100 [11:04<21:15, 19.33s/it]"
     ]
    },
    {
     "name": "stdout",
     "output_type": "stream",
     "text": [
      "[INFO 41:23] ----- User batch : 0\n",
      "[INFO 41:26] ----- User batch : 1\n",
      "[INFO 41:29] ----- User batch : 2\n",
      "[INFO 41:33] ----- User batch : 3\n",
      "[INFO 41:36] ----- User batch : 4\n",
      "[INFO 41:37] - learning_users_emb: 0.003125\n",
      "[INFO 41:42] rmse : 1.5365015268325806\n",
      "[INFO 41:42] valid_rmse : 1.9648356437683105\n",
      "[INFO 41:42] valid_loss : nan\n"
     ]
    },
    {
     "name": "stderr",
     "output_type": "stream",
     "text": [
      " 35%|███▌      | 35/100 [11:23<20:50, 19.24s/it]"
     ]
    },
    {
     "name": "stdout",
     "output_type": "stream",
     "text": [
      "[INFO 41:42] ----- User batch : 0\n",
      "[INFO 41:46] ----- User batch : 1\n",
      "[INFO 41:49] ----- User batch : 2\n",
      "[INFO 41:52] ----- User batch : 3\n",
      "[INFO 41:55] ----- User batch : 4\n",
      "[INFO 41:57] - learning_users_emb: 0.003125\n",
      "[INFO 42:01] rmse : 1.5365015268325806\n",
      "[INFO 42:01] valid_rmse : 1.9648356437683105\n",
      "[INFO 42:01] valid_loss : nan\n"
     ]
    },
    {
     "name": "stderr",
     "output_type": "stream",
     "text": [
      " 36%|███▌      | 36/100 [11:42<20:31, 19.25s/it]"
     ]
    },
    {
     "name": "stdout",
     "output_type": "stream",
     "text": [
      "[INFO 42:01] ----- User batch : 0\n",
      "[INFO 42:05] ----- User batch : 1\n",
      "[INFO 42:08] ----- User batch : 2\n",
      "[INFO 42:11] ----- User batch : 3\n",
      "[INFO 42:14] ----- User batch : 4\n",
      "[INFO 42:16] - learning_users_emb: 0.0015625\n",
      "[INFO 42:20] rmse : 1.5365015268325806\n",
      "[INFO 42:20] valid_rmse : 1.9648356437683105\n",
      "[INFO 42:20] valid_loss : nan\n"
     ]
    },
    {
     "name": "stderr",
     "output_type": "stream",
     "text": [
      " 37%|███▋      | 37/100 [12:01<20:07, 19.16s/it]"
     ]
    },
    {
     "name": "stdout",
     "output_type": "stream",
     "text": [
      "[INFO 42:20] ----- User batch : 0\n",
      "[INFO 42:24] ----- User batch : 1\n",
      "[INFO 42:27] ----- User batch : 2\n",
      "[INFO 42:30] ----- User batch : 3\n",
      "[INFO 42:33] ----- User batch : 4\n",
      "[INFO 42:35] - learning_users_emb: 0.0015625\n",
      "[INFO 42:39] rmse : 1.5365015268325806\n",
      "[INFO 42:39] valid_rmse : 1.9648356437683105\n",
      "[INFO 42:39] valid_loss : nan\n"
     ]
    },
    {
     "name": "stderr",
     "output_type": "stream",
     "text": [
      " 38%|███▊      | 38/100 [12:20<19:49, 19.18s/it]"
     ]
    },
    {
     "name": "stdout",
     "output_type": "stream",
     "text": [
      "[INFO 42:40] ----- User batch : 0\n",
      "[INFO 42:43] ----- User batch : 1\n",
      "[INFO 42:46] ----- User batch : 2\n",
      "[INFO 42:49] ----- User batch : 3\n",
      "[INFO 42:52] ----- User batch : 4\n",
      "[INFO 42:54] - learning_users_emb: 0.0015625\n",
      "[INFO 42:59] rmse : 1.5365015268325806\n",
      "[INFO 42:59] valid_rmse : 1.9648356437683105\n",
      "[INFO 42:59] valid_loss : nan\n"
     ]
    },
    {
     "name": "stderr",
     "output_type": "stream",
     "text": [
      " 39%|███▉      | 39/100 [12:40<19:32, 19.22s/it]"
     ]
    },
    {
     "name": "stdout",
     "output_type": "stream",
     "text": [
      "[INFO 42:59] ----- User batch : 0\n",
      "[INFO 43:02] ----- User batch : 1\n",
      "[INFO 43:05] ----- User batch : 2\n",
      "[INFO 43:08] ----- User batch : 3\n",
      "[INFO 43:11] ----- User batch : 4\n",
      "[INFO 43:13] - learning_users_emb: 0.00078125\n",
      "[INFO 43:18] rmse : 1.5365015268325806\n",
      "[INFO 43:18] valid_rmse : 1.9648356437683105\n",
      "[INFO 43:18] valid_loss : nan\n"
     ]
    },
    {
     "name": "stderr",
     "output_type": "stream",
     "text": [
      " 40%|████      | 40/100 [12:59<19:09, 19.16s/it]"
     ]
    },
    {
     "name": "stdout",
     "output_type": "stream",
     "text": [
      "[INFO 43:18] ----- User batch : 0\n",
      "[INFO 43:21] ----- User batch : 1\n",
      "[INFO 43:24] ----- User batch : 2\n",
      "[INFO 43:27] ----- User batch : 3\n",
      "[INFO 43:31] ----- User batch : 4\n",
      "[INFO 43:32] - learning_users_emb: 0.00078125\n",
      "[INFO 43:37] rmse : 1.5365015268325806\n",
      "[INFO 43:37] valid_rmse : 1.9648356437683105\n",
      "[INFO 43:37] valid_loss : nan\n"
     ]
    },
    {
     "name": "stderr",
     "output_type": "stream",
     "text": [
      " 41%|████      | 41/100 [13:18<18:47, 19.11s/it]"
     ]
    },
    {
     "name": "stdout",
     "output_type": "stream",
     "text": [
      "[INFO 43:37] ----- User batch : 0\n",
      "[INFO 43:40] ----- User batch : 1\n",
      "[INFO 43:43] ----- User batch : 2\n",
      "[INFO 43:47] ----- User batch : 3\n",
      "[INFO 43:50] ----- User batch : 4\n",
      "[INFO 43:52] - learning_users_emb: 0.00078125\n",
      "[INFO 43:56] rmse : 1.5365015268325806\n",
      "[INFO 43:56] valid_rmse : 1.9648356437683105\n",
      "[INFO 43:56] valid_loss : nan\n"
     ]
    },
    {
     "name": "stderr",
     "output_type": "stream",
     "text": [
      " 41%|████      | 41/100 [13:37<19:36, 19.94s/it]"
     ]
    },
    {
     "name": "stdout",
     "output_type": "stream",
     "text": [
      "[INFO 43:56] -- END Training --\n",
      "[INFO 43:56] train on cuda\n",
      "Learning users emb shape: torch.Size([3911, 16])\n"
     ]
    },
    {
     "name": "stderr",
     "output_type": "stream",
     "text": [
      "\n",
      "100%|██████████| 6/6 [00:04<00:00,  1.34it/s]\n"
     ]
    },
    {
     "name": "stdout",
     "output_type": "stream",
     "text": [
      "[INFO 44:07] ({0: {'mi_acc': 0.6551070809364319}, 1: {'mi_acc': 0.6551070809364319}, 2: {'mi_acc': 0.6551070809364319}, 3: {'mi_acc': 0.6551070809364319}, 4: {'mi_acc': 0.6551070809364319}, 5: {'mi_acc': 0.6551070809364319}}, {0: {'meta_doa': 0.5286260401098426}, 1: {'meta_doa': 0.5424027882153217}, 2: {'meta_doa': 0.5481644210917941}, 3: {'meta_doa': 0.5526607827560223}, 4: {'meta_doa': 0.5592959383883784}, 5: {'meta_doa': 0.5601373407596857}})\n",
      "[INFO 44:07] 0.04518072457282893\n"
     ]
    }
   ],
   "source": [
    "\n",
    "for meta_trainer in meta_trainers : \n",
    "    config['meta_trainer'] = meta_trainer\n",
    "    logging.info(f'#### meta_trainer : {config[\"meta_trainer\"]} ####')\n",
    "    for i_fold in range(1,2) : \n",
    "        config['i_fold'] = i_fold\n",
    "            \n",
    "        logging.info(f'#### i_fold : {i_fold} ####')\n",
    "        ## Dataframe columns : (user_id, question_id, response, category_id)\n",
    "        train_df = pd.read_csv(\n",
    "            f'../datasets/2-preprocessed_data/{config[\"dataset_name\"]}_train_{i_fold}.csv',\n",
    "            encoding='utf-8', dtype={'student_id': int, 'item_id': int, \"correct\": float,\n",
    "                                                                    \"dimension_id\": int})\n",
    "        valid_df = pd.read_csv(\n",
    "            f'../datasets/2-preprocessed_data/{config[\"dataset_name\"]}_valid_{i_fold}.csv',\n",
    "            encoding='utf-8', dtype={'student_id': int, 'item_id': int, \"correct\": float,\n",
    "                                                                    \"dimension_id\": int})\n",
    "        test_df = pd.read_csv(\n",
    "            f'../datasets/2-preprocessed_data/{config[\"dataset_name\"]}_test_{i_fold}.csv',\n",
    "            encoding='utf-8', dtype={'student_id': int, 'item_id': int, \"correct\": float,\n",
    "                                                                    \"dimension_id\": int})\n",
    "\n",
    "        train_data = liriscat.dataset.CATDataset(train_df, concept_map, metadata, config,nb_modalities)\n",
    "        valid_data = liriscat.dataset.EvalDataset(valid_df, concept_map, metadata, config,nb_modalities)\n",
    "        test_data = liriscat.dataset.EvalDataset(test_df, concept_map, metadata, config,nb_modalities)\n",
    "\n",
    "        for seed in range(1) :\n",
    "            config['seed'] = seed\n",
    "            logging.info(f'#### seed : {seed} ####')\n",
    "\n",
    "            train_data.reset_rng()\n",
    "            valid_data.reset_rng()\n",
    "            test_data.reset_rng()\n",
    "\n",
    "            S = liriscat.selectionStrategy.Random(metadata,**config)\n",
    "            S.init_models(train_data, valid_data)\n",
    "            S.train(train_data, valid_data)\n",
    "            liriscat.utils.set_seed(0)\n",
    "            S.reset_rng()\n",
    "            d = (S.evaluate_test(test_data, train_data, valid_data))\n",
    "            logging.info(d)\n",
    "            logging.info(liriscat.utils.pareto_index(d))\n",
    "\n",
    "    torch.cuda.empty_cache()"
   ]
  },
  {
   "cell_type": "code",
   "execution_count": 7,
   "id": "64d7fb59",
   "metadata": {},
   "outputs": [
    {
     "data": {
      "text/plain": [
       "36"
      ]
     },
     "execution_count": 7,
     "metadata": {},
     "output_type": "execute_result"
    }
   ],
   "source": [
    "S.best_epoch"
   ]
  },
  {
   "cell_type": "code",
   "execution_count": 13,
   "id": "6e9d20cf",
   "metadata": {},
   "outputs": [
    {
     "name": "stdout",
     "output_type": "stream",
     "text": [
      "[INFO 27:16] #### seed : 0 ####\n",
      "[INFO 27:16] Random_cont_model\n",
      "[INFO 27:16] compiling CDM model\n",
      "[INFO 27:16] compiling selection model\n"
     ]
    },
    {
     "name": "stdout",
     "output_type": "stream",
     "text": [
      "[INFO 27:16] ------- START Training\n",
      "[INFO 27:16] train on cuda\n"
     ]
    },
    {
     "name": "stderr",
     "output_type": "stream",
     "text": [
      "/home/arthur/liriscat/liriscat/selectionStrategy/random.py:30: UserWarning: get_params() Notimplemented\n",
      "  warnings.warn('get_params() Notimplemented')\n",
      "  0%|          | 0/100 [00:00<?, ?it/s]"
     ]
    },
    {
     "name": "stdout",
     "output_type": "stream",
     "text": [
      "[INFO 27:17] ----- User batch : 0\n",
      "[INFO 27:20] ----- User batch : 1\n",
      "[INFO 27:22] ----- User batch : 2\n",
      "[INFO 27:25] ----- User batch : 3\n",
      "[INFO 27:28] ----- User batch : 4\n",
      "[INFO 27:30] - learning_users_emb gn: 138.84461975097656\n",
      "[INFO 27:30] - learning_users_emb norm: 2.273587942123413\n",
      "[INFO 27:30] - learning_users_emb: 0.5\n",
      "[INFO 27:34] rmse : 0.6865495443344116\n",
      "[INFO 27:34] valid_rmse : 0.8779405951499939\n",
      "[INFO 27:34] valid_loss : 1.123011589050293\n"
     ]
    },
    {
     "name": "stderr",
     "output_type": "stream",
     "text": [
      "  1%|          | 1/100 [00:17<28:41, 17.39s/it]"
     ]
    },
    {
     "name": "stdout",
     "output_type": "stream",
     "text": [
      "[INFO 27:34] ----- User batch : 0\n",
      "[INFO 27:37] ----- User batch : 1\n",
      "[INFO 27:40] ----- User batch : 2\n",
      "[INFO 27:43] ----- User batch : 3\n",
      "[INFO 27:46] ----- User batch : 4\n",
      "[INFO 27:47] - learning_users_emb gn: 87.67214965820312\n",
      "[INFO 27:47] - learning_users_emb norm: 2.1427760124206543\n",
      "[INFO 27:47] - learning_users_emb: 0.5\n",
      "[INFO 27:51] rmse : 0.6148794293403625\n",
      "[INFO 27:51] valid_rmse : 0.7862908244132996\n",
      "[INFO 27:51] valid_loss : 1.058882236480713\n"
     ]
    },
    {
     "name": "stderr",
     "output_type": "stream",
     "text": [
      "  2%|▏         | 2/100 [00:34<28:35, 17.50s/it]"
     ]
    },
    {
     "name": "stdout",
     "output_type": "stream",
     "text": [
      "[INFO 27:52] ----- User batch : 0\n",
      "[INFO 27:55] ----- User batch : 1\n",
      "[INFO 27:57] ----- User batch : 2\n",
      "[INFO 28:00] ----- User batch : 3\n",
      "[INFO 28:03] ----- User batch : 4\n",
      "[INFO 28:05] - learning_users_emb gn: 60.63021469116211\n",
      "[INFO 28:05] - learning_users_emb norm: 1.5575746297836304\n",
      "[INFO 28:05] - learning_users_emb: 0.5\n",
      "[INFO 28:09] rmse : 0.6104063391685486\n",
      "[INFO 28:09] valid_rmse : 0.7805707454681396\n",
      "[INFO 28:09] valid_loss : 1.0423431396484375\n"
     ]
    },
    {
     "name": "stderr",
     "output_type": "stream",
     "text": [
      "  3%|▎         | 3/100 [00:52<28:17, 17.50s/it]"
     ]
    },
    {
     "name": "stdout",
     "output_type": "stream",
     "text": [
      "[INFO 28:09] ----- User batch : 0\n",
      "[INFO 28:12] ----- User batch : 1\n",
      "[INFO 28:15] ----- User batch : 2\n",
      "[INFO 28:18] ----- User batch : 3\n",
      "[INFO 28:21] ----- User batch : 4\n",
      "[INFO 28:22] - learning_users_emb gn: 67.5755615234375\n",
      "[INFO 28:22] - learning_users_emb norm: 1.2737823724746704\n",
      "[INFO 28:22] - learning_users_emb: 0.5\n",
      "[INFO 28:27] rmse : 0.6217290759086609\n",
      "[INFO 28:27] valid_rmse : 0.7950499653816223\n",
      "[INFO 28:27] valid_loss : 1.0424046516418457\n"
     ]
    },
    {
     "name": "stderr",
     "output_type": "stream",
     "text": [
      "  4%|▍         | 4/100 [01:10<28:03, 17.54s/it]"
     ]
    },
    {
     "name": "stdout",
     "output_type": "stream",
     "text": [
      "[INFO 28:27] ----- User batch : 0\n",
      "[INFO 28:30] ----- User batch : 1\n",
      "[INFO 28:33] ----- User batch : 2\n",
      "[INFO 28:35] ----- User batch : 3\n",
      "[INFO 28:38] ----- User batch : 4\n",
      "[INFO 28:40] - learning_users_emb gn: 65.07903289794922\n",
      "[INFO 28:40] - learning_users_emb norm: 1.3828895092010498\n",
      "[INFO 28:40] - learning_users_emb: 0.5\n",
      "[INFO 28:44] rmse : 0.6099980473518372\n",
      "[INFO 28:44] valid_rmse : 0.780048668384552\n",
      "[INFO 28:44] valid_loss : 1.0415384769439697\n"
     ]
    },
    {
     "name": "stderr",
     "output_type": "stream",
     "text": [
      "  5%|▌         | 5/100 [01:27<27:49, 17.57s/it]"
     ]
    },
    {
     "name": "stdout",
     "output_type": "stream",
     "text": [
      "[INFO 28:44] ----- User batch : 0\n",
      "[INFO 28:47] ----- User batch : 1\n",
      "[INFO 28:50] ----- User batch : 2\n",
      "[INFO 28:53] ----- User batch : 3\n",
      "[INFO 28:56] ----- User batch : 4\n",
      "[INFO 28:57] - learning_users_emb gn: 64.98262786865234\n",
      "[INFO 28:57] - learning_users_emb norm: 1.6281927824020386\n",
      "[INFO 28:57] - learning_users_emb: 0.5\n",
      "[INFO 29:02] rmse : 0.623729407787323\n",
      "[INFO 29:02] valid_rmse : 0.7976078987121582\n",
      "[INFO 29:02] valid_loss : 1.0307999849319458\n"
     ]
    },
    {
     "name": "stderr",
     "output_type": "stream",
     "text": [
      "  6%|▌         | 6/100 [01:45<27:31, 17.57s/it]"
     ]
    },
    {
     "name": "stdout",
     "output_type": "stream",
     "text": [
      "[INFO 29:02] ----- User batch : 0\n",
      "[INFO 29:05] ----- User batch : 1\n",
      "[INFO 29:08] ----- User batch : 2\n",
      "[INFO 29:11] ----- User batch : 3\n",
      "[INFO 29:13] ----- User batch : 4\n",
      "[INFO 29:15] - learning_users_emb gn: 56.271095275878906\n",
      "[INFO 29:15] - learning_users_emb norm: 1.7699745893478394\n",
      "[INFO 29:15] - learning_users_emb: 0.5\n",
      "[INFO 29:19] rmse : 0.6328492760658264\n",
      "[INFO 29:19] valid_rmse : 0.8092701435089111\n",
      "[INFO 29:19] valid_loss : 1.02901291847229\n"
     ]
    },
    {
     "name": "stderr",
     "output_type": "stream",
     "text": [
      "  7%|▋         | 7/100 [02:02<27:15, 17.58s/it]"
     ]
    },
    {
     "name": "stdout",
     "output_type": "stream",
     "text": [
      "[INFO 29:20] ----- User batch : 0\n",
      "[INFO 29:22] ----- User batch : 1\n",
      "[INFO 29:25] ----- User batch : 2\n",
      "[INFO 29:28] ----- User batch : 3\n",
      "[INFO 29:31] ----- User batch : 4\n",
      "[INFO 29:33] - learning_users_emb gn: 61.109962463378906\n",
      "[INFO 29:33] - learning_users_emb norm: 1.7587628364562988\n",
      "[INFO 29:33] - learning_users_emb: 0.5\n",
      "[INFO 29:37] rmse : 0.6254843473434448\n",
      "[INFO 29:37] valid_rmse : 0.7998520731925964\n",
      "[INFO 29:37] valid_loss : 1.0158121585845947\n"
     ]
    },
    {
     "name": "stderr",
     "output_type": "stream",
     "text": [
      "  8%|▊         | 8/100 [02:20<26:58, 17.59s/it]"
     ]
    },
    {
     "name": "stdout",
     "output_type": "stream",
     "text": [
      "[INFO 29:37] ----- User batch : 0\n",
      "[INFO 29:40] ----- User batch : 1\n",
      "[INFO 29:43] ----- User batch : 2\n",
      "[INFO 29:46] ----- User batch : 3\n",
      "[INFO 29:49] ----- User batch : 4\n",
      "[INFO 29:50] - learning_users_emb gn: 56.264713287353516\n",
      "[INFO 29:50] - learning_users_emb norm: 1.5773711204528809\n",
      "[INFO 29:50] - learning_users_emb: 0.5\n",
      "[INFO 29:55] rmse : 0.6144741177558899\n",
      "[INFO 29:55] valid_rmse : 0.7857725024223328\n",
      "[INFO 29:55] valid_loss : 0.9955371618270874\n"
     ]
    },
    {
     "name": "stderr",
     "output_type": "stream",
     "text": [
      "  9%|▉         | 9/100 [02:38<26:40, 17.59s/it]"
     ]
    },
    {
     "name": "stdout",
     "output_type": "stream",
     "text": [
      "[INFO 29:55] ----- User batch : 0\n",
      "[INFO 29:58] ----- User batch : 1\n",
      "[INFO 30:01] ----- User batch : 2\n",
      "[INFO 30:04] ----- User batch : 3\n",
      "[INFO 30:06] ----- User batch : 4\n",
      "[INFO 30:08] - learning_users_emb gn: 50.70399475097656\n",
      "[INFO 30:08] - learning_users_emb norm: 1.286443829536438\n",
      "[INFO 30:08] - learning_users_emb: 0.5\n",
      "[INFO 30:12] rmse : 0.6342648863792419\n",
      "[INFO 30:12] valid_rmse : 0.8110803961753845\n",
      "[INFO 30:12] valid_loss : 0.9758765697479248\n"
     ]
    },
    {
     "name": "stderr",
     "output_type": "stream",
     "text": [
      " 10%|█         | 10/100 [02:55<26:25, 17.62s/it]"
     ]
    },
    {
     "name": "stdout",
     "output_type": "stream",
     "text": [
      "[INFO 30:12] ----- User batch : 0\n",
      "[INFO 30:15] ----- User batch : 1\n",
      "[INFO 30:18] ----- User batch : 2\n",
      "[INFO 30:21] ----- User batch : 3\n",
      "[INFO 30:24] ----- User batch : 4\n",
      "[INFO 30:25] - learning_users_emb gn: 51.141048431396484\n",
      "[INFO 30:25] - learning_users_emb norm: 0.9751302599906921\n",
      "[INFO 30:25] - learning_users_emb: 0.5\n",
      "[INFO 30:30] rmse : 0.6311148405075073\n",
      "[INFO 30:30] valid_rmse : 0.8070521950721741\n",
      "[INFO 30:30] valid_loss : 0.9598336815834045\n"
     ]
    },
    {
     "name": "stderr",
     "output_type": "stream",
     "text": [
      " 11%|█         | 11/100 [03:13<25:58, 17.51s/it]"
     ]
    },
    {
     "name": "stdout",
     "output_type": "stream",
     "text": [
      "[INFO 30:30] ----- User batch : 0\n",
      "[INFO 30:33] ----- User batch : 1\n",
      "[INFO 30:36] ----- User batch : 2\n",
      "[INFO 30:39] ----- User batch : 3\n",
      "[INFO 30:41] ----- User batch : 4\n",
      "[INFO 30:43] - learning_users_emb gn: 44.26057052612305\n",
      "[INFO 30:43] - learning_users_emb norm: 0.7146409153938293\n",
      "[INFO 30:43] - learning_users_emb: 0.5\n",
      "[INFO 30:47] rmse : 0.62196946144104\n",
      "[INFO 30:47] valid_rmse : 0.795357346534729\n",
      "[INFO 30:47] valid_loss : 0.9597611427307129\n"
     ]
    },
    {
     "name": "stderr",
     "output_type": "stream",
     "text": [
      " 12%|█▏        | 12/100 [03:30<25:44, 17.55s/it]"
     ]
    },
    {
     "name": "stdout",
     "output_type": "stream",
     "text": [
      "[INFO 30:47] ----- User batch : 0\n",
      "[INFO 30:50] ----- User batch : 1\n",
      "[INFO 30:53] ----- User batch : 2\n",
      "[INFO 30:56] ----- User batch : 3\n",
      "[INFO 30:59] ----- User batch : 4\n",
      "[INFO 31:01] - learning_users_emb gn: 37.458396911621094\n",
      "[INFO 31:01] - learning_users_emb norm: 0.6341428160667419\n",
      "[INFO 31:01] - learning_users_emb: 0.5\n",
      "[INFO 31:05] rmse : 0.6359124779701233\n",
      "[INFO 31:05] valid_rmse : 0.813187301158905\n",
      "[INFO 31:05] valid_loss : 0.9692115783691406\n"
     ]
    },
    {
     "name": "stderr",
     "output_type": "stream",
     "text": [
      " 13%|█▎        | 13/100 [03:48<25:30, 17.59s/it]"
     ]
    },
    {
     "name": "stdout",
     "output_type": "stream",
     "text": [
      "[INFO 31:05] ----- User batch : 0\n",
      "[INFO 31:08] ----- User batch : 1\n",
      "[INFO 31:11] ----- User batch : 2\n",
      "[INFO 31:14] ----- User batch : 3\n",
      "[INFO 31:17] ----- User batch : 4\n",
      "[INFO 31:18] - learning_users_emb gn: 40.69574737548828\n",
      "[INFO 31:18] - learning_users_emb norm: 0.7575798630714417\n",
      "[INFO 31:18] - learning_users_emb: 0.5\n",
      "[INFO 31:23] rmse : 0.6326918601989746\n",
      "[INFO 31:23] valid_rmse : 0.8090688586235046\n",
      "[INFO 31:23] valid_loss : 0.9791767001152039\n"
     ]
    },
    {
     "name": "stderr",
     "output_type": "stream",
     "text": [
      " 14%|█▍        | 14/100 [04:06<25:16, 17.63s/it]"
     ]
    },
    {
     "name": "stdout",
     "output_type": "stream",
     "text": [
      "[INFO 31:23] ----- User batch : 0\n",
      "[INFO 31:26] ----- User batch : 1\n",
      "[INFO 31:29] ----- User batch : 2\n",
      "[INFO 31:31] ----- User batch : 3\n",
      "[INFO 31:34] ----- User batch : 4\n",
      "[INFO 31:36] - learning_users_emb gn: 42.028133392333984\n",
      "[INFO 31:36] - learning_users_emb norm: 0.9092956781387329\n",
      "[INFO 31:36] - learning_users_emb: 0.25\n",
      "[INFO 31:40] rmse : 0.6076247096061707\n",
      "[INFO 31:40] valid_rmse : 0.7770136594772339\n",
      "[INFO 31:40] valid_loss : 0.9811474680900574\n"
     ]
    },
    {
     "name": "stderr",
     "output_type": "stream",
     "text": [
      " 15%|█▌        | 15/100 [04:23<24:55, 17.59s/it]"
     ]
    },
    {
     "name": "stdout",
     "output_type": "stream",
     "text": [
      "[INFO 31:40] ----- User batch : 0\n",
      "[INFO 31:43] ----- User batch : 1\n",
      "[INFO 31:46] ----- User batch : 2\n",
      "[INFO 31:49] ----- User batch : 3\n",
      "[INFO 31:52] ----- User batch : 4\n",
      "[INFO 31:53] - learning_users_emb gn: 41.469207763671875\n",
      "[INFO 31:53] - learning_users_emb norm: 0.9393404126167297\n",
      "[INFO 31:53] - learning_users_emb: 0.25\n",
      "[INFO 31:57] rmse : 0.6376338601112366\n",
      "[INFO 31:57] valid_rmse : 0.815388560295105\n",
      "[INFO 31:57] valid_loss : 0.9790186882019043\n"
     ]
    },
    {
     "name": "stderr",
     "output_type": "stream",
     "text": [
      " 16%|█▌        | 16/100 [04:41<24:33, 17.54s/it]"
     ]
    },
    {
     "name": "stdout",
     "output_type": "stream",
     "text": [
      "[INFO 31:58] ----- User batch : 0\n",
      "[INFO 32:01] ----- User batch : 1\n",
      "[INFO 32:03] ----- User batch : 2\n",
      "[INFO 32:06] ----- User batch : 3\n",
      "[INFO 32:09] ----- User batch : 4\n",
      "[INFO 32:11] - learning_users_emb gn: 40.561737060546875\n",
      "[INFO 32:11] - learning_users_emb norm: 0.914777398109436\n",
      "[INFO 32:11] - learning_users_emb: 0.25\n",
      "[INFO 32:15] rmse : 0.6110590100288391\n",
      "[INFO 32:15] valid_rmse : 0.7814053893089294\n",
      "[INFO 32:15] valid_loss : 0.9744906425476074\n"
     ]
    },
    {
     "name": "stderr",
     "output_type": "stream",
     "text": [
      " 17%|█▋        | 17/100 [04:58<24:07, 17.44s/it]"
     ]
    },
    {
     "name": "stdout",
     "output_type": "stream",
     "text": [
      "[INFO 32:15] ----- User batch : 0\n",
      "[INFO 32:18] ----- User batch : 1\n",
      "[INFO 32:21] ----- User batch : 2\n",
      "[INFO 32:24] ----- User batch : 3\n",
      "[INFO 32:27] ----- User batch : 4\n",
      "[INFO 32:28] - learning_users_emb gn: 38.364925384521484\n",
      "[INFO 32:28] - learning_users_emb norm: 0.8533579111099243\n",
      "[INFO 32:28] - learning_users_emb: 0.125\n",
      "[INFO 32:32] rmse : 0.5947787761688232\n",
      "[INFO 32:32] valid_rmse : 0.760586678981781\n",
      "[INFO 32:32] valid_loss : 0.9714453220367432\n"
     ]
    },
    {
     "name": "stderr",
     "output_type": "stream",
     "text": [
      " 18%|█▊        | 18/100 [05:15<23:49, 17.44s/it]"
     ]
    },
    {
     "name": "stdout",
     "output_type": "stream",
     "text": [
      "[INFO 32:32] ----- User batch : 0\n",
      "[INFO 32:35] ----- User batch : 1\n",
      "[INFO 32:38] ----- User batch : 2\n",
      "[INFO 32:41] ----- User batch : 3\n",
      "[INFO 32:44] ----- User batch : 4\n",
      "[INFO 32:45] - learning_users_emb gn: 31.103748321533203\n",
      "[INFO 32:45] - learning_users_emb norm: 0.8086133003234863\n",
      "[INFO 32:45] - learning_users_emb: 0.125\n",
      "[INFO 32:50] rmse : 0.6007800698280334\n",
      "[INFO 32:50] valid_rmse : 0.7682609558105469\n",
      "[INFO 32:50] valid_loss : 0.9678394198417664\n"
     ]
    },
    {
     "name": "stderr",
     "output_type": "stream",
     "text": [
      " 19%|█▉        | 19/100 [05:33<23:31, 17.43s/it]"
     ]
    },
    {
     "name": "stdout",
     "output_type": "stream",
     "text": [
      "[INFO 32:50] ----- User batch : 0\n",
      "[INFO 32:53] ----- User batch : 1\n",
      "[INFO 32:55] ----- User batch : 2\n",
      "[INFO 32:58] ----- User batch : 3\n",
      "[INFO 33:01] ----- User batch : 4\n",
      "[INFO 33:03] - learning_users_emb gn: 28.636110305786133\n",
      "[INFO 33:03] - learning_users_emb norm: 0.7521414160728455\n",
      "[INFO 33:03] - learning_users_emb: 0.125\n",
      "[INFO 33:07] rmse : 0.5997840166091919\n",
      "[INFO 33:07] valid_rmse : 0.7669872045516968\n",
      "[INFO 33:07] valid_loss : 0.9637187719345093\n"
     ]
    },
    {
     "name": "stderr",
     "output_type": "stream",
     "text": [
      " 20%|██        | 20/100 [05:50<23:17, 17.47s/it]"
     ]
    },
    {
     "name": "stdout",
     "output_type": "stream",
     "text": [
      "[INFO 33:07] ----- User batch : 0\n",
      "[INFO 33:10] ----- User batch : 1\n",
      "[INFO 33:13] ----- User batch : 2\n",
      "[INFO 33:16] ----- User batch : 3\n",
      "[INFO 33:19] ----- User batch : 4\n",
      "[INFO 33:20] - learning_users_emb gn: 27.1689453125\n",
      "[INFO 33:20] - learning_users_emb norm: 0.681997537612915\n",
      "[INFO 33:20] - learning_users_emb: 0.0625\n",
      "[INFO 33:25] rmse : 0.6054888963699341\n",
      "[INFO 33:25] valid_rmse : 0.7742824554443359\n",
      "[INFO 33:25] valid_loss : 0.9613287448883057\n"
     ]
    },
    {
     "name": "stderr",
     "output_type": "stream",
     "text": [
      " 21%|██        | 21/100 [06:08<22:59, 17.46s/it]"
     ]
    },
    {
     "name": "stdout",
     "output_type": "stream",
     "text": [
      "[INFO 33:25] ----- User batch : 0\n",
      "[INFO 33:28] ----- User batch : 1\n",
      "[INFO 33:30] ----- User batch : 2\n",
      "[INFO 33:33] ----- User batch : 3\n",
      "[INFO 33:36] ----- User batch : 4\n",
      "[INFO 33:38] - learning_users_emb gn: 22.374860763549805\n",
      "[INFO 33:38] - learning_users_emb norm: 0.6403478384017944\n",
      "[INFO 33:38] - learning_users_emb: 0.0625\n",
      "[INFO 33:42] rmse : 0.6133378744125366\n",
      "[INFO 33:42] valid_rmse : 0.7843195199966431\n",
      "[INFO 33:42] valid_loss : 0.9586713910102844\n"
     ]
    },
    {
     "name": "stderr",
     "output_type": "stream",
     "text": [
      " 22%|██▏       | 22/100 [06:25<22:41, 17.46s/it]"
     ]
    },
    {
     "name": "stdout",
     "output_type": "stream",
     "text": [
      "[INFO 33:42] ----- User batch : 0\n",
      "[INFO 33:45] ----- User batch : 1\n",
      "[INFO 33:48] ----- User batch : 2\n",
      "[INFO 33:51] ----- User batch : 3\n",
      "[INFO 33:54] ----- User batch : 4\n",
      "[INFO 33:55] - learning_users_emb gn: 23.27799415588379\n",
      "[INFO 33:55] - learning_users_emb norm: 0.5935508608818054\n",
      "[INFO 33:55] - learning_users_emb: 0.0625\n",
      "[INFO 33:59] rmse : 0.6130940914154053\n",
      "[INFO 33:59] valid_rmse : 0.7840077877044678\n",
      "[INFO 33:59] valid_loss : 0.9557928442955017\n"
     ]
    },
    {
     "name": "stderr",
     "output_type": "stream",
     "text": [
      " 23%|██▎       | 23/100 [06:42<22:24, 17.46s/it]"
     ]
    },
    {
     "name": "stdout",
     "output_type": "stream",
     "text": [
      "[INFO 34:00] ----- User batch : 0\n",
      "[INFO 34:03] ----- User batch : 1\n",
      "[INFO 34:05] ----- User batch : 2\n",
      "[INFO 34:08] ----- User batch : 3\n",
      "[INFO 34:11] ----- User batch : 4\n",
      "[INFO 34:13] - learning_users_emb gn: 20.290821075439453\n",
      "[INFO 34:13] - learning_users_emb norm: 0.5416680574417114\n",
      "[INFO 34:13] - learning_users_emb: 0.0625\n",
      "[INFO 34:17] rmse : 0.5940243601799011\n",
      "[INFO 34:17] valid_rmse : 0.7596219182014465\n",
      "[INFO 34:17] valid_loss : 0.952880859375\n"
     ]
    },
    {
     "name": "stderr",
     "output_type": "stream",
     "text": [
      " 24%|██▍       | 24/100 [07:00<22:09, 17.49s/it]"
     ]
    },
    {
     "name": "stdout",
     "output_type": "stream",
     "text": [
      "[INFO 34:17] ----- User batch : 0\n",
      "[INFO 34:20] ----- User batch : 1\n",
      "[INFO 34:23] ----- User batch : 2\n",
      "[INFO 34:26] ----- User batch : 3\n",
      "[INFO 34:29] ----- User batch : 4\n",
      "[INFO 34:30] - learning_users_emb gn: 25.1361141204834\n",
      "[INFO 34:30] - learning_users_emb norm: 0.4887464642524719\n",
      "[INFO 34:30] - learning_users_emb: 0.0625\n",
      "[INFO 34:34] rmse : 0.5887163281440735\n",
      "[INFO 34:34] valid_rmse : 0.752834141254425\n",
      "[INFO 34:34] valid_loss : 0.9498112797737122\n"
     ]
    },
    {
     "name": "stderr",
     "output_type": "stream",
     "text": [
      " 25%|██▌       | 25/100 [07:17<21:50, 17.47s/it]"
     ]
    },
    {
     "name": "stdout",
     "output_type": "stream",
     "text": [
      "[INFO 34:35] ----- User batch : 0\n",
      "[INFO 34:38] ----- User batch : 1\n",
      "[INFO 34:40] ----- User batch : 2\n",
      "[INFO 34:43] ----- User batch : 3\n",
      "[INFO 34:46] ----- User batch : 4\n",
      "[INFO 34:48] - learning_users_emb gn: 18.531389236450195\n",
      "[INFO 34:48] - learning_users_emb norm: 0.4338422119617462\n",
      "[INFO 34:48] - learning_users_emb: 0.0625\n",
      "[INFO 34:52] rmse : 0.5805345773696899\n",
      "[INFO 34:52] valid_rmse : 0.7423715591430664\n",
      "[INFO 34:52] valid_loss : 0.946938693523407\n"
     ]
    },
    {
     "name": "stderr",
     "output_type": "stream",
     "text": [
      " 26%|██▌       | 26/100 [07:35<21:33, 17.47s/it]"
     ]
    },
    {
     "name": "stdout",
     "output_type": "stream",
     "text": [
      "[INFO 34:52] ----- User batch : 0\n",
      "[INFO 34:55] ----- User batch : 1\n",
      "[INFO 34:58] ----- User batch : 2\n",
      "[INFO 35:01] ----- User batch : 3\n",
      "[INFO 35:04] ----- User batch : 4\n",
      "[INFO 35:05] - learning_users_emb gn: 15.349940299987793\n",
      "[INFO 35:05] - learning_users_emb norm: 0.38281258940696716\n",
      "[INFO 35:05] - learning_users_emb: 0.0625\n",
      "[INFO 35:09] rmse : 0.6004482507705688\n",
      "[INFO 35:09] valid_rmse : 0.7678366303443909\n",
      "[INFO 35:09] valid_loss : 0.9443579912185669\n"
     ]
    },
    {
     "name": "stderr",
     "output_type": "stream",
     "text": [
      " 27%|██▋       | 27/100 [07:52<21:16, 17.48s/it]"
     ]
    },
    {
     "name": "stdout",
     "output_type": "stream",
     "text": [
      "[INFO 35:10] ----- User batch : 0\n",
      "[INFO 35:12] ----- User batch : 1\n",
      "[INFO 35:15] ----- User batch : 2\n",
      "[INFO 35:18] ----- User batch : 3\n",
      "[INFO 35:21] ----- User batch : 4\n",
      "[INFO 35:23] - learning_users_emb gn: 15.065633773803711\n",
      "[INFO 35:23] - learning_users_emb norm: 0.3395824730396271\n",
      "[INFO 35:23] - learning_users_emb: 0.0625\n",
      "[INFO 35:27] rmse : 0.6004482507705688\n",
      "[INFO 35:27] valid_rmse : 0.7678366303443909\n",
      "[INFO 35:27] valid_loss : 0.9421201348304749\n"
     ]
    },
    {
     "name": "stderr",
     "output_type": "stream",
     "text": [
      " 28%|██▊       | 28/100 [08:10<20:59, 17.49s/it]"
     ]
    },
    {
     "name": "stdout",
     "output_type": "stream",
     "text": [
      "[INFO 35:27] ----- User batch : 0\n",
      "[INFO 35:30] ----- User batch : 1\n",
      "[INFO 35:33] ----- User batch : 2\n",
      "[INFO 35:36] ----- User batch : 3\n",
      "[INFO 35:39] ----- User batch : 4\n",
      "[INFO 35:40] - learning_users_emb gn: 16.650419235229492\n",
      "[INFO 35:40] - learning_users_emb norm: 0.3088501989841461\n",
      "[INFO 35:40] - learning_users_emb: 0.0625\n",
      "[INFO 35:44] rmse : 0.60507732629776\n",
      "[INFO 35:44] valid_rmse : 0.7737561464309692\n",
      "[INFO 35:44] valid_loss : 0.9402797222137451\n"
     ]
    },
    {
     "name": "stderr",
     "output_type": "stream",
     "text": [
      " 29%|██▉       | 29/100 [08:27<20:41, 17.49s/it]"
     ]
    },
    {
     "name": "stdout",
     "output_type": "stream",
     "text": [
      "[INFO 35:45] ----- User batch : 0\n",
      "[INFO 35:47] ----- User batch : 1\n",
      "[INFO 35:50] ----- User batch : 2\n",
      "[INFO 35:53] ----- User batch : 3\n",
      "[INFO 35:56] ----- User batch : 4\n",
      "[INFO 35:58] - learning_users_emb gn: 13.740949630737305\n",
      "[INFO 35:58] - learning_users_emb norm: 0.2941414415836334\n",
      "[INFO 35:58] - learning_users_emb: 0.0625\n",
      "[INFO 36:02] rmse : 0.60507732629776\n",
      "[INFO 36:02] valid_rmse : 0.7737561464309692\n",
      "[INFO 36:02] valid_loss : 0.9389246702194214\n"
     ]
    },
    {
     "name": "stderr",
     "output_type": "stream",
     "text": [
      " 30%|███       | 30/100 [08:45<20:25, 17.50s/it]"
     ]
    },
    {
     "name": "stdout",
     "output_type": "stream",
     "text": [
      "[INFO 36:02] ----- User batch : 0\n",
      "[INFO 36:05] ----- User batch : 1\n",
      "[INFO 36:08] ----- User batch : 2\n",
      "[INFO 36:11] ----- User batch : 3\n",
      "[INFO 36:14] ----- User batch : 4\n",
      "[INFO 36:15] - learning_users_emb gn: 12.7085599899292\n",
      "[INFO 36:15] - learning_users_emb norm: 0.29636430740356445\n",
      "[INFO 36:15] - learning_users_emb: 0.0625\n",
      "[INFO 36:19] rmse : 0.60507732629776\n",
      "[INFO 36:19] valid_rmse : 0.7737561464309692\n",
      "[INFO 36:19] valid_loss : 0.9381114840507507\n"
     ]
    },
    {
     "name": "stderr",
     "output_type": "stream",
     "text": [
      " 31%|███       | 31/100 [09:02<20:06, 17.49s/it]"
     ]
    },
    {
     "name": "stdout",
     "output_type": "stream",
     "text": [
      "[INFO 36:20] ----- User batch : 0\n",
      "[INFO 36:22] ----- User batch : 1\n",
      "[INFO 36:25] ----- User batch : 2\n",
      "[INFO 36:28] ----- User batch : 3\n",
      "[INFO 36:31] ----- User batch : 4\n",
      "[INFO 36:33] - learning_users_emb gn: 11.634895324707031\n",
      "[INFO 36:33] - learning_users_emb norm: 0.3135708272457123\n",
      "[INFO 36:33] - learning_users_emb: 0.0625\n",
      "[INFO 36:37] rmse : 0.60507732629776\n",
      "[INFO 36:37] valid_rmse : 0.7737561464309692\n",
      "[INFO 36:37] valid_loss : 0.9378718733787537\n"
     ]
    },
    {
     "name": "stderr",
     "output_type": "stream",
     "text": [
      " 32%|███▏      | 32/100 [09:20<19:50, 17.51s/it]"
     ]
    },
    {
     "name": "stdout",
     "output_type": "stream",
     "text": [
      "[INFO 36:37] ----- User batch : 0\n",
      "[INFO 36:40] ----- User batch : 1\n",
      "[INFO 36:43] ----- User batch : 2\n",
      "[INFO 36:46] ----- User batch : 3\n",
      "[INFO 36:49] ----- User batch : 4\n",
      "[INFO 36:50] - learning_users_emb gn: 14.45442008972168\n",
      "[INFO 36:50] - learning_users_emb norm: 0.33903202414512634\n",
      "[INFO 36:50] - learning_users_emb: 0.0625\n",
      "[INFO 36:54] rmse : 0.60507732629776\n",
      "[INFO 36:54] valid_rmse : 0.7737561464309692\n",
      "[INFO 36:54] valid_loss : 0.938046395778656\n"
     ]
    },
    {
     "name": "stderr",
     "output_type": "stream",
     "text": [
      " 33%|███▎      | 33/100 [09:38<19:33, 17.52s/it]"
     ]
    },
    {
     "name": "stdout",
     "output_type": "stream",
     "text": [
      "[INFO 36:55] ----- User batch : 0\n",
      "[INFO 36:58] ----- User batch : 1\n",
      "[INFO 37:00] ----- User batch : 2\n",
      "[INFO 37:03] ----- User batch : 3\n",
      "[INFO 37:06] ----- User batch : 4\n",
      "[INFO 37:08] - learning_users_emb gn: 13.844661712646484\n",
      "[INFO 37:08] - learning_users_emb norm: 0.3669893145561218\n",
      "[INFO 37:08] - learning_users_emb: 0.0625\n",
      "[INFO 37:12] rmse : 0.6144741177558899\n",
      "[INFO 37:12] valid_rmse : 0.7857725024223328\n",
      "[INFO 37:12] valid_loss : 0.938416063785553\n"
     ]
    },
    {
     "name": "stderr",
     "output_type": "stream",
     "text": [
      " 34%|███▍      | 34/100 [09:55<19:10, 17.43s/it]"
     ]
    },
    {
     "name": "stdout",
     "output_type": "stream",
     "text": [
      "[INFO 37:12] ----- User batch : 0\n",
      "[INFO 37:15] ----- User batch : 1\n",
      "[INFO 37:18] ----- User batch : 2\n",
      "[INFO 37:21] ----- User batch : 3\n",
      "[INFO 37:24] ----- User batch : 4\n",
      "[INFO 37:25] - learning_users_emb gn: 17.282094955444336\n",
      "[INFO 37:25] - learning_users_emb norm: 0.3928260803222656\n",
      "[INFO 37:25] - learning_users_emb: 0.0625\n",
      "[INFO 37:29] rmse : 0.6128502488136292\n",
      "[INFO 37:29] valid_rmse : 0.7836959362030029\n",
      "[INFO 37:29] valid_loss : 0.9387999176979065\n"
     ]
    },
    {
     "name": "stderr",
     "output_type": "stream",
     "text": [
      " 35%|███▌      | 35/100 [10:12<18:54, 17.45s/it]"
     ]
    },
    {
     "name": "stdout",
     "output_type": "stream",
     "text": [
      "[INFO 37:29] ----- User batch : 0\n",
      "[INFO 37:32] ----- User batch : 1\n",
      "[INFO 37:35] ----- User batch : 2\n",
      "[INFO 37:38] ----- User batch : 3\n",
      "[INFO 37:41] ----- User batch : 4\n",
      "[INFO 37:43] - learning_users_emb gn: 17.73394775390625\n",
      "[INFO 37:43] - learning_users_emb norm: 0.4144154191017151\n",
      "[INFO 37:43] - learning_users_emb: 0.03125\n",
      "[INFO 37:47] rmse : 0.6160128712654114\n",
      "[INFO 37:47] valid_rmse : 0.7877402305603027\n",
      "[INFO 37:47] valid_loss : 0.9389353394508362\n"
     ]
    },
    {
     "name": "stderr",
     "output_type": "stream",
     "text": [
      " 36%|███▌      | 36/100 [10:30<18:38, 17.47s/it]"
     ]
    },
    {
     "name": "stdout",
     "output_type": "stream",
     "text": [
      "[INFO 37:47] ----- User batch : 0\n",
      "[INFO 37:50] ----- User batch : 1\n",
      "[INFO 37:53] ----- User batch : 2\n",
      "[INFO 37:56] ----- User batch : 3\n",
      "[INFO 37:59] ----- User batch : 4\n",
      "[INFO 38:00] - learning_users_emb gn: 16.488035202026367\n",
      "[INFO 38:00] - learning_users_emb norm: 0.4225812256336212\n",
      "[INFO 38:00] - learning_users_emb: 0.03125\n",
      "[INFO 38:04] rmse : 0.6160128712654114\n",
      "[INFO 38:04] valid_rmse : 0.7877402305603027\n",
      "[INFO 38:04] valid_loss : 0.9390109181404114\n"
     ]
    },
    {
     "name": "stderr",
     "output_type": "stream",
     "text": [
      " 37%|███▋      | 37/100 [10:47<18:20, 17.48s/it]"
     ]
    },
    {
     "name": "stdout",
     "output_type": "stream",
     "text": [
      "[INFO 38:04] ----- User batch : 0\n",
      "[INFO 38:07] ----- User batch : 1\n",
      "[INFO 38:10] ----- User batch : 2\n",
      "[INFO 38:13] ----- User batch : 3\n",
      "[INFO 38:16] ----- User batch : 4\n",
      "[INFO 38:18] - learning_users_emb gn: 14.88646125793457\n",
      "[INFO 38:18] - learning_users_emb norm: 0.42797210812568665\n",
      "[INFO 38:18] - learning_users_emb: 0.03125\n",
      "[INFO 38:22] rmse : 0.6160128712654114\n",
      "[INFO 38:22] valid_rmse : 0.7877402305603027\n",
      "[INFO 38:22] valid_loss : 0.9390383958816528\n"
     ]
    },
    {
     "name": "stderr",
     "output_type": "stream",
     "text": [
      " 38%|███▊      | 38/100 [11:05<18:04, 17.49s/it]"
     ]
    },
    {
     "name": "stdout",
     "output_type": "stream",
     "text": [
      "[INFO 38:22] ----- User batch : 0\n",
      "[INFO 38:25] ----- User batch : 1\n",
      "[INFO 38:28] ----- User batch : 2\n",
      "[INFO 38:31] ----- User batch : 3\n",
      "[INFO 38:34] ----- User batch : 4\n",
      "[INFO 38:35] - learning_users_emb gn: 14.601287841796875\n",
      "[INFO 38:35] - learning_users_emb norm: 0.43039223551750183\n",
      "[INFO 38:35] - learning_users_emb: 0.015625\n",
      "[INFO 38:39] rmse : 0.6160128712654114\n",
      "[INFO 38:39] valid_rmse : 0.7877402305603027\n",
      "[INFO 38:39] valid_loss : 0.9390186667442322\n"
     ]
    },
    {
     "name": "stderr",
     "output_type": "stream",
     "text": [
      " 39%|███▉      | 39/100 [11:22<17:47, 17.50s/it]"
     ]
    },
    {
     "name": "stdout",
     "output_type": "stream",
     "text": [
      "[INFO 38:39] ----- User batch : 0\n",
      "[INFO 38:42] ----- User batch : 1\n",
      "[INFO 38:45] ----- User batch : 2\n",
      "[INFO 38:48] ----- User batch : 3\n",
      "[INFO 38:51] ----- User batch : 4\n",
      "[INFO 38:53] - learning_users_emb gn: 11.398521423339844\n",
      "[INFO 38:53] - learning_users_emb norm: 0.43019452691078186\n",
      "[INFO 38:53] - learning_users_emb: 0.015625\n",
      "[INFO 38:57] rmse : 0.6160128712654114\n",
      "[INFO 38:57] valid_rmse : 0.7877402305603027\n",
      "[INFO 38:57] valid_loss : 0.938984215259552\n"
     ]
    },
    {
     "name": "stderr",
     "output_type": "stream",
     "text": [
      " 40%|████      | 40/100 [11:40<17:31, 17.53s/it]"
     ]
    },
    {
     "name": "stdout",
     "output_type": "stream",
     "text": [
      "[INFO 38:57] ----- User batch : 0\n",
      "[INFO 39:00] ----- User batch : 1\n",
      "[INFO 39:03] ----- User batch : 2\n",
      "[INFO 39:06] ----- User batch : 3\n",
      "[INFO 39:09] ----- User batch : 4\n",
      "[INFO 39:10] - learning_users_emb gn: 14.172846794128418\n",
      "[INFO 39:10] - learning_users_emb norm: 0.42923423647880554\n",
      "[INFO 39:10] - learning_users_emb: 0.015625\n",
      "[INFO 39:14] rmse : 0.6160128712654114\n",
      "[INFO 39:14] valid_rmse : 0.7877402305603027\n",
      "[INFO 39:14] valid_loss : 0.93892502784729\n"
     ]
    },
    {
     "name": "stderr",
     "output_type": "stream",
     "text": [
      " 41%|████      | 41/100 [11:57<17:15, 17.55s/it]"
     ]
    },
    {
     "name": "stdout",
     "output_type": "stream",
     "text": [
      "[INFO 39:15] ----- User batch : 0\n",
      "[INFO 39:18] ----- User batch : 1\n",
      "[INFO 39:20] ----- User batch : 2\n",
      "[INFO 39:23] ----- User batch : 3\n",
      "[INFO 39:26] ----- User batch : 4\n",
      "[INFO 39:28] - learning_users_emb gn: 14.312177658081055\n",
      "[INFO 39:28] - learning_users_emb norm: 0.4271754026412964\n",
      "[INFO 39:28] - learning_users_emb: 0.0078125\n",
      "[INFO 39:32] rmse : 0.6160128712654114\n",
      "[INFO 39:32] valid_rmse : 0.7877402305603027\n",
      "[INFO 39:32] valid_loss : 0.9388920664787292\n"
     ]
    },
    {
     "name": "stderr",
     "output_type": "stream",
     "text": [
      " 42%|████▏     | 42/100 [12:15<16:58, 17.56s/it]"
     ]
    },
    {
     "name": "stdout",
     "output_type": "stream",
     "text": [
      "[INFO 39:32] ----- User batch : 0\n",
      "[INFO 39:35] ----- User batch : 1\n",
      "[INFO 39:38] ----- User batch : 2\n",
      "[INFO 39:41] ----- User batch : 3\n",
      "[INFO 39:44] ----- User batch : 4\n",
      "[INFO 39:45] - learning_users_emb gn: 13.123619079589844\n",
      "[INFO 39:45] - learning_users_emb norm: 0.42557066679000854\n",
      "[INFO 39:45] - learning_users_emb: 0.0078125\n",
      "[INFO 39:50] rmse : 0.6160128712654114\n",
      "[INFO 39:50] valid_rmse : 0.7877402305603027\n",
      "[INFO 39:50] valid_loss : 0.9388473033905029\n"
     ]
    },
    {
     "name": "stderr",
     "output_type": "stream",
     "text": [
      " 43%|████▎     | 43/100 [12:33<16:39, 17.54s/it]"
     ]
    },
    {
     "name": "stdout",
     "output_type": "stream",
     "text": [
      "[INFO 39:50] ----- User batch : 0\n",
      "[INFO 39:53] ----- User batch : 1\n",
      "[INFO 39:56] ----- User batch : 2\n",
      "[INFO 39:58] ----- User batch : 3\n",
      "[INFO 40:01] ----- User batch : 4\n",
      "[INFO 40:03] - learning_users_emb gn: 13.256937980651855\n",
      "[INFO 40:03] - learning_users_emb norm: 0.4234844446182251\n",
      "[INFO 40:03] - learning_users_emb: 0.0078125\n",
      "[INFO 40:07] rmse : 0.6066398620605469\n",
      "[INFO 40:07] valid_rmse : 0.7757542729377747\n",
      "[INFO 40:07] valid_loss : 0.9387899041175842\n"
     ]
    },
    {
     "name": "stderr",
     "output_type": "stream",
     "text": [
      " 44%|████▍     | 44/100 [12:50<16:19, 17.49s/it]"
     ]
    },
    {
     "name": "stdout",
     "output_type": "stream",
     "text": [
      "[INFO 40:07] ----- User batch : 0\n",
      "[INFO 40:10] ----- User batch : 1\n",
      "[INFO 40:13] ----- User batch : 2\n",
      "[INFO 40:16] ----- User batch : 3\n",
      "[INFO 40:19] ----- User batch : 4\n",
      "[INFO 40:20] - learning_users_emb gn: 12.665325164794922\n",
      "[INFO 40:20] - learning_users_emb norm: 0.42098790407180786\n",
      "[INFO 40:20] - learning_users_emb: 0.00390625\n",
      "[INFO 40:24] rmse : 0.6066398620605469\n",
      "[INFO 40:24] valid_rmse : 0.7757542729377747\n",
      "[INFO 40:24] valid_loss : 0.9387599229812622\n"
     ]
    },
    {
     "name": "stderr",
     "output_type": "stream",
     "text": [
      " 45%|████▌     | 45/100 [13:07<16:03, 17.51s/it]"
     ]
    },
    {
     "name": "stdout",
     "output_type": "stream",
     "text": [
      "[INFO 40:25] ----- User batch : 0\n",
      "[INFO 40:28] ----- User batch : 1\n",
      "[INFO 40:31] ----- User batch : 2\n",
      "[INFO 40:34] ----- User batch : 3\n",
      "[INFO 40:36] ----- User batch : 4\n",
      "[INFO 40:38] - learning_users_emb gn: 14.411944389343262\n",
      "[INFO 40:38] - learning_users_emb norm: 0.41957318782806396\n",
      "[INFO 40:38] - learning_users_emb: 0.00390625\n",
      "[INFO 40:42] rmse : 0.6066398620605469\n",
      "[INFO 40:42] valid_rmse : 0.7757542729377747\n",
      "[INFO 40:42] valid_loss : 0.9387263655662537\n"
     ]
    },
    {
     "name": "stderr",
     "output_type": "stream",
     "text": [
      " 45%|████▌     | 45/100 [13:25<16:24, 17.90s/it]"
     ]
    },
    {
     "name": "stdout",
     "output_type": "stream",
     "text": [
      "[INFO 40:42] -- END Training --\n",
      "[INFO 40:42] train on cuda\n"
     ]
    },
    {
     "name": "stderr",
     "output_type": "stream",
     "text": [
      "\n",
      "100%|██████████| 6/6 [00:04<00:00,  1.42it/s]\n"
     ]
    },
    {
     "name": "stdout",
     "output_type": "stream",
     "text": [
      "0.07389431460485107\n",
      "({0: {'mi_acc': 0.6615844368934631}, 1: {'mi_acc': 0.6615844368934631}, 2: {'mi_acc': 0.6615844368934631}, 3: {'mi_acc': 0.6615844368934631}, 4: {'mi_acc': 0.6615844368934631}, 5: {'mi_acc': 0.6615844368934631}}, {0: {'meta_doa': 0.5284317794068907}, 1: {'meta_doa': 0.5480420894515283}, 2: {'meta_doa': 0.5676536835446419}, 3: {'meta_doa': 0.5865667732627711}, 4: {'meta_doa': 0.6061013953574441}, 5: {'meta_doa': 0.6205151192129748}})\n"
     ]
    }
   ],
   "source": [
    "\n",
    "for seed in range(1) :\n",
    "    config['seed'] = seed\n",
    "    logging.info(f'#### seed : {seed} ####')\n",
    "    \n",
    "    train_data.reset_rng()\n",
    "    valid_data.reset_rng()\n",
    "    test_data.reset_rng()\n",
    "\n",
    "\n",
    "    S = liriscat.selectionStrategy.Random(metadata,**config)\n",
    "    S.init_models(train_data, valid_data)\n",
    "    S.train(train_data, valid_data)\n",
    "    liriscat.utils.set_seed(0)\n",
    "    S.reset_rng()\n",
    "    d = (S.evaluate_test(test_data, train_data, valid_data))\n",
    "    print(liriscat.utils.pareto_index(d))\n",
    "    print(d)\n",
    "    torch.cuda.empty_cache()"
   ]
  },
  {
   "cell_type": "code",
   "execution_count": null,
   "id": "f873a41e",
   "metadata": {},
   "outputs": [],
   "source": []
  }
 ],
 "metadata": {
  "kernelspec": {
   "display_name": "Python (liriscat no frozen)",
   "language": "python",
   "name": "liriscat-nofrozen"
  },
  "language_info": {
   "codemirror_mode": {
    "name": "ipython",
    "version": 3
   },
   "file_extension": ".py",
   "mimetype": "text/x-python",
   "name": "python",
   "nbconvert_exporter": "python",
   "pygments_lexer": "ipython3",
   "version": "3.11.11"
  }
 },
 "nbformat": 4,
 "nbformat_minor": 5
}
