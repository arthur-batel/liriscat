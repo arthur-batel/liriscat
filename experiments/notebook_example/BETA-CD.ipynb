{
 "cells": [
  {
   "cell_type": "markdown",
   "id": "78a21ce669eb601d",
   "metadata": {},
   "source": [
    "# micat paper experiments\n",
    "### 1. Init\n",
    "#### 1.1. Import libraries (necessary)"
   ]
  },
  {
   "cell_type": "code",
   "execution_count": 1,
   "id": "5b0d5d27c5b782ec",
   "metadata": {
    "ExecuteTime": {
     "end_time": "2025-03-28T16:00:43.125550Z",
     "start_time": "2025-03-28T16:00:41.971774Z"
    }
   },
   "outputs": [],
   "source": [
    "%load_ext autoreload\n",
    "%autoreload 2\n",
    "\n",
    "import os\n",
    "os.environ[\"PYTORCH_CUDA_ALLOC_CONF\"] = \"expandable_segments:True\"\n",
    "os.environ[\"PYTHONHASHSEED\"] = \"0\"\n",
    "os.environ['CUBLAS_WORKSPACE_CONFIG'] = \":4096:8\"\n",
    "\n",
    "import micat\n",
    "micat.utils.set_seed(0)\n",
    "\n",
    "import logging\n",
    "import gc\n",
    "import json\n",
    "import torch\n",
    "micat.utils.set_seed(0)\n",
    "import pandas as pd\n",
    "from importlib import reload"
   ]
  },
  {
   "cell_type": "markdown",
   "id": "32ab0bc4902808a9",
   "metadata": {},
   "source": [
    "#### 1.2. Set up the loggers (recommended)"
   ]
  },
  {
   "cell_type": "code",
   "execution_count": 2,
   "id": "b358c4709ccb3845",
   "metadata": {
    "ExecuteTime": {
     "end_time": "2025-03-27T16:01:06.271337Z",
     "start_time": "2025-03-27T16:01:06.259238Z"
    }
   },
   "outputs": [],
   "source": [
    "micat.utils.setuplogger(verbose = True, log_name=\"micat\", debug=False)"
   ]
  },
  {
   "cell_type": "markdown",
   "id": "5e97a539f6607db0",
   "metadata": {},
   "source": [
    "### 2. CDM prediction\n",
    "#### 2.1. Training and testing, sequential version"
   ]
  },
  {
   "cell_type": "code",
   "execution_count": 3,
   "id": "83d2be5c98d6482",
   "metadata": {
    "ExecuteTime": {
     "end_time": "2025-03-27T16:01:07.182919Z",
     "start_time": "2025-03-27T16:01:06.322894Z"
    }
   },
   "outputs": [],
   "source": [
    "import warnings\n",
    "\n",
    "gc.collect()\n",
    "torch.cuda.empty_cache()"
   ]
  },
  {
   "cell_type": "code",
   "execution_count": 4,
   "id": "1a54dc4f99eadbfa",
   "metadata": {},
   "outputs": [
    {
     "name": "stdout",
     "output_type": "stream",
     "text": [
      "CUDA is available. Using GPU.\n",
      "[INFO 58:47] algebra\n"
     ]
    }
   ],
   "source": [
    "config = micat.utils.generate_eval_config(load_params=True, esc = 'error', CDM='ncdm', valid_metric= 'mi_acc', pred_metrics = [\"mi_acc\"], profile_metrics = ['meta_doa'], save_params=False, n_query=6, num_epochs=100, batch_size=512)\n",
    "micat.utils.set_seed(config[\"seed\"])\n",
    "\n",
    "config[\"dataset_name\"] = \"algebra\"\n",
    "logging.info(config[\"dataset_name\"])\n",
    "config['learning_rate'] = 0.0001\n",
    "config['inner_user_lr'] = 0.016848380924625605\n",
    "config['lambda'] = 9.972254466547545e-06\n",
    "\n",
    "config['meta_lr'] = 0.05\n",
    "config['kl_weight'] = 1e-3\n",
    "config['patience'] = 20#5\n",
    "config['num_inner_users_epochs'] = 3\n",
    "config['d_in'] = 4\n",
    "config['num_responses'] = 12\n",
    "\n",
    "#pred_metrics,df_interp = test(config)"
   ]
  },
  {
   "cell_type": "code",
   "execution_count": 5,
   "id": "73dcbf76e1d61f2a",
   "metadata": {},
   "outputs": [
    {
     "name": "stdout",
     "output_type": "stream",
     "text": [
      "[INFO 58:47] #### algebra ####\n",
      "[INFO 58:47] #### config : {'seed': 0, 'dataset_name': 'algebra', 'load_params': True, 'save_params': False, 'embs_path': '../embs/', 'params_path': '../ckpt/', 'early_stopping': True, 'esc': 'error', 'verbose_early_stopping': False, 'disable_tqdm': False, 'valid_metric': 'mi_acc', 'learning_rate': 0.0001, 'batch_size': 512, 'valid_batch_size': 10000, 'num_epochs': 100, 'eval_freq': 1, 'patience': 20, 'device': device(type='cuda'), 'lambda': 9.972254466547545e-06, 'tensorboard': False, 'flush_freq': True, 'pred_metrics': ['mi_acc'], 'profile_metrics': ['meta_doa'], 'num_responses': 12, 'low_mem': False, 'n_query': 6, 'CDM': 'ncdm', 'i_fold': 0, 'num_inner_users_epochs': 3, 'num_inner_epochs': 10, 'inner_lr': 0.0001, 'inner_user_lr': 0.016848380924625605, 'meta_lr': 0.05, 'meta_trainer': 'Adam', 'num_workers': 0, 'pin_memory': False, 'debug': False, 'kl_weight': 0.001, 'd_in': 4} ####\n"
     ]
    }
   ],
   "source": [
    "logging.info(f'#### {config[\"dataset_name\"]} ####')\n",
    "logging.info(f'#### config : {config} ####')\n",
    "config['embs_path']='../embs/'\n",
    "config['params_path']='../ckpt/'\n",
    "\n",
    "gc.collect()\n",
    "torch.cuda.empty_cache()\n",
    "\n",
    "# Dataset downloading for doa and rm\n",
    "warnings.filterwarnings(\"ignore\", message=\"invalid value encountered in divide\")\n",
    "warnings.filterwarnings(\"ignore\", category=RuntimeWarning)\n",
    "\n",
    "## Concept map format : {question_id : [category_id1, category_id2, ...]}\n",
    "concept_map = json.load(open(f'../datasets/2-preprocessed_data/{config[\"dataset_name\"]}_concept_map.json', 'r'))\n",
    "concept_map = {int(k): [int(x) for x in v] for k, v in concept_map.items()}\n",
    "\n",
    "## Metadata map format : {\"num_user_id\": ..., \"num_item_id\": ..., \"num_dimension_id\": ...}\n",
    "metadata = json.load(open(f'../datasets/2-preprocessed_data/{config[\"dataset_name\"]}_metadata.json', 'r'))\n",
    "\n",
    "\n",
    "## Tensor containing the nb of modalities per question\n",
    "nb_modalities = torch.load(f'../datasets/2-preprocessed_data/{config[\"dataset_name\"]}_nb_modalities.pkl',weights_only=True)\n"
   ]
  },
  {
   "cell_type": "code",
   "execution_count": 6,
   "id": "e868c02b",
   "metadata": {},
   "outputs": [],
   "source": [
    "def pareto_index(d) : \n",
    "    d_acc = d[0]\n",
    "    d_meta = d[1]\n",
    "\n",
    "    r = []\n",
    "\n",
    "    for i in range(len(d_acc)):\n",
    "        r.append((0.5-d_acc[i]['mi_acc'])*(0.5-d_meta[i]['meta_doa']))\n",
    "    return sum(r)"
   ]
  },
  {
   "cell_type": "code",
   "execution_count": 9,
   "id": "846a5c594351413e",
   "metadata": {},
   "outputs": [
    {
     "name": "stdout",
     "output_type": "stream",
     "text": [
      "[INFO 01:43] #### meta_trainer : Adam ####\n",
      "[INFO 01:43] #### i_fold : 0 ####\n",
      "[INFO 02:11] #### seed : 0 ####\n",
      "[INFO 02:11] Random_cont_model\n",
      "../ckpt/algebra_NCDM_fold_0_seed_0\n",
      "[INFO 02:11] compiling selection model\n",
      "[INFO 02:11] ------- START Training\n",
      "[INFO 02:11] train on cuda\n"
     ]
    },
    {
     "ename": "ValueError",
     "evalue": "Unknown meta trainer: Adam",
     "output_type": "error",
     "traceback": [
      "\u001b[0;31m---------------------------------------------------------------------------\u001b[0m",
      "\u001b[0;31mValueError\u001b[0m                                Traceback (most recent call last)",
      "Cell \u001b[0;32mIn[9], line 37\u001b[0m\n\u001b[1;32m     35\u001b[0m S \u001b[38;5;241m=\u001b[39m micat\u001b[38;5;241m.\u001b[39mselectionStrategy\u001b[38;5;241m.\u001b[39mRandom(metadata,\u001b[38;5;241m*\u001b[39m\u001b[38;5;241m*\u001b[39mconfig)\n\u001b[1;32m     36\u001b[0m S\u001b[38;5;241m.\u001b[39minit_models(train_data, valid_data)\n\u001b[0;32m---> 37\u001b[0m \u001b[43mS\u001b[49m\u001b[38;5;241;43m.\u001b[39;49m\u001b[43mtrain\u001b[49m\u001b[43m(\u001b[49m\u001b[43mtrain_data\u001b[49m\u001b[43m,\u001b[49m\u001b[43m \u001b[49m\u001b[43mvalid_data\u001b[49m\u001b[43m)\u001b[49m\n\u001b[1;32m     38\u001b[0m micat\u001b[38;5;241m.\u001b[39mutils\u001b[38;5;241m.\u001b[39mset_seed(\u001b[38;5;241m0\u001b[39m)\n\u001b[1;32m     39\u001b[0m S\u001b[38;5;241m.\u001b[39mreset_rng()\n",
      "File \u001b[0;32m/lustre/fsn1/projects/rech/enh/unv34ei/micat/micat/selectionStrategy/abstract_selection_strategy.py:979\u001b[0m, in \u001b[0;36mAbstractSelectionStrategy.train\u001b[0;34m(self, train_dataset, valid_dataset)\u001b[0m\n\u001b[1;32m    977\u001b[0m         \u001b[38;5;28;01mpass\u001b[39;00m\n\u001b[1;32m    978\u001b[0m     \u001b[38;5;28;01mcase\u001b[39;00m\u001b[38;5;250m \u001b[39m\u001b[38;5;28;01m_\u001b[39;00m:\n\u001b[0;32m--> 979\u001b[0m         \u001b[38;5;28;01mraise\u001b[39;00m \u001b[38;5;167;01mValueError\u001b[39;00m(\u001b[38;5;124mf\u001b[39m\u001b[38;5;124m\"\u001b[39m\u001b[38;5;124mUnknown meta trainer: \u001b[39m\u001b[38;5;132;01m{\u001b[39;00m\u001b[38;5;28mself\u001b[39m\u001b[38;5;241m.\u001b[39mconfig[\u001b[38;5;124m'\u001b[39m\u001b[38;5;124mmeta_trainer\u001b[39m\u001b[38;5;124m'\u001b[39m]\u001b[38;5;132;01m}\u001b[39;00m\u001b[38;5;124m\"\u001b[39m)\n\u001b[1;32m    981\u001b[0m \u001b[38;5;66;03m# Initialize early stopping parameters\u001b[39;00m\n\u001b[1;32m    982\u001b[0m \u001b[38;5;28mself\u001b[39m\u001b[38;5;241m.\u001b[39mbest_epoch \u001b[38;5;241m=\u001b[39m \u001b[38;5;241m0\u001b[39m\n",
      "\u001b[0;31mValueError\u001b[0m: Unknown meta trainer: Adam"
     ]
    }
   ],
   "source": [
    "meta_trainers = ['Adam']\n",
    "for meta_trainer in meta_trainers : \n",
    "    config['meta_trainer'] = meta_trainer\n",
    "    logging.info(f'#### meta_trainer : {config[\"meta_trainer\"]} ####')\n",
    "    for i_fold in range(1) : \n",
    "        config['i_fold'] = i_fold\n",
    "            \n",
    "        logging.info(f'#### i_fold : {i_fold} ####')\n",
    "        ## Dataframe columns : (user_id, question_id, response, category_id)\n",
    "        train_df = pd.read_csv(\n",
    "            f'../datasets/2-preprocessed_data/{config[\"dataset_name\"]}_train_{i_fold}.csv',\n",
    "            encoding='utf-8', dtype={'student_id': int, 'item_id': int, \"correct\": float,\n",
    "                                                                    \"dimension_id\": int})\n",
    "        valid_df = pd.read_csv(\n",
    "            f'../datasets/2-preprocessed_data/{config[\"dataset_name\"]}_valid_{i_fold}.csv',\n",
    "            encoding='utf-8', dtype={'student_id': int, 'item_id': int, \"correct\": float,\n",
    "                                                                    \"dimension_id\": int})\n",
    "        test_df = pd.read_csv(\n",
    "            f'../datasets/2-preprocessed_data/{config[\"dataset_name\"]}_test_{i_fold}.csv',\n",
    "            encoding='utf-8', dtype={'student_id': int, 'item_id': int, \"correct\": float,\n",
    "                                                                    \"dimension_id\": int})\n",
    "\n",
    "        train_data = micat.dataset.CATDataset(train_df, concept_map, metadata, config,nb_modalities)\n",
    "        valid_data = micat.dataset.EvalDataset(valid_df, concept_map, metadata, config,nb_modalities)\n",
    "        test_data = micat.dataset.EvalDataset(test_df, concept_map, metadata, config,nb_modalities)\n",
    "\n",
    "        for seed in range(1) :\n",
    "            config['seed'] = seed\n",
    "            logging.info(f'#### seed : {seed} ####')\n",
    "\n",
    "            train_data.reset_rng()\n",
    "            valid_data.reset_rng()\n",
    "            test_data.reset_rng()\n",
    "\n",
    "            S = micat.selectionStrategy.Random(metadata,**config)\n",
    "            S.init_models(train_data, valid_data)\n",
    "            S.train(train_data, valid_data)\n",
    "            micat.utils.set_seed(0)\n",
    "            S.reset_rng()\n",
    "            d = (S.evaluate_test(test_data, train_data, valid_data))\n",
    "            logging.info(d)\n",
    "            logging.info(pareto_index(d))\n",
    "\n",
    "    torch.cuda.empty_cache()"
   ]
  }
 ],
 "metadata": {
  "kernelspec": {
   "display_name": "pytorch-gpu-2.7.0_py3.12.10",
   "language": "python",
   "name": "module-conda-env-pytorch-gpu-2.7.0_py3.12.10"
  },
  "language_info": {
   "codemirror_mode": {
    "name": "ipython",
    "version": 3
   },
   "file_extension": ".py",
   "mimetype": "text/x-python",
   "name": "python",
   "nbconvert_exporter": "python",
   "pygments_lexer": "ipython3",
   "version": "3.12.10"
  }
 },
 "nbformat": 4,
 "nbformat_minor": 5
}